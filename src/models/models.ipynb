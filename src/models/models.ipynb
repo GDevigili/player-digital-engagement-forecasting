{
 "cells": [
  {
   "cell_type": "markdown",
   "metadata": {},
   "source": [
    "# Models\n",
    "(arranjar um nome melhor para o notebook)\n",
    "\n",
    "Notebook para o treinamento de modelos"
   ]
  },
  {
   "cell_type": "code",
   "execution_count": 2,
   "metadata": {},
   "outputs": [
    {
     "name": "stderr",
     "output_type": "stream",
     "text": [
      "2023-03-26 19:57:51.413744: I tensorflow/core/platform/cpu_feature_guard.cc:193] This TensorFlow binary is optimized with oneAPI Deep Neural Network Library (oneDNN) to use the following CPU instructions in performance-critical operations:  AVX2 FMA\n",
      "To enable them in other operations, rebuild TensorFlow with the appropriate compiler flags.\n",
      "2023-03-26 19:57:52.106740: W tensorflow/compiler/xla/stream_executor/platform/default/dso_loader.cc:64] Could not load dynamic library 'libcudart.so.11.0'; dlerror: libcudart.so.11.0: cannot open shared object file: No such file or directory\n",
      "2023-03-26 19:57:52.106753: I tensorflow/compiler/xla/stream_executor/cuda/cudart_stub.cc:29] Ignore above cudart dlerror if you do not have a GPU set up on your machine.\n",
      "2023-03-26 19:57:53.682357: W tensorflow/compiler/xla/stream_executor/platform/default/dso_loader.cc:64] Could not load dynamic library 'libnvinfer.so.7'; dlerror: libnvinfer.so.7: cannot open shared object file: No such file or directory\n",
      "2023-03-26 19:57:53.682870: W tensorflow/compiler/xla/stream_executor/platform/default/dso_loader.cc:64] Could not load dynamic library 'libnvinfer_plugin.so.7'; dlerror: libnvinfer_plugin.so.7: cannot open shared object file: No such file or directory\n",
      "2023-03-26 19:57:53.682891: W tensorflow/compiler/tf2tensorrt/utils/py_utils.cc:38] TF-TRT Warning: Cannot dlopen some TensorRT libraries. If you would like to use Nvidia GPU with TensorRT, please make sure the missing libraries mentioned above are installed properly.\n"
     ]
    }
   ],
   "source": [
    "import random\n",
    "import pickle\n",
    "\n",
    "# Data manipulation\n",
    "import pandas as pd\n",
    "import numpy as np\n",
    "\n",
    "# Data visualization\n",
    "import matplotlib.pyplot as plt\n",
    "import seaborn as sns\n",
    "\n",
    "# models\n",
    "import sklearn\n",
    "import sktime\n",
    "import keras\n",
    "import statsmodels.api as sm\n",
    "from sktime.forecasting.naive import NaiveForecaster\n",
    "from sktime.forecasting.exp_smoothing import ExponentialSmoothing\n",
    "from tensorflow import keras\n",
    "from tensorflow.keras import layers\n",
    "\n",
    "# model selection and metrics\n",
    "from sklearn.model_selection import TimeSeriesSplit\n",
    "from sklearn.metrics import mean_absolute_error\n",
    "from sklearn.feature_selection import RFE\n",
    "\n",
    "# constants\n",
    "PROCESSED_DATA_PATH = '../data/processed-data/'\n",
    "MODEL_PATH = '../models/trained-models/'\n",
    "TARGET_COLS = ['target1', 'target2', 'target3', 'target4']\n",
    "TEST_SPLIT_DATE = '2021-04-30'\n",
    "\n",
    "# disable warnings\n",
    "import warnings\n",
    "warnings.filterwarnings(\"ignore\", category=DeprecationWarning)\n",
    "warnings.filterwarnings(\"ignore\", category=FutureWarning)\n",
    "pd.options.mode.chained_assignment = None  # default='warn'"
   ]
  },
  {
   "cell_type": "markdown",
   "metadata": {},
   "source": [
    "## Auxiliary Functions"
   ]
  },
  {
   "attachments": {},
   "cell_type": "markdown",
   "metadata": {},
   "source": [
    "### EDA"
   ]
  },
  {
   "cell_type": "code",
   "execution_count": 3,
   "metadata": {},
   "outputs": [],
   "source": [
    "def plot_time_series(df, groupby = 'median', cols = TARGET_COLS):\n",
    "    df_melted = df.groupby('Dt').median()[cols]\\\n",
    "    .melt(var_name='target', value_name='value', ignore_index=False)\n",
    "    df_melted.reset_index(inplace=True)\n",
    "\n",
    "    sns.set(rc={'figure.figsize':(10,20)})\n",
    "    sns.FacetGrid(df_melted, col='target', col_wrap=2, height=9,aspect=2, sharey=False)\\\n",
    "    .map(sns.lineplot, 'Dt', 'value');"
   ]
  },
  {
   "cell_type": "code",
   "execution_count": 4,
   "metadata": {},
   "outputs": [],
   "source": [
    "def plot_train_test_pred(train, test, pred = pd.DataFrame(), groupby = 'median', cols = TARGET_COLS):\n",
    "    train['type'] = 'train'\n",
    "    test['type'] = 'test'\n",
    "    pred['type'] = 'pred'\n",
    "    \n",
    "    cols.append('type')\n",
    "\n",
    "    df = pd.concat([train, test, pred], axis=0)\n",
    "    df_melted = df.groupby('Dt').median()[cols]\\\n",
    "        .melt(var_name='target', value_name='value', ignore_index=False)\n",
    "    df_melted.reset_index(inplace=True)\n",
    "    \n",
    "    sns.set(rc={'figure.figsize':(10,20)})\n",
    "    sns.FacetGrid(df_melted, col='target', col_wrap=2, height=9,aspect=2, sharey=False)\\\n",
    "        .map(sns.lineplot, 'Dt', 'value', hue='type');"
   ]
  },
  {
   "cell_type": "markdown",
   "metadata": {},
   "source": [
    "### Metrics"
   ]
  },
  {
   "cell_type": "code",
   "execution_count": 179,
   "metadata": {},
   "outputs": [],
   "source": [
    "def evaluate_mae(y_true, y_pred):\n",
    "    maes = {}\n",
    "    for target in TARGET_COLS:\n",
    "        mae = mean_absolute_error(y_true[target], y_pred[target])\n",
    "        maes[target] = mae\n",
    "    return maes"
   ]
  },
  {
   "attachments": {},
   "cell_type": "markdown",
   "metadata": {},
   "source": [
    "## Data Preparation\n",
    "\n",
    "Apenas realizar modificações necessárias para os modelos como *splitting* dos datasets e normalização. Toda a limpeza de dados deve ser feita em **/src/data-engineering/data-preparation**"
   ]
  },
  {
   "cell_type": "markdown",
   "metadata": {},
   "source": [
    "### Loading the data"
   ]
  },
  {
   "cell_type": "code",
   "execution_count": 5,
   "metadata": {},
   "outputs": [
    {
     "name": "stdout",
     "output_type": "stream",
     "text": [
      "CPU times: user 1 µs, sys: 0 ns, total: 1 µs\n",
      "Wall time: 3.1 µs\n"
     ]
    }
   ],
   "source": [
    "%%time\n",
    "# df_targets = pd.read_pickle(PROCESSED_DATA_PATH + 'targets.pkl')"
   ]
  },
  {
   "cell_type": "code",
   "execution_count": 6,
   "metadata": {},
   "outputs": [],
   "source": [
    "# df_targets"
   ]
  },
  {
   "cell_type": "markdown",
   "metadata": {},
   "source": [
    "### Sorting by IdPlayer"
   ]
  },
  {
   "cell_type": "code",
   "execution_count": 7,
   "metadata": {},
   "outputs": [],
   "source": [
    "# # sort by player then by date\n",
    "# df_targets.sort_values(by=['IdPlayer', 'Dt'], inplace=True)\n",
    "# # reset index\n",
    "# df_targets.reset_index(drop=True, inplace=True)\n",
    "# df_targets"
   ]
  },
  {
   "cell_type": "code",
   "execution_count": 8,
   "metadata": {},
   "outputs": [],
   "source": [
    "# Example dataset\n",
    "# df_targets = df_targets[df_targets['IdPlayer'].isin([112526, 685503, 628317])]\n",
    "# df_targets"
   ]
  },
  {
   "cell_type": "markdown",
   "metadata": {},
   "source": [
    "### Shifting"
   ]
  },
  {
   "cell_type": "code",
   "execution_count": 9,
   "metadata": {},
   "outputs": [],
   "source": [
    "# %%time\n",
    "# # Make the shifts for each target\n",
    "# shift_vals = [1, 2, 3, 4, 5, 6, 7, 14, 30]\n",
    "# df = pd.DataFrame()\n",
    "# # Iterate over players to make the shift only using the player data\n",
    "# for player in df_targets['IdPlayer'].unique():\n",
    "#     df_player = df_targets[df_targets['IdPlayer'] == player]\n",
    "#     # Iterate over the pre-defined shift values\n",
    "#     for shift_val in shift_vals:\n",
    "#         # Iterate over the targets\n",
    "#         for target in TARGET_COLS:\n",
    "#             # Make the shift\n",
    "#             df_player[f'{target}_shift_{shift_val}'] = df_player[target].shift(shift_val)\n",
    "#     # Concatenate the player data with the rest of the data\n",
    "#     df = pd.concat([df, df_player], axis=0)\n",
    "#     # Remove the player data from memory\n",
    "#     del df_player\n",
    "# # Remove the original targets from memory\n",
    "# del df_targets"
   ]
  },
  {
   "cell_type": "code",
   "execution_count": 10,
   "metadata": {},
   "outputs": [],
   "source": [
    "# df[df['IdPlayer'] == 628317].head(10)"
   ]
  },
  {
   "cell_type": "code",
   "execution_count": 11,
   "metadata": {},
   "outputs": [],
   "source": [
    "# df[df['IdPlayer'] == 112526].head(5)"
   ]
  },
  {
   "cell_type": "code",
   "execution_count": 12,
   "metadata": {},
   "outputs": [],
   "source": [
    "# pd.to_pickle(df, PROCESSED_DATA_PATH + 'shifted_targets.pkl')\n",
    "df = pd.read_pickle(PROCESSED_DATA_PATH + 'shifted_targets.pkl')"
   ]
  },
  {
   "cell_type": "markdown",
   "metadata": {},
   "source": [
    "### NaN handling"
   ]
  },
  {
   "cell_type": "code",
   "execution_count": 13,
   "metadata": {},
   "outputs": [],
   "source": [
    "df.dropna(inplace=True)"
   ]
  },
  {
   "cell_type": "markdown",
   "metadata": {},
   "source": [
    "### Train Test Split"
   ]
  },
  {
   "cell_type": "code",
   "execution_count": 14,
   "metadata": {},
   "outputs": [],
   "source": [
    "# train test split\n",
    "train = df[df['Dt'] <= '2021-04-30']\n",
    "y_train = train[TARGET_COLS]\n",
    "x_train = train.drop(TARGET_COLS, axis=1)\n",
    "test = df[df['Dt'] > TEST_SPLIT_DATE]\n",
    "y_test = test[TARGET_COLS]\n",
    "x_test = test.drop(TARGET_COLS, axis=1)"
   ]
  },
  {
   "cell_type": "code",
   "execution_count": 15,
   "metadata": {},
   "outputs": [
    {
     "data": {
      "text/plain": [
       "(2444346, 43)"
      ]
     },
     "execution_count": 15,
     "metadata": {},
     "output_type": "execute_result"
    }
   ],
   "source": [
    "train.shape"
   ]
  },
  {
   "cell_type": "code",
   "execution_count": 16,
   "metadata": {},
   "outputs": [
    {
     "data": {
      "text/plain": [
       "(189612, 43)"
      ]
     },
     "execution_count": 16,
     "metadata": {},
     "output_type": "execute_result"
    }
   ],
   "source": [
    "test.shape"
   ]
  },
  {
   "cell_type": "code",
   "execution_count": 17,
   "metadata": {},
   "outputs": [],
   "source": [
    "del df"
   ]
  },
  {
   "cell_type": "markdown",
   "metadata": {},
   "source": [
    "### Data Normalization"
   ]
  },
  {
   "cell_type": "code",
   "execution_count": null,
   "metadata": {},
   "outputs": [],
   "source": []
  },
  {
   "cell_type": "markdown",
   "metadata": {},
   "source": [
    "## Training"
   ]
  },
  {
   "cell_type": "markdown",
   "metadata": {},
   "source": [
    "### Baseline Models"
   ]
  },
  {
   "cell_type": "markdown",
   "metadata": {},
   "source": [
    "#### Naive"
   ]
  },
  {
   "cell_type": "code",
   "execution_count": 18,
   "metadata": {},
   "outputs": [],
   "source": [
    "def naive(test):\n",
    "    y_pred = pd.DataFrame(columns=TARGET_COLS)\n",
    "    for target in TARGET_COLS:\n",
    "        y_pred[target] = test[target + '_shift_1']\n",
    "    return y_pred"
   ]
  },
  {
   "cell_type": "code",
   "execution_count": 19,
   "metadata": {},
   "outputs": [
    {
     "name": "stdout",
     "output_type": "stream",
     "text": [
      "CPU times: user 22.9 ms, sys: 0 ns, total: 22.9 ms\n",
      "Wall time: 22 ms\n"
     ]
    },
    {
     "data": {
      "text/html": [
       "<div>\n",
       "<style scoped>\n",
       "    .dataframe tbody tr th:only-of-type {\n",
       "        vertical-align: middle;\n",
       "    }\n",
       "\n",
       "    .dataframe tbody tr th {\n",
       "        vertical-align: top;\n",
       "    }\n",
       "\n",
       "    .dataframe thead th {\n",
       "        text-align: right;\n",
       "    }\n",
       "</style>\n",
       "<table border=\"1\" class=\"dataframe\">\n",
       "  <thead>\n",
       "    <tr style=\"text-align: right;\">\n",
       "      <th></th>\n",
       "      <th>target1</th>\n",
       "      <th>target2</th>\n",
       "      <th>target3</th>\n",
       "      <th>target4</th>\n",
       "    </tr>\n",
       "  </thead>\n",
       "  <tbody>\n",
       "    <tr>\n",
       "      <th>1216</th>\n",
       "      <td>0.009073</td>\n",
       "      <td>0.412742</td>\n",
       "      <td>0.020685</td>\n",
       "      <td>100.000000</td>\n",
       "    </tr>\n",
       "    <tr>\n",
       "      <th>1217</th>\n",
       "      <td>0.006267</td>\n",
       "      <td>0.643099</td>\n",
       "      <td>0.071587</td>\n",
       "      <td>100.000000</td>\n",
       "    </tr>\n",
       "    <tr>\n",
       "      <th>1218</th>\n",
       "      <td>0.011920</td>\n",
       "      <td>0.605747</td>\n",
       "      <td>0.036597</td>\n",
       "      <td>100.000000</td>\n",
       "    </tr>\n",
       "    <tr>\n",
       "      <th>1219</th>\n",
       "      <td>0.003875</td>\n",
       "      <td>0.488195</td>\n",
       "      <td>0.072502</td>\n",
       "      <td>44.480946</td>\n",
       "    </tr>\n",
       "    <tr>\n",
       "      <th>1220</th>\n",
       "      <td>0.004221</td>\n",
       "      <td>0.163703</td>\n",
       "      <td>0.018476</td>\n",
       "      <td>11.722289</td>\n",
       "    </tr>\n",
       "  </tbody>\n",
       "</table>\n",
       "</div>"
      ],
      "text/plain": [
       "       target1   target2   target3     target4\n",
       "1216  0.009073  0.412742  0.020685  100.000000\n",
       "1217  0.006267  0.643099  0.071587  100.000000\n",
       "1218  0.011920  0.605747  0.036597  100.000000\n",
       "1219  0.003875  0.488195  0.072502   44.480946\n",
       "1220  0.004221  0.163703  0.018476   11.722289"
      ]
     },
     "execution_count": 19,
     "metadata": {},
     "output_type": "execute_result"
    }
   ],
   "source": [
    "%%time\n",
    "y_pred_naive = naive(test)\n",
    "y_pred_naive.head(5)"
   ]
  },
  {
   "cell_type": "code",
   "execution_count": 20,
   "metadata": {},
   "outputs": [
    {
     "data": {
      "text/html": [
       "<div>\n",
       "<style scoped>\n",
       "    .dataframe tbody tr th:only-of-type {\n",
       "        vertical-align: middle;\n",
       "    }\n",
       "\n",
       "    .dataframe tbody tr th {\n",
       "        vertical-align: top;\n",
       "    }\n",
       "\n",
       "    .dataframe thead th {\n",
       "        text-align: right;\n",
       "    }\n",
       "</style>\n",
       "<table border=\"1\" class=\"dataframe\">\n",
       "  <thead>\n",
       "    <tr style=\"text-align: right;\">\n",
       "      <th></th>\n",
       "      <th>target1</th>\n",
       "      <th>target2</th>\n",
       "      <th>target3</th>\n",
       "      <th>target4</th>\n",
       "    </tr>\n",
       "  </thead>\n",
       "  <tbody>\n",
       "    <tr>\n",
       "      <th>1216</th>\n",
       "      <td>0.006267</td>\n",
       "      <td>0.643099</td>\n",
       "      <td>0.071587</td>\n",
       "      <td>100.000000</td>\n",
       "    </tr>\n",
       "    <tr>\n",
       "      <th>1217</th>\n",
       "      <td>0.011920</td>\n",
       "      <td>0.605747</td>\n",
       "      <td>0.036597</td>\n",
       "      <td>100.000000</td>\n",
       "    </tr>\n",
       "    <tr>\n",
       "      <th>1218</th>\n",
       "      <td>0.003875</td>\n",
       "      <td>0.488195</td>\n",
       "      <td>0.072502</td>\n",
       "      <td>44.480946</td>\n",
       "    </tr>\n",
       "    <tr>\n",
       "      <th>1219</th>\n",
       "      <td>0.004221</td>\n",
       "      <td>0.163703</td>\n",
       "      <td>0.018476</td>\n",
       "      <td>11.722289</td>\n",
       "    </tr>\n",
       "    <tr>\n",
       "      <th>1220</th>\n",
       "      <td>0.007261</td>\n",
       "      <td>0.300970</td>\n",
       "      <td>0.015403</td>\n",
       "      <td>3.065583</td>\n",
       "    </tr>\n",
       "  </tbody>\n",
       "</table>\n",
       "</div>"
      ],
      "text/plain": [
       "       target1   target2   target3     target4\n",
       "1216  0.006267  0.643099  0.071587  100.000000\n",
       "1217  0.011920  0.605747  0.036597  100.000000\n",
       "1218  0.003875  0.488195  0.072502   44.480946\n",
       "1219  0.004221  0.163703  0.018476   11.722289\n",
       "1220  0.007261  0.300970  0.015403    3.065583"
      ]
     },
     "execution_count": 20,
     "metadata": {},
     "output_type": "execute_result"
    }
   ],
   "source": [
    "test[TARGET_COLS].head(5)"
   ]
  },
  {
<<<<<<< Updated upstream
=======
   "cell_type": "code",
   "execution_count": 182,
   "metadata": {},
   "outputs": [
    {
     "name": "stdout",
     "output_type": "stream",
     "text": [
      "{'target1': 0.79400975, 'target2': 1.3495612, 'target3': 0.6262685, 'target4': 0.80901253}\n"
     ]
    },
    {
     "data": {
      "text/plain": [
       "0.8947129994630814"
      ]
     },
     "execution_count": 182,
     "metadata": {},
     "output_type": "execute_result"
    }
   ],
   "source": [
    "print(evaluate_mae(y_test, y_pred_naive))\n",
    "sum(evaluate_mae(y_test, y_pred_naive).values())/4"
   ]
  },
  {
   "attachments": {},
>>>>>>> Stashed changes
   "cell_type": "markdown",
   "metadata": {},
   "source": [
    "#### Mean"
   ]
  },
  {
   "cell_type": "code",
   "execution_count": 21,
   "metadata": {},
   "outputs": [],
   "source": [
    "class MeanModel():\n",
    "    def __init__(self, target_cols = TARGET_COLS):\n",
    "        pass\n",
    "\n",
    "    def fit(self, X):\n",
    "        self.player_mean = X.groupby('IdPlayer').mean()\n",
    "\n",
    "    def predict(self, X):\n",
    "        y_pred = pd.DataFrame(columns=TARGET_COLS)\n",
    "        for target in TARGET_COLS:\n",
    "            y_pred[target] = X['IdPlayer'].map(self.player_mean[target])\n",
    "        return y_pred\n"
   ]
  },
  {
   "cell_type": "code",
   "execution_count": 22,
   "metadata": {},
   "outputs": [
    {
     "data": {
      "text/html": [
       "<div>\n",
       "<style scoped>\n",
       "    .dataframe tbody tr th:only-of-type {\n",
       "        vertical-align: middle;\n",
       "    }\n",
       "\n",
       "    .dataframe tbody tr th {\n",
       "        vertical-align: top;\n",
       "    }\n",
       "\n",
       "    .dataframe thead th {\n",
       "        text-align: right;\n",
       "    }\n",
       "</style>\n",
       "<table border=\"1\" class=\"dataframe\">\n",
       "  <thead>\n",
       "    <tr style=\"text-align: right;\">\n",
       "      <th></th>\n",
       "      <th>target1</th>\n",
       "      <th>target2</th>\n",
       "      <th>target3</th>\n",
       "      <th>target4</th>\n",
       "    </tr>\n",
       "    <tr>\n",
       "      <th>IdPlayer</th>\n",
       "      <th></th>\n",
       "      <th></th>\n",
       "      <th></th>\n",
       "      <th></th>\n",
       "    </tr>\n",
       "  </thead>\n",
       "  <tbody>\n",
       "    <tr>\n",
       "      <th>112526</th>\n",
       "      <td>0.973267</td>\n",
       "      <td>4.977652</td>\n",
       "      <td>2.218151</td>\n",
       "      <td>15.314229</td>\n",
       "    </tr>\n",
       "    <tr>\n",
       "      <th>134181</th>\n",
       "      <td>1.810778</td>\n",
       "      <td>3.539793</td>\n",
       "      <td>2.702785</td>\n",
       "      <td>6.914375</td>\n",
       "    </tr>\n",
       "    <tr>\n",
       "      <th>279571</th>\n",
       "      <td>0.010724</td>\n",
       "      <td>0.349007</td>\n",
       "      <td>0.049801</td>\n",
       "      <td>0.294987</td>\n",
       "    </tr>\n",
       "    <tr>\n",
       "      <th>282332</th>\n",
       "      <td>3.344904</td>\n",
       "      <td>7.224378</td>\n",
       "      <td>4.882952</td>\n",
       "      <td>13.068281</td>\n",
       "    </tr>\n",
       "    <tr>\n",
       "      <th>400085</th>\n",
       "      <td>1.932714</td>\n",
       "      <td>7.091329</td>\n",
       "      <td>3.224930</td>\n",
       "      <td>22.764681</td>\n",
       "    </tr>\n",
       "    <tr>\n",
       "      <th>...</th>\n",
       "      <td>...</td>\n",
       "      <td>...</td>\n",
       "      <td>...</td>\n",
       "      <td>...</td>\n",
       "    </tr>\n",
       "    <tr>\n",
       "      <th>681911</th>\n",
       "      <td>0.003365</td>\n",
       "      <td>0.592130</td>\n",
       "      <td>0.394003</td>\n",
       "      <td>0.096553</td>\n",
       "    </tr>\n",
       "    <tr>\n",
       "      <th>683232</th>\n",
       "      <td>0.000681</td>\n",
       "      <td>0.238880</td>\n",
       "      <td>0.013438</td>\n",
       "      <td>0.022790</td>\n",
       "    </tr>\n",
       "    <tr>\n",
       "      <th>683734</th>\n",
       "      <td>0.536778</td>\n",
       "      <td>1.272913</td>\n",
       "      <td>1.384246</td>\n",
       "      <td>1.033972</td>\n",
       "    </tr>\n",
       "    <tr>\n",
       "      <th>685493</th>\n",
       "      <td>0.065766</td>\n",
       "      <td>2.396947</td>\n",
       "      <td>0.108005</td>\n",
       "      <td>0.760663</td>\n",
       "    </tr>\n",
       "    <tr>\n",
       "      <th>685503</th>\n",
       "      <td>0.037342</td>\n",
       "      <td>0.756833</td>\n",
       "      <td>0.043332</td>\n",
       "      <td>0.264836</td>\n",
       "    </tr>\n",
       "  </tbody>\n",
       "</table>\n",
       "<p>2061 rows × 4 columns</p>\n",
       "</div>"
      ],
      "text/plain": [
       "           target1   target2   target3    target4\n",
       "IdPlayer                                         \n",
       "112526    0.973267  4.977652  2.218151  15.314229\n",
       "134181    1.810778  3.539793  2.702785   6.914375\n",
       "279571    0.010724  0.349007  0.049801   0.294987\n",
       "282332    3.344904  7.224378  4.882952  13.068281\n",
       "400085    1.932714  7.091329  3.224930  22.764681\n",
       "...            ...       ...       ...        ...\n",
       "681911    0.003365  0.592130  0.394003   0.096553\n",
       "683232    0.000681  0.238880  0.013438   0.022790\n",
       "683734    0.536778  1.272913  1.384246   1.033972\n",
       "685493    0.065766  2.396947  0.108005   0.760663\n",
       "685503    0.037342  0.756833  0.043332   0.264836\n",
       "\n",
       "[2061 rows x 4 columns]"
      ]
     },
     "execution_count": 22,
     "metadata": {},
     "output_type": "execute_result"
    }
   ],
   "source": [
    "train.groupby('IdPlayer').mean()[TARGET_COLS]"
   ]
  },
  {
   "cell_type": "code",
   "execution_count": 23,
   "metadata": {},
   "outputs": [
    {
     "name": "stdout",
     "output_type": "stream",
     "text": [
      "CPU times: user 271 ms, sys: 88.2 ms, total: 359 ms\n",
      "Wall time: 358 ms\n"
     ]
    },
    {
     "data": {
      "text/html": [
       "<div>\n",
       "<style scoped>\n",
       "    .dataframe tbody tr th:only-of-type {\n",
       "        vertical-align: middle;\n",
       "    }\n",
       "\n",
       "    .dataframe tbody tr th {\n",
       "        vertical-align: top;\n",
       "    }\n",
       "\n",
       "    .dataframe thead th {\n",
       "        text-align: right;\n",
       "    }\n",
       "</style>\n",
       "<table border=\"1\" class=\"dataframe\">\n",
       "  <thead>\n",
       "    <tr style=\"text-align: right;\">\n",
       "      <th></th>\n",
       "      <th>target1</th>\n",
       "      <th>target2</th>\n",
       "      <th>target3</th>\n",
       "      <th>target4</th>\n",
       "    </tr>\n",
       "  </thead>\n",
       "  <tbody>\n",
       "    <tr>\n",
       "      <th>1216</th>\n",
       "      <td>0.973267</td>\n",
       "      <td>4.977652</td>\n",
       "      <td>2.218151</td>\n",
       "      <td>15.314229</td>\n",
       "    </tr>\n",
       "    <tr>\n",
       "      <th>1217</th>\n",
       "      <td>0.973267</td>\n",
       "      <td>4.977652</td>\n",
       "      <td>2.218151</td>\n",
       "      <td>15.314229</td>\n",
       "    </tr>\n",
       "    <tr>\n",
       "      <th>1218</th>\n",
       "      <td>0.973267</td>\n",
       "      <td>4.977652</td>\n",
       "      <td>2.218151</td>\n",
       "      <td>15.314229</td>\n",
       "    </tr>\n",
       "    <tr>\n",
       "      <th>1219</th>\n",
       "      <td>0.973267</td>\n",
       "      <td>4.977652</td>\n",
       "      <td>2.218151</td>\n",
       "      <td>15.314229</td>\n",
       "    </tr>\n",
       "    <tr>\n",
       "      <th>1220</th>\n",
       "      <td>0.973267</td>\n",
       "      <td>4.977652</td>\n",
       "      <td>2.218151</td>\n",
       "      <td>15.314229</td>\n",
       "    </tr>\n",
       "    <tr>\n",
       "      <th>...</th>\n",
       "      <td>...</td>\n",
       "      <td>...</td>\n",
       "      <td>...</td>\n",
       "      <td>...</td>\n",
       "    </tr>\n",
       "    <tr>\n",
       "      <th>2695783</th>\n",
       "      <td>0.037342</td>\n",
       "      <td>0.756833</td>\n",
       "      <td>0.043332</td>\n",
       "      <td>0.264836</td>\n",
       "    </tr>\n",
       "    <tr>\n",
       "      <th>2695784</th>\n",
       "      <td>0.037342</td>\n",
       "      <td>0.756833</td>\n",
       "      <td>0.043332</td>\n",
       "      <td>0.264836</td>\n",
       "    </tr>\n",
       "    <tr>\n",
       "      <th>2695785</th>\n",
       "      <td>0.037342</td>\n",
       "      <td>0.756833</td>\n",
       "      <td>0.043332</td>\n",
       "      <td>0.264836</td>\n",
       "    </tr>\n",
       "    <tr>\n",
       "      <th>2695786</th>\n",
       "      <td>0.037342</td>\n",
       "      <td>0.756833</td>\n",
       "      <td>0.043332</td>\n",
       "      <td>0.264836</td>\n",
       "    </tr>\n",
       "    <tr>\n",
       "      <th>2695787</th>\n",
       "      <td>0.037342</td>\n",
       "      <td>0.756833</td>\n",
       "      <td>0.043332</td>\n",
       "      <td>0.264836</td>\n",
       "    </tr>\n",
       "  </tbody>\n",
       "</table>\n",
       "<p>189612 rows × 4 columns</p>\n",
       "</div>"
      ],
      "text/plain": [
       "          target1   target2   target3    target4\n",
       "1216     0.973267  4.977652  2.218151  15.314229\n",
       "1217     0.973267  4.977652  2.218151  15.314229\n",
       "1218     0.973267  4.977652  2.218151  15.314229\n",
       "1219     0.973267  4.977652  2.218151  15.314229\n",
       "1220     0.973267  4.977652  2.218151  15.314229\n",
       "...           ...       ...       ...        ...\n",
       "2695783  0.037342  0.756833  0.043332   0.264836\n",
       "2695784  0.037342  0.756833  0.043332   0.264836\n",
       "2695785  0.037342  0.756833  0.043332   0.264836\n",
       "2695786  0.037342  0.756833  0.043332   0.264836\n",
       "2695787  0.037342  0.756833  0.043332   0.264836\n",
       "\n",
       "[189612 rows x 4 columns]"
      ]
     },
     "execution_count": 23,
     "metadata": {},
     "output_type": "execute_result"
    }
   ],
   "source": [
    "%%time\n",
    "mean = MeanModel()\n",
    "mean.fit(train)\n",
    "y_pred_mean = mean.predict(test)\n",
    "y_pred_mean"
   ]
  },
  {
<<<<<<< Updated upstream
=======
   "cell_type": "code",
   "execution_count": 183,
   "metadata": {},
   "outputs": [
    {
     "name": "stdout",
     "output_type": "stream",
     "text": [
      "{'target1': 0.9436622, 'target2': 2.2538097, 'target3': 0.95491254, 'target4': 1.0212488}\n"
     ]
    },
    {
     "data": {
      "text/plain": [
       "1.2934083193540573"
      ]
     },
     "execution_count": 183,
     "metadata": {},
     "output_type": "execute_result"
    }
   ],
   "source": [
    "print(evaluate_mae(y_test, y_pred_mean))\n",
    "sum(evaluate_mae(y_test, y_pred_mean).values())/4"
   ]
  },
  {
   "attachments": {},
>>>>>>> Stashed changes
   "cell_type": "markdown",
   "metadata": {},
   "source": [
    "### LASSO"
   ]
  },
  {
   "cell_type": "code",
   "execution_count": 24,
   "metadata": {},
   "outputs": [],
   "source": [
    "from sklearn.linear_model import Lasso"
   ]
  },
  {
   "cell_type": "code",
   "execution_count": 25,
   "metadata": {},
   "outputs": [],
   "source": [
    "# adjust the datetime to int\n",
    "x_train['Dt_int'] = train['Dt'].apply(lambda x: int(x.strftime(\"%Y%m%d%H%M%S\")))\n",
    "x_test['Dt_int'] = test['Dt'].apply(lambda x: int(x.strftime(\"%Y%m%d%H%M%S\")))\n",
    "x_train.drop(['Dt', 'IdDtPlayer'], axis=1, inplace=True)\n",
    "x_test.drop(['Dt', 'IdDtPlayer'], axis=1, inplace=True)"
   ]
  },
  {
   "cell_type": "code",
   "execution_count": 26,
   "metadata": {},
   "outputs": [
    {
     "name": "stdout",
     "output_type": "stream",
     "text": [
      "CPU times: user 16 µs, sys: 3 µs, total: 19 µs\n",
      "Wall time: 21 µs\n"
     ]
    }
   ],
   "source": [
    "%%time\n",
    "lasso = Lasso(alpha=0.1)\n",
    "rfe_lasso = RFE(lasso, n_features_to_select=10)"
   ]
  },
  {
   "cell_type": "code",
   "execution_count": 27,
   "metadata": {},
   "outputs": [
    {
     "name": "stdout",
     "output_type": "stream",
     "text": [
      "CPU times: user 51min 34s, sys: 12min 8s, total: 1h 3min 42s\n",
      "Wall time: 9min 9s\n"
     ]
    },
    {
     "data": {
      "text/html": [
       "<style>#sk-container-id-1 {color: black;background-color: white;}#sk-container-id-1 pre{padding: 0;}#sk-container-id-1 div.sk-toggleable {background-color: white;}#sk-container-id-1 label.sk-toggleable__label {cursor: pointer;display: block;width: 100%;margin-bottom: 0;padding: 0.3em;box-sizing: border-box;text-align: center;}#sk-container-id-1 label.sk-toggleable__label-arrow:before {content: \"▸\";float: left;margin-right: 0.25em;color: #696969;}#sk-container-id-1 label.sk-toggleable__label-arrow:hover:before {color: black;}#sk-container-id-1 div.sk-estimator:hover label.sk-toggleable__label-arrow:before {color: black;}#sk-container-id-1 div.sk-toggleable__content {max-height: 0;max-width: 0;overflow: hidden;text-align: left;background-color: #f0f8ff;}#sk-container-id-1 div.sk-toggleable__content pre {margin: 0.2em;color: black;border-radius: 0.25em;background-color: #f0f8ff;}#sk-container-id-1 input.sk-toggleable__control:checked~div.sk-toggleable__content {max-height: 200px;max-width: 100%;overflow: auto;}#sk-container-id-1 input.sk-toggleable__control:checked~label.sk-toggleable__label-arrow:before {content: \"▾\";}#sk-container-id-1 div.sk-estimator input.sk-toggleable__control:checked~label.sk-toggleable__label {background-color: #d4ebff;}#sk-container-id-1 div.sk-label input.sk-toggleable__control:checked~label.sk-toggleable__label {background-color: #d4ebff;}#sk-container-id-1 input.sk-hidden--visually {border: 0;clip: rect(1px 1px 1px 1px);clip: rect(1px, 1px, 1px, 1px);height: 1px;margin: -1px;overflow: hidden;padding: 0;position: absolute;width: 1px;}#sk-container-id-1 div.sk-estimator {font-family: monospace;background-color: #f0f8ff;border: 1px dotted black;border-radius: 0.25em;box-sizing: border-box;margin-bottom: 0.5em;}#sk-container-id-1 div.sk-estimator:hover {background-color: #d4ebff;}#sk-container-id-1 div.sk-parallel-item::after {content: \"\";width: 100%;border-bottom: 1px solid gray;flex-grow: 1;}#sk-container-id-1 div.sk-label:hover label.sk-toggleable__label {background-color: #d4ebff;}#sk-container-id-1 div.sk-serial::before {content: \"\";position: absolute;border-left: 1px solid gray;box-sizing: border-box;top: 0;bottom: 0;left: 50%;z-index: 0;}#sk-container-id-1 div.sk-serial {display: flex;flex-direction: column;align-items: center;background-color: white;padding-right: 0.2em;padding-left: 0.2em;position: relative;}#sk-container-id-1 div.sk-item {position: relative;z-index: 1;}#sk-container-id-1 div.sk-parallel {display: flex;align-items: stretch;justify-content: center;background-color: white;position: relative;}#sk-container-id-1 div.sk-item::before, #sk-container-id-1 div.sk-parallel-item::before {content: \"\";position: absolute;border-left: 1px solid gray;box-sizing: border-box;top: 0;bottom: 0;left: 50%;z-index: -1;}#sk-container-id-1 div.sk-parallel-item {display: flex;flex-direction: column;z-index: 1;position: relative;background-color: white;}#sk-container-id-1 div.sk-parallel-item:first-child::after {align-self: flex-end;width: 50%;}#sk-container-id-1 div.sk-parallel-item:last-child::after {align-self: flex-start;width: 50%;}#sk-container-id-1 div.sk-parallel-item:only-child::after {width: 0;}#sk-container-id-1 div.sk-dashed-wrapped {border: 1px dashed gray;margin: 0 0.4em 0.5em 0.4em;box-sizing: border-box;padding-bottom: 0.4em;background-color: white;}#sk-container-id-1 div.sk-label label {font-family: monospace;font-weight: bold;display: inline-block;line-height: 1.2em;}#sk-container-id-1 div.sk-label-container {text-align: center;}#sk-container-id-1 div.sk-container {/* jupyter's `normalize.less` sets `[hidden] { display: none; }` but bootstrap.min.css set `[hidden] { display: none !important; }` so we also need the `!important` here to be able to override the default hidden behavior on the sphinx rendered scikit-learn.org. See: https://github.com/scikit-learn/scikit-learn/issues/21755 */display: inline-block !important;position: relative;}#sk-container-id-1 div.sk-text-repr-fallback {display: none;}</style><div id=\"sk-container-id-1\" class=\"sk-top-container\"><div class=\"sk-text-repr-fallback\"><pre>RFE(estimator=Lasso(alpha=0.1), n_features_to_select=10)</pre><b>In a Jupyter environment, please rerun this cell to show the HTML representation or trust the notebook. <br />On GitHub, the HTML representation is unable to render, please try loading this page with nbviewer.org.</b></div><div class=\"sk-container\" hidden><div class=\"sk-item sk-dashed-wrapped\"><div class=\"sk-label-container\"><div class=\"sk-label sk-toggleable\"><input class=\"sk-toggleable__control sk-hidden--visually\" id=\"sk-estimator-id-1\" type=\"checkbox\" ><label for=\"sk-estimator-id-1\" class=\"sk-toggleable__label sk-toggleable__label-arrow\">RFE</label><div class=\"sk-toggleable__content\"><pre>RFE(estimator=Lasso(alpha=0.1), n_features_to_select=10)</pre></div></div></div><div class=\"sk-parallel\"><div class=\"sk-parallel-item\"><div class=\"sk-item\"><div class=\"sk-label-container\"><div class=\"sk-label sk-toggleable\"><input class=\"sk-toggleable__control sk-hidden--visually\" id=\"sk-estimator-id-2\" type=\"checkbox\" ><label for=\"sk-estimator-id-2\" class=\"sk-toggleable__label sk-toggleable__label-arrow\">estimator: Lasso</label><div class=\"sk-toggleable__content\"><pre>Lasso(alpha=0.1)</pre></div></div></div><div class=\"sk-serial\"><div class=\"sk-item\"><div class=\"sk-estimator sk-toggleable\"><input class=\"sk-toggleable__control sk-hidden--visually\" id=\"sk-estimator-id-3\" type=\"checkbox\" ><label for=\"sk-estimator-id-3\" class=\"sk-toggleable__label sk-toggleable__label-arrow\">Lasso</label><div class=\"sk-toggleable__content\"><pre>Lasso(alpha=0.1)</pre></div></div></div></div></div></div></div></div></div></div>"
      ],
      "text/plain": [
       "RFE(estimator=Lasso(alpha=0.1), n_features_to_select=10)"
      ]
     },
     "execution_count": 27,
     "metadata": {},
     "output_type": "execute_result"
    }
   ],
   "source": [
    "%%time\n",
    "rfe_lasso.fit(x_train, y_train)"
   ]
  },
  {
   "cell_type": "code",
   "execution_count": 28,
   "metadata": {},
   "outputs": [
    {
     "data": {
      "text/plain": [
       "array([ 1,  2,  3,  4,  8, 10, 12, 18, 20, 22])"
      ]
     },
     "execution_count": 28,
     "metadata": {},
     "output_type": "execute_result"
    }
   ],
   "source": [
    "rfe_lasso.get_support(indices=True)"
   ]
  },
  {
   "cell_type": "code",
   "execution_count": 154,
   "metadata": {},
   "outputs": [
    {
     "data": {
      "text/plain": [
       "Index(['target1_shift_1', 'target2_shift_1', 'target3_shift_1',\n",
       "       'target4_shift_1', 'target4_shift_2', 'target2_shift_3',\n",
       "       'target4_shift_3', 'target2_shift_5', 'target4_shift_5',\n",
       "       'target2_shift_6'],\n",
       "      dtype='object')"
      ]
     },
     "execution_count": 154,
     "metadata": {},
     "output_type": "execute_result"
    }
   ],
   "source": [
    "x_train.columns[rfe_lasso.get_support(indices=True)]"
   ]
  },
  {
   "cell_type": "code",
   "execution_count": 31,
   "metadata": {},
   "outputs": [],
   "source": [
    "# save the model in .pkl\n",
    "with open(MODEL_PATH + 'rfe_lasso.pkl', 'wb') as f:\n",
    "    pickle.dump(rfe_lasso, f)"
   ]
  },
  {
   "cell_type": "markdown",
   "metadata": {},
   "source": [
    "### Multitask LASSO"
   ]
  },
  {
   "cell_type": "code",
   "execution_count": 32,
   "metadata": {},
   "outputs": [],
   "source": [
    "from sklearn.linear_model import MultiTaskLasso"
   ]
  },
  {
   "cell_type": "code",
   "execution_count": 156,
   "metadata": {},
   "outputs": [],
   "source": [
    "multitask_lasso = MultiTaskLasso(alpha = 0.1)\n",
    "rfe_multitask_lasso = RFE(multitask_lasso, n_features_to_select=20)"
   ]
  },
  {
   "cell_type": "code",
   "execution_count": 157,
   "metadata": {},
   "outputs": [
    {
     "name": "stdout",
     "output_type": "stream",
     "text": [
      "CPU times: user 1h 10min 1s, sys: 23min, total: 1h 33min 1s\n",
      "Wall time: 14min 5s\n"
     ]
    },
    {
     "data": {
      "text/html": [
       "<style>#sk-container-id-6 {color: black;background-color: white;}#sk-container-id-6 pre{padding: 0;}#sk-container-id-6 div.sk-toggleable {background-color: white;}#sk-container-id-6 label.sk-toggleable__label {cursor: pointer;display: block;width: 100%;margin-bottom: 0;padding: 0.3em;box-sizing: border-box;text-align: center;}#sk-container-id-6 label.sk-toggleable__label-arrow:before {content: \"▸\";float: left;margin-right: 0.25em;color: #696969;}#sk-container-id-6 label.sk-toggleable__label-arrow:hover:before {color: black;}#sk-container-id-6 div.sk-estimator:hover label.sk-toggleable__label-arrow:before {color: black;}#sk-container-id-6 div.sk-toggleable__content {max-height: 0;max-width: 0;overflow: hidden;text-align: left;background-color: #f0f8ff;}#sk-container-id-6 div.sk-toggleable__content pre {margin: 0.2em;color: black;border-radius: 0.25em;background-color: #f0f8ff;}#sk-container-id-6 input.sk-toggleable__control:checked~div.sk-toggleable__content {max-height: 200px;max-width: 100%;overflow: auto;}#sk-container-id-6 input.sk-toggleable__control:checked~label.sk-toggleable__label-arrow:before {content: \"▾\";}#sk-container-id-6 div.sk-estimator input.sk-toggleable__control:checked~label.sk-toggleable__label {background-color: #d4ebff;}#sk-container-id-6 div.sk-label input.sk-toggleable__control:checked~label.sk-toggleable__label {background-color: #d4ebff;}#sk-container-id-6 input.sk-hidden--visually {border: 0;clip: rect(1px 1px 1px 1px);clip: rect(1px, 1px, 1px, 1px);height: 1px;margin: -1px;overflow: hidden;padding: 0;position: absolute;width: 1px;}#sk-container-id-6 div.sk-estimator {font-family: monospace;background-color: #f0f8ff;border: 1px dotted black;border-radius: 0.25em;box-sizing: border-box;margin-bottom: 0.5em;}#sk-container-id-6 div.sk-estimator:hover {background-color: #d4ebff;}#sk-container-id-6 div.sk-parallel-item::after {content: \"\";width: 100%;border-bottom: 1px solid gray;flex-grow: 1;}#sk-container-id-6 div.sk-label:hover label.sk-toggleable__label {background-color: #d4ebff;}#sk-container-id-6 div.sk-serial::before {content: \"\";position: absolute;border-left: 1px solid gray;box-sizing: border-box;top: 0;bottom: 0;left: 50%;z-index: 0;}#sk-container-id-6 div.sk-serial {display: flex;flex-direction: column;align-items: center;background-color: white;padding-right: 0.2em;padding-left: 0.2em;position: relative;}#sk-container-id-6 div.sk-item {position: relative;z-index: 1;}#sk-container-id-6 div.sk-parallel {display: flex;align-items: stretch;justify-content: center;background-color: white;position: relative;}#sk-container-id-6 div.sk-item::before, #sk-container-id-6 div.sk-parallel-item::before {content: \"\";position: absolute;border-left: 1px solid gray;box-sizing: border-box;top: 0;bottom: 0;left: 50%;z-index: -1;}#sk-container-id-6 div.sk-parallel-item {display: flex;flex-direction: column;z-index: 1;position: relative;background-color: white;}#sk-container-id-6 div.sk-parallel-item:first-child::after {align-self: flex-end;width: 50%;}#sk-container-id-6 div.sk-parallel-item:last-child::after {align-self: flex-start;width: 50%;}#sk-container-id-6 div.sk-parallel-item:only-child::after {width: 0;}#sk-container-id-6 div.sk-dashed-wrapped {border: 1px dashed gray;margin: 0 0.4em 0.5em 0.4em;box-sizing: border-box;padding-bottom: 0.4em;background-color: white;}#sk-container-id-6 div.sk-label label {font-family: monospace;font-weight: bold;display: inline-block;line-height: 1.2em;}#sk-container-id-6 div.sk-label-container {text-align: center;}#sk-container-id-6 div.sk-container {/* jupyter's `normalize.less` sets `[hidden] { display: none; }` but bootstrap.min.css set `[hidden] { display: none !important; }` so we also need the `!important` here to be able to override the default hidden behavior on the sphinx rendered scikit-learn.org. See: https://github.com/scikit-learn/scikit-learn/issues/21755 */display: inline-block !important;position: relative;}#sk-container-id-6 div.sk-text-repr-fallback {display: none;}</style><div id=\"sk-container-id-6\" class=\"sk-top-container\"><div class=\"sk-text-repr-fallback\"><pre>RFE(estimator=MultiTaskLasso(alpha=0.1), n_features_to_select=20)</pre><b>In a Jupyter environment, please rerun this cell to show the HTML representation or trust the notebook. <br />On GitHub, the HTML representation is unable to render, please try loading this page with nbviewer.org.</b></div><div class=\"sk-container\" hidden><div class=\"sk-item sk-dashed-wrapped\"><div class=\"sk-label-container\"><div class=\"sk-label sk-toggleable\"><input class=\"sk-toggleable__control sk-hidden--visually\" id=\"sk-estimator-id-10\" type=\"checkbox\" ><label for=\"sk-estimator-id-10\" class=\"sk-toggleable__label sk-toggleable__label-arrow\">RFE</label><div class=\"sk-toggleable__content\"><pre>RFE(estimator=MultiTaskLasso(alpha=0.1), n_features_to_select=20)</pre></div></div></div><div class=\"sk-parallel\"><div class=\"sk-parallel-item\"><div class=\"sk-item\"><div class=\"sk-label-container\"><div class=\"sk-label sk-toggleable\"><input class=\"sk-toggleable__control sk-hidden--visually\" id=\"sk-estimator-id-11\" type=\"checkbox\" ><label for=\"sk-estimator-id-11\" class=\"sk-toggleable__label sk-toggleable__label-arrow\">estimator: MultiTaskLasso</label><div class=\"sk-toggleable__content\"><pre>MultiTaskLasso(alpha=0.1)</pre></div></div></div><div class=\"sk-serial\"><div class=\"sk-item\"><div class=\"sk-estimator sk-toggleable\"><input class=\"sk-toggleable__control sk-hidden--visually\" id=\"sk-estimator-id-12\" type=\"checkbox\" ><label for=\"sk-estimator-id-12\" class=\"sk-toggleable__label sk-toggleable__label-arrow\">MultiTaskLasso</label><div class=\"sk-toggleable__content\"><pre>MultiTaskLasso(alpha=0.1)</pre></div></div></div></div></div></div></div></div></div></div>"
      ],
      "text/plain": [
       "RFE(estimator=MultiTaskLasso(alpha=0.1), n_features_to_select=20)"
      ]
     },
     "execution_count": 157,
     "metadata": {},
     "output_type": "execute_result"
    }
   ],
   "source": [
    "%%time\n",
    "rfe_multitask_lasso.fit(x_train, y_train)"
   ]
  },
  {
   "cell_type": "code",
   "execution_count": 158,
   "metadata": {},
   "outputs": [
    {
     "data": {
      "text/plain": [
       "array([ 1,  2,  3,  4,  6,  8, 10, 11, 12, 13, 17, 18, 20, 22, 23, 24, 30,\n",
       "       32, 34, 36])"
      ]
     },
     "execution_count": 158,
     "metadata": {},
     "output_type": "execute_result"
    }
   ],
   "source": [
    "rfe_multitask_lasso.get_support(indices=True)"
   ]
  },
  {
   "cell_type": "code",
   "execution_count": 159,
   "metadata": {},
   "outputs": [
    {
     "data": {
      "text/plain": [
       "Index(['target1_shift_1', 'target2_shift_1', 'target3_shift_1',\n",
       "       'target4_shift_1', 'target2_shift_2', 'target4_shift_2',\n",
       "       'target2_shift_3', 'target3_shift_3', 'target4_shift_3',\n",
       "       'target1_shift_4', 'target1_shift_5', 'target2_shift_5',\n",
       "       'target4_shift_5', 'target2_shift_6', 'target3_shift_6',\n",
       "       'target4_shift_6', 'target2_shift_14', 'target4_shift_14',\n",
       "       'target2_shift_30', 'target4_shift_30'],\n",
       "      dtype='object')"
      ]
     },
     "execution_count": 159,
     "metadata": {},
     "output_type": "execute_result"
    }
   ],
   "source": [
    "x_train.columns[rfe_multitask_lasso.get_support(indices=True)]"
   ]
  },
  {
   "attachments": {},
   "cell_type": "markdown",
   "metadata": {},
   "source": [
    "'target1_shift_1', 'target2_shift_1', 'target3_shift_1',\n",
    "       'target4_shift_1', 'target2_shift_5'"
   ]
  },
  {
   "cell_type": "code",
   "execution_count": 37,
   "metadata": {},
   "outputs": [],
   "source": [
    "# save the model in .pkl\n",
    "with open(MODEL_PATH + 'rfe_multitask_lasso.pkl', 'wb') as f:\n",
    "    pickle.dump(rfe_multitask_lasso, f)"
   ]
  },
  {
   "cell_type": "markdown",
   "metadata": {},
   "source": [
    "## Model Evaluation"
   ]
  },
  {
   "cell_type": "markdown",
   "metadata": {},
   "source": [
    "### Eval Functions"
   ]
  },
  {
   "cell_type": "code",
   "execution_count": 38,
   "metadata": {},
   "outputs": [],
   "source": [
    "def evaluate_mae(y_true, y_pred):\n",
    "    maes = {}\n",
    "    for target in TARGET_COLS:\n",
    "        mae = mean_absolute_error(y_true[target], y_pred[target])\n",
    "        maes[target] = mae\n",
    "    return maes"
   ]
  },
  {
   "cell_type": "markdown",
   "metadata": {},
   "source": [
    "### Results"
   ]
  },
  {
   "cell_type": "code",
   "execution_count": 39,
   "metadata": {},
   "outputs": [],
   "source": [
    "# Create a dataframe to store the results\n",
    "evals_df = pd.DataFrame()"
   ]
  },
  {
   "cell_type": "code",
   "execution_count": 40,
   "metadata": {},
   "outputs": [
    {
     "data": {
      "text/html": [
       "<div>\n",
       "<style scoped>\n",
       "    .dataframe tbody tr th:only-of-type {\n",
       "        vertical-align: middle;\n",
       "    }\n",
       "\n",
       "    .dataframe tbody tr th {\n",
       "        vertical-align: top;\n",
       "    }\n",
       "\n",
       "    .dataframe thead th {\n",
       "        text-align: right;\n",
       "    }\n",
       "</style>\n",
       "<table border=\"1\" class=\"dataframe\">\n",
       "  <thead>\n",
       "    <tr style=\"text-align: right;\">\n",
       "      <th></th>\n",
       "      <th>model</th>\n",
       "      <th>target1</th>\n",
       "      <th>target2</th>\n",
       "      <th>target3</th>\n",
       "      <th>target4</th>\n",
       "    </tr>\n",
       "  </thead>\n",
       "  <tbody>\n",
       "    <tr>\n",
       "      <th>0</th>\n",
       "      <td>naive</td>\n",
       "      <td>0.794010</td>\n",
       "      <td>1.349561</td>\n",
       "      <td>0.626269</td>\n",
       "      <td>0.809013</td>\n",
       "    </tr>\n",
       "    <tr>\n",
       "      <th>1</th>\n",
       "      <td>mean</td>\n",
       "      <td>0.943662</td>\n",
       "      <td>2.253810</td>\n",
       "      <td>0.954913</td>\n",
       "      <td>1.021249</td>\n",
       "    </tr>\n",
       "  </tbody>\n",
       "</table>\n",
       "</div>"
      ],
      "text/plain": [
       "   model   target1   target2   target3   target4\n",
       "0  naive  0.794010  1.349561  0.626269  0.809013\n",
       "1   mean  0.943662  2.253810  0.954913  1.021249"
      ]
     },
     "execution_count": 40,
     "metadata": {},
     "output_type": "execute_result"
    }
   ],
   "source": [
    "# Baseline models evaluation\n",
    "evals_df = evals_df.append({'model': 'naive', **evaluate_mae(y_test, y_pred_naive)}, ignore_index=True)\n",
    "evals_df = evals_df.append({'model': 'mean', **evaluate_mae(y_test, y_pred_mean)}, ignore_index=True)\n",
    "evals_df"
   ]
  },
  {
   "cell_type": "code",
   "execution_count": 41,
   "metadata": {},
   "outputs": [],
   "source": [
    "# Lasso evaluation\n",
    "y_pred_lasso = pd.DataFrame(rfe_lasso.predict(x_test), columns=TARGET_COLS)\n",
    "evals_df = evals_df.append({'model': 'lasso', **evaluate_mae(y_test, y_pred_lasso)}, ignore_index=True)"
   ]
  },
  {
   "cell_type": "code",
   "execution_count": 43,
   "metadata": {},
   "outputs": [],
   "source": [
    "# Multitask LASSO evaluation\n",
    "y_pred_multitask_lasso = pd.DataFrame(rfe_multitask_lasso.predict(x_test), columns=TARGET_COLS)\n",
    "evals_df = evals_df.append({'model': 'multitask LASSO', **evaluate_mae(y_test, y_pred_multitask_lasso)}, ignore_index=True)"
   ]
  },
  {
   "cell_type": "code",
   "execution_count": 44,
   "metadata": {},
   "outputs": [
    {
     "data": {
      "text/html": [
       "<div>\n",
       "<style scoped>\n",
       "    .dataframe tbody tr th:only-of-type {\n",
       "        vertical-align: middle;\n",
       "    }\n",
       "\n",
       "    .dataframe tbody tr th {\n",
       "        vertical-align: top;\n",
       "    }\n",
       "\n",
       "    .dataframe thead th {\n",
       "        text-align: right;\n",
       "    }\n",
       "</style>\n",
       "<table border=\"1\" class=\"dataframe\">\n",
       "  <thead>\n",
       "    <tr style=\"text-align: right;\">\n",
       "      <th></th>\n",
       "      <th>model</th>\n",
       "      <th>target1</th>\n",
       "      <th>target2</th>\n",
       "      <th>target3</th>\n",
       "      <th>target4</th>\n",
       "    </tr>\n",
       "  </thead>\n",
       "  <tbody>\n",
       "    <tr>\n",
       "      <th>0</th>\n",
       "      <td>naive</td>\n",
       "      <td>0.794010</td>\n",
       "      <td>1.349561</td>\n",
       "      <td>0.626269</td>\n",
       "      <td>0.809013</td>\n",
       "    </tr>\n",
       "    <tr>\n",
       "      <th>1</th>\n",
       "      <td>mean</td>\n",
       "      <td>0.943662</td>\n",
       "      <td>2.253810</td>\n",
       "      <td>0.954913</td>\n",
       "      <td>1.021249</td>\n",
       "    </tr>\n",
       "    <tr>\n",
       "      <th>2</th>\n",
       "      <td>lasso</td>\n",
       "      <td>0.749040</td>\n",
       "      <td>1.402901</td>\n",
       "      <td>0.676788</td>\n",
       "      <td>0.760047</td>\n",
       "    </tr>\n",
       "    <tr>\n",
       "      <th>3</th>\n",
       "      <td>multitask LASSO</td>\n",
       "      <td>0.748527</td>\n",
       "      <td>1.503057</td>\n",
       "      <td>0.672377</td>\n",
       "      <td>0.789836</td>\n",
       "    </tr>\n",
       "  </tbody>\n",
       "</table>\n",
       "</div>"
      ],
      "text/plain": [
       "             model   target1   target2   target3   target4\n",
       "0            naive  0.794010  1.349561  0.626269  0.809013\n",
       "1             mean  0.943662  2.253810  0.954913  1.021249\n",
       "2            lasso  0.749040  1.402901  0.676788  0.760047\n",
       "3  multitask LASSO  0.748527  1.503057  0.672377  0.789836"
      ]
     },
     "execution_count": 44,
     "metadata": {},
     "output_type": "execute_result"
    }
   ],
   "source": [
    "evals_df"
   ]
  },
  {
   "cell_type": "code",
   "execution_count": null,
   "metadata": {},
   "outputs": [],
   "source": [
    "%%time\n",
    "alphas = np.linspace(0.01,500,100)\n",
    "lasso = Lasso(max_iter=10000)\n",
    "coefs = []\n",
    "\n",
    "for a in alphas:\n",
    "    lasso.set_params(alpha=a)\n",
    "    lasso.fit(x_train, y_train)\n",
    "    coefs.append(lasso.coef_)"
   ]
  },
  {
   "cell_type": "code",
   "execution_count": 171,
   "metadata": {},
   "outputs": [
    {
     "data": {
      "text/plain": [
       "[array([ 3.42431720e-07,  4.02210304e-01,  6.83461561e-02,  1.98486733e-02,\n",
       "         1.54388535e-01, -2.26456294e-02, -2.08970079e-02, -5.37698973e-03,\n",
       "        -1.04611739e-01,  4.05541167e-02,  2.56533375e-03,  7.15483525e-03,\n",
       "         4.00730193e-02,  3.45094432e-02, -2.75699620e-03,  3.13400032e-03,\n",
       "        -1.50539952e-02,  3.04547999e-02,  1.17355711e-02,  7.51510948e-03,\n",
       "         0.00000000e+00,  1.83982813e-02,  5.90648185e-03,  5.22068680e-04,\n",
       "        -1.85193167e-03,  2.82927131e-02,  6.39487311e-05,  1.05205547e-03,\n",
       "        -5.03661166e-03,  2.75654631e-02,  9.07074419e-04,  4.76263760e-03,\n",
       "        -0.00000000e+00,  2.10009238e-02,  2.28589461e-03,  3.80950174e-03,\n",
       "        -0.00000000e+00, -2.64306326e-12]),\n",
       " array([-1.53007319e-06,  1.87154965e-01,  6.12442358e-02,  0.00000000e+00,\n",
       "         0.00000000e+00,  0.00000000e+00,  0.00000000e+00,  0.00000000e+00,\n",
       "         0.00000000e+00,  0.00000000e+00,  0.00000000e+00,  0.00000000e+00,\n",
       "         0.00000000e+00,  0.00000000e+00,  0.00000000e+00,  0.00000000e+00,\n",
       "         0.00000000e+00,  0.00000000e+00,  0.00000000e+00,  0.00000000e+00,\n",
       "         0.00000000e+00,  0.00000000e+00,  0.00000000e+00,  0.00000000e+00,\n",
       "         0.00000000e+00,  0.00000000e+00,  0.00000000e+00,  0.00000000e+00,\n",
       "         0.00000000e+00,  0.00000000e+00,  0.00000000e+00,  0.00000000e+00,\n",
       "         0.00000000e+00,  0.00000000e+00,  0.00000000e+00,  0.00000000e+00,\n",
       "         0.00000000e+00, -3.39590188e-12])]"
      ]
     },
     "execution_count": 171,
     "metadata": {},
     "output_type": "execute_result"
    }
   ],
   "source": [
    "lst_coefs = []\n",
    "for j in range(4):\n",
    "    lst_aux = []\n",
    "    for i in range(len(coefs)):\n",
    "        lst_aux.append(coefs[i][j])\n",
    "    lst_coefs.append(lst_aux)\n",
    "lst_coefs[0][:2]"
   ]
  },
  {
   "cell_type": "code",
   "execution_count": 172,
   "metadata": {},
   "outputs": [],
   "source": [
    "def plot_lasso(alphas, coefs, target_num):\n",
    "    ax = plt.gca()\n",
    "\n",
    "    ax.plot(alphas, coefs[target_num])\n",
    "    ax.set_xscale('log')\n",
    "    plt.axis('tight')\n",
    "    plt.xlabel('alpha')\n",
    "    plt.ylabel('Standardized Coefficients')\n",
    "    plt.title('Lasso coefficients as a function of alpha, TARGET = ' + str(target_num + 1));"
   ]
  },
  {
   "cell_type": "code",
   "execution_count": 173,
   "metadata": {},
   "outputs": [
    {
     "data": {
      "image/png": "iVBORw0KGgoAAAANSUhEUgAAAkIAAAHLCAYAAAAk8PeNAAAAOXRFWHRTb2Z0d2FyZQBNYXRwbG90bGliIHZlcnNpb24zLjYuMiwgaHR0cHM6Ly9tYXRwbG90bGliLm9yZy8o6BhiAAAACXBIWXMAAA9hAAAPYQGoP6dpAACYwUlEQVR4nOzdd3hUZdrA4d850zPpPaGF3lSq1CAWrCiCveyiWBdXUVFX/VSwLvaKir1iBaxrBbFQlF6k9xbSe5t2zvfHmQwJSSCBhEl5bq65ZuY9ZZ5khpxn3qrouq4jhBBCCNEKqcEOQAghhBAiWCQREkIIIUSrJYmQEEIIIVotSYSEEEII0WpJIiSEEEKIVksSISGEEEK0WpIICSGEEKLVkkRICCGEEK2WJEJCCCGEaLUkERIt1gcffECPHj2wWCxERkYGyp966ik6deqEyWSib9++AKSkpHD11VfX6/w7d+5EURTefffdBotZGGp6j5qaX3/9FUVR+PXXX4MdyiHV9v/gSL377rsoisLOnTuP+Nhly5YddRxCNBRJhJoY+UPRMDZu3MjVV19N586deeONN3j99dcB+Omnn/jPf/7D8OHDeeedd/jvf/8b5EgP75VXXmlVyVZTe4+a8++/tv8Hrc3VV1+NoiiHvVX+MpSfn4/dbkdRFDZs2FCn89psNrp168aUKVMoLy+v8RiXy8VLL71EamoqUVFRWK1WkpOTGTNmDB9//DE+ny+wb8WXrdpujz/+eOCacbhbSkpKQ/5KD+nVV1/l4osvpn379tV+r02ROdgBCNEYfv31VzRN44UXXqBLly6B8l9++QVVVXnrrbewWq2B8k2bNqGq9fte0KFDB8rKyrBYLA0Wd01eeeUVYmNjm/wfk4ZS23sULLX9/k866STKysqaRIy1qe3/QWtz4403MmrUqMDzHTt2MGXKFG644QZGjBgRKO/cuXPg8eeff46iKCQmJjJz5kweffTRGs9ts9l48803ASgoKOCrr77ikUceYdu2bcycObPKvllZWZx99tksX76cM888k/vvv5/o6GjS09OZO3cuV1xxBVu3buWBBx6octzll1/OOeecU+21+/Xrh8Ph4IMPPqhSft111zFo0CBuuOGGQFloaOjhfk0N5oknnqCoqIhBgwaxf//+Y/a6R0oSIdEiZWZmAlRrCsjMzMThcFS7eNlstnq/hqIo2O32I45R1Ky296ipUVW1yb//tf0/aG2GDh3K0KFDA8+XLVvGlClTGDp0KP/4xz9qPObDDz/knHPOoUOHDnz00Ue1JkJms7nKOW666SaGDRvGxx9/zLPPPktCQkJg2z//+U9WrlzJ7NmzueCCC6qc595772XZsmVs2rSp2mv079+/1jgBOnXqVOX5v/71Lzp16nTIYxrTb7/9FqgNOpYJ2JGSprFmyO12M2XKFAYMGEBERAROp5MRI0Ywf/78avt+8sknDBgwgLCwMMLDwzn++ON54YUXAts9Hg8PPfQQXbt2xW63ExMTQ2pqKj///HOV8/zyyy+MGDECp9NJZGQk559/fq3VxQcrLy/nwQcfpFu3btjtdpKSkrjgggvYtm1bYJ+SkhLuuOMO2rVrh81mo3v37jz99NPoul7tfB9++CEDBgzA4XAQHR3NZZddxp49ewLbU1JSmDp1KgBxcXEoisKDDz6Ioii88847lJSUBKqLK5o8auojlJ+fz+23305KSgo2m422bdsyfvx4srOzgdr7CG3cuJGLLrqI6Oho7HY7AwcO5Ouvv66yT0V19sKFC5k8eTJxcXE4nU7GjRtHVlZWlZ9l3bp1/Pbbb4GYTz75ZKDu793BcnNzufPOOzn++OMJDQ0lPDycs88+m9WrV1fb96WXXqJ3796EhIQQFRXFwIED+eijjw55/vp8Pg9W23t0qP5YFe9vhYr3euvWrVx99dVERkYSERHBhAkTKC0trXb8hx9+yKBBgwI/40knncRPP/0EHPr3X1sfoc8//zzw+YyNjeUf//gH+/btq7LP1VdfTWhoKPv27WPs2LGEhoYSFxfHnXfeWaVp5FBeeeUVevfujc1mIzk5mX//+9/k5+cHttf2/6A2a9as4eqrr6ZTp07Y7XYSExO55ppryMnJOWwsKSkpnHvuufz000/07dsXu91Or169mDNnTo37u1yuQ37uAb766itGjx5NcnIyNpuNzp0788gjj9T593M0du/ezR9//MFll13GZZddxo4dO1i0aFGdjlUUhdTUVHRdZ/v27YHyxYsX8+OPP3LDDTdUS4IqDBw4kCuvvLJBfoZg6tChA4qiBDuMOpMaoWaosLCQN998k8svv5zrr7+eoqIi3nrrLc4880yWLFkS6Fz6888/c/nll3PaaafxxBNPALBhwwYWLlzIrbfeChgXjWnTpgWqUgsLC1m2bBkrVqzg9NNPB2Du3LmcffbZdOrUiQcffJCysjJeeuklhg8fzooVKw7Z9uzz+Tj33HOZN28el112GbfeeitFRUX8/PPP/P3333Tu3Bld1xkzZgzz58/n2muvpW/fvvz444/cdddd7Nu3j+eeey5wvscee4wHHniASy65hOuuu46srCxeeuklTjrpJFauXElkZCTPP/8877//Pl988QWvvvoqoaGhnHDCCXTp0oXXX3+dJUuWBKqyhw0bVmPcxcXFjBgxgg0bNnDNNdfQv39/srOz+frrr9m7dy+xsbE1Hrdu3TqGDx9OmzZtuOeee3A6nXz22WeMHTuW2bNnM27cuCr733LLLURFRTF16lR27tzJ888/z80338ynn34KwPPPP88tt9xCaGgo9913H0DgG2Zd3ruabN++nS+//JKLL76Yjh07kpGRwWuvvcbIkSNZv349ycnJALzxxhtMmjSJiy66iFtvvZXy8nLWrFnDX3/9xRVXXFHr+ev6+azJBx98UOf36HAuueQSOnbsyLRp01ixYgVvvvkm8fHxgf8LAA899BAPPvggw4YN4+GHH8ZqtfLXX3/xyy+/cMYZZxzy91+Td999lwkTJnDiiScybdo0MjIyeOGFF1i4cGHg81nB5/Nx5plnMnjwYJ5++mnmzp3LM888Q+fOnZk4ceIhf7YHH3yQhx56iFGjRjFx4kQ2bdrEq6++ytKlS1m4cCEWi6XW/we1+fnnn9m+fTsTJkwgMTGRdevW8frrr7Nu3Tr+/PPPw17YtmzZwqWXXsq//vUvrrrqKt555x0uvvhifvjhh2qfx8N97it+l6GhoUyePJnQ0FB++eUXpkyZQmFhIU899dQhYzlaH3/8MU6nk3PPPReHw0Hnzp2ZOXNmnT+LFR3Jo6KiAmXffPMNwBHV0pSWlga+gFUWGRmJ2Xz0l3FN08jNza3TvhEREY3eHeCY00WT8s477+iAvnTp0lr38Xq9usvlqlKWl5enJyQk6Ndcc02g7NZbb9XDw8N1r9db67n69Omjjx49+pAx9e3bV4+Pj9dzcnICZatXr9ZVVdXHjx9/yGPffvttHdCfffbZats0TdN1Xde//PJLHdAfffTRKtsvuugiXVEUfevWrbqu6/rOnTt1k8mkP/bYY1X2W7t2rW42m6uUT506VQf0rKysKvteddVVutPprBZLhw4d9KuuuirwfMqUKTqgz5kzp9a4d+zYoQP6O++8E9h22mmn6ccff7xeXl5eZf9hw4bpXbt2DZRVvM+jRo0KnE/Xdf3222/XTSaTnp+fHyjr3bu3PnLkyGpx1OW9q0l5ebnu8/mqlO3YsUO32Wz6ww8/HCg7//zz9d69e9f7/HX9fNampveopt91BUCfOnVq4HnFe3/wa40bN06PiYkJPN+yZYuuqqo+bty4ar+Pyu9Jbb//+fPn64A+f/58Xdd13e126/Hx8fpxxx2nl5WVBfb79ttvdUCfMmVKlZ8RqPL71nVd79evnz5gwIBqr1VZZmambrVa9TPOOKNK3NOnT9cB/e233672uzj4/0FNSktLq5V9/PHHOqD//vvvgbKKz+6OHTsCZR06dNABffbs2YGygoICPSkpSe/Xr1+1Y+vyua8pnhtvvFEPCQmp8v/rSCxdurTWz5Ou6/rxxx+vX3nllYHn//d//6fHxsbqHo+nyn4Vn9WsrCw9KytL37p1q/7000/riqLoxx13XJWfcdy4cTpQ5WfUdV0vKysLHJ+VlaXn5eUFtlV87mu7LV68uMb4nU5nlb9nh3O416l8q/i811V9YwkGaRprhkwmU6D/REUm7/V6GThwICtWrAjsFxkZSUlJySGbSiIjI1m3bh1btmypcfv+/ftZtWoVV199NdHR0YHyE044gdNPP53vvvvukLHOnj2b2NhYbrnllmrbKr5hfvfdd5hMJiZNmlRl+x133IGu63z//fcAzJkzB03TuOSSS8jOzg7cEhMT6dq1a52aXupq9uzZ9OnTp1oNTuW4D5abm8svv/zCJZdcQlFRUSC+nJwczjzzTLZs2VKtieSGG26ocr4RI0bg8/nYtWvXYWM83HtXG5vNFugY7vP5yMnJITQ0lO7du1f7/Ozdu5elS5fW6/x1/Xw2tn/9619Vno8YMYKcnBwKCwsB+PLLL9E0jSlTplTrKH8k1frLli0jMzOTm266qUrfodGjR9OjRw/+97//1SnGys0pNZk7dy5ut5vbbrutStzXX3894eHhNb5OXTgcjsDj8vJysrOzGTJkCECd3rfk5OQq/1/Cw8MZP348K1euJD09vcq+dfncV46n4v/TiBEjKC0tZePGjfX/AetozZo1rF27lssvvzxQdvnll5Odnc2PP/5Ybf+SkhLi4uKIi4ujS5cu3HnnnQwfPpyvvvqqys9Y8bk7uM/MjBkzAsfHxcWRmppa7TVuuOEGfv7552q3Xr16NcjPnJiYWOP5a7r16dOnQV6zKZGmsWbqvffe45lnnmHjxo14PJ5AeceOHQOPb7rpJj777DPOPvts2rRpwxlnnMEll1zCWWedFdjn4Ycf5vzzz6dbt24cd9xxnHXWWfzzn/8MVKFX/GHq3r17tRh69uzJjz/+SElJCU6ns8Y4t23bRvfu3Q9Zfbtr1y6Sk5MJCwurdv7KMWzZsgVd1+natWuN52nI6tpt27Zx4YUX1uuYrVu3ous6DzzwQLVRHxUyMzNp06ZN4Hn79u2rbK+oSs/Lyzvs6x3uvatNxSiiV155hR07dlTpcxETExN4fPfddzN37lwGDRpEly5dOOOMM7jiiisYPnz4YWOry+ezsR3qdxseHs62bdtQVbXBLiaH+r/So0cPFixYUKXMbrcTFxdXLcbDvfe1vY7VaqVTp051SqJrkpuby0MPPcQnn3wS6GRdoaCg4LDHd+nSpVoC2a1bN8BoKkpMTAyU1+Vzv27dOu6//35++eWXQBJRn3iO1IcffojT6aRTp05s3boVMN6rlJQUZs6cyejRo6vsb7fbA81ee/fu5cknnwx0+K+s4u9bcXExERERgfILL7yQ4447DjC+/NXUB6pr165VRr01NLvd3qjnb+okEWqGPvzwQ66++mrGjh3LXXfdRXx8PCaTiWnTplXpgBwfH8+qVav48ccf+f777/n+++955513GD9+PO+99x5gDAHetm0bX331FT/99BNvvvkmzz33HDNmzOC6664L1o9YI03TUBSF77//HpPJVG17sEcnaJoGwJ133smZZ55Z4z4HD2Gu6ecAauwkfrAjfe/++9//8sADD3DNNdfwyCOPEB0djaqq3HbbbYGfAYxEdNOmTXz77bf88MMPzJ49m1deeYUpU6bw0EMP1Xr+un4+66O2GppDdZw9mt/tsVBbfMFyySWXsGjRIu666y769u1LaGgomqZx1llnVflcNITDvTf5+fmMHDmS8PBwHn74YTp37ozdbmfFihXcfffdDR5P5df/+OOPKSkpqTFBzszMpLi4uMrfGpPJVCWJOPPMM+nRowc33nhjlUESPXr0AODvv/+u8mWiXbt2tGvXDjASwpr6AjU2n89XrbN6baKjo5v8iM76kkSoGZo1axadOnVizpw5VS4QFSNEKrNarZx33nmcd955aJrGTTfdxGuvvcYDDzwQuChHR0czYcIEJkyYQHFxMSeddBIPPvgg1113HR06dACocUjnxo0biY2NrbU2CIx5Of766y88Hk+tNTYdOnRg7ty5FBUVVakVqqj+roihomN1x44dA980G0vnzp35+++/63VMxRBWi8XSoN+uDtVMc6j3rjazZs3ilFNO4a233qpSnp+fX60TuNPp5NJLL+XSSy/F7XZzwQUX8Nhjj3HvvffWOnS8Pp/PuqqoMag8Kgo44toPMN5jTdNYv379ITtw17WZrPL/lVNPPbXKtk2bNgW2H63Kr1N52LTb7WbHjh1H9NnLy8tj3rx5PPTQQ0yZMiVQXp9m14oa0cq/r82bNwPUezK/X3/9lZycHObMmcNJJ50UKN+xY0e9zlNfv/32G3v37uXhhx8O1EhXyMvL44YbbuDLL788ZIfnpKQkbr/9dh566CH+/PPPQPPiueeey+OPP87MmTPrVKt6LO3Zs6fOtbXz588PjJxsKaSPUDNU8W2q8jfbv/76i8WLF1fZ7+Bhr6qqBppNXC5XjfuEhobSpUuXwPakpCT69u3Le++9V+Ui9Pfff/PTTz/VOMlXZRdeeCHZ2dlMnz692raK+M855xx8Pl+1fZ577jkUReHss88G4IILLsBkMvHQQw9V+1av63qdhvnW1YUXXsjq1av54osvao37YPHx8Zx88sm89tprNU4iVtdvXAdzOp3VEgA4/HtXG5PJVO1n+Pzzz6v1Xzr4/FarlV69eqHrepXmrprOD4f/fNZHeHg4sbGx/P7771XKX3nllSM+59ixY1FVlYcffrhaDUPl2Gv7/R9s4MCBxMfHM2PGjCrvwffff8+GDRuqNakcqVGjRmG1WnnxxRerxPnWW29RUFBwRK9T03sGxqjFukpLS6vy/6WwsJD333+fvn37VmkWO9J43G73Ub3fdVHRLHbXXXdx0UUXVbldf/31dO3atdokiTW55ZZbCAkJ4fHHHw+UDR8+nNNPP53XX3+dr776qsbjglVbKX2ERJP09ttv88MPP1Qrv/XWWzn33HOZM2cO48aNY/To0ezYsYMZM2bQq1cviouLA/ted9115Obmcuqpp9K2bVt27drFSy+9RN++fQPfdnr16sXJJ5/MgAEDiI6OZtmyZcyaNYubb745cJ6nnnqKs88+m6FDh3LttdcGhs9HREQccl4SgPHjx/P+++8zefJklixZwogRIygpKWHu3LncdNNNnH/++Zx33nmccsop3HfffezcuZM+ffrw008/8dVXX3HbbbcFZnvt3Lkzjz76KPfeey87d+5k7NixhIWFsWPHDr744gtuuOEG7rzzzgb47cNdd93FrFmzuPjii7nmmmsYMGAAubm5fP3118yYMaPWPwYvv/wyqampHH/88Vx//fV06tSJjIwMFi9ezN69e2ucq+dwBgwYwKuvvsqjjz5Kly5diI+P59RTT63Te1eTc889l4cffpgJEyYwbNgw1q5dy8yZM6tNynbGGWeQmJjI8OHDSUhIYMOGDUyfPp3Ro0dX68918Pnr8vmsr+uuu47HH3+c6667joEDB/L7778HahyORJcuXbjvvvt45JFHGDFiBBdccAE2m42lS5eSnJzMtGnTgNp//wezWCw88cQTTJgwgZEjR3L55ZcHhs+npKRw++23H3GslcXFxXHvvffy0EMPcdZZZzFmzBg2bdrEK6+8woknnnhEw7PDw8M56aSTePLJJ/F4PLRp04affvqpXjUw3bp149prr2Xp0qUkJCTw9ttvk5GRwTvvvFPveIYNG0ZUVBRXXXUVkyZNQlEUPvjggxoThV9//ZVTTjmFqVOnHvbv0aG4XC5mz57N6aefXmtt55gxY3jhhRfIzMwkPj6+1nPFxMQwYcIEXnnlFTZs2BD4e/vhhx9y1llnMXbsWM4++2xGjRpFVFRUYGbp33//PfDFr7IVK1bw4YcfVivv3LlzlYkij1RD9xH65ptvAn/rPB4Pa9asCUxIOWbMmMP2YzzmjuEINVEHFcNLa7vt2bNH1zRN/+9//6t36NBBt9lser9+/fRvv/1Wv+qqq/QOHToEzjVr1iz9jDPO0OPj43Wr1aq3b99ev/HGG/X9+/cH9nn00Uf1QYMG6ZGRkbrD4dB79OihP/bYY7rb7a4S19y5c/Xhw4frDodDDw8P18877zx9/fr1dfqZSktL9fvuu0/v2LGjbrFY9MTERP2iiy7St23bFtinqKhIv/322/Xk5GTdYrHoXbt21Z966qkqw08rzJ49W09NTdWdTqfudDr1Hj166P/+97/1TZs2BfY52uHzuq7rOTk5+s0336y3adNGt1qtetu2bfWrrrpKz87O1nW99iHd27Zt08ePH68nJibqFotFb9OmjX7uuefqs2bNCuxT2zQJBw/J1nVdT09P10ePHq2HhYXpQGAod13fu4OVl5frd9xxh56UlKQ7HA59+PDh+uLFi/WRI0dWGSb+2muv6SeddJIeExOj22w2vXPnzvpdd92lFxQUHPL8df181qa296i0tFS/9tpr9YiICD0sLEy/5JJL9MzMzFqHzx/83tc07FvXjSke+vXrp9tsNj0qKkofOXKk/vPPPwe21/b7r+m90nVd//TTTwPni46O1q+88kp97969dfoZK2Kvi+nTp+s9evTQLRaLnpCQoE+cOLHK0OtD/S5qsnfvXn3cuHF6ZGSkHhERoV988cV6Wlpatd9vbcPnR48erf/444/6CSecoNtsNr1Hjx76559/XuU16vO5X7hwoT5kyBDd4XDoycnJ+n/+8x/9xx9/rLbfN998owP6jBkzDvszVqhp+Pzs2bN1QH/rrbdqPe7XX3/VAf2FF17Qdb3291HXjb8DJpOp2t+VsrIy/fnnn9eHDh2qh4eH62azWU9MTNTPPfdcfebMmVWmOzncsPbahqUHe8h6xfQQNd1qm7IgmBRdbyI9B4UQQjRLKSkpHHfccXz77bfH/LX/85//8PHHH7N169YjWipHCOkjJIQQotmaP38+DzzwgCRB4ohJHyEhhBDNVn0n/BTiYFIjJIQQQohWS/oICSGEEKLVkhohIYQQQrRakggJIYQQotWSztKHoWkaaWlphIWFHdGK1EIIIYQ49nRdp6ioiOTkZFS19nofSYQOIy0tLbAgnhBCCCGalz179tC2bdtat0sidBgVSwns2bOH8PDwIEcjhBBCiLooLCykXbt2h1wSCCQROqyK5rDw8HBJhIQQQohm5nDdWqSztBBCCCFaLUmEhBBCCNFqSSIkhBBCiFZLEiEhhBBCtFqSCAkhhBCi1ZJESAghhBCtliRCQgghhGi1JBESQgghRKsliZAQQgghWi1JhIQQQgjRakkiJIQQQohWq9klQi+//DIpKSnY7XYGDx7MkiVL6nTcJ598gqIojB07tnEDrCtdB80X7CiEEEKIVq1ZJUKffvopkydPZurUqaxYsYI+ffpw5plnkpmZecjjdu7cyZ133smIESOOUaR1sOUneHU4bP7JSIqEEEIIccw1q0To2Wef5frrr2fChAn06tWLGTNmEBISwttvv13rMT6fjyuvvJKHHnqITp06HcNoD2PB85C1AT66GN47D9JWBjsiIYQQotVpNomQ2+1m+fLljBo1KlCmqiqjRo1i8eLFtR738MMPEx8fz7XXXlun13G5XBQWFla5NYrLP4Jhk8Bkg51/wOsnw+zrIG9X47yeEEIIIappNolQdnY2Pp+PhISEKuUJCQmkp6fXeMyCBQt46623eOONN+r8OtOmTSMiIiJwa9eu3VHFXStHFJzxCNyyDI6/xChb+zlMHwg/3Q9leY3zukIIIYQIaDaJUH0VFRXxz3/+kzfeeIPY2Ng6H3fvvfdSUFAQuO3Zs6cRowQi28OFb8ANv0HHk8DnhkUvwQt9YdF08Loa9/WFEEKIVswc7ADqKjY2FpPJREZGRpXyjIwMEhMTq+2/bds2du7cyXnnnRco0zQNALPZzKZNm+jcuXO142w2GzabrYGjr4PkvjD+a9g6F36eApnr4af7YMlrcNpU6H0BqC02bxVCCCGCotlcWa1WKwMGDGDevHmBMk3TmDdvHkOHDq22f48ePVi7di2rVq0K3MaMGcMpp5zCqlWrGq/J62goCnQ9Hf61AMa8BKGJkL8bZl8Lb54KOxcEO0IhhBCiRWk2NUIAkydP5qqrrmLgwIEMGjSI559/npKSEiZMmADA+PHjadOmDdOmTcNut3PcccdVOT4yMhKgWnmTo5qg/3g47kJY/AosfN4YVfbuaOh2Fox6COJ7BDtKIYQQotlrVonQpZdeSlZWFlOmTCE9PZ2+ffvyww8/BDpQ7969G7UlNR9ZnTDyLhhwFfz2BCx7Bzb/YMxB1O+fcMr/QVj1ZkEhhBBC1I2i6zKb36EUFhYSERFBQUEB4eHhwQ0mewvMfRA2fms8tzhh2C3GzRYa1NCEEEKIpqSu1+8WVH3SCsR2hctmwoQfoO2J4CmB3x6HF/vBsrfB5w12hEIIIUSzIolQc9RhKFz7M1z8HkR1hJJM+PZ2eHUYbPpeluwQQggh6kgSoeZKUaD3WPj3EjjrCXBEQ/Ym+PgyePdc2Lc82BEKIYQQTZ4kQs2d2QpD/gW3roLU28Fsh10L4I1TYdY1kLsj2BEKIYQQTZYkQi2FPQJGPQi3LIc+VwAK/D0bpp8IP/wflOYGO0IhhBCiyZFEqKWJaAvjXoUbf4dOp4DmgT9fhhf7wsIXwFMe7AiFEEKIJkMSoZYq6QQY/yX8YzbE94byAmPpjuknwprPwL/ciBBCCNGaSSLU0nUZBf/6A85/BcKSoWA3zLke3jgZtv8W7OiEEEKIoJJEqDVQTdDvSqP/0GlTwBoG+1fD+2Pgw4sgY32wIxRCCCGCQhKh1sQaAiPuMEaYDboRVDNs/RlmDIevbobCtGBHKIQQQhxTkgi1Rs5YOOdJYw6inmNA12DlB/Bif/jlUXAVBTtCIYQQ4piQRKg1i+kMl35gzFLdbjB4y+D3p+CFvrDkDfB5gh2hEEII0agkERLQbhBc8yNc8gFEd4bSbPjuTnhlCGz4VpbsEEII0WJJIiQMigK9xsC//4JznoaQWMjZCp9eCe+cDXuWBjtCIYQQosFJIiSqMllg0PUwaSWMuBPMDti9GN4aBZ+Nh5xtwY5QCCGEaDCSCIma2cPhtAeMIff9/gEosP4reHkwfH83lOQEO0IhhBDiqEkiJA4tog2c/zJMXGhMzqh54K8ZxpIdfzwLnrJgRyiEEEIcMUmERN0k9DaW6/jnl5B4PLgKYd5D8NIAWPURaL5gRyiEEELUmyRCon46nwI3/A7jXoPwtlC4D76cCK+NhG2/BDs6IYQQol4kERL1p6rQ5zKj/9Coh8AWARlr4YNx8MEFkP53sCMUQggh6kQSIXHkLHZIvc1YsmPITaBaYNs8mJEKX94EBfuCHaEQQghxSJIIiaMXEg1nTYObl0DvCwAdVs2El/rD3IegvCDYEQohhBA1kkRINJzoTnDxO3DdPGg/DLzlsOBZeLEf/PU6eN3BjlAIIYSoQhIh0fDaDoQJ38FlH0FMVyjNge/vglcGG3MRyZIdQgghmghJhETjUBToMRpuWgyjnwVnHORuN2anfusM2P1XsCMUQgghJBESjcxkgROvNZbsGHk3WEJg7xJ4+wz49B+QvTXYEQohhGjFJBESx4YtDE75P7hlBfQfD4oKG74xmsv+dycUZwU7QiGEEK2QJELi2ApPgjEvwcRF0PVM0Lyw9A2jQ/XvT4G7NNgRCiGEaEUkERLBEd8TrvwMrvoGkvqAuwh+edQYcr/iA1myQwghxDEhiZAIro4nwfW/wgVvQkR7KNoPX98MM0bAlrkywkwIIUSjkkRIBJ+qwgkXw81L4YxHwR4Bmetg5oXw/vmwf3WwIxRCCNFCSSIkmg6LHYbdApNWwdCbwWSFHb8ZC7rOuRHy9wQ7QiGEEC2MJEKi6QmJhjMfM2qIjrsI0GHNJ/DSAPh5CpTlBztCIYQQLYQkQqLpikqBi96C6+dDygjwuWDhC/BiX1j8iizZIYQQ4qhJIiSavjb9jdFll38Ksd2hLA9+vBdePhH+niMdqoUQQhwxSYRE86Ao0P0sY/6h816A0ATI2wmzJsCbp8GuRcGOUAghRDMkiZBoXkxmGHC1MUP1yf8HFifsWw7vnA0fXwFZm4MdoRBCiGZEEiHRPNlC4eS7jTXMBl4Digk2/Q9eGQLf3g7FmcGOUAghRDMgiZBo3sIS4NznjFXuu58Dug+WvW0s2fHrE+AuCXaEQgghmjBJhETLENcdLv8Yrv4O2gwAdzH8+l94sT8sfw983mBHKIQQogmSREi0LCnD4bp5cNHbENkBitPhm0kwIxU2/ygjzIQQQlQhiZBoeRQFjrvQmJDxzGngiIKsDfDRJfDeeZC2MtgRCiGEaCIkERItl9kGQ28yOlQPmwQmG+z8A14/GWZfB3m7gh2hEEKIIJNESLR8jig44xG4ZRmccKlRtvZzmD4QfrzPmKBRCCFEqySJkGg9ItvDBa/DDb9Bx5PA54bF0+GFvrDoJfC6gh2hEEKIY0wSIdH6JPeF8V/DlbMgvheU58NP9xs1RGtngaYFO0IhhBDHiCRConVSFOh6OvxrAYyZDmFJkL8bZl8Lb54KO/4IdoRCCCGOAUmEROummqD/P+GW5XDq/WANNUaVvXcufHQpZG4MdoRCCCEakSRCQgBYnXDSXTBpFZx4nbFkx+Yf4NWh8PUkKEoPdoRCCCEagSRCQlQWGgejn4F//wU9zgVdgxXvGUt2zP8vuIqDHaEQQogGJImQEDWJ7QqXzYQJP0DbE8FTCr89YSRES9+SJTuEEKKFkERIiEPpMBSu/Rkufg+iOkJJJvxvstFktvE7WbJDCCGaOUmEhDgcRYHeY+HfS+DsJ8ERDdmb4ZPL4d3RsG95sCMUQghxhCQREqKuzFYYfCPcugpSJ4PZDrsWwhunwucTIHdHsCMUQghRT5IICVFf9ggYNdUYct/nCkCBdXNg+onww71QmhvsCIUQQtRRs0uEXn75ZVJSUrDb7QwePJglS5bUuu+cOXMYOHAgkZGROJ1O+vbtywcffHAMoxUtWkRbGPcq/OsP6HwqaB748xVjyY6FL4CnPNgRCiGEOIxmlQh9+umnTJ48malTp7JixQr69OnDmWeeSWZmZo37R0dHc99997F48WLWrFnDhAkTmDBhAj/++OMxjly0aInHwz+/gH/MgYTjwFUAP08xluxY/aks2SGEEE2YouvNZ9jL4MGDOfHEE5k+fToAmqbRrl07brnlFu655546naN///6MHj2aRx55pE77FxYWEhERQUFBAeHh4Uccu2glNB+s+RR+eRQK9xlliSfAGY9Ap5ODGpoQQrQmdb1+N5saIbfbzfLlyxk1alSgTFVVRo0axeLFiw97vK7rzJs3j02bNnHSSSfVup/L5aKwsLDKTYg6U03Q9wqj/9BpU8EWDulr4P3z4cOLIGN9sCMUQghRSbNJhLKzs/H5fCQkJFQpT0hIID299uUPCgoKCA0NxWq1Mnr0aF566SVOP/30WvefNm0aERERgVu7du0a7GcQrYjFASMmw6SVMOhGUM2w9WeYMRy++jcUpgU7QiGEEDSjROhIhYWFsWrVKpYuXcpjjz3G5MmT+fXXX2vd/95776WgoCBw27Nnz7ELVrQ8zlg450ljDqJe5xtLdqz8EF7sD/MegXKpcRRCiGAyBzuAuoqNjcVkMpGRkVGlPCMjg8TExFqPU1WVLl26ANC3b182bNjAtGnTOPnkk2vc32azYbPZGixuIQCI6QyXvA97lsBP98Oev+CPp2H5u3DyPTDgajBZgh2lEEK0Os2mRshqtTJgwADmzZsXKNM0jXnz5jF06NA6n0fTNFwuV2OEKMThtRsE1/wIl34I0Z2hNBu+uxNeGQIbvpElO4QQ4hhrNjVCAJMnT+aqq65i4MCBDBo0iOeff56SkhImTJgAwPjx42nTpg3Tpk0DjP4+AwcOpHPnzrhcLr777js++OADXn311WD+GKK1UxToeR50O8uoEfr1ccjZCp/+A9oNMUaYtRsU7CiFEKJVaFaJ0KWXXkpWVhZTpkwhPT2dvn378sMPPwQ6UO/evRtVPVDJVVJSwk033cTevXtxOBz06NGDDz/8kEsvvTRYP4IQB5gsMOh6OOFSYwLGxS/Dnj/hrdON/kSnTTWa1IQQQjSaZjWPUDDIPELimClMg/mPwcqZgG6MNBt4LYy8G5wxwY5OCCGalRY3j5AQLV54Mpz/MkxcCF1OB80LS16DF/vCH8+ApyzYEQohRIsjiZAQTU1Cb/jHLBj/lTErtasQ5j0MLw2AVR8Zs1cLIYRoEJIICdFUdToZbvgNxr0OEe2MJTu+nAivjYSt8w57uBBCiMOTREiIpkxVoc+lcPMyOP1hsEVAxlr48AL4YBykrw12hEII0axJIiREc2Cxw/Bb4dZVMOQmUC2w7ReYMQK+mAgF+4IdoRBCNEuSCAnRnIREw1nT4Oal0PsCQIfVH8FL/WHuQ1BeEOwIhRCiWal3IvTDDz+wYMGCwPOXX36Zvn37csUVV5CXl9egwQkhahHdES5+B677BdoPA285LHgWXuwHf70GXnewIxRCiGah3onQXXfdRWGhsVDk2rVrueOOOzjnnHPYsWMHkydPbvAAhRCH0HYATPgOLvsYYrtBaQ58/x94ZTCs+1KW7BBCiMOo94SKoaGh/P3336SkpPDggw/y999/M2vWLFasWME555xDenp6Y8UaFDKhomg2fF5Y+T7MnwYlmUZZ20HGkh3thwQ3NiGEOMYabUJFq9VKaWkpAHPnzuWMM84AIDo6OlBTJIQIApMZBl4Dk1bAyHvAEgJ7l8DbZ8InV0L21mBHKIQQTU69E6HU1FQmT57MI488wpIlSxg9ejQAmzdvpm3btg0eoBCinmxhcMq9MGkl9L8KFBU2fgsvD4L/3QHFWcGOUAghmox6J0LTp0/HbDYza9YsXn31Vdq0aQPA999/z1lnndXgAQohjlBYIox5ESYuMla6132w9E2jQ/XvT4G7NNgRCiFE0Mmiq4chfYREi7Hjd/jpAdi/yngelgSn3Ad9rwDVFNTQhBCioTVaHyGTyURmZma18pycHEwm+WMqRJPV8SS4fj5c+BZEtoei/fD1zTAjFbb8LCPMhBCtUr0TodoqkFwuF1ar9agDEkI0IlWF4y8yluw441GwR0Dmeph5Ebx/PqStCnaEQghxTJnruuOLL74IgKIovPnmm4SGhga2+Xw+fv/9d3r06NHwEQohGp7ZBsNugb5Xwh/PwJLXYcdv8PpIOOFSOPV+o9ZICCFauDr3EerYsSMAu3btom3btlWawaxWKykpKTz88MMMHjy4cSINEukjJFqFvJ3wy6Ow9nPjuckGg2+EEXeAIzKYkQkhxBGp6/W73p2lTznlFObMmUNUVNRRB9kcSCIkWpV9K+DnKbDzD+O5IwpO+g+ceK1RiySEEM1EoyVCrY0kQqLV0XXY8pOREGVtNMoiO8CoqcZCr4oS3PiEEKIOGi0R8vl8vPvuu8ybN4/MzEw0Tauy/ZdffjmyiJsoSYREq+XzwqqZMP+/UOxfOqfNAKOTdYdhwY1NCCEOo67X7zp3lq5w66238u677zJ69GiOO+44FPl2KETLZDLDgKuMUWaLpsPCF2DfcnjnbOh+Dox6COK6BTtKIYQ4KvWuEYqNjeX999/nnHPOaayYmhSpERLCrzgTfp0Gy98zZqlWTEaiNPIeCEsIdnRCCFFFoy662qVLl6MKTgjRDIXGw7nPwU1/QvfRRjK07G1jyY5fnwB3SbAjFEKIeqt3InTHHXfwwgsv1DqxohCihYvrBpd/BFd/Z/QZ8pTAr/81EqLl7xp9i4QQopmod9PYuHHjmD9/PtHR0fTu3RuLxVJl+5w5cxo0wGCTpjEhDkHXYd0XMO8hYy4igLgeRv+hbmfKCDMhRNA0WmfpyMhIxo0bd1TBCSFaCEWB4y6AHqONZrLfnjCG3H98KaSMgNMfhjb9gx2lEELUSuYROgypERKiHsryYcGz8OcM8LmMsuMugtOmQFSHoIYmhGhdGq2zNIDX62Xu3Lm89tprFBUVAZCWlkZxcfGRRSuEaBkckUYt0C3L4YTLAAX+ngXTB8KP90FpbrAjFEKIKupdI7Rr1y7OOussdu/ejcvlYvPmzXTq1Ilbb70Vl8vFjBkzGivWoJAaISGOwv7V8NMDxoKuAPZIOOlOGHSDLNkhhGhUjVYjdOuttzJw4EDy8vJwOByB8nHjxjFv3rwji1YI0TIl9YHxX8GVsyG+F5Tnw0/3GzVEaz6Hg2amF0KIY63eidAff/zB/fffj9VqrVKekpLCvn37GiwwIUQLoSjQdRT8awGMmQ5hSZC/G+ZcB2+cAjt+D3aEQohWrN6JkKZp+Hy+auV79+4lLCysQYISQrRAqgn6/xNuWQGn3g/WMNi/Ct47D2ZeApkbgh2hEKIVqncidMYZZ/D8888HniuKQnFxMVOnTm01y24IIY6CNQROugsmrYQTrwfVDFt+hFeHwde3QFF6sCMUQrQi9e4svXfvXs4880x0XWfLli0MHDiQLVu2EBsby++//058fHxjxRoU0llaiEaWvRXmPQgbvjGeW0Jg2C3GzSa1zEKII1PX6/cRzSPk9Xr55JNPWLNmDcXFxfTv358rr7yySufplkISISGOkd1/GiPM9i4xnjvj4eR7oP9VYKr33K9CiFauUROh1kQSISGOIV2HDV/D3Achd7tRFtMVTn8Iup8jS3YIIeqsQROhr7/+mrPPPhuLxcLXX399yH3HjBlT/2ibMEmEhAgCrxuWv2Ms2VGaY5R1GA6nPwJtBwQ3NiFEs9CgiZCqqqSnpxMfH4+q1t6/WlGUGkeUNWeSCAkRROUFsOB5+PMV8JYbZb0vMJbsiO4Y1NCEEE2bNI01EEmEhGgCCvbB/Mdg1UeADqoFBl1vjD4LiQ52dEKIJqhR1xoTQohjKqINjH0F/vUHdD4NNI9RS/RCX6PGyFMe7AiFEM1UvROhSZMm8eKLL1Yrnz59OrfddltDxCSEEDVLPB7+OQf++QUkHA+uApg71ViyY/UnsmSHEKLe6p0IzZ49m+HDh1crHzZsGLNmzWqQoIQQ4pA6nwo3/gZjZ0B4GyjYA1/cCK+PhO2/Bjs6IUQzUu9EKCcnh4iIiGrl4eHhZGdnN0hQQghxWKoJ+l4OtyyH06aCLRzS18D758OHF0LGumBHKIRoBuqdCHXp0oUffvihWvn3339Pp06dGiQoIYSoM4sDRkyGSatg8L+MJTu2zoUZqfDVv6EwLdgRCiGasHpP1zp58mRuvvlmsrKyOPXUUwGYN28ezzzzTJU1yIQQ4phyxsDZT8CgG2Dew7D+S1j5IaydDUP/DcNvBbuM/BRCVHVEw+dfffVVHnvsMdLSjG9aKSkpPPjgg4wfP77BAww2GT4vRDO1Zyn8dD/s+dN4HhJrLNkx4GowWYIamhCi8R2TeYSysrJwOByEhoYe6SmaPEmEhGjGdB02/s8YWZaz1SiL7gyjHoSe58mSHUK0YDKhYgORREiIFsDngeXvwq+PQ6l/UEe7IXDGI9BuUFBDE0I0jgZNhPr378+8efOIioqiX79+KIf4FrVixYoji7iJkkRIiBakvBAWvQiLpoO3zCjrOcaoIYrpHNTQhBANq67X7zp1lj7//POx2WwAjB07tkECFEKIY84eDqfeDwOvgfn/hVUzjdXuN30HA6+Fkf8BZ2ywoxRCHEN1SoSioqICi61OmDCBtm3bHnLxVSGEaNLCk+H86TBkIvw8Fbb+DEteg9UfQ+ptMOQmY1i+EKLFq1PTmNlsJi0tjfj4eEwmE/v37yc+Pv5YxBd00jQmRCuw/Vf46QFjQkYwZqs+5T7oc5kxcaMQotlp0Kax5ORkZs+ezTnnnIOu6+zdu5fy8poXOWzfvv2RRSyEEMHS6WS44TdY+zn88oixZMdXNxkLu57+MHQ5LdgRCiEaSZ1qhF5//XVuueUWvF5vrfvouo6iKPh8vgYNMNikRkiIVsZTbjST/f6MsagrGGubnf6wseirEKJZaPDh80VFRezatYsTTjiBuXPnEhMTU+N+ffr0ObKImyhJhIRopUpz4fenYcnroHkABfpcDqfeBxFtgx2dEOIwGjQRevHFF7nhhhuw2+289957XHLJJTgcraMjoSRCQrRyuTuM5rK/ZxvPzXajk3Xq7WCvvgC1EKJpqOv1u05DvyZPnkxhYSEA11xzDUVFRQ0T5RF4+eWXSUlJwW63M3jwYJYsWVLrvm+88QYjRowgKiqKqKgoRo0adcj9hRCimuiOcNHbcN0v0GE4eMthwXPwQl/4cwZ43cGOUAhxFOqUCFV0lt61a1egs/Tu3btrvDWmTz/9lMmTJzN16lRWrFhBnz59OPPMM8nMzKxx/19//ZXLL7+c+fPns3jxYtq1a8cZZ5zBvn37GjVOIUQL1HYAXP0/uPwTiO0GZbnww93wymBY96WxnIcQotlpVp2lBw8ezIknnsj06dMB0DSNdu3accstt3DPPfcc9nifz0dUVBTTp0+vdYFYl8uFy+UKPC8sLKRdu3bSNCaEOMDnhZXvw/xpUOL/Itb2RDjjUWg/JLixCSGABm4au+GGG8jOzmb16tXous7PP//MihUrqtxWrlzZqMtruN1uli9fzqhRow4Er6qMGjWKxYsX1+kcpaWleDweoqOja91n2rRpREREBG7t2rU76tiFEC2MyWzMTj1pJYy8BywhsHcpvH0mfHIlZG8JdoRCiDqq96Kr7733HpdddllgyY1jJS0tjTZt2rBo0SKGDh0aKP/Pf/7Db7/9xl9//XXYc9x00038+OOPrFu3DrvdXuM+UiMkhKi3onT4dRqseB90DRQTDJxgJEmhccGOTohWqUFrhCq76qqrKCsr48033+Tee+8lNzcXMBZbbcp9bx5//HE++eQTvvjii1qTIACbzUZ4eHiVmxBCHFJYIpz3AkxcDN3OBt0HS9+EF/vCb0+BuzTYEQohalHvRGjNmjV069aNJ554gqeffpr8/HwA5syZw7333tvQ8QXExsZiMpnIyMioUp6RkUFiYuIhj3366ad5/PHH+emnnzjhhBMaLUYhRCsX3wOu+ASu+haS+4G7GOY/Ci/1N2qLtJY14awQLUG9E6Hbb7+dq6++mi1btlSpWTnnnHP4/fffGzS4yqxWKwMGDGDevHmBMk3TmDdvXpWmsoM9+eSTPPLII/zwww8MHDiw0eITQoiAjiOM4fYXvgWR7aFoP3x9C8xIhS0/ywgzIZqQeidCy5Yt48Ybb6xW3qZNG9LT0xskqNpMnjyZN954g/fee48NGzYwceJESkpKmDBhAgDjx4+vUiv1xBNP8MADD/D222+TkpJCeno66enpFBcXN2qcQgiBqsLxF8HNy+CMx8AeCZnrYeZF8P4YSFsV7AiFEBxBImSz2QKTK1a2efNm4uIat1PgpZdeytNPP82UKVPo27cvq1at4ocffiAhIQGA3bt3s3///sD+r776Km63m4suuoikpKTA7emnn27UOIUQIsBsg2E3w62rYNgtYLLCjt/h9ZEw5wbIb9z514QQh1bvUWPXXXcdOTk5fPbZZ0RHR7NmzRpMJhNjx47lpJNO4vnnn2+kUINDltgQQjSovF3Gkh1rPzeem2ww+EYYMRkcUcGNTYgWpNFGjT3zzDMUFxcTHx9PWVkZI0eOpEuXLoSFhfHYY48dVdBCCNHiRXWAC9+EG36FlBHgc8GiF+H986XvkBBBUO8aoQoLFixgzZo1FBcX079//yoTHbYkUiMkhGg0um50nv70H0ZCdPNyiO0S7KiEaBHqev02H+kLpKamkpqaeqSHCyGEUBTodga0GQC7F8GePyUREuIYq3fTGMBvv/3GeeedR5cuXejSpQtjxozhjz/+aOjYhBCidWg/2LjfXbflgoQQDafeidCHH37IqFGjCAkJYdKkSUyaNAm73c5pp53GRx991BgxCiFEy9bePxfa7sMvFSSEaFj17iPUs2dPbrjhBm6//fYq5c8++yxvvPEGGzZsaNAAg036CAkhGl1pLjzZ0Xh81zZwxgY3HiFagEYbNbZ9+3bOO++8auVjxoxhx44d9T2dEEKIkGiI62k83iO1QkIcS/VOhNq1a1dlmYsKc+fOpV27dg0SlBBCtDrST0iIoKj3qLE77riDSZMmsWrVKoYNGwbAwoULeffdd3nhhRcaPEAhhGgV2g+F5e9KPyEhjrF6J0ITJ04kMTGRZ555hs8++www+g19+umnnH/++Q0eoBBCtArt/DVCaSvBUwYWR3DjEaKVOKJ5hMaNG8e4ceMaOhYhhGi9olIgNBGK041kqMOwYEckRKtQ5z5CeXl5vPTSSzUuuFpQUFDrNiGEEHWgKNJPSIggqHMiNH36dH7//fcah6BFRETwxx9/8NJLLzVocEII0arIfEJCHHN1ToRmz57Nv/71r1q333jjjcyaNatBghJCiFap/RDjfs+foGnBjUWIVqLOidC2bdvo2rVrrdu7du3Ktm3bGiQoIYRolRKOB4sTygsga2OwoxGiVahzImQymUhLS6t1e1paGqp6REuXCSGEADCZoe1A4/GeP4MbixCtRJ0zl379+vHll1/Wuv2LL76gX79+DRGTEEK0XhXNY7slERLiWKjz8Pmbb76Zyy67jLZt2zJx4kRMJhMAPp+PV155heeee04WXRVCiKMliZAQx1SdE6ELL7yQ//znP0yaNIn77ruPTp06AcbaY8XFxdx1111cdNFFjRaoEEK0Cm1PBEWF/F1QuB/Ck4IdkRAtWr069Tz22GP8+eefXH311SQnJ5OUlMSECRNYvHgxjz/+eGPFKIQQrYctDBKOMx5LPyEhGl29Z5YeNGgQgwYNaoxYhBBCgNE8lr7GaB7rLbP4C9GYZJhXkGTsLGTp/3ZQnOcKdihCiKZG+gkJccwc0Vpj4uit/XUvm/5MZ+m3O+hwfCy9hifR4bgYVJPkpkK0eu38iVD6WnAVgy00uPEI0YJJIhQkHY6LoTC7jP1bC9i5Jpuda7JxRljpMSyJXsOTCY+VlaeFaLUi2kBEeyjYDfuWQaeTgx2REC2WJEJB0nVgAl0HJpCXXsL6BWls/DOdkgI3y7/fxfIfdtGuRxS9UtvQsU8sJrPUEgnR6rQfDGt3G81jkggJ0WgkEQqyqEQnwy/qypDzO7N9dRbrF6Sxd2MeezYYN0eYhe5DkuidmkxkQkiwwxVCHCvth8Daz6WfkBCNrE6JUL9+/VAUpU4nXLFixVEF1FqZLGqglqggq4wNC9PYsHg/pQVuVv28m1U/7ya5ayS9UpPp3C8Os9UU7JCFEI2pop/Q3qXg8xrLbwghGlyd/meNHTs28Li8vJxXXnmFXr16MXToUAD+/PNP1q1bx0033dQoQbY2EXEOhoztzKDzOrLr7xzWL0hj1985pG3JJ21LPn98aqbb4ER6pyYT00Y6UQrRIsX3BFsEuAogcx0k9Ql2REK0SIqu63p9DrjuuutISkrikUceqVI+depU9uzZw9tvv92gAQZbYWEhERERFBQUEB4eHrQ4ivPK2bBoPxsW7qcotzxQntAxnF6pyXQZEI/VLt8YhWhRPrwQts6Fs5+EwTcGOxohmpW6Xr/rnQhFRESwbNkyunbtWqV8y5YtDBw4kIKCgiOLuIlqKolQBU3T2bshl/UL0tixOhtNM94+i91E1xMT6J2aTFz7sDo3ZQohmrDfn4JfHoXeF8DF7wQ7GiGalbpev+tdheBwOFi4cGG1RGjhwoXY7fb6RyrqRVUV2veOoX3vGEoL3WxcvJ/1C9IoyCpj/R9prP8jjdh2ofQanky3wYnYHFJLJESz1a7SxIq6DvIFR4gGV++r5G233cbEiRNZsWJFYKmNv/76i7fffpsHHnigwQMUtQsJt9L/zA70O6M9aZvzWbcgje0rs8jeU8zvn2xm0eytdBkQT6/UZBI7R0gtkRDNTZsBoJqhKA0K9kBk+2BHJESLU++mMYDPPvuMF154gQ0bNgDQs2dPbr31Vi655JIGDzDYmlrT2OGUF3vY9Fc66xemkZtWEiiPSnLSa3gS3Yck4gi1BjFCIUS9vHEq7FsOF7wBJ7S8v7FCNJZG6yPU2jS3RKiCrutk7Chk3YI0ti7LwOvWAFDNCp37xtErNZk23aJQVKklEqJJ+/E+WDwdBl4L5z4b7GiEaDYarY8QQH5+PrNmzWL79u3ceeedREdHs2LFChISEmjTps0RBy0ajqIoJHaKILFTBKkXd2XL0gzWL0gja3cRW5ZlsmVZJuFxDnoNT6LH0CScEbZghyyEqEm7wUYiJBMrCtEo6l0jtGbNGkaNGkVERAQ7d+5k06ZNdOrUifvvv5/du3fz/vvvN1asQdFca4Rqk7W7iHUL0ti8JB1PuQ8ARVVIOT6GXqnJtO8dgyq1REI0HcWZ8HRXQIG7d4IjMsgBCdE81PX6Xe9FrCZPnszVV1/Nli1bqowSO+ecc/j999+PLFpxzMS1D+PkK7oz4YlUTh3fg8RO4eiazo7V2fzv5TV8cN8ilnyzvcpcRUKIIAqNh+hOgG7MMi2EaFD1bhpbunQpr732WrXyNm3akJ6e3iBBicZnsZnoOSyZnsOSydlXzPqFaWz6M53iPBdL/7eTpd/tpH2vGHqnJtPhhBhMJln4VYigaT8UcrfD7sXQ9fRgRyNEi1LvRMhms1FYWFitfPPmzcTFxTVIUOLYimkTyohLujF0XGe2rzQWft23OZ/d63LYvS6HkHArPYYm0Ss1iYg4WfhViGOu3WBYNRN2/xXsSIRoceqdCI0ZM4aHH36Yzz77DDA65e7evZu7776bCy+8sMEDFMeO2WKi26BEug1KJD+jlPUL09i4eD+lhW5W/LiLFT/uok33KHqnJtOpbxwmi9QSCXFMtDfWdWTfMvC6wSxTYAjRUOrdWbqgoICLLrqIZcuWUVRURHJyMunp6QwdOpTvvvsOp9PZWLEGRUvrLF1fPq/GzjXZrF+Qxu4NueD/tNidFroPSaRXajLRSS3rPReiydF1eLITlOXCdfOg7cBgRyREk9fo8wgtWLCANWvWUFxcTP/+/Rk1atQRB9uUtfZEqLLC7DJj4ddF+ynJdwXKkzpH0Cs1mc4D4rFYTUGMUIgW7OPLYdN3cMajMOyWYEcjRJPXaInQ7t27SUhIwGarOu+Mruvs2bOH9u1b1hTwkghVp/k0dq/LZd2CNHb9nYPuX/jV6jDTbVACvVKTiWsXFuQohWhhFjwPc6dCj3PhspnBjkaIJq/RJlRMSUmhZ8+efP3113Tu3DlQnpmZSceOHfH5fEcWsWg2VJNKygmxpJwQS0m+y19LlEZhdjl//7aPv3/bR3yHMHqlJtP1xASsdln4VYijVtFPSBZgFaJBHdEVqmfPngwaNIjPPvuM0047LVAuq3W0Ps5IGwPPSWHAWR3YuzGPdQvS2LE6i8xdRWTu2sSCWVvpOtBY+DUhJVwWfhXiSCX3BZMNSrONofQxnQ97iBDi8OqdCCmKwiuvvMLMmTMZPXo0Tz75JJMmTQpsE62Toiq06xVNu17RlBW52bjYWPg1P6OUDQv3s2HhfmLaOOmVmky3QYnYnZZghyxE82K2QZv+xlxCuxdLIiREA6l3IlRR63P77bfTo0cPLr/8ctauXcuUKVMaPDjRPDnCrPQ7oz19T2/H/q35rFuQxrYVWeTsK+GPT7ewaM42OvePo3dqMkldIiWBFqKu2g32J0J/Qr9/BDsaIVqEeneWVlWV9PR04uPjAVi/fj1jxozB6XTy999/t7g+QtJZumGUl3jYvMRY+DVnX3GgPDIhhF7Dk+kxNBFHmMyNIsQhbfoBPr4UYrrCLcuCHY0QTVqjdZYeOXIkVuuBC1avXr3466+/uOCCC6SPkKiV3WnhhFPacvzJbcjcWcT6BfvYvCyT/IxSFs3Zyp9fbaNjH6OWqG2PKBRZ+FWI6toNMu5ztkBJNjhjgxuPEC3AEc8j1FpIjVDjcZd72bLUqCXK3FUUKA+PtfvXQUvCGWk7xBmEaIVeHgxZG+Gyj6DH6GBHI0ST1aA1QoWFhYGT1LTOWGWSLIi6strN9B7Rht4j2pC9t4j1f6SxaUkGhdnl/PX1dpZ8u4MOxxkLv7bvHY0qC78KYfQTytpo9BOSREiIo1anGiGTycT+/fuJj49HVdUaO7fquo6iKNJHSBwVj9vHthWZrF+Qxv6tBYFyZ6SNnsOS6Dk8ifAYRxAjFCLIVn0MX/4L2g6C634OdjRCNFkNWiP0yy+/EB0dDcD8+fMbJkIhamCxmugxJIkeQ5LI3V/C+oVpbFqcTkm+i2Xf7WTZ9ztp3zOaXqnJpJwQi8kstUSilWk/2LhPWwmeMrDIFwMhjob0EToMqREKPp9HY/vqLNYvSGPvxrxAuSPMQo+hSfQankxkQkgQIxTiGNJ1eKY7FGfAhO+hw7BgRyREk9SgNUJr1qyp8wufcMIJdd5XiLowWVS6Dkyg68AECrJKWb9wPxsX7ae00M3Kn3az8qfdJHeNNBZ+7R+H2SILv4oWTFGMfkIbvjb6CUkiJMRRqVONUEW/oIp+QIfS2H2EXn75ZZ566inS09Pp06cPL730EoMGDapx33Xr1jFlyhSWL1/Orl27eO6557jtttvq9XpSI9Q0+Xwau9bmsH5BGrvX5VDxKbaFmOk+OJFeqcnEtAkNbpBCNJbFr8CP90LXM+HKz4IdjRBNUoPWCO3YsSPweOXKldx5553cddddDB1qLAK4ePFinnnmGZ588smjDPvQPv30UyZPnsyMGTMYPHgwzz//PGeeeSabNm0KTPBYWWlpKZ06deLiiy/m9ttvb9TYxLFlMql06htHp75xFOWWGwu/LkyjOM/Fmvl7WTN/Lwkdw42FXwcmYLFJLZFoQSr6Ce35CzQNVOkrJ8SRqncfoUGDBvHggw9yzjnnVCn/7rvveOCBB1i+fHmDBljZ4MGDOfHEE5k+fToAmqbRrl07brnlFu65555DHpuSksJtt90mNUItmKbp7Fmfy/oFaexck42mGR9ti91EtxMT6JWaTHwHeQ9FC+DzwOPtwVMKN/0J8T2DHZEQTU6jzSy9du1aOnbsWK28Y8eOrF+/vr6nqzO3283y5cu59957A2WqqjJq1CgWL17cYK/jcrlwuVyB54ebN0k0Haqq0OG4GDocF0NJgYuNi/ezfuF+CrPKWPdHGuv+SCO2XSi9U5PpOigRm6PeH38hmgaTBdoMgJ1/GP2EJBES4ojVuz61Z8+eTJs2DbfbHShzu91MmzaNnj0b7z9jdnY2Pp+PhISEKuUJCQmkp6c32OtMmzaNiIiIwK1du3YNdm5x7DgjbAw4K4V/PDSE82/vR9cTE1DNCtl7ivnt4828e/cC5r23nv3bCmRpGNE8tTe6JrD7z+DGIUQzV++vxDNmzOC8886jbdu2gRFia9asQVEUvvnmmwYP8Fi79957mTx5cuB5YWGhJEPNmKIqtO0eRdvuUZQXd2PTX+msW5BG3v4SNi5OZ+PidKKTnfQankz3wYnYQy3BDlmIuqnoJ7S74WrEhWiN6p0IDRo0iO3btzNz5kw2btwIwKWXXsoVV1yB0+ls8AArxMbGYjKZyMjIqFKekZFBYmJig72OzWbDZpP1rVoie6iFPqe144RT25K+vZD1C/axdVkmuWklLPh8C4u/2EanfnH0Sk2mTbfIw46QFCKo2g4CRYX8XVC4H8KTgh2REM1SvRIhj8dDjx49+Pbbb7nhhhsaK6YaWa1WBgwYwLx58xg7dixgdJaeN28eN9988zGNRTRviqKQ1DmCpM4RpF7SjS1LjFqi7D3FbFmawZalGUTEOeiVmkyPoUmEhFuDHbIQ1dnDIaE3pK+FPX9C73HBjkiIZqleiZDFYqG8vLyxYjmsyZMnc9VVVzFw4EAGDRrE888/T0lJCRMmTABg/PjxtGnThmnTpgFG36WKDtxut5t9+/axatUqQkND6dKlS9B+DtF02BxmjhvZluNGtiVzVyHrF6SxeWkGBVllLP5iG399tZ2UPrH0Sk2mXc9oVFVqiUQT0m6IkQjt/ksSISGOUL2Hz//3v/9l8+bNvPnmm5jNx37UzfTp0wMTKvbt25cXX3yRwYONtvKTTz6ZlJQU3n33XQB27txZ4wi3kSNH8uuvv9bp9WT4fOvjLveydbmx8GvGjgOjBkOjbfQankzPYUmERtmDGKEQfmtnwexrIakv3PhbsKMRokmp6/W73onQuHHjmDdvHqGhoRx//PHV+gXNmTPnyCJuoiQRat1y9hWzfkEam/5Kx1XqBYwVDtofF0Ov4cl0OD4Gk0kmsxNBUrAXnusNignu2Q02mU1diAqNNo9QZGQkF1544VEFJ0RzEdMmlBGXdmPouM5sW2ks/Jq2JZ9da3PYtTaHkAhrYOHXiDhZBVwcYxFtIaIdFOyBfcug08nBjkiIZkdWnz8MqRESB8vPKGX9gjQ2/rmfsiJPoLxtjyh6pSbTqU8cJovUEoljZNa18PcsOPn/4OS7gx2NEE1Go9UICdHaRSaEMOzCLgw+vxM7VmezfmEaezbksndjHns35mEPtdB9SCK9U5OJSmy8KSWEAKD9ECMRkvmEhDgiR5QIzZo1i88++4zdu3dXmWEaYMWKFQ0SmBBNncms0mVAPF0GxFOYXRZY+LWkwM3quXtYPXcPSV0i6JWaTJf+8ZitsvCraATthxj3e5eCzwsm+X4rRH3Uu/7+xRdfZMKECSQkJLBy5UoGDRpETEwM27dv5+yzz26MGIVo8sJjHQwe04nx/x3GOTedQMoJsSgK7N9awLx3N/DO3Qv5/eNNZO8tCnaooqWJ7wW2cHAXQ+a6YEcjRLNT7z5CPXr0YOrUqVx++eWEhYWxevVqOnXqxJQpU8jNzQ2sDN9SSB8hcaSK81xsXJzG+oX7Kco5MP9WfIcweqUm0/XEBKx2+fYuGsAHF8C2eXD2UzD42E52K0RTVdfrd71rhHbv3s2wYcMAcDgcFBUZ33D/+c9/8vHHHx9huEK0PKFRNgae05F/PjKU8yb1oXP/OFSTQuauIn6duYl3717I/A82kLGjUBZ+FUcnsACr9BMSor7q/XU0MTGR3NxcOnToQPv27fnzzz/p06cPO3bskD/mQtRAURXa94qhfa8YSgvdbPxzPxsW7jdGny3cz/qF+4lpE0qv1GS6D07AFiILv4p6CizA+ifoujHZlRCiTuqdCJ166ql8/fXX9OvXjwkTJnD77bcza9Ysli1bxgUXXNAYMQrRYoSEW+l/Rgf6nd6etC35rF+QxrYVWeTsK+aPTzezaM5WuvSPp1dqMkldImThV1E3bQaAaoaiNGNOocj2wY5IiGaj3n2ENE1D07TA8hqffPIJixYtomvXrtx4441YrS1rgUrpIyQaW3mJh01/pbN+QRq5aSWB8qjEEHoOT6bHkEQcYS3r/5VoBK+fAmkr4II34YSLgx2NEEHXaEtstDaSCIljRdd1MnYYC79uWZaB160BoJoUOvWNo1dqMm27R6HIwq+iJj/8H/z5Mgy8Fs59NtjRCBF0DTqh4po1a+r8wieccEKd9xVCHKAoComdIkjsFEHqxV3ZvDSD9QvSyNpdxNblmWxdnkl4rJ2e/oVfnRG2YIcsmpL2g41EaM9fwY5EiGalTjVCqqqiKAq6rh+2z4LP52uw4JqCxqoRWpm5kh0FOzCrZkyKCbNqNm6KOfC4otyiWjCppsA2k2oyyiodZ1KMMrNqln4lLUzW7iLWL0xj81/puMuN/1+KqpByfAy9UpNp3zsGVWqJRFEGPNMNUODuneCIDHJAQgRXg9YI7dixI/B45cqV3Hnnndx1110MHWoM2Vy8eDHPPPMMTz755FGG3Xp8s+0bPt/8eaOcW1XUakmTWTEeH5w4VUmm/NstiqXGfSsnZxWJWSBJ8ydxgderJcGrvG9g26GSwUoJoFk1oyqtbw2vuPZhjGzfnWEXdmHb8kzWL0hj/7YCdqzOZsfqbEKjbPQYlkTPYUmEx8jCr61WWAJEdYS8HbB3GXQdFeyIhGgW6t1HaNCgQTz44IOcc845Vcq/++47HnjgAZYvX96gAQZbY9UIfbzxYxbuW4hX8+LVvca95sWn+ao892pefLrvwHO9armmaw0WU3OgKupha9Dqknwd8b4HJ2mHSBwPTjItiqXqaxx0vvokeblpJaxfmMamP9MpL/Ev/KpA+17R9EpNJuWEWEym1pc0tnpfTITVH8GIO+G0B4IdjRBB1WiLrq5du5aOHTtWK+/YsSPr16+v7+larct7XM7lPS4/6vNoulYtSfJp1ROnKslUDft6dE+V43y6D4/mqZKY+TSjzKt7a9y3tqStLvtWKfe/Zk1JnqZraLqGR/PU8Nto3hSU+tWgOc1YTrUSk96RuJ1dCM1KYPe6XHavy8Vnd1HaeT/urhkQ4alz4lhbkna4xLFyMlhTk65JlXXWjon2g41ESPoJCVFn9U6EevbsybRp03jzzTcDQ+XdbjfTpk2jZ8+eDR6gODRVUbGarFhNLW94taZrgeTrcEnTwUleIPnSa6lZq2Hfml6nPoljjeeopYbPp1fvS6ej49E89U/yzEuhC4S3iaVH5hB6ZA0mpDycsHUpsC6FfeGb2ZCwmB3Ra/Cp3oZ5c+pJQal/M20tTa+BJEupJfE6TDNtbU29h2rSrTEZ9JeZFFPT6ZdXMcP03mXgdYO55f1dEKKh1TsRmjFjBueddx5t27YNjBBbs2YNiqLwzTffNHiAovVSFRXVpGIxtbyZliuSvJoStUBNXKVErT7JoMdTSvl2N+51TrRddtoUdqNNYTd0mxdflxxc3TJwRxTXnDgeKnk8RI1j5X1rS/Iq9muJGqLpdXDSYK7seeXRBRLTFRxRUJYH6Wug7cCG+QGFaMHqnQgNGjSI7du3M3PmTDZu3AjApZdeyhVXXIHT6WzwAIVoiQJJHo2U5B0HjIGi3HI2LExjw6L9FOeBeV0C5nUJdO4UQa/UZLqcGI/F1rDNVrquH3m/N/++R5QMHnSug5OzmhLH2pp7a0zw/MfVxKt58eKFoxg0O3/PfBKdiZzW/rQjP4mqQrshsPl7Y7kNSYSEOCyZUPEwZEJF0RJoms7udTmsX5DGzrU56Jrx395qN9FtUCK9UpOJax8W5Cibvookrz41aLUlapX3XZK+hG+3f0ukLZLZY2YTHxJ/5EEueA7mPgg9zoXLZjbYzy5Ec9OoM0tv2bKF+fPnk5mZiaZV7dA6ZcqU+kfbhEkiJFqakgIXGxfvZ/2CNAqzywPlce3D6JWaTLcTE7A66l1ZLI6Cx+fhyu+uZEPuBoYmDWXG6TOOfKqI3X/C22eCMw7u3CILsIpWq9ESoTfeeIOJEycSGxtLYmJilU6CiqKwYsWKI4+6CZJESLRUuqazd3Me6xeksX1VFprX+FNgtqp0GZhA79RkEjqGN52OwC3c9oLtXPrNpZT7yrlr4F2M7z3+yE7kKYfH24HPDbesgJjODRuoEM1EoyVCHTp04KabbuLuu+8+6iCbA0mERGtQVuxm05/Gwq956aWB8uhkJ72GJ9N9SCJ2Z8vrtN7UfLbpMx758xEsqoWPR39M9+juR3ait86EPX/C+a9Av6PsgC1EM9VoiVB4eDirVq2iU6dORx1kcyCJkGhNdF1n/7YC1i9IY9vyTLweo+nbZFbp1C+O3qnJJHeLlFqiRqLrOpPmT+LXPb/SOaIzn5z7CXazvf4n+nkKLHwB+v0Tzp/e4HEK0RzU9fpd70boiy++mJ9++umoghNCNE2KopDcJZJRV/fi6ieGc9Jl3YhtF4rPq7FlaQZfPreSmVP/ZMWPuygtdAc73BZHURQeGvYQMfYYthVs49nlR7iKfMV8QjKxohCHVe8aoWnTpvHss88yevRojj/+eCyWqtXlkyZNatAAg01qhERrp+s6WbuLWLcgjS1LMvC4jDHiqqrQsU8svVKTadczGkUWfm0wC/YtYOLciQC8fNrLnNT2pPqdoDQXnvSvAHDXdnDGNHCEQjR9jdY0VtPyGoGTKQrbt2+vz+maPEmEhDjAXe5lq3/h14wdhYHysGg7PYcbC7+GRh1BU46o5oklT/Dhhg+JtkczZ8wcYhz1TGamD4LsTXDZx9DjnMPvL0QL06jD51sTSYSEqFn23mLWL0xj81/puEqNiQYVBTocF0Ov1GQ6HBeDKgu/HjGXz8Vl317G1vytnNT2JKafOr1+fbO+vgVWvA/DJsEZjzReoEI0UZIINRBJhIQ4NK/bx7aVWaxfkEbalvxAuTPCSo9hSfQankx4rCN4ATZjm/M2c/m3l+PW3Nw3+D4u63FZ3Q9e9RF8ORHaDYZrpV+naH0aNRHau3cvX3/9Nbt378btrtph8tlnj7BzXxMliZAQdZeXXsL6hfvZuHg/5cUHFo9t1zOKXqlt6NgnFpNZaonqY+aGmTy+5HFsJhufnvspnSPrOC9QzjZ4qT+YrHDPHrBIk6VoXRotEZo3bx5jxoyhU6dObNy4keOOO46dO3ei6zr9+/fnl19+Oergm5LGSoQ8mo5ZQYYhixbJ59XYsTqb9Qv2sWdDXqDcEWah+5Akeg1PIipR1iasC13XmThvIgv3LaR7VHc+Gv0RVlMdVpXXdXi6G5RkwoQfoMPQxg9WiCak0RKhQYMGcfbZZ/PQQw8RFhbG6tWriY+P58orr+Sss85i4sSJRx18U9JYidCEhe+weP9fhFijCbfHEeeII8EZT4fQBFJCE2gfEkqizUKC1YJd+lmIZqwwu4z1/oVfSwsO1CAnd42k1/AkOvePx2xt2IVfW5rssmwu+OoC8lx5XNXrKu488c66HfjpP2DDN3DaVBgxuXGDFKKJabREKCwsjFWrVtG5c2eioqJYsGABvXv3ZvXq1Zx//vns3LnzaGNvUhorERr1v8lkZP9c63ZNDUUzRaGZIjFbonFaY4h0GAlTsjOBDqEJdA6LJ9nhIMlqIcZqxiS1S6IJ03wau/42Fn7d9XcOFX95bCHmwMKvsW1DgxtkEzZ/93wmzTemJ3n99NcZmlyHGp7FL8OP/wfdzoIrPm3kCIVoWup6/a73yopOpzPQLygpKYlt27bRu3dvALKzs48w3NZnat9LWJbZi90lGaSXZJJTlkmhK4cyVw6a7kbVilG1YvDsgXIow7jtB9b4z6GjoJki0ExR6KZI7JYYQm0xRDviiA+Jp21oAh1CE+kcGkui3UqSzUKYSZXmOBEUqkmlY584OvaJozivnA2L9rNh4X6KcstZ++te1v66l/iUcHqnJtNlYDxWuyz8Wtkp7U/hkm6X8Nnmz7h/wf3MHjObSHvkoQ9qN8S43/0naBqoUrssxMHqXSM0duxYRo8ezfXXX8+dd97JV199xdVXX82cOXOIiopi7ty5jRVrUDRWjZDu86GYqjcH6LpOobuQrNIsMkoz2FWcwY6idPaVZJBRmkleWTZFrmzK3bmAVrfXwhSoXVLMUTisMYTbY4lxxJMQEkf70AQ6hiWSEhJJkt1Kgs2CTf5gimNA03T2bshl/YI0dqzORtOMP0cWm4muJybQKzWZ+A5hkrz7lXnLuOSbS9hZuJPT2p/Gcyc/d+jfjc8D09qBtwxu+gviexy7YIUIskZrGtu+fTvFxcWccMIJlJSUcMcdd7Bo0SK6du3Ks88+S4cOHY46+KaksRKhjCeeJO/TTzFHR2OOicEUE2Pcx8Zgjo7BHBuDKXAfjSkiAqVScuLTfOS58sgszSS9JJMdRensLM4grSSDrNJM8suzKXbl4PHm1zkmXbHhO7g5zh5HbEgcSc542jsT6BKeRLuQUJJsFmIsZlS5QIkGUlroZuPi/axfmEZBZlmgPKZtKL1Tk+k2KAFbiCz8uj5nPVd+dyVezctDwx7igq4XHPqAd8+FnX/Auc/DwAnHJEYhmgKZR6iBNFYitO8//6Hw62/qfoDZjDk6OpAwmWOiMcXE+u9jMAcex2KOjkLxL33i8XnIKc8hozSDvcUZbC9KZ09xBvtLMskuy6SgPJtSdw4+X0mdQ9FUJ5opEt0Uhc0SjdMWS7S//1Lb0ATahybSNSzB6L9ksxBmlo6wou50XSdtcz7rFqSxfWUWPq9R82m2qHQeEE+v1GSSOke06lqid/5+h2eXP4vD7OCzcz8jJSKl9p1/eRR+fwr6XA7jZhyzGIUItkZLhDp16sTSpUuJiak63Xt+fj79+/eXJTbqKH3XLgrS0rCWl2MtLsZaVAS5efhyc/Bm5+DNzcGXnYM3JwetqKje5zdFRBy2lskcG4s5JgY1JIQybxnZpdmkl6azq8hojttbksn+0gzyyrL8/Zey0fW6LbSpo6Cr4fhMkajmKOzWGMLtcUQ7YkkIiaet02iO6xwWR7LdRoLVjFWa48RByks8bPoznfUL08hNO5CsRyWG0Cs1me5DEnGE1mEoeQuj6Ro3/HQDf6X/Re+Y3nxwzgdY1Fpqy7bMhZkXQlQK3Lr6mMYpRDA1WiKkqirp6enEx8dXKc/IyKB9+/a4XK4ji7iJaqxE6H//+x9Lly6tUmaxWAgJCal2c9hs2HUdm8eLrbwMa0kplqJCLLl56Hl5+HKy8ebk4s3JwZeba3SKrAfF4fA3z0VXqlk6qJYpJhpTdAylISpZ5dnsL8lkW+F+dhVnsK8kg8zSTPLKsyl2ZePy5IHurdNrG/2XIgPNcSHWaCLs8cQ4Yo3muNAEOoUl0tEZTZLdKs1xrZSu62TsKGTdgjS2LsvA6zY+46pZoVPfOHqlJtO2W1SrWvg1vSSdC7++kEJ3Idcffz2T+tey4HV5ATzeAdDhjk0QlnhM4xQiWBp81NjXX38dePzjjz8SEREReO7z+Zg3bx4pKSlHFm0rtHbXLvYqCjaPG6vbhdXrQfd6QPNRajKjm8zoJpP/3rjVNOLDFh1FSNs2BxInhwO7yYRd07B5vVjLy7GVlmIpLMJSkI85OwctJwdfjlHbpLtc6GVlePbuxbN37+EDN5sxR0WRHBtL++joSrVMA4z7tjGo0dGUhJrJdnjYW57NtsIMdhens780k6xSozmuxJ2Dx5OPgg+TLweTLwfc2ygrMUbHpQPrKr2srlgDzXFWSzROmzGdQLwjniRnPCmhiXQJT6SDM5xEq4VQaY5rURRFIbFTBImdIhhxcVc2L81g/YI0snYXsXVZJluXZRIe56DX8CR6DE3CGWELdsiNLtGZyNShU7njtzt4c+2bDEsexsDEgdV3tEdAQm/I+NsYPdZ77DGPVYimrM41Qqr/IqwoCgcfYrFYSElJ4ZlnnuHcc89t+CiDqLFqhK6Y8z9+iWpTfYOuYXeVY3eV4igvw+7y38pLsbvLcXjc/uSpHJvXjd3rxer1YNN8qKpaJXHSVVONCZTdbq9S2+RQVeyajs3rwepyYS0txVpUhCW/AHNONuasbHw5OWiFhdXjPQw1IsLo0xQdjcnfFFdR86RERVAcZibX4WOHxc12bx57ijNIL80gpyyLwvJsyty5+Hx1bxrUlJDA6Di7NYYwWwzRjnjiQ4z+SymhiXQNT6StI4R4aY5r9rJ2F7FuQRqbl6TjKfcBoKgKKccbC7+27x2D2sJriR5Y+ABfbv2SRGcis8fMJtxaw9+p/90BS9+EwRPh7MePfZBCBEGjNY117NiRpUuXEhsbe9RBNgeNlQg9v34bP+cWUeD1UaBBEQrlytFdlK2uchwVSZOrDIer1J9IlWP3uLC5Xdg8bmxez4Gb5kVVjASKg2ug/E1QiqLgcDgIcThwWCzYVdVoqvP6sLldRlNdcRHW/ALMOTmYs7NQM7NQfL56xa84HP6EqWqfJqIjKA41kReisMviZoe5lO1KIRllWeSVZ1HkyqHcnYOuldf5tTQ1DM0UhckSjcMaQ4Q9lhh7HInOeNr5pxPoFh5Pks1OjMXUqjvmNgcel4+ty41aovTtBxL20CgbPYcl0XN4MmHRLXOtrRJPCRd/czF7ivZwVspZPHnSk9U/r2s+hznXQXI/uOHXoMQpxLEmo8YayLFcdNWlaRR4fOR5feR7vOR7feR5vOR5fOSUlZNTVk6uy02ex0O+10ehBoW6Qql6dM1AFo8Lu7/2qXIiZXeXY3O7jCSqcgLl82Dz+TBB1eRJNZIpFAVVVXHY7TgsFhyqCRu6UXvldhs1TsUlWAryseTkYs7KwlpYiNnrpc7phsmEKTrK6MfkT570yHBKw63khajstXrYbXWzy1zCbnMROd5cSlzZuDy59ei/pKKZIqo0x0X4l0NJ8i+H0ik8iS6hMSTZrDilOa5JyEkrZsOC/Wz8az+uEv97rUD7XjH0Tk2mwwkxmFrYsjVrstYw/vvx+HQf/039L+d1Pq/qDvl74PnjQDHBPbvBJjN4i5avwROhxYsXk5OTU6Xp6/3332fq1KmUlJQwduxYXnrpJWy2ltU232gTKrrdYDZXmRvoSHk1nQKvj3yvl/xKiVSe20t2WdmBBMptJFcFmk4RCsWKCf0oajpMXk+l5KkM+8E1UB43No8Lu8efPHmNBMqsa1C5Cc9kAtWEyWTCYbXiUFVsgN3nw+pyYysrw1pcjKWgAHNeLpbcPGwuFzaXC3Mda53UiIjA9ANaZBiuCAd5ISYyHDr7bF72WcvYaylhn6WQPPLweguo+4SVlkBznM0aTagtjih7LPEh8SQ74+kYlkjX8CRSnBHEWy1YWnhTTVPh9fjYviqL9QvS2LcpP1AeEm6lx9AkeqUmEREXErwAG9hrq19j+qrpOC1OZp03i7Zhbavu8GxvKNwL47+GTiODE6QQx1CDJ0Jnn302J598MnfffTcAa9eupX///lx99dX07NmTp556ihtvvJEHH3ywQX6ApqLR5hG6+24Kv/4GxW5HdToxhYaihoWhhoYaj0NDUZ1O1FBn1efO0ANlTqdRHhqKYrXWu/lG03UKvT5/zdOBWqhct4fs0lIjgSp3k+epnkD5jqIZT/X5/AmTvwmvvAybvwbKXlED5XVj81SugfJi1fwJlGpCNxs1UGazGYfZjB2w+XzY3G6sZcaUBJbCAiNpKi8zEip/8mQ6zKg6xW7HFB0N0RG4IkIodFrIDlHJtPvYb/Ow31ZGurWYLGsRBdaiOieTmmJHM0VhtvinE7AZ0wkkhhjNcSlhiXQPT6Ktw0m0NMc1qPyMUjYsSmPD4nTKCg9MAdGmexS9U5Pp1DcOk6V51xL5NB/X/HgNKzJX0DeuL++c9Q5mtdJ4mFnXwN+z4eT/g5PvDl6gQhwjDZ4IJSUl8c033zBwoDEq4b777uO3335jwYIFAHz++edMnTqV9evXN0D4TUdjJULbzz4N1460BjsfJhOqw4EaEmIkU2FhqOFhxr2zctJ0UBJVkVgFnjtRzIceTKjrOiU+7UATnr8WKtflIrvEqIHKcbnIc3sp8Pko8EGhP4HyHE0NWC0dyW3+BMrmcWP3uLF7K5rxvP4EyouiHmjCM5vN2FUzds2H1e3G5p/LyVJQiLWkxEiY3K4qyZNa238TkwklMgJPRCgl4XbynSayHZDp8JFlc5FpLyPbWkK+o5zCEPCaD5/caGoouikKiyWaEFsMETZjdu/EkHg6hCXQMTSR7uEJJDvsOGtYpkXUzufT2Lkmm/UL0ti9Phf8b6vdaaH7EGPh1+gkZ3CDPAr7ivdx0dcXUewp5qa+NzGxz8QDG5e8Ad/dCZ1PhX9+EbwghThGGjwRstvtbNmyhXbt2gGQmprK2WefzX333QfAzp07Of744yk6gsn/mrLGSoRKHh2FrXg5mkfB51HRPAqaV0HzqPjcCj6Xis994BbY7lXRvAq6z3/TGr7WQLFaAzVVgdqq8HBjksawyjVTRhIV2KcisXI6MYU6UUJCqtVqlPm0A014HqM5L7vMRXZpKdmBJjwP+V6NQk2nUFcoVk24jrIfVKAjeaD57qBO5F630YRXqQbK5vOPxFPNmE0mbChGrVN5OZbiEqzFxYFEqSJ5srmMBMrqdteYPGmhIZRHhFDktJIXaiLXoZFl95Jjd5FjL6UgxEdBCBQ4odxKoMP6wSoW3FVMUVit0YTajOVQAtMJhCXSJSyRrmFxJNismKU5rprCnDI2LNrPxkX7Kc47MP9ZUucIeqUm03lAPBZr80s0/7f9f9zzxz2YFBPvnvUufeP7Ghv2r4HXRoA1DO7ZBUf5f0qIpq7BE6EOHTrwwQcfcNJJJ+F2u4mMjOSbb77htNNOA4ymspEjR5Kbm9swP0ET0WidpX97EtZ/Be5icJegu0tQPKX1Po2u4U+QjCQqkFh5FSN58qj4PEYC5XMp/qSq6n66zzgevYEvloqCYrMdqKny1zqZwsNQIyIwhUdUqqGqSKRCDiRVlWquPGZzlY7keR4vOWXlZJWUVuoDZSRQFU14RYqJMtPRrWB+cEfyyk14gf5P3sodyb1YfT7MgEVRsQJWlwdbWSm28vJAonRwAlWRPFV+B3wWM6XhDgpDzeSHKOSEaOTZ3eQ6XBSG6OQ7odCpkO+EYgc1NtHpmNFMkZgsB6YTiLLHk+CMo63TmE6ge0QSKc5Ioi3mVtkcp2k6u9flsH5BGjvX5qD7F361Osx0G2Qs/BrXLizIUdbP3b/fzXc7vqNNaBtmnTeLUGsoaD5jYkV3Edz4BySdEOwwhWhUDZ4ITZw4kdWrV/PEE0/w5Zdf8t5775GWlobVakxvP3PmTJ5//vlqsyU3d8dy1BiaDzyl4C4xbq6iA4/9CVP1xzVv0yuVKdRtYKDmw6hx8lRKoiolVFWTLX9y5a5Itoxy3Z+UUffxX3VjMh1IqhyOQJJkCg9HDQ/HHBlpNAUeVDOlO52U2h0U2e0UWO3kWaxkudxkl5SSU1ZGjj+BKvBq5Gs6RbqRQJWazA3bkdx9oAnP7p8LynZQE57d58Xh9WD1+LB6PNjcHuxu9yGTJ4vHgwJoikJJqJWCUBP5Dp28EB8FDg8FToUCJxSEQL5TodD/+OAmOl2xofmb4xzWGMLtscQ64gL9lzqFGQlT+5AwQlrYiKvKSvJdbFi8nw0L0yjMPjAdQ3yHMHqlJtP1xASs9qNLro+FQnchF399MWklaYzpPIbHUh8zNnwwDrb9Amc/BYNvCG6QQjSyBk+EsrOzueCCC1iwYAGhoaG89957jBs3LrD9tNNOY8iQITz22GNHH30TckwTocag6+ApO0wyVVNidaBMdxeDy39zF4OnFEWvfbSWroPu8ydL/oQpkEx5FH9ypVbZ5jso2fK5FX9tVSNcdC0WVJvNaP4LCUF1hqA6jX5VpohwTJGRqBGRuJ1OyhwhlNgdFFlt5KomshWVLBQyTSayUMn36UYNlK5QrKgUmyxoR9EP6uCO5HZX+UE1UJXngfJi97pxuspxlpVj8/mMGiqXG7vbXWvyZPZ6KbObKHCq5IdoFIRo/mTJnzQ5MRIofxNdWaUmOk11QuXZve1xxIXE+6cTiKdzWDLdI+JJsoU06+Y4XdPZuymP9QvS2L4qC81n/Jk020x0HWgs/JqQEt6ka9CWZyznmh+vQdM1njrpKc7qeJZREz3/MTjuQrjo7WCHKESjarR5hAoKCggNDcV0UCfN3NxcQkNDAzVELUVjJULbtj9HRsY3qKqt0s1ax8fWKuUm1YZyiMcm/7GKYkVVG+DbrK6Dz12P5KpqoqW7iqG8yF/jVQzuUvCWomjVF3QNNP35kySfp3ISVanpr1JzoO+g2isj+VKhoftTKYrRn8pqRbXbUfzNf1qIE29YKO7QMMpDQym2Oyi02si3WMhVzeSareRYrGTbbGRZHWSHhJJvc+A9mj4blTqSGzVQ/tond3mgE3lFDZTd48ZZXk5oeRnhZaU43BW1Ty5sLk+V5MnqdqP43JTYfBQ49arJUg2JU5EDNFVFV8NRLVHYLNGE2mKJdsQRHxJPG2c8Hfyze3cLjyfaYmnSyQRAWZGbjX+ms35BGvkZB5qvY9o46ZWaTLdBididtSx4GmQvrXyJ19e8Tpg1jNnnzSYpczO8PwbC28DkljWwRYiDyYSKDaSxEqENG+4lbf9nDXa+ulIUUyApCiRIgWTJWjVxquVx3RO2mu5tKEotFz+fFzwl/pqnujcH6q4iKCtELy86UO4pRfGWoVSabVrzcURJlOatvl+DN/2pKlgt6DY7PocDr8OBy+6gzO6gxG6nyO6gyO6gwGYn3xFCnt1Brj2EXEcoBaFhlPj3LbPZ610jVbkjua2iBsrjwuZ2Y/catVB2t5sQdzmhZWWElZUSXlpKaHk5drcbe6XkyeJx41ZclJldFIXogVqlyk10FY/zQ0x4bMZ0Ag5rDGH2OGIcsSQ4Dszu3T0imU7OKEKawGSVuq6zf2sB6xeksXVFJj6PMQ2DyazSub+x8Gty18gmldh5NA9XfX8Va7PXMjBhIG+e/AKmJ1JA98Ftf0Nku2CHKESjkUSogTRWIpRTvItSVxaq7kLV3aiaG113oWkuNM3tvz/ose5G81V6rLmM5xWPNfdBz40yvY4zKR9Lh02kFCuqqdJj1f9cqU8SZkNVzKg+HdXr9d88/psLxV1aQ2JVjF5eiF5aYNRaVSRXnlIjufKVo/vKwUvVJj5/rVPl/lVVkq2DmgMrmg0bo+nPZzbjsVlxW22U2x2U2h2U2B0U2x0UOUIocIRQEOKk0GkkUKWVbiWOA49dFmuto9agakdyowaq6kzkDreLEFe5UftUVkp4aQmRJUWElZbhcHlwuFxougu36qbM7KLU6qYgRD+QNPlrnfJDLRSGReEJjSHEHkukPc7ov+SMp70zgc7hRsLUPiQM0zFKQspLPGxeYizpkbOvOFAemRBCz+FJ9BiSREh406gd3124m4u+uYgybxm39r+V6xZ/CGkr4YI34YSLgx2eEI1GEqEG0liJ0F2/fM0HSvsqZWbdh0XXMOPDgoZZ17CgY8K4N6NjUfz36JgVDtwr+EcqgVlRMCsKFhXMiopZMfYxqTpmwKRomBQds6qjKhomNH+ZhgkfqmLczPhQFS+q7sWkeFDxouhuTLobVS9H0csxaS5UvRy0Mkx6OapWBlopqlaOpldOxqo3ewWbolhqbW6s/rjSc8WKSVcxaQpmH5h8GiafjsnnQ/X6/PdeVI+RdCnlpVBeiuIqRXGVgbsUxV2K4ilHd5ehu13oLjeaRz/k6L+Dk6jKfa98noYf9acpCuU2G2U2O6V2OyX2EIodIRSHOCmxh1DqcPgTKbs/eQqp8rzEEeIvt+OrNHqvoiN5lT5Q/hooh7sch7uckIrkqayU8JJioouKcJYUoygu3KqLcrPbSJzsbopCIN8J+U47heERlEfFoEUlEBmSQFxIXKA5rktEEj3CEom12Rus1kbXdTJ3FrF+wT42L8vE6zL6zqkmhY59YumVmky7HtEoQe4v9cWWL5iyaApmxcyHUUPovfwjOPE6GP1MUOMSojFJItRAGisRuubDC/GUrMWHiqaY8CrGvQ8Vn2rChwlNUfEq/seqCa//3thmOmib2T8viAldUQEVFBO6/x5UdEz+x4p/mwkUtdIx/v0qHivqQfvUcmyl16h8jKqDGQUzBG4mpeKxgrly8oaRnJkwEkGTovnLjOTMeO7zP/ahGr8pTHgxKV5UvJjwoOpeVDyYcBs1bXhQcaHoHlS93NgfH2b//YHnBx4fuFXd1jiXMjWQaJmwYNHNmDUzFk3FrJkwa4qRcGlg8imYfRqqx4fJ7U+0/DfF7UZxeVHK3OjlXnSXD9waukevXjtVQxJ1cI1VQ3OZLZQ6DtROVdyXVTz3J1VltgO1UgdvL7NYAc3oNO6qqIEqx+F24XAZyZOzvIywshLCSotxlhXjcBWieovwmMops7kotLkpCDFTFBFGeUQ0vpgELHFtiIlIpI3T3xwXnkTXsHiclvr1+3GXe9my1Kglytx1YD61sBg7vYYn0WNoMqFRwVmCSNd17vjtDn7e9TMpthg+3bSKkPjeMHFhUOIR4lhosYnQyy+/zFNPPUV6ejp9+vThpZdeYtCgQbXu//nnn/PAAw+wc+dOunbtyhNPPME555xT59drrETo26mpWNPLUABF0VEwUpWKx8a9XnV7xbZq+xllKMZbqSuAoqNXfqwYk+jq6KDqaCig6IH+w5p/H00x9tEVBd2/XfeXaf7tmqKjVWyHauWaouNTFDR0NJXAPj7/dp/CgXvAh4JPUY0yf4pjJHoV5caSHhXlPkXFV5E0Vn6umI19/MmiUWbcvIoZDRM+1VwpoTQHkkifasKnWPAq5oMSvwMJpYqCP8XEpBiPTYCqGGWqAmZ0VEXHBJgU47GKjlnR/YlbRXJnlJnQsFQkffgwKxr+iPD/hAclaQe2VU7czHgr7VspidO92Hxu//xGHqz+iSItmhezT/fXZOmYfSpmn4LZp6B6dUzlOmopKOWglOso5aC7dXABHmpoDqx5RKDua/j08UBznr1SYhVS9bnDQanNn2DZ7HhNJnyqYnwuVQAds89LiNtougspL8HhKsXuLsbqLsTkK8RLKeUhKuURTrzRMZjjknAmtiMprj2dwpPoHp5Mx9BozDX0ycreW8T6P9LYtCQDd5nRNK0o0OF4o5aoQ+9o1GM8DUGBq4ALvr6AzNJMLiosYmpOvjGxoj3imMYhxLHSIhOhTz/9lPHjxzNjxgwGDx7M888/z+eff86mTZuIj4+vtv+iRYs46aSTmDZtGueeey4fffQRTzzxBCtWrOC4446r02s2ViL05rVXUFBc2GDna24q5jZSFCold1RK/iqX1bTdSBSNFgcdlarJo6oYaZ+qVE4cdX+yeaBMrbbNOB5F9/eHrrgHvVKZXmkfvaKs2mPdiEbR0SolqUbSqfgTzkqJpuqfMdqfKOr+e+O56k9KFbSKC3pF8hh4rOJTDzz2KiqaqhqJomokhJqi4lVVfwKooKkmNNU4jzHay0j6NNX4TeqqWuXe/2b4m219WHUvZt2HTfNi073YNC9W3Xjs0L2EuN04y904yzyElHuwl/uwlXuxuXzYyjXMbh2zS8fk0sGjQMVcVDX0vWropj+vaqrUJ8peqWnvQJJVbrHgMZvxmlR8JtX/u6r4k6mh614Ufw2kWXFjsSrYI5yEJycT27Yj7ZI649hrJ31xAelbCwKv7Yyw0nN4Mj2HJREe62jQn+tQ/tr/F9f/dD06Os9nZHHauA+h66hj9vpCHEstMhEaPHgwJ554ItOnTwdA0zTatWvHLbfcwj333FNt/0svvZSSkhK+/fbbQNmQIUPo27cvM2bMqNNrNkYi5PV6eeLfLxHuLsdf/0JFfQ26RmABJKhUXrGP5i/VDio/6BY4j171NfRK5wT/+Wo+j17DearHU/k8oqVQKj1Q/M+MBFEJbKtIWA9sO3BkRQJb+biDdjnoseKv0ay0X5UH/r10/z46xuMDVZ0omlGmaMZjdB1Vq7RN01F0MPm3VeS5YJQbee2BcqPiSDfO6f+/U3Gv+j//ij8On6qimVU8ZhM+s4rXZCRPHrMJzaTiNaloJhOaScGnYtSUmlRQFTSTgslqwWo9NkPwy3zllPtcqIBTMaNa7MfkdYU4lMQOKVx8w60Nes66Xr+b/hSpfm63m+XLl3PvvfcGylRVZdSoUSxevLjGYxYvXszkyZOrlJ155pl8+eWXtb6Oy+XC5Tqw7lBhYcPX2mTl5eFJKiCnTns3wlBtIUTrZQkNPGx6QxhEa2VbtAmCNNl5s5krPzs7G5/PR0JCQpXyhIQE0tPTazwmPT29XvsDTJs2jYiIiMCtYpFZIYQQQrQ8zaZG6Fi59957q9QiFRYWNngyFBcVRXt9BMVZZQ16XoPRLqAoOqj+e0VHUSrKNX8ThC+wn6L68Lc1oFTaxzjWd+AY5cAxxvaqzwNtEoFzaChoVV9fPRCf4j9G4aBjArFrwMHxHCg3zqdX+bkqYgr8LBWdyNWKWPGf03cgLlWa9RqFpqLrKugKuu4fcagroKuVbsYwgYpyhQPbFP3gxyYUXTGa0XTF/9zffV0zzlP9eP95K14X4xxGM5t64ByVz+cfZaBg8p8L0P0/C4r/vuIY47mu+ZeW8cdmnEJHtxaj24rQ7LlgLUJTPOiKB0xudEXBbGmD3dER1doZ1XRsF3bVNR1dl8++aBqSxkYH7bWbTSIUGxuLyWQiIyOjSnlGRgaJiYk1HpOYmFiv/QFsNhs2W+MOcTWbzST2/B1fr+X+JKRSklBx4VcPSiYqb1Nqu/cnC6JB6Zq/47D/omdc6CqeVy/DfzGuGAtoJACmSs9rvimVpyFANS7ESkW58Vzxb1cUYyoERTGh+J/XeFPNxng3zYSKCVU3o+omFE3BpJtRNRVFNxnbfSbjuaai+lQUX6XHXhXFq6B4FfCpKB4FvIpx71FQPIB2IHlRmnhls0/z4tMrbh58qg9N0dBUDd2io5t1sCrgMGGyW1CdVswhVsyhdqyhDqzhIdgiQrFGOLE7nZjMFjTNRUHBSnJzF5Cbt4jCwrVU7junKCbCw/sQHTWS6OjhhIf3QVWb5tIcQrQmzSYRslqtDBgwgHnz5jF27FjA6Cw9b948br755hqPGTp0KPPmzeO2224LlP38888MHTr0GER8aGrUdmyWDcf0NQ9cuCsu2Acu5DU+r9g38C1Y8V/g/Y8rvn1TUVZ5gHnFXEYVg8z937D9F+4DF/gDF3Nj24GLOMqBC7zqH9auKiYUxYyi+hMA1Yxa8dy/n6oaCcCB50aZqlr8S4yYUU1mTBX7qGZMJguqakZRDjw2mYztJpMJVVVRVRVFUQKPD35e7/fDp6F7NHS3hu7xoXs0NLdxb9x8/m2VHns19Mr7uH1olfevVF5Rdqz7sev+fwe6VTcMn+7Fo3nwai48mguv7san+IzkxaSjW0CxKCg2E4rNhGo3YwqxYnbasDjtWMJCsIbbsYaHYg8NxRoSgtXhQD3CNd50XaO4eBN70xaSl7uQvPylaFrVWt6QkC5ERw8jOjqVqMhBmM3HttZHCHF4zSYRApg8eTJXXXUVAwcOZNCgQTz//POUlJQwYcIEAMaPH0+bNm2YNm0aALfeeisjR47kmWeeYfTo0XzyyScsW7aM119/PZg/BgDxcWPJzOzqv6CbAhdk48Kvovgv4MYF3oxacQEPXLyNi70pcHE3LvQVx5hUs/HcVHGspc4X9IOfK4rSpNZPamzVEpTyigTFG0guvO5DJR91SVA00IJQe+fP13SFAyMIKw3+a4jkpfI5NF3Dq7nx6C48mtt4rLnw4jESGLPun1VTRbGpqDYTqsOCKcSKKcQaSGBsYQ6sYaGEhoRgDQnBFuLE0oAzRNdVeXkaubmLyM1bQG7uIjyeqkMerNZYoqOGEx09nKioYdjtScc0PiFE/TWrROjSSy8lKyuLKVOmkJ6eTt++ffnhhx8CHaJ3795d5Zv5sGHD+Oijj7j//vv5v//7P7p27cqXX35Z5zmEGlP//hcCFwY7jGalphqUqrUoB9Wg1JKg6F4Nzd20EhTFooJJQTEpoKpGRZp/DLqu6+iahq7p4DPujcf+7lD1SV78tUMHjqj5WI9WNXHx6G5/TYxRC3NwAmPUwFgwh1gwO+1YQm2YQx3YQkOwOiMICXFiCwnB6jCSGLO1aazDdThebxF5eYv9yc9CSku3V9luMoUQGTkokPw4nd1a1ZcGIVqCZjWPUDA01oSKLUn9EpRK+zT1BEUBxWJCsajGzaqimFUUkz9pUSsmGKw0MY4O6Eaiont1NK8X3eND8/jAo6F7dfDqKFrDXyy9mifQZOSpqHnR3AeSGN2DbtLQTaBYVfDXwJgcVlSH2d+E5MAS5sDmdPqTFiNxsYWEYA1xYnOEoJqCvxJ8Y9E0NwUFq8jNW0hu7kIKC1dTtW1RNfr5RA8jOiqViIi+qGrzSOqEaG1a3DxCov5aVYJS8dx6oFy1mMCiGImLqqAoxsgeI1/RQTNqW/AaNS54dTSPBl4fPrcPX6kb3eVDc/nQSzyQf/QzOh00XSA+3ReoaampCclIYtx48aCbQbEqYFVRbWZMDotxc9qwhNoDTUa2kEjCQpz+xMVh3Ic4sdrtKEfQl6kl03WdkpLN5OYuJDdvIfn5S/D5SqvsExLSkeioVKKjhxEZOQSLRb4QCdGSSCIUJJrbh17uO/IEJdC5tnkmKNW2W/yPrf7HJiNZ0HVA09F9uv/en9i5NXSXF63cZ/TH8S80qrl8+ArK0cq9aP6FRxuis3DlBOhAv5cDzUUezY23xiTGhU/RwKqgWk0odqMTrznEhslpxeo8UOtidYThDEnwJy4VZcZ2s9UmTS4NpNyVTl7uwkBzl9udVWW7xRJNdPTwQHOX3Z4cpEiFEMeCJEJBkv/1NkqXZRx+x4bQkAlK4LHJf4waOI+uAB7NqEFxHUhOjMc+NNeBZEUv96Lle9D82yqSmYpj8DZ8EhdoKvLXvAQe19Kc5NFcYFb8nXjNqA5jFJLFYfcnMEZTkTXESUhInFEj46iUxIQYSYzJLEOkg8nrLSIvf4kxrD13EaWlW6tsV1U7kZEnEh2dSnTUcEJDu6MoUnMmRGshiVCQKBb1mCUomGof9aXrulGD5Kpaq6KX+/y1Vl58xe7q26vt70V3N/w4ba/mCSQpgdqXw9XE+JuSVKvqr4GxYHJYsTkrEpQDTUb2kBgiArUvDn/TkvOoh1aL4NE0D4WFq/3NXQsoLFyNrvsq7aESHn480VHGsPaIiH6oauPOHSaEaLokEQqSyPM6Ezmm8xE3d+he7UDNSkViUupFd5UbNSyVa15ctTwv96G7vQ0+z4ym+w5Z01IlifE3IVVOdDTVh2I3Y3KY/QlJyEG1LE6sjgjCQqrWytiCPLRaBIeu65SUbvU3dy0kL/8vfL6SKvs4HB0CNT5RUUOwWCKCFK0QoqmRRChIfIUufAU11LSUewP9h2qsefH3i8HXsE1Huq5XSVJq7Lhbqfbl4CakimYm3QKWEDs2R6XEpVKiYguJIazSMGpr5VFJzWxotQgelysz0ME5L3cRLnfVZmaLJZqoqKGBvj4OR9sgRSqEaOokEQqSwp93Ubo886jPU2WSulr6uXgPakKqqSbGi9dIWPy1L9bQyh12HdhCInFWqZFpfUOrRfB4vcXk5y/1D2tfQEnJlirbVdVGZMSJRuITPZzQ0J7Sz0cIUSeSCAXJzi2rCPE4DttZ91Cde72aGx0d1WQ60DRUOUFxhGANCSekUm3LwaORZGi1aIo0zUtR0Rpyco3lKwoKV6Lr3kp7KISF9fY3dw0jImIgJpP08xFC1J8kQkGSn5TP/NUfYLZYDzQPhVZtMgoLiavSZHQgcZGh1aJl0XWd0tLtgYkM8/L+v717j23qvvs4/vEldq6+JRQI11FlFMogNBAISbfCqMpQqYrYqk1TR/sH+6fdqtFVarU/0PpPN22VVk2dqnSb1vVptWqTitZduguDVSShCTBWeGAw+pQHCgQe8HHs3B37PH84PcOlkAuxj53zfkmVav9+Pv76Z8f+cM7v/M4BpVK9WX3KSucrPHrdrkh4rUpKwjZVC2A6YWXpMeRqZenk0KDcHg+nVsOxhoavyIi2j16tvU1DQ91Z7V5vaHQF53WKRJpVVjbfpkoBFCNWli5wJf5Su0sA8iqV6pcR67TCT2/fyax2t9unYHCVtZBhVdVSuVzMOQOQWwQhADmRmedzbHSPT7t6eg7LNJNZfaoq78xcqT3SrFBwlTwe/oEAIL8IQgCmhGmaGhg485/T2o0OjYwksvqUls6x9viEw03y+aptqhYAMghCACZtePiqoka7dbhrcOhCVrvXGxhdzydzdldZ2QIm9gMoKAQhAOOWSg0oFjuoqJG5bldv7/GsdpfLp1DwLutwV6BqGfN8ABQ0ghCAGzLNlBKJ/84c7oruV6znsExzOKtPZeUS67pdodAqeTzlNlULABNHEAJgyczzOXvNej4dGhnpyerj98+2DnWFI+vk99XYVC0A3DqCEOBww8NRGUaHFX4GBz/Mavd4KhUJNykcaVZ1pEVlZQuZ5wNg2iAIAQ6TSg2qp+eQtZBhInFc0n/WVXW5ShQMrrxmPZ/PyO3mqwLA9MS3GzDNmWY6M8/HaJcRbVOsp0vp9Mfm+VQsVnj0gqWh4Gp5vRU2VQsA+UUQAqahgYFzWev5JJNGVrvfP8ua4BwOr5PfP8OmSgHAXgQhYBpIJmOKGh0yRsPPwMDZrHaPp1Lh8For/JSXL2KeDwCIIAQUpVRqKDPPx8gsZJhIHFP2PB+vAoF6RUYPdwWqlsvt5gK/APBxBCGgCJhmWr29/7Ku2xWLdSmdHszqU1FRZ01wDoUa5fVW2lQtABQPghBQoAYGzssYPaU9arQrmYxmtft8tykSWWeFH79/pk2VAkDxIggBBSKZjMuIdYyu4tymgYEzWe0eT7lCoTWZw13hZlVU1DHPBwBuEUEIsEk6PaSenn9YZ3fF40clpa12l8ujQGDF6B6fFgUCy+V2++wrGACmIYIQkCemaaq376Si0f0yom0yYl1Kpwey+pSX327t8QmH18jrrbKpWgBwBoIQkEODgxetPT7RaJuSyatZ7T5fTSb0jM71KS2dbVOlAOBMBCFgCo2MJGQYB6zg09//P1ntbneZwuFGRcItikSaVVHxaeb5AICNCELALUinh9UT/6d1uCueeE+mmbqmh1uBwHLrcFcwuJJ5PgBQQAhCwASYpqm+vlPWQoaxWKdSqf6sPuXln1I43KzqSLNCobUqKQnYVC0AYCwEIWAMg0PdMqLt1lyf4eH/y2ovKYlYe3wikWaVltbaVCkAYKIIQsDHjIz0yoi9a63n099/Oqvd7S5VKLR6NPy0qLJysVwut03VAgBuBUEIjpdOJxWP//Oa9Xz+KdMcuaaHS4GqzygSaVY40qxQ8C653X7b6gUATB2CEBzHNE31979vXbfLMN5VKtWb1aesbME16/msVUlJyJ5iAQA5RRCCIwwNXbYmOBvRdg0NX8pqLykJKxxuUiTSoki4WWVlc22qFACQTwQhTEsjI32KxTqt9Xz6+k5ltbvdfoWCqzMXLY20qLJyCfN8AMCBCEKYFtLpESUS71kTnHvi/7hunk9V1Z3WmV3BYIM8nlLb6gUAFAaCEIpSZp7PB4oa+xWNtskwDlw3z6e0dF5mnk+kWeHQWvl8EZuqBQAUKoIQisbQ8JXMej6jh7uGhi5mtXu9QUXC6xSOrFN1pEVlZfNtqhQAUCwIQihYqVS/YrEu67T23t5/ZbW7XD6FQg2j1+1ap6qqO+VyeWyqFgBQjAhCKBimmVI8ftTa49PTc1immczqU1V5Z+ZK7ZEWhYIN8njKbKoWADAdEIRgG9M0NTBwRtFou6LGfhnGAY2MxLP6lJbOsSY4h8NN8vmqbaoWADAdEYSQV8PDVzOLGI7O9RkcPJ/V7vUGMuv5jIafsrIFcrlcNlULAJjuCELIqVRqQLHYQetwV2/v8ax2l6tEweBdo2d3tShQtYx5PgCAvCEIYUqZZkqJxH9bE5x7eg4pnR7O6lNZeYe1xycUWi2Pp9ymagEATkcQwi3r7/9fRY220cNdHRoZiWW1+/2zrEtXhCPr5PfV2FMoAAAfQxDChCWThqJGR+aipdF2DQ6ey2r3eCoVDq+1wk95+aeY5wMAKEgEIYwplRpST8/B0cNd+5VIHJdkWu2ZeT4rFQlnTmuvqvqM3G4+WgCAwsevFa5jmmkleo9nLl0RbVOs56DS6aGsPhUVnx7d47NOoVCjvN4Km6oFAGDyCEKQJA0MfJg51GW0yTA6lEwaWe1+38zMWj6RZkXC6+T332ZTpQAATB2CkEMlkzEZxoHR09r3a2DgbFZ7Zp7PGutwV3n57czzAQBMOwQhh0inhxTrOWwd7oonjip7no9HgUC9dbgrEFght7vEvoIBAMgDgtA0ZZpp9fb+y1rIMBbrUjo9mNWnoqJO4XDmSu2h0Gp5vVU2VQsAgD0IQtPI4OCF0VPa2xQ12pVMRrPafb4ZmRWcR9fzKfXPsqlSAAAKQ9EEoWg0qm984xt666235Ha7tW3bNr3wwguqrKy84WNaW1v1+uuv6/Dhw0okEjIMQ6FQKH9F51gyGZcR68hctDS6XwMDZ7LaPZ5yhUJrrPBTUVHHPB8AAK5RNEHoq1/9qi5evKi//OUvSiaTevTRR/X1r39dr7/++g0f09/fr02bNmnTpk165pln8lhtbqTTQ+rpOTJ6dle74vH3JKWtdpfLo0DVckUiLQpHmhUMrJDb7bOvYAAACpzLNE1z7G72OnHihJYuXaquri6tWrVKkvT2229r8+bN+vDDD1VbW3vTx+/bt0/r168f1x6hoaEhDQ39Z82ceDyuefPmqaenR4FA4JZfy0SYpqnevpMyRq/bZRidSqcHsvqUl9+uSGRd5nBXeC3zfAAAUOb3OxgMjvn7XRR7hDo6OhQKhawQJEkbN26U2+3Wu+++q61bt07Zcz333HP67ne/O2Xbm6jBwYvWBGfDaNfw8JWs9pKS6tErtWfW8yktvXkIBAAAN1YUQai7u1u33Za9gJ/X61UkElF3d/eUPtczzzyjnTt3Wrc/2iOUKyMjCRnGu4oamet29fe/n9XudpcpHG4cneDcrMqKxczzAQBgitgahJ5++ml9//vfv2mfEydO5KmaDL/fL7/fn/Pn+fDD/1J3927FE+/JNFPXtLgVCCy3FjIMBuvldue+HgAAnMjWIPTkk0/qkUceuWmfRYsWadasWbp8+XLW/SMjI4pGo5o1qzhPAe/tO6We+D8kSWVlCzMLGUbWKRxaq5KSoM3VAQDgDLYGoRkzZmjGjBlj9mtqalIsFtOhQ4fU0NAgSfrb3/6mdDqtNWvW5LrMnJg9e5sCVcsUDjerrGyO3eUAAOBIbrsLGI8lS5Zo06ZN2rFjhzo7O9XW1qbHH39cX/7yl60zxs6fP6877rhDnZ2d1uO6u7t15MgRnT59WpJ09OhRHTlyRNFo9BOfJ5+CgRWqrX2IEAQAgI2KIghJ0muvvaY77rhDn//857V582a1tLSotbXVak8mkzp58qT6+/ut+1566SWtXLlSO3bskCR99rOf1cqVK/Xb3/427/UDAIDCUxTrCNlpvOsQAACAwjHe3++i2SMEAAAw1QhCAADAsQhCAADAsQhCAADAsQhCAADAsQhCAADAsQhCAADAsQhCAADAsQhCAADAsQhCAADAsQhCAADAsbx2F1DoProUWzwet7kSAAAwXh/9bo91SVWC0BgSiYQkad68eTZXAgAAJiqRSCgYDN6wnavPjyGdTuvChQvasGGDDh48+Il9Vq9era6urgndF4/HNW/ePJ07dy6vV7X/pLpyvY3x9r9Zv4m2Mf4T6z9WH8Z/8tvI5fhP5H7Gf/J9GP/Jb8PO8TdNU4lEQrW1tXK7bzwTiD1CY3C73Zo7d668Xu8NP7Aej+e6tvHeFwgE8vqH8Ek15Hob4+1/s34TbWP8J9Z/rD6M/+S3kcvxn8j9jP/k+zD+k9+G3eN/sz1BH2Gy9Dg99thjE2ob7335NhU1THQb4+0/0TG+WRvjP7H+Y/Vh/Ce/jVyO/0TuZ/wn34fxn/w2CmX8b4ZDYzaJx+MKBoPq6enJ678IkMH424vxtxfjby/Gv7CwR8gmfr9fu3btkt/vt7sUR2L87cX424vxtxfjX1jYIwQAAByLPUIAAMCxCEIAAMCxCEIAAMCxCEIAAMCxCEIAAMCxCEJF4Ny5c7rnnnu0dOlSLV++XL/+9a/tLslxtm7dqnA4rC9+8Yt2l+IIv/vd77R48WLV1dXppz/9qd3lOA6fd/vwfZ9/nD5fBC5evKhLly6pvr5e3d3damho0KlTp1RRUWF3aY6xb98+JRIJvfLKK/rNb35jdznT2sjIiJYuXaq9e/cqGAyqoaFB7e3tqq6utrs0x+Dzbh++7/OPPUJFYPbs2aqvr5ckzZo1SzU1NYpGo/YW5TD33HOPqqqq7C7DETo7O3XnnXdqzpw5qqys1Be+8AX9+c9/trssR+Hzbh++7/OPIDQF3nnnHW3ZskW1tbVyuVzavXv3dX1efPFFLVy4UKWlpVqzZo06Ozsn9VyHDh1SKpXSvHnzbrHq6SOf44+x3er7ceHCBc2ZM8e6PWfOHJ0/fz4fpU8L/D3YayrHn+/7/CAITYG+vj6tWLFCL7744ie2v/HGG9q5c6d27dqlw4cPa8WKFbrvvvt0+fJlq099fb2WLVt23X8XLlyw+kSjUX3ta19Ta2trzl9TMcnX+GN8puL9wOQx/vaaqvHn+z6PTEwpSeabb76ZdV9jY6P52GOPWbdTqZRZW1trPvfcc+Pe7uDgoHn33Xebv/zlL6eq1GkpV+Nvmqa5d+9ec9u2bVNRpmNM5v1oa2szH3zwQav9iSeeMF977bW81Dvd3MrfA5/3WzfZ8ef7Pr/YI5Rjw8PDOnTokDZu3Gjd53a7tXHjRnV0dIxrG6Zp6pFHHtGGDRv08MMP56rUaWkqxh9TZzzvR2Njo44dO6bz58+rt7dXf/zjH3XffffZVfK0wt+DvcYz/nzf5x9BKMeuXLmiVCqlmTNnZt0/c+ZMdXd3j2sbbW1teuONN7R7927V19ervr5eR48ezUW5085UjL8kbdy4UV/60pf0hz/8QXPnzuVHY5LG8354vV49//zzWr9+verr6/Xkk09yxtgUGe/fA5/33BjP+PN9n39euwvA2FpaWpROp+0uw9H++te/2l2CozzwwAN64IEH7C7Dsfi824fv+/xjj1CO1dTUyOPx6NKlS1n3X7p0SbNmzbKpKudg/AsL74e9GH97Mf6FiSCUYz6fTw0NDdqzZ491Xzqd1p49e9TU1GRjZc7A+BcW3g97Mf72YvwLE4fGpkBvb69Onz5t3f7ggw905MgRRSIRzZ8/Xzt37tT27du1atUqNTY26kc/+pH6+vr06KOP2lj19MH4FxbeD3sx/vZi/IuQ3aetTQd79+41JV333/bt260+P/7xj8358+ebPp/PbGxsNA8cOGBfwdMM419YeD/sxfjbi/EvPlxrDAAAOBZzhAAAgGMRhAAAgGMRhAAAgGMRhAAAgGMRhAAAgGMRhAAAgGMRhAAAgGMRhAAAgGMRhAAAgGMRhABMO2fOnJHL5dKRI0fG/Zhf/OIXCoVCOasJQGEiCAEAAMciCAEAAMciCAEoSm+//bZaWloUCoVUXV2t+++/X++///4n9t23b59cLpd+//vfa/ny5SotLdXatWt17Nix6/r+6U9/0pIlS1RZWalNmzbp4sWLVltXV5fuvfde1dTUKBgM6nOf+5wOHz6cs9cIIPcIQgCKUl9fn3bu3KmDBw9qz549crvd2rp1q9Lp9A0f89RTT+n5559XV1eXZsyYoS1btiiZTFrt/f39+uEPf6hXX31V77zzjs6ePatvf/vbVnsikdD27du1f/9+HThwQHV1ddq8ebMSiUROXyuA3PHaXQAATMa2bduybv/85z/XjBkzdPz4cVVWVn7iY3bt2qV7771XkvTKK69o7ty5evPNN/XQQw9JkpLJpF566SXdfvvtkqTHH39czz77rPX4DRs2ZG2vtbVVoVBIf//733X//fdP2WsDkD/sEQJQlP7973/rK1/5ihYtWqRAIKCFCxdKks6ePXvDxzQ1NVn/H4lEtHjxYp04ccK6r7y83ApBkjR79mxdvnzZun3p0iXt2LFDdXV1CgaDCgQC6u3tvelzAihs7BECUJS2bNmiBQsW6OWXX1Ztba3S6bSWLVum4eHhSW+zpKQk67bL5ZJpmtbt7du36+rVq3rhhRe0YMEC+f1+NTU13dJzArAXQQhA0bl69apOnjypl19+WXfffbckaf/+/WM+7sCBA5o/f74kyTAMnTp1SkuWLBn387a1teknP/mJNm/eLEk6d+6crly5MolXAKBQEIQAFJ1wOKzq6mq1trZq9uzZOnv2rJ5++ukxH/fss8+qurpaM2fO1He+8x3V1NTowQcfHPfz1tXV6dVXX9WqVasUj8f11FNPqays7BZeCQC7MUcIQNFxu9361a9+pUOHDmnZsmX61re+pR/84AdjPu573/uennjiCTU0NKi7u1tvvfWWfD7fuJ/3Zz/7mQzD0F133aWHH35Y3/zmN3XbbbfdyksBYDOXee0BcACYhvbt26f169fLMAwuowEgC3uEAACAYxGEAACAY3FoDAAAOBZ7hAAAgGMRhAAAgGMRhAAAgGMRhAAAgGMRhAAAgGMRhAAAgGMRhAAAgGMRhAAAgGP9P4h9q5EDUaF5AAAAAElFTkSuQmCC",
      "text/plain": [
       "<Figure size 640x480 with 1 Axes>"
      ]
     },
     "metadata": {},
     "output_type": "display_data"
    }
   ],
   "source": [
    "plot_lasso(alphas, lst_coefs, 0)"
   ]
  },
  {
   "cell_type": "code",
   "execution_count": 113,
   "metadata": {},
   "outputs": [
    {
     "data": {
      "image/png": "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",
      "text/plain": [
       "<Figure size 640x480 with 1 Axes>"
      ]
     },
     "metadata": {},
     "output_type": "display_data"
    }
   ],
   "source": [
    "plot_lasso(alphas, lst_coefs, 1)"
   ]
  },
  {
   "cell_type": "code",
   "execution_count": 114,
   "metadata": {},
   "outputs": [
    {
     "data": {
      "image/png": "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",
      "text/plain": [
       "<Figure size 640x480 with 1 Axes>"
      ]
     },
     "metadata": {},
     "output_type": "display_data"
    }
   ],
   "source": [
    "plot_lasso(alphas, lst_coefs, 2)"
   ]
  },
  {
   "cell_type": "code",
   "execution_count": 115,
   "metadata": {},
   "outputs": [
    {
     "data": {
      "image/png": "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",
      "text/plain": [
       "<Figure size 640x480 with 1 Axes>"
      ]
     },
     "metadata": {},
     "output_type": "display_data"
    }
   ],
   "source": [
    "plot_lasso(alphas, lst_coefs, 3)"
   ]
  },
  {
   "cell_type": "code",
   "execution_count": 53,
   "metadata": {},
   "outputs": [
    {
     "name": "stdout",
     "output_type": "stream",
     "text": [
      "CPU times: user 56min 19s, sys: 18min 14s, total: 1h 14min 34s\n",
      "Wall time: 11min 40s\n"
     ]
    },
    {
     "data": {
      "text/html": [
       "<style>#sk-container-id-3 {color: black;background-color: white;}#sk-container-id-3 pre{padding: 0;}#sk-container-id-3 div.sk-toggleable {background-color: white;}#sk-container-id-3 label.sk-toggleable__label {cursor: pointer;display: block;width: 100%;margin-bottom: 0;padding: 0.3em;box-sizing: border-box;text-align: center;}#sk-container-id-3 label.sk-toggleable__label-arrow:before {content: \"▸\";float: left;margin-right: 0.25em;color: #696969;}#sk-container-id-3 label.sk-toggleable__label-arrow:hover:before {color: black;}#sk-container-id-3 div.sk-estimator:hover label.sk-toggleable__label-arrow:before {color: black;}#sk-container-id-3 div.sk-toggleable__content {max-height: 0;max-width: 0;overflow: hidden;text-align: left;background-color: #f0f8ff;}#sk-container-id-3 div.sk-toggleable__content pre {margin: 0.2em;color: black;border-radius: 0.25em;background-color: #f0f8ff;}#sk-container-id-3 input.sk-toggleable__control:checked~div.sk-toggleable__content {max-height: 200px;max-width: 100%;overflow: auto;}#sk-container-id-3 input.sk-toggleable__control:checked~label.sk-toggleable__label-arrow:before {content: \"▾\";}#sk-container-id-3 div.sk-estimator input.sk-toggleable__control:checked~label.sk-toggleable__label {background-color: #d4ebff;}#sk-container-id-3 div.sk-label input.sk-toggleable__control:checked~label.sk-toggleable__label {background-color: #d4ebff;}#sk-container-id-3 input.sk-hidden--visually {border: 0;clip: rect(1px 1px 1px 1px);clip: rect(1px, 1px, 1px, 1px);height: 1px;margin: -1px;overflow: hidden;padding: 0;position: absolute;width: 1px;}#sk-container-id-3 div.sk-estimator {font-family: monospace;background-color: #f0f8ff;border: 1px dotted black;border-radius: 0.25em;box-sizing: border-box;margin-bottom: 0.5em;}#sk-container-id-3 div.sk-estimator:hover {background-color: #d4ebff;}#sk-container-id-3 div.sk-parallel-item::after {content: \"\";width: 100%;border-bottom: 1px solid gray;flex-grow: 1;}#sk-container-id-3 div.sk-label:hover label.sk-toggleable__label {background-color: #d4ebff;}#sk-container-id-3 div.sk-serial::before {content: \"\";position: absolute;border-left: 1px solid gray;box-sizing: border-box;top: 0;bottom: 0;left: 50%;z-index: 0;}#sk-container-id-3 div.sk-serial {display: flex;flex-direction: column;align-items: center;background-color: white;padding-right: 0.2em;padding-left: 0.2em;position: relative;}#sk-container-id-3 div.sk-item {position: relative;z-index: 1;}#sk-container-id-3 div.sk-parallel {display: flex;align-items: stretch;justify-content: center;background-color: white;position: relative;}#sk-container-id-3 div.sk-item::before, #sk-container-id-3 div.sk-parallel-item::before {content: \"\";position: absolute;border-left: 1px solid gray;box-sizing: border-box;top: 0;bottom: 0;left: 50%;z-index: -1;}#sk-container-id-3 div.sk-parallel-item {display: flex;flex-direction: column;z-index: 1;position: relative;background-color: white;}#sk-container-id-3 div.sk-parallel-item:first-child::after {align-self: flex-end;width: 50%;}#sk-container-id-3 div.sk-parallel-item:last-child::after {align-self: flex-start;width: 50%;}#sk-container-id-3 div.sk-parallel-item:only-child::after {width: 0;}#sk-container-id-3 div.sk-dashed-wrapped {border: 1px dashed gray;margin: 0 0.4em 0.5em 0.4em;box-sizing: border-box;padding-bottom: 0.4em;background-color: white;}#sk-container-id-3 div.sk-label label {font-family: monospace;font-weight: bold;display: inline-block;line-height: 1.2em;}#sk-container-id-3 div.sk-label-container {text-align: center;}#sk-container-id-3 div.sk-container {/* jupyter's `normalize.less` sets `[hidden] { display: none; }` but bootstrap.min.css set `[hidden] { display: none !important; }` so we also need the `!important` here to be able to override the default hidden behavior on the sphinx rendered scikit-learn.org. See: https://github.com/scikit-learn/scikit-learn/issues/21755 */display: inline-block !important;position: relative;}#sk-container-id-3 div.sk-text-repr-fallback {display: none;}</style><div id=\"sk-container-id-3\" class=\"sk-top-container\"><div class=\"sk-text-repr-fallback\"><pre>MultiTaskLassoCV(cv=5, max_iter=10000, random_state=0)</pre><b>In a Jupyter environment, please rerun this cell to show the HTML representation or trust the notebook. <br />On GitHub, the HTML representation is unable to render, please try loading this page with nbviewer.org.</b></div><div class=\"sk-container\" hidden><div class=\"sk-item\"><div class=\"sk-estimator sk-toggleable\"><input class=\"sk-toggleable__control sk-hidden--visually\" id=\"sk-estimator-id-7\" type=\"checkbox\" checked><label for=\"sk-estimator-id-7\" class=\"sk-toggleable__label sk-toggleable__label-arrow\">MultiTaskLassoCV</label><div class=\"sk-toggleable__content\"><pre>MultiTaskLassoCV(cv=5, max_iter=10000, random_state=0)</pre></div></div></div></div></div>"
      ],
      "text/plain": [
       "MultiTaskLassoCV(cv=5, max_iter=10000, random_state=0)"
      ]
     },
     "execution_count": 53,
     "metadata": {},
     "output_type": "execute_result"
    }
   ],
   "source": [
    "%%time\n",
    "from sklearn.linear_model import MultiTaskLassoCV\n",
    "\n",
    "# Lasso with 5 fold cross-validation\n",
    "model = MultiTaskLassoCV(cv=5, random_state=0, max_iter=10000)\n",
    "\n",
    "# Fit model\n",
    "model.fit(x_train, y_train)"
   ]
  },
  {
   "cell_type": "code",
   "execution_count": 55,
   "metadata": {},
   "outputs": [
    {
     "data": {
      "text/plain": [
       "1991341338.8000252"
      ]
     },
     "execution_count": 55,
     "metadata": {},
     "output_type": "execute_result"
    }
   ],
   "source": [
    "model.alpha_"
   ]
  },
  {
   "cell_type": "code",
   "execution_count": 56,
   "metadata": {},
   "outputs": [
    {
     "data": {
      "text/html": [
       "<style>#sk-container-id-5 {color: black;background-color: white;}#sk-container-id-5 pre{padding: 0;}#sk-container-id-5 div.sk-toggleable {background-color: white;}#sk-container-id-5 label.sk-toggleable__label {cursor: pointer;display: block;width: 100%;margin-bottom: 0;padding: 0.3em;box-sizing: border-box;text-align: center;}#sk-container-id-5 label.sk-toggleable__label-arrow:before {content: \"▸\";float: left;margin-right: 0.25em;color: #696969;}#sk-container-id-5 label.sk-toggleable__label-arrow:hover:before {color: black;}#sk-container-id-5 div.sk-estimator:hover label.sk-toggleable__label-arrow:before {color: black;}#sk-container-id-5 div.sk-toggleable__content {max-height: 0;max-width: 0;overflow: hidden;text-align: left;background-color: #f0f8ff;}#sk-container-id-5 div.sk-toggleable__content pre {margin: 0.2em;color: black;border-radius: 0.25em;background-color: #f0f8ff;}#sk-container-id-5 input.sk-toggleable__control:checked~div.sk-toggleable__content {max-height: 200px;max-width: 100%;overflow: auto;}#sk-container-id-5 input.sk-toggleable__control:checked~label.sk-toggleable__label-arrow:before {content: \"▾\";}#sk-container-id-5 div.sk-estimator input.sk-toggleable__control:checked~label.sk-toggleable__label {background-color: #d4ebff;}#sk-container-id-5 div.sk-label input.sk-toggleable__control:checked~label.sk-toggleable__label {background-color: #d4ebff;}#sk-container-id-5 input.sk-hidden--visually {border: 0;clip: rect(1px 1px 1px 1px);clip: rect(1px, 1px, 1px, 1px);height: 1px;margin: -1px;overflow: hidden;padding: 0;position: absolute;width: 1px;}#sk-container-id-5 div.sk-estimator {font-family: monospace;background-color: #f0f8ff;border: 1px dotted black;border-radius: 0.25em;box-sizing: border-box;margin-bottom: 0.5em;}#sk-container-id-5 div.sk-estimator:hover {background-color: #d4ebff;}#sk-container-id-5 div.sk-parallel-item::after {content: \"\";width: 100%;border-bottom: 1px solid gray;flex-grow: 1;}#sk-container-id-5 div.sk-label:hover label.sk-toggleable__label {background-color: #d4ebff;}#sk-container-id-5 div.sk-serial::before {content: \"\";position: absolute;border-left: 1px solid gray;box-sizing: border-box;top: 0;bottom: 0;left: 50%;z-index: 0;}#sk-container-id-5 div.sk-serial {display: flex;flex-direction: column;align-items: center;background-color: white;padding-right: 0.2em;padding-left: 0.2em;position: relative;}#sk-container-id-5 div.sk-item {position: relative;z-index: 1;}#sk-container-id-5 div.sk-parallel {display: flex;align-items: stretch;justify-content: center;background-color: white;position: relative;}#sk-container-id-5 div.sk-item::before, #sk-container-id-5 div.sk-parallel-item::before {content: \"\";position: absolute;border-left: 1px solid gray;box-sizing: border-box;top: 0;bottom: 0;left: 50%;z-index: -1;}#sk-container-id-5 div.sk-parallel-item {display: flex;flex-direction: column;z-index: 1;position: relative;background-color: white;}#sk-container-id-5 div.sk-parallel-item:first-child::after {align-self: flex-end;width: 50%;}#sk-container-id-5 div.sk-parallel-item:last-child::after {align-self: flex-start;width: 50%;}#sk-container-id-5 div.sk-parallel-item:only-child::after {width: 0;}#sk-container-id-5 div.sk-dashed-wrapped {border: 1px dashed gray;margin: 0 0.4em 0.5em 0.4em;box-sizing: border-box;padding-bottom: 0.4em;background-color: white;}#sk-container-id-5 div.sk-label label {font-family: monospace;font-weight: bold;display: inline-block;line-height: 1.2em;}#sk-container-id-5 div.sk-label-container {text-align: center;}#sk-container-id-5 div.sk-container {/* jupyter's `normalize.less` sets `[hidden] { display: none; }` but bootstrap.min.css set `[hidden] { display: none !important; }` so we also need the `!important` here to be able to override the default hidden behavior on the sphinx rendered scikit-learn.org. See: https://github.com/scikit-learn/scikit-learn/issues/21755 */display: inline-block !important;position: relative;}#sk-container-id-5 div.sk-text-repr-fallback {display: none;}</style><div id=\"sk-container-id-5\" class=\"sk-top-container\"><div class=\"sk-text-repr-fallback\"><pre>Lasso(alpha=1991341338.8000252)</pre><b>In a Jupyter environment, please rerun this cell to show the HTML representation or trust the notebook. <br />On GitHub, the HTML representation is unable to render, please try loading this page with nbviewer.org.</b></div><div class=\"sk-container\" hidden><div class=\"sk-item\"><div class=\"sk-estimator sk-toggleable\"><input class=\"sk-toggleable__control sk-hidden--visually\" id=\"sk-estimator-id-9\" type=\"checkbox\" checked><label for=\"sk-estimator-id-9\" class=\"sk-toggleable__label sk-toggleable__label-arrow\">Lasso</label><div class=\"sk-toggleable__content\"><pre>Lasso(alpha=1991341338.8000252)</pre></div></div></div></div></div>"
      ],
      "text/plain": [
       "Lasso(alpha=1991341338.8000252)"
      ]
     },
     "execution_count": 56,
     "metadata": {},
     "output_type": "execute_result"
    }
   ],
   "source": [
    "# Set best alpha\n",
    "lasso_best = Lasso(alpha=model.alpha_)\n",
    "lasso_best.fit(x_train, y_train)"
   ]
  },
  {
   "cell_type": "code",
   "execution_count": 58,
   "metadata": {},
   "outputs": [
    {
     "name": "stdout",
     "output_type": "stream",
     "text": [
      "[(array([-0.,  0.,  0.,  0.,  0.,  0.,  0.,  0.,  0.,  0.,  0.,  0.,  0.,\n",
      "        0.,  0.,  0.,  0.,  0.,  0.,  0.,  0.,  0.,  0.,  0.,  0.,  0.,\n",
      "        0.,  0.,  0.,  0.,  0.,  0.,  0.,  0.,  0.,  0.,  0., -0.]), 'IdPlayer'), (array([-0.,  0.,  0.,  0.,  0.,  0.,  0.,  0.,  0.,  0.,  0.,  0.,  0.,\n",
      "        0.,  0.,  0.,  0.,  0.,  0.,  0.,  0.,  0.,  0.,  0.,  0.,  0.,\n",
      "        0.,  0.,  0.,  0.,  0.,  0.,  0.,  0.,  0.,  0.,  0.,  0.]), 'target1_shift_1'), (array([-0.,  0.,  0.,  0.,  0.,  0.,  0.,  0.,  0.,  0.,  0.,  0.,  0.,\n",
      "        0.,  0.,  0.,  0.,  0.,  0.,  0.,  0.,  0.,  0.,  0.,  0.,  0.,\n",
      "        0.,  0.,  0.,  0.,  0.,  0.,  0.,  0.,  0.,  0.,  0., -0.]), 'target2_shift_1'), (array([-0.,  0.,  0.,  0.,  0.,  0.,  0.,  0.,  0.,  0.,  0.,  0.,  0.,\n",
      "        0.,  0.,  0.,  0.,  0.,  0.,  0.,  0.,  0.,  0.,  0.,  0.,  0.,\n",
      "        0.,  0.,  0.,  0.,  0.,  0.,  0.,  0.,  0.,  0.,  0.,  0.]), 'target3_shift_1')]\n"
     ]
    }
   ],
   "source": [
    "print(list(zip(lasso_best.coef_, x_train)))"
   ]
  },
  {
   "cell_type": "code",
   "execution_count": 59,
   "metadata": {},
   "outputs": [],
   "source": [
    "y_pred_lasso_best = pd.DataFrame(lasso_best.predict(x_test), columns=TARGET_COLS)"
   ]
  },
  {
   "cell_type": "code",
   "execution_count": 60,
   "metadata": {},
   "outputs": [],
   "source": [
    "evals_df = evals_df.append({'model': 'lasso_best', **evaluate_mae(y_test, y_pred_lasso_best)}, ignore_index=True)"
   ]
  },
  {
   "cell_type": "code",
   "execution_count": 61,
   "metadata": {},
   "outputs": [
    {
     "data": {
      "image/png": "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",
      "text/plain": [
       "<Figure size 640x480 with 1 Axes>"
      ]
     },
     "metadata": {},
     "output_type": "display_data"
    }
   ],
   "source": [
    "plt.semilogx(model.alphas_, model.mse_path_, \":\")\n",
    "plt.plot(\n",
    "    model.alphas_ ,\n",
    "    model.mse_path_.mean(axis=-1),\n",
    "    \"k\",\n",
    "    label=\"Average across the folds\",\n",
    "    linewidth=2,\n",
    ")\n",
    "plt.axvline(\n",
    "    model.alpha_, linestyle=\"--\", color=\"k\", label=\"alpha: CV estimate\"\n",
    ")\n",
    "\n",
    "plt.legend()\n",
    "plt.xlabel(\"alphas\")\n",
    "plt.ylabel(\"Mean square error\")\n",
    "plt.title(\"Mean square error on each fold\")\n",
    "plt.axis(\"tight\")\n",
    "\n",
    "ymin, ymax = 50000, 250000\n",
    "plt.ylim(ymin, ymax);"
   ]
  },
  {
   "cell_type": "code",
   "execution_count": 62,
   "metadata": {},
   "outputs": [
    {
     "data": {
      "text/html": [
       "<div>\n",
       "<style scoped>\n",
       "    .dataframe tbody tr th:only-of-type {\n",
       "        vertical-align: middle;\n",
       "    }\n",
       "\n",
       "    .dataframe tbody tr th {\n",
       "        vertical-align: top;\n",
       "    }\n",
       "\n",
       "    .dataframe thead th {\n",
       "        text-align: right;\n",
       "    }\n",
       "</style>\n",
       "<table border=\"1\" class=\"dataframe\">\n",
       "  <thead>\n",
       "    <tr style=\"text-align: right;\">\n",
       "      <th></th>\n",
       "      <th>model</th>\n",
       "      <th>target1</th>\n",
       "      <th>target2</th>\n",
       "      <th>target3</th>\n",
       "      <th>target4</th>\n",
       "    </tr>\n",
       "  </thead>\n",
       "  <tbody>\n",
       "    <tr>\n",
       "      <th>0</th>\n",
       "      <td>naive</td>\n",
       "      <td>0.794010</td>\n",
       "      <td>1.349561</td>\n",
       "      <td>0.626269</td>\n",
       "      <td>0.809013</td>\n",
       "    </tr>\n",
       "    <tr>\n",
       "      <th>1</th>\n",
       "      <td>mean</td>\n",
       "      <td>0.943662</td>\n",
       "      <td>2.253810</td>\n",
       "      <td>0.954913</td>\n",
       "      <td>1.021249</td>\n",
       "    </tr>\n",
       "    <tr>\n",
       "      <th>2</th>\n",
       "      <td>lasso</td>\n",
       "      <td>0.749040</td>\n",
       "      <td>1.402901</td>\n",
       "      <td>0.676788</td>\n",
       "      <td>0.760047</td>\n",
       "    </tr>\n",
       "    <tr>\n",
       "      <th>3</th>\n",
       "      <td>multitask LASSO</td>\n",
       "      <td>0.748527</td>\n",
       "      <td>1.503057</td>\n",
       "      <td>0.672377</td>\n",
       "      <td>0.789836</td>\n",
       "    </tr>\n",
       "    <tr>\n",
       "      <th>4</th>\n",
       "      <td>lasso_best</td>\n",
       "      <td>1.132658</td>\n",
       "      <td>2.746612</td>\n",
       "      <td>1.070628</td>\n",
       "      <td>1.475053</td>\n",
       "    </tr>\n",
       "  </tbody>\n",
       "</table>\n",
       "</div>"
      ],
      "text/plain": [
       "             model   target1   target2   target3   target4\n",
       "0            naive  0.794010  1.349561  0.626269  0.809013\n",
       "1             mean  0.943662  2.253810  0.954913  1.021249\n",
       "2            lasso  0.749040  1.402901  0.676788  0.760047\n",
       "3  multitask LASSO  0.748527  1.503057  0.672377  0.789836\n",
       "4       lasso_best  1.132658  2.746612  1.070628  1.475053"
      ]
     },
     "execution_count": 62,
     "metadata": {},
     "output_type": "execute_result"
    }
   ],
   "source": [
    "evals_df"
   ]
  },
  {
   "cell_type": "code",
   "execution_count": null,
   "metadata": {},
   "outputs": [],
   "source": [
    "lst_coefs = []\n",
    "for j in range(4):\n",
    "    lst_aux = []\n",
    "    for i in range(len(coefs)):\n",
    "        lst_aux.append(coefs[i][j])\n",
    "    lst_coefs.append(lst_aux)\n",
    "lst_coefs[0]"
   ]
  },
  {
   "cell_type": "code",
   "execution_count": 137,
   "metadata": {},
   "outputs": [
    {
     "data": {
      "text/plain": [
       "4"
      ]
     },
     "execution_count": 137,
     "metadata": {},
     "output_type": "execute_result"
    }
   ],
   "source": [
    "lst_mse_paths = []\n",
    "for j in range(4):\n",
    "    lst_aux = []\n",
    "    for i in range(len(model.mse_path_)):\n",
    "        lst_aux.append(model.mse_path_[i][j])\n",
    "    lst_mse_paths.append(pd.Series(lst_aux))\n",
    "len(lst_mse_paths)"
   ]
  },
  {
   "cell_type": "code",
   "execution_count": 150,
   "metadata": {},
   "outputs": [
    {
     "data": {
      "text/plain": [
       "(1409761.7060733421, 2812844405.21439, 13.277004406165394, 38.86311438100029)"
      ]
     },
     "execution_count": 150,
     "metadata": {},
     "output_type": "execute_result"
    },
    {
     "data": {
      "image/png": "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",
      "text/plain": [
       "<Figure size 640x480 with 1 Axes>"
      ]
     },
     "metadata": {},
     "output_type": "display_data"
    }
   ],
   "source": [
    "plt.semilogx(model.alphas_, model.mse_path_, \":\")\n",
    "plt.plot(\n",
    "    model.alphas_ ,\n",
    "    model.mse_path_.mean(axis=-1),\n",
    "    \"k\",\n",
    "    label=\"Average across the folds\",\n",
    "    linewidth=2,\n",
    ")\n",
    "plt.axvline(\n",
    "    model.alpha_, linestyle=\"--\", color=\"k\", label=\"alpha: CV estimate\"\n",
    ")\n",
    "\n",
    "plt.legend()\n",
    "plt.xlabel(\"alphas\")\n",
    "plt.ylabel(\"Mean square error\")\n",
    "plt.title(\"Mean square error on each fold\")\n",
    "plt.axis(\"tight\")"
   ]
  },
  {
   "cell_type": "code",
   "execution_count": 135,
   "metadata": {},
   "outputs": [],
   "source": [
    "def plot_lasso_mse_path(alphas, mse_paths, target_num):\n",
    "    plt.semilogx(alphas, mse_paths[target_num], \":\")\n",
    "    plt.plot(\n",
    "        alphas ,\n",
    "        mse_paths[target_num].mean(),\n",
    "        \"k\",\n",
    "        label=\"Average across the folds\",\n",
    "        linewidth=2,\n",
    "    )\n",
    "    plt.axvline(\n",
    "        alphas, linestyle=\"--\", color=\"k\", label=\"alpha: CV estimate\"\n",
    "    )\n",
    "\n",
    "    plt.legend()\n",
    "    plt.xlabel(\"alphas\")\n",
    "    plt.ylabel(\"Mean square error\")\n",
    "    plt.title(\"Mean square error on each fold\")\n",
    "    plt.axis(\"tight\")\n",
    "\n",
    "    ymin, ymax = 50000, 250000\n",
    "    plt.ylim(ymin, ymax);"
   ]
  },
  {
   "cell_type": "code",
   "execution_count": null,
   "metadata": {},
   "outputs": [],
   "source": [
    "plot_lasso_mse_path(alphas, lst_mse_paths, 0)"
   ]
  },
  {
   "cell_type": "code",
   "execution_count": 177,
   "metadata": {},
   "outputs": [],
   "source": [
    "evals_df['mean'] = evals_df.mean(axis=1)"
   ]
  },
  {
   "cell_type": "code",
   "execution_count": 178,
   "metadata": {},
   "outputs": [
    {
     "data": {
      "text/html": [
       "<div>\n",
       "<style scoped>\n",
       "    .dataframe tbody tr th:only-of-type {\n",
       "        vertical-align: middle;\n",
       "    }\n",
       "\n",
       "    .dataframe tbody tr th {\n",
       "        vertical-align: top;\n",
       "    }\n",
       "\n",
       "    .dataframe thead th {\n",
       "        text-align: right;\n",
       "    }\n",
       "</style>\n",
       "<table border=\"1\" class=\"dataframe\">\n",
       "  <thead>\n",
       "    <tr style=\"text-align: right;\">\n",
       "      <th></th>\n",
       "      <th>model</th>\n",
       "      <th>target1</th>\n",
       "      <th>target2</th>\n",
       "      <th>target3</th>\n",
       "      <th>target4</th>\n",
       "      <th>mean</th>\n",
       "    </tr>\n",
       "  </thead>\n",
       "  <tbody>\n",
       "    <tr>\n",
       "      <th>0</th>\n",
       "      <td>naive</td>\n",
       "      <td>0.794010</td>\n",
       "      <td>1.349561</td>\n",
       "      <td>0.626269</td>\n",
       "      <td>0.809013</td>\n",
       "      <td>0.894713</td>\n",
       "    </tr>\n",
       "    <tr>\n",
       "      <th>1</th>\n",
       "      <td>mean</td>\n",
       "      <td>0.943662</td>\n",
       "      <td>2.253810</td>\n",
       "      <td>0.954913</td>\n",
       "      <td>1.021249</td>\n",
       "      <td>1.293408</td>\n",
       "    </tr>\n",
       "    <tr>\n",
       "      <th>2</th>\n",
       "      <td>lasso</td>\n",
       "      <td>0.749040</td>\n",
       "      <td>1.402901</td>\n",
       "      <td>0.676788</td>\n",
       "      <td>0.760047</td>\n",
       "      <td>0.897194</td>\n",
       "    </tr>\n",
       "    <tr>\n",
       "      <th>3</th>\n",
       "      <td>multitask LASSO</td>\n",
       "      <td>0.748527</td>\n",
       "      <td>1.503057</td>\n",
       "      <td>0.672377</td>\n",
       "      <td>0.789836</td>\n",
       "      <td>0.928449</td>\n",
       "    </tr>\n",
       "    <tr>\n",
       "      <th>4</th>\n",
       "      <td>lasso_best</td>\n",
       "      <td>1.132658</td>\n",
       "      <td>2.746612</td>\n",
       "      <td>1.070628</td>\n",
       "      <td>1.475053</td>\n",
       "      <td>1.606238</td>\n",
       "    </tr>\n",
       "  </tbody>\n",
       "</table>\n",
       "</div>"
      ],
      "text/plain": [
       "             model   target1   target2   target3   target4      mean\n",
       "0            naive  0.794010  1.349561  0.626269  0.809013  0.894713\n",
       "1             mean  0.943662  2.253810  0.954913  1.021249  1.293408\n",
       "2            lasso  0.749040  1.402901  0.676788  0.760047  0.897194\n",
       "3  multitask LASSO  0.748527  1.503057  0.672377  0.789836  0.928449\n",
       "4       lasso_best  1.132658  2.746612  1.070628  1.475053  1.606238"
      ]
     },
     "execution_count": 178,
     "metadata": {},
     "output_type": "execute_result"
    }
   ],
   "source": [
    "evals_df"
   ]
  },
  {
   "cell_type": "code",
   "execution_count": null,
   "metadata": {},
   "outputs": [],
   "source": []
  },
  {
   "cell_type": "code",
   "execution_count": 119,
   "metadata": {},
   "outputs": [
    {
     "data": {
      "image/png": "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\n",
      "text/plain": [
       "<Figure size 432x288 with 1 Axes>"
      ]
     },
     "metadata": {
      "needs_background": "light"
     },
     "output_type": "display_data"
    }
   ],
   "source": [
    "alphas = np.linspace(0.01,500,100)\n",
    "lasso = Lasso()\n",
    "coefs = []\n",
    "\n",
    "for a in alphas:\n",
    "    lasso.set_params(alpha=a)\n",
    "    lasso.fit(x_train, y_train['target1'])\n",
    "    coefs.append(lasso.coef_)\n",
    "\n",
    "ax = plt.gca()\n",
    "\n",
    "ax.plot(alphas, coefs)\n",
    "ax.set_xscale('log')\n",
    "plt.axis('tight')\n",
    "plt.xlabel('alpha')\n",
    "plt.ylabel('Standardized Coefficients')\n",
    "plt.title('Lasso coefficients as a function of alpha');"
   ]
  }
 ],
 "metadata": {
  "kernelspec": {
   "display_name": "Python 3 (ipykernel)",
   "language": "python",
   "name": "python3"
  },
  "language_info": {
   "codemirror_mode": {
    "name": "ipython",
    "version": 3
   },
   "file_extension": ".py",
   "mimetype": "text/x-python",
   "name": "python",
   "nbconvert_exporter": "python",
   "pygments_lexer": "ipython3",
   "version": "3.9.7"
  },
  "vscode": {
   "interpreter": {
    "hash": "916dbcbb3f70747c44a77c7bcd40155683ae19c65e1c03b4aa3499c5328201f1"
   }
  }
 },
 "nbformat": 4,
 "nbformat_minor": 2
}

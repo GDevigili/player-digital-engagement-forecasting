{
 "cells": [
  {
   "cell_type": "markdown",
   "metadata": {},
   "source": [
    "# Métrica\n",
    "\n",
    "Testando métricas nas baselines"
   ]
  },
  {
   "cell_type": "markdown",
   "metadata": {},
   "source": [
    "## Configuração de Ambiente"
   ]
  },
  {
   "cell_type": "code",
   "execution_count": 2,
   "metadata": {},
   "outputs": [],
   "source": [
    "# Variáveis de Configuração\n",
    "\n",
    "# Caminhos de arquivo\n",
    "raw_data_path = '../data/raw-data/'                 # dados não processados\n",
    "raw_dataset_path = raw_data_path + 'train_updated.csv'\n",
    "processed_data_path = '../data/processed-data/'     # dados processados\n",
    "processed_dataset_path = processed_data_path + 'train.pkl' \n",
    "model_path = '../models/trained-models/'"
   ]
  },
  {
   "cell_type": "code",
   "execution_count": 3,
   "metadata": {},
   "outputs": [],
   "source": [
    "# Imports\n",
    "\n",
    "# Data manipulation\n",
    "import pandas as pd\n",
    "import numpy as np\n",
    "\n",
    "import pickle as pkl\n",
    "\n",
    "from joblib import Parallel, delayed\n",
    "\n",
    "# Metrics\n",
    "from sklearn.metrics import mean_absolute_error, r2_score, mean_squared_error, mean_squared_log_error, max_error\n",
    "\n",
    "# disable warnings\n",
    "import warnings\n",
    "warnings.filterwarnings(\"ignore\", category=DeprecationWarning)\n",
    "warnings.filterwarnings(\"ignore\", category=FutureWarning)\n",
    "pd.options.mode.chained_assignment = None  # default='warn'"
   ]
  },
  {
   "cell_type": "code",
   "execution_count": 4,
   "metadata": {},
   "outputs": [],
   "source": [
    "# Variáveis/Constantes Globais\n",
    "TARGET_COLS = ['target1', 'target2', 'target3', 'target4']\n",
    "\n",
    "RANDOM_SEED = 42\n",
    "\n",
    "TEST_SPLIT_DATE = '2021-04-30'"
   ]
  },
  {
   "cell_type": "markdown",
   "metadata": {},
   "source": [
    "## Preparação dos Dados\n",
    "\n",
    "Manter no notebook apenas a preparação pontual dos dados para a aplicação em modelos, toda preparação permanente deve ser adicionada em `/src/data-engineering/data-engineering.ipynb` e então salvo o dataset processado em `/src/data/processed-data/`."
   ]
  },
  {
   "cell_type": "code",
   "execution_count": null,
   "metadata": {},
   "outputs": [],
   "source": []
  },
  {
   "cell_type": "markdown",
   "metadata": {},
   "source": [
    "### Funções Auxiliares\n",
    "\n",
    "Apenas manter aqui funções que serão utilizadas pontualmente no notebook, em caso de funções que serão usadas em outros notebooks, deve-se transferir as mesmas para um arquivo `.py` separado e importar as funções para o notebook."
   ]
  },
  {
   "cell_type": "code",
   "execution_count": 6,
   "metadata": {},
   "outputs": [],
   "source": [
    "# Imports\n",
    "\n",
    "from data_preparation import *"
   ]
  },
  {
   "cell_type": "code",
   "execution_count": 7,
   "metadata": {},
   "outputs": [],
   "source": [
    "# Funções Auxiliares\n",
    "pass"
   ]
  },
  {
   "cell_type": "markdown",
   "metadata": {},
   "source": [
    "### Carregando os dados"
   ]
  },
  {
   "cell_type": "code",
   "execution_count": 6,
   "metadata": {},
   "outputs": [
    {
     "name": "stdout",
     "output_type": "stream",
     "text": [
      "Wall time: 1.87 s\n"
     ]
    }
   ],
   "source": [
    "%%time\n",
    "df = pd.read_pickle('../data/processed-data/targets.pkl')"
   ]
  },
  {
   "cell_type": "markdown",
   "metadata": {},
   "source": [
    "### Preparação"
   ]
  },
  {
   "cell_type": "code",
   "execution_count": 7,
   "metadata": {},
   "outputs": [
    {
     "name": "stdout",
     "output_type": "stream",
     "text": [
      "<class 'pandas.core.frame.DataFrame'>\n",
      "RangeIndex: 2695788 entries, 0 to 2695787\n",
      "Data columns (total 7 columns):\n",
      " #   Column      Dtype         \n",
      "---  ------      -----         \n",
      " 0   Dt          datetime64[ns]\n",
      " 1   IdPlayer    int32         \n",
      " 2   target1     float16       \n",
      " 3   target2     float16       \n",
      " 4   target3     float16       \n",
      " 5   target4     float16       \n",
      " 6   IdDtPlayer  object        \n",
      "dtypes: datetime64[ns](1), float16(4), int32(1), object(1)\n",
      "memory usage: 72.0+ MB\n"
     ]
    }
   ],
   "source": [
    "df.info()"
   ]
  },
  {
   "cell_type": "code",
   "execution_count": 8,
   "metadata": {},
   "outputs": [],
   "source": [
    "df[TARGET_COLS] = df[TARGET_COLS].astype('float', copy = True)"
   ]
  },
  {
   "cell_type": "code",
   "execution_count": 9,
   "metadata": {},
   "outputs": [
    {
     "name": "stdout",
     "output_type": "stream",
     "text": [
      "Train shape: (2322747, 7), Test shape: (189612, 7), Val shape: (183429, 7)\n"
     ]
    }
   ],
   "source": [
    "train, test, val = train_test_split(df)\n",
    "print(f\"Train shape: {train.shape}, Test shape: {test.shape}, Val shape: {val.shape}\")\n",
    "\n",
    "del df"
   ]
  },
  {
   "cell_type": "markdown",
   "metadata": {},
   "source": [
    "## Treinando Modelos"
   ]
  },
  {
   "cell_type": "markdown",
   "metadata": {},
   "source": [
    "Para o treinamento dos modelos, seguir o template abaixo:\n",
    "```py\n",
    "from sklearn.lib_name import ModelName\n",
    "\n",
    "model = ModelName(**params)\n",
    "\n",
    "model = # FALTA ALTERAÇÃO\n",
    "```"
   ]
  },
  {
   "cell_type": "code",
   "execution_count": 17,
   "metadata": {},
   "outputs": [],
   "source": [
    "df_results_mae = pd.DataFrame(columns = ['model', 'target1', 'target2', 'target3', 'target4', 'average'])\n",
    "df_results_r2 = pd.DataFrame(columns = ['model', 'target1', 'target2', 'target3', 'target4', 'average'])\n",
    "df_results_mse = pd.DataFrame(columns = ['model', 'target1', 'target2', 'target3', 'target4', 'average'])\n",
    "df_results_msle = pd.DataFrame(columns = ['model', 'target1', 'target2', 'target3', 'target4', 'average'])\n",
    "df_results_max = pd.DataFrame(columns = ['model', 'target1', 'target2', 'target3', 'target4', 'average'])\n",
    "df_results_amae = pd.DataFrame(columns = ['model', 'target1', 'target2', 'target3', 'target4', 'average'])"
   ]
  },
  {
   "cell_type": "markdown",
   "metadata": {},
   "source": [
    "### Mean"
   ]
  },
  {
   "cell_type": "code",
   "execution_count": 11,
   "metadata": {},
   "outputs": [
    {
     "name": "stdout",
     "output_type": "stream",
     "text": [
      "Wall time: 462 ms\n"
     ]
    }
   ],
   "source": [
    "%%time\n",
    "train_val = pd.concat([train, val], axis=0)\n",
    "\n",
    "media = train_val[TARGET_COLS].mean()\n",
    "media_por_jogador = train_val.groupby('IdPlayer')[TARGET_COLS].mean()"
   ]
  },
  {
   "cell_type": "markdown",
   "metadata": {},
   "source": [
    "### Median"
   ]
  },
  {
   "cell_type": "code",
   "execution_count": 12,
   "metadata": {},
   "outputs": [],
   "source": [
    "mediana = train_val[TARGET_COLS].median()\n",
    "mediana_por_jogador = train_val.groupby('IdPlayer')[TARGET_COLS].median()"
   ]
  },
  {
   "cell_type": "markdown",
   "metadata": {},
   "source": [
    "### Naive"
   ]
  },
  {
   "cell_type": "code",
   "execution_count": 13,
   "metadata": {},
   "outputs": [],
   "source": [
    "naive = train_val[train_val['Dt']=='2021-04-30'].set_index('IdPlayer')[TARGET_COLS]"
   ]
  },
  {
   "cell_type": "markdown",
   "metadata": {},
   "source": [
    "## Resultados MAE"
   ]
  },
  {
   "cell_type": "code",
   "execution_count": 14,
   "metadata": {},
   "outputs": [],
   "source": [
    "summary = pd.DataFrame()\n",
    "\n",
    "for target in TARGET_COLS:\n",
    "    \n",
    "    y_true = test[target]\n",
    "    \n",
    "    mediapj_pred = test['IdPlayer'].map(media_por_jogador[target].to_dict())\n",
    "    medianapj_pred = test['IdPlayer'].map(mediana_por_jogador[target].to_dict())\n",
    "    naive_pred = test['IdPlayer'].map(naive[target].to_dict())\n",
    "    \n",
    "    mediana_pred = [mediana[target] for i in test.index]\n",
    "    media_pred = [media[target] for i in test.index]\n",
    "    \n",
    "\n",
    "    summary.loc['Média',target]  = mean_absolute_error(y_true,media_pred)\n",
    "    summary.loc['Média por Jogador',target]  = mean_absolute_error(y_true,mediapj_pred)\n",
    "    summary.loc['Mediana',target]  = mean_absolute_error(y_true,mediana_pred)\n",
    "    summary.loc['Mediana por Jogador',target]  = mean_absolute_error(y_true,medianapj_pred)\n",
    "    summary.loc['Naive',target]  = mean_absolute_error(y_true,naive_pred)\n",
    "    \n",
    "summary['average'] = summary.mean(axis=1)\n",
    "\n",
    "summary = summary.reset_index()\n",
    "summary = summary.rename(columns = {\"index\": \"model\"})\n",
    "df_results_mae = df_results_mae.append(summary, ignore_index = True)"
   ]
  },
  {
   "cell_type": "code",
   "execution_count": 15,
   "metadata": {},
   "outputs": [
    {
     "data": {
      "text/html": [
       "<div>\n",
       "<style scoped>\n",
       "    .dataframe tbody tr th:only-of-type {\n",
       "        vertical-align: middle;\n",
       "    }\n",
       "\n",
       "    .dataframe tbody tr th {\n",
       "        vertical-align: top;\n",
       "    }\n",
       "\n",
       "    .dataframe thead th {\n",
       "        text-align: right;\n",
       "    }\n",
       "</style>\n",
       "<table border=\"1\" class=\"dataframe\">\n",
       "  <thead>\n",
       "    <tr style=\"text-align: right;\">\n",
       "      <th></th>\n",
       "      <th>model</th>\n",
       "      <th>target1</th>\n",
       "      <th>target2</th>\n",
       "      <th>target3</th>\n",
       "      <th>target4</th>\n",
       "      <th>average</th>\n",
       "    </tr>\n",
       "  </thead>\n",
       "  <tbody>\n",
       "    <tr>\n",
       "      <th>0</th>\n",
       "      <td>Média</td>\n",
       "      <td>1.126845</td>\n",
       "      <td>2.739032</td>\n",
       "      <td>1.068969</td>\n",
       "      <td>1.477763</td>\n",
       "      <td>1.603152</td>\n",
       "    </tr>\n",
       "    <tr>\n",
       "      <th>1</th>\n",
       "      <td>Média por Jogador</td>\n",
       "      <td>0.94</td>\n",
       "      <td>2.251021</td>\n",
       "      <td>0.954301</td>\n",
       "      <td>1.025007</td>\n",
       "      <td>1.292582</td>\n",
       "    </tr>\n",
       "    <tr>\n",
       "      <th>2</th>\n",
       "      <td>Mediana</td>\n",
       "      <td>0.712802</td>\n",
       "      <td>1.651937</td>\n",
       "      <td>0.498075</td>\n",
       "      <td>1.139847</td>\n",
       "      <td>1.000665</td>\n",
       "    </tr>\n",
       "    <tr>\n",
       "      <th>3</th>\n",
       "      <td>Mediana por Jogador</td>\n",
       "      <td>0.702607</td>\n",
       "      <td>1.56062</td>\n",
       "      <td>0.493126</td>\n",
       "      <td>0.925952</td>\n",
       "      <td>0.920576</td>\n",
       "    </tr>\n",
       "    <tr>\n",
       "      <th>4</th>\n",
       "      <td>Naive</td>\n",
       "      <td>1.168903</td>\n",
       "      <td>1.808058</td>\n",
       "      <td>0.761273</td>\n",
       "      <td>1.520533</td>\n",
       "      <td>1.314692</td>\n",
       "    </tr>\n",
       "  </tbody>\n",
       "</table>\n",
       "</div>"
      ],
      "text/plain": [
       "                 model   target1   target2   target3   target4   average\n",
       "0                Média  1.126845  2.739032  1.068969  1.477763  1.603152\n",
       "1    Média por Jogador      0.94  2.251021  0.954301  1.025007  1.292582\n",
       "2              Mediana  0.712802  1.651937  0.498075  1.139847  1.000665\n",
       "3  Mediana por Jogador  0.702607   1.56062  0.493126  0.925952  0.920576\n",
       "4                Naive  1.168903  1.808058  0.761273  1.520533  1.314692"
      ]
     },
     "execution_count": 15,
     "metadata": {},
     "output_type": "execute_result"
    }
   ],
   "source": [
    "df_results_mae"
   ]
  },
  {
   "cell_type": "markdown",
   "metadata": {},
   "source": [
    "## Resultados R2"
   ]
  },
  {
   "cell_type": "code",
   "execution_count": 52,
   "metadata": {},
   "outputs": [],
   "source": [
    "summary = pd.DataFrame()\n",
    "\n",
    "for target in TARGET_COLS:\n",
    "    \n",
    "    y_true = test[target]\n",
    "    \n",
    "    mediapj_pred = test['IdPlayer'].map(media_por_jogador[target].to_dict())\n",
    "    medianapj_pred = test['IdPlayer'].map(mediana_por_jogador[target].to_dict())\n",
    "    naive_pred = test['IdPlayer'].map(naive[target].to_dict())\n",
    "    \n",
    "    mediana_pred = [mediana[target] for i in test.index]\n",
    "    media_pred = [media[target] for i in test.index]\n",
    "    \n",
    "\n",
    "    summary.loc['Média',target]  = r2_score(y_true,media_pred)\n",
    "    summary.loc['Média por Jogador',target]  = r2_score(y_true,mediapj_pred)\n",
    "    summary.loc['Mediana',target]  = r2_score(y_true,mediana_pred)\n",
    "    summary.loc['Mediana por Jogador',target]  = r2_score(y_true,medianapj_pred)\n",
    "    summary.loc['Naive',target]  = r2_score(y_true,naive_pred)\n",
    "    \n",
    "summary['average'] = summary.mean(axis=1)\n",
    "\n",
    "summary = summary.reset_index()\n",
    "summary = summary.rename(columns = {\"index\": \"model\"})\n",
    "df_results_r2 = df_results_r2.append(summary, ignore_index = True)"
   ]
  },
  {
   "cell_type": "code",
   "execution_count": 53,
   "metadata": {},
   "outputs": [
    {
     "data": {
      "text/html": [
       "<div>\n",
       "<style scoped>\n",
       "    .dataframe tbody tr th:only-of-type {\n",
       "        vertical-align: middle;\n",
       "    }\n",
       "\n",
       "    .dataframe tbody tr th {\n",
       "        vertical-align: top;\n",
       "    }\n",
       "\n",
       "    .dataframe thead th {\n",
       "        text-align: right;\n",
       "    }\n",
       "</style>\n",
       "<table border=\"1\" class=\"dataframe\">\n",
       "  <thead>\n",
       "    <tr style=\"text-align: right;\">\n",
       "      <th></th>\n",
       "      <th>model</th>\n",
       "      <th>target1</th>\n",
       "      <th>target2</th>\n",
       "      <th>target3</th>\n",
       "      <th>target4</th>\n",
       "      <th>average</th>\n",
       "    </tr>\n",
       "  </thead>\n",
       "  <tbody>\n",
       "    <tr>\n",
       "      <th>0</th>\n",
       "      <td>Média</td>\n",
       "      <td>-0.001037</td>\n",
       "      <td>-0.024916</td>\n",
       "      <td>-0.001893</td>\n",
       "      <td>-0.000544</td>\n",
       "      <td>-0.007097</td>\n",
       "    </tr>\n",
       "    <tr>\n",
       "      <th>1</th>\n",
       "      <td>Média por Jogador</td>\n",
       "      <td>0.112572</td>\n",
       "      <td>0.12675</td>\n",
       "      <td>0.045558</td>\n",
       "      <td>0.233887</td>\n",
       "      <td>0.129692</td>\n",
       "    </tr>\n",
       "    <tr>\n",
       "      <th>2</th>\n",
       "      <td>Mediana</td>\n",
       "      <td>-0.025188</td>\n",
       "      <td>-0.040817</td>\n",
       "      <td>-0.013006</td>\n",
       "      <td>-0.055599</td>\n",
       "      <td>-0.033652</td>\n",
       "    </tr>\n",
       "    <tr>\n",
       "      <th>3</th>\n",
       "      <td>Mediana por Jogador</td>\n",
       "      <td>0.002668</td>\n",
       "      <td>0.141201</td>\n",
       "      <td>0.002468</td>\n",
       "      <td>0.183572</td>\n",
       "      <td>0.082477</td>\n",
       "    </tr>\n",
       "    <tr>\n",
       "      <th>4</th>\n",
       "      <td>Naive</td>\n",
       "      <td>-0.505697</td>\n",
       "      <td>-0.2586</td>\n",
       "      <td>-0.445983</td>\n",
       "      <td>-0.320686</td>\n",
       "      <td>-0.382741</td>\n",
       "    </tr>\n",
       "  </tbody>\n",
       "</table>\n",
       "</div>"
      ],
      "text/plain": [
       "                 model   target1   target2   target3   target4   average\n",
       "0                Média -0.001037 -0.024916 -0.001893 -0.000544 -0.007097\n",
       "1    Média por Jogador  0.112572   0.12675  0.045558  0.233887  0.129692\n",
       "2              Mediana -0.025188 -0.040817 -0.013006 -0.055599 -0.033652\n",
       "3  Mediana por Jogador  0.002668  0.141201  0.002468  0.183572  0.082477\n",
       "4                Naive -0.505697   -0.2586 -0.445983 -0.320686 -0.382741"
      ]
     },
     "execution_count": 53,
     "metadata": {},
     "output_type": "execute_result"
    }
   ],
   "source": [
    "df_results_r2"
   ]
  },
  {
   "cell_type": "markdown",
   "metadata": {},
   "source": [
    "## Resultados MSE"
   ]
  },
  {
   "cell_type": "code",
   "execution_count": 54,
   "metadata": {},
   "outputs": [],
   "source": [
    "summary = pd.DataFrame()\n",
    "\n",
    "for target in TARGET_COLS:\n",
    "    \n",
    "    y_true = test[target]\n",
    "    \n",
    "    mediapj_pred = test['IdPlayer'].map(media_por_jogador[target].to_dict())\n",
    "    medianapj_pred = test['IdPlayer'].map(mediana_por_jogador[target].to_dict())\n",
    "    naive_pred = test['IdPlayer'].map(naive[target].to_dict())\n",
    "    \n",
    "    mediana_pred = [mediana[target] for i in test.index]\n",
    "    media_pred = [media[target] for i in test.index]\n",
    "    \n",
    "\n",
    "    summary.loc['Média',target]  = mean_squared_error(y_true,media_pred)\n",
    "    summary.loc['Média por Jogador',target]  = mean_squared_error(y_true,mediapj_pred)\n",
    "    summary.loc['Mediana',target]  = mean_squared_error(y_true,mediana_pred)\n",
    "    summary.loc['Mediana por Jogador',target]  = mean_squared_error(y_true,medianapj_pred)\n",
    "    summary.loc['Naive',target]  = mean_squared_error(y_true,naive_pred)\n",
    "    \n",
    "summary['average'] = summary.mean(axis=1)\n",
    "\n",
    "summary = summary.reset_index()\n",
    "summary = summary.rename(columns = {\"index\": \"model\"})\n",
    "df_results_mse = df_results_mse.append(summary, ignore_index = True)"
   ]
  },
  {
   "cell_type": "code",
   "execution_count": 55,
   "metadata": {},
   "outputs": [
    {
     "data": {
      "text/html": [
       "<div>\n",
       "<style scoped>\n",
       "    .dataframe tbody tr th:only-of-type {\n",
       "        vertical-align: middle;\n",
       "    }\n",
       "\n",
       "    .dataframe tbody tr th {\n",
       "        vertical-align: top;\n",
       "    }\n",
       "\n",
       "    .dataframe thead th {\n",
       "        text-align: right;\n",
       "    }\n",
       "</style>\n",
       "<table border=\"1\" class=\"dataframe\">\n",
       "  <thead>\n",
       "    <tr style=\"text-align: right;\">\n",
       "      <th></th>\n",
       "      <th>model</th>\n",
       "      <th>target1</th>\n",
       "      <th>target2</th>\n",
       "      <th>target3</th>\n",
       "      <th>target4</th>\n",
       "      <th>average</th>\n",
       "    </tr>\n",
       "  </thead>\n",
       "  <tbody>\n",
       "    <tr>\n",
       "      <th>0</th>\n",
       "      <td>Média</td>\n",
       "      <td>20.14108</td>\n",
       "      <td>28.567128</td>\n",
       "      <td>19.013621</td>\n",
       "      <td>18.502043</td>\n",
       "      <td>21.555968</td>\n",
       "    </tr>\n",
       "    <tr>\n",
       "      <th>1</th>\n",
       "      <td>Média por Jogador</td>\n",
       "      <td>17.855252</td>\n",
       "      <td>24.339806</td>\n",
       "      <td>18.113108</td>\n",
       "      <td>14.166946</td>\n",
       "      <td>18.618778</td>\n",
       "    </tr>\n",
       "    <tr>\n",
       "      <th>2</th>\n",
       "      <td>Mediana</td>\n",
       "      <td>20.627006</td>\n",
       "      <td>29.010328</td>\n",
       "      <td>19.224518</td>\n",
       "      <td>19.520122</td>\n",
       "      <td>22.095494</td>\n",
       "    </tr>\n",
       "    <tr>\n",
       "      <th>3</th>\n",
       "      <td>Mediana por Jogador</td>\n",
       "      <td>20.066532</td>\n",
       "      <td>23.937027</td>\n",
       "      <td>18.930852</td>\n",
       "      <td>15.097365</td>\n",
       "      <td>19.507944</td>\n",
       "    </tr>\n",
       "    <tr>\n",
       "      <th>4</th>\n",
       "      <td>Naive</td>\n",
       "      <td>30.294957</td>\n",
       "      <td>35.080522</td>\n",
       "      <td>27.441424</td>\n",
       "      <td>24.422094</td>\n",
       "      <td>29.309749</td>\n",
       "    </tr>\n",
       "  </tbody>\n",
       "</table>\n",
       "</div>"
      ],
      "text/plain": [
       "                 model    target1    target2    target3    target4    average\n",
       "0                Média   20.14108  28.567128  19.013621  18.502043  21.555968\n",
       "1    Média por Jogador  17.855252  24.339806  18.113108  14.166946  18.618778\n",
       "2              Mediana  20.627006  29.010328  19.224518  19.520122  22.095494\n",
       "3  Mediana por Jogador  20.066532  23.937027  18.930852  15.097365  19.507944\n",
       "4                Naive  30.294957  35.080522  27.441424  24.422094  29.309749"
      ]
     },
     "execution_count": 55,
     "metadata": {},
     "output_type": "execute_result"
    }
   ],
   "source": [
    "df_results_mse"
   ]
  },
  {
   "cell_type": "markdown",
   "metadata": {},
   "source": [
    "## Resultados MSLE"
   ]
  },
  {
   "cell_type": "code",
   "execution_count": 56,
   "metadata": {},
   "outputs": [],
   "source": [
    "summary = pd.DataFrame()\n",
    "\n",
    "for target in TARGET_COLS:\n",
    "    \n",
    "    y_true = test[target]\n",
    "    \n",
    "    mediapj_pred = test['IdPlayer'].map(media_por_jogador[target].to_dict())\n",
    "    medianapj_pred = test['IdPlayer'].map(mediana_por_jogador[target].to_dict())\n",
    "    naive_pred = test['IdPlayer'].map(naive[target].to_dict())\n",
    "    \n",
    "    mediana_pred = [mediana[target] for i in test.index]\n",
    "    media_pred = [media[target] for i in test.index]\n",
    "    \n",
    "\n",
    "    summary.loc['Média',target]  =  mean_squared_log_error(y_true,media_pred)\n",
    "    summary.loc['Média por Jogador',target]  =  mean_squared_log_error(y_true,mediapj_pred)\n",
    "    summary.loc['Mediana',target]  =  mean_squared_log_error(y_true,mediana_pred)\n",
    "    summary.loc['Mediana por Jogador',target]  =  mean_squared_log_error(y_true,medianapj_pred)\n",
    "    summary.loc['Naive',target]  =  mean_squared_log_error(y_true,naive_pred)\n",
    "    \n",
    "summary['average'] = summary.mean(axis=1)\n",
    "\n",
    "summary = summary.reset_index()\n",
    "summary = summary.rename(columns = {\"index\": \"model\"})\n",
    "df_results_msle = df_results_msle.append(summary, ignore_index = True)"
   ]
  },
  {
   "cell_type": "code",
   "execution_count": 57,
   "metadata": {},
   "outputs": [
    {
     "data": {
      "text/html": [
       "<div>\n",
       "<style scoped>\n",
       "    .dataframe tbody tr th:only-of-type {\n",
       "        vertical-align: middle;\n",
       "    }\n",
       "\n",
       "    .dataframe tbody tr th {\n",
       "        vertical-align: top;\n",
       "    }\n",
       "\n",
       "    .dataframe thead th {\n",
       "        text-align: right;\n",
       "    }\n",
       "</style>\n",
       "<table border=\"1\" class=\"dataframe\">\n",
       "  <thead>\n",
       "    <tr style=\"text-align: right;\">\n",
       "      <th></th>\n",
       "      <th>model</th>\n",
       "      <th>target1</th>\n",
       "      <th>target2</th>\n",
       "      <th>target3</th>\n",
       "      <th>target4</th>\n",
       "      <th>average</th>\n",
       "    </tr>\n",
       "  </thead>\n",
       "  <tbody>\n",
       "    <tr>\n",
       "      <th>0</th>\n",
       "      <td>Média</td>\n",
       "      <td>0.368684</td>\n",
       "      <td>1.07059</td>\n",
       "      <td>0.361266</td>\n",
       "      <td>0.455539</td>\n",
       "      <td>0.56402</td>\n",
       "    </tr>\n",
       "    <tr>\n",
       "      <th>1</th>\n",
       "      <td>Média por Jogador</td>\n",
       "      <td>0.292511</td>\n",
       "      <td>0.677494</td>\n",
       "      <td>0.328938</td>\n",
       "      <td>0.211702</td>\n",
       "      <td>0.377661</td>\n",
       "    </tr>\n",
       "    <tr>\n",
       "      <th>2</th>\n",
       "      <td>Mediana</td>\n",
       "      <td>0.320133</td>\n",
       "      <td>0.539415</td>\n",
       "      <td>0.199391</td>\n",
       "      <td>0.448422</td>\n",
       "      <td>0.37684</td>\n",
       "    </tr>\n",
       "    <tr>\n",
       "      <th>3</th>\n",
       "      <td>Mediana por Jogador</td>\n",
       "      <td>0.272306</td>\n",
       "      <td>0.425363</td>\n",
       "      <td>0.17576</td>\n",
       "      <td>0.219949</td>\n",
       "      <td>0.273344</td>\n",
       "    </tr>\n",
       "    <tr>\n",
       "      <th>4</th>\n",
       "      <td>Naive</td>\n",
       "      <td>0.403208</td>\n",
       "      <td>0.450524</td>\n",
       "      <td>0.26442</td>\n",
       "      <td>0.346134</td>\n",
       "      <td>0.366071</td>\n",
       "    </tr>\n",
       "  </tbody>\n",
       "</table>\n",
       "</div>"
      ],
      "text/plain": [
       "                 model   target1   target2   target3   target4   average\n",
       "0                Média  0.368684   1.07059  0.361266  0.455539   0.56402\n",
       "1    Média por Jogador  0.292511  0.677494  0.328938  0.211702  0.377661\n",
       "2              Mediana  0.320133  0.539415  0.199391  0.448422   0.37684\n",
       "3  Mediana por Jogador  0.272306  0.425363   0.17576  0.219949  0.273344\n",
       "4                Naive  0.403208  0.450524   0.26442  0.346134  0.366071"
      ]
     },
     "execution_count": 57,
     "metadata": {},
     "output_type": "execute_result"
    }
   ],
   "source": [
    "df_results_msle"
   ]
  },
  {
   "cell_type": "markdown",
   "metadata": {},
   "source": [
    "## Resultados Max"
   ]
  },
  {
   "cell_type": "code",
   "execution_count": 63,
   "metadata": {},
   "outputs": [],
   "source": [
    "summary = pd.DataFrame()\n",
    "\n",
    "for target in TARGET_COLS:\n",
    "    \n",
    "    y_true = test[target]\n",
    "    \n",
    "    mediapj_pred = test['IdPlayer'].map(media_por_jogador[target].to_dict())\n",
    "    medianapj_pred = test['IdPlayer'].map(mediana_por_jogador[target].to_dict())\n",
    "    naive_pred = test['IdPlayer'].map(naive[target].to_dict())\n",
    "    \n",
    "    mediana_pred = [mediana[target] for i in test.index]\n",
    "    media_pred = [media[target] for i in test.index]\n",
    "    \n",
    "\n",
    "    summary.loc['Média',target]  =  max_error(y_true,media_pred)\n",
    "    summary.loc['Média por Jogador',target]  =  max_error(y_true,mediapj_pred)\n",
    "    summary.loc['Mediana',target]  =  max_error(y_true,mediana_pred)\n",
    "    summary.loc['Mediana por Jogador',target]  =  max_error(y_true,medianapj_pred)\n",
    "    summary.loc['Naive',target]  =  max_error(y_true,naive_pred)\n",
    "    \n",
    "summary['average'] = summary.mean(axis=1)\n",
    "\n",
    "summary = summary.reset_index()\n",
    "summary = summary.rename(columns = {\"index\": \"model\"})\n",
    "df_results_max = df_results_max.append(summary, ignore_index = True)"
   ]
  },
  {
   "cell_type": "code",
   "execution_count": 64,
   "metadata": {},
   "outputs": [
    {
     "data": {
      "text/html": [
       "<div>\n",
       "<style scoped>\n",
       "    .dataframe tbody tr th:only-of-type {\n",
       "        vertical-align: middle;\n",
       "    }\n",
       "\n",
       "    .dataframe tbody tr th {\n",
       "        vertical-align: top;\n",
       "    }\n",
       "\n",
       "    .dataframe thead th {\n",
       "        text-align: right;\n",
       "    }\n",
       "</style>\n",
       "<table border=\"1\" class=\"dataframe\">\n",
       "  <thead>\n",
       "    <tr style=\"text-align: right;\">\n",
       "      <th></th>\n",
       "      <th>model</th>\n",
       "      <th>target1</th>\n",
       "      <th>target2</th>\n",
       "      <th>target3</th>\n",
       "      <th>target4</th>\n",
       "      <th>average</th>\n",
       "    </tr>\n",
       "  </thead>\n",
       "  <tbody>\n",
       "    <tr>\n",
       "      <th>0</th>\n",
       "      <td>Média</td>\n",
       "      <td>0.368684</td>\n",
       "      <td>1.07059</td>\n",
       "      <td>0.361266</td>\n",
       "      <td>0.455539</td>\n",
       "      <td>0.56402</td>\n",
       "    </tr>\n",
       "    <tr>\n",
       "      <th>1</th>\n",
       "      <td>Média por Jogador</td>\n",
       "      <td>0.292511</td>\n",
       "      <td>0.677494</td>\n",
       "      <td>0.328938</td>\n",
       "      <td>0.211702</td>\n",
       "      <td>0.377661</td>\n",
       "    </tr>\n",
       "    <tr>\n",
       "      <th>2</th>\n",
       "      <td>Mediana</td>\n",
       "      <td>0.320133</td>\n",
       "      <td>0.539415</td>\n",
       "      <td>0.199391</td>\n",
       "      <td>0.448422</td>\n",
       "      <td>0.37684</td>\n",
       "    </tr>\n",
       "    <tr>\n",
       "      <th>3</th>\n",
       "      <td>Mediana por Jogador</td>\n",
       "      <td>0.272306</td>\n",
       "      <td>0.425363</td>\n",
       "      <td>0.17576</td>\n",
       "      <td>0.219949</td>\n",
       "      <td>0.273344</td>\n",
       "    </tr>\n",
       "    <tr>\n",
       "      <th>4</th>\n",
       "      <td>Naive</td>\n",
       "      <td>0.403208</td>\n",
       "      <td>0.450524</td>\n",
       "      <td>0.26442</td>\n",
       "      <td>0.346134</td>\n",
       "      <td>0.366071</td>\n",
       "    </tr>\n",
       "    <tr>\n",
       "      <th>5</th>\n",
       "      <td>Média</td>\n",
       "      <td>99.431479</td>\n",
       "      <td>97.543886</td>\n",
       "      <td>99.311949</td>\n",
       "      <td>98.862955</td>\n",
       "      <td>98.787567</td>\n",
       "    </tr>\n",
       "    <tr>\n",
       "      <th>6</th>\n",
       "      <td>Média por Jogador</td>\n",
       "      <td>99.547125</td>\n",
       "      <td>99.917896</td>\n",
       "      <td>99.953355</td>\n",
       "      <td>99.603287</td>\n",
       "      <td>99.755416</td>\n",
       "    </tr>\n",
       "    <tr>\n",
       "      <th>7</th>\n",
       "      <td>Mediana</td>\n",
       "      <td>99.998933</td>\n",
       "      <td>99.443848</td>\n",
       "      <td>99.998308</td>\n",
       "      <td>99.776611</td>\n",
       "      <td>99.804425</td>\n",
       "    </tr>\n",
       "    <tr>\n",
       "      <th>8</th>\n",
       "      <td>Mediana por Jogador</td>\n",
       "      <td>99.995352</td>\n",
       "      <td>100.0</td>\n",
       "      <td>100.0</td>\n",
       "      <td>100.0</td>\n",
       "      <td>99.998838</td>\n",
       "    </tr>\n",
       "    <tr>\n",
       "      <th>9</th>\n",
       "      <td>Naive</td>\n",
       "      <td>99.992767</td>\n",
       "      <td>99.986687</td>\n",
       "      <td>100.0</td>\n",
       "      <td>99.795166</td>\n",
       "      <td>99.943655</td>\n",
       "    </tr>\n",
       "    <tr>\n",
       "      <th>10</th>\n",
       "      <td>Média</td>\n",
       "      <td>99.431479</td>\n",
       "      <td>97.543886</td>\n",
       "      <td>99.311949</td>\n",
       "      <td>98.862955</td>\n",
       "      <td>98.787567</td>\n",
       "    </tr>\n",
       "    <tr>\n",
       "      <th>11</th>\n",
       "      <td>Média por Jogador</td>\n",
       "      <td>99.547125</td>\n",
       "      <td>99.917896</td>\n",
       "      <td>99.953355</td>\n",
       "      <td>99.603287</td>\n",
       "      <td>99.755416</td>\n",
       "    </tr>\n",
       "    <tr>\n",
       "      <th>12</th>\n",
       "      <td>Mediana</td>\n",
       "      <td>99.998933</td>\n",
       "      <td>99.443848</td>\n",
       "      <td>99.998308</td>\n",
       "      <td>99.776611</td>\n",
       "      <td>99.804425</td>\n",
       "    </tr>\n",
       "    <tr>\n",
       "      <th>13</th>\n",
       "      <td>Mediana por Jogador</td>\n",
       "      <td>99.995352</td>\n",
       "      <td>100.0</td>\n",
       "      <td>100.0</td>\n",
       "      <td>100.0</td>\n",
       "      <td>99.998838</td>\n",
       "    </tr>\n",
       "    <tr>\n",
       "      <th>14</th>\n",
       "      <td>Naive</td>\n",
       "      <td>99.992767</td>\n",
       "      <td>99.986687</td>\n",
       "      <td>100.0</td>\n",
       "      <td>99.795166</td>\n",
       "      <td>99.943655</td>\n",
       "    </tr>\n",
       "  </tbody>\n",
       "</table>\n",
       "</div>"
      ],
      "text/plain": [
       "                  model    target1    target2    target3    target4    average\n",
       "0                 Média   0.368684    1.07059   0.361266   0.455539    0.56402\n",
       "1     Média por Jogador   0.292511   0.677494   0.328938   0.211702   0.377661\n",
       "2               Mediana   0.320133   0.539415   0.199391   0.448422    0.37684\n",
       "3   Mediana por Jogador   0.272306   0.425363    0.17576   0.219949   0.273344\n",
       "4                 Naive   0.403208   0.450524    0.26442   0.346134   0.366071\n",
       "5                 Média  99.431479  97.543886  99.311949  98.862955  98.787567\n",
       "6     Média por Jogador  99.547125  99.917896  99.953355  99.603287  99.755416\n",
       "7               Mediana  99.998933  99.443848  99.998308  99.776611  99.804425\n",
       "8   Mediana por Jogador  99.995352      100.0      100.0      100.0  99.998838\n",
       "9                 Naive  99.992767  99.986687      100.0  99.795166  99.943655\n",
       "10                Média  99.431479  97.543886  99.311949  98.862955  98.787567\n",
       "11    Média por Jogador  99.547125  99.917896  99.953355  99.603287  99.755416\n",
       "12              Mediana  99.998933  99.443848  99.998308  99.776611  99.804425\n",
       "13  Mediana por Jogador  99.995352      100.0      100.0      100.0  99.998838\n",
       "14                Naive  99.992767  99.986687      100.0  99.795166  99.943655"
      ]
     },
     "execution_count": 64,
     "metadata": {},
     "output_type": "execute_result"
    }
   ],
   "source": [
    "df_results_max"
   ]
  },
  {
   "cell_type": "markdown",
   "metadata": {},
   "source": [
    "## Resultados Sugestão Grupo 1"
   ]
  },
  {
   "cell_type": "markdown",
   "metadata": {},
   "source": [
    "A sugestão da equipe foi que, para cada limite $p_i$ em uma coleção finita ${p_1, p_2, ..., p_n}$, seja computado o erro absoluto médio $a_i$ do modelo apenas para amostras com engajamento maior ou igual a $p_i$ para alguma das variáveis alvo. Depois, devemos calcular a área sob a curva no plano do conjunto de pares $(p_i, a_i)$ obtida por interpolação linear."
   ]
  },
  {
   "cell_type": "code",
   "execution_count": 64,
   "metadata": {},
   "outputs": [],
   "source": []
  },
  {
   "cell_type": "code",
   "execution_count": 67,
   "metadata": {},
   "outputs": [],
   "source": [
    "for target in TARGET_COLS:\n",
    "    \n",
    "    y_true = test[target]\n",
    "    \n",
    "    mediapj_pred = test['IdPlayer'].map(media_por_jogador[target].to_dict())\n",
    "    medianapj_pred = test['IdPlayer'].map(mediana_por_jogador[target].to_dict())\n",
    "    naive_pred = test['IdPlayer'].map(naive[target].to_dict())\n",
    "    \n",
    "    mediana_pred = [mediana[target] for i in test.index]\n",
    "    media_pred = [media[target] for i in test.index]\n",
    "    \n",
    "    \n",
    "    summary.loc['Média',target]  =  AMAE(y_true,media_pred,show = False)\n",
    "    summary.loc['Média por Jogador',target]  =  AMAE(y_true,mediapj_pred,show = False)\n",
    "    summary.loc['Mediana',target]  =  AMAE(y_true,mediana_pred,show = False)\n",
    "    summary.loc['Mediana por Jogador',target]  =  AMAE(y_true,medianapj_pred,show = False)\n",
    "    summary.loc['Naive',target]  =  AMAE(y_true,naive_pred,show = False)\n",
    "    \n",
    "summary['average'] = summary.mean(axis=1)\n",
    "summary = summary.reset_index()\n",
    "summary = summary.rename(columns = {\"index\": \"model\"})\n",
    "df_results_amae = df_results_amae.append(summary, ignore_index = True)"
   ]
  },
  {
   "cell_type": "code",
   "execution_count": 68,
   "metadata": {},
   "outputs": [
    {
     "data": {
      "text/html": [
       "<div>\n",
       "<style scoped>\n",
       "    .dataframe tbody tr th:only-of-type {\n",
       "        vertical-align: middle;\n",
       "    }\n",
       "\n",
       "    .dataframe tbody tr th {\n",
       "        vertical-align: top;\n",
       "    }\n",
       "\n",
       "    .dataframe thead th {\n",
       "        text-align: right;\n",
       "    }\n",
       "</style>\n",
       "<table border=\"1\" class=\"dataframe\">\n",
       "  <thead>\n",
       "    <tr style=\"text-align: right;\">\n",
       "      <th></th>\n",
       "      <th>model</th>\n",
       "      <th>target1</th>\n",
       "      <th>target2</th>\n",
       "      <th>target3</th>\n",
       "      <th>target4</th>\n",
       "      <th>average</th>\n",
       "    </tr>\n",
       "  </thead>\n",
       "  <tbody>\n",
       "    <tr>\n",
       "      <th>0</th>\n",
       "      <td>Média</td>\n",
       "      <td>6873.436067</td>\n",
       "      <td>6399.761968</td>\n",
       "      <td>7113.131961</td>\n",
       "      <td>6821.20951</td>\n",
       "      <td>6801.884876</td>\n",
       "    </tr>\n",
       "    <tr>\n",
       "      <th>1</th>\n",
       "      <td>Média por Jogador</td>\n",
       "      <td>6427.357098</td>\n",
       "      <td>5498.021449</td>\n",
       "      <td>6736.991975</td>\n",
       "      <td>6056.429634</td>\n",
       "      <td>6179.700039</td>\n",
       "    </tr>\n",
       "    <tr>\n",
       "      <th>2</th>\n",
       "      <td>Mediana</td>\n",
       "      <td>6930.09927</td>\n",
       "      <td>6587.889281</td>\n",
       "      <td>7181.618802</td>\n",
       "      <td>6912.173818</td>\n",
       "      <td>6902.945293</td>\n",
       "    </tr>\n",
       "    <tr>\n",
       "      <th>3</th>\n",
       "      <td>Mediana por Jogador</td>\n",
       "      <td>6861.330991</td>\n",
       "      <td>5986.027696</td>\n",
       "      <td>7138.705172</td>\n",
       "      <td>6390.660114</td>\n",
       "      <td>6594.180993</td>\n",
       "    </tr>\n",
       "    <tr>\n",
       "      <th>4</th>\n",
       "      <td>Naive</td>\n",
       "      <td>6164.969618</td>\n",
       "      <td>4952.154843</td>\n",
       "      <td>6764.20187</td>\n",
       "      <td>5031.239301</td>\n",
       "      <td>5728.141408</td>\n",
       "    </tr>\n",
       "  </tbody>\n",
       "</table>\n",
       "</div>"
      ],
      "text/plain": [
       "                 model      target1      target2      target3      target4  \\\n",
       "0                Média  6873.436067  6399.761968  7113.131961   6821.20951   \n",
       "1    Média por Jogador  6427.357098  5498.021449  6736.991975  6056.429634   \n",
       "2              Mediana   6930.09927  6587.889281  7181.618802  6912.173818   \n",
       "3  Mediana por Jogador  6861.330991  5986.027696  7138.705172  6390.660114   \n",
       "4                Naive  6164.969618  4952.154843   6764.20187  5031.239301   \n",
       "\n",
       "       average  \n",
       "0  6801.884876  \n",
       "1  6179.700039  \n",
       "2  6902.945293  \n",
       "3  6594.180993  \n",
       "4  5728.141408  "
      ]
     },
     "execution_count": 68,
     "metadata": {},
     "output_type": "execute_result"
    }
   ],
   "source": [
    "df_results_amae"
   ]
  }
 ],
 "metadata": {
  "kernelspec": {
   "display_name": "Python 3 (ipykernel)",
   "language": "python",
   "name": "python3"
  },
  "language_info": {
   "codemirror_mode": {
    "name": "ipython",
    "version": 3
   },
   "file_extension": ".py",
   "mimetype": "text/x-python",
   "name": "python",
   "nbconvert_exporter": "python",
   "pygments_lexer": "ipython3",
   "version": "3.9.7"
  }
 },
 "nbformat": 4,
 "nbformat_minor": 2
}

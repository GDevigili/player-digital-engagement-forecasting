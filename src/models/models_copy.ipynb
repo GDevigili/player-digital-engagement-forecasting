{
 "cells": [
  {
   "cell_type": "markdown",
   "id": "7423bfd3",
   "metadata": {},
   "source": [
    "## Libraries"
   ]
  },
  {
   "cell_type": "code",
   "execution_count": 2,
   "id": "2b052018",
   "metadata": {},
   "outputs": [],
   "source": [
    "import random\n",
    "import pickle\n",
    "\n",
    "# Data manipulation\n",
    "import pandas as pd\n",
    "import numpy as np\n",
    "\n",
    "# Data visualization\n",
    "import matplotlib.pyplot as plt\n",
    "import seaborn as sns\n",
    "\n",
    "# models\n",
    "import sklearn\n",
    "import sktime\n",
    "import keras\n",
    "import statsmodels.api as sm\n",
    "from sktime.forecasting.naive import NaiveForecaster\n",
    "from sktime.forecasting.exp_smoothing import ExponentialSmoothing\n",
    "from tensorflow import keras\n",
    "from tensorflow.keras import layers\n",
    "\n",
    "# model selection and metrics\n",
    "from sklearn.model_selection import TimeSeriesSplit\n",
    "from sklearn.metrics import mean_absolute_error\n",
    "from sklearn.feature_selection import RFE\n",
    "\n",
    "# constants\n",
    "PROCESSED_DATA_PATH = '../data/processed-data/'\n",
    "MODEL_PATH = '../models/trained-models/'\n",
    "TARGET_COLS = ['target1', 'target2', 'target3', 'target4']\n",
    "TEST_SPLIT_DATE = '2021-04-30'\n",
    "\n",
    "# disable warnings\n",
    "import warnings\n",
    "warnings.filterwarnings(\"ignore\", category=DeprecationWarning)\n",
    "warnings.filterwarnings(\"ignore\", category=FutureWarning)\n",
    "pd.options.mode.chained_assignment = None  # default='warn'"
   ]
  },
  {
   "cell_type": "markdown",
   "id": "e39b174b",
   "metadata": {},
   "source": [
    "## Auxiliary Functions"
   ]
  },
  {
   "cell_type": "code",
   "execution_count": 4,
   "id": "24b9d453",
   "metadata": {},
   "outputs": [],
   "source": [
    "def plot_time_series(df, groupby = 'median', cols = TARGET_COLS):\n",
    "    df_melted = df.groupby('Dt').median()[cols]\\\n",
    "    .melt(var_name='target', value_name='value', ignore_index=False)\n",
    "    df_melted.reset_index(inplace=True)\n",
    "\n",
    "    sns.set(rc={'figure.figsize':(10,20)})\n",
    "    sns.FacetGrid(df_melted, col='target', col_wrap=2, height=9,aspect=2, sharey=False)\\\n",
    "    .map(sns.lineplot, 'Dt', 'value');\n",
    "    \n",
    "def plot_train_test_pred(train, test, pred = pd.DataFrame(), groupby = 'median', cols = TARGET_COLS):\n",
    "    train['type'] = 'train'\n",
    "    test['type'] = 'test'\n",
    "    pred['type'] = 'pred'\n",
    "    \n",
    "    cols.append('type')\n",
    "\n",
    "    df = pd.concat([train, test, pred], axis=0)\n",
    "    df_melted = df.groupby('Dt').median()[cols]\\\n",
    "        .melt(var_name='target', value_name='value', ignore_index=False)\n",
    "    df_melted.reset_index(inplace=True)\n",
    "    \n",
    "    sns.set(rc={'figure.figsize':(10,20)})\n",
    "    sns.FacetGrid(df_melted, col='target', col_wrap=2, height=9,aspect=2, sharey=False)\\\n",
    "        .map(sns.lineplot, 'Dt', 'value', hue='type');\n",
    "\n",
    "    \n",
    "def sort_df(df: pd.DataFrame, columns: list = ['IdPlayer', 'Dt']) -> None:\n",
    "    \"\"\"Sort the dataframe by the columns passed as argument.\n",
    "    \n",
    "    Args:\n",
    "        df (pd.DataFrame): Dataframe to be sorted.\n",
    "        columns (list, optional): Columns to sort the dataframe. Defaults to ['IdPlayer', 'Dt'].\n",
    "        \n",
    "        Returns:\n",
    "            None\n",
    "    \"\"\"\n",
    "    df.sort_values(by=columns, inplace=True)\n",
    "    # reset index\n",
    "    df.reset_index(drop=True, inplace=True)\n",
    "    \n",
    "def evaluate_mae(y_true, y_pred):\n",
    "    \"\"\"Evaluate the mean absolute error for each target column and the average MAE\n",
    "\n",
    "    Parameters\n",
    "    ----------\n",
    "    y_true : pd.DataFrame\n",
    "        True labels\n",
    "    y_pred : pd.DataFrame\n",
    "        Predictions\n",
    "    \n",
    "    Returns\n",
    "    -------\n",
    "    dict\n",
    "        Mean absolute error for each target column\n",
    "    \"\"\"\n",
    "    maes = {}\n",
    "    for target in TARGET_COLS:\n",
    "        mae = mean_absolute_error(y_true[target], y_pred[target])\n",
    "        maes[target] = mae\n",
    "    maes['average'] = np.mean(list(maes.values()))\n",
    "    return maes\n",
    "\n",
    "def train_models(model, x_train, y_train):\n",
    "    \"\"\"Train a model for each target column\n",
    "    \n",
    "    Parameters\n",
    "    ----------\n",
    "    model : sklearn model\n",
    "        Model to be trained\n",
    "    x_train : pd.DataFrame\n",
    "        Training features\n",
    "    y_train : pd.DataFrame\n",
    "        Training targets\n",
    "    \n",
    "    Returns\n",
    "    \n",
    "    -------\n",
    "    list\n",
    "        List of trained models\n",
    "    \"\"\"\n",
    "\n",
    "    models = []\n",
    "    for target in TARGET_COLS:\n",
    "        model.fit(x_train, y_train[target])\n",
    "        models.append(model)\n",
    "    return models\n",
    "\n",
    "\n",
    "def predict_targets(models, x_test):\n",
    "    \"\"\"Predict the targets for each model\n",
    "\n",
    "    Parameters\n",
    "    ----------\n",
    "    models : list\n",
    "        List of trained models\n",
    "    x_test : pd.DataFrame\n",
    "        Test features\n",
    "\n",
    "    Returns\n",
    "    -------\n",
    "    pd.DataFrame\n",
    "        Predictions for each target column\n",
    "    \"\"\"\n",
    "\n",
    "    y_preds = pd.DataFrame(columns=TARGET_COLS)\n",
    "    for target, model in zip(TARGET_COLS, models):\n",
    "        y_preds[target] = model.predict(x_test)\n",
    "    return y_preds"
   ]
  },
  {
   "cell_type": "markdown",
   "id": "fdf29bda",
   "metadata": {},
   "source": [
    "## Data Prep"
   ]
  },
  {
   "cell_type": "code",
   "execution_count": 5,
   "id": "acacb000",
   "metadata": {},
   "outputs": [],
   "source": [
    "df = pd.read_pickle(PROCESSED_DATA_PATH + 'shifted_targets.pkl')"
   ]
  },
  {
   "cell_type": "code",
   "execution_count": null,
   "id": "87c55493",
   "metadata": {},
   "outputs": [],
   "source": [
    "#train = df[(df.Dt <= \"2021-01-31\") & (df.Dt >= \"2018-01-01\")] \n",
    "#val = df[(df.Dt <= \"2021-04-30\") & (df.Dt >= \"2021-02-01\")] \n",
    "#test = df[(df.Dt <= \"2021-07-31\") & (df.Dt >= \"2021-05-01\")]\n",
    "\n",
    "#train.to_csv('train.csv', index=None)\n",
    "#val.to_csv('validation.csv', index=None) \n",
    "#test.to_csv('test.csv', index=None)\n",
    "\n",
    "train = pd.read_csv('train.csv')\n",
    "val = pd.read_csv('validation.csv')\n",
    "test = pd.read_csv('test.csv')"
   ]
  },
  {
   "cell_type": "markdown",
   "id": "6563614e",
   "metadata": {},
   "source": [
    "## Baselines"
   ]
  },
  {
   "cell_type": "code",
   "execution_count": null,
   "id": "f95f0287",
   "metadata": {},
   "outputs": [],
   "source": [
    "summary = pd.DataFrame(columns=TARGET_COLS,index=['Média','Média por Jogador','Mediana','Mediana por Jogador','Naive'])\n",
    "# train + validation dataset\n",
    "train_val = pd.concat([train, val], axis=0)"
   ]
  },
  {
   "cell_type": "code",
   "execution_count": null,
   "id": "6a9367e2",
   "metadata": {},
   "outputs": [],
   "source": [
    "train.shape[0] + val.shape[0] == train_val.shape[0]"
   ]
  },
  {
   "cell_type": "code",
   "execution_count": null,
   "id": "615358f1",
   "metadata": {},
   "outputs": [],
   "source": [
    "media = train_val[TARGET_COLS].mean()\n",
    "media_por_jogador = train_val.groupby('IdPlayer')[TARGET_COLS].mean()\n",
    "mediana = train_val[TARGET_COLS].median()\n",
    "mediana_por_jogador = train_val.groupby('IdPlayer')[TARGET_COLS].median()\n",
    "naive = train_val[train_val['Dt']=='2021-04-30'].set_index('IdPlayer')[TARGET_COLS]"
   ]
  },
  {
   "cell_type": "code",
   "execution_count": null,
   "id": "3fb7f2d9",
   "metadata": {},
   "outputs": [],
   "source": [
    "for target in TARGET_COLS:\n",
    "    \n",
    "    y_true = test[target]\n",
    "    \n",
    "    mediapj_pred = test['IdPlayer'].map(media_por_jogador[target].to_dict())\n",
    "    medianapj_pred = test['IdPlayer'].map(mediana_por_jogador[target].to_dict())\n",
    "    naive_pred = test['IdPlayer'].map(naive[target].to_dict())\n",
    "    \n",
    "    mediana_pred = [mediana[target] for i in test.index]\n",
    "    media_pred = [media[target] for i in test.index]\n",
    "    \n",
    "    summary.loc['Média',target]  = mean_absolute_error(y_true,media_pred)\n",
    "    summary.loc['Média por Jogador',target]  = mean_absolute_error(y_true,mediapj_pred)\n",
    "    summary.loc['Mediana',target]  = mean_absolute_error(y_true,mediana_pred)\n",
    "    summary.loc['Mediana por Jogador',target]  = mean_absolute_error(y_true,medianapj_pred)\n",
    "    summary.loc['Naive',target]  = mean_absolute_error(y_true,naive_pred)\n",
    "    \n",
    "summary['Average'] = summary.mean(axis=1)"
   ]
  },
  {
   "cell_type": "code",
   "execution_count": null,
   "id": "e229e120",
   "metadata": {},
   "outputs": [],
   "source": [
    "summary"
   ]
  },
  {
   "cell_type": "markdown",
   "id": "3b06a603",
   "metadata": {},
   "source": [
    "## LASSO and Multitask LASSO"
   ]
  },
  {
   "cell_type": "code",
   "execution_count": 6,
   "id": "911b8e9c",
   "metadata": {},
   "outputs": [],
   "source": [
    "# dropping the columns with a high shift\n",
    "for i in range(4):\n",
    "    for shift in [6, 7, 14, 30]:\n",
    "        df.drop(f'target{i+1}_shift_{shift}', axis=1, inplace=True)"
   ]
  },
  {
   "cell_type": "code",
   "execution_count": 7,
   "id": "559ee23b",
   "metadata": {},
   "outputs": [
    {
     "name": "stdout",
     "output_type": "stream",
     "text": [
      "<class 'pandas.core.frame.DataFrame'>\n",
      "Int64Index: 2695788 entries, 0 to 2695787\n",
      "Data columns (total 27 columns):\n",
      " #   Column           Dtype         \n",
      "---  ------           -----         \n",
      " 0   Dt               datetime64[ns]\n",
      " 1   IdPlayer         int64         \n",
      " 2   target1          float32       \n",
      " 3   target2          float32       \n",
      " 4   target3          float32       \n",
      " 5   target4          float32       \n",
      " 6   IdDtPlayer       object        \n",
      " 7   target1_shift_1  float32       \n",
      " 8   target2_shift_1  float32       \n",
      " 9   target3_shift_1  float32       \n",
      " 10  target4_shift_1  float32       \n",
      " 11  target1_shift_2  float32       \n",
      " 12  target2_shift_2  float32       \n",
      " 13  target3_shift_2  float32       \n",
      " 14  target4_shift_2  float32       \n",
      " 15  target1_shift_3  float32       \n",
      " 16  target2_shift_3  float32       \n",
      " 17  target3_shift_3  float32       \n",
      " 18  target4_shift_3  float32       \n",
      " 19  target1_shift_4  float32       \n",
      " 20  target2_shift_4  float32       \n",
      " 21  target3_shift_4  float32       \n",
      " 22  target4_shift_4  float32       \n",
      " 23  target1_shift_5  float32       \n",
      " 24  target2_shift_5  float32       \n",
      " 25  target3_shift_5  float32       \n",
      " 26  target4_shift_5  float32       \n",
      "dtypes: datetime64[ns](1), float32(24), int64(1), object(1)\n",
      "memory usage: 329.1+ MB\n"
     ]
    }
   ],
   "source": [
    "df.info()"
   ]
  },
  {
   "cell_type": "code",
   "execution_count": 8,
   "id": "2f64d2dc",
   "metadata": {},
   "outputs": [
    {
     "name": "stdout",
     "output_type": "stream",
     "text": [
      "<class 'pandas.core.frame.DataFrame'>\n",
      "Int64Index: 219727 entries, 0 to 451\n",
      "Data columns (total 54 columns):\n",
      " #   Column                    Non-Null Count   Dtype  \n",
      "---  ------                    --------------   -----  \n",
      " 0   IdGame                    219727 non-null  int64  \n",
      " 1   DtGame                    219727 non-null  object \n",
      " 2   DtGameUTC                 219727 non-null  object \n",
      " 3   IdPlayer                  219727 non-null  int64  \n",
      " 4   IdTeam                    219727 non-null  int64  \n",
      " 5   NuJersey                  219690 non-null  object \n",
      " 6   CdPosition                219727 non-null  int64  \n",
      " 7   NuStrikeOutsPitching      65466 non-null   float64\n",
      " 8   NuBattingOrder            183390 non-null  float64\n",
      " 9   NuGamesPlayedBatting      183395 non-null  float64\n",
      " 10  NuFlyOuts                 183395 non-null  float64\n",
      " 11  NuGroundOuts              183395 non-null  float64\n",
      " 12  NuRunsScored              183395 non-null  float64\n",
      " 13  NuDoubles                 183395 non-null  float64\n",
      " 14  NuTriples                 183395 non-null  float64\n",
      " 15  NuHomeRuns                183395 non-null  float64\n",
      " 16  NuStrikeOuts              183395 non-null  float64\n",
      " 17  NuBaseOnBalls             183395 non-null  float64\n",
      " 18  NuIntentionalWalks        183395 non-null  float64\n",
      " 19  NuHits                    183395 non-null  float64\n",
      " 20  NuHitByPitch              183395 non-null  float64\n",
      " 21  NuAtBats                  183395 non-null  float64\n",
      " 22  NuCaughtStealing          183395 non-null  float64\n",
      " 23  NuStolenBases             183395 non-null  float64\n",
      " 24  NuGroundIntoDoublePlay    183395 non-null  float64\n",
      " 25  NuGroundIntoTriplePlay    183395 non-null  float64\n",
      " 26  NuPlateAppearances        183395 non-null  float64\n",
      " 27  NuTotalBases              183395 non-null  float64\n",
      " 28  NuRbi                     183395 non-null  float64\n",
      " 29  NuLeftOnBase              183395 non-null  float64\n",
      " 30  NuSacBunts                183395 non-null  float64\n",
      " 31  NuSacFlies                183395 non-null  float64\n",
      " 32  NuCatchersInterference    183395 non-null  float64\n",
      " 33  NuPickoffs                183395 non-null  float64\n",
      " 34  NuInningsPitched          65466 non-null   float64\n",
      " 35  NuSaveOpportunities       65466 non-null   float64\n",
      " 36  NuEarnedRuns              65466 non-null   float64\n",
      " 37  NuBattersFaced            65466 non-null   float64\n",
      " 38  NuPitchesThrown           65466 non-null   float64\n",
      " 39  NuBalls                   65466 non-null   float64\n",
      " 40  NuStrikes                 65466 non-null   float64\n",
      " 41  NuHitBatsmen              65466 non-null   float64\n",
      " 42  NuBalks                   65466 non-null   float64\n",
      " 43  NuWildPitches             65466 non-null   float64\n",
      " 44  NuInheritedRunners        65466 non-null   float64\n",
      " 45  NuInheritedRunnersScored  65466 non-null   float64\n",
      " 46  NuSaves                   55638 non-null   float64\n",
      " 47  NuHolds                   55638 non-null   float64\n",
      " 48  NuBlownSaves              55638 non-null   float64\n",
      " 49  NuAssists                 185386 non-null  float64\n",
      " 50  NuPutOuts                 185386 non-null  float64\n",
      " 51  NuErrors                  185386 non-null  float64\n",
      " 52  NuChances                 185386 non-null  float64\n",
      " 53  IdDtPlayer                219727 non-null  object \n",
      "dtypes: float64(46), int64(4), object(4)\n",
      "memory usage: 92.2+ MB\n"
     ]
    }
   ],
   "source": [
    "df_playerBoxScores = pd.read_pickle(PROCESSED_DATA_PATH + 'playerBoxScores.pkl')\n",
    "df_playerBoxScores.info()"
   ]
  },
  {
   "cell_type": "code",
   "execution_count": 9,
   "id": "48eb3390",
   "metadata": {},
   "outputs": [
    {
     "name": "stdout",
     "output_type": "stream",
     "text": [
      "<class 'pandas.core.frame.DataFrame'>\n",
      "Int64Index: 2698457 entries, 0 to 2698456\n",
      "Data columns (total 80 columns):\n",
      " #   Column                    Non-Null Count    Dtype         \n",
      "---  ------                    --------------    -----         \n",
      " 0   Dt                        2698457 non-null  datetime64[ns]\n",
      " 1   IdPlayer_x                2698457 non-null  int64         \n",
      " 2   target1                   2698457 non-null  float32       \n",
      " 3   target2                   2698457 non-null  float32       \n",
      " 4   target3                   2698457 non-null  float32       \n",
      " 5   target4                   2698457 non-null  float32       \n",
      " 6   IdDtPlayer                2698457 non-null  object        \n",
      " 7   target1_shift_1           2696396 non-null  float32       \n",
      " 8   target2_shift_1           2696396 non-null  float32       \n",
      " 9   target3_shift_1           2696396 non-null  float32       \n",
      " 10  target4_shift_1           2696396 non-null  float32       \n",
      " 11  target1_shift_2           2694335 non-null  float32       \n",
      " 12  target2_shift_2           2694335 non-null  float32       \n",
      " 13  target3_shift_2           2694335 non-null  float32       \n",
      " 14  target4_shift_2           2694335 non-null  float32       \n",
      " 15  target1_shift_3           2692274 non-null  float32       \n",
      " 16  target2_shift_3           2692274 non-null  float32       \n",
      " 17  target3_shift_3           2692274 non-null  float32       \n",
      " 18  target4_shift_3           2692274 non-null  float32       \n",
      " 19  target1_shift_4           2690213 non-null  float32       \n",
      " 20  target2_shift_4           2690213 non-null  float32       \n",
      " 21  target3_shift_4           2690213 non-null  float32       \n",
      " 22  target4_shift_4           2690213 non-null  float32       \n",
      " 23  target1_shift_5           2688152 non-null  float32       \n",
      " 24  target2_shift_5           2688152 non-null  float32       \n",
      " 25  target3_shift_5           2688152 non-null  float32       \n",
      " 26  target4_shift_5           2688152 non-null  float32       \n",
      " 27  IdGame                    218800 non-null   float64       \n",
      " 28  DtGame                    218800 non-null   object        \n",
      " 29  DtGameUTC                 218800 non-null   object        \n",
      " 30  IdPlayer_y                218800 non-null   float64       \n",
      " 31  IdTeam                    218800 non-null   float64       \n",
      " 32  NuJersey                  218763 non-null   object        \n",
      " 33  CdPosition                218800 non-null   float64       \n",
      " 34  NuStrikeOutsPitching      65252 non-null    float64       \n",
      " 35  NuBattingOrder            182559 non-null   float64       \n",
      " 36  NuGamesPlayedBatting      182564 non-null   float64       \n",
      " 37  NuFlyOuts                 182564 non-null   float64       \n",
      " 38  NuGroundOuts              182564 non-null   float64       \n",
      " 39  NuRunsScored              182564 non-null   float64       \n",
      " 40  NuDoubles                 182564 non-null   float64       \n",
      " 41  NuTriples                 182564 non-null   float64       \n",
      " 42  NuHomeRuns                182564 non-null   float64       \n",
      " 43  NuStrikeOuts              182564 non-null   float64       \n",
      " 44  NuBaseOnBalls             182564 non-null   float64       \n",
      " 45  NuIntentionalWalks        182564 non-null   float64       \n",
      " 46  NuHits                    182564 non-null   float64       \n",
      " 47  NuHitByPitch              182564 non-null   float64       \n",
      " 48  NuAtBats                  182564 non-null   float64       \n",
      " 49  NuCaughtStealing          182564 non-null   float64       \n",
      " 50  NuStolenBases             182564 non-null   float64       \n",
      " 51  NuGroundIntoDoublePlay    182564 non-null   float64       \n",
      " 52  NuGroundIntoTriplePlay    182564 non-null   float64       \n",
      " 53  NuPlateAppearances        182564 non-null   float64       \n",
      " 54  NuTotalBases              182564 non-null   float64       \n",
      " 55  NuRbi                     182564 non-null   float64       \n",
      " 56  NuLeftOnBase              182564 non-null   float64       \n",
      " 57  NuSacBunts                182564 non-null   float64       \n",
      " 58  NuSacFlies                182564 non-null   float64       \n",
      " 59  NuCatchersInterference    182564 non-null   float64       \n",
      " 60  NuPickoffs                182564 non-null   float64       \n",
      " 61  NuInningsPitched          65252 non-null    float64       \n",
      " 62  NuSaveOpportunities       65252 non-null    float64       \n",
      " 63  NuEarnedRuns              65252 non-null    float64       \n",
      " 64  NuBattersFaced            65252 non-null    float64       \n",
      " 65  NuPitchesThrown           65252 non-null    float64       \n",
      " 66  NuBalls                   65252 non-null    float64       \n",
      " 67  NuStrikes                 65252 non-null    float64       \n",
      " 68  NuHitBatsmen              65252 non-null    float64       \n",
      " 69  NuBalks                   65252 non-null    float64       \n",
      " 70  NuWildPitches             65252 non-null    float64       \n",
      " 71  NuInheritedRunners        65252 non-null    float64       \n",
      " 72  NuInheritedRunnersScored  65252 non-null    float64       \n",
      " 73  NuSaves                   55424 non-null    float64       \n",
      " 74  NuHolds                   55424 non-null    float64       \n",
      " 75  NuBlownSaves              55424 non-null    float64       \n",
      " 76  NuAssists                 184461 non-null   float64       \n",
      " 77  NuPutOuts                 184461 non-null   float64       \n",
      " 78  NuErrors                  184461 non-null   float64       \n",
      " 79  NuChances                 184461 non-null   float64       \n",
      "dtypes: datetime64[ns](1), float32(24), float64(50), int64(1), object(4)\n",
      "memory usage: 1.4+ GB\n"
     ]
    }
   ],
   "source": [
    "df_join = pd.merge(df, df_playerBoxScores, on=['IdDtPlayer'], how='left')\n",
    "df_join.info(null_counts=True)"
   ]
  },
  {
   "cell_type": "code",
   "execution_count": 10,
   "id": "433e4275",
   "metadata": {},
   "outputs": [],
   "source": [
    "f = [c for c in df_join.columns if c not in ['IdGame',\n",
    "                                              'DtGame',\n",
    "                                              'DtGameUTC',\n",
    "                                              'IdPlayer_y',\n",
    "                                              'IdTeam',\n",
    "                                              'NuJersey',\n",
    "                                              'CdPosition', \n",
    "                                              'target1_shift_1', \n",
    "                                              'target2_shift_1',\n",
    "                                              'target3_shift_1',\n",
    "                                              'target1_shift_2',\n",
    "                                              'target3_shift_2',\n",
    "                                              'target4_shift_2',\n",
    "                                              'target1_shift_3',\n",
    "                                              'target2_shift_3',\n",
    "                                              'target3_shift_3',\n",
    "                                              'target4_shift_3',\n",
    "                                              'target1_shift_4',\n",
    "                                              'target2_shift_4',\n",
    "                                              'target3_shift_4',\n",
    "                                              'target4_shift_4',\n",
    "                                              'target1_shift_5',\n",
    "                                              'target2_shift_5',\n",
    "                                              'target3_shift_5',\n",
    "                                              'target4_shift_5']]\n",
    "\n",
    "df_join[f] = df_join[f].fillna(0)                      "
   ]
  },
  {
   "cell_type": "code",
   "execution_count": 100,
   "id": "4931717b",
   "metadata": {},
   "outputs": [],
   "source": [
    "df.replace('', np.nan, inplace=True)"
   ]
  },
  {
   "cell_type": "code",
   "execution_count": null,
   "id": "a9ec6554",
   "metadata": {},
   "outputs": [],
   "source": [
    "df_join = df_join.dropna(subset=[             \n",
    "    'target1_shift_1', \n",
    "    'target2_shift_1',\n",
    "    'target3_shift_1',\n",
    "    'target1_shift_2',\n",
    "    'target3_shift_2',\n",
    "    'target4_shift_2',\n",
    "    'target1_shift_3',\n",
    "    'target2_shift_3',\n",
    "    'target3_shift_3',\n",
    "    'target4_shift_3',\n",
    "    'target1_shift_4',\n",
    "    'target2_shift_4',\n",
    "    'target3_shift_4',\n",
    "    'target4_shift_4',\n",
    "    'target1_shift_5',\n",
    "    'target3_shift_5',\n",
    "    'target4_shift_5',\n",
    "    'CdPosition',\n",
    "    'NuJersey'])"
   ]
  },
  {
   "cell_type": "code",
   "execution_count": null,
   "id": "1ba7c4a3",
   "metadata": {},
   "outputs": [],
   "source": [
    "df_join.isna().any()[lambda x: x]"
   ]
  },
  {
   "cell_type": "code",
   "execution_count": null,
   "id": "bf648cc6",
   "metadata": {},
   "outputs": [],
   "source": []
  },
  {
   "cell_type": "code",
   "execution_count": null,
   "id": "1619da7a",
   "metadata": {},
   "outputs": [],
   "source": [
    "del df\n",
    "df = df_join.copy()\n",
    "del df_join\n",
    "del df_playerBoxScores\n",
    "\n",
    "df.rename(columns={'IdPlayer_x': 'IdPlayer'}, inplace=True)"
   ]
  },
  {
   "cell_type": "code",
   "execution_count": null,
   "id": "8a7efba8",
   "metadata": {},
   "outputs": [],
   "source": [
    "sort_df(df)"
   ]
  },
  {
   "cell_type": "code",
   "execution_count": 89,
   "id": "054ae53f",
   "metadata": {},
   "outputs": [],
   "source": [
    "train, test, val = train_test_split(df)"
   ]
  },
  {
   "cell_type": "code",
   "execution_count": 97,
   "id": "c121ac54",
   "metadata": {},
   "outputs": [],
   "source": [
    "train['Dt'] = pd.to_numeric(pd.to_datetime(train['Dt']))\n",
    "test['Dt'] = pd.to_numeric(pd.to_datetime(test['Dt']))\n",
    "val['Dt'] = pd.to_numeric(pd.to_datetime(val['Dt']))\n",
    "train['DtGame'] = pd.to_numeric(pd.to_datetime(train['DtGame']))\n",
    "test['DtGame'] = pd.to_numeric(pd.to_datetime(test['DtGame']))\n",
    "val['DtGame'] = pd.to_numeric(pd.to_datetime(val['DtGame']))\n",
    "train['DtGameUTC'] = pd.to_numeric(pd.to_datetime(train['DtGameUTC']))\n",
    "test['DtGameUTC'] = pd.to_numeric(pd.to_datetime(test['DtGameUTC']))\n",
    "val['DtGameUTC'] = pd.to_numeric(pd.to_datetime(val['DtGameUTC']))"
   ]
  },
  {
   "cell_type": "code",
   "execution_count": null,
   "id": "ad5dc1bf",
   "metadata": {},
   "outputs": [],
   "source": [
    "from sklearn.linear_model import Lasso"
   ]
  },
  {
   "cell_type": "code",
   "execution_count": 106,
   "id": "d3a7c476",
   "metadata": {},
   "outputs": [
    {
     "data": {
      "text/plain": [
       "NuJersey    True\n",
       "dtype: bool"
      ]
     },
     "execution_count": 106,
     "metadata": {},
     "output_type": "execute_result"
    }
   ],
   "source": [
    "train.isna().any()[lambda x: x]"
   ]
  },
  {
   "cell_type": "code",
   "execution_count": 108,
   "id": "d2188623",
   "metadata": {},
   "outputs": [
    {
     "name": "stderr",
     "output_type": "stream",
     "text": [
      "C:\\Users\\maisa\\anaconda3\\lib\\site-packages\\sklearn\\linear_model\\_coordinate_descent.py:648: ConvergenceWarning: Objective did not converge. You might want to increase the number of iterations, check the scale of the features or consider increasing regularisation. Duality gap: 6.297e+06, tolerance: 1.757e+03\n",
      "  model = cd_fast.enet_coordinate_descent(\n",
      "C:\\Users\\maisa\\anaconda3\\lib\\site-packages\\sklearn\\linear_model\\_coordinate_descent.py:648: ConvergenceWarning: Objective did not converge. You might want to increase the number of iterations, check the scale of the features or consider increasing regularisation. Duality gap: 3.113e+06, tolerance: 1.424e+03\n",
      "  model = cd_fast.enet_coordinate_descent(\n",
      "C:\\Users\\maisa\\anaconda3\\lib\\site-packages\\sklearn\\linear_model\\_coordinate_descent.py:648: ConvergenceWarning: Objective did not converge. You might want to increase the number of iterations, check the scale of the features or consider increasing regularisation. Duality gap: 6.944e+06, tolerance: 1.821e+03\n",
      "  model = cd_fast.enet_coordinate_descent(\n",
      "C:\\Users\\maisa\\anaconda3\\lib\\site-packages\\sklearn\\linear_model\\_coordinate_descent.py:648: ConvergenceWarning: Objective did not converge. You might want to increase the number of iterations, check the scale of the features or consider increasing regularisation. Duality gap: 2.427e+06, tolerance: 9.953e+02\n",
      "  model = cd_fast.enet_coordinate_descent(\n"
     ]
    },
    {
     "data": {
      "text/plain": [
       "{'target1': 3.495543978411016,\n",
       " 'target2': 2.832390618032057,\n",
       " 'target3': 2.991854759490038,\n",
       " 'target4': 1.6147204421407868,\n",
       " 'average': 2.7336274495184743}"
      ]
     },
     "execution_count": 108,
     "metadata": {},
     "output_type": "execute_result"
    }
   ],
   "source": [
    "model = Lasso()\n",
    "# return the MAE for each target column and the average MAE\n",
    "evaluate_mae(\n",
    "    y_true = test[TARGET_COLS],\n",
    "    # predict the targets for each trained model\n",
    "    y_pred = predict_targets(\n",
    "        # train the models\n",
    "        models = train_models(\n",
    "            model = model, \n",
    "            x_train = train.drop(TARGET_COLS, axis=1), \n",
    "            y_train = train[TARGET_COLS]\n",
    "        ),\n",
    "        x_test = test.drop(TARGET_COLS, axis=1)\n",
    "))"
   ]
  }
 ],
 "metadata": {
  "kernelspec": {
   "display_name": "Python 3 (ipykernel)",
   "language": "python",
   "name": "python3"
  },
  "language_info": {
   "codemirror_mode": {
    "name": "ipython",
    "version": 3
   },
   "file_extension": ".py",
   "mimetype": "text/x-python",
   "name": "python",
   "nbconvert_exporter": "python",
   "pygments_lexer": "ipython3",
   "version": "3.9.7"
  }
 },
 "nbformat": 4,
 "nbformat_minor": 5
}

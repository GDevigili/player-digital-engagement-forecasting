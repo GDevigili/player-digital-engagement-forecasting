{
 "cells": [
  {
   "cell_type": "markdown",
   "id": "c285a70f",
   "metadata": {},
   "source": [
    "## Libraries"
   ]
  },
  {
   "cell_type": "code",
   "execution_count": 1,
   "id": "e138c461",
   "metadata": {},
   "outputs": [],
   "source": [
    "import random\n",
    "import pickle\n",
    "\n",
    "# Data manipulation\n",
    "import pandas as pd\n",
    "import numpy as np\n",
    "\n",
    "# Data visualization\n",
    "import matplotlib.pyplot as plt\n",
    "import seaborn as sns\n",
    "\n",
    "# models\n",
    "import sklearn\n",
    "import sktime\n",
    "import keras\n",
    "import statsmodels.api as sm\n",
    "from sktime.forecasting.naive import NaiveForecaster\n",
    "from sktime.forecasting.exp_smoothing import ExponentialSmoothing\n",
    "from tensorflow import keras\n",
    "from tensorflow.keras import layers\n",
    "\n",
    "# model selection and metrics\n",
    "from sklearn.model_selection import TimeSeriesSplit\n",
    "from sklearn.metrics import mean_absolute_error\n",
    "from sklearn.feature_selection import RFE\n",
    "\n",
    "# constants\n",
    "PROCESSED_DATA_PATH = '../data/processed-data/'\n",
    "MODEL_PATH = '../models/trained-models/'\n",
    "TARGET_COLS = ['target1', 'target2', 'target3', 'target4']\n",
    "TEST_SPLIT_DATE = '2021-04-30'\n",
    "\n",
    "# disable warnings\n",
    "import warnings\n",
    "warnings.filterwarnings(\"ignore\", category=DeprecationWarning)\n",
    "warnings.filterwarnings(\"ignore\", category=FutureWarning)\n",
    "pd.options.mode.chained_assignment = None  # default='warn'"
   ]
  },
  {
   "cell_type": "markdown",
   "id": "331ab43d",
   "metadata": {},
   "source": [
    "## Auxiliary Functions"
   ]
  },
  {
   "cell_type": "code",
   "execution_count": 3,
   "id": "e775027c",
   "metadata": {},
   "outputs": [],
   "source": [
    "def plot_time_series(df, groupby = 'median', cols = TARGET_COLS):\n",
    "    df_melted = df.groupby('Dt').median()[cols]\\\n",
    "    .melt(var_name='target', value_name='value', ignore_index=False)\n",
    "    df_melted.reset_index(inplace=True)\n",
    "\n",
    "    sns.set(rc={'figure.figsize':(10,20)})\n",
    "    sns.FacetGrid(df_melted, col='target', col_wrap=2, height=9,aspect=2, sharey=False)\\\n",
    "    .map(sns.lineplot, 'Dt', 'value');\n",
    "    \n",
    "def plot_train_test_pred(train, test, pred = pd.DataFrame(), groupby = 'median', cols = TARGET_COLS):\n",
    "    train['type'] = 'train'\n",
    "    test['type'] = 'test'\n",
    "    pred['type'] = 'pred'\n",
    "    \n",
    "    cols.append('type')\n",
    "\n",
    "    df = pd.concat([train, test, pred], axis=0)\n",
    "    df_melted = df.groupby('Dt').median()[cols]\\\n",
    "        .melt(var_name='target', value_name='value', ignore_index=False)\n",
    "    df_melted.reset_index(inplace=True)\n",
    "    \n",
    "    sns.set(rc={'figure.figsize':(10,20)})\n",
    "    sns.FacetGrid(df_melted, col='target', col_wrap=2, height=9,aspect=2, sharey=False)\\\n",
    "        .map(sns.lineplot, 'Dt', 'value', hue='type');"
   ]
  },
  {
   "cell_type": "markdown",
   "id": "a7e4ec33",
   "metadata": {},
   "source": [
    "## Data Prep"
   ]
  },
  {
   "cell_type": "code",
   "execution_count": 4,
   "id": "1cec0a57",
   "metadata": {},
   "outputs": [],
   "source": [
    "#df = pd.read_pickle(PROCESSED_DATA_PATH + 'shifted_targets.pkl')"
   ]
  },
  {
   "cell_type": "code",
   "execution_count": 5,
   "id": "2734bd4a",
   "metadata": {},
   "outputs": [],
   "source": [
    "#train = df[(df.Dt <= \"2021-01-31\") & (df.Dt >= \"2018-01-01\")] \n",
    "#val = df[(df.Dt <= \"2021-04-30\") & (df.Dt >= \"2021-02-01\")] \n",
    "#test = df[(df.Dt <= \"2021-07-31\") & (df.Dt >= \"2021-05-01\")]\n",
    "\n",
    "#train.to_csv('train.csv', index=None)\n",
    "#val.to_csv('validation.csv', index=None) \n",
    "#test.to_csv('test.csv', index=None)\n",
    "\n",
    "train = pd.read_csv('train.csv')\n",
    "val = pd.read_csv('validation.csv')\n",
    "test = pd.read_csv('test.csv')"
   ]
  },
  {
   "cell_type": "markdown",
   "id": "0e09e7f2",
   "metadata": {},
   "source": [
    "## Baselines"
   ]
  },
  {
   "cell_type": "code",
   "execution_count": 7,
   "id": "4a284c48",
   "metadata": {},
   "outputs": [],
   "source": [
    "summary = pd.DataFrame(columns=TARGET_COLS,index=['Média','Média por Jogador','Mediana','Mediana por Jogador','Naive'])\n",
    "# train + validation dataset\n",
    "train_val = pd.concat([train, val], axis=0)"
   ]
  },
  {
   "cell_type": "code",
   "execution_count": 13,
   "id": "e3629f9e",
   "metadata": {},
   "outputs": [
    {
     "data": {
      "text/plain": [
       "True"
      ]
     },
     "execution_count": 13,
     "metadata": {},
     "output_type": "execute_result"
    }
   ],
   "source": [
    "train.shape[0] + val.shape[0] == train_val.shape[0]"
   ]
  },
  {
   "cell_type": "code",
   "execution_count": 14,
   "id": "2f26ccaa",
   "metadata": {},
   "outputs": [],
   "source": [
    "media = train_val[TARGET_COLS].mean()\n",
    "media_por_jogador = train_val.groupby('IdPlayer')[TARGET_COLS].mean()\n",
    "mediana = train_val[TARGET_COLS].median()\n",
    "mediana_por_jogador = train_val.groupby('IdPlayer')[TARGET_COLS].median()\n",
    "naive = train_val[train_val['Dt']=='2021-04-30'].set_index('IdPlayer')[TARGET_COLS]"
   ]
  },
  {
   "cell_type": "code",
   "execution_count": 15,
   "id": "37b32455",
   "metadata": {},
   "outputs": [],
   "source": [
    "for target in TARGET_COLS:\n",
    "    \n",
    "    y_true = test[target]\n",
    "    \n",
    "    mediapj_pred = test['IdPlayer'].map(media_por_jogador[target].to_dict())\n",
    "    medianapj_pred = test['IdPlayer'].map(mediana_por_jogador[target].to_dict())\n",
    "    naive_pred = test['IdPlayer'].map(naive[target].to_dict())\n",
    "    \n",
    "    mediana_pred = [mediana[target] for i in test.index]\n",
    "    media_pred = [media[target] for i in test.index]\n",
    "    \n",
    "    summary.loc['Média',target]  = mean_absolute_error(y_true,media_pred)\n",
    "    summary.loc['Média por Jogador',target]  = mean_absolute_error(y_true,mediapj_pred)\n",
    "    summary.loc['Mediana',target]  = mean_absolute_error(y_true,mediana_pred)\n",
    "    summary.loc['Mediana por Jogador',target]  = mean_absolute_error(y_true,medianapj_pred)\n",
    "    summary.loc['Naive',target]  = mean_absolute_error(y_true,naive_pred)\n",
    "    \n",
    "summary['Average'] = summary.mean(axis=1)"
   ]
  },
  {
   "cell_type": "code",
   "execution_count": 16,
   "id": "27325bb5",
   "metadata": {},
   "outputs": [
    {
     "data": {
      "text/html": [
       "<div>\n",
       "<style scoped>\n",
       "    .dataframe tbody tr th:only-of-type {\n",
       "        vertical-align: middle;\n",
       "    }\n",
       "\n",
       "    .dataframe tbody tr th {\n",
       "        vertical-align: top;\n",
       "    }\n",
       "\n",
       "    .dataframe thead th {\n",
       "        text-align: right;\n",
       "    }\n",
       "</style>\n",
       "<table border=\"1\" class=\"dataframe\">\n",
       "  <thead>\n",
       "    <tr style=\"text-align: right;\">\n",
       "      <th></th>\n",
       "      <th>target1</th>\n",
       "      <th>target2</th>\n",
       "      <th>target3</th>\n",
       "      <th>target4</th>\n",
       "      <th>Average</th>\n",
       "    </tr>\n",
       "  </thead>\n",
       "  <tbody>\n",
       "    <tr>\n",
       "      <th>Média</th>\n",
       "      <td>1.126843</td>\n",
       "      <td>2.739029</td>\n",
       "      <td>1.068968</td>\n",
       "      <td>1.477766</td>\n",
       "      <td>1.603152</td>\n",
       "    </tr>\n",
       "    <tr>\n",
       "      <th>Média por Jogador</th>\n",
       "      <td>0.939999</td>\n",
       "      <td>2.251019</td>\n",
       "      <td>0.9543</td>\n",
       "      <td>1.025011</td>\n",
       "      <td>1.292582</td>\n",
       "    </tr>\n",
       "    <tr>\n",
       "      <th>Mediana</th>\n",
       "      <td>0.712801</td>\n",
       "      <td>1.651943</td>\n",
       "      <td>0.498075</td>\n",
       "      <td>1.139852</td>\n",
       "      <td>1.000668</td>\n",
       "    </tr>\n",
       "    <tr>\n",
       "      <th>Mediana por Jogador</th>\n",
       "      <td>0.702606</td>\n",
       "      <td>1.56062</td>\n",
       "      <td>0.493126</td>\n",
       "      <td>0.925954</td>\n",
       "      <td>0.920577</td>\n",
       "    </tr>\n",
       "    <tr>\n",
       "      <th>Naive</th>\n",
       "      <td>1.168903</td>\n",
       "      <td>1.808041</td>\n",
       "      <td>0.761283</td>\n",
       "      <td>1.520494</td>\n",
       "      <td>1.314680</td>\n",
       "    </tr>\n",
       "  </tbody>\n",
       "</table>\n",
       "</div>"
      ],
      "text/plain": [
       "                      target1   target2   target3   target4   Average\n",
       "Média                1.126843  2.739029  1.068968  1.477766  1.603152\n",
       "Média por Jogador    0.939999  2.251019    0.9543  1.025011  1.292582\n",
       "Mediana              0.712801  1.651943  0.498075  1.139852  1.000668\n",
       "Mediana por Jogador  0.702606   1.56062  0.493126  0.925954  0.920577\n",
       "Naive                1.168903  1.808041  0.761283  1.520494  1.314680"
      ]
     },
     "execution_count": 16,
     "metadata": {},
     "output_type": "execute_result"
    }
   ],
   "source": [
    "summary"
   ]
  }
 ],
 "metadata": {
  "kernelspec": {
   "display_name": "Python 3 (ipykernel)",
   "language": "python",
   "name": "python3"
  },
  "language_info": {
   "codemirror_mode": {
    "name": "ipython",
    "version": 3
   },
   "file_extension": ".py",
   "mimetype": "text/x-python",
   "name": "python",
   "nbconvert_exporter": "python",
   "pygments_lexer": "ipython3",
   "version": "3.9.7"
  }
 },
 "nbformat": 4,
 "nbformat_minor": 5
}

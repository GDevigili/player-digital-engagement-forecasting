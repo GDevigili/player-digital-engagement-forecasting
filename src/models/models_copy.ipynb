{
 "cells": [
  {
   "cell_type": "markdown",
   "id": "7423bfd3",
   "metadata": {},
   "source": [
    "## Libraries"
   ]
  },
  {
   "cell_type": "code",
   "execution_count": 1,
   "id": "2b052018",
   "metadata": {},
   "outputs": [],
   "source": [
    "import random\n",
    "import pickle\n",
    "\n",
    "# Data manipulation\n",
    "import pandas as pd\n",
    "import numpy as np\n",
    "\n",
    "# Data visualization\n",
    "import matplotlib.pyplot as plt\n",
    "import seaborn as sns\n",
    "\n",
    "# models\n",
    "import sklearn\n",
    "import sktime\n",
    "import keras\n",
    "import statsmodels.api as sm\n",
    "from sktime.forecasting.naive import NaiveForecaster\n",
    "from sktime.forecasting.exp_smoothing import ExponentialSmoothing\n",
    "from tensorflow import keras\n",
    "from tensorflow.keras import layers\n",
    "\n",
    "# model selection and metrics\n",
    "from sklearn.model_selection import TimeSeriesSplit\n",
    "from sklearn.metrics import mean_absolute_error\n",
    "from sklearn.feature_selection import RFE\n",
    "\n",
    "# constants\n",
    "PROCESSED_DATA_PATH = '../data/processed-data/'\n",
    "MODEL_PATH = '../models/trained-models/'\n",
    "TARGET_COLS = ['target1', 'target2', 'target3', 'target4']\n",
    "TEST_SPLIT_DATE = '2021-04-30'\n",
    "\n",
    "# disable warnings\n",
    "import warnings\n",
    "warnings.filterwarnings(\"ignore\", category=DeprecationWarning)\n",
    "warnings.filterwarnings(\"ignore\", category=FutureWarning)\n",
    "pd.options.mode.chained_assignment = None  # default='warn'"
   ]
  },
  {
   "cell_type": "markdown",
   "id": "e39b174b",
   "metadata": {},
   "source": [
    "## Auxiliary Functions"
   ]
  },
  {
   "cell_type": "code",
   "execution_count": 3,
   "id": "24b9d453",
   "metadata": {},
   "outputs": [],
   "source": [
    "def plot_time_series(df, groupby = 'median', cols = TARGET_COLS):\n",
    "    df_melted = df.groupby('Dt').median()[cols]\\\n",
    "    .melt(var_name='target', value_name='value', ignore_index=False)\n",
    "    df_melted.reset_index(inplace=True)\n",
    "\n",
    "    sns.set(rc={'figure.figsize':(10,20)})\n",
    "    sns.FacetGrid(df_melted, col='target', col_wrap=2, height=9,aspect=2, sharey=False)\\\n",
    "    .map(sns.lineplot, 'Dt', 'value');\n",
    "    \n",
    "def plot_train_test_pred(train, test, pred = pd.DataFrame(), groupby = 'median', cols = TARGET_COLS):\n",
    "    train['type'] = 'train'\n",
    "    test['type'] = 'test'\n",
    "    pred['type'] = 'pred'\n",
    "    \n",
    "    cols.append('type')\n",
    "\n",
    "    df = pd.concat([train, test, pred], axis=0)\n",
    "    df_melted = df.groupby('Dt').median()[cols]\\\n",
    "        .melt(var_name='target', value_name='value', ignore_index=False)\n",
    "    df_melted.reset_index(inplace=True)\n",
    "    \n",
    "    sns.set(rc={'figure.figsize':(10,20)})\n",
    "    sns.FacetGrid(df_melted, col='target', col_wrap=2, height=9,aspect=2, sharey=False)\\\n",
    "        .map(sns.lineplot, 'Dt', 'value', hue='type');"
   ]
  },
  {
   "cell_type": "markdown",
   "id": "fdf29bda",
   "metadata": {},
   "source": [
    "## Data Prep"
   ]
  },
  {
   "cell_type": "code",
   "execution_count": 17,
   "id": "acacb000",
   "metadata": {},
   "outputs": [],
   "source": [
    "df = pd.read_pickle(PROCESSED_DATA_PATH + 'shifted_targets.pkl')"
   ]
  },
  {
   "cell_type": "code",
   "execution_count": 5,
   "id": "87c55493",
   "metadata": {},
   "outputs": [],
   "source": [
    "#train = df[(df.Dt <= \"2021-01-31\") & (df.Dt >= \"2018-01-01\")] \n",
    "#val = df[(df.Dt <= \"2021-04-30\") & (df.Dt >= \"2021-02-01\")] \n",
    "#test = df[(df.Dt <= \"2021-07-31\") & (df.Dt >= \"2021-05-01\")]\n",
    "\n",
    "#train.to_csv('train.csv', index=None)\n",
    "#val.to_csv('validation.csv', index=None) \n",
    "#test.to_csv('test.csv', index=None)\n",
    "\n",
    "train = pd.read_csv('train.csv')\n",
    "val = pd.read_csv('validation.csv')\n",
    "test = pd.read_csv('test.csv')"
   ]
  },
  {
   "cell_type": "markdown",
   "id": "6563614e",
   "metadata": {},
   "source": [
    "## Baselines"
   ]
  },
  {
   "cell_type": "code",
   "execution_count": 7,
   "id": "f95f0287",
   "metadata": {},
   "outputs": [],
   "source": [
    "summary = pd.DataFrame(columns=TARGET_COLS,index=['Média','Média por Jogador','Mediana','Mediana por Jogador','Naive'])\n",
    "# train + validation dataset\n",
    "train_val = pd.concat([train, val], axis=0)"
   ]
  },
  {
   "cell_type": "code",
   "execution_count": 13,
   "id": "6a9367e2",
   "metadata": {},
   "outputs": [
    {
     "data": {
      "text/plain": [
       "True"
      ]
     },
     "execution_count": 13,
     "metadata": {},
     "output_type": "execute_result"
    }
   ],
   "source": [
    "train.shape[0] + val.shape[0] == train_val.shape[0]"
   ]
  },
  {
   "cell_type": "code",
   "execution_count": 14,
   "id": "615358f1",
   "metadata": {},
   "outputs": [],
   "source": [
    "media = train_val[TARGET_COLS].mean()\n",
    "media_por_jogador = train_val.groupby('IdPlayer')[TARGET_COLS].mean()\n",
    "mediana = train_val[TARGET_COLS].median()\n",
    "mediana_por_jogador = train_val.groupby('IdPlayer')[TARGET_COLS].median()\n",
    "naive = train_val[train_val['Dt']=='2021-04-30'].set_index('IdPlayer')[TARGET_COLS]"
   ]
  },
  {
   "cell_type": "code",
   "execution_count": 15,
   "id": "3fb7f2d9",
   "metadata": {},
   "outputs": [],
   "source": [
    "for target in TARGET_COLS:\n",
    "    \n",
    "    y_true = test[target]\n",
    "    \n",
    "    mediapj_pred = test['IdPlayer'].map(media_por_jogador[target].to_dict())\n",
    "    medianapj_pred = test['IdPlayer'].map(mediana_por_jogador[target].to_dict())\n",
    "    naive_pred = test['IdPlayer'].map(naive[target].to_dict())\n",
    "    \n",
    "    mediana_pred = [mediana[target] for i in test.index]\n",
    "    media_pred = [media[target] for i in test.index]\n",
    "    \n",
    "    summary.loc['Média',target]  = mean_absolute_error(y_true,media_pred)\n",
    "    summary.loc['Média por Jogador',target]  = mean_absolute_error(y_true,mediapj_pred)\n",
    "    summary.loc['Mediana',target]  = mean_absolute_error(y_true,mediana_pred)\n",
    "    summary.loc['Mediana por Jogador',target]  = mean_absolute_error(y_true,medianapj_pred)\n",
    "    summary.loc['Naive',target]  = mean_absolute_error(y_true,naive_pred)\n",
    "    \n",
    "summary['Average'] = summary.mean(axis=1)"
   ]
  },
  {
   "cell_type": "code",
   "execution_count": 16,
   "id": "e229e120",
   "metadata": {},
   "outputs": [
    {
     "data": {
      "text/html": [
       "<div>\n",
       "<style scoped>\n",
       "    .dataframe tbody tr th:only-of-type {\n",
       "        vertical-align: middle;\n",
       "    }\n",
       "\n",
       "    .dataframe tbody tr th {\n",
       "        vertical-align: top;\n",
       "    }\n",
       "\n",
       "    .dataframe thead th {\n",
       "        text-align: right;\n",
       "    }\n",
       "</style>\n",
       "<table border=\"1\" class=\"dataframe\">\n",
       "  <thead>\n",
       "    <tr style=\"text-align: right;\">\n",
       "      <th></th>\n",
       "      <th>target1</th>\n",
       "      <th>target2</th>\n",
       "      <th>target3</th>\n",
       "      <th>target4</th>\n",
       "      <th>Average</th>\n",
       "    </tr>\n",
       "  </thead>\n",
       "  <tbody>\n",
       "    <tr>\n",
       "      <th>Média</th>\n",
       "      <td>1.126843</td>\n",
       "      <td>2.739029</td>\n",
       "      <td>1.068968</td>\n",
       "      <td>1.477766</td>\n",
       "      <td>1.603152</td>\n",
       "    </tr>\n",
       "    <tr>\n",
       "      <th>Média por Jogador</th>\n",
       "      <td>0.939999</td>\n",
       "      <td>2.251019</td>\n",
       "      <td>0.9543</td>\n",
       "      <td>1.025011</td>\n",
       "      <td>1.292582</td>\n",
       "    </tr>\n",
       "    <tr>\n",
       "      <th>Mediana</th>\n",
       "      <td>0.712801</td>\n",
       "      <td>1.651943</td>\n",
       "      <td>0.498075</td>\n",
       "      <td>1.139852</td>\n",
       "      <td>1.000668</td>\n",
       "    </tr>\n",
       "    <tr>\n",
       "      <th>Mediana por Jogador</th>\n",
       "      <td>0.702606</td>\n",
       "      <td>1.56062</td>\n",
       "      <td>0.493126</td>\n",
       "      <td>0.925954</td>\n",
       "      <td>0.920577</td>\n",
       "    </tr>\n",
       "    <tr>\n",
       "      <th>Naive</th>\n",
       "      <td>1.168903</td>\n",
       "      <td>1.808041</td>\n",
       "      <td>0.761283</td>\n",
       "      <td>1.520494</td>\n",
       "      <td>1.314680</td>\n",
       "    </tr>\n",
       "  </tbody>\n",
       "</table>\n",
       "</div>"
      ],
      "text/plain": [
       "                      target1   target2   target3   target4   Average\n",
       "Média                1.126843  2.739029  1.068968  1.477766  1.603152\n",
       "Média por Jogador    0.939999  2.251019    0.9543  1.025011  1.292582\n",
       "Mediana              0.712801  1.651943  0.498075  1.139852  1.000668\n",
       "Mediana por Jogador  0.702606   1.56062  0.493126  0.925954  0.920577\n",
       "Naive                1.168903  1.808041  0.761283  1.520494  1.314680"
      ]
     },
     "execution_count": 16,
     "metadata": {},
     "output_type": "execute_result"
    }
   ],
   "source": [
    "summary"
   ]
  },
  {
   "cell_type": "markdown",
   "id": "3b06a603",
   "metadata": {},
   "source": [
    "## LASSO and Multitask LASSO"
   ]
  },
  {
   "cell_type": "code",
   "execution_count": 18,
   "id": "911b8e9c",
   "metadata": {},
   "outputs": [],
   "source": [
    "# dropping the columns with a high shift\n",
    "for i in range(4):\n",
    "    for shift in [6, 7, 14, 30]:\n",
    "        df.drop(f'target{i+1}_shift_{shift}', axis=1, inplace=True)"
   ]
  },
  {
   "cell_type": "code",
   "execution_count": 19,
   "id": "559ee23b",
   "metadata": {},
   "outputs": [
    {
     "name": "stdout",
     "output_type": "stream",
     "text": [
      "<class 'pandas.core.frame.DataFrame'>\n",
      "Int64Index: 2695788 entries, 0 to 2695787\n",
      "Data columns (total 27 columns):\n",
      " #   Column           Dtype         \n",
      "---  ------           -----         \n",
      " 0   Dt               datetime64[ns]\n",
      " 1   IdPlayer         int64         \n",
      " 2   target1          float32       \n",
      " 3   target2          float32       \n",
      " 4   target3          float32       \n",
      " 5   target4          float32       \n",
      " 6   IdDtPlayer       object        \n",
      " 7   target1_shift_1  float32       \n",
      " 8   target2_shift_1  float32       \n",
      " 9   target3_shift_1  float32       \n",
      " 10  target4_shift_1  float32       \n",
      " 11  target1_shift_2  float32       \n",
      " 12  target2_shift_2  float32       \n",
      " 13  target3_shift_2  float32       \n",
      " 14  target4_shift_2  float32       \n",
      " 15  target1_shift_3  float32       \n",
      " 16  target2_shift_3  float32       \n",
      " 17  target3_shift_3  float32       \n",
      " 18  target4_shift_3  float32       \n",
      " 19  target1_shift_4  float32       \n",
      " 20  target2_shift_4  float32       \n",
      " 21  target3_shift_4  float32       \n",
      " 22  target4_shift_4  float32       \n",
      " 23  target1_shift_5  float32       \n",
      " 24  target2_shift_5  float32       \n",
      " 25  target3_shift_5  float32       \n",
      " 26  target4_shift_5  float32       \n",
      "dtypes: datetime64[ns](1), float32(24), int64(1), object(1)\n",
      "memory usage: 329.1+ MB\n"
     ]
    }
   ],
   "source": [
    "df.info()"
   ]
  },
  {
   "cell_type": "code",
   "execution_count": 21,
   "id": "2f64d2dc",
   "metadata": {},
   "outputs": [
    {
     "name": "stdout",
     "output_type": "stream",
     "text": [
      "<class 'pandas.core.frame.DataFrame'>\n",
      "Int64Index: 219727 entries, 0 to 451\n",
      "Data columns (total 54 columns):\n",
      " #   Column                    Non-Null Count   Dtype  \n",
      "---  ------                    --------------   -----  \n",
      " 0   IdGame                    219727 non-null  int64  \n",
      " 1   DtGame                    219727 non-null  object \n",
      " 2   DtGameUTC                 219727 non-null  object \n",
      " 3   IdPlayer                  219727 non-null  int64  \n",
      " 4   IdTeam                    219727 non-null  int64  \n",
      " 5   NuJersey                  219690 non-null  object \n",
      " 6   CdPosition                219727 non-null  int64  \n",
      " 7   NuStrikeOutsPitching      65466 non-null   float64\n",
      " 8   NuBattingOrder            183390 non-null  float64\n",
      " 9   NuGamesPlayedBatting      183395 non-null  float64\n",
      " 10  NuFlyOuts                 183395 non-null  float64\n",
      " 11  NuGroundOuts              183395 non-null  float64\n",
      " 12  NuRunsScored              183395 non-null  float64\n",
      " 13  NuDoubles                 183395 non-null  float64\n",
      " 14  NuTriples                 183395 non-null  float64\n",
      " 15  NuHomeRuns                183395 non-null  float64\n",
      " 16  NuStrikeOuts              183395 non-null  float64\n",
      " 17  NuBaseOnBalls             183395 non-null  float64\n",
      " 18  NuIntentionalWalks        183395 non-null  float64\n",
      " 19  NuHits                    183395 non-null  float64\n",
      " 20  NuHitByPitch              183395 non-null  float64\n",
      " 21  NuAtBats                  183395 non-null  float64\n",
      " 22  NuCaughtStealing          183395 non-null  float64\n",
      " 23  NuStolenBases             183395 non-null  float64\n",
      " 24  NuGroundIntoDoublePlay    183395 non-null  float64\n",
      " 25  NuGroundIntoTriplePlay    183395 non-null  float64\n",
      " 26  NuPlateAppearances        183395 non-null  float64\n",
      " 27  NuTotalBases              183395 non-null  float64\n",
      " 28  NuRbi                     183395 non-null  float64\n",
      " 29  NuLeftOnBase              183395 non-null  float64\n",
      " 30  NuSacBunts                183395 non-null  float64\n",
      " 31  NuSacFlies                183395 non-null  float64\n",
      " 32  NuCatchersInterference    183395 non-null  float64\n",
      " 33  NuPickoffs                183395 non-null  float64\n",
      " 34  NuInningsPitched          65466 non-null   float64\n",
      " 35  NuSaveOpportunities       65466 non-null   float64\n",
      " 36  NuEarnedRuns              65466 non-null   float64\n",
      " 37  NuBattersFaced            65466 non-null   float64\n",
      " 38  NuPitchesThrown           65466 non-null   float64\n",
      " 39  NuBalls                   65466 non-null   float64\n",
      " 40  NuStrikes                 65466 non-null   float64\n",
      " 41  NuHitBatsmen              65466 non-null   float64\n",
      " 42  NuBalks                   65466 non-null   float64\n",
      " 43  NuWildPitches             65466 non-null   float64\n",
      " 44  NuInheritedRunners        65466 non-null   float64\n",
      " 45  NuInheritedRunnersScored  65466 non-null   float64\n",
      " 46  NuSaves                   55638 non-null   float64\n",
      " 47  NuHolds                   55638 non-null   float64\n",
      " 48  NuBlownSaves              55638 non-null   float64\n",
      " 49  NuAssists                 185386 non-null  float64\n",
      " 50  NuPutOuts                 185386 non-null  float64\n",
      " 51  NuErrors                  185386 non-null  float64\n",
      " 52  NuChances                 185386 non-null  float64\n",
      " 53  IdDtPlayer                219727 non-null  object \n",
      "dtypes: float64(46), int64(4), object(4)\n",
      "memory usage: 92.2+ MB\n"
     ]
    }
   ],
   "source": [
    "df_playerBoxScores = pd.read_pickle(PROCESSED_DATA_PATH + 'playerBoxScores.pkl')\n",
    "df_playerBoxScores.info()"
   ]
  },
  {
   "cell_type": "code",
   "execution_count": 24,
   "id": "48eb3390",
   "metadata": {},
   "outputs": [
    {
     "name": "stdout",
     "output_type": "stream",
     "text": [
      "<class 'pandas.core.frame.DataFrame'>\n",
      "Int64Index: 2698457 entries, 0 to 2698456\n",
      "Data columns (total 80 columns):\n",
      " #   Column                    Non-Null Count    Dtype         \n",
      "---  ------                    --------------    -----         \n",
      " 0   Dt                        2698457 non-null  datetime64[ns]\n",
      " 1   IdPlayer_x                2698457 non-null  int64         \n",
      " 2   target1                   2698457 non-null  float32       \n",
      " 3   target2                   2698457 non-null  float32       \n",
      " 4   target3                   2698457 non-null  float32       \n",
      " 5   target4                   2698457 non-null  float32       \n",
      " 6   IdDtPlayer                2698457 non-null  object        \n",
      " 7   target1_shift_1           2696396 non-null  float32       \n",
      " 8   target2_shift_1           2696396 non-null  float32       \n",
      " 9   target3_shift_1           2696396 non-null  float32       \n",
      " 10  target4_shift_1           2696396 non-null  float32       \n",
      " 11  target1_shift_2           2694335 non-null  float32       \n",
      " 12  target2_shift_2           2694335 non-null  float32       \n",
      " 13  target3_shift_2           2694335 non-null  float32       \n",
      " 14  target4_shift_2           2694335 non-null  float32       \n",
      " 15  target1_shift_3           2692274 non-null  float32       \n",
      " 16  target2_shift_3           2692274 non-null  float32       \n",
      " 17  target3_shift_3           2692274 non-null  float32       \n",
      " 18  target4_shift_3           2692274 non-null  float32       \n",
      " 19  target1_shift_4           2690213 non-null  float32       \n",
      " 20  target2_shift_4           2690213 non-null  float32       \n",
      " 21  target3_shift_4           2690213 non-null  float32       \n",
      " 22  target4_shift_4           2690213 non-null  float32       \n",
      " 23  target1_shift_5           2688152 non-null  float32       \n",
      " 24  target2_shift_5           2688152 non-null  float32       \n",
      " 25  target3_shift_5           2688152 non-null  float32       \n",
      " 26  target4_shift_5           2688152 non-null  float32       \n",
      " 27  IdGame                    218800 non-null   float64       \n",
      " 28  DtGame                    218800 non-null   object        \n",
      " 29  DtGameUTC                 218800 non-null   object        \n",
      " 30  IdPlayer_y                218800 non-null   float64       \n",
      " 31  IdTeam                    218800 non-null   float64       \n",
      " 32  NuJersey                  218763 non-null   object        \n",
      " 33  CdPosition                218800 non-null   float64       \n",
      " 34  NuStrikeOutsPitching      65252 non-null    float64       \n",
      " 35  NuBattingOrder            182559 non-null   float64       \n",
      " 36  NuGamesPlayedBatting      182564 non-null   float64       \n",
      " 37  NuFlyOuts                 182564 non-null   float64       \n",
      " 38  NuGroundOuts              182564 non-null   float64       \n",
      " 39  NuRunsScored              182564 non-null   float64       \n",
      " 40  NuDoubles                 182564 non-null   float64       \n",
      " 41  NuTriples                 182564 non-null   float64       \n",
      " 42  NuHomeRuns                182564 non-null   float64       \n",
      " 43  NuStrikeOuts              182564 non-null   float64       \n",
      " 44  NuBaseOnBalls             182564 non-null   float64       \n",
      " 45  NuIntentionalWalks        182564 non-null   float64       \n",
      " 46  NuHits                    182564 non-null   float64       \n",
      " 47  NuHitByPitch              182564 non-null   float64       \n",
      " 48  NuAtBats                  182564 non-null   float64       \n",
      " 49  NuCaughtStealing          182564 non-null   float64       \n",
      " 50  NuStolenBases             182564 non-null   float64       \n",
      " 51  NuGroundIntoDoublePlay    182564 non-null   float64       \n",
      " 52  NuGroundIntoTriplePlay    182564 non-null   float64       \n",
      " 53  NuPlateAppearances        182564 non-null   float64       \n",
      " 54  NuTotalBases              182564 non-null   float64       \n",
      " 55  NuRbi                     182564 non-null   float64       \n",
      " 56  NuLeftOnBase              182564 non-null   float64       \n",
      " 57  NuSacBunts                182564 non-null   float64       \n",
      " 58  NuSacFlies                182564 non-null   float64       \n",
      " 59  NuCatchersInterference    182564 non-null   float64       \n",
      " 60  NuPickoffs                182564 non-null   float64       \n",
      " 61  NuInningsPitched          65252 non-null    float64       \n",
      " 62  NuSaveOpportunities       65252 non-null    float64       \n",
      " 63  NuEarnedRuns              65252 non-null    float64       \n",
      " 64  NuBattersFaced            65252 non-null    float64       \n",
      " 65  NuPitchesThrown           65252 non-null    float64       \n",
      " 66  NuBalls                   65252 non-null    float64       \n",
      " 67  NuStrikes                 65252 non-null    float64       \n",
      " 68  NuHitBatsmen              65252 non-null    float64       \n",
      " 69  NuBalks                   65252 non-null    float64       \n",
      " 70  NuWildPitches             65252 non-null    float64       \n",
      " 71  NuInheritedRunners        65252 non-null    float64       \n",
      " 72  NuInheritedRunnersScored  65252 non-null    float64       \n",
      " 73  NuSaves                   55424 non-null    float64       \n",
      " 74  NuHolds                   55424 non-null    float64       \n",
      " 75  NuBlownSaves              55424 non-null    float64       \n",
      " 76  NuAssists                 184461 non-null   float64       \n",
      " 77  NuPutOuts                 184461 non-null   float64       \n",
      " 78  NuErrors                  184461 non-null   float64       \n",
      " 79  NuChances                 184461 non-null   float64       \n",
      "dtypes: datetime64[ns](1), float32(24), float64(50), int64(1), object(4)\n",
      "memory usage: 1.4+ GB\n"
     ]
    }
   ],
   "source": [
    "df_join = pd.merge(df, df_playerBoxScores, on=['IdDtPlayer'], how='left')\n",
    "df_join.info(null_counts=True)"
   ]
  },
  {
   "cell_type": "code",
   "execution_count": 25,
   "id": "433e4275",
   "metadata": {},
   "outputs": [],
   "source": [
    "f = [c for c in df_join.columns if c not in ['IdGame',\n",
    "                                              'DtGame',\n",
    "                                              'DtGameUTC',\n",
    "                                              'IdPlayer_y',\n",
    "                                              'IdTeam',\n",
    "                                              'NuJersey',\n",
    "                                              'CdPosition', \n",
    "                                              'target1_shift_1', \n",
    "                                              'target2_shift_1',\n",
    "                                              'target3_shift_1',\n",
    "                                              'target1_shift_2',\n",
    "                                              'target3_shift_2',\n",
    "                                              'target4_shift_2',\n",
    "                                              'target1_shift_3',\n",
    "                                              'target2_shift_3',\n",
    "                                              'target3_shift_3',\n",
    "                                              'target4_shift_3',\n",
    "                                              'target1_shift_4',\n",
    "                                              'target2_shift_4',\n",
    "                                              'target3_shift_4',\n",
    "                                              'target4_shift_4',\n",
    "                                              'target1_shift_5',\n",
    "                                              'target2_shift_5',\n",
    "                                              'target3_shift_5',\n",
    "                                              'target4_shift_5']]\n",
    "\n",
    "df_join[f] = df_join[f].fillna(0)                      "
   ]
  },
  {
   "cell_type": "code",
   "execution_count": 26,
   "id": "a9ec6554",
   "metadata": {},
   "outputs": [],
   "source": [
    "df_join = df_join.dropna(subset=[             \n",
    "    'target1_shift_1', \n",
    "    'target2_shift_1',\n",
    "    'target3_shift_1',\n",
    "    'target1_shift_2',\n",
    "    'target3_shift_2',\n",
    "    'target4_shift_2',\n",
    "    'target1_shift_3',\n",
    "    'target2_shift_3',\n",
    "    'target3_shift_3',\n",
    "    'target4_shift_3',\n",
    "    'target1_shift_4',\n",
    "    'target2_shift_4',\n",
    "    'target3_shift_4',\n",
    "    'target4_shift_4',\n",
    "    'target1_shift_5',\n",
    "    'target3_shift_5',\n",
    "    'target4_shift_5',\n",
    "    'CdPosition'])"
   ]
  },
  {
   "cell_type": "code",
   "execution_count": 27,
   "id": "1ba7c4a3",
   "metadata": {},
   "outputs": [
    {
     "data": {
      "text/plain": [
       "NuJersey    True\n",
       "dtype: bool"
      ]
     },
     "execution_count": 27,
     "metadata": {},
     "output_type": "execute_result"
    }
   ],
   "source": [
    "df_join.isna().any()[lambda x: x]"
   ]
  }
 ],
 "metadata": {
  "kernelspec": {
   "display_name": "Python 3 (ipykernel)",
   "language": "python",
   "name": "python3"
  },
  "language_info": {
   "codemirror_mode": {
    "name": "ipython",
    "version": 3
   },
   "file_extension": ".py",
   "mimetype": "text/x-python",
   "name": "python",
   "nbconvert_exporter": "python",
   "pygments_lexer": "ipython3",
   "version": "3.9.7"
  }
 },
 "nbformat": 4,
 "nbformat_minor": 5
}

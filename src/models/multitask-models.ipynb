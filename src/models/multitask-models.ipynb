{
 "cells": [
  {
   "attachments": {},
   "cell_type": "markdown",
   "metadata": {},
   "source": [
    "# Multitask Models\n",
    "\n",
    "Testa modelos de multitasking"
   ]
  },
  {
   "attachments": {},
   "cell_type": "markdown",
   "metadata": {},
   "source": [
    "## Configuração de Ambiente"
   ]
  },
  {
   "cell_type": "code",
   "execution_count": 1,
   "metadata": {},
   "outputs": [],
   "source": [
    "# Variáveis de Configuração\n",
    "\n",
    "# Caminhos de arquivo\n",
    "raw_data_path = '../data/raw-data/'                 # dados não processados\n",
    "raw_dataset_path = raw_data_path + 'train_updated.csv'\n",
    "processed_data_path = '../data/processed-data/'     # dados processados\n",
    "processed_dataset_path = processed_data_path + 'train.pkl' \n",
    "model_path = '../models/trained-models/'"
   ]
  },
  {
   "cell_type": "code",
   "execution_count": 2,
   "metadata": {},
   "outputs": [],
   "source": [
    "# Imports\n",
    "\n",
    "# Data manipulation\n",
    "import pandas as pd\n",
    "import numpy as np\n",
    "\n",
    "import pickle as pkl\n",
    "\n",
    "from joblib import Parallel, delayed\n",
    "\n",
    "from models import *\n",
    "\n",
    "# disable warnings\n",
    "import warnings\n",
    "warnings.filterwarnings(\"ignore\", category=DeprecationWarning)\n",
    "warnings.filterwarnings(\"ignore\", category=FutureWarning)\n",
    "pd.options.mode.chained_assignment = None  # default='warn'"
   ]
  },
  {
   "cell_type": "code",
   "execution_count": 3,
   "metadata": {},
   "outputs": [],
   "source": [
    "# Variáveis/Constantes Globais\n",
    "TARGET_COLS = ['target1', 'target2', 'target3', 'target4']\n",
    "\n",
    "RANDOM_SEED = 42\n",
    "\n",
    "TEST_SPLIT_DATE = '2021-04-30'"
   ]
  },
  {
   "cell_type": "code",
   "execution_count": 4,
   "metadata": {},
   "outputs": [
    {
     "data": {
      "text/html": [
       "<div>\n",
       "<style scoped>\n",
       "    .dataframe tbody tr th:only-of-type {\n",
       "        vertical-align: middle;\n",
       "    }\n",
       "\n",
       "    .dataframe tbody tr th {\n",
       "        vertical-align: top;\n",
       "    }\n",
       "\n",
       "    .dataframe thead th {\n",
       "        text-align: right;\n",
       "    }\n",
       "</style>\n",
       "<table border=\"1\" class=\"dataframe\">\n",
       "  <thead>\n",
       "    <tr style=\"text-align: right;\">\n",
       "      <th></th>\n",
       "      <th>Dt</th>\n",
       "      <th>IdPlayer</th>\n",
       "      <th>target1</th>\n",
       "      <th>target2</th>\n",
       "      <th>target3</th>\n",
       "      <th>target4</th>\n",
       "      <th>target1_shift_1</th>\n",
       "      <th>target2_shift_1</th>\n",
       "      <th>target3_shift_1</th>\n",
       "      <th>target4_shift_1</th>\n",
       "      <th>...</th>\n",
       "      <th>NuWildPitches</th>\n",
       "      <th>NuInheritedRunners</th>\n",
       "      <th>NuInheritedRunnersScored</th>\n",
       "      <th>NuSaves</th>\n",
       "      <th>NuHolds</th>\n",
       "      <th>NuBlownSaves</th>\n",
       "      <th>NuAssists</th>\n",
       "      <th>NuPutOuts</th>\n",
       "      <th>NuErrors</th>\n",
       "      <th>NuChances</th>\n",
       "    </tr>\n",
       "  </thead>\n",
       "  <tbody>\n",
       "    <tr>\n",
       "      <th>7</th>\n",
       "      <td>2018-01-08</td>\n",
       "      <td>112526</td>\n",
       "      <td>0.032349</td>\n",
       "      <td>4.394531</td>\n",
       "      <td>0.039185</td>\n",
       "      <td>17.625000</td>\n",
       "      <td>0.014557</td>\n",
       "      <td>4.714844</td>\n",
       "      <td>0.026337</td>\n",
       "      <td>16.171875</td>\n",
       "      <td>...</td>\n",
       "      <td>0.0</td>\n",
       "      <td>0.0</td>\n",
       "      <td>0.0</td>\n",
       "      <td>0.0</td>\n",
       "      <td>0.0</td>\n",
       "      <td>0.0</td>\n",
       "      <td>0.0</td>\n",
       "      <td>0.0</td>\n",
       "      <td>0.0</td>\n",
       "      <td>0.0</td>\n",
       "    </tr>\n",
       "    <tr>\n",
       "      <th>8</th>\n",
       "      <td>2018-01-09</td>\n",
       "      <td>112526</td>\n",
       "      <td>0.016098</td>\n",
       "      <td>1.791016</td>\n",
       "      <td>0.055420</td>\n",
       "      <td>4.628906</td>\n",
       "      <td>0.032349</td>\n",
       "      <td>4.394531</td>\n",
       "      <td>0.039185</td>\n",
       "      <td>17.625000</td>\n",
       "      <td>...</td>\n",
       "      <td>0.0</td>\n",
       "      <td>0.0</td>\n",
       "      <td>0.0</td>\n",
       "      <td>0.0</td>\n",
       "      <td>0.0</td>\n",
       "      <td>0.0</td>\n",
       "      <td>0.0</td>\n",
       "      <td>0.0</td>\n",
       "      <td>0.0</td>\n",
       "      <td>0.0</td>\n",
       "    </tr>\n",
       "    <tr>\n",
       "      <th>9</th>\n",
       "      <td>2018-01-10</td>\n",
       "      <td>112526</td>\n",
       "      <td>0.075623</td>\n",
       "      <td>1.867188</td>\n",
       "      <td>0.023239</td>\n",
       "      <td>8.507812</td>\n",
       "      <td>0.016098</td>\n",
       "      <td>1.791016</td>\n",
       "      <td>0.055420</td>\n",
       "      <td>4.628906</td>\n",
       "      <td>...</td>\n",
       "      <td>0.0</td>\n",
       "      <td>0.0</td>\n",
       "      <td>0.0</td>\n",
       "      <td>0.0</td>\n",
       "      <td>0.0</td>\n",
       "      <td>0.0</td>\n",
       "      <td>0.0</td>\n",
       "      <td>0.0</td>\n",
       "      <td>0.0</td>\n",
       "      <td>0.0</td>\n",
       "    </tr>\n",
       "    <tr>\n",
       "      <th>10</th>\n",
       "      <td>2018-01-11</td>\n",
       "      <td>112526</td>\n",
       "      <td>0.035004</td>\n",
       "      <td>2.285156</td>\n",
       "      <td>0.020096</td>\n",
       "      <td>7.941406</td>\n",
       "      <td>0.075623</td>\n",
       "      <td>1.867188</td>\n",
       "      <td>0.023239</td>\n",
       "      <td>8.507812</td>\n",
       "      <td>...</td>\n",
       "      <td>0.0</td>\n",
       "      <td>0.0</td>\n",
       "      <td>0.0</td>\n",
       "      <td>0.0</td>\n",
       "      <td>0.0</td>\n",
       "      <td>0.0</td>\n",
       "      <td>0.0</td>\n",
       "      <td>0.0</td>\n",
       "      <td>0.0</td>\n",
       "      <td>0.0</td>\n",
       "    </tr>\n",
       "    <tr>\n",
       "      <th>11</th>\n",
       "      <td>2018-01-12</td>\n",
       "      <td>112526</td>\n",
       "      <td>0.018204</td>\n",
       "      <td>0.624023</td>\n",
       "      <td>0.007935</td>\n",
       "      <td>4.925781</td>\n",
       "      <td>0.035004</td>\n",
       "      <td>2.285156</td>\n",
       "      <td>0.020096</td>\n",
       "      <td>7.941406</td>\n",
       "      <td>...</td>\n",
       "      <td>0.0</td>\n",
       "      <td>0.0</td>\n",
       "      <td>0.0</td>\n",
       "      <td>0.0</td>\n",
       "      <td>0.0</td>\n",
       "      <td>0.0</td>\n",
       "      <td>0.0</td>\n",
       "      <td>0.0</td>\n",
       "      <td>0.0</td>\n",
       "      <td>0.0</td>\n",
       "    </tr>\n",
       "  </tbody>\n",
       "</table>\n",
       "<p>5 rows × 80 columns</p>\n",
       "</div>"
      ],
      "text/plain": [
       "           Dt  IdPlayer   target1   target2   target3    target4  \\\n",
       "7  2018-01-08    112526  0.032349  4.394531  0.039185  17.625000   \n",
       "8  2018-01-09    112526  0.016098  1.791016  0.055420   4.628906   \n",
       "9  2018-01-10    112526  0.075623  1.867188  0.023239   8.507812   \n",
       "10 2018-01-11    112526  0.035004  2.285156  0.020096   7.941406   \n",
       "11 2018-01-12    112526  0.018204  0.624023  0.007935   4.925781   \n",
       "\n",
       "    target1_shift_1  target2_shift_1  target3_shift_1  target4_shift_1  ...  \\\n",
       "7          0.014557         4.714844         0.026337        16.171875  ...   \n",
       "8          0.032349         4.394531         0.039185        17.625000  ...   \n",
       "9          0.016098         1.791016         0.055420         4.628906  ...   \n",
       "10         0.075623         1.867188         0.023239         8.507812  ...   \n",
       "11         0.035004         2.285156         0.020096         7.941406  ...   \n",
       "\n",
       "    NuWildPitches  NuInheritedRunners  NuInheritedRunnersScored  NuSaves  \\\n",
       "7             0.0                 0.0                       0.0      0.0   \n",
       "8             0.0                 0.0                       0.0      0.0   \n",
       "9             0.0                 0.0                       0.0      0.0   \n",
       "10            0.0                 0.0                       0.0      0.0   \n",
       "11            0.0                 0.0                       0.0      0.0   \n",
       "\n",
       "    NuHolds  NuBlownSaves  NuAssists  NuPutOuts  NuErrors  NuChances  \n",
       "7       0.0           0.0        0.0        0.0       0.0        0.0  \n",
       "8       0.0           0.0        0.0        0.0       0.0        0.0  \n",
       "9       0.0           0.0        0.0        0.0       0.0        0.0  \n",
       "10      0.0           0.0        0.0        0.0       0.0        0.0  \n",
       "11      0.0           0.0        0.0        0.0       0.0        0.0  \n",
       "\n",
       "[5 rows x 80 columns]"
      ]
     },
     "execution_count": 4,
     "metadata": {},
     "output_type": "execute_result"
    }
   ],
   "source": [
    "# Carregando o dataframe\n",
    "df_train = pd.read_pickle(processed_dataset_path)\n",
    "df_train.head()"
   ]
  },
  {
   "attachments": {},
   "cell_type": "markdown",
   "metadata": {},
   "source": [
    "## Preparação dos Dados\n",
    "\n",
    "Manter no notebook apenas a preparação pontual dos dados para a aplicação em modelos, toda preparação permanente deve ser adicionada em `/src/data-engineering/data-engineering.ipynb` e então salvo o dataset processado em `/src/data/processed-data/`."
   ]
  },
  {
   "attachments": {},
   "cell_type": "markdown",
   "metadata": {},
   "source": [
    "### Funções Auxiliares\n",
    "\n",
    "Apenas manter aqui funções que serão utilizadas pontualmente no notebook, em caso de funções que serão usadas em outros notebooks, deve-se transferir as mesmas para um arquivo `.py` separado e importar as funções para o notebook."
   ]
  },
  {
   "cell_type": "code",
   "execution_count": 5,
   "metadata": {},
   "outputs": [],
   "source": [
    "# Funções Auxiliares\n",
    "\n",
    "# Imports\n",
    "from data_preparation import *\n",
    "\n",
    "# Funções Auxiliares\n"
   ]
  },
  {
   "attachments": {},
   "cell_type": "markdown",
   "metadata": {},
   "source": [
    "### Preparação"
   ]
  },
  {
   "cell_type": "code",
   "execution_count": null,
   "metadata": {},
   "outputs": [],
   "source": []
  },
  {
   "attachments": {},
   "cell_type": "markdown",
   "metadata": {},
   "source": [
    "### Train Test Split"
   ]
  },
  {
   "cell_type": "code",
   "execution_count": 6,
   "metadata": {},
   "outputs": [],
   "source": [
    "train, test, val = train_test_split(df_train)"
   ]
  },
  {
   "cell_type": "code",
   "execution_count": 7,
   "metadata": {},
   "outputs": [],
   "source": [
    "train['Dt'] = pd.to_numeric(pd.to_datetime(train['Dt']))\n",
    "test['Dt']= pd.to_numeric(pd.to_datetime(test['Dt']))\n",
    "val['Dt'] = pd.to_numeric(pd.to_datetime(val['Dt']))"
   ]
  },
  {
   "attachments": {},
   "cell_type": "markdown",
   "metadata": {},
   "source": [
    "## Treinando Modelos"
   ]
  },
  {
   "cell_type": "code",
   "execution_count": 8,
   "metadata": {},
   "outputs": [],
   "source": [
    "from sklearn.metrics import mean_absolute_error as mae\n",
    "from sklearn.multioutput import MultiOutputRegressor\n",
    "\n",
    "df_results = pd.DataFrame(columns = ['model', 'target1', 'target2', 'target3', 'target4', 'average'])"
   ]
  },
  {
   "attachments": {},
   "cell_type": "markdown",
   "metadata": {},
   "source": [
    "### Baselines"
   ]
  },
  {
   "cell_type": "code",
   "execution_count": 9,
   "metadata": {},
   "outputs": [
    {
     "name": "stderr",
     "output_type": "stream",
     "text": [
      "c:\\Python39\\lib\\site-packages\\numpy\\core\\_methods.py:48: RuntimeWarning: overflow encountered in reduce\n",
      "  return umr_sum(a, axis, dtype, out, keepdims, initial, where)\n"
     ]
    }
   ],
   "source": [
    "# naive\n",
    "naive = train[train['Dt']=='2021-04-30'].set_index('IdPlayer')[TARGET_COLS]\n",
    "\n",
    "# media\n",
    "media = train[TARGET_COLS].mean()\n",
    "media_por_jogador = train.groupby('IdPlayer')[TARGET_COLS].mean()\n",
    "\n",
    "# mediana\n",
    "mediana = train[TARGET_COLS].median()\n",
    "mediana_por_jogador = train.groupby('IdPlayer')[TARGET_COLS].median()"
   ]
  },
  {
   "cell_type": "code",
   "execution_count": 10,
   "metadata": {},
   "outputs": [],
   "source": [
    "# summary = pd.DataFrame()\n",
    "\n",
    "# for target in TARGET_COLS:\n",
    "    \n",
    "#     y_true = test[target]\n",
    "    \n",
    "#     mediapj_pred = test['IdPlayer'].map(media_por_jogador[target].to_dict())\n",
    "#     medianapj_pred = test['IdPlayer'].map(mediana_por_jogador[target].to_dict())\n",
    "#     naive_pred = test['IdPlayer'].map(naive[target].to_dict())\n",
    "    \n",
    "#     mediana_pred = [mediana[target] for i in test.index]\n",
    "#     media_pred = [media[target] for i in test.index]\n",
    "    \n",
    "\n",
    "#     summary.loc['Média',target]  = mean_absolute_error(y_true,media_pred)\n",
    "#     summary.loc['Média por Jogador',target]  = mean_absolute_error(y_true,mediapj_pred)\n",
    "#     summary.loc['Mediana',target]  = mean_absolute_error(y_true,mediana_pred)\n",
    "#     summary.loc['Mediana por Jogador',target]  = mean_absolute_error(y_true,medianapj_pred)\n",
    "#     summary.loc['Naive',target]  = mean_absolute_error(y_true,naive_pred)\n",
    "    \n",
    "# summary['average'] = summary.mean(axis=1)\n",
    "\n",
    "# summary = summary.reset_index()\n",
    "# summary = summary.rename(columns = {\"index\": \"model\"})\n",
    "# df_results = df_results.append(summary, ignore_index = True)\n",
    "# df_results"
   ]
  },
  {
   "attachments": {},
   "cell_type": "markdown",
   "metadata": {},
   "source": [
    "### Modelos Lineares"
   ]
  },
  {
   "attachments": {},
   "cell_type": "markdown",
   "metadata": {},
   "source": [
    "#### LASSO"
   ]
  },
  {
   "cell_type": "code",
   "execution_count": 11,
   "metadata": {},
   "outputs": [
    {
     "name": "stdout",
     "output_type": "stream",
     "text": [
      "CPU times: total: 11min 8s\n",
      "Wall time: 4min 31s\n"
     ]
    },
    {
     "data": {
      "text/html": [
       "<div>\n",
       "<style scoped>\n",
       "    .dataframe tbody tr th:only-of-type {\n",
       "        vertical-align: middle;\n",
       "    }\n",
       "\n",
       "    .dataframe tbody tr th {\n",
       "        vertical-align: top;\n",
       "    }\n",
       "\n",
       "    .dataframe thead th {\n",
       "        text-align: right;\n",
       "    }\n",
       "</style>\n",
       "<table border=\"1\" class=\"dataframe\">\n",
       "  <thead>\n",
       "    <tr style=\"text-align: right;\">\n",
       "      <th></th>\n",
       "      <th>model</th>\n",
       "      <th>target1</th>\n",
       "      <th>target2</th>\n",
       "      <th>target3</th>\n",
       "      <th>target4</th>\n",
       "      <th>average</th>\n",
       "    </tr>\n",
       "  </thead>\n",
       "  <tbody>\n",
       "    <tr>\n",
       "      <th>0</th>\n",
       "      <td>Lasso | MultiOutput</td>\n",
       "      <td>0.780746</td>\n",
       "      <td>1.344433</td>\n",
       "      <td>0.703082</td>\n",
       "      <td>0.74622</td>\n",
       "      <td>0.89362</td>\n",
       "    </tr>\n",
       "  </tbody>\n",
       "</table>\n",
       "</div>"
      ],
      "text/plain": [
       "                 model   target1   target2   target3  target4  average\n",
       "0  Lasso | MultiOutput  0.780746  1.344433  0.703082  0.74622  0.89362"
      ]
     },
     "execution_count": 11,
     "metadata": {},
     "output_type": "execute_result"
    }
   ],
   "source": [
    "%%time\n",
    "from sklearn.linear_model import Lasso\n",
    "\n",
    "# defines the model and create the multioutput regressor\n",
    "model = Lasso(alpha=0.1, random_state=RANDOM_SEED)\n",
    "model_name = 'Lasso | MultiOutput'\n",
    "regressor = MultiOutputRegressor(model)\n",
    "\n",
    "# fit the model\n",
    "regressor.fit(train.drop(columns=TARGET_COLS), train[TARGET_COLS])\n",
    "\n",
    "# make predictions\n",
    "y_pred = pd.DataFrame(regressor.predict(test.drop(columns=TARGET_COLS)), columns=TARGET_COLS)\n",
    "\n",
    "# evaluate the model\n",
    "mae = evaluate_mae(test[TARGET_COLS], y_pred)\n",
    "\n",
    "# save the results\n",
    "df_results = df_results.append({'model': model_name, **mae}, ignore_index=True)\n",
    "df_results[df_results['model'] == model_name]"
   ]
  },
  {
   "attachments": {},
   "cell_type": "markdown",
   "metadata": {},
   "source": [
    "#### Ridge"
   ]
  },
  {
   "cell_type": "code",
   "execution_count": 12,
   "metadata": {},
   "outputs": [
    {
     "name": "stderr",
     "output_type": "stream",
     "text": [
      "c:\\Python39\\lib\\site-packages\\sklearn\\linear_model\\_ridge.py:216: LinAlgWarning: Ill-conditioned matrix (rcond=3.69743e-41): result may not be accurate.\n",
      "  return linalg.solve(A, Xy, assume_a=\"pos\", overwrite_a=True).T\n",
      "c:\\Python39\\lib\\site-packages\\sklearn\\linear_model\\_ridge.py:216: LinAlgWarning: Ill-conditioned matrix (rcond=3.69743e-41): result may not be accurate.\n",
      "  return linalg.solve(A, Xy, assume_a=\"pos\", overwrite_a=True).T\n",
      "c:\\Python39\\lib\\site-packages\\sklearn\\linear_model\\_ridge.py:216: LinAlgWarning: Ill-conditioned matrix (rcond=3.69743e-41): result may not be accurate.\n",
      "  return linalg.solve(A, Xy, assume_a=\"pos\", overwrite_a=True).T\n",
      "c:\\Python39\\lib\\site-packages\\sklearn\\linear_model\\_ridge.py:216: LinAlgWarning: Ill-conditioned matrix (rcond=3.69743e-41): result may not be accurate.\n",
      "  return linalg.solve(A, Xy, assume_a=\"pos\", overwrite_a=True).T\n"
     ]
    },
    {
     "data": {
      "text/html": [
       "<div>\n",
       "<style scoped>\n",
       "    .dataframe tbody tr th:only-of-type {\n",
       "        vertical-align: middle;\n",
       "    }\n",
       "\n",
       "    .dataframe tbody tr th {\n",
       "        vertical-align: top;\n",
       "    }\n",
       "\n",
       "    .dataframe thead th {\n",
       "        text-align: right;\n",
       "    }\n",
       "</style>\n",
       "<table border=\"1\" class=\"dataframe\">\n",
       "  <thead>\n",
       "    <tr style=\"text-align: right;\">\n",
       "      <th></th>\n",
       "      <th>model</th>\n",
       "      <th>target1</th>\n",
       "      <th>target2</th>\n",
       "      <th>target3</th>\n",
       "      <th>target4</th>\n",
       "      <th>average</th>\n",
       "    </tr>\n",
       "  </thead>\n",
       "  <tbody>\n",
       "    <tr>\n",
       "      <th>1</th>\n",
       "      <td>Ridge | MultiOutput</td>\n",
       "      <td>0.784643</td>\n",
       "      <td>1.331393</td>\n",
       "      <td>0.729669</td>\n",
       "      <td>0.756929</td>\n",
       "      <td>0.900659</td>\n",
       "    </tr>\n",
       "  </tbody>\n",
       "</table>\n",
       "</div>"
      ],
      "text/plain": [
       "                 model   target1   target2   target3   target4   average\n",
       "1  Ridge | MultiOutput  0.784643  1.331393  0.729669  0.756929  0.900659"
      ]
     },
     "execution_count": 12,
     "metadata": {},
     "output_type": "execute_result"
    }
   ],
   "source": [
    "from sklearn.linear_model import Ridge\n",
    "\n",
    "# defines the model and create the multioutput regressor\n",
    "model = Ridge(alpha=0.1, random_state=RANDOM_SEED)\n",
    "model_name = 'Ridge | MultiOutput'\n",
    "regressor = MultiOutputRegressor(model)\n",
    "\n",
    "# fit the model\n",
    "regressor.fit(train.drop(columns=TARGET_COLS), train[TARGET_COLS])\n",
    "\n",
    "# make predictions\n",
    "y_pred = pd.DataFrame(regressor.predict(test.drop(columns=TARGET_COLS)), columns=TARGET_COLS)\n",
    "\n",
    "# evaluate the model\n",
    "mae = evaluate_mae(test[TARGET_COLS], y_pred)\n",
    "\n",
    "# save the results\n",
    "df_results = df_results.append({'model': model_name, **mae}, ignore_index=True)\n",
    "df_results[df_results['model'] == model_name]"
   ]
  },
  {
   "attachments": {},
   "cell_type": "markdown",
   "metadata": {},
   "source": [
    "#### ElasticNet"
   ]
  },
  {
   "cell_type": "code",
   "execution_count": 13,
   "metadata": {},
   "outputs": [
    {
     "name": "stdout",
     "output_type": "stream",
     "text": [
      "CPU times: total: 7min 31s\n",
      "Wall time: 3min 38s\n"
     ]
    },
    {
     "data": {
      "text/html": [
       "<div>\n",
       "<style scoped>\n",
       "    .dataframe tbody tr th:only-of-type {\n",
       "        vertical-align: middle;\n",
       "    }\n",
       "\n",
       "    .dataframe tbody tr th {\n",
       "        vertical-align: top;\n",
       "    }\n",
       "\n",
       "    .dataframe thead th {\n",
       "        text-align: right;\n",
       "    }\n",
       "</style>\n",
       "<table border=\"1\" class=\"dataframe\">\n",
       "  <thead>\n",
       "    <tr style=\"text-align: right;\">\n",
       "      <th></th>\n",
       "      <th>model</th>\n",
       "      <th>target1</th>\n",
       "      <th>target2</th>\n",
       "      <th>target3</th>\n",
       "      <th>target4</th>\n",
       "      <th>average</th>\n",
       "    </tr>\n",
       "  </thead>\n",
       "  <tbody>\n",
       "    <tr>\n",
       "      <th>2</th>\n",
       "      <td>ElasticNet | MultiOutput</td>\n",
       "      <td>0.782295</td>\n",
       "      <td>1.34296</td>\n",
       "      <td>0.710303</td>\n",
       "      <td>0.747843</td>\n",
       "      <td>0.89585</td>\n",
       "    </tr>\n",
       "  </tbody>\n",
       "</table>\n",
       "</div>"
      ],
      "text/plain": [
       "                      model   target1  target2   target3   target4  average\n",
       "2  ElasticNet | MultiOutput  0.782295  1.34296  0.710303  0.747843  0.89585"
      ]
     },
     "execution_count": 13,
     "metadata": {},
     "output_type": "execute_result"
    }
   ],
   "source": [
    "%%time\n",
    "from sklearn.linear_model import ElasticNet\n",
    "\n",
    "# defines the model and create the multioutput regressor\n",
    "model = ElasticNet(alpha=0.1, random_state=RANDOM_SEED)\n",
    "model_name = 'ElasticNet | MultiOutput'\n",
    "regressor = MultiOutputRegressor(model)\n",
    "\n",
    "# fit the model\n",
    "regressor.fit(train.drop(columns=TARGET_COLS), train[TARGET_COLS])\n",
    "\n",
    "# make predictions\n",
    "y_pred = pd.DataFrame(regressor.predict(test.drop(columns=TARGET_COLS)), columns=TARGET_COLS)\n",
    "\n",
    "# evaluate the model\n",
    "mae = evaluate_mae(test[TARGET_COLS], y_pred)\n",
    "\n",
    "# save the results\n",
    "df_results = df_results.append({'model': model_name, **mae}, ignore_index=True)\n",
    "df_results[df_results['model'] == model_name]"
   ]
  },
  {
   "attachments": {},
   "cell_type": "markdown",
   "metadata": {},
   "source": [
    "### Tree Models"
   ]
  },
  {
   "cell_type": "code",
   "execution_count": 14,
   "metadata": {},
   "outputs": [
    {
     "name": "stdout",
     "output_type": "stream",
     "text": [
      "CPU times: total: 12min 10s\n",
      "Wall time: 16min 22s\n"
     ]
    },
    {
     "data": {
      "text/html": [
       "<div>\n",
       "<style scoped>\n",
       "    .dataframe tbody tr th:only-of-type {\n",
       "        vertical-align: middle;\n",
       "    }\n",
       "\n",
       "    .dataframe tbody tr th {\n",
       "        vertical-align: top;\n",
       "    }\n",
       "\n",
       "    .dataframe thead th {\n",
       "        text-align: right;\n",
       "    }\n",
       "</style>\n",
       "<table border=\"1\" class=\"dataframe\">\n",
       "  <thead>\n",
       "    <tr style=\"text-align: right;\">\n",
       "      <th></th>\n",
       "      <th>model</th>\n",
       "      <th>target1</th>\n",
       "      <th>target2</th>\n",
       "      <th>target3</th>\n",
       "      <th>target4</th>\n",
       "      <th>average</th>\n",
       "    </tr>\n",
       "  </thead>\n",
       "  <tbody>\n",
       "    <tr>\n",
       "      <th>3</th>\n",
       "      <td>DecisionTreeRegressor | MultiOutput</td>\n",
       "      <td>2.361119</td>\n",
       "      <td>2.124396</td>\n",
       "      <td>1.964909</td>\n",
       "      <td>1.574683</td>\n",
       "      <td>2.006277</td>\n",
       "    </tr>\n",
       "  </tbody>\n",
       "</table>\n",
       "</div>"
      ],
      "text/plain": [
       "                                 model   target1   target2   target3  \\\n",
       "3  DecisionTreeRegressor | MultiOutput  2.361119  2.124396  1.964909   \n",
       "\n",
       "    target4   average  \n",
       "3  1.574683  2.006277  "
      ]
     },
     "execution_count": 14,
     "metadata": {},
     "output_type": "execute_result"
    }
   ],
   "source": [
    "%%time\n",
    "from sklearn.tree import DecisionTreeRegressor\n",
    "\n",
    "# defines the model and create the multioutput regressor\n",
    "model = DecisionTreeRegressor(random_state=RANDOM_SEED)\n",
    "model_name = 'DecisionTreeRegressor | MultiOutput'\n",
    "regressor = MultiOutputRegressor(model)\n",
    "\n",
    "# fit the model\n",
    "regressor.fit(train.drop(columns=TARGET_COLS), train[TARGET_COLS])\n",
    "\n",
    "# make predictions\n",
    "y_pred = pd.DataFrame(regressor.predict(test.drop(columns=TARGET_COLS)), columns=TARGET_COLS)\n",
    "\n",
    "# evaluate the model\n",
    "mae = evaluate_mae(test[TARGET_COLS], y_pred)\n",
    "\n",
    "# save the results\n",
    "df_results = df_results.append({'model': model_name, **mae}, ignore_index=True)\n",
    "df_results[df_results['model'] == model_name]"
   ]
  },
  {
   "attachments": {},
   "cell_type": "markdown",
   "metadata": {},
   "source": [
    "#### Gradient Boosting"
   ]
  },
  {
   "cell_type": "code",
   "execution_count": 15,
   "metadata": {},
   "outputs": [
    {
     "name": "stdout",
     "output_type": "stream",
     "text": [
      "CPU times: total: 1h 46min 58s\n",
      "Wall time: 2h 6min 14s\n"
     ]
    },
    {
     "data": {
      "text/html": [
       "<div>\n",
       "<style scoped>\n",
       "    .dataframe tbody tr th:only-of-type {\n",
       "        vertical-align: middle;\n",
       "    }\n",
       "\n",
       "    .dataframe tbody tr th {\n",
       "        vertical-align: top;\n",
       "    }\n",
       "\n",
       "    .dataframe thead th {\n",
       "        text-align: right;\n",
       "    }\n",
       "</style>\n",
       "<table border=\"1\" class=\"dataframe\">\n",
       "  <thead>\n",
       "    <tr style=\"text-align: right;\">\n",
       "      <th></th>\n",
       "      <th>model</th>\n",
       "      <th>target1</th>\n",
       "      <th>target2</th>\n",
       "      <th>target3</th>\n",
       "      <th>target4</th>\n",
       "      <th>average</th>\n",
       "    </tr>\n",
       "  </thead>\n",
       "  <tbody>\n",
       "    <tr>\n",
       "      <th>4</th>\n",
       "      <td>GradientBoostingRegressor | MultiOutput</td>\n",
       "      <td>0.73111</td>\n",
       "      <td>1.066651</td>\n",
       "      <td>0.666981</td>\n",
       "      <td>0.726966</td>\n",
       "      <td>0.797927</td>\n",
       "    </tr>\n",
       "  </tbody>\n",
       "</table>\n",
       "</div>"
      ],
      "text/plain": [
       "                                     model  target1   target2   target3  \\\n",
       "4  GradientBoostingRegressor | MultiOutput  0.73111  1.066651  0.666981   \n",
       "\n",
       "    target4   average  \n",
       "4  0.726966  0.797927  "
      ]
     },
     "execution_count": 15,
     "metadata": {},
     "output_type": "execute_result"
    }
   ],
   "source": [
    "%%time\n",
    "from sklearn.ensemble import GradientBoostingRegressor\n",
    "\n",
    "# defines the model and create the multioutput regressor\n",
    "model = GradientBoostingRegressor(random_state=RANDOM_SEED)\n",
    "model_name = 'GradientBoostingRegressor | MultiOutput'\n",
    "regressor = MultiOutputRegressor(model)\n",
    "\n",
    "# fit the model\n",
    "regressor.fit(train.drop(columns=TARGET_COLS), train[TARGET_COLS])\n",
    "\n",
    "# make predictions\n",
    "y_pred = pd.DataFrame(regressor.predict(test.drop(columns=TARGET_COLS)), columns=TARGET_COLS)\n",
    "\n",
    "# evaluate the model\n",
    "mae = evaluate_mae(test[TARGET_COLS], y_pred)\n",
    "\n",
    "# save the results\n",
    "df_results = df_results.append({'model': model_name, **mae}, ignore_index=True)\n",
    "df_results[df_results['model'] == model_name]"
   ]
  },
  {
   "attachments": {},
   "cell_type": "markdown",
   "metadata": {},
   "source": [
    "## Resultados"
   ]
  },
  {
   "cell_type": "code",
   "execution_count": 16,
   "metadata": {},
   "outputs": [
    {
     "data": {
      "text/html": [
       "<div>\n",
       "<style scoped>\n",
       "    .dataframe tbody tr th:only-of-type {\n",
       "        vertical-align: middle;\n",
       "    }\n",
       "\n",
       "    .dataframe tbody tr th {\n",
       "        vertical-align: top;\n",
       "    }\n",
       "\n",
       "    .dataframe thead th {\n",
       "        text-align: right;\n",
       "    }\n",
       "</style>\n",
       "<table border=\"1\" class=\"dataframe\">\n",
       "  <thead>\n",
       "    <tr style=\"text-align: right;\">\n",
       "      <th></th>\n",
       "      <th>model</th>\n",
       "      <th>target1</th>\n",
       "      <th>target2</th>\n",
       "      <th>target3</th>\n",
       "      <th>target4</th>\n",
       "      <th>average</th>\n",
       "    </tr>\n",
       "  </thead>\n",
       "  <tbody>\n",
       "    <tr>\n",
       "      <th>0</th>\n",
       "      <td>Lasso | MultiOutput</td>\n",
       "      <td>0.780746</td>\n",
       "      <td>1.344433</td>\n",
       "      <td>0.703082</td>\n",
       "      <td>0.746220</td>\n",
       "      <td>0.893620</td>\n",
       "    </tr>\n",
       "    <tr>\n",
       "      <th>1</th>\n",
       "      <td>Ridge | MultiOutput</td>\n",
       "      <td>0.784643</td>\n",
       "      <td>1.331393</td>\n",
       "      <td>0.729669</td>\n",
       "      <td>0.756929</td>\n",
       "      <td>0.900659</td>\n",
       "    </tr>\n",
       "    <tr>\n",
       "      <th>2</th>\n",
       "      <td>ElasticNet | MultiOutput</td>\n",
       "      <td>0.782295</td>\n",
       "      <td>1.342960</td>\n",
       "      <td>0.710303</td>\n",
       "      <td>0.747843</td>\n",
       "      <td>0.895850</td>\n",
       "    </tr>\n",
       "    <tr>\n",
       "      <th>3</th>\n",
       "      <td>DecisionTreeRegressor | MultiOutput</td>\n",
       "      <td>2.361119</td>\n",
       "      <td>2.124396</td>\n",
       "      <td>1.964909</td>\n",
       "      <td>1.574683</td>\n",
       "      <td>2.006277</td>\n",
       "    </tr>\n",
       "    <tr>\n",
       "      <th>4</th>\n",
       "      <td>GradientBoostingRegressor | MultiOutput</td>\n",
       "      <td>0.731110</td>\n",
       "      <td>1.066651</td>\n",
       "      <td>0.666981</td>\n",
       "      <td>0.726966</td>\n",
       "      <td>0.797927</td>\n",
       "    </tr>\n",
       "  </tbody>\n",
       "</table>\n",
       "</div>"
      ],
      "text/plain": [
       "                                     model   target1   target2   target3  \\\n",
       "0                      Lasso | MultiOutput  0.780746  1.344433  0.703082   \n",
       "1                      Ridge | MultiOutput  0.784643  1.331393  0.729669   \n",
       "2                 ElasticNet | MultiOutput  0.782295  1.342960  0.710303   \n",
       "3      DecisionTreeRegressor | MultiOutput  2.361119  2.124396  1.964909   \n",
       "4  GradientBoostingRegressor | MultiOutput  0.731110  1.066651  0.666981   \n",
       "\n",
       "    target4   average  \n",
       "0  0.746220  0.893620  \n",
       "1  0.756929  0.900659  \n",
       "2  0.747843  0.895850  \n",
       "3  1.574683  2.006277  \n",
       "4  0.726966  0.797927  "
      ]
     },
     "execution_count": 16,
     "metadata": {},
     "output_type": "execute_result"
    }
   ],
   "source": [
    "df_results"
   ]
  },
  {
   "cell_type": "code",
   "execution_count": null,
   "metadata": {},
   "outputs": [],
   "source": []
  }
 ],
 "metadata": {
  "kernelspec": {
   "display_name": "Python 3",
   "language": "python",
   "name": "python3"
  },
  "language_info": {
   "codemirror_mode": {
    "name": "ipython",
    "version": 3
   },
   "file_extension": ".py",
   "mimetype": "text/x-python",
   "name": "python",
   "nbconvert_exporter": "python",
   "pygments_lexer": "ipython3",
   "version": "3.9.5"
  },
  "orig_nbformat": 4
 },
 "nbformat": 4,
 "nbformat_minor": 2
}

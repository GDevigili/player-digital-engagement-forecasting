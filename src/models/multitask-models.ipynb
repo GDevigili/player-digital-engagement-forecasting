{
 "cells": [
  {
   "attachments": {},
   "cell_type": "markdown",
   "metadata": {},
   "source": [
    "# Multitask Models\n",
    "\n",
    "Testa modelos de multitasking"
   ]
  },
  {
   "attachments": {},
   "cell_type": "markdown",
   "metadata": {},
   "source": [
    "## Configuração de Ambiente"
   ]
  },
  {
   "cell_type": "code",
   "execution_count": 1,
   "metadata": {},
   "outputs": [],
   "source": [
    "# Variáveis de Configuração\n",
    "\n",
    "# Caminhos de arquivo\n",
    "raw_data_path = '../data/raw-data/'                 # dados não processados\n",
    "raw_dataset_path = raw_data_path + 'train_updated.csv'\n",
    "processed_data_path = '../data/processed-data/'     # dados processados\n",
    "processed_dataset_path = processed_data_path + 'train.pkl' \n",
    "model_path = '../models/trained-models/'"
   ]
  },
  {
   "cell_type": "code",
   "execution_count": 2,
   "metadata": {},
   "outputs": [],
   "source": [
    "# Imports\n",
    "\n",
    "# Data manipulation\n",
    "import pandas as pd\n",
    "import numpy as np\n",
    "\n",
    "import pickle as pkl\n",
    "\n",
    "from joblib import Parallel, delayed\n",
    "\n",
    "from models import *\n",
    "\n",
    "# disable warnings\n",
    "import warnings\n",
    "warnings.filterwarnings(\"ignore\", category=DeprecationWarning)\n",
    "warnings.filterwarnings(\"ignore\", category=FutureWarning)\n",
    "pd.options.mode.chained_assignment = None  # default='warn'"
   ]
  },
  {
   "cell_type": "code",
   "execution_count": 3,
   "metadata": {},
   "outputs": [],
   "source": [
    "# Variáveis/Constantes Globais\n",
    "TARGET_COLS = ['target1', 'target2', 'target3', 'target4']\n",
    "\n",
    "RANDOM_SEED = 42\n",
    "\n",
    "TEST_SPLIT_DATE = '2021-04-30'"
   ]
  },
  {
   "cell_type": "code",
   "execution_count": 4,
   "metadata": {},
   "outputs": [
    {
     "name": "stdout",
     "output_type": "stream",
     "text": [
      "<class 'pandas.core.frame.DataFrame'>\n",
      "Int64Index: 2684030 entries, 7 to 2698456\n",
      "Data columns (total 88 columns):\n",
      " #   Column                    Dtype         \n",
      "---  ------                    -----         \n",
      " 0   Dt                        datetime64[ns]\n",
      " 1   IdPlayer                  int32         \n",
      " 2   target1                   float16       \n",
      " 3   target2                   float16       \n",
      " 4   target3                   float16       \n",
      " 5   target4                   float16       \n",
      " 6   target1_shift_1           float16       \n",
      " 7   target2_shift_1           float16       \n",
      " 8   target3_shift_1           float16       \n",
      " 9   target4_shift_1           float16       \n",
      " 10  target1_shift_2           float16       \n",
      " 11  target2_shift_2           float16       \n",
      " 12  target3_shift_2           float16       \n",
      " 13  target4_shift_2           float16       \n",
      " 14  target1_shift_3           float16       \n",
      " 15  target2_shift_3           float16       \n",
      " 16  target3_shift_3           float16       \n",
      " 17  target4_shift_3           float16       \n",
      " 18  target1_shift_4           float16       \n",
      " 19  target2_shift_4           float16       \n",
      " 20  target3_shift_4           float16       \n",
      " 21  target4_shift_4           float16       \n",
      " 22  target1_shift_5           float16       \n",
      " 23  target2_shift_5           float16       \n",
      " 24  target3_shift_5           float16       \n",
      " 25  target4_shift_5           float16       \n",
      " 26  target1_shift_6           float16       \n",
      " 27  target2_shift_6           float16       \n",
      " 28  target3_shift_6           float16       \n",
      " 29  target4_shift_6           float16       \n",
      " 30  target1_shift_7           float16       \n",
      " 31  target2_shift_7           float16       \n",
      " 32  target3_shift_7           float16       \n",
      " 33  target4_shift_7           float16       \n",
      " 34  DtYear                    int16         \n",
      " 35  DtMonth                   int8          \n",
      " 36  DtDay                     int8          \n",
      " 37  DtDayOfWeek               int8          \n",
      " 38  DtDayOfYear               int16         \n",
      " 39  DtQuarter                 int8          \n",
      " 40  NuStrikeOutsPitching      float16       \n",
      " 41  NuBattingOrder            float16       \n",
      " 42  NuGamesPlayedBatting      float16       \n",
      " 43  NuFlyOuts                 float16       \n",
      " 44  NuGroundOuts              float16       \n",
      " 45  NuRunsScored              float16       \n",
      " 46  NuDoubles                 float16       \n",
      " 47  NuTriples                 float16       \n",
      " 48  NuHomeRuns                float16       \n",
      " 49  NuStrikeOuts              float16       \n",
      " 50  NuBaseOnBalls             float16       \n",
      " 51  NuIntentionalWalks        float16       \n",
      " 52  NuHits                    float16       \n",
      " 53  NuHitByPitch              float16       \n",
      " 54  NuAtBats                  float16       \n",
      " 55  NuCaughtStealing          float16       \n",
      " 56  NuStolenBases             float16       \n",
      " 57  NuGroundIntoDoublePlay    float16       \n",
      " 58  NuGroundIntoTriplePlay    float16       \n",
      " 59  NuPlateAppearances        float16       \n",
      " 60  NuTotalBases              float16       \n",
      " 61  NuRbi                     float16       \n",
      " 62  NuLeftOnBase              float16       \n",
      " 63  NuSacBunts                float16       \n",
      " 64  NuSacFlies                float16       \n",
      " 65  NuCatchersInterference    float16       \n",
      " 66  NuPickoffs                float16       \n",
      " 67  NuInningsPitched          float16       \n",
      " 68  NuSaveOpportunities       float16       \n",
      " 69  NuEarnedRuns              float16       \n",
      " 70  NuBattersFaced            float16       \n",
      " 71  NuPitchesThrown           float16       \n",
      " 72  NuBalls                   float16       \n",
      " 73  NuStrikes                 float16       \n",
      " 74  NuHitBatsmen              float16       \n",
      " 75  NuBalks                   float16       \n",
      " 76  NuWildPitches             float16       \n",
      " 77  NuInheritedRunners        float16       \n",
      " 78  NuInheritedRunnersScored  float16       \n",
      " 79  NuSaves                   float16       \n",
      " 80  NuHolds                   float16       \n",
      " 81  NuBlownSaves              float16       \n",
      " 82  NuAssists                 float16       \n",
      " 83  NuPutOuts                 float16       \n",
      " 84  NuErrors                  float16       \n",
      " 85  NuChances                 float16       \n",
      " 86  DtHour                    float16       \n",
      " 87  DtMinute                  float16       \n",
      "dtypes: datetime64[ns](1), float16(80), int16(2), int32(1), int8(4)\n",
      "memory usage: 481.2 MB\n"
     ]
    },
    {
     "data": {
      "text/html": [
       "<div>\n",
       "<style scoped>\n",
       "    .dataframe tbody tr th:only-of-type {\n",
       "        vertical-align: middle;\n",
       "    }\n",
       "\n",
       "    .dataframe tbody tr th {\n",
       "        vertical-align: top;\n",
       "    }\n",
       "\n",
       "    .dataframe thead th {\n",
       "        text-align: right;\n",
       "    }\n",
       "</style>\n",
       "<table border=\"1\" class=\"dataframe\">\n",
       "  <thead>\n",
       "    <tr style=\"text-align: right;\">\n",
       "      <th></th>\n",
       "      <th>Dt</th>\n",
       "      <th>IdPlayer</th>\n",
       "      <th>target1</th>\n",
       "      <th>target2</th>\n",
       "      <th>target3</th>\n",
       "      <th>target4</th>\n",
       "      <th>target1_shift_1</th>\n",
       "      <th>target2_shift_1</th>\n",
       "      <th>target3_shift_1</th>\n",
       "      <th>target4_shift_1</th>\n",
       "      <th>...</th>\n",
       "      <th>NuInheritedRunnersScored</th>\n",
       "      <th>NuSaves</th>\n",
       "      <th>NuHolds</th>\n",
       "      <th>NuBlownSaves</th>\n",
       "      <th>NuAssists</th>\n",
       "      <th>NuPutOuts</th>\n",
       "      <th>NuErrors</th>\n",
       "      <th>NuChances</th>\n",
       "      <th>DtHour</th>\n",
       "      <th>DtMinute</th>\n",
       "    </tr>\n",
       "  </thead>\n",
       "  <tbody>\n",
       "    <tr>\n",
       "      <th>7</th>\n",
       "      <td>2018-01-08</td>\n",
       "      <td>112526</td>\n",
       "      <td>0.032349</td>\n",
       "      <td>4.394531</td>\n",
       "      <td>0.039185</td>\n",
       "      <td>17.625000</td>\n",
       "      <td>0.014557</td>\n",
       "      <td>4.714844</td>\n",
       "      <td>0.026337</td>\n",
       "      <td>16.171875</td>\n",
       "      <td>...</td>\n",
       "      <td>0.0</td>\n",
       "      <td>0.0</td>\n",
       "      <td>0.0</td>\n",
       "      <td>0.0</td>\n",
       "      <td>0.0</td>\n",
       "      <td>0.0</td>\n",
       "      <td>0.0</td>\n",
       "      <td>0.0</td>\n",
       "      <td>0.0</td>\n",
       "      <td>0.0</td>\n",
       "    </tr>\n",
       "    <tr>\n",
       "      <th>8</th>\n",
       "      <td>2018-01-09</td>\n",
       "      <td>112526</td>\n",
       "      <td>0.016098</td>\n",
       "      <td>1.791016</td>\n",
       "      <td>0.055420</td>\n",
       "      <td>4.628906</td>\n",
       "      <td>0.032349</td>\n",
       "      <td>4.394531</td>\n",
       "      <td>0.039185</td>\n",
       "      <td>17.625000</td>\n",
       "      <td>...</td>\n",
       "      <td>0.0</td>\n",
       "      <td>0.0</td>\n",
       "      <td>0.0</td>\n",
       "      <td>0.0</td>\n",
       "      <td>0.0</td>\n",
       "      <td>0.0</td>\n",
       "      <td>0.0</td>\n",
       "      <td>0.0</td>\n",
       "      <td>0.0</td>\n",
       "      <td>0.0</td>\n",
       "    </tr>\n",
       "    <tr>\n",
       "      <th>9</th>\n",
       "      <td>2018-01-10</td>\n",
       "      <td>112526</td>\n",
       "      <td>0.075623</td>\n",
       "      <td>1.867188</td>\n",
       "      <td>0.023239</td>\n",
       "      <td>8.507812</td>\n",
       "      <td>0.016098</td>\n",
       "      <td>1.791016</td>\n",
       "      <td>0.055420</td>\n",
       "      <td>4.628906</td>\n",
       "      <td>...</td>\n",
       "      <td>0.0</td>\n",
       "      <td>0.0</td>\n",
       "      <td>0.0</td>\n",
       "      <td>0.0</td>\n",
       "      <td>0.0</td>\n",
       "      <td>0.0</td>\n",
       "      <td>0.0</td>\n",
       "      <td>0.0</td>\n",
       "      <td>0.0</td>\n",
       "      <td>0.0</td>\n",
       "    </tr>\n",
       "    <tr>\n",
       "      <th>10</th>\n",
       "      <td>2018-01-11</td>\n",
       "      <td>112526</td>\n",
       "      <td>0.035004</td>\n",
       "      <td>2.285156</td>\n",
       "      <td>0.020096</td>\n",
       "      <td>7.941406</td>\n",
       "      <td>0.075623</td>\n",
       "      <td>1.867188</td>\n",
       "      <td>0.023239</td>\n",
       "      <td>8.507812</td>\n",
       "      <td>...</td>\n",
       "      <td>0.0</td>\n",
       "      <td>0.0</td>\n",
       "      <td>0.0</td>\n",
       "      <td>0.0</td>\n",
       "      <td>0.0</td>\n",
       "      <td>0.0</td>\n",
       "      <td>0.0</td>\n",
       "      <td>0.0</td>\n",
       "      <td>0.0</td>\n",
       "      <td>0.0</td>\n",
       "    </tr>\n",
       "    <tr>\n",
       "      <th>11</th>\n",
       "      <td>2018-01-12</td>\n",
       "      <td>112526</td>\n",
       "      <td>0.018204</td>\n",
       "      <td>0.624023</td>\n",
       "      <td>0.007935</td>\n",
       "      <td>4.925781</td>\n",
       "      <td>0.035004</td>\n",
       "      <td>2.285156</td>\n",
       "      <td>0.020096</td>\n",
       "      <td>7.941406</td>\n",
       "      <td>...</td>\n",
       "      <td>0.0</td>\n",
       "      <td>0.0</td>\n",
       "      <td>0.0</td>\n",
       "      <td>0.0</td>\n",
       "      <td>0.0</td>\n",
       "      <td>0.0</td>\n",
       "      <td>0.0</td>\n",
       "      <td>0.0</td>\n",
       "      <td>0.0</td>\n",
       "      <td>0.0</td>\n",
       "    </tr>\n",
       "  </tbody>\n",
       "</table>\n",
       "<p>5 rows × 88 columns</p>\n",
       "</div>"
      ],
      "text/plain": [
       "           Dt  IdPlayer   target1   target2   target3    target4  \\\n",
       "7  2018-01-08    112526  0.032349  4.394531  0.039185  17.625000   \n",
       "8  2018-01-09    112526  0.016098  1.791016  0.055420   4.628906   \n",
       "9  2018-01-10    112526  0.075623  1.867188  0.023239   8.507812   \n",
       "10 2018-01-11    112526  0.035004  2.285156  0.020096   7.941406   \n",
       "11 2018-01-12    112526  0.018204  0.624023  0.007935   4.925781   \n",
       "\n",
       "    target1_shift_1  target2_shift_1  target3_shift_1  target4_shift_1  ...  \\\n",
       "7          0.014557         4.714844         0.026337        16.171875  ...   \n",
       "8          0.032349         4.394531         0.039185        17.625000  ...   \n",
       "9          0.016098         1.791016         0.055420         4.628906  ...   \n",
       "10         0.075623         1.867188         0.023239         8.507812  ...   \n",
       "11         0.035004         2.285156         0.020096         7.941406  ...   \n",
       "\n",
       "    NuInheritedRunnersScored  NuSaves  NuHolds  NuBlownSaves  NuAssists  \\\n",
       "7                        0.0      0.0      0.0           0.0        0.0   \n",
       "8                        0.0      0.0      0.0           0.0        0.0   \n",
       "9                        0.0      0.0      0.0           0.0        0.0   \n",
       "10                       0.0      0.0      0.0           0.0        0.0   \n",
       "11                       0.0      0.0      0.0           0.0        0.0   \n",
       "\n",
       "    NuPutOuts  NuErrors  NuChances  DtHour  DtMinute  \n",
       "7         0.0       0.0        0.0     0.0       0.0  \n",
       "8         0.0       0.0        0.0     0.0       0.0  \n",
       "9         0.0       0.0        0.0     0.0       0.0  \n",
       "10        0.0       0.0        0.0     0.0       0.0  \n",
       "11        0.0       0.0        0.0     0.0       0.0  \n",
       "\n",
       "[5 rows x 88 columns]"
      ]
     },
     "execution_count": 4,
     "metadata": {},
     "output_type": "execute_result"
    }
   ],
   "source": [
    "# Carregando o dataframe\n",
    "df_train = pd.read_pickle(processed_dataset_path)\n",
    "df_train.info()\n",
    "df_train.head()"
   ]
  },
  {
   "attachments": {},
   "cell_type": "markdown",
   "metadata": {},
   "source": [
    "## Preparação dos Dados\n",
    "\n",
    "Manter no notebook apenas a preparação pontual dos dados para a aplicação em modelos, toda preparação permanente deve ser adicionada em `/src/data-engineering/data-engineering.ipynb` e então salvo o dataset processado em `/src/data/processed-data/`."
   ]
  },
  {
   "attachments": {},
   "cell_type": "markdown",
   "metadata": {},
   "source": [
    "### Funções Auxiliares\n",
    "\n",
    "Apenas manter aqui funções que serão utilizadas pontualmente no notebook, em caso de funções que serão usadas em outros notebooks, deve-se transferir as mesmas para um arquivo `.py` separado e importar as funções para o notebook."
   ]
  },
  {
   "cell_type": "code",
   "execution_count": 5,
   "metadata": {},
   "outputs": [],
   "source": [
    "# Funções Auxiliares\n",
    "\n",
    "# Imports\n",
    "from data_preparation import *\n",
    "\n",
    "# Funções Auxiliares\n"
   ]
  },
  {
   "attachments": {},
   "cell_type": "markdown",
   "metadata": {},
   "source": [
    "### Preparação"
   ]
  },
  {
   "cell_type": "code",
   "execution_count": null,
   "metadata": {},
   "outputs": [],
   "source": []
  },
  {
   "attachments": {},
   "cell_type": "markdown",
   "metadata": {},
   "source": [
    "### Train Test Split"
   ]
  },
  {
   "cell_type": "code",
   "execution_count": 6,
   "metadata": {},
   "outputs": [],
   "source": [
    "train, test, val = train_test_split(df_train)"
   ]
  },
  {
   "cell_type": "code",
   "execution_count": 7,
   "metadata": {},
   "outputs": [],
   "source": [
    "train['Dt'] = pd.to_numeric(pd.to_datetime(train['Dt']))\n",
    "test['Dt']= pd.to_numeric(pd.to_datetime(test['Dt']))\n",
    "val['Dt'] = pd.to_numeric(pd.to_datetime(val['Dt']))"
   ]
  },
  {
   "attachments": {},
   "cell_type": "markdown",
   "metadata": {},
   "source": [
    "## Treinando Modelos"
   ]
  },
  {
   "cell_type": "code",
   "execution_count": 8,
   "metadata": {},
   "outputs": [],
   "source": [
    "from sklearn.metrics import mean_absolute_error as mae\n",
    "from sklearn.multioutput import MultiOutputRegressor\n",
    "\n",
    "df_results = pd.DataFrame(columns = ['model', 'target1', 'target2', 'target3', 'target4', 'average'])"
   ]
  },
  {
   "attachments": {},
   "cell_type": "markdown",
   "metadata": {},
   "source": [
    "### Baselines"
   ]
  },
  {
   "cell_type": "code",
   "execution_count": 9,
   "metadata": {},
   "outputs": [
    {
     "name": "stderr",
     "output_type": "stream",
     "text": [
      "c:\\Users\\gianlucca.devigili\\AppData\\Local\\Programs\\Python\\Python311\\Lib\\site-packages\\pandas\\core\\nanops.py:1450: RuntimeWarning: overflow encountered in cast\n",
      "  return count.astype(dtype, copy=False)\n",
      "c:\\Users\\gianlucca.devigili\\AppData\\Local\\Programs\\Python\\Python311\\Lib\\site-packages\\numpy\\core\\_methods.py:49: RuntimeWarning: overflow encountered in reduce\n",
      "  return umr_sum(a, axis, dtype, out, keepdims, initial, where)\n"
     ]
    }
   ],
   "source": [
    "# naive\n",
    "naive = train[train['Dt']=='2021-04-30'].set_index('IdPlayer')[TARGET_COLS]\n",
    "\n",
    "# media\n",
    "media = train[TARGET_COLS].mean()\n",
    "media_por_jogador = train.groupby('IdPlayer')[TARGET_COLS].mean()\n",
    "\n",
    "# mediana\n",
    "mediana = train[TARGET_COLS].median()\n",
    "mediana_por_jogador = train.groupby('IdPlayer')[TARGET_COLS].median()"
   ]
  },
  {
   "cell_type": "code",
   "execution_count": 10,
   "metadata": {},
   "outputs": [],
   "source": [
    "# summary = pd.DataFrame()\n",
    "\n",
    "# for target in TARGET_COLS:\n",
    "    \n",
    "#     y_true = test[target]\n",
    "    \n",
    "#     mediapj_pred = test['IdPlayer'].map(media_por_jogador[target].to_dict())\n",
    "#     medianapj_pred = test['IdPlayer'].map(mediana_por_jogador[target].to_dict())\n",
    "#     naive_pred = test['IdPlayer'].map(naive[target].to_dict())\n",
    "    \n",
    "#     mediana_pred = [mediana[target] for i in test.index]\n",
    "#     media_pred = [media[target] for i in test.index]\n",
    "    \n",
    "\n",
    "#     summary.loc['Média',target]  = mean_absolute_error(y_true,media_pred)\n",
    "#     summary.loc['Média por Jogador',target]  = mean_absolute_error(y_true,mediapj_pred)\n",
    "#     summary.loc['Mediana',target]  = mean_absolute_error(y_true,mediana_pred)\n",
    "#     summary.loc['Mediana por Jogador',target]  = mean_absolute_error(y_true,medianapj_pred)\n",
    "#     summary.loc['Naive',target]  = mean_absolute_error(y_true,naive_pred)\n",
    "    \n",
    "# summary['average'] = summary.mean(axis=1)\n",
    "\n",
    "# summary = summary.reset_index()\n",
    "# summary = summary.rename(columns = {\"index\": \"model\"})\n",
    "# df_results = df_results.append(summary, ignore_index = True)\n",
    "# df_results"
   ]
  },
  {
   "attachments": {},
   "cell_type": "markdown",
   "metadata": {},
   "source": [
    "### Modelos Lineares"
   ]
  },
  {
   "attachments": {},
   "cell_type": "markdown",
   "metadata": {},
   "source": [
    "#### LASSO"
   ]
  },
  {
   "cell_type": "code",
   "execution_count": 11,
   "metadata": {},
   "outputs": [
    {
     "name": "stderr",
     "output_type": "stream",
     "text": [
      "c:\\Users\\gianlucca.devigili\\AppData\\Local\\Programs\\Python\\Python311\\Lib\\site-packages\\sklearn\\linear_model\\_coordinate_descent.py:631: ConvergenceWarning: Objective did not converge. You might want to increase the number of iterations, check the scale of the features or consider increasing regularisation. Duality gap: 1.115e+07, tolerance: 4.014e+03\n",
      "  model = cd_fast.enet_coordinate_descent(\n"
     ]
    },
    {
     "name": "stdout",
     "output_type": "stream",
     "text": [
      "CPU times: total: 13min 15s\n",
      "Wall time: 4min 42s\n"
     ]
    },
    {
     "data": {
      "text/html": [
       "<div>\n",
       "<style scoped>\n",
       "    .dataframe tbody tr th:only-of-type {\n",
       "        vertical-align: middle;\n",
       "    }\n",
       "\n",
       "    .dataframe tbody tr th {\n",
       "        vertical-align: top;\n",
       "    }\n",
       "\n",
       "    .dataframe thead th {\n",
       "        text-align: right;\n",
       "    }\n",
       "</style>\n",
       "<table border=\"1\" class=\"dataframe\">\n",
       "  <thead>\n",
       "    <tr style=\"text-align: right;\">\n",
       "      <th></th>\n",
       "      <th>model</th>\n",
       "      <th>target1</th>\n",
       "      <th>target2</th>\n",
       "      <th>target3</th>\n",
       "      <th>target4</th>\n",
       "      <th>average</th>\n",
       "    </tr>\n",
       "  </thead>\n",
       "  <tbody>\n",
       "    <tr>\n",
       "      <th>0</th>\n",
       "      <td>Lasso | MultiOutput</td>\n",
       "      <td>0.786738</td>\n",
       "      <td>1.367479</td>\n",
       "      <td>0.706509</td>\n",
       "      <td>0.745432</td>\n",
       "      <td>0.901539</td>\n",
       "    </tr>\n",
       "  </tbody>\n",
       "</table>\n",
       "</div>"
      ],
      "text/plain": [
       "                 model   target1   target2   target3   target4   average\n",
       "0  Lasso | MultiOutput  0.786738  1.367479  0.706509  0.745432  0.901539"
      ]
     },
     "execution_count": 11,
     "metadata": {},
     "output_type": "execute_result"
    }
   ],
   "source": [
    "%%time\n",
    "from sklearn.linear_model import Lasso\n",
    "\n",
    "# defines the model and create the multioutput regressor\n",
    "model = Lasso(alpha=0.1, random_state=RANDOM_SEED)\n",
    "model_name = 'Lasso | MultiOutput'\n",
    "regressor = MultiOutputRegressor(model)\n",
    "\n",
    "# fit the model\n",
    "regressor.fit(train.drop(columns=TARGET_COLS), train[TARGET_COLS])\n",
    "\n",
    "# make predictions\n",
    "y_pred = pd.DataFrame(regressor.predict(test.drop(columns=TARGET_COLS)), columns=TARGET_COLS)\n",
    "\n",
    "# evaluate the model\n",
    "mae = evaluate_mae(test[TARGET_COLS], y_pred)\n",
    "\n",
    "# save the results\n",
    "df_results = df_results.append({'model': model_name, **mae}, ignore_index=True)\n",
    "df_results[df_results['model'] == model_name]"
   ]
  },
  {
   "attachments": {},
   "cell_type": "markdown",
   "metadata": {},
   "source": [
    "#### Ridge"
   ]
  },
  {
   "cell_type": "code",
   "execution_count": 12,
   "metadata": {},
   "outputs": [
    {
     "name": "stderr",
     "output_type": "stream",
     "text": [
      "c:\\Users\\gianlucca.devigili\\AppData\\Local\\Programs\\Python\\Python311\\Lib\\site-packages\\sklearn\\linear_model\\_ridge.py:216: LinAlgWarning: Ill-conditioned matrix (rcond=3.69742e-41): result may not be accurate.\n",
      "  return linalg.solve(A, Xy, assume_a=\"pos\", overwrite_a=True).T\n",
      "c:\\Users\\gianlucca.devigili\\AppData\\Local\\Programs\\Python\\Python311\\Lib\\site-packages\\sklearn\\linear_model\\_ridge.py:216: LinAlgWarning: Ill-conditioned matrix (rcond=3.69742e-41): result may not be accurate.\n",
      "  return linalg.solve(A, Xy, assume_a=\"pos\", overwrite_a=True).T\n",
      "c:\\Users\\gianlucca.devigili\\AppData\\Local\\Programs\\Python\\Python311\\Lib\\site-packages\\sklearn\\linear_model\\_ridge.py:216: LinAlgWarning: Ill-conditioned matrix (rcond=3.69742e-41): result may not be accurate.\n",
      "  return linalg.solve(A, Xy, assume_a=\"pos\", overwrite_a=True).T\n",
      "c:\\Users\\gianlucca.devigili\\AppData\\Local\\Programs\\Python\\Python311\\Lib\\site-packages\\sklearn\\linear_model\\_ridge.py:216: LinAlgWarning: Ill-conditioned matrix (rcond=3.69742e-41): result may not be accurate.\n",
      "  return linalg.solve(A, Xy, assume_a=\"pos\", overwrite_a=True).T\n"
     ]
    },
    {
     "data": {
      "text/html": [
       "<div>\n",
       "<style scoped>\n",
       "    .dataframe tbody tr th:only-of-type {\n",
       "        vertical-align: middle;\n",
       "    }\n",
       "\n",
       "    .dataframe tbody tr th {\n",
       "        vertical-align: top;\n",
       "    }\n",
       "\n",
       "    .dataframe thead th {\n",
       "        text-align: right;\n",
       "    }\n",
       "</style>\n",
       "<table border=\"1\" class=\"dataframe\">\n",
       "  <thead>\n",
       "    <tr style=\"text-align: right;\">\n",
       "      <th></th>\n",
       "      <th>model</th>\n",
       "      <th>target1</th>\n",
       "      <th>target2</th>\n",
       "      <th>target3</th>\n",
       "      <th>target4</th>\n",
       "      <th>average</th>\n",
       "    </tr>\n",
       "  </thead>\n",
       "  <tbody>\n",
       "    <tr>\n",
       "      <th>1</th>\n",
       "      <td>Ridge | MultiOutput</td>\n",
       "      <td>0.789278</td>\n",
       "      <td>1.292713</td>\n",
       "      <td>0.737686</td>\n",
       "      <td>0.760436</td>\n",
       "      <td>0.895028</td>\n",
       "    </tr>\n",
       "  </tbody>\n",
       "</table>\n",
       "</div>"
      ],
      "text/plain": [
       "                 model   target1   target2   target3   target4   average\n",
       "1  Ridge | MultiOutput  0.789278  1.292713  0.737686  0.760436  0.895028"
      ]
     },
     "execution_count": 12,
     "metadata": {},
     "output_type": "execute_result"
    }
   ],
   "source": [
    "from sklearn.linear_model import Ridge\n",
    "\n",
    "# defines the model and create the multioutput regressor\n",
    "model = Ridge(alpha=0.1, random_state=RANDOM_SEED)\n",
    "model_name = 'Ridge | MultiOutput'\n",
    "regressor = MultiOutputRegressor(model)\n",
    "\n",
    "# fit the model\n",
    "regressor.fit(train.drop(columns=TARGET_COLS), train[TARGET_COLS])\n",
    "\n",
    "# make predictions\n",
    "y_pred = pd.DataFrame(regressor.predict(test.drop(columns=TARGET_COLS)), columns=TARGET_COLS)\n",
    "\n",
    "# evaluate the model\n",
    "mae = evaluate_mae(test[TARGET_COLS], y_pred)\n",
    "\n",
    "# save the results\n",
    "df_results = df_results.append({'model': model_name, **mae}, ignore_index=True)\n",
    "df_results[df_results['model'] == model_name]"
   ]
  },
  {
   "attachments": {},
   "cell_type": "markdown",
   "metadata": {},
   "source": [
    "#### ElasticNet"
   ]
  },
  {
   "cell_type": "code",
   "execution_count": 13,
   "metadata": {},
   "outputs": [
    {
     "name": "stderr",
     "output_type": "stream",
     "text": [
      "c:\\Users\\gianlucca.devigili\\AppData\\Local\\Programs\\Python\\Python311\\Lib\\site-packages\\sklearn\\linear_model\\_coordinate_descent.py:631: ConvergenceWarning: Objective did not converge. You might want to increase the number of iterations, check the scale of the features or consider increasing regularisation. Duality gap: 1.221e+07, tolerance: 4.014e+03\n",
      "  model = cd_fast.enet_coordinate_descent(\n"
     ]
    },
    {
     "name": "stdout",
     "output_type": "stream",
     "text": [
      "CPU times: total: 11min 47s\n",
      "Wall time: 4min 16s\n"
     ]
    },
    {
     "data": {
      "text/html": [
       "<div>\n",
       "<style scoped>\n",
       "    .dataframe tbody tr th:only-of-type {\n",
       "        vertical-align: middle;\n",
       "    }\n",
       "\n",
       "    .dataframe tbody tr th {\n",
       "        vertical-align: top;\n",
       "    }\n",
       "\n",
       "    .dataframe thead th {\n",
       "        text-align: right;\n",
       "    }\n",
       "</style>\n",
       "<table border=\"1\" class=\"dataframe\">\n",
       "  <thead>\n",
       "    <tr style=\"text-align: right;\">\n",
       "      <th></th>\n",
       "      <th>model</th>\n",
       "      <th>target1</th>\n",
       "      <th>target2</th>\n",
       "      <th>target3</th>\n",
       "      <th>target4</th>\n",
       "      <th>average</th>\n",
       "    </tr>\n",
       "  </thead>\n",
       "  <tbody>\n",
       "    <tr>\n",
       "      <th>2</th>\n",
       "      <td>ElasticNet | MultiOutput</td>\n",
       "      <td>0.789226</td>\n",
       "      <td>1.364733</td>\n",
       "      <td>0.713458</td>\n",
       "      <td>0.747147</td>\n",
       "      <td>0.903641</td>\n",
       "    </tr>\n",
       "  </tbody>\n",
       "</table>\n",
       "</div>"
      ],
      "text/plain": [
       "                      model   target1   target2   target3   target4   average\n",
       "2  ElasticNet | MultiOutput  0.789226  1.364733  0.713458  0.747147  0.903641"
      ]
     },
     "execution_count": 13,
     "metadata": {},
     "output_type": "execute_result"
    }
   ],
   "source": [
    "%%time\n",
    "from sklearn.linear_model import ElasticNet\n",
    "\n",
    "# defines the model and create the multioutput regressor\n",
    "model = ElasticNet(alpha=0.1, random_state=RANDOM_SEED)\n",
    "model_name = 'ElasticNet | MultiOutput'\n",
    "regressor = MultiOutputRegressor(model)\n",
    "\n",
    "# fit the model\n",
    "regressor.fit(train.drop(columns=TARGET_COLS), train[TARGET_COLS])\n",
    "\n",
    "# make predictions\n",
    "y_pred = pd.DataFrame(regressor.predict(test.drop(columns=TARGET_COLS)), columns=TARGET_COLS)\n",
    "\n",
    "# evaluate the model\n",
    "mae = evaluate_mae(test[TARGET_COLS], y_pred)\n",
    "\n",
    "# save the results\n",
    "df_results = df_results.append({'model': model_name, **mae}, ignore_index=True)\n",
    "df_results[df_results['model'] == model_name]"
   ]
  },
  {
   "attachments": {},
   "cell_type": "markdown",
   "metadata": {},
   "source": [
    "### Tree Models"
   ]
  },
  {
   "cell_type": "code",
   "execution_count": 14,
   "metadata": {},
   "outputs": [
    {
     "name": "stdout",
     "output_type": "stream",
     "text": [
      "CPU times: total: 17min 18s\n",
      "Wall time: 17min 53s\n"
     ]
    },
    {
     "data": {
      "text/html": [
       "<div>\n",
       "<style scoped>\n",
       "    .dataframe tbody tr th:only-of-type {\n",
       "        vertical-align: middle;\n",
       "    }\n",
       "\n",
       "    .dataframe tbody tr th {\n",
       "        vertical-align: top;\n",
       "    }\n",
       "\n",
       "    .dataframe thead th {\n",
       "        text-align: right;\n",
       "    }\n",
       "</style>\n",
       "<table border=\"1\" class=\"dataframe\">\n",
       "  <thead>\n",
       "    <tr style=\"text-align: right;\">\n",
       "      <th></th>\n",
       "      <th>model</th>\n",
       "      <th>target1</th>\n",
       "      <th>target2</th>\n",
       "      <th>target3</th>\n",
       "      <th>target4</th>\n",
       "      <th>average</th>\n",
       "    </tr>\n",
       "  </thead>\n",
       "  <tbody>\n",
       "    <tr>\n",
       "      <th>3</th>\n",
       "      <td>DecisionTreeRegressor | MultiOutput</td>\n",
       "      <td>2.109487</td>\n",
       "      <td>2.260997</td>\n",
       "      <td>1.739849</td>\n",
       "      <td>1.628264</td>\n",
       "      <td>1.934649</td>\n",
       "    </tr>\n",
       "  </tbody>\n",
       "</table>\n",
       "</div>"
      ],
      "text/plain": [
       "                                 model   target1   target2   target3  \\\n",
       "3  DecisionTreeRegressor | MultiOutput  2.109487  2.260997  1.739849   \n",
       "\n",
       "    target4   average  \n",
       "3  1.628264  1.934649  "
      ]
     },
     "execution_count": 14,
     "metadata": {},
     "output_type": "execute_result"
    }
   ],
   "source": [
    "%%time\n",
    "from sklearn.tree import DecisionTreeRegressor\n",
    "\n",
    "# defines the model and create the multioutput regressor\n",
    "model = DecisionTreeRegressor(random_state=RANDOM_SEED)\n",
    "model_name = 'DecisionTreeRegressor | MultiOutput'\n",
    "regressor = MultiOutputRegressor(model)\n",
    "\n",
    "# fit the model\n",
    "regressor.fit(train.drop(columns=TARGET_COLS), train[TARGET_COLS])\n",
    "\n",
    "# make predictions\n",
    "y_pred = pd.DataFrame(regressor.predict(test.drop(columns=TARGET_COLS)), columns=TARGET_COLS)\n",
    "\n",
    "# evaluate the model\n",
    "mae = evaluate_mae(test[TARGET_COLS], y_pred)\n",
    "\n",
    "# save the results\n",
    "df_results = df_results.append({'model': model_name, **mae}, ignore_index=True)\n",
    "df_results[df_results['model'] == model_name]"
   ]
  },
  {
   "attachments": {},
   "cell_type": "markdown",
   "metadata": {},
   "source": [
    "#### Gradient Boosting"
   ]
  },
  {
   "cell_type": "code",
   "execution_count": null,
   "metadata": {},
   "outputs": [],
   "source": [
    "%%time\n",
    "from sklearn.ensemble import GradientBoostingRegressor\n",
    "\n",
    "# defines the model and create the multioutput regressor\n",
    "model = GradientBoostingRegressor(random_state=RANDOM_SEED)\n",
    "model_name = 'GradientBoostingRegressor | MultiOutput'\n",
    "regressor = MultiOutputRegressor(model)\n",
    "\n",
    "# fit the model\n",
    "regressor.fit(train.drop(columns=TARGET_COLS), train[TARGET_COLS])\n",
    "\n",
    "# make predictions\n",
    "y_pred = pd.DataFrame(regressor.predict(test.drop(columns=TARGET_COLS)), columns=TARGET_COLS)\n",
    "\n",
    "# evaluate the model\n",
    "mae = evaluate_mae(test[TARGET_COLS], y_pred)\n",
    "\n",
    "# save the results\n",
    "df_results = df_results.append({'model': model_name, **mae}, ignore_index=True)\n",
    "df_results[df_results['model'] == model_name]"
   ]
  },
  {
   "attachments": {},
   "cell_type": "markdown",
   "metadata": {},
   "source": [
    "## Resultados"
   ]
  },
  {
   "cell_type": "code",
   "execution_count": 15,
   "metadata": {},
   "outputs": [
    {
     "data": {
      "text/html": [
       "<div>\n",
       "<style scoped>\n",
       "    .dataframe tbody tr th:only-of-type {\n",
       "        vertical-align: middle;\n",
       "    }\n",
       "\n",
       "    .dataframe tbody tr th {\n",
       "        vertical-align: top;\n",
       "    }\n",
       "\n",
       "    .dataframe thead th {\n",
       "        text-align: right;\n",
       "    }\n",
       "</style>\n",
       "<table border=\"1\" class=\"dataframe\">\n",
       "  <thead>\n",
       "    <tr style=\"text-align: right;\">\n",
       "      <th></th>\n",
       "      <th>model</th>\n",
       "      <th>target1</th>\n",
       "      <th>target2</th>\n",
       "      <th>target3</th>\n",
       "      <th>target4</th>\n",
       "      <th>average</th>\n",
       "    </tr>\n",
       "  </thead>\n",
       "  <tbody>\n",
       "    <tr>\n",
       "      <th>0</th>\n",
       "      <td>Lasso | MultiOutput</td>\n",
       "      <td>0.786738</td>\n",
       "      <td>1.367479</td>\n",
       "      <td>0.706509</td>\n",
       "      <td>0.745432</td>\n",
       "      <td>0.901539</td>\n",
       "    </tr>\n",
       "    <tr>\n",
       "      <th>1</th>\n",
       "      <td>Ridge | MultiOutput</td>\n",
       "      <td>0.789278</td>\n",
       "      <td>1.292713</td>\n",
       "      <td>0.737686</td>\n",
       "      <td>0.760436</td>\n",
       "      <td>0.895028</td>\n",
       "    </tr>\n",
       "    <tr>\n",
       "      <th>2</th>\n",
       "      <td>ElasticNet | MultiOutput</td>\n",
       "      <td>0.789226</td>\n",
       "      <td>1.364733</td>\n",
       "      <td>0.713458</td>\n",
       "      <td>0.747147</td>\n",
       "      <td>0.903641</td>\n",
       "    </tr>\n",
       "    <tr>\n",
       "      <th>3</th>\n",
       "      <td>DecisionTreeRegressor | MultiOutput</td>\n",
       "      <td>2.109487</td>\n",
       "      <td>2.260997</td>\n",
       "      <td>1.739849</td>\n",
       "      <td>1.628264</td>\n",
       "      <td>1.934649</td>\n",
       "    </tr>\n",
       "  </tbody>\n",
       "</table>\n",
       "</div>"
      ],
      "text/plain": [
       "                                 model   target1   target2   target3  \\\n",
       "0                  Lasso | MultiOutput  0.786738  1.367479  0.706509   \n",
       "1                  Ridge | MultiOutput  0.789278  1.292713  0.737686   \n",
       "2             ElasticNet | MultiOutput  0.789226  1.364733  0.713458   \n",
       "3  DecisionTreeRegressor | MultiOutput  2.109487  2.260997  1.739849   \n",
       "\n",
       "    target4   average  \n",
       "0  0.745432  0.901539  \n",
       "1  0.760436  0.895028  \n",
       "2  0.747147  0.903641  \n",
       "3  1.628264  1.934649  "
      ]
     },
     "execution_count": 15,
     "metadata": {},
     "output_type": "execute_result"
    }
   ],
   "source": [
    "df_results"
   ]
  },
  {
   "cell_type": "code",
   "execution_count": null,
   "metadata": {},
   "outputs": [],
   "source": []
  }
 ],
 "metadata": {
  "kernelspec": {
   "display_name": "Python 3",
   "language": "python",
   "name": "python3"
  },
  "language_info": {
   "codemirror_mode": {
    "name": "ipython",
    "version": 3
   },
   "file_extension": ".py",
   "mimetype": "text/x-python",
   "name": "python",
   "nbconvert_exporter": "python",
   "pygments_lexer": "ipython3",
   "version": "3.11.3"
  },
  "orig_nbformat": 4
 },
 "nbformat": 4,
 "nbformat_minor": 2
}

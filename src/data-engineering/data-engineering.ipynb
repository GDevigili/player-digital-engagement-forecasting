{
  "cells": [
    {
      "cell_type": "markdown",
      "metadata": {
        "id": "QPHk08vLQQYI"
      },
      "source": [
        "# Data Preparation\n",
        "\n",
        "Notebook que irá conter o código utilizado para a preparação dos dados do projeto.\n",
        "\n",
        "os dados \"crus\" estão localizados em **/src/data/raw-data** e os dados tratados devem ser salvos em **/src/data/processed-data** "
      ]
    },
    {
      "cell_type": "markdown",
      "metadata": {
        "id": "xMsbLNTmSI0Z"
      },
      "source": [
        "## Initial Setup"
      ]
    },
    {
      "cell_type": "code",
      "execution_count": 2,
      "metadata": {
        "id": "QaqApYYISMmT"
      },
      "outputs": [],
      "source": [
        "import pandas as pd\n",
        "import numpy as np\n",
        "\n",
        "import pickle as pkl"
      ]
    },
    {
      "cell_type": "code",
      "execution_count": 3,
      "metadata": {
        "id": "lH30P2cEQQYN"
      },
      "outputs": [],
      "source": [
        "# File paths for working locally\n",
        "raw_data_path = '../data/raw-data/'\n",
        "processed_data_path = '../data/processed-data/'"
      ]
    },
    {
      "cell_type": "code",
      "execution_count": 4,
      "metadata": {
        "colab": {
          "base_uri": "https://localhost:8080/"
        },
        "id": "PKSBphoiQwOW",
        "outputId": "37c502e2-9d66-441a-9b20-10ae9011d8db"
      },
      "outputs": [],
      "source": [
        "# # Uncomment this cell if running on Google Colab\n",
        "# from google.colab import drive\n",
        "# drive.mount('/content/drive/')\n",
        "# raw_data_path = '/content/drive/MyDrive/datasets/mlb-player-digital-engagement-forecasting/'"
      ]
    },
    {
      "cell_type": "markdown",
      "metadata": {
        "id": "boMpsEe2RXRp"
      },
      "source": [
        "## Loading the Datasets"
      ]
    },
    {
      "cell_type": "code",
      "execution_count": 5,
      "metadata": {
        "colab": {
          "base_uri": "https://localhost:8080/"
        },
        "id": "kVogCpTNRdUG",
        "outputId": "7e730b1e-1ad4-49cc-be84-1e8019547505"
      },
      "outputs": [
        {
          "data": {
            "text/plain": [
              "{'Awards': '../data/raw-data/awards.csv',\n",
              " 'Example': '../data/raw-data/example_test.csv',\n",
              " 'Players': '../data/raw-data/players.csv',\n",
              " 'Seasons': '../data/raw-data/seasons.csv',\n",
              " 'Teams': '../data/raw-data/teams.csv',\n",
              " 'Train': '../data/raw-data/train.csv'}"
            ]
          },
          "execution_count": 5,
          "metadata": {},
          "output_type": "execute_result"
        }
      ],
      "source": [
        "dataset_names = {\n",
        "    'Awards': 'awards.csv', \n",
        "    'Example': 'example_test.csv', \n",
        "    'Players': 'players.csv',\n",
        "    'Seasons': 'seasons.csv', \n",
        "    'Teams': 'teams.csv', \n",
        "    'Train': 'train.csv'\n",
        "}\n",
        "for key in dataset_names:\n",
        "  dataset_names[key] = raw_data_path + dataset_names[key]\n",
        "dataset_names"
      ]
    },
    {
      "cell_type": "markdown",
      "metadata": {
        "id": "kMGJu3hUOQLA"
      },
      "source": [
        "### Players"
      ]
    },
    {
      "cell_type": "code",
      "execution_count": 6,
      "metadata": {
        "colab": {
          "base_uri": "https://localhost:8080/",
          "height": 374
        },
        "id": "y0Dlhng8QQYP",
        "outputId": "b14b3e22-49d8-4d4f-d5db-c20769a94e96"
      },
      "outputs": [
        {
          "data": {
            "text/html": [
              "<div>\n",
              "<style scoped>\n",
              "    .dataframe tbody tr th:only-of-type {\n",
              "        vertical-align: middle;\n",
              "    }\n",
              "\n",
              "    .dataframe tbody tr th {\n",
              "        vertical-align: top;\n",
              "    }\n",
              "\n",
              "    .dataframe thead th {\n",
              "        text-align: right;\n",
              "    }\n",
              "</style>\n",
              "<table border=\"1\" class=\"dataframe\">\n",
              "  <thead>\n",
              "    <tr style=\"text-align: right;\">\n",
              "      <th></th>\n",
              "      <th>playerId</th>\n",
              "      <th>playerName</th>\n",
              "      <th>DOB</th>\n",
              "      <th>mlbDebutDate</th>\n",
              "      <th>birthCity</th>\n",
              "      <th>birthStateProvince</th>\n",
              "      <th>birthCountry</th>\n",
              "      <th>heightInches</th>\n",
              "      <th>weight</th>\n",
              "      <th>primaryPositionCode</th>\n",
              "      <th>primaryPositionName</th>\n",
              "      <th>playerForTestSetAndFuturePreds</th>\n",
              "    </tr>\n",
              "  </thead>\n",
              "  <tbody>\n",
              "    <tr>\n",
              "      <th>0</th>\n",
              "      <td>665482</td>\n",
              "      <td>Gilberto Celestino</td>\n",
              "      <td>1999-02-13</td>\n",
              "      <td>2021-06-02</td>\n",
              "      <td>Santo Domingo</td>\n",
              "      <td>NaN</td>\n",
              "      <td>Dominican Republic</td>\n",
              "      <td>72</td>\n",
              "      <td>170</td>\n",
              "      <td>8</td>\n",
              "      <td>Outfielder</td>\n",
              "      <td>False</td>\n",
              "    </tr>\n",
              "    <tr>\n",
              "      <th>1</th>\n",
              "      <td>593590</td>\n",
              "      <td>Webster Rivas</td>\n",
              "      <td>1990-08-08</td>\n",
              "      <td>2021-05-28</td>\n",
              "      <td>Nagua</td>\n",
              "      <td>NaN</td>\n",
              "      <td>Dominican Republic</td>\n",
              "      <td>73</td>\n",
              "      <td>219</td>\n",
              "      <td>3</td>\n",
              "      <td>First Base</td>\n",
              "      <td>True</td>\n",
              "    </tr>\n",
              "    <tr>\n",
              "      <th>2</th>\n",
              "      <td>661269</td>\n",
              "      <td>Vladimir Gutierrez</td>\n",
              "      <td>1995-09-18</td>\n",
              "      <td>2021-05-28</td>\n",
              "      <td>Havana</td>\n",
              "      <td>NaN</td>\n",
              "      <td>Cuba</td>\n",
              "      <td>73</td>\n",
              "      <td>190</td>\n",
              "      <td>1</td>\n",
              "      <td>Pitcher</td>\n",
              "      <td>True</td>\n",
              "    </tr>\n",
              "    <tr>\n",
              "      <th>3</th>\n",
              "      <td>669212</td>\n",
              "      <td>Eli Morgan</td>\n",
              "      <td>1996-05-13</td>\n",
              "      <td>2021-05-28</td>\n",
              "      <td>Rancho Palos Verdes</td>\n",
              "      <td>CA</td>\n",
              "      <td>USA</td>\n",
              "      <td>70</td>\n",
              "      <td>190</td>\n",
              "      <td>1</td>\n",
              "      <td>Pitcher</td>\n",
              "      <td>True</td>\n",
              "    </tr>\n",
              "    <tr>\n",
              "      <th>4</th>\n",
              "      <td>666201</td>\n",
              "      <td>Alek Manoah</td>\n",
              "      <td>1998-01-09</td>\n",
              "      <td>2021-05-27</td>\n",
              "      <td>Homestead</td>\n",
              "      <td>FL</td>\n",
              "      <td>USA</td>\n",
              "      <td>78</td>\n",
              "      <td>260</td>\n",
              "      <td>1</td>\n",
              "      <td>Pitcher</td>\n",
              "      <td>True</td>\n",
              "    </tr>\n",
              "  </tbody>\n",
              "</table>\n",
              "</div>"
            ],
            "text/plain": [
              "   playerId          playerName         DOB mlbDebutDate            birthCity  \\\n",
              "0    665482  Gilberto Celestino  1999-02-13   2021-06-02        Santo Domingo   \n",
              "1    593590       Webster Rivas  1990-08-08   2021-05-28                Nagua   \n",
              "2    661269  Vladimir Gutierrez  1995-09-18   2021-05-28               Havana   \n",
              "3    669212          Eli Morgan  1996-05-13   2021-05-28  Rancho Palos Verdes   \n",
              "4    666201         Alek Manoah  1998-01-09   2021-05-27            Homestead   \n",
              "\n",
              "  birthStateProvince        birthCountry  heightInches  weight  \\\n",
              "0                NaN  Dominican Republic            72     170   \n",
              "1                NaN  Dominican Republic            73     219   \n",
              "2                NaN                Cuba            73     190   \n",
              "3                 CA                 USA            70     190   \n",
              "4                 FL                 USA            78     260   \n",
              "\n",
              "  primaryPositionCode primaryPositionName playerForTestSetAndFuturePreds  \n",
              "0                   8          Outfielder                          False  \n",
              "1                   3          First Base                           True  \n",
              "2                   1             Pitcher                           True  \n",
              "3                   1             Pitcher                           True  \n",
              "4                   1             Pitcher                           True  "
            ]
          },
          "execution_count": 6,
          "metadata": {},
          "output_type": "execute_result"
        }
      ],
      "source": [
        "df_players = pd.read_csv(dataset_names['Players'])\n",
        "df_players.head()"
      ]
    },
    {
      "cell_type": "code",
      "execution_count": 7,
      "metadata": {
        "colab": {
          "base_uri": "https://localhost:8080/"
        },
        "id": "d3if6t7IK6v3",
        "outputId": "d2551612-b352-4fbe-8afc-2ea818eab6e0"
      },
      "outputs": [
        {
          "name": "stdout",
          "output_type": "stream",
          "text": [
            "<class 'pandas.core.frame.DataFrame'>\n",
            "RangeIndex: 2061 entries, 0 to 2060\n",
            "Data columns (total 12 columns):\n",
            " #   Column                          Non-Null Count  Dtype \n",
            "---  ------                          --------------  ----- \n",
            " 0   playerId                        2061 non-null   int64 \n",
            " 1   playerName                      2061 non-null   object\n",
            " 2   DOB                             2061 non-null   object\n",
            " 3   mlbDebutDate                    2025 non-null   object\n",
            " 4   birthCity                       2061 non-null   object\n",
            " 5   birthStateProvince              1516 non-null   object\n",
            " 6   birthCountry                    2061 non-null   object\n",
            " 7   heightInches                    2061 non-null   int64 \n",
            " 8   weight                          2061 non-null   int64 \n",
            " 9   primaryPositionCode             2061 non-null   object\n",
            " 10  primaryPositionName             2061 non-null   object\n",
            " 11  playerForTestSetAndFuturePreds  2057 non-null   object\n",
            "dtypes: int64(3), object(9)\n",
            "memory usage: 193.3+ KB\n"
          ]
        }
      ],
      "source": [
        "df_players.info()"
      ]
    },
    {
      "cell_type": "markdown",
      "metadata": {
        "id": "XIh_mOU7WdCi"
      },
      "source": [
        "Analisando o dataset, foram removidas a coluna `playerName`, por ela já estar representada pela coluna `playerId` e a coluna `birthStateProvince` pela quantidade de valores nulos que a mesma possui."
      ]
    },
    {
      "cell_type": "code",
      "execution_count": 8,
      "metadata": {
        "colab": {
          "base_uri": "https://localhost:8080/"
        },
        "id": "l7p1c58VOF98",
        "outputId": "55e84a67-00f9-4a7a-9517-e188e6d6d018"
      },
      "outputs": [
        {
          "name": "stdout",
          "output_type": "stream",
          "text": [
            "<class 'pandas.core.frame.DataFrame'>\n",
            "RangeIndex: 2061 entries, 0 to 2060\n",
            "Data columns (total 10 columns):\n",
            " #   Column             Non-Null Count  Dtype \n",
            "---  ------             --------------  ----- \n",
            " 0   IdPlayer           2061 non-null   int64 \n",
            " 1   DtBirth            2061 non-null   object\n",
            " 2   DtMlbDebut         2025 non-null   object\n",
            " 3   NmCity             2061 non-null   object\n",
            " 4   NmCountry          2061 non-null   object\n",
            " 5   NuHeight           2061 non-null   int64 \n",
            " 6   NuWeight           2061 non-null   int64 \n",
            " 7   CdPrimaryPosition  2061 non-null   object\n",
            " 8   NmPrimaryPosition  2061 non-null   object\n",
            " 9   FlgForTestAndPred  2057 non-null   object\n",
            "dtypes: int64(3), object(7)\n",
            "memory usage: 161.1+ KB\n"
          ]
        }
      ],
      "source": [
        "# Select the columns that will be used on the df and renames them according to the pattern\n",
        "cols_df_players = {\n",
        "    'playerId': 'IdPlayer',\n",
        "    'DOB': 'DtBirth',\n",
        "    'mlbDebutDate': 'DtMlbDebut',\n",
        "    'birthCity': 'NmCity',\n",
        "    #'birthStateProvince': 'NmState',\n",
        "    'birthCountry': 'NmCountry',\n",
        "    'heightInches': 'NuHeight',\n",
        "    'weight': 'NuWeight',\n",
        "    'primaryPositionCode': 'CdPrimaryPosition',\n",
        "    'primaryPositionName': 'NmPrimaryPosition',\n",
        "    'playerForTestSetAndFuturePreds': 'FlgForTestAndPred'\n",
        "}\n",
        "df_players = df_players[list(cols_df_players)]\n",
        "df_players.columns = list(cols_df_players.values())\n",
        "df_players.info()"
      ]
    },
    {
      "cell_type": "code",
      "execution_count": 26,
      "metadata": {
        "id": "X_2Mp-0ZVsnS"
      },
      "outputs": [],
      "source": [
        "# pd.to_pickle(df_players, processed_data_path + 'players.pkl')"
      ]
    },
    {
      "cell_type": "markdown",
      "metadata": {
        "id": "z4-WvYHlYXeb"
      },
      "source": [
        "### Teams"
      ]
    },
    {
      "cell_type": "code",
      "execution_count": 10,
      "metadata": {
        "colab": {
          "base_uri": "https://localhost:8080/",
          "height": 392
        },
        "id": "FfWW8HIBYWsp",
        "outputId": "c47c3896-0d66-49dc-e94b-1fd9a0827e42"
      },
      "outputs": [
        {
          "data": {
            "text/html": [
              "<div>\n",
              "<style scoped>\n",
              "    .dataframe tbody tr th:only-of-type {\n",
              "        vertical-align: middle;\n",
              "    }\n",
              "\n",
              "    .dataframe tbody tr th {\n",
              "        vertical-align: top;\n",
              "    }\n",
              "\n",
              "    .dataframe thead th {\n",
              "        text-align: right;\n",
              "    }\n",
              "</style>\n",
              "<table border=\"1\" class=\"dataframe\">\n",
              "  <thead>\n",
              "    <tr style=\"text-align: right;\">\n",
              "      <th></th>\n",
              "      <th>id</th>\n",
              "      <th>name</th>\n",
              "      <th>teamName</th>\n",
              "      <th>teamCode</th>\n",
              "      <th>shortName</th>\n",
              "      <th>abbreviation</th>\n",
              "      <th>locationName</th>\n",
              "      <th>leagueId</th>\n",
              "      <th>leagueName</th>\n",
              "      <th>divisionId</th>\n",
              "      <th>divisionName</th>\n",
              "      <th>venueId</th>\n",
              "      <th>venueName</th>\n",
              "    </tr>\n",
              "  </thead>\n",
              "  <tbody>\n",
              "    <tr>\n",
              "      <th>0</th>\n",
              "      <td>108</td>\n",
              "      <td>Los Angeles Angels</td>\n",
              "      <td>Angels</td>\n",
              "      <td>ana</td>\n",
              "      <td>LA Angels</td>\n",
              "      <td>LAA</td>\n",
              "      <td>Anaheim</td>\n",
              "      <td>103</td>\n",
              "      <td>American League</td>\n",
              "      <td>200</td>\n",
              "      <td>American League West</td>\n",
              "      <td>1</td>\n",
              "      <td>Angel Stadium</td>\n",
              "    </tr>\n",
              "    <tr>\n",
              "      <th>1</th>\n",
              "      <td>109</td>\n",
              "      <td>Arizona Diamondbacks</td>\n",
              "      <td>D-backs</td>\n",
              "      <td>ari</td>\n",
              "      <td>Arizona</td>\n",
              "      <td>ARI</td>\n",
              "      <td>Phoenix</td>\n",
              "      <td>104</td>\n",
              "      <td>National League</td>\n",
              "      <td>203</td>\n",
              "      <td>National League West</td>\n",
              "      <td>15</td>\n",
              "      <td>Chase Field</td>\n",
              "    </tr>\n",
              "    <tr>\n",
              "      <th>2</th>\n",
              "      <td>110</td>\n",
              "      <td>Baltimore Orioles</td>\n",
              "      <td>Orioles</td>\n",
              "      <td>bal</td>\n",
              "      <td>Baltimore</td>\n",
              "      <td>BAL</td>\n",
              "      <td>Baltimore</td>\n",
              "      <td>103</td>\n",
              "      <td>American League</td>\n",
              "      <td>201</td>\n",
              "      <td>American League East</td>\n",
              "      <td>2</td>\n",
              "      <td>Oriole Park at Camden Yards</td>\n",
              "    </tr>\n",
              "    <tr>\n",
              "      <th>3</th>\n",
              "      <td>111</td>\n",
              "      <td>Boston Red Sox</td>\n",
              "      <td>Red Sox</td>\n",
              "      <td>bos</td>\n",
              "      <td>Boston</td>\n",
              "      <td>BOS</td>\n",
              "      <td>Boston</td>\n",
              "      <td>103</td>\n",
              "      <td>American League</td>\n",
              "      <td>201</td>\n",
              "      <td>American League East</td>\n",
              "      <td>3</td>\n",
              "      <td>Fenway Park</td>\n",
              "    </tr>\n",
              "    <tr>\n",
              "      <th>4</th>\n",
              "      <td>112</td>\n",
              "      <td>Chicago Cubs</td>\n",
              "      <td>Cubs</td>\n",
              "      <td>chn</td>\n",
              "      <td>Chi Cubs</td>\n",
              "      <td>CHC</td>\n",
              "      <td>Chicago</td>\n",
              "      <td>104</td>\n",
              "      <td>National League</td>\n",
              "      <td>205</td>\n",
              "      <td>National League Central</td>\n",
              "      <td>17</td>\n",
              "      <td>Wrigley Field</td>\n",
              "    </tr>\n",
              "  </tbody>\n",
              "</table>\n",
              "</div>"
            ],
            "text/plain": [
              "    id                  name teamName teamCode  shortName abbreviation  \\\n",
              "0  108    Los Angeles Angels   Angels      ana  LA Angels          LAA   \n",
              "1  109  Arizona Diamondbacks  D-backs      ari    Arizona          ARI   \n",
              "2  110     Baltimore Orioles  Orioles      bal  Baltimore          BAL   \n",
              "3  111        Boston Red Sox  Red Sox      bos     Boston          BOS   \n",
              "4  112          Chicago Cubs     Cubs      chn   Chi Cubs          CHC   \n",
              "\n",
              "  locationName  leagueId       leagueName  divisionId  \\\n",
              "0      Anaheim       103  American League         200   \n",
              "1      Phoenix       104  National League         203   \n",
              "2    Baltimore       103  American League         201   \n",
              "3       Boston       103  American League         201   \n",
              "4      Chicago       104  National League         205   \n",
              "\n",
              "              divisionName  venueId                    venueName  \n",
              "0     American League West        1                Angel Stadium  \n",
              "1     National League West       15                  Chase Field  \n",
              "2     American League East        2  Oriole Park at Camden Yards  \n",
              "3     American League East        3                  Fenway Park  \n",
              "4  National League Central       17                Wrigley Field  "
            ]
          },
          "execution_count": 10,
          "metadata": {},
          "output_type": "execute_result"
        }
      ],
      "source": [
        "df_teams = pd.read_csv(dataset_names['Teams'])\n",
        "df_teams.head()"
      ]
    },
    {
      "cell_type": "code",
      "execution_count": 11,
      "metadata": {
        "colab": {
          "base_uri": "https://localhost:8080/"
        },
        "id": "TeGqbT3eZSZY",
        "outputId": "d0b210df-b26e-4451-8fe2-0e7512c27cbc"
      },
      "outputs": [
        {
          "name": "stdout",
          "output_type": "stream",
          "text": [
            "<class 'pandas.core.frame.DataFrame'>\n",
            "RangeIndex: 30 entries, 0 to 29\n",
            "Data columns (total 13 columns):\n",
            " #   Column        Non-Null Count  Dtype \n",
            "---  ------        --------------  ----- \n",
            " 0   id            30 non-null     int64 \n",
            " 1   name          30 non-null     object\n",
            " 2   teamName      30 non-null     object\n",
            " 3   teamCode      30 non-null     object\n",
            " 4   shortName     30 non-null     object\n",
            " 5   abbreviation  30 non-null     object\n",
            " 6   locationName  30 non-null     object\n",
            " 7   leagueId      30 non-null     int64 \n",
            " 8   leagueName    30 non-null     object\n",
            " 9   divisionId    30 non-null     int64 \n",
            " 10  divisionName  30 non-null     object\n",
            " 11  venueId       30 non-null     int64 \n",
            " 12  venueName     30 non-null     object\n",
            "dtypes: int64(4), object(9)\n",
            "memory usage: 3.2+ KB\n"
          ]
        }
      ],
      "source": [
        "df_teams.info()"
      ]
    },
    {
      "cell_type": "code",
      "execution_count": 12,
      "metadata": {
        "colab": {
          "base_uri": "https://localhost:8080/"
        },
        "id": "A_hfCfuKYy7K",
        "outputId": "b6dc4c35-ab38-441f-ff7e-ccd3da4c8022"
      },
      "outputs": [
        {
          "name": "stdout",
          "output_type": "stream",
          "text": [
            "<class 'pandas.core.frame.DataFrame'>\n",
            "RangeIndex: 30 entries, 0 to 29\n",
            "Data columns (total 5 columns):\n",
            " #   Column      Non-Null Count  Dtype \n",
            "---  ------      --------------  ----- \n",
            " 0   IdTeam      30 non-null     int64 \n",
            " 1   NmLocation  30 non-null     object\n",
            " 2   IdLeague    30 non-null     int64 \n",
            " 3   IdDivision  30 non-null     int64 \n",
            " 4   IdVenue     30 non-null     int64 \n",
            "dtypes: int64(4), object(1)\n",
            "memory usage: 1.3+ KB\n"
          ]
        }
      ],
      "source": [
        "cols_df_teams = {\n",
        "     'id': 'IdTeam'\n",
        "    ,'locationName': 'NmLocation'\n",
        "    ,'leagueId': 'IdLeague'\n",
        "    ,'divisionId': 'IdDivision'\n",
        "    ,'venueId': 'IdVenue'\n",
        "}\n",
        "df_teams = df_teams[list(cols_df_teams.keys())]\n",
        "df_teams.columns = list(cols_df_teams.values())\n",
        "df_teams.info()"
      ]
    },
    {
      "cell_type": "code",
      "execution_count": 25,
      "metadata": {
        "id": "f_hyAcX1aLuD"
      },
      "outputs": [],
      "source": [
        "# pd.to_pickle(df_teams, processed_data_path + 'teams.pkl')"
      ]
    },
    {
      "cell_type": "markdown",
      "metadata": {
        "id": "vsLwU3E6f6CQ"
      },
      "source": [
        "### Awards"
      ]
    },
    {
      "cell_type": "code",
      "execution_count": 19,
      "metadata": {
        "id": "TglrCH9Uf9ys"
      },
      "outputs": [
        {
          "data": {
            "text/html": [
              "<div>\n",
              "<style scoped>\n",
              "    .dataframe tbody tr th:only-of-type {\n",
              "        vertical-align: middle;\n",
              "    }\n",
              "\n",
              "    .dataframe tbody tr th {\n",
              "        vertical-align: top;\n",
              "    }\n",
              "\n",
              "    .dataframe thead th {\n",
              "        text-align: right;\n",
              "    }\n",
              "</style>\n",
              "<table border=\"1\" class=\"dataframe\">\n",
              "  <thead>\n",
              "    <tr style=\"text-align: right;\">\n",
              "      <th></th>\n",
              "      <th>awardDate</th>\n",
              "      <th>awardSeason</th>\n",
              "      <th>awardId</th>\n",
              "      <th>awardName</th>\n",
              "      <th>playerId</th>\n",
              "      <th>playerName</th>\n",
              "      <th>awardPlayerTeamId</th>\n",
              "    </tr>\n",
              "  </thead>\n",
              "  <tbody>\n",
              "    <tr>\n",
              "      <th>0</th>\n",
              "      <td>2017-12-21</td>\n",
              "      <td>2017</td>\n",
              "      <td>WARRENSPAHN</td>\n",
              "      <td>Warren Spahn Award</td>\n",
              "      <td>477132</td>\n",
              "      <td>Clayton Kershaw</td>\n",
              "      <td>119.0</td>\n",
              "    </tr>\n",
              "    <tr>\n",
              "      <th>1</th>\n",
              "      <td>2017-12-20</td>\n",
              "      <td>2017</td>\n",
              "      <td>MILBORGAS</td>\n",
              "      <td>MiLB.com Organization All-Star</td>\n",
              "      <td>474319</td>\n",
              "      <td>Brandon Snyder</td>\n",
              "      <td>120.0</td>\n",
              "    </tr>\n",
              "    <tr>\n",
              "      <th>2</th>\n",
              "      <td>2017-12-20</td>\n",
              "      <td>2017</td>\n",
              "      <td>MILBORGAS</td>\n",
              "      <td>MiLB.com Organization All-Star</td>\n",
              "      <td>592530</td>\n",
              "      <td>Jose Marmolejos</td>\n",
              "      <td>120.0</td>\n",
              "    </tr>\n",
              "    <tr>\n",
              "      <th>3</th>\n",
              "      <td>2017-12-20</td>\n",
              "      <td>2017</td>\n",
              "      <td>MILBORGAS</td>\n",
              "      <td>MiLB.com Organization All-Star</td>\n",
              "      <td>593833</td>\n",
              "      <td>Wander Suero</td>\n",
              "      <td>120.0</td>\n",
              "    </tr>\n",
              "    <tr>\n",
              "      <th>4</th>\n",
              "      <td>2017-12-20</td>\n",
              "      <td>2017</td>\n",
              "      <td>MILBORGAS</td>\n",
              "      <td>MiLB.com Organization All-Star</td>\n",
              "      <td>600466</td>\n",
              "      <td>Raudy Read</td>\n",
              "      <td>120.0</td>\n",
              "    </tr>\n",
              "  </tbody>\n",
              "</table>\n",
              "</div>"
            ],
            "text/plain": [
              "    awardDate  awardSeason      awardId                       awardName  \\\n",
              "0  2017-12-21         2017  WARRENSPAHN              Warren Spahn Award   \n",
              "1  2017-12-20         2017    MILBORGAS  MiLB.com Organization All-Star   \n",
              "2  2017-12-20         2017    MILBORGAS  MiLB.com Organization All-Star   \n",
              "3  2017-12-20         2017    MILBORGAS  MiLB.com Organization All-Star   \n",
              "4  2017-12-20         2017    MILBORGAS  MiLB.com Organization All-Star   \n",
              "\n",
              "   playerId       playerName  awardPlayerTeamId  \n",
              "0    477132  Clayton Kershaw              119.0  \n",
              "1    474319   Brandon Snyder              120.0  \n",
              "2    592530  Jose Marmolejos              120.0  \n",
              "3    593833     Wander Suero              120.0  \n",
              "4    600466       Raudy Read              120.0  "
            ]
          },
          "execution_count": 19,
          "metadata": {},
          "output_type": "execute_result"
        }
      ],
      "source": [
        "df_awards = pd.read_csv(dataset_names['Awards'])\n",
        "df_awards.head()"
      ]
    },
    {
      "cell_type": "code",
      "execution_count": 20,
      "metadata": {},
      "outputs": [
        {
          "name": "stdout",
          "output_type": "stream",
          "text": [
            "<class 'pandas.core.frame.DataFrame'>\n",
            "RangeIndex: 11256 entries, 0 to 11255\n",
            "Data columns (total 7 columns):\n",
            " #   Column             Non-Null Count  Dtype  \n",
            "---  ------             --------------  -----  \n",
            " 0   awardDate          11256 non-null  object \n",
            " 1   awardSeason        11256 non-null  int64  \n",
            " 2   awardId            11256 non-null  object \n",
            " 3   awardName          11256 non-null  object \n",
            " 4   playerId           11256 non-null  int64  \n",
            " 5   playerName         11256 non-null  object \n",
            " 6   awardPlayerTeamId  11243 non-null  float64\n",
            "dtypes: float64(1), int64(2), object(4)\n",
            "memory usage: 615.7+ KB\n"
          ]
        }
      ],
      "source": [
        "df_awards.info()"
      ]
    },
    {
      "cell_type": "code",
      "execution_count": 21,
      "metadata": {
        "id": "GgZB-j3zgwj8"
      },
      "outputs": [
        {
          "name": "stdout",
          "output_type": "stream",
          "text": [
            "<class 'pandas.core.frame.DataFrame'>\n",
            "RangeIndex: 11256 entries, 0 to 11255\n",
            "Data columns (total 5 columns):\n",
            " #   Column         Non-Null Count  Dtype  \n",
            "---  ------         --------------  -----  \n",
            " 0   IdAward        11256 non-null  object \n",
            " 1   DtAward        11256 non-null  object \n",
            " 2   DtAwardSeason  11256 non-null  int64  \n",
            " 3   IdPlayer       11256 non-null  int64  \n",
            " 4   IdTeam         11243 non-null  float64\n",
            "dtypes: float64(1), int64(2), object(2)\n",
            "memory usage: 439.8+ KB\n"
          ]
        }
      ],
      "source": [
        "cols_df_awards = {\n",
        "    'awardId': 'IdAward',\n",
        "    'awardDate': 'DtAward',\n",
        "    'awardSeason': 'DtAwardSeason',\n",
        "    'playerId': 'IdPlayer',\n",
        "    'awardPlayerTeamId': 'IdTeam'\n",
        "}\n",
        "df_awards = df_awards[list(cols_df_awards)]\n",
        "df_awards.columns = list(cols_df_awards.values())\n",
        "df_awards.info()"
      ]
    },
    {
      "cell_type": "code",
      "execution_count": 24,
      "metadata": {},
      "outputs": [],
      "source": [
        "# pd.to_pickle(df_awards, processed_data_path + 'awards.pkl')"
      ]
    },
    {
      "attachments": {},
      "cell_type": "markdown",
      "metadata": {},
      "source": [
        "### Seasons"
      ]
    },
    {
      "cell_type": "code",
      "execution_count": 27,
      "metadata": {},
      "outputs": [
        {
          "data": {
            "text/html": [
              "<div>\n",
              "<style scoped>\n",
              "    .dataframe tbody tr th:only-of-type {\n",
              "        vertical-align: middle;\n",
              "    }\n",
              "\n",
              "    .dataframe tbody tr th {\n",
              "        vertical-align: top;\n",
              "    }\n",
              "\n",
              "    .dataframe thead th {\n",
              "        text-align: right;\n",
              "    }\n",
              "</style>\n",
              "<table border=\"1\" class=\"dataframe\">\n",
              "  <thead>\n",
              "    <tr style=\"text-align: right;\">\n",
              "      <th></th>\n",
              "      <th>seasonId</th>\n",
              "      <th>seasonStartDate</th>\n",
              "      <th>seasonEndDate</th>\n",
              "      <th>preSeasonStartDate</th>\n",
              "      <th>preSeasonEndDate</th>\n",
              "      <th>regularSeasonStartDate</th>\n",
              "      <th>regularSeasonEndDate</th>\n",
              "      <th>lastDate1stHalf</th>\n",
              "      <th>allStarDate</th>\n",
              "      <th>firstDate2ndHalf</th>\n",
              "      <th>postSeasonStartDate</th>\n",
              "      <th>postSeasonEndDate</th>\n",
              "    </tr>\n",
              "  </thead>\n",
              "  <tbody>\n",
              "    <tr>\n",
              "      <th>0</th>\n",
              "      <td>2017</td>\n",
              "      <td>2017-04-02</td>\n",
              "      <td>2017-11-01</td>\n",
              "      <td>2017-02-22</td>\n",
              "      <td>2017-04-01</td>\n",
              "      <td>2017-04-02</td>\n",
              "      <td>2017-10-01</td>\n",
              "      <td>2017-07-09</td>\n",
              "      <td>2017-07-11</td>\n",
              "      <td>2017-07-14</td>\n",
              "      <td>2017-10-03</td>\n",
              "      <td>2017-11-01</td>\n",
              "    </tr>\n",
              "    <tr>\n",
              "      <th>1</th>\n",
              "      <td>2018</td>\n",
              "      <td>2018-03-29</td>\n",
              "      <td>2018-10-28</td>\n",
              "      <td>2018-02-21</td>\n",
              "      <td>2018-03-27</td>\n",
              "      <td>2018-03-29</td>\n",
              "      <td>2018-10-01</td>\n",
              "      <td>2018-07-15</td>\n",
              "      <td>2018-07-17</td>\n",
              "      <td>2018-07-19</td>\n",
              "      <td>2018-10-02</td>\n",
              "      <td>2018-10-28</td>\n",
              "    </tr>\n",
              "    <tr>\n",
              "      <th>2</th>\n",
              "      <td>2019</td>\n",
              "      <td>2019-03-20</td>\n",
              "      <td>2019-10-30</td>\n",
              "      <td>2019-02-21</td>\n",
              "      <td>2019-03-26</td>\n",
              "      <td>2019-03-20</td>\n",
              "      <td>2019-09-29</td>\n",
              "      <td>2019-07-07</td>\n",
              "      <td>2019-07-09</td>\n",
              "      <td>2019-07-11</td>\n",
              "      <td>2019-10-01</td>\n",
              "      <td>2019-10-30</td>\n",
              "    </tr>\n",
              "    <tr>\n",
              "      <th>3</th>\n",
              "      <td>2020</td>\n",
              "      <td>2020-07-23</td>\n",
              "      <td>2020-10-28</td>\n",
              "      <td>2020-02-21</td>\n",
              "      <td>2020-07-22</td>\n",
              "      <td>2020-07-23</td>\n",
              "      <td>2020-09-27</td>\n",
              "      <td>2020-08-25</td>\n",
              "      <td>NaN</td>\n",
              "      <td>2020-08-26</td>\n",
              "      <td>2020-09-29</td>\n",
              "      <td>2020-10-28</td>\n",
              "    </tr>\n",
              "    <tr>\n",
              "      <th>4</th>\n",
              "      <td>2021</td>\n",
              "      <td>2021-02-28</td>\n",
              "      <td>2021-10-31</td>\n",
              "      <td>2021-02-28</td>\n",
              "      <td>2021-03-30</td>\n",
              "      <td>2021-04-01</td>\n",
              "      <td>2021-10-03</td>\n",
              "      <td>2021-07-11</td>\n",
              "      <td>2021-07-13</td>\n",
              "      <td>2021-07-15</td>\n",
              "      <td>2021-10-04</td>\n",
              "      <td>2021-10-31</td>\n",
              "    </tr>\n",
              "  </tbody>\n",
              "</table>\n",
              "</div>"
            ],
            "text/plain": [
              "   seasonId seasonStartDate seasonEndDate preSeasonStartDate preSeasonEndDate  \\\n",
              "0      2017      2017-04-02    2017-11-01         2017-02-22       2017-04-01   \n",
              "1      2018      2018-03-29    2018-10-28         2018-02-21       2018-03-27   \n",
              "2      2019      2019-03-20    2019-10-30         2019-02-21       2019-03-26   \n",
              "3      2020      2020-07-23    2020-10-28         2020-02-21       2020-07-22   \n",
              "4      2021      2021-02-28    2021-10-31         2021-02-28       2021-03-30   \n",
              "\n",
              "  regularSeasonStartDate regularSeasonEndDate lastDate1stHalf allStarDate  \\\n",
              "0             2017-04-02           2017-10-01      2017-07-09  2017-07-11   \n",
              "1             2018-03-29           2018-10-01      2018-07-15  2018-07-17   \n",
              "2             2019-03-20           2019-09-29      2019-07-07  2019-07-09   \n",
              "3             2020-07-23           2020-09-27      2020-08-25         NaN   \n",
              "4             2021-04-01           2021-10-03      2021-07-11  2021-07-13   \n",
              "\n",
              "  firstDate2ndHalf postSeasonStartDate postSeasonEndDate  \n",
              "0       2017-07-14          2017-10-03        2017-11-01  \n",
              "1       2018-07-19          2018-10-02        2018-10-28  \n",
              "2       2019-07-11          2019-10-01        2019-10-30  \n",
              "3       2020-08-26          2020-09-29        2020-10-28  \n",
              "4       2021-07-15          2021-10-04        2021-10-31  "
            ]
          },
          "execution_count": 27,
          "metadata": {},
          "output_type": "execute_result"
        }
      ],
      "source": [
        "df_seasons = pd.read_csv(dataset_names['Seasons'])\n",
        "df_seasons.head()"
      ]
    },
    {
      "cell_type": "code",
      "execution_count": 28,
      "metadata": {},
      "outputs": [
        {
          "name": "stdout",
          "output_type": "stream",
          "text": [
            "<class 'pandas.core.frame.DataFrame'>\n",
            "RangeIndex: 5 entries, 0 to 4\n",
            "Data columns (total 12 columns):\n",
            " #   Column                  Non-Null Count  Dtype \n",
            "---  ------                  --------------  ----- \n",
            " 0   seasonId                5 non-null      int64 \n",
            " 1   seasonStartDate         5 non-null      object\n",
            " 2   seasonEndDate           5 non-null      object\n",
            " 3   preSeasonStartDate      5 non-null      object\n",
            " 4   preSeasonEndDate        5 non-null      object\n",
            " 5   regularSeasonStartDate  5 non-null      object\n",
            " 6   regularSeasonEndDate    5 non-null      object\n",
            " 7   lastDate1stHalf         5 non-null      object\n",
            " 8   allStarDate             4 non-null      object\n",
            " 9   firstDate2ndHalf        5 non-null      object\n",
            " 10  postSeasonStartDate     5 non-null      object\n",
            " 11  postSeasonEndDate       5 non-null      object\n",
            "dtypes: int64(1), object(11)\n",
            "memory usage: 608.0+ bytes\n"
          ]
        }
      ],
      "source": [
        "df_seasons.info()"
      ]
    },
    {
      "attachments": {},
      "cell_type": "markdown",
      "metadata": {},
      "source": [
        "optamos por não utilizar o dataframe de Seasons, já que ele apenas adicionaria complexidade ao modelo e como se tratam de apenas datas, provavelmente a contribuição das features que ele adiciona não seriam relevantes já que são datas de início e fim de eventos pré definidos na temporada"
      ]
    },
    {
      "attachments": {},
      "cell_type": "markdown",
      "metadata": {},
      "source": [
        "## Train"
      ]
    },
    {
      "cell_type": "code",
      "execution_count": null,
      "metadata": {},
      "outputs": [],
      "source": []
    }
  ],
  "metadata": {
    "colab": {
      "provenance": []
    },
    "kernelspec": {
      "display_name": "Python 3",
      "language": "python",
      "name": "python3"
    },
    "language_info": {
      "codemirror_mode": {
        "name": "ipython",
        "version": 3
      },
      "file_extension": ".py",
      "mimetype": "text/x-python",
      "name": "python",
      "nbconvert_exporter": "python",
      "pygments_lexer": "ipython3",
      "version": "3.10.6"
    },
    "orig_nbformat": 4,
    "vscode": {
      "interpreter": {
        "hash": "916dbcbb3f70747c44a77c7bcd40155683ae19c65e1c03b4aa3499c5328201f1"
      }
    }
  },
  "nbformat": 4,
  "nbformat_minor": 0
}

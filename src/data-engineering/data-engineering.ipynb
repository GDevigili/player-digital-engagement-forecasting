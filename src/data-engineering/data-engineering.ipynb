{
  "cells": [
    {
      "cell_type": "markdown",
      "metadata": {
        "id": "QPHk08vLQQYI"
      },
      "source": [
        "# Data Preparation\n",
        "\n",
        "Notebook que irá conter o código utilizado para a preparação dos dados do projeto.\n",
        "\n",
        "os dados \"crus\" estão localizados em **/src/data/raw-data** e os dados tratados devem ser salvos em **/src/data/processed-data** "
      ]
    },
    {
      "cell_type": "markdown",
      "metadata": {
        "id": "xMsbLNTmSI0Z"
      },
      "source": [
        "## Initial Setup"
      ]
    },
    {
      "cell_type": "code",
      "execution_count": null,
      "metadata": {
        "id": "QaqApYYISMmT"
      },
      "outputs": [],
      "source": [
        "import pandas as pd\n",
        "import numpy as np\n",
        "\n",
        "import pickle as pkl"
      ]
    },
    {
      "cell_type": "code",
      "execution_count": null,
      "metadata": {
        "id": "lH30P2cEQQYN"
      },
      "outputs": [],
      "source": [
        "# File paths for working locally\n",
        "raw_data_path = '../data/raw-data/'\n",
        "processed_data_path = '../data/processed-data/'"
      ]
    },
    {
      "cell_type": "code",
      "execution_count": null,
      "metadata": {
        "colab": {
          "base_uri": "https://localhost:8080/"
        },
        "id": "PKSBphoiQwOW",
        "outputId": "37c502e2-9d66-441a-9b20-10ae9011d8db"
      },
      "outputs": [
        {
          "name": "stdout",
          "output_type": "stream",
          "text": [
            "Drive already mounted at /content/drive/; to attempt to forcibly remount, call drive.mount(\"/content/drive/\", force_remount=True).\n"
          ]
        }
      ],
      "source": [
        "# # Uncomment this cell if running on Google Colab\n",
        "# from google.colab import drive\n",
        "# drive.mount('/content/drive/')\n",
        "# raw_data_path = '/content/drive/MyDrive/datasets/mlb-player-digital-engagement-forecasting/'"
      ]
    },
    {
      "cell_type": "markdown",
      "metadata": {
        "id": "boMpsEe2RXRp"
      },
      "source": [
        "## Loading the Datasets"
      ]
    },
    {
      "cell_type": "code",
      "execution_count": null,
      "metadata": {
        "colab": {
          "base_uri": "https://localhost:8080/"
        },
        "id": "kVogCpTNRdUG",
        "outputId": "7e730b1e-1ad4-49cc-be84-1e8019547505"
      },
      "outputs": [
        {
          "data": {
            "text/plain": [
              "{'Awards': '/content/drive/MyDrive/datasets/mlb-player-digital-engagement-forecasting/awards.csv',\n",
              " 'Example': '/content/drive/MyDrive/datasets/mlb-player-digital-engagement-forecasting/example_test.csv',\n",
              " 'Players': '/content/drive/MyDrive/datasets/mlb-player-digital-engagement-forecasting/players.csv',\n",
              " 'Seasons': '/content/drive/MyDrive/datasets/mlb-player-digital-engagement-forecasting/seasons.csv',\n",
              " 'Teams': '/content/drive/MyDrive/datasets/mlb-player-digital-engagement-forecasting/teams.csv',\n",
              " 'Train': '/content/drive/MyDrive/datasets/mlb-player-digital-engagement-forecasting/train.csv'}"
            ]
          },
          "execution_count": 9,
          "metadata": {},
          "output_type": "execute_result"
        }
      ],
      "source": [
        "dataset_names = {\n",
        "    'Awards': 'awards.csv', \n",
        "    'Example': 'example_test.csv', \n",
        "    'Players': 'players.csv',\n",
        "    'Seasons': 'seasons.csv', \n",
        "    'Teams': 'teams.csv', \n",
        "    'Train': 'train.csv'\n",
        "}\n",
        "for key in dataset_names:\n",
        "  dataset_names[key] = raw_data_path + dataset_names[key]\n",
        "dataset_names"
      ]
    },
    {
      "cell_type": "markdown",
      "metadata": {
        "id": "kMGJu3hUOQLA"
      },
      "source": [
        "### Players"
      ]
    },
    {
      "cell_type": "code",
      "execution_count": null,
      "metadata": {
        "colab": {
          "base_uri": "https://localhost:8080/",
          "height": 374
        },
        "id": "y0Dlhng8QQYP",
        "outputId": "b14b3e22-49d8-4d4f-d5db-c20769a94e96"
      },
      "outputs": [
        {
          "data": {
            "text/html": [
              "\n",
              "  <div id=\"df-64226110-26c5-4d85-ac56-9781a72aa770\">\n",
              "    <div class=\"colab-df-container\">\n",
              "      <div>\n",
              "<style scoped>\n",
              "    .dataframe tbody tr th:only-of-type {\n",
              "        vertical-align: middle;\n",
              "    }\n",
              "\n",
              "    .dataframe tbody tr th {\n",
              "        vertical-align: top;\n",
              "    }\n",
              "\n",
              "    .dataframe thead th {\n",
              "        text-align: right;\n",
              "    }\n",
              "</style>\n",
              "<table border=\"1\" class=\"dataframe\">\n",
              "  <thead>\n",
              "    <tr style=\"text-align: right;\">\n",
              "      <th></th>\n",
              "      <th>playerId</th>\n",
              "      <th>playerName</th>\n",
              "      <th>DOB</th>\n",
              "      <th>mlbDebutDate</th>\n",
              "      <th>birthCity</th>\n",
              "      <th>birthStateProvince</th>\n",
              "      <th>birthCountry</th>\n",
              "      <th>heightInches</th>\n",
              "      <th>weight</th>\n",
              "      <th>primaryPositionCode</th>\n",
              "      <th>primaryPositionName</th>\n",
              "      <th>playerForTestSetAndFuturePreds</th>\n",
              "    </tr>\n",
              "  </thead>\n",
              "  <tbody>\n",
              "    <tr>\n",
              "      <th>0</th>\n",
              "      <td>665482</td>\n",
              "      <td>Gilberto Celestino</td>\n",
              "      <td>1999-02-13</td>\n",
              "      <td>2021-06-02</td>\n",
              "      <td>Santo Domingo</td>\n",
              "      <td>NaN</td>\n",
              "      <td>Dominican Republic</td>\n",
              "      <td>72</td>\n",
              "      <td>170</td>\n",
              "      <td>8</td>\n",
              "      <td>Outfielder</td>\n",
              "      <td>False</td>\n",
              "    </tr>\n",
              "    <tr>\n",
              "      <th>1</th>\n",
              "      <td>593590</td>\n",
              "      <td>Webster Rivas</td>\n",
              "      <td>1990-08-08</td>\n",
              "      <td>2021-05-28</td>\n",
              "      <td>Nagua</td>\n",
              "      <td>NaN</td>\n",
              "      <td>Dominican Republic</td>\n",
              "      <td>73</td>\n",
              "      <td>219</td>\n",
              "      <td>3</td>\n",
              "      <td>First Base</td>\n",
              "      <td>True</td>\n",
              "    </tr>\n",
              "    <tr>\n",
              "      <th>2</th>\n",
              "      <td>661269</td>\n",
              "      <td>Vladimir Gutierrez</td>\n",
              "      <td>1995-09-18</td>\n",
              "      <td>2021-05-28</td>\n",
              "      <td>Havana</td>\n",
              "      <td>NaN</td>\n",
              "      <td>Cuba</td>\n",
              "      <td>73</td>\n",
              "      <td>190</td>\n",
              "      <td>1</td>\n",
              "      <td>Pitcher</td>\n",
              "      <td>True</td>\n",
              "    </tr>\n",
              "    <tr>\n",
              "      <th>3</th>\n",
              "      <td>669212</td>\n",
              "      <td>Eli Morgan</td>\n",
              "      <td>1996-05-13</td>\n",
              "      <td>2021-05-28</td>\n",
              "      <td>Rancho Palos Verdes</td>\n",
              "      <td>CA</td>\n",
              "      <td>USA</td>\n",
              "      <td>70</td>\n",
              "      <td>190</td>\n",
              "      <td>1</td>\n",
              "      <td>Pitcher</td>\n",
              "      <td>True</td>\n",
              "    </tr>\n",
              "    <tr>\n",
              "      <th>4</th>\n",
              "      <td>666201</td>\n",
              "      <td>Alek Manoah</td>\n",
              "      <td>1998-01-09</td>\n",
              "      <td>2021-05-27</td>\n",
              "      <td>Homestead</td>\n",
              "      <td>FL</td>\n",
              "      <td>USA</td>\n",
              "      <td>78</td>\n",
              "      <td>260</td>\n",
              "      <td>1</td>\n",
              "      <td>Pitcher</td>\n",
              "      <td>True</td>\n",
              "    </tr>\n",
              "  </tbody>\n",
              "</table>\n",
              "</div>\n",
              "      <button class=\"colab-df-convert\" onclick=\"convertToInteractive('df-64226110-26c5-4d85-ac56-9781a72aa770')\"\n",
              "              title=\"Convert this dataframe to an interactive table.\"\n",
              "              style=\"display:none;\">\n",
              "        \n",
              "  <svg xmlns=\"http://www.w3.org/2000/svg\" height=\"24px\"viewBox=\"0 0 24 24\"\n",
              "       width=\"24px\">\n",
              "    <path d=\"M0 0h24v24H0V0z\" fill=\"none\"/>\n",
              "    <path d=\"M18.56 5.44l.94 2.06.94-2.06 2.06-.94-2.06-.94-.94-2.06-.94 2.06-2.06.94zm-11 1L8.5 8.5l.94-2.06 2.06-.94-2.06-.94L8.5 2.5l-.94 2.06-2.06.94zm10 10l.94 2.06.94-2.06 2.06-.94-2.06-.94-.94-2.06-.94 2.06-2.06.94z\"/><path d=\"M17.41 7.96l-1.37-1.37c-.4-.4-.92-.59-1.43-.59-.52 0-1.04.2-1.43.59L10.3 9.45l-7.72 7.72c-.78.78-.78 2.05 0 2.83L4 21.41c.39.39.9.59 1.41.59.51 0 1.02-.2 1.41-.59l7.78-7.78 2.81-2.81c.8-.78.8-2.07 0-2.86zM5.41 20L4 18.59l7.72-7.72 1.47 1.35L5.41 20z\"/>\n",
              "  </svg>\n",
              "      </button>\n",
              "      \n",
              "  <style>\n",
              "    .colab-df-container {\n",
              "      display:flex;\n",
              "      flex-wrap:wrap;\n",
              "      gap: 12px;\n",
              "    }\n",
              "\n",
              "    .colab-df-convert {\n",
              "      background-color: #E8F0FE;\n",
              "      border: none;\n",
              "      border-radius: 50%;\n",
              "      cursor: pointer;\n",
              "      display: none;\n",
              "      fill: #1967D2;\n",
              "      height: 32px;\n",
              "      padding: 0 0 0 0;\n",
              "      width: 32px;\n",
              "    }\n",
              "\n",
              "    .colab-df-convert:hover {\n",
              "      background-color: #E2EBFA;\n",
              "      box-shadow: 0px 1px 2px rgba(60, 64, 67, 0.3), 0px 1px 3px 1px rgba(60, 64, 67, 0.15);\n",
              "      fill: #174EA6;\n",
              "    }\n",
              "\n",
              "    [theme=dark] .colab-df-convert {\n",
              "      background-color: #3B4455;\n",
              "      fill: #D2E3FC;\n",
              "    }\n",
              "\n",
              "    [theme=dark] .colab-df-convert:hover {\n",
              "      background-color: #434B5C;\n",
              "      box-shadow: 0px 1px 3px 1px rgba(0, 0, 0, 0.15);\n",
              "      filter: drop-shadow(0px 1px 2px rgba(0, 0, 0, 0.3));\n",
              "      fill: #FFFFFF;\n",
              "    }\n",
              "  </style>\n",
              "\n",
              "      <script>\n",
              "        const buttonEl =\n",
              "          document.querySelector('#df-64226110-26c5-4d85-ac56-9781a72aa770 button.colab-df-convert');\n",
              "        buttonEl.style.display =\n",
              "          google.colab.kernel.accessAllowed ? 'block' : 'none';\n",
              "\n",
              "        async function convertToInteractive(key) {\n",
              "          const element = document.querySelector('#df-64226110-26c5-4d85-ac56-9781a72aa770');\n",
              "          const dataTable =\n",
              "            await google.colab.kernel.invokeFunction('convertToInteractive',\n",
              "                                                     [key], {});\n",
              "          if (!dataTable) return;\n",
              "\n",
              "          const docLinkHtml = 'Like what you see? Visit the ' +\n",
              "            '<a target=\"_blank\" href=https://colab.research.google.com/notebooks/data_table.ipynb>data table notebook</a>'\n",
              "            + ' to learn more about interactive tables.';\n",
              "          element.innerHTML = '';\n",
              "          dataTable['output_type'] = 'display_data';\n",
              "          await google.colab.output.renderOutput(dataTable, element);\n",
              "          const docLink = document.createElement('div');\n",
              "          docLink.innerHTML = docLinkHtml;\n",
              "          element.appendChild(docLink);\n",
              "        }\n",
              "      </script>\n",
              "    </div>\n",
              "  </div>\n",
              "  "
            ],
            "text/plain": [
              "   playerId          playerName         DOB mlbDebutDate            birthCity  \\\n",
              "0    665482  Gilberto Celestino  1999-02-13   2021-06-02        Santo Domingo   \n",
              "1    593590       Webster Rivas  1990-08-08   2021-05-28                Nagua   \n",
              "2    661269  Vladimir Gutierrez  1995-09-18   2021-05-28               Havana   \n",
              "3    669212          Eli Morgan  1996-05-13   2021-05-28  Rancho Palos Verdes   \n",
              "4    666201         Alek Manoah  1998-01-09   2021-05-27            Homestead   \n",
              "\n",
              "  birthStateProvince        birthCountry  heightInches  weight  \\\n",
              "0                NaN  Dominican Republic            72     170   \n",
              "1                NaN  Dominican Republic            73     219   \n",
              "2                NaN                Cuba            73     190   \n",
              "3                 CA                 USA            70     190   \n",
              "4                 FL                 USA            78     260   \n",
              "\n",
              "  primaryPositionCode primaryPositionName playerForTestSetAndFuturePreds  \n",
              "0                   8          Outfielder                          False  \n",
              "1                   3          First Base                           True  \n",
              "2                   1             Pitcher                           True  \n",
              "3                   1             Pitcher                           True  \n",
              "4                   1             Pitcher                           True  "
            ]
          },
          "execution_count": 10,
          "metadata": {},
          "output_type": "execute_result"
        }
      ],
      "source": [
        "df_players = pd.read_csv(dataset_names['Players'])\n",
        "df_players.head()"
      ]
    },
    {
      "cell_type": "code",
      "execution_count": null,
      "metadata": {
        "colab": {
          "base_uri": "https://localhost:8080/"
        },
        "id": "d3if6t7IK6v3",
        "outputId": "d2551612-b352-4fbe-8afc-2ea818eab6e0"
      },
      "outputs": [
        {
          "name": "stdout",
          "output_type": "stream",
          "text": [
            "<class 'pandas.core.frame.DataFrame'>\n",
            "RangeIndex: 2061 entries, 0 to 2060\n",
            "Data columns (total 12 columns):\n",
            " #   Column                          Non-Null Count  Dtype \n",
            "---  ------                          --------------  ----- \n",
            " 0   playerId                        2061 non-null   int64 \n",
            " 1   playerName                      2061 non-null   object\n",
            " 2   DOB                             2061 non-null   object\n",
            " 3   mlbDebutDate                    2025 non-null   object\n",
            " 4   birthCity                       2061 non-null   object\n",
            " 5   birthStateProvince              1516 non-null   object\n",
            " 6   birthCountry                    2061 non-null   object\n",
            " 7   heightInches                    2061 non-null   int64 \n",
            " 8   weight                          2061 non-null   int64 \n",
            " 9   primaryPositionCode             2061 non-null   object\n",
            " 10  primaryPositionName             2061 non-null   object\n",
            " 11  playerForTestSetAndFuturePreds  2057 non-null   object\n",
            "dtypes: int64(3), object(9)\n",
            "memory usage: 193.3+ KB\n"
          ]
        }
      ],
      "source": [
        "df_players.info()"
      ]
    },
    {
      "cell_type": "markdown",
      "metadata": {
        "id": "XIh_mOU7WdCi"
      },
      "source": [
        "Analisando o dataset, foram removidas a coluna `playerName`, por ela já estar representada pela coluna `playerId` e a coluna `birthStateProvince` pela quantidade de valores nulos que a mesma possui."
      ]
    },
    {
      "cell_type": "code",
      "execution_count": null,
      "metadata": {
        "colab": {
          "base_uri": "https://localhost:8080/"
        },
        "id": "l7p1c58VOF98",
        "outputId": "55e84a67-00f9-4a7a-9517-e188e6d6d018"
      },
      "outputs": [
        {
          "name": "stdout",
          "output_type": "stream",
          "text": [
            "<class 'pandas.core.frame.DataFrame'>\n",
            "RangeIndex: 2061 entries, 0 to 2060\n",
            "Data columns (total 10 columns):\n",
            " #   Column             Non-Null Count  Dtype \n",
            "---  ------             --------------  ----- \n",
            " 0   IdPlayer           2061 non-null   int64 \n",
            " 1   DtBirth            2061 non-null   object\n",
            " 2   DtMlbDebut         2025 non-null   object\n",
            " 3   NmCity             2061 non-null   object\n",
            " 4   NmCountry          2061 non-null   object\n",
            " 5   NuHeight           2061 non-null   int64 \n",
            " 6   NuWeight           2061 non-null   int64 \n",
            " 7   CdPrimaryPosition  2061 non-null   object\n",
            " 8   NmPrimaryPosition  2061 non-null   object\n",
            " 9   FlgForTestAndPred  2057 non-null   object\n",
            "dtypes: int64(3), object(7)\n",
            "memory usage: 161.1+ KB\n"
          ]
        }
      ],
      "source": [
        "# Select the columns that will be used on the df and renames them according to the pattern\n",
        "cols_df_players = {\n",
        "    'playerId': 'IdPlayer',\n",
        "    'DOB': 'DtBirth',\n",
        "    'mlbDebutDate': 'DtMlbDebut',\n",
        "    'birthCity': 'NmCity',\n",
        "    #'birthStateProvince': 'NmState',\n",
        "    'birthCountry': 'NmCountry',\n",
        "    'heightInches': 'NuHeight',\n",
        "    'weight': 'NuWeight',\n",
        "    'primaryPositionCode': 'CdPrimaryPosition',\n",
        "    'primaryPositionName': 'NmPrimaryPosition',\n",
        "    'playerForTestSetAndFuturePreds': 'FlgForTestAndPred'\n",
        "}\n",
        "df_players = df_players[list(cols_df_players)]\n",
        "df_players.columns = list(cols_df_players.values())\n",
        "df_players.info()"
      ]
    },
    {
      "cell_type": "code",
      "execution_count": null,
      "metadata": {
        "id": "X_2Mp-0ZVsnS"
      },
      "outputs": [],
      "source": [
        "# add the code to save the df as a .pkl"
      ]
    },
    {
      "cell_type": "markdown",
      "metadata": {
        "id": "z4-WvYHlYXeb"
      },
      "source": [
        "### Teams"
      ]
    },
    {
      "cell_type": "code",
      "execution_count": null,
      "metadata": {
        "colab": {
          "base_uri": "https://localhost:8080/",
          "height": 392
        },
        "id": "FfWW8HIBYWsp",
        "outputId": "c47c3896-0d66-49dc-e94b-1fd9a0827e42"
      },
      "outputs": [
        {
          "data": {
            "text/html": [
              "\n",
              "  <div id=\"df-3ad91fb2-f91b-4481-beb9-46639c478f29\">\n",
              "    <div class=\"colab-df-container\">\n",
              "      <div>\n",
              "<style scoped>\n",
              "    .dataframe tbody tr th:only-of-type {\n",
              "        vertical-align: middle;\n",
              "    }\n",
              "\n",
              "    .dataframe tbody tr th {\n",
              "        vertical-align: top;\n",
              "    }\n",
              "\n",
              "    .dataframe thead th {\n",
              "        text-align: right;\n",
              "    }\n",
              "</style>\n",
              "<table border=\"1\" class=\"dataframe\">\n",
              "  <thead>\n",
              "    <tr style=\"text-align: right;\">\n",
              "      <th></th>\n",
              "      <th>id</th>\n",
              "      <th>name</th>\n",
              "      <th>teamName</th>\n",
              "      <th>teamCode</th>\n",
              "      <th>shortName</th>\n",
              "      <th>abbreviation</th>\n",
              "      <th>locationName</th>\n",
              "      <th>leagueId</th>\n",
              "      <th>leagueName</th>\n",
              "      <th>divisionId</th>\n",
              "      <th>divisionName</th>\n",
              "      <th>venueId</th>\n",
              "      <th>venueName</th>\n",
              "    </tr>\n",
              "  </thead>\n",
              "  <tbody>\n",
              "    <tr>\n",
              "      <th>0</th>\n",
              "      <td>108</td>\n",
              "      <td>Los Angeles Angels</td>\n",
              "      <td>Angels</td>\n",
              "      <td>ana</td>\n",
              "      <td>LA Angels</td>\n",
              "      <td>LAA</td>\n",
              "      <td>Anaheim</td>\n",
              "      <td>103</td>\n",
              "      <td>American League</td>\n",
              "      <td>200</td>\n",
              "      <td>American League West</td>\n",
              "      <td>1</td>\n",
              "      <td>Angel Stadium</td>\n",
              "    </tr>\n",
              "    <tr>\n",
              "      <th>1</th>\n",
              "      <td>109</td>\n",
              "      <td>Arizona Diamondbacks</td>\n",
              "      <td>D-backs</td>\n",
              "      <td>ari</td>\n",
              "      <td>Arizona</td>\n",
              "      <td>ARI</td>\n",
              "      <td>Phoenix</td>\n",
              "      <td>104</td>\n",
              "      <td>National League</td>\n",
              "      <td>203</td>\n",
              "      <td>National League West</td>\n",
              "      <td>15</td>\n",
              "      <td>Chase Field</td>\n",
              "    </tr>\n",
              "    <tr>\n",
              "      <th>2</th>\n",
              "      <td>110</td>\n",
              "      <td>Baltimore Orioles</td>\n",
              "      <td>Orioles</td>\n",
              "      <td>bal</td>\n",
              "      <td>Baltimore</td>\n",
              "      <td>BAL</td>\n",
              "      <td>Baltimore</td>\n",
              "      <td>103</td>\n",
              "      <td>American League</td>\n",
              "      <td>201</td>\n",
              "      <td>American League East</td>\n",
              "      <td>2</td>\n",
              "      <td>Oriole Park at Camden Yards</td>\n",
              "    </tr>\n",
              "    <tr>\n",
              "      <th>3</th>\n",
              "      <td>111</td>\n",
              "      <td>Boston Red Sox</td>\n",
              "      <td>Red Sox</td>\n",
              "      <td>bos</td>\n",
              "      <td>Boston</td>\n",
              "      <td>BOS</td>\n",
              "      <td>Boston</td>\n",
              "      <td>103</td>\n",
              "      <td>American League</td>\n",
              "      <td>201</td>\n",
              "      <td>American League East</td>\n",
              "      <td>3</td>\n",
              "      <td>Fenway Park</td>\n",
              "    </tr>\n",
              "    <tr>\n",
              "      <th>4</th>\n",
              "      <td>112</td>\n",
              "      <td>Chicago Cubs</td>\n",
              "      <td>Cubs</td>\n",
              "      <td>chn</td>\n",
              "      <td>Chi Cubs</td>\n",
              "      <td>CHC</td>\n",
              "      <td>Chicago</td>\n",
              "      <td>104</td>\n",
              "      <td>National League</td>\n",
              "      <td>205</td>\n",
              "      <td>National League Central</td>\n",
              "      <td>17</td>\n",
              "      <td>Wrigley Field</td>\n",
              "    </tr>\n",
              "  </tbody>\n",
              "</table>\n",
              "</div>\n",
              "      <button class=\"colab-df-convert\" onclick=\"convertToInteractive('df-3ad91fb2-f91b-4481-beb9-46639c478f29')\"\n",
              "              title=\"Convert this dataframe to an interactive table.\"\n",
              "              style=\"display:none;\">\n",
              "        \n",
              "  <svg xmlns=\"http://www.w3.org/2000/svg\" height=\"24px\"viewBox=\"0 0 24 24\"\n",
              "       width=\"24px\">\n",
              "    <path d=\"M0 0h24v24H0V0z\" fill=\"none\"/>\n",
              "    <path d=\"M18.56 5.44l.94 2.06.94-2.06 2.06-.94-2.06-.94-.94-2.06-.94 2.06-2.06.94zm-11 1L8.5 8.5l.94-2.06 2.06-.94-2.06-.94L8.5 2.5l-.94 2.06-2.06.94zm10 10l.94 2.06.94-2.06 2.06-.94-2.06-.94-.94-2.06-.94 2.06-2.06.94z\"/><path d=\"M17.41 7.96l-1.37-1.37c-.4-.4-.92-.59-1.43-.59-.52 0-1.04.2-1.43.59L10.3 9.45l-7.72 7.72c-.78.78-.78 2.05 0 2.83L4 21.41c.39.39.9.59 1.41.59.51 0 1.02-.2 1.41-.59l7.78-7.78 2.81-2.81c.8-.78.8-2.07 0-2.86zM5.41 20L4 18.59l7.72-7.72 1.47 1.35L5.41 20z\"/>\n",
              "  </svg>\n",
              "      </button>\n",
              "      \n",
              "  <style>\n",
              "    .colab-df-container {\n",
              "      display:flex;\n",
              "      flex-wrap:wrap;\n",
              "      gap: 12px;\n",
              "    }\n",
              "\n",
              "    .colab-df-convert {\n",
              "      background-color: #E8F0FE;\n",
              "      border: none;\n",
              "      border-radius: 50%;\n",
              "      cursor: pointer;\n",
              "      display: none;\n",
              "      fill: #1967D2;\n",
              "      height: 32px;\n",
              "      padding: 0 0 0 0;\n",
              "      width: 32px;\n",
              "    }\n",
              "\n",
              "    .colab-df-convert:hover {\n",
              "      background-color: #E2EBFA;\n",
              "      box-shadow: 0px 1px 2px rgba(60, 64, 67, 0.3), 0px 1px 3px 1px rgba(60, 64, 67, 0.15);\n",
              "      fill: #174EA6;\n",
              "    }\n",
              "\n",
              "    [theme=dark] .colab-df-convert {\n",
              "      background-color: #3B4455;\n",
              "      fill: #D2E3FC;\n",
              "    }\n",
              "\n",
              "    [theme=dark] .colab-df-convert:hover {\n",
              "      background-color: #434B5C;\n",
              "      box-shadow: 0px 1px 3px 1px rgba(0, 0, 0, 0.15);\n",
              "      filter: drop-shadow(0px 1px 2px rgba(0, 0, 0, 0.3));\n",
              "      fill: #FFFFFF;\n",
              "    }\n",
              "  </style>\n",
              "\n",
              "      <script>\n",
              "        const buttonEl =\n",
              "          document.querySelector('#df-3ad91fb2-f91b-4481-beb9-46639c478f29 button.colab-df-convert');\n",
              "        buttonEl.style.display =\n",
              "          google.colab.kernel.accessAllowed ? 'block' : 'none';\n",
              "\n",
              "        async function convertToInteractive(key) {\n",
              "          const element = document.querySelector('#df-3ad91fb2-f91b-4481-beb9-46639c478f29');\n",
              "          const dataTable =\n",
              "            await google.colab.kernel.invokeFunction('convertToInteractive',\n",
              "                                                     [key], {});\n",
              "          if (!dataTable) return;\n",
              "\n",
              "          const docLinkHtml = 'Like what you see? Visit the ' +\n",
              "            '<a target=\"_blank\" href=https://colab.research.google.com/notebooks/data_table.ipynb>data table notebook</a>'\n",
              "            + ' to learn more about interactive tables.';\n",
              "          element.innerHTML = '';\n",
              "          dataTable['output_type'] = 'display_data';\n",
              "          await google.colab.output.renderOutput(dataTable, element);\n",
              "          const docLink = document.createElement('div');\n",
              "          docLink.innerHTML = docLinkHtml;\n",
              "          element.appendChild(docLink);\n",
              "        }\n",
              "      </script>\n",
              "    </div>\n",
              "  </div>\n",
              "  "
            ],
            "text/plain": [
              "    id                  name teamName teamCode  shortName abbreviation  \\\n",
              "0  108    Los Angeles Angels   Angels      ana  LA Angels          LAA   \n",
              "1  109  Arizona Diamondbacks  D-backs      ari    Arizona          ARI   \n",
              "2  110     Baltimore Orioles  Orioles      bal  Baltimore          BAL   \n",
              "3  111        Boston Red Sox  Red Sox      bos     Boston          BOS   \n",
              "4  112          Chicago Cubs     Cubs      chn   Chi Cubs          CHC   \n",
              "\n",
              "  locationName  leagueId       leagueName  divisionId  \\\n",
              "0      Anaheim       103  American League         200   \n",
              "1      Phoenix       104  National League         203   \n",
              "2    Baltimore       103  American League         201   \n",
              "3       Boston       103  American League         201   \n",
              "4      Chicago       104  National League         205   \n",
              "\n",
              "              divisionName  venueId                    venueName  \n",
              "0     American League West        1                Angel Stadium  \n",
              "1     National League West       15                  Chase Field  \n",
              "2     American League East        2  Oriole Park at Camden Yards  \n",
              "3     American League East        3                  Fenway Park  \n",
              "4  National League Central       17                Wrigley Field  "
            ]
          },
          "execution_count": 14,
          "metadata": {},
          "output_type": "execute_result"
        }
      ],
      "source": [
        "df_teams = pd.read_csv(dataset_names['Teams'])\n",
        "df_teams.head()"
      ]
    },
    {
      "cell_type": "code",
      "execution_count": null,
      "metadata": {
        "colab": {
          "base_uri": "https://localhost:8080/"
        },
        "id": "TeGqbT3eZSZY",
        "outputId": "d0b210df-b26e-4451-8fe2-0e7512c27cbc"
      },
      "outputs": [
        {
          "name": "stdout",
          "output_type": "stream",
          "text": [
            "<class 'pandas.core.frame.DataFrame'>\n",
            "RangeIndex: 30 entries, 0 to 29\n",
            "Data columns (total 13 columns):\n",
            " #   Column        Non-Null Count  Dtype \n",
            "---  ------        --------------  ----- \n",
            " 0   id            30 non-null     int64 \n",
            " 1   name          30 non-null     object\n",
            " 2   teamName      30 non-null     object\n",
            " 3   teamCode      30 non-null     object\n",
            " 4   shortName     30 non-null     object\n",
            " 5   abbreviation  30 non-null     object\n",
            " 6   locationName  30 non-null     object\n",
            " 7   leagueId      30 non-null     int64 \n",
            " 8   leagueName    30 non-null     object\n",
            " 9   divisionId    30 non-null     int64 \n",
            " 10  divisionName  30 non-null     object\n",
            " 11  venueId       30 non-null     int64 \n",
            " 12  venueName     30 non-null     object\n",
            "dtypes: int64(4), object(9)\n",
            "memory usage: 3.2+ KB\n"
          ]
        }
      ],
      "source": [
        "df_teams.info()"
      ]
    },
    {
      "cell_type": "code",
      "execution_count": null,
      "metadata": {
        "colab": {
          "base_uri": "https://localhost:8080/"
        },
        "id": "A_hfCfuKYy7K",
        "outputId": "b6dc4c35-ab38-441f-ff7e-ccd3da4c8022"
      },
      "outputs": [
        {
          "name": "stdout",
          "output_type": "stream",
          "text": [
            "<class 'pandas.core.frame.DataFrame'>\n",
            "RangeIndex: 30 entries, 0 to 29\n",
            "Data columns (total 5 columns):\n",
            " #   Column      Non-Null Count  Dtype \n",
            "---  ------      --------------  ----- \n",
            " 0   IdTeam      30 non-null     int64 \n",
            " 1   NmLocation  30 non-null     object\n",
            " 2   IdLeague    30 non-null     int64 \n",
            " 3   IdDivision  30 non-null     int64 \n",
            " 4   IdVenue     30 non-null     int64 \n",
            "dtypes: int64(4), object(1)\n",
            "memory usage: 1.3+ KB\n"
          ]
        }
      ],
      "source": [
        "cols_df_teams = {\n",
        "     'id': 'IdTeam'\n",
        "    ,'locationName': 'NmLocation'\n",
        "    ,'leagueId': 'IdLeague'\n",
        "    ,'divisionId': 'IdDivision'\n",
        "    ,'venueId': 'IdVenue'\n",
        "}\n",
        "df_teams = df_teams[list(cols_df_teams.keys())]\n",
        "df_teams.columns = list(cols_df_teams.values())\n",
        "df_teams.info()"
      ]
    },
    {
      "cell_type": "code",
      "execution_count": null,
      "metadata": {
        "id": "f_hyAcX1aLuD"
      },
      "outputs": [],
      "source": [
        "# add the code to save the df as a .pkl"
      ]
    },
    {
      "cell_type": "markdown",
      "metadata": {
        "id": "vsLwU3E6f6CQ"
      },
      "source": [
        "### Awards"
      ]
    },
    {
      "cell_type": "code",
      "execution_count": null,
      "metadata": {
        "id": "TglrCH9Uf9ys"
      },
      "outputs": [],
      "source": [
        "df = pd.read_csv(dataset_names['Example'])"
      ]
    },
    {
      "cell_type": "code",
      "execution_count": null,
      "metadata": {},
      "outputs": [],
      "source": []
    },
    {
      "cell_type": "code",
      "execution_count": null,
      "metadata": {
        "id": "GgZB-j3zgwj8"
      },
      "outputs": [],
      "source": []
    }
  ],
  "metadata": {
    "colab": {
      "provenance": []
    },
    "kernelspec": {
      "display_name": "Python 3",
      "language": "python",
      "name": "python3"
    },
    "language_info": {
      "codemirror_mode": {
        "name": "ipython",
        "version": 3
      },
      "file_extension": ".py",
      "mimetype": "text/x-python",
      "name": "python",
      "nbconvert_exporter": "python",
      "pygments_lexer": "ipython3",
      "version": "3.10.6 (main, Nov 14 2022, 16:10:14) [GCC 11.3.0]"
    },
    "orig_nbformat": 4,
    "vscode": {
      "interpreter": {
        "hash": "916dbcbb3f70747c44a77c7bcd40155683ae19c65e1c03b4aa3499c5328201f1"
      }
    }
  },
  "nbformat": 4,
  "nbformat_minor": 0
}

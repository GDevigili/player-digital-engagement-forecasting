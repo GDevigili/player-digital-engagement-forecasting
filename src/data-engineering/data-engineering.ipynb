{
  "cells": [
    {
      "cell_type": "markdown",
      "metadata": {
        "id": "QPHk08vLQQYI"
      },
      "source": [
        "# Data Preparation\n",
        "\n",
        "Notebook que irá conter o código utilizado para a preparação dos dados do projeto.\n",
        "\n",
        "os dados \"crus\" estão localizados em **/src/data/raw-data** e os dados tratados devem ser salvos em **/src/data/processed-data** "
      ]
    },
    {
      "cell_type": "markdown",
      "metadata": {
        "id": "xMsbLNTmSI0Z"
      },
      "source": [
        "## Initial Setup"
      ]
    },
    {
      "cell_type": "code",
      "execution_count": 1,
      "metadata": {
        "id": "QaqApYYISMmT"
      },
      "outputs": [],
      "source": [
        "import pandas as pd\n",
        "import numpy as np\n",
        "\n",
        "import pickle as pkl\n",
        "\n",
        "from joblib import Parallel, delayed"
      ]
    },
    {
      "cell_type": "code",
      "execution_count": 2,
      "metadata": {
        "id": "lH30P2cEQQYN"
      },
      "outputs": [],
      "source": [
        "# File paths for working locally\n",
        "raw_data_path = '../data/raw-data/'\n",
        "processed_data_path = '../data/processed-data/'"
      ]
    },
    {
      "cell_type": "code",
      "execution_count": 3,
      "metadata": {
        "colab": {
          "base_uri": "https://localhost:8080/"
        },
        "id": "PKSBphoiQwOW",
        "outputId": "37c502e2-9d66-441a-9b20-10ae9011d8db"
      },
      "outputs": [],
      "source": [
        "# # Uncomment this cell if running on Google Colab\n",
        "# from google.colab import drive\n",
        "# drive.mount('/content/drive/')\n",
        "# raw_data_path = '/content/drive/MyDrive/datasets/mlb-player-digital-engagement-forecasting/'"
      ]
    },
    {
      "cell_type": "code",
      "execution_count": 4,
      "metadata": {},
      "outputs": [
        {
          "data": {
            "text/plain": [
              "{'Awards': '../data/raw-data/awards.csv',\n",
              " 'Example': '../data/raw-data/example_test.csv',\n",
              " 'Players': '../data/raw-data/players.csv',\n",
              " 'Seasons': '../data/raw-data/seasons.csv',\n",
              " 'Teams': '../data/raw-data/teams.csv',\n",
              " 'Train': '../data/raw-data/train_updated.csv'}"
            ]
          },
          "execution_count": 4,
          "metadata": {},
          "output_type": "execute_result"
        }
      ],
      "source": [
        "dataset_names = {\n",
        "    'Awards': 'awards.csv', \n",
        "    'Example': 'example_test.csv', \n",
        "    'Players': 'players.csv',\n",
        "    'Seasons': 'seasons.csv', \n",
        "    'Teams': 'teams.csv', \n",
        "    'Train': 'train_updated.csv'\n",
        "}\n",
        "for key in dataset_names:\n",
        "  dataset_names[key] = raw_data_path + dataset_names[key]\n",
        "dataset_names"
      ]
    },
    {
      "attachments": {},
      "cell_type": "markdown",
      "metadata": {
        "id": "boMpsEe2RXRp"
      },
      "source": [
        "## Loading the auxiliary Datasets"
      ]
    },
    {
      "cell_type": "markdown",
      "metadata": {
        "id": "kMGJu3hUOQLA"
      },
      "source": [
        "### Players"
      ]
    },
    {
      "cell_type": "code",
      "execution_count": 5,
      "metadata": {
        "colab": {
          "base_uri": "https://localhost:8080/",
          "height": 374
        },
        "id": "y0Dlhng8QQYP",
        "outputId": "b14b3e22-49d8-4d4f-d5db-c20769a94e96"
      },
      "outputs": [
        {
          "data": {
            "text/html": [
              "<div>\n",
              "<style scoped>\n",
              "    .dataframe tbody tr th:only-of-type {\n",
              "        vertical-align: middle;\n",
              "    }\n",
              "\n",
              "    .dataframe tbody tr th {\n",
              "        vertical-align: top;\n",
              "    }\n",
              "\n",
              "    .dataframe thead th {\n",
              "        text-align: right;\n",
              "    }\n",
              "</style>\n",
              "<table border=\"1\" class=\"dataframe\">\n",
              "  <thead>\n",
              "    <tr style=\"text-align: right;\">\n",
              "      <th></th>\n",
              "      <th>playerId</th>\n",
              "      <th>playerName</th>\n",
              "      <th>DOB</th>\n",
              "      <th>mlbDebutDate</th>\n",
              "      <th>birthCity</th>\n",
              "      <th>birthStateProvince</th>\n",
              "      <th>birthCountry</th>\n",
              "      <th>heightInches</th>\n",
              "      <th>weight</th>\n",
              "      <th>primaryPositionCode</th>\n",
              "      <th>primaryPositionName</th>\n",
              "      <th>playerForTestSetAndFuturePreds</th>\n",
              "    </tr>\n",
              "  </thead>\n",
              "  <tbody>\n",
              "    <tr>\n",
              "      <th>0</th>\n",
              "      <td>665482</td>\n",
              "      <td>Gilberto Celestino</td>\n",
              "      <td>1999-02-13</td>\n",
              "      <td>2021-06-02</td>\n",
              "      <td>Santo Domingo</td>\n",
              "      <td>NaN</td>\n",
              "      <td>Dominican Republic</td>\n",
              "      <td>72</td>\n",
              "      <td>170</td>\n",
              "      <td>8</td>\n",
              "      <td>Outfielder</td>\n",
              "      <td>False</td>\n",
              "    </tr>\n",
              "    <tr>\n",
              "      <th>1</th>\n",
              "      <td>593590</td>\n",
              "      <td>Webster Rivas</td>\n",
              "      <td>1990-08-08</td>\n",
              "      <td>2021-05-28</td>\n",
              "      <td>Nagua</td>\n",
              "      <td>NaN</td>\n",
              "      <td>Dominican Republic</td>\n",
              "      <td>73</td>\n",
              "      <td>219</td>\n",
              "      <td>3</td>\n",
              "      <td>First Base</td>\n",
              "      <td>True</td>\n",
              "    </tr>\n",
              "    <tr>\n",
              "      <th>2</th>\n",
              "      <td>661269</td>\n",
              "      <td>Vladimir Gutierrez</td>\n",
              "      <td>1995-09-18</td>\n",
              "      <td>2021-05-28</td>\n",
              "      <td>Havana</td>\n",
              "      <td>NaN</td>\n",
              "      <td>Cuba</td>\n",
              "      <td>73</td>\n",
              "      <td>190</td>\n",
              "      <td>1</td>\n",
              "      <td>Pitcher</td>\n",
              "      <td>True</td>\n",
              "    </tr>\n",
              "    <tr>\n",
              "      <th>3</th>\n",
              "      <td>669212</td>\n",
              "      <td>Eli Morgan</td>\n",
              "      <td>1996-05-13</td>\n",
              "      <td>2021-05-28</td>\n",
              "      <td>Rancho Palos Verdes</td>\n",
              "      <td>CA</td>\n",
              "      <td>USA</td>\n",
              "      <td>70</td>\n",
              "      <td>190</td>\n",
              "      <td>1</td>\n",
              "      <td>Pitcher</td>\n",
              "      <td>True</td>\n",
              "    </tr>\n",
              "    <tr>\n",
              "      <th>4</th>\n",
              "      <td>666201</td>\n",
              "      <td>Alek Manoah</td>\n",
              "      <td>1998-01-09</td>\n",
              "      <td>2021-05-27</td>\n",
              "      <td>Homestead</td>\n",
              "      <td>FL</td>\n",
              "      <td>USA</td>\n",
              "      <td>78</td>\n",
              "      <td>260</td>\n",
              "      <td>1</td>\n",
              "      <td>Pitcher</td>\n",
              "      <td>True</td>\n",
              "    </tr>\n",
              "  </tbody>\n",
              "</table>\n",
              "</div>"
            ],
            "text/plain": [
              "   playerId          playerName         DOB mlbDebutDate            birthCity  \\\n",
              "0    665482  Gilberto Celestino  1999-02-13   2021-06-02        Santo Domingo   \n",
              "1    593590       Webster Rivas  1990-08-08   2021-05-28                Nagua   \n",
              "2    661269  Vladimir Gutierrez  1995-09-18   2021-05-28               Havana   \n",
              "3    669212          Eli Morgan  1996-05-13   2021-05-28  Rancho Palos Verdes   \n",
              "4    666201         Alek Manoah  1998-01-09   2021-05-27            Homestead   \n",
              "\n",
              "  birthStateProvince        birthCountry  heightInches  weight  \\\n",
              "0                NaN  Dominican Republic            72     170   \n",
              "1                NaN  Dominican Republic            73     219   \n",
              "2                NaN                Cuba            73     190   \n",
              "3                 CA                 USA            70     190   \n",
              "4                 FL                 USA            78     260   \n",
              "\n",
              "  primaryPositionCode primaryPositionName playerForTestSetAndFuturePreds  \n",
              "0                   8          Outfielder                          False  \n",
              "1                   3          First Base                           True  \n",
              "2                   1             Pitcher                           True  \n",
              "3                   1             Pitcher                           True  \n",
              "4                   1             Pitcher                           True  "
            ]
          },
          "execution_count": 5,
          "metadata": {},
          "output_type": "execute_result"
        }
      ],
      "source": [
        "df_players = pd.read_csv(dataset_names['Players'])\n",
        "df_players.head()"
      ]
    },
    {
      "cell_type": "code",
      "execution_count": 6,
      "metadata": {
        "colab": {
          "base_uri": "https://localhost:8080/"
        },
        "id": "d3if6t7IK6v3",
        "outputId": "d2551612-b352-4fbe-8afc-2ea818eab6e0"
      },
      "outputs": [
        {
          "name": "stdout",
          "output_type": "stream",
          "text": [
            "<class 'pandas.core.frame.DataFrame'>\n",
            "RangeIndex: 2061 entries, 0 to 2060\n",
            "Data columns (total 12 columns):\n",
            " #   Column                          Non-Null Count  Dtype \n",
            "---  ------                          --------------  ----- \n",
            " 0   playerId                        2061 non-null   int64 \n",
            " 1   playerName                      2061 non-null   object\n",
            " 2   DOB                             2061 non-null   object\n",
            " 3   mlbDebutDate                    2025 non-null   object\n",
            " 4   birthCity                       2061 non-null   object\n",
            " 5   birthStateProvince              1516 non-null   object\n",
            " 6   birthCountry                    2061 non-null   object\n",
            " 7   heightInches                    2061 non-null   int64 \n",
            " 8   weight                          2061 non-null   int64 \n",
            " 9   primaryPositionCode             2061 non-null   object\n",
            " 10  primaryPositionName             2061 non-null   object\n",
            " 11  playerForTestSetAndFuturePreds  2057 non-null   object\n",
            "dtypes: int64(3), object(9)\n",
            "memory usage: 193.3+ KB\n"
          ]
        }
      ],
      "source": [
        "df_players.info()"
      ]
    },
    {
      "cell_type": "markdown",
      "metadata": {
        "id": "XIh_mOU7WdCi"
      },
      "source": [
        "Analisando o dataset, foram removidas a coluna `playerName`, por ela já estar representada pela coluna `playerId` e a coluna `birthStateProvince` pela quantidade de valores nulos que a mesma possui."
      ]
    },
    {
      "cell_type": "code",
      "execution_count": 7,
      "metadata": {
        "colab": {
          "base_uri": "https://localhost:8080/"
        },
        "id": "l7p1c58VOF98",
        "outputId": "55e84a67-00f9-4a7a-9517-e188e6d6d018"
      },
      "outputs": [
        {
          "name": "stdout",
          "output_type": "stream",
          "text": [
            "<class 'pandas.core.frame.DataFrame'>\n",
            "RangeIndex: 2061 entries, 0 to 2060\n",
            "Data columns (total 10 columns):\n",
            " #   Column             Non-Null Count  Dtype \n",
            "---  ------             --------------  ----- \n",
            " 0   IdPlayer           2061 non-null   int64 \n",
            " 1   DtBirth            2061 non-null   object\n",
            " 2   DtMlbDebut         2025 non-null   object\n",
            " 3   NmCity             2061 non-null   object\n",
            " 4   NmCountry          2061 non-null   object\n",
            " 5   NuHeight           2061 non-null   int64 \n",
            " 6   NuWeight           2061 non-null   int64 \n",
            " 7   CdPrimaryPosition  2061 non-null   object\n",
            " 8   NmPrimaryPosition  2061 non-null   object\n",
            " 9   FlgForTestAndPred  2057 non-null   object\n",
            "dtypes: int64(3), object(7)\n",
            "memory usage: 161.1+ KB\n"
          ]
        }
      ],
      "source": [
        "# Select the columns that will be used on the df and renames them according to the pattern\n",
        "cols = {\n",
        "    'playerId': 'IdPlayer',\n",
        "    'DOB': 'DtBirth',\n",
        "    'mlbDebutDate': 'DtMlbDebut',\n",
        "    'birthCity': 'NmCity',\n",
        "    #'birthStateProvince': 'NmState',\n",
        "    'birthCountry': 'NmCountry',\n",
        "    'heightInches': 'NuHeight',\n",
        "    'weight': 'NuWeight',\n",
        "    'primaryPositionCode': 'CdPrimaryPosition',\n",
        "    'primaryPositionName': 'NmPrimaryPosition',\n",
        "    'playerForTestSetAndFuturePreds': 'FlgForTestAndPred'\n",
        "}\n",
        "df_players = df_players[list(cols)]\n",
        "df_players.columns = list(cols.values())\n",
        "df_players.info()"
      ]
    },
    {
      "cell_type": "code",
      "execution_count": 8,
      "metadata": {
        "id": "X_2Mp-0ZVsnS"
      },
      "outputs": [],
      "source": [
        "# pd.to_pickle(df_players, processed_data_path + 'players.pkl')\n",
        "del df_players"
      ]
    },
    {
      "cell_type": "markdown",
      "metadata": {
        "id": "z4-WvYHlYXeb"
      },
      "source": [
        "### Teams"
      ]
    },
    {
      "cell_type": "code",
      "execution_count": 9,
      "metadata": {
        "colab": {
          "base_uri": "https://localhost:8080/",
          "height": 392
        },
        "id": "FfWW8HIBYWsp",
        "outputId": "c47c3896-0d66-49dc-e94b-1fd9a0827e42"
      },
      "outputs": [
        {
          "data": {
            "text/html": [
              "<div>\n",
              "<style scoped>\n",
              "    .dataframe tbody tr th:only-of-type {\n",
              "        vertical-align: middle;\n",
              "    }\n",
              "\n",
              "    .dataframe tbody tr th {\n",
              "        vertical-align: top;\n",
              "    }\n",
              "\n",
              "    .dataframe thead th {\n",
              "        text-align: right;\n",
              "    }\n",
              "</style>\n",
              "<table border=\"1\" class=\"dataframe\">\n",
              "  <thead>\n",
              "    <tr style=\"text-align: right;\">\n",
              "      <th></th>\n",
              "      <th>id</th>\n",
              "      <th>name</th>\n",
              "      <th>teamName</th>\n",
              "      <th>teamCode</th>\n",
              "      <th>shortName</th>\n",
              "      <th>abbreviation</th>\n",
              "      <th>locationName</th>\n",
              "      <th>leagueId</th>\n",
              "      <th>leagueName</th>\n",
              "      <th>divisionId</th>\n",
              "      <th>divisionName</th>\n",
              "      <th>venueId</th>\n",
              "      <th>venueName</th>\n",
              "    </tr>\n",
              "  </thead>\n",
              "  <tbody>\n",
              "    <tr>\n",
              "      <th>0</th>\n",
              "      <td>108</td>\n",
              "      <td>Los Angeles Angels</td>\n",
              "      <td>Angels</td>\n",
              "      <td>ana</td>\n",
              "      <td>LA Angels</td>\n",
              "      <td>LAA</td>\n",
              "      <td>Anaheim</td>\n",
              "      <td>103</td>\n",
              "      <td>American League</td>\n",
              "      <td>200</td>\n",
              "      <td>American League West</td>\n",
              "      <td>1</td>\n",
              "      <td>Angel Stadium</td>\n",
              "    </tr>\n",
              "    <tr>\n",
              "      <th>1</th>\n",
              "      <td>109</td>\n",
              "      <td>Arizona Diamondbacks</td>\n",
              "      <td>D-backs</td>\n",
              "      <td>ari</td>\n",
              "      <td>Arizona</td>\n",
              "      <td>ARI</td>\n",
              "      <td>Phoenix</td>\n",
              "      <td>104</td>\n",
              "      <td>National League</td>\n",
              "      <td>203</td>\n",
              "      <td>National League West</td>\n",
              "      <td>15</td>\n",
              "      <td>Chase Field</td>\n",
              "    </tr>\n",
              "    <tr>\n",
              "      <th>2</th>\n",
              "      <td>110</td>\n",
              "      <td>Baltimore Orioles</td>\n",
              "      <td>Orioles</td>\n",
              "      <td>bal</td>\n",
              "      <td>Baltimore</td>\n",
              "      <td>BAL</td>\n",
              "      <td>Baltimore</td>\n",
              "      <td>103</td>\n",
              "      <td>American League</td>\n",
              "      <td>201</td>\n",
              "      <td>American League East</td>\n",
              "      <td>2</td>\n",
              "      <td>Oriole Park at Camden Yards</td>\n",
              "    </tr>\n",
              "    <tr>\n",
              "      <th>3</th>\n",
              "      <td>111</td>\n",
              "      <td>Boston Red Sox</td>\n",
              "      <td>Red Sox</td>\n",
              "      <td>bos</td>\n",
              "      <td>Boston</td>\n",
              "      <td>BOS</td>\n",
              "      <td>Boston</td>\n",
              "      <td>103</td>\n",
              "      <td>American League</td>\n",
              "      <td>201</td>\n",
              "      <td>American League East</td>\n",
              "      <td>3</td>\n",
              "      <td>Fenway Park</td>\n",
              "    </tr>\n",
              "    <tr>\n",
              "      <th>4</th>\n",
              "      <td>112</td>\n",
              "      <td>Chicago Cubs</td>\n",
              "      <td>Cubs</td>\n",
              "      <td>chn</td>\n",
              "      <td>Chi Cubs</td>\n",
              "      <td>CHC</td>\n",
              "      <td>Chicago</td>\n",
              "      <td>104</td>\n",
              "      <td>National League</td>\n",
              "      <td>205</td>\n",
              "      <td>National League Central</td>\n",
              "      <td>17</td>\n",
              "      <td>Wrigley Field</td>\n",
              "    </tr>\n",
              "  </tbody>\n",
              "</table>\n",
              "</div>"
            ],
            "text/plain": [
              "    id                  name teamName teamCode  shortName abbreviation  \\\n",
              "0  108    Los Angeles Angels   Angels      ana  LA Angels          LAA   \n",
              "1  109  Arizona Diamondbacks  D-backs      ari    Arizona          ARI   \n",
              "2  110     Baltimore Orioles  Orioles      bal  Baltimore          BAL   \n",
              "3  111        Boston Red Sox  Red Sox      bos     Boston          BOS   \n",
              "4  112          Chicago Cubs     Cubs      chn   Chi Cubs          CHC   \n",
              "\n",
              "  locationName  leagueId       leagueName  divisionId  \\\n",
              "0      Anaheim       103  American League         200   \n",
              "1      Phoenix       104  National League         203   \n",
              "2    Baltimore       103  American League         201   \n",
              "3       Boston       103  American League         201   \n",
              "4      Chicago       104  National League         205   \n",
              "\n",
              "              divisionName  venueId                    venueName  \n",
              "0     American League West        1                Angel Stadium  \n",
              "1     National League West       15                  Chase Field  \n",
              "2     American League East        2  Oriole Park at Camden Yards  \n",
              "3     American League East        3                  Fenway Park  \n",
              "4  National League Central       17                Wrigley Field  "
            ]
          },
          "execution_count": 9,
          "metadata": {},
          "output_type": "execute_result"
        }
      ],
      "source": [
        "df_teams = pd.read_csv(dataset_names['Teams'])\n",
        "df_teams.head()"
      ]
    },
    {
      "cell_type": "code",
      "execution_count": 10,
      "metadata": {
        "colab": {
          "base_uri": "https://localhost:8080/"
        },
        "id": "TeGqbT3eZSZY",
        "outputId": "d0b210df-b26e-4451-8fe2-0e7512c27cbc"
      },
      "outputs": [
        {
          "name": "stdout",
          "output_type": "stream",
          "text": [
            "<class 'pandas.core.frame.DataFrame'>\n",
            "RangeIndex: 30 entries, 0 to 29\n",
            "Data columns (total 13 columns):\n",
            " #   Column        Non-Null Count  Dtype \n",
            "---  ------        --------------  ----- \n",
            " 0   id            30 non-null     int64 \n",
            " 1   name          30 non-null     object\n",
            " 2   teamName      30 non-null     object\n",
            " 3   teamCode      30 non-null     object\n",
            " 4   shortName     30 non-null     object\n",
            " 5   abbreviation  30 non-null     object\n",
            " 6   locationName  30 non-null     object\n",
            " 7   leagueId      30 non-null     int64 \n",
            " 8   leagueName    30 non-null     object\n",
            " 9   divisionId    30 non-null     int64 \n",
            " 10  divisionName  30 non-null     object\n",
            " 11  venueId       30 non-null     int64 \n",
            " 12  venueName     30 non-null     object\n",
            "dtypes: int64(4), object(9)\n",
            "memory usage: 3.2+ KB\n"
          ]
        }
      ],
      "source": [
        "df_teams.info()"
      ]
    },
    {
      "cell_type": "code",
      "execution_count": 11,
      "metadata": {
        "colab": {
          "base_uri": "https://localhost:8080/"
        },
        "id": "A_hfCfuKYy7K",
        "outputId": "b6dc4c35-ab38-441f-ff7e-ccd3da4c8022"
      },
      "outputs": [
        {
          "name": "stdout",
          "output_type": "stream",
          "text": [
            "<class 'pandas.core.frame.DataFrame'>\n",
            "RangeIndex: 30 entries, 0 to 29\n",
            "Data columns (total 5 columns):\n",
            " #   Column      Non-Null Count  Dtype \n",
            "---  ------      --------------  ----- \n",
            " 0   IdTeam      30 non-null     int64 \n",
            " 1   NmLocation  30 non-null     object\n",
            " 2   IdLeague    30 non-null     int64 \n",
            " 3   IdDivision  30 non-null     int64 \n",
            " 4   IdVenue     30 non-null     int64 \n",
            "dtypes: int64(4), object(1)\n",
            "memory usage: 1.3+ KB\n"
          ]
        }
      ],
      "source": [
        "cols = {\n",
        "     'id': 'IdTeam'\n",
        "    ,'locationName': 'NmLocation'\n",
        "    ,'leagueId': 'IdLeague'\n",
        "    ,'divisionId': 'IdDivision'\n",
        "    ,'venueId': 'IdVenue'\n",
        "}\n",
        "df_teams = df_teams[list(cols.keys())]\n",
        "df_teams.columns = list(cols.values())\n",
        "df_teams.info()"
      ]
    },
    {
      "cell_type": "code",
      "execution_count": 12,
      "metadata": {
        "id": "f_hyAcX1aLuD"
      },
      "outputs": [],
      "source": [
        "# pd.to_pickle(df_teams, processed_data_path + 'teams.pkl')\n",
        "del df_teams"
      ]
    },
    {
      "cell_type": "markdown",
      "metadata": {
        "id": "vsLwU3E6f6CQ"
      },
      "source": [
        "### Awards"
      ]
    },
    {
      "cell_type": "code",
      "execution_count": 13,
      "metadata": {
        "id": "TglrCH9Uf9ys"
      },
      "outputs": [
        {
          "data": {
            "text/html": [
              "<div>\n",
              "<style scoped>\n",
              "    .dataframe tbody tr th:only-of-type {\n",
              "        vertical-align: middle;\n",
              "    }\n",
              "\n",
              "    .dataframe tbody tr th {\n",
              "        vertical-align: top;\n",
              "    }\n",
              "\n",
              "    .dataframe thead th {\n",
              "        text-align: right;\n",
              "    }\n",
              "</style>\n",
              "<table border=\"1\" class=\"dataframe\">\n",
              "  <thead>\n",
              "    <tr style=\"text-align: right;\">\n",
              "      <th></th>\n",
              "      <th>awardDate</th>\n",
              "      <th>awardSeason</th>\n",
              "      <th>awardId</th>\n",
              "      <th>awardName</th>\n",
              "      <th>playerId</th>\n",
              "      <th>playerName</th>\n",
              "      <th>awardPlayerTeamId</th>\n",
              "    </tr>\n",
              "  </thead>\n",
              "  <tbody>\n",
              "    <tr>\n",
              "      <th>0</th>\n",
              "      <td>2017-12-21</td>\n",
              "      <td>2017</td>\n",
              "      <td>WARRENSPAHN</td>\n",
              "      <td>Warren Spahn Award</td>\n",
              "      <td>477132</td>\n",
              "      <td>Clayton Kershaw</td>\n",
              "      <td>119.0</td>\n",
              "    </tr>\n",
              "    <tr>\n",
              "      <th>1</th>\n",
              "      <td>2017-12-20</td>\n",
              "      <td>2017</td>\n",
              "      <td>MILBORGAS</td>\n",
              "      <td>MiLB.com Organization All-Star</td>\n",
              "      <td>474319</td>\n",
              "      <td>Brandon Snyder</td>\n",
              "      <td>120.0</td>\n",
              "    </tr>\n",
              "    <tr>\n",
              "      <th>2</th>\n",
              "      <td>2017-12-20</td>\n",
              "      <td>2017</td>\n",
              "      <td>MILBORGAS</td>\n",
              "      <td>MiLB.com Organization All-Star</td>\n",
              "      <td>592530</td>\n",
              "      <td>Jose Marmolejos</td>\n",
              "      <td>120.0</td>\n",
              "    </tr>\n",
              "    <tr>\n",
              "      <th>3</th>\n",
              "      <td>2017-12-20</td>\n",
              "      <td>2017</td>\n",
              "      <td>MILBORGAS</td>\n",
              "      <td>MiLB.com Organization All-Star</td>\n",
              "      <td>593833</td>\n",
              "      <td>Wander Suero</td>\n",
              "      <td>120.0</td>\n",
              "    </tr>\n",
              "    <tr>\n",
              "      <th>4</th>\n",
              "      <td>2017-12-20</td>\n",
              "      <td>2017</td>\n",
              "      <td>MILBORGAS</td>\n",
              "      <td>MiLB.com Organization All-Star</td>\n",
              "      <td>600466</td>\n",
              "      <td>Raudy Read</td>\n",
              "      <td>120.0</td>\n",
              "    </tr>\n",
              "  </tbody>\n",
              "</table>\n",
              "</div>"
            ],
            "text/plain": [
              "    awardDate  awardSeason      awardId                       awardName  \\\n",
              "0  2017-12-21         2017  WARRENSPAHN              Warren Spahn Award   \n",
              "1  2017-12-20         2017    MILBORGAS  MiLB.com Organization All-Star   \n",
              "2  2017-12-20         2017    MILBORGAS  MiLB.com Organization All-Star   \n",
              "3  2017-12-20         2017    MILBORGAS  MiLB.com Organization All-Star   \n",
              "4  2017-12-20         2017    MILBORGAS  MiLB.com Organization All-Star   \n",
              "\n",
              "   playerId       playerName  awardPlayerTeamId  \n",
              "0    477132  Clayton Kershaw              119.0  \n",
              "1    474319   Brandon Snyder              120.0  \n",
              "2    592530  Jose Marmolejos              120.0  \n",
              "3    593833     Wander Suero              120.0  \n",
              "4    600466       Raudy Read              120.0  "
            ]
          },
          "execution_count": 13,
          "metadata": {},
          "output_type": "execute_result"
        }
      ],
      "source": [
        "df_awards = pd.read_csv(dataset_names['Awards'])\n",
        "df_awards.head()"
      ]
    },
    {
      "cell_type": "code",
      "execution_count": 14,
      "metadata": {},
      "outputs": [
        {
          "name": "stdout",
          "output_type": "stream",
          "text": [
            "<class 'pandas.core.frame.DataFrame'>\n",
            "RangeIndex: 11256 entries, 0 to 11255\n",
            "Data columns (total 7 columns):\n",
            " #   Column             Non-Null Count  Dtype  \n",
            "---  ------             --------------  -----  \n",
            " 0   awardDate          11256 non-null  object \n",
            " 1   awardSeason        11256 non-null  int64  \n",
            " 2   awardId            11256 non-null  object \n",
            " 3   awardName          11256 non-null  object \n",
            " 4   playerId           11256 non-null  int64  \n",
            " 5   playerName         11256 non-null  object \n",
            " 6   awardPlayerTeamId  11243 non-null  float64\n",
            "dtypes: float64(1), int64(2), object(4)\n",
            "memory usage: 615.7+ KB\n"
          ]
        }
      ],
      "source": [
        "df_awards.info()"
      ]
    },
    {
      "cell_type": "code",
      "execution_count": 15,
      "metadata": {
        "id": "GgZB-j3zgwj8"
      },
      "outputs": [
        {
          "name": "stdout",
          "output_type": "stream",
          "text": [
            "<class 'pandas.core.frame.DataFrame'>\n",
            "RangeIndex: 11256 entries, 0 to 11255\n",
            "Data columns (total 5 columns):\n",
            " #   Column         Non-Null Count  Dtype  \n",
            "---  ------         --------------  -----  \n",
            " 0   IdAward        11256 non-null  object \n",
            " 1   DtAward        11256 non-null  object \n",
            " 2   DtAwardSeason  11256 non-null  int64  \n",
            " 3   IdPlayer       11256 non-null  int64  \n",
            " 4   IdTeam         11243 non-null  float64\n",
            "dtypes: float64(1), int64(2), object(2)\n",
            "memory usage: 439.8+ KB\n"
          ]
        }
      ],
      "source": [
        "cols = {\n",
        "    'awardId': 'IdAward',\n",
        "    'awardDate': 'DtAward',\n",
        "    'awardSeason': 'DtAwardSeason',\n",
        "    'playerId': 'IdPlayer',\n",
        "    'awardPlayerTeamId': 'IdTeam'\n",
        "}\n",
        "df_awards = df_awards[list(cols)]\n",
        "df_awards.columns = list(cols.values())\n",
        "df_awards.info()"
      ]
    },
    {
      "cell_type": "code",
      "execution_count": 16,
      "metadata": {},
      "outputs": [],
      "source": [
        "# pd.to_pickle(df_awards, processed_data_path + 'awards.pkl')\n",
        "del df_awards"
      ]
    },
    {
      "attachments": {},
      "cell_type": "markdown",
      "metadata": {},
      "source": [
        "### Seasons"
      ]
    },
    {
      "cell_type": "code",
      "execution_count": 17,
      "metadata": {},
      "outputs": [
        {
          "data": {
            "text/html": [
              "<div>\n",
              "<style scoped>\n",
              "    .dataframe tbody tr th:only-of-type {\n",
              "        vertical-align: middle;\n",
              "    }\n",
              "\n",
              "    .dataframe tbody tr th {\n",
              "        vertical-align: top;\n",
              "    }\n",
              "\n",
              "    .dataframe thead th {\n",
              "        text-align: right;\n",
              "    }\n",
              "</style>\n",
              "<table border=\"1\" class=\"dataframe\">\n",
              "  <thead>\n",
              "    <tr style=\"text-align: right;\">\n",
              "      <th></th>\n",
              "      <th>seasonId</th>\n",
              "      <th>seasonStartDate</th>\n",
              "      <th>seasonEndDate</th>\n",
              "      <th>preSeasonStartDate</th>\n",
              "      <th>preSeasonEndDate</th>\n",
              "      <th>regularSeasonStartDate</th>\n",
              "      <th>regularSeasonEndDate</th>\n",
              "      <th>lastDate1stHalf</th>\n",
              "      <th>allStarDate</th>\n",
              "      <th>firstDate2ndHalf</th>\n",
              "      <th>postSeasonStartDate</th>\n",
              "      <th>postSeasonEndDate</th>\n",
              "    </tr>\n",
              "  </thead>\n",
              "  <tbody>\n",
              "    <tr>\n",
              "      <th>0</th>\n",
              "      <td>2017</td>\n",
              "      <td>2017-04-02</td>\n",
              "      <td>2017-11-01</td>\n",
              "      <td>2017-02-22</td>\n",
              "      <td>2017-04-01</td>\n",
              "      <td>2017-04-02</td>\n",
              "      <td>2017-10-01</td>\n",
              "      <td>2017-07-09</td>\n",
              "      <td>2017-07-11</td>\n",
              "      <td>2017-07-14</td>\n",
              "      <td>2017-10-03</td>\n",
              "      <td>2017-11-01</td>\n",
              "    </tr>\n",
              "    <tr>\n",
              "      <th>1</th>\n",
              "      <td>2018</td>\n",
              "      <td>2018-03-29</td>\n",
              "      <td>2018-10-28</td>\n",
              "      <td>2018-02-21</td>\n",
              "      <td>2018-03-27</td>\n",
              "      <td>2018-03-29</td>\n",
              "      <td>2018-10-01</td>\n",
              "      <td>2018-07-15</td>\n",
              "      <td>2018-07-17</td>\n",
              "      <td>2018-07-19</td>\n",
              "      <td>2018-10-02</td>\n",
              "      <td>2018-10-28</td>\n",
              "    </tr>\n",
              "    <tr>\n",
              "      <th>2</th>\n",
              "      <td>2019</td>\n",
              "      <td>2019-03-20</td>\n",
              "      <td>2019-10-30</td>\n",
              "      <td>2019-02-21</td>\n",
              "      <td>2019-03-26</td>\n",
              "      <td>2019-03-20</td>\n",
              "      <td>2019-09-29</td>\n",
              "      <td>2019-07-07</td>\n",
              "      <td>2019-07-09</td>\n",
              "      <td>2019-07-11</td>\n",
              "      <td>2019-10-01</td>\n",
              "      <td>2019-10-30</td>\n",
              "    </tr>\n",
              "    <tr>\n",
              "      <th>3</th>\n",
              "      <td>2020</td>\n",
              "      <td>2020-07-23</td>\n",
              "      <td>2020-10-28</td>\n",
              "      <td>2020-02-21</td>\n",
              "      <td>2020-07-22</td>\n",
              "      <td>2020-07-23</td>\n",
              "      <td>2020-09-27</td>\n",
              "      <td>2020-08-25</td>\n",
              "      <td>NaN</td>\n",
              "      <td>2020-08-26</td>\n",
              "      <td>2020-09-29</td>\n",
              "      <td>2020-10-28</td>\n",
              "    </tr>\n",
              "    <tr>\n",
              "      <th>4</th>\n",
              "      <td>2021</td>\n",
              "      <td>2021-02-28</td>\n",
              "      <td>2021-10-31</td>\n",
              "      <td>2021-02-28</td>\n",
              "      <td>2021-03-30</td>\n",
              "      <td>2021-04-01</td>\n",
              "      <td>2021-10-03</td>\n",
              "      <td>2021-07-11</td>\n",
              "      <td>2021-07-13</td>\n",
              "      <td>2021-07-15</td>\n",
              "      <td>2021-10-04</td>\n",
              "      <td>2021-10-31</td>\n",
              "    </tr>\n",
              "  </tbody>\n",
              "</table>\n",
              "</div>"
            ],
            "text/plain": [
              "   seasonId seasonStartDate seasonEndDate preSeasonStartDate preSeasonEndDate  \\\n",
              "0      2017      2017-04-02    2017-11-01         2017-02-22       2017-04-01   \n",
              "1      2018      2018-03-29    2018-10-28         2018-02-21       2018-03-27   \n",
              "2      2019      2019-03-20    2019-10-30         2019-02-21       2019-03-26   \n",
              "3      2020      2020-07-23    2020-10-28         2020-02-21       2020-07-22   \n",
              "4      2021      2021-02-28    2021-10-31         2021-02-28       2021-03-30   \n",
              "\n",
              "  regularSeasonStartDate regularSeasonEndDate lastDate1stHalf allStarDate  \\\n",
              "0             2017-04-02           2017-10-01      2017-07-09  2017-07-11   \n",
              "1             2018-03-29           2018-10-01      2018-07-15  2018-07-17   \n",
              "2             2019-03-20           2019-09-29      2019-07-07  2019-07-09   \n",
              "3             2020-07-23           2020-09-27      2020-08-25         NaN   \n",
              "4             2021-04-01           2021-10-03      2021-07-11  2021-07-13   \n",
              "\n",
              "  firstDate2ndHalf postSeasonStartDate postSeasonEndDate  \n",
              "0       2017-07-14          2017-10-03        2017-11-01  \n",
              "1       2018-07-19          2018-10-02        2018-10-28  \n",
              "2       2019-07-11          2019-10-01        2019-10-30  \n",
              "3       2020-08-26          2020-09-29        2020-10-28  \n",
              "4       2021-07-15          2021-10-04        2021-10-31  "
            ]
          },
          "execution_count": 17,
          "metadata": {},
          "output_type": "execute_result"
        }
      ],
      "source": [
        "df_seasons = pd.read_csv(dataset_names['Seasons'])\n",
        "df_seasons.head()"
      ]
    },
    {
      "cell_type": "code",
      "execution_count": 18,
      "metadata": {},
      "outputs": [
        {
          "name": "stdout",
          "output_type": "stream",
          "text": [
            "<class 'pandas.core.frame.DataFrame'>\n",
            "RangeIndex: 5 entries, 0 to 4\n",
            "Data columns (total 12 columns):\n",
            " #   Column                  Non-Null Count  Dtype \n",
            "---  ------                  --------------  ----- \n",
            " 0   seasonId                5 non-null      int64 \n",
            " 1   seasonStartDate         5 non-null      object\n",
            " 2   seasonEndDate           5 non-null      object\n",
            " 3   preSeasonStartDate      5 non-null      object\n",
            " 4   preSeasonEndDate        5 non-null      object\n",
            " 5   regularSeasonStartDate  5 non-null      object\n",
            " 6   regularSeasonEndDate    5 non-null      object\n",
            " 7   lastDate1stHalf         5 non-null      object\n",
            " 8   allStarDate             4 non-null      object\n",
            " 9   firstDate2ndHalf        5 non-null      object\n",
            " 10  postSeasonStartDate     5 non-null      object\n",
            " 11  postSeasonEndDate       5 non-null      object\n",
            "dtypes: int64(1), object(11)\n",
            "memory usage: 608.0+ bytes\n"
          ]
        }
      ],
      "source": [
        "df_seasons.info()"
      ]
    },
    {
      "attachments": {},
      "cell_type": "markdown",
      "metadata": {},
      "source": [
        "optamos por não utilizar o dataframe de Seasons, já que ele apenas adicionaria complexidade ao modelo e como se tratam de apenas datas, provavelmente a contribuição das features que ele adiciona não seriam relevantes já que são datas de início e fim de eventos pré definidos na temporada"
      ]
    },
    {
      "cell_type": "code",
      "execution_count": 19,
      "metadata": {},
      "outputs": [],
      "source": [
        "del df_seasons"
      ]
    },
    {
      "attachments": {},
      "cell_type": "markdown",
      "metadata": {},
      "source": [
        "## Loading the Train dataset"
      ]
    },
    {
      "cell_type": "code",
      "execution_count": 20,
      "metadata": {},
      "outputs": [
        {
          "name": "stdout",
          "output_type": "stream",
          "text": [
            "CPU times: user 50.9 s, sys: 7.92 s, total: 58.8 s\n",
            "Wall time: 1min 11s\n"
          ]
        }
      ],
      "source": [
        "%%time\n",
        "df_train = pd.read_csv(dataset_names['Train'])"
      ]
    },
    {
      "attachments": {},
      "cell_type": "markdown",
      "metadata": {},
      "source": [
        "### Dataset info"
      ]
    },
    {
      "cell_type": "code",
      "execution_count": 21,
      "metadata": {},
      "outputs": [
        {
          "data": {
            "text/html": [
              "<div>\n",
              "<style scoped>\n",
              "    .dataframe tbody tr th:only-of-type {\n",
              "        vertical-align: middle;\n",
              "    }\n",
              "\n",
              "    .dataframe tbody tr th {\n",
              "        vertical-align: top;\n",
              "    }\n",
              "\n",
              "    .dataframe thead th {\n",
              "        text-align: right;\n",
              "    }\n",
              "</style>\n",
              "<table border=\"1\" class=\"dataframe\">\n",
              "  <thead>\n",
              "    <tr style=\"text-align: right;\">\n",
              "      <th></th>\n",
              "      <th>date</th>\n",
              "      <th>nextDayPlayerEngagement</th>\n",
              "      <th>games</th>\n",
              "      <th>rosters</th>\n",
              "      <th>playerBoxScores</th>\n",
              "      <th>teamBoxScores</th>\n",
              "      <th>transactions</th>\n",
              "      <th>standings</th>\n",
              "      <th>awards</th>\n",
              "      <th>events</th>\n",
              "      <th>playerTwitterFollowers</th>\n",
              "      <th>teamTwitterFollowers</th>\n",
              "    </tr>\n",
              "  </thead>\n",
              "  <tbody>\n",
              "    <tr>\n",
              "      <th>0</th>\n",
              "      <td>20180101</td>\n",
              "      <td>[{\"engagementMetricsDate\":\"2018-01-02\",\"player...</td>\n",
              "      <td>NaN</td>\n",
              "      <td>[{\"playerId\":400121,\"gameDate\":\"2018-01-01\",\"t...</td>\n",
              "      <td>NaN</td>\n",
              "      <td>NaN</td>\n",
              "      <td>[{\"transactionId\":340732,\"playerId\":547348,\"pl...</td>\n",
              "      <td>NaN</td>\n",
              "      <td>NaN</td>\n",
              "      <td>NaN</td>\n",
              "      <td>[{\"date\":\"2018-01-01\",\"playerId\":545361,\"playe...</td>\n",
              "      <td>[{\"date\":\"2018-01-01\",\"teamId\":147,\"teamName\":...</td>\n",
              "    </tr>\n",
              "    <tr>\n",
              "      <th>1</th>\n",
              "      <td>20180102</td>\n",
              "      <td>[{\"engagementMetricsDate\":\"2018-01-03\",\"player...</td>\n",
              "      <td>NaN</td>\n",
              "      <td>[{\"playerId\":134181,\"gameDate\":\"2018-01-02\",\"t...</td>\n",
              "      <td>NaN</td>\n",
              "      <td>NaN</td>\n",
              "      <td>[{\"transactionId\":339458,\"playerId\":621173,\"pl...</td>\n",
              "      <td>NaN</td>\n",
              "      <td>NaN</td>\n",
              "      <td>NaN</td>\n",
              "      <td>NaN</td>\n",
              "      <td>NaN</td>\n",
              "    </tr>\n",
              "    <tr>\n",
              "      <th>2</th>\n",
              "      <td>20180103</td>\n",
              "      <td>[{\"engagementMetricsDate\":\"2018-01-04\",\"player...</td>\n",
              "      <td>NaN</td>\n",
              "      <td>[{\"playerId\":425492,\"gameDate\":\"2018-01-03\",\"t...</td>\n",
              "      <td>NaN</td>\n",
              "      <td>NaN</td>\n",
              "      <td>[{\"transactionId\":347527,\"playerId\":572389,\"pl...</td>\n",
              "      <td>NaN</td>\n",
              "      <td>NaN</td>\n",
              "      <td>NaN</td>\n",
              "      <td>NaN</td>\n",
              "      <td>NaN</td>\n",
              "    </tr>\n",
              "    <tr>\n",
              "      <th>3</th>\n",
              "      <td>20180104</td>\n",
              "      <td>[{\"engagementMetricsDate\":\"2018-01-05\",\"player...</td>\n",
              "      <td>NaN</td>\n",
              "      <td>[{\"playerId\":282332,\"gameDate\":\"2018-01-04\",\"t...</td>\n",
              "      <td>NaN</td>\n",
              "      <td>NaN</td>\n",
              "      <td>[{\"transactionId\":339549,\"playerId\":545343,\"pl...</td>\n",
              "      <td>NaN</td>\n",
              "      <td>NaN</td>\n",
              "      <td>NaN</td>\n",
              "      <td>NaN</td>\n",
              "      <td>NaN</td>\n",
              "    </tr>\n",
              "    <tr>\n",
              "      <th>4</th>\n",
              "      <td>20180105</td>\n",
              "      <td>[{\"engagementMetricsDate\":\"2018-01-06\",\"player...</td>\n",
              "      <td>NaN</td>\n",
              "      <td>[{\"playerId\":282332,\"gameDate\":\"2018-01-05\",\"t...</td>\n",
              "      <td>NaN</td>\n",
              "      <td>NaN</td>\n",
              "      <td>[{\"transactionId\":341195,\"playerId\":628336,\"pl...</td>\n",
              "      <td>NaN</td>\n",
              "      <td>NaN</td>\n",
              "      <td>NaN</td>\n",
              "      <td>NaN</td>\n",
              "      <td>NaN</td>\n",
              "    </tr>\n",
              "  </tbody>\n",
              "</table>\n",
              "</div>"
            ],
            "text/plain": [
              "       date                            nextDayPlayerEngagement games  \\\n",
              "0  20180101  [{\"engagementMetricsDate\":\"2018-01-02\",\"player...   NaN   \n",
              "1  20180102  [{\"engagementMetricsDate\":\"2018-01-03\",\"player...   NaN   \n",
              "2  20180103  [{\"engagementMetricsDate\":\"2018-01-04\",\"player...   NaN   \n",
              "3  20180104  [{\"engagementMetricsDate\":\"2018-01-05\",\"player...   NaN   \n",
              "4  20180105  [{\"engagementMetricsDate\":\"2018-01-06\",\"player...   NaN   \n",
              "\n",
              "                                             rosters playerBoxScores  \\\n",
              "0  [{\"playerId\":400121,\"gameDate\":\"2018-01-01\",\"t...             NaN   \n",
              "1  [{\"playerId\":134181,\"gameDate\":\"2018-01-02\",\"t...             NaN   \n",
              "2  [{\"playerId\":425492,\"gameDate\":\"2018-01-03\",\"t...             NaN   \n",
              "3  [{\"playerId\":282332,\"gameDate\":\"2018-01-04\",\"t...             NaN   \n",
              "4  [{\"playerId\":282332,\"gameDate\":\"2018-01-05\",\"t...             NaN   \n",
              "\n",
              "  teamBoxScores                                       transactions standings  \\\n",
              "0           NaN  [{\"transactionId\":340732,\"playerId\":547348,\"pl...       NaN   \n",
              "1           NaN  [{\"transactionId\":339458,\"playerId\":621173,\"pl...       NaN   \n",
              "2           NaN  [{\"transactionId\":347527,\"playerId\":572389,\"pl...       NaN   \n",
              "3           NaN  [{\"transactionId\":339549,\"playerId\":545343,\"pl...       NaN   \n",
              "4           NaN  [{\"transactionId\":341195,\"playerId\":628336,\"pl...       NaN   \n",
              "\n",
              "  awards events                             playerTwitterFollowers  \\\n",
              "0    NaN    NaN  [{\"date\":\"2018-01-01\",\"playerId\":545361,\"playe...   \n",
              "1    NaN    NaN                                                NaN   \n",
              "2    NaN    NaN                                                NaN   \n",
              "3    NaN    NaN                                                NaN   \n",
              "4    NaN    NaN                                                NaN   \n",
              "\n",
              "                                teamTwitterFollowers  \n",
              "0  [{\"date\":\"2018-01-01\",\"teamId\":147,\"teamName\":...  \n",
              "1                                                NaN  \n",
              "2                                                NaN  \n",
              "3                                                NaN  \n",
              "4                                                NaN  "
            ]
          },
          "execution_count": 21,
          "metadata": {},
          "output_type": "execute_result"
        }
      ],
      "source": [
        "df_train.head()"
      ]
    },
    {
      "cell_type": "code",
      "execution_count": 22,
      "metadata": {},
      "outputs": [
        {
          "name": "stdout",
          "output_type": "stream",
          "text": [
            "<class 'pandas.core.frame.DataFrame'>\n",
            "RangeIndex: 1308 entries, 0 to 1307\n",
            "Data columns (total 12 columns):\n",
            " #   Column                   Non-Null Count  Dtype \n",
            "---  ------                   --------------  ----- \n",
            " 0   date                     1308 non-null   int64 \n",
            " 1   nextDayPlayerEngagement  1308 non-null   object\n",
            " 2   games                    729 non-null    object\n",
            " 3   rosters                  1307 non-null   object\n",
            " 4   playerBoxScores          627 non-null    object\n",
            " 5   teamBoxScores            627 non-null    object\n",
            " 6   transactions             1194 non-null   object\n",
            " 7   standings                623 non-null    object\n",
            " 8   awards                   309 non-null    object\n",
            " 9   events                   624 non-null    object\n",
            " 10  playerTwitterFollowers   43 non-null     object\n",
            " 11  teamTwitterFollowers     43 non-null     object\n",
            "dtypes: int64(1), object(11)\n",
            "memory usage: 122.8+ KB\n"
          ]
        }
      ],
      "source": [
        "df_train.info()"
      ]
    },
    {
      "cell_type": "code",
      "execution_count": 23,
      "metadata": {},
      "outputs": [
        {
          "data": {
            "text/plain": [
              "'[{\"engagementMetricsDate\":\"2018-01-02\",\"playerId\":628317,\"target1\":0.011167070542384616,\"target2\":4.4747081712062258,\"target3\":0.0051677297424994094,\"target4\":5.7352941176470589},{\"engagementMetricsDate\":\"2018-01-02\",\"playerId\":547989,\"target1\":0.042993221588180773,\"target2\":5.5933852140077827,\"target3\":0.045033073470351993,\"target4\":2.7941176470588238},{\"engagementMetricsDate\":\"2018-01-02\",\"playerId\":519317,\"target1\":0.97432690482305784,\"target2\":56.177042801556418,\"target3\":13.693745570517363,\"target4\":64.166666666666671},{\"engagementMetricsDate\":\"2018-01-02\",\"playerId\":607625,\"target1\":0.0067002423254307695,\"target2\":2.6750972762645913,\"target3\":0.0051677297424994094,\"target4\":1.8627450980392157},{\"engagementMetricsDate\":\"2018-01-02\",\"playerId\":592547,\"target1\":0.0011167070542384616,\"target2\":0.632295719844358,\"target3\":0.0029529884242853769,\"target4\":0.93137254901960786},{\"engagementMetricsDate\":\"2018-01-02\",\"playerId\":641553,\"target1\":0.011725424069503847,\"target2\":3.8424124513618'"
            ]
          },
          "execution_count": 23,
          "metadata": {},
          "output_type": "execute_result"
        }
      ],
      "source": [
        "df_train['nextDayPlayerEngagement'][0][:1000]"
      ]
    },
    {
      "attachments": {},
      "cell_type": "markdown",
      "metadata": {},
      "source": [
        "### Auxiliary functions"
      ]
    },
    {
      "cell_type": "code",
      "execution_count": 24,
      "metadata": {},
      "outputs": [],
      "source": [
        "def unpack_json(json_str):\n",
        "    return pd.DataFrame() if pd.isna(json_str) else pd.read_json(json_str)\n",
        "\n",
        "def unpack_data(data, dfs=None, n_jobs=-1):\n",
        "    if dfs is not None:\n",
        "        data = data.loc[:, dfs]\n",
        "    unnested_dfs = {}\n",
        "    for name, column in data.iteritems():\n",
        "        daily_dfs = Parallel(n_jobs=n_jobs)(\n",
        "            delayed(unpack_json)(item) for date, item in column.iteritems())\n",
        "        df = pd.concat(daily_dfs)\n",
        "        unnested_dfs[name] = df\n",
        "    return unnested_dfs"
      ]
    },
    {
      "attachments": {},
      "cell_type": "markdown",
      "metadata": {},
      "source": [
        "### Making the targets df"
      ]
    },
    {
      "cell_type": "code",
      "execution_count": 25,
      "metadata": {},
      "outputs": [
        {
          "name": "stdout",
          "output_type": "stream",
          "text": [
            "CPU times: user 4.43 s, sys: 1.72 s, total: 6.15 s\n",
            "Wall time: 10.7 s\n"
          ]
        }
      ],
      "source": [
        "%%time\n",
        "\n",
        "Y = unpack_data(df_train, dfs = ['nextDayPlayerEngagement'])['nextDayPlayerEngagement']\n",
        "Y = Y.astype({name: np.float32 for name in [\"target1\", \"target2\", \"target3\", \"target4\"]})\n",
        "# Match target dates to feature dates and create date index\n",
        "Y = Y.rename(columns={'engagementMetricsDate': 'date'})\n",
        "Y['date'] = pd.to_datetime(Y['date'])\n",
        "Y = Y.set_index('date').to_period('D')\n",
        "Y.index = Y.index - 1\n",
        "Y = Y.reset_index()\n"
      ]
    },
    {
      "cell_type": "code",
      "execution_count": 26,
      "metadata": {},
      "outputs": [
        {
          "data": {
            "text/html": [
              "<div>\n",
              "<style scoped>\n",
              "    .dataframe tbody tr th:only-of-type {\n",
              "        vertical-align: middle;\n",
              "    }\n",
              "\n",
              "    .dataframe tbody tr th {\n",
              "        vertical-align: top;\n",
              "    }\n",
              "\n",
              "    .dataframe thead th {\n",
              "        text-align: right;\n",
              "    }\n",
              "</style>\n",
              "<table border=\"1\" class=\"dataframe\">\n",
              "  <thead>\n",
              "    <tr style=\"text-align: right;\">\n",
              "      <th></th>\n",
              "      <th>date</th>\n",
              "      <th>playerId</th>\n",
              "      <th>target1</th>\n",
              "      <th>target2</th>\n",
              "      <th>target3</th>\n",
              "      <th>target4</th>\n",
              "    </tr>\n",
              "  </thead>\n",
              "  <tbody>\n",
              "    <tr>\n",
              "      <th>0</th>\n",
              "      <td>2018-01-01</td>\n",
              "      <td>628317</td>\n",
              "      <td>0.011167</td>\n",
              "      <td>4.474708</td>\n",
              "      <td>0.005168</td>\n",
              "      <td>5.735294</td>\n",
              "    </tr>\n",
              "    <tr>\n",
              "      <th>1</th>\n",
              "      <td>2018-01-01</td>\n",
              "      <td>547989</td>\n",
              "      <td>0.042993</td>\n",
              "      <td>5.593385</td>\n",
              "      <td>0.045033</td>\n",
              "      <td>2.794118</td>\n",
              "    </tr>\n",
              "    <tr>\n",
              "      <th>2</th>\n",
              "      <td>2018-01-01</td>\n",
              "      <td>519317</td>\n",
              "      <td>0.974327</td>\n",
              "      <td>56.177044</td>\n",
              "      <td>13.693746</td>\n",
              "      <td>64.166664</td>\n",
              "    </tr>\n",
              "    <tr>\n",
              "      <th>3</th>\n",
              "      <td>2018-01-01</td>\n",
              "      <td>607625</td>\n",
              "      <td>0.006700</td>\n",
              "      <td>2.675097</td>\n",
              "      <td>0.005168</td>\n",
              "      <td>1.862745</td>\n",
              "    </tr>\n",
              "    <tr>\n",
              "      <th>4</th>\n",
              "      <td>2018-01-01</td>\n",
              "      <td>592547</td>\n",
              "      <td>0.001117</td>\n",
              "      <td>0.632296</td>\n",
              "      <td>0.002953</td>\n",
              "      <td>0.931373</td>\n",
              "    </tr>\n",
              "  </tbody>\n",
              "</table>\n",
              "</div>"
            ],
            "text/plain": [
              "         date  playerId   target1    target2    target3    target4\n",
              "0  2018-01-01    628317  0.011167   4.474708   0.005168   5.735294\n",
              "1  2018-01-01    547989  0.042993   5.593385   0.045033   2.794118\n",
              "2  2018-01-01    519317  0.974327  56.177044  13.693746  64.166664\n",
              "3  2018-01-01    607625  0.006700   2.675097   0.005168   1.862745\n",
              "4  2018-01-01    592547  0.001117   0.632296   0.002953   0.931373"
            ]
          },
          "execution_count": 26,
          "metadata": {},
          "output_type": "execute_result"
        }
      ],
      "source": [
        "Y.head()"
      ]
    },
    {
      "cell_type": "code",
      "execution_count": 27,
      "metadata": {},
      "outputs": [
        {
          "name": "stdout",
          "output_type": "stream",
          "text": [
            "<class 'pandas.core.frame.DataFrame'>\n",
            "RangeIndex: 2695788 entries, 0 to 2695787\n",
            "Data columns (total 6 columns):\n",
            " #   Column    Dtype    \n",
            "---  ------    -----    \n",
            " 0   date      period[D]\n",
            " 1   playerId  int64    \n",
            " 2   target1   float32  \n",
            " 3   target2   float32  \n",
            " 4   target3   float32  \n",
            " 5   target4   float32  \n",
            "dtypes: float32(4), int64(1), period[D](1)\n",
            "memory usage: 82.3 MB\n"
          ]
        }
      ],
      "source": [
        "Y.info()"
      ]
    },
    {
      "cell_type": "code",
      "execution_count": 28,
      "metadata": {},
      "outputs": [
        {
          "name": "stdout",
          "output_type": "stream",
          "text": [
            "<class 'pandas.core.frame.DataFrame'>\n",
            "RangeIndex: 2695788 entries, 0 to 2695787\n",
            "Data columns (total 6 columns):\n",
            " #   Column    Dtype         \n",
            "---  ------    -----         \n",
            " 0   Dt        datetime64[ns]\n",
            " 1   IdPlayer  int64         \n",
            " 2   target1   float32       \n",
            " 3   target2   float32       \n",
            " 4   target3   float32       \n",
            " 5   target4   float32       \n",
            "dtypes: datetime64[ns](1), float32(4), int64(1)\n",
            "memory usage: 82.3 MB\n"
          ]
        }
      ],
      "source": [
        "cols_Y = {\n",
        "    'date': 'Dt',\n",
        "    'playerId': 'IdPlayer',\n",
        "    'target1': 'target1',\n",
        "    'target2': 'target2',\n",
        "    'target3': 'target3',\n",
        "    'target4': 'target4'\n",
        "}\n",
        "Y = Y[list(cols_Y)]\n",
        "Y.columns = list(cols_Y.values())\n",
        "Y['Dt'] = Y['Dt'].astype('datetime64[ns]')\n",
        "Y.info()\n"
      ]
    },
    {
      "cell_type": "code",
      "execution_count": 29,
      "metadata": {},
      "outputs": [],
      "source": [
        "pd.to_pickle(Y, processed_data_path + 'targets.pkl')\n",
        "del Y"
      ]
    },
    {
      "attachments": {},
      "cell_type": "markdown",
      "metadata": {},
      "source": [
        "### Player Box Scores"
      ]
    },
    {
      "cell_type": "code",
      "execution_count": 30,
      "metadata": {},
      "outputs": [
        {
          "name": "stdout",
          "output_type": "stream",
          "text": [
            "CPU times: user 2.68 s, sys: 285 ms, total: 2.96 s\n",
            "Wall time: 8.27 s\n"
          ]
        }
      ],
      "source": [
        "%%time\n",
        "df_playerBoxScores = unpack_data(df_train, dfs = ['playerBoxScores'])['playerBoxScores']"
      ]
    },
    {
      "cell_type": "code",
      "execution_count": 31,
      "metadata": {},
      "outputs": [
        {
          "data": {
            "text/html": [
              "<div>\n",
              "<style scoped>\n",
              "    .dataframe tbody tr th:only-of-type {\n",
              "        vertical-align: middle;\n",
              "    }\n",
              "\n",
              "    .dataframe tbody tr th {\n",
              "        vertical-align: top;\n",
              "    }\n",
              "\n",
              "    .dataframe thead th {\n",
              "        text-align: right;\n",
              "    }\n",
              "</style>\n",
              "<table border=\"1\" class=\"dataframe\">\n",
              "  <thead>\n",
              "    <tr style=\"text-align: right;\">\n",
              "      <th></th>\n",
              "      <th>home</th>\n",
              "      <th>gamePk</th>\n",
              "      <th>gameDate</th>\n",
              "      <th>gameTimeUTC</th>\n",
              "      <th>teamId</th>\n",
              "      <th>teamName</th>\n",
              "      <th>playerId</th>\n",
              "      <th>playerName</th>\n",
              "      <th>jerseyNum</th>\n",
              "      <th>positionCode</th>\n",
              "      <th>...</th>\n",
              "      <th>catchersInterferencePitching</th>\n",
              "      <th>sacBuntsPitching</th>\n",
              "      <th>sacFliesPitching</th>\n",
              "      <th>saves</th>\n",
              "      <th>holds</th>\n",
              "      <th>blownSaves</th>\n",
              "      <th>assists</th>\n",
              "      <th>putOuts</th>\n",
              "      <th>errors</th>\n",
              "      <th>chances</th>\n",
              "    </tr>\n",
              "  </thead>\n",
              "  <tbody>\n",
              "    <tr>\n",
              "      <th>0</th>\n",
              "      <td>1</td>\n",
              "      <td>529418</td>\n",
              "      <td>2018-03-29</td>\n",
              "      <td>2018-03-29T23:08:00Z</td>\n",
              "      <td>119</td>\n",
              "      <td>Los Angeles Dodgers</td>\n",
              "      <td>605131</td>\n",
              "      <td>Austin Barnes</td>\n",
              "      <td>15</td>\n",
              "      <td>12</td>\n",
              "      <td>...</td>\n",
              "      <td>NaN</td>\n",
              "      <td>NaN</td>\n",
              "      <td>NaN</td>\n",
              "      <td>NaN</td>\n",
              "      <td>NaN</td>\n",
              "      <td>NaN</td>\n",
              "      <td>NaN</td>\n",
              "      <td>NaN</td>\n",
              "      <td>NaN</td>\n",
              "      <td>NaN</td>\n",
              "    </tr>\n",
              "    <tr>\n",
              "      <th>1</th>\n",
              "      <td>1</td>\n",
              "      <td>529406</td>\n",
              "      <td>2018-03-29</td>\n",
              "      <td>2018-03-29T20:00:00Z</td>\n",
              "      <td>139</td>\n",
              "      <td>Tampa Bay Rays</td>\n",
              "      <td>605480</td>\n",
              "      <td>Mallex Smith</td>\n",
              "      <td>0</td>\n",
              "      <td>7</td>\n",
              "      <td>...</td>\n",
              "      <td>NaN</td>\n",
              "      <td>NaN</td>\n",
              "      <td>NaN</td>\n",
              "      <td>NaN</td>\n",
              "      <td>NaN</td>\n",
              "      <td>NaN</td>\n",
              "      <td>0.0</td>\n",
              "      <td>0.0</td>\n",
              "      <td>0.0</td>\n",
              "      <td>0.0</td>\n",
              "    </tr>\n",
              "    <tr>\n",
              "      <th>2</th>\n",
              "      <td>0</td>\n",
              "      <td>529416</td>\n",
              "      <td>2018-03-29</td>\n",
              "      <td>2018-03-29T20:10:00Z</td>\n",
              "      <td>143</td>\n",
              "      <td>Philadelphia Phillies</td>\n",
              "      <td>546318</td>\n",
              "      <td>Odubel Herrera</td>\n",
              "      <td>37</td>\n",
              "      <td>8</td>\n",
              "      <td>...</td>\n",
              "      <td>NaN</td>\n",
              "      <td>NaN</td>\n",
              "      <td>NaN</td>\n",
              "      <td>NaN</td>\n",
              "      <td>NaN</td>\n",
              "      <td>NaN</td>\n",
              "      <td>0.0</td>\n",
              "      <td>0.0</td>\n",
              "      <td>0.0</td>\n",
              "      <td>0.0</td>\n",
              "    </tr>\n",
              "    <tr>\n",
              "      <th>3</th>\n",
              "      <td>0</td>\n",
              "      <td>529412</td>\n",
              "      <td>2018-03-29</td>\n",
              "      <td>2018-03-29T20:05:00Z</td>\n",
              "      <td>108</td>\n",
              "      <td>Los Angeles Angels</td>\n",
              "      <td>527043</td>\n",
              "      <td>Jefry Marte</td>\n",
              "      <td>19</td>\n",
              "      <td>3</td>\n",
              "      <td>...</td>\n",
              "      <td>NaN</td>\n",
              "      <td>NaN</td>\n",
              "      <td>NaN</td>\n",
              "      <td>NaN</td>\n",
              "      <td>NaN</td>\n",
              "      <td>NaN</td>\n",
              "      <td>0.0</td>\n",
              "      <td>1.0</td>\n",
              "      <td>0.0</td>\n",
              "      <td>1.0</td>\n",
              "    </tr>\n",
              "    <tr>\n",
              "      <th>4</th>\n",
              "      <td>1</td>\n",
              "      <td>529408</td>\n",
              "      <td>2018-03-29</td>\n",
              "      <td>2018-03-29T20:15:00Z</td>\n",
              "      <td>118</td>\n",
              "      <td>Kansas City Royals</td>\n",
              "      <td>449181</td>\n",
              "      <td>Paulo Orlando</td>\n",
              "      <td>16</td>\n",
              "      <td>8</td>\n",
              "      <td>...</td>\n",
              "      <td>NaN</td>\n",
              "      <td>NaN</td>\n",
              "      <td>NaN</td>\n",
              "      <td>NaN</td>\n",
              "      <td>NaN</td>\n",
              "      <td>NaN</td>\n",
              "      <td>0.0</td>\n",
              "      <td>2.0</td>\n",
              "      <td>0.0</td>\n",
              "      <td>2.0</td>\n",
              "    </tr>\n",
              "  </tbody>\n",
              "</table>\n",
              "<p>5 rows × 85 columns</p>\n",
              "</div>"
            ],
            "text/plain": [
              "   home  gamePk    gameDate           gameTimeUTC  teamId  \\\n",
              "0     1  529418  2018-03-29  2018-03-29T23:08:00Z     119   \n",
              "1     1  529406  2018-03-29  2018-03-29T20:00:00Z     139   \n",
              "2     0  529416  2018-03-29  2018-03-29T20:10:00Z     143   \n",
              "3     0  529412  2018-03-29  2018-03-29T20:05:00Z     108   \n",
              "4     1  529408  2018-03-29  2018-03-29T20:15:00Z     118   \n",
              "\n",
              "                teamName  playerId      playerName jerseyNum  positionCode  \\\n",
              "0    Los Angeles Dodgers    605131   Austin Barnes        15            12   \n",
              "1         Tampa Bay Rays    605480    Mallex Smith         0             7   \n",
              "2  Philadelphia Phillies    546318  Odubel Herrera        37             8   \n",
              "3     Los Angeles Angels    527043     Jefry Marte        19             3   \n",
              "4     Kansas City Royals    449181   Paulo Orlando        16             8   \n",
              "\n",
              "   ... catchersInterferencePitching sacBuntsPitching  sacFliesPitching  saves  \\\n",
              "0  ...                          NaN              NaN               NaN    NaN   \n",
              "1  ...                          NaN              NaN               NaN    NaN   \n",
              "2  ...                          NaN              NaN               NaN    NaN   \n",
              "3  ...                          NaN              NaN               NaN    NaN   \n",
              "4  ...                          NaN              NaN               NaN    NaN   \n",
              "\n",
              "   holds  blownSaves  assists  putOuts  errors  chances  \n",
              "0    NaN         NaN      NaN      NaN     NaN      NaN  \n",
              "1    NaN         NaN      0.0      0.0     0.0      0.0  \n",
              "2    NaN         NaN      0.0      0.0     0.0      0.0  \n",
              "3    NaN         NaN      0.0      1.0     0.0      1.0  \n",
              "4    NaN         NaN      0.0      2.0     0.0      2.0  \n",
              "\n",
              "[5 rows x 85 columns]"
            ]
          },
          "execution_count": 31,
          "metadata": {},
          "output_type": "execute_result"
        }
      ],
      "source": [
        "df_playerBoxScores.head()"
      ]
    },
    {
      "cell_type": "code",
      "execution_count": 32,
      "metadata": {},
      "outputs": [
        {
          "name": "stdout",
          "output_type": "stream",
          "text": [
            "<class 'pandas.core.frame.DataFrame'>\n",
            "Int64Index: 219727 entries, 0 to 451\n",
            "Data columns (total 85 columns):\n",
            " #   Column                        Non-Null Count   Dtype  \n",
            "---  ------                        --------------   -----  \n",
            " 0   home                          219727 non-null  int64  \n",
            " 1   gamePk                        219727 non-null  int64  \n",
            " 2   gameDate                      219727 non-null  object \n",
            " 3   gameTimeUTC                   219727 non-null  object \n",
            " 4   teamId                        219727 non-null  int64  \n",
            " 5   teamName                      219727 non-null  object \n",
            " 6   playerId                      219727 non-null  int64  \n",
            " 7   playerName                    219727 non-null  object \n",
            " 8   jerseyNum                     219690 non-null  object \n",
            " 9   positionCode                  219727 non-null  int64  \n",
            " 10  positionName                  219727 non-null  object \n",
            " 11  positionType                  219727 non-null  object \n",
            " 12  battingOrder                  183390 non-null  float64\n",
            " 13  gamesPlayedBatting            183395 non-null  float64\n",
            " 14  flyOuts                       183395 non-null  float64\n",
            " 15  groundOuts                    183395 non-null  float64\n",
            " 16  runsScored                    183395 non-null  float64\n",
            " 17  doubles                       183395 non-null  float64\n",
            " 18  triples                       183395 non-null  float64\n",
            " 19  homeRuns                      183395 non-null  float64\n",
            " 20  strikeOuts                    183395 non-null  float64\n",
            " 21  baseOnBalls                   183395 non-null  float64\n",
            " 22  intentionalWalks              183395 non-null  float64\n",
            " 23  hits                          183395 non-null  float64\n",
            " 24  hitByPitch                    183395 non-null  float64\n",
            " 25  atBats                        183395 non-null  float64\n",
            " 26  caughtStealing                183395 non-null  float64\n",
            " 27  stolenBases                   183395 non-null  float64\n",
            " 28  groundIntoDoublePlay          183395 non-null  float64\n",
            " 29  groundIntoTriplePlay          183395 non-null  float64\n",
            " 30  plateAppearances              183395 non-null  float64\n",
            " 31  totalBases                    183395 non-null  float64\n",
            " 32  rbi                           183395 non-null  float64\n",
            " 33  leftOnBase                    183395 non-null  float64\n",
            " 34  sacBunts                      183395 non-null  float64\n",
            " 35  sacFlies                      183395 non-null  float64\n",
            " 36  catchersInterference          183395 non-null  float64\n",
            " 37  pickoffs                      183395 non-null  float64\n",
            " 38  gamesPlayedPitching           65466 non-null   float64\n",
            " 39  gamesStartedPitching          65466 non-null   float64\n",
            " 40  completeGamesPitching         65466 non-null   float64\n",
            " 41  shutoutsPitching              65466 non-null   float64\n",
            " 42  winsPitching                  58627 non-null   float64\n",
            " 43  lossesPitching                58880 non-null   float64\n",
            " 44  flyOutsPitching               33652 non-null   float64\n",
            " 45  airOutsPitching               65466 non-null   float64\n",
            " 46  groundOutsPitching            65466 non-null   float64\n",
            " 47  runsPitching                  65466 non-null   float64\n",
            " 48  doublesPitching               65466 non-null   float64\n",
            " 49  triplesPitching               65466 non-null   float64\n",
            " 50  homeRunsPitching              65466 non-null   float64\n",
            " 51  strikeOutsPitching            65466 non-null   float64\n",
            " 52  baseOnBallsPitching           65466 non-null   float64\n",
            " 53  intentionalWalksPitching      65466 non-null   float64\n",
            " 54  hitsPitching                  65466 non-null   float64\n",
            " 55  hitByPitchPitching            65466 non-null   float64\n",
            " 56  atBatsPitching                65466 non-null   float64\n",
            " 57  caughtStealingPitching        65466 non-null   float64\n",
            " 58  stolenBasesPitching           65466 non-null   float64\n",
            " 59  inningsPitched                65466 non-null   float64\n",
            " 60  saveOpportunities             65466 non-null   float64\n",
            " 61  earnedRuns                    65466 non-null   float64\n",
            " 62  battersFaced                  65466 non-null   float64\n",
            " 63  outsPitching                  65466 non-null   float64\n",
            " 64  pitchesThrown                 65466 non-null   float64\n",
            " 65  balls                         65466 non-null   float64\n",
            " 66  strikes                       65466 non-null   float64\n",
            " 67  hitBatsmen                    65466 non-null   float64\n",
            " 68  balks                         65466 non-null   float64\n",
            " 69  wildPitches                   65466 non-null   float64\n",
            " 70  pickoffsPitching              65466 non-null   float64\n",
            " 71  rbiPitching                   65466 non-null   float64\n",
            " 72  gamesFinishedPitching         65466 non-null   float64\n",
            " 73  inheritedRunners              65466 non-null   float64\n",
            " 74  inheritedRunnersScored        65466 non-null   float64\n",
            " 75  catchersInterferencePitching  65466 non-null   float64\n",
            " 76  sacBuntsPitching              65466 non-null   float64\n",
            " 77  sacFliesPitching              65466 non-null   float64\n",
            " 78  saves                         55638 non-null   float64\n",
            " 79  holds                         55638 non-null   float64\n",
            " 80  blownSaves                    55638 non-null   float64\n",
            " 81  assists                       185386 non-null  float64\n",
            " 82  putOuts                       185386 non-null  float64\n",
            " 83  errors                        185386 non-null  float64\n",
            " 84  chances                       185386 non-null  float64\n",
            "dtypes: float64(73), int64(5), object(7)\n",
            "memory usage: 144.2+ MB\n"
          ]
        }
      ],
      "source": [
        "df_playerBoxScores.info()"
      ]
    },
    {
      "cell_type": "code",
      "execution_count": 33,
      "metadata": {},
      "outputs": [
        {
          "name": "stdout",
          "output_type": "stream",
          "text": [
            "{'gamePk': 'IdGame', 'gameDate': 'DtGame', 'gameTimeUTC': 'DtGameUTC', 'playerId': 'IdPlayer', 'teamId': 'IdTeam', 'jerseyNum': 'NuJersey', 'positionCode': 'CdPosition', 'strikeOutsPitching': 'NuStrikeOutsPitching', 'battingOrder': 'NuBattingOrder', 'gamesPlayedBatting': 'NuGamesPlayedBatting', 'flyOuts': 'NuFlyOuts', 'groundOuts': 'NuGroundOuts', 'runsScored': 'NuRunsScored', 'doubles': 'NuDoubles', 'triples': 'NuTriples', 'homeRuns': 'NuHomeRuns', 'strikeOuts': 'NuStrikeOuts', 'baseOnBalls': 'NuBaseOnBalls', 'intentionalWalks': 'NuIntentionalWalks', 'hits': 'NuHits', 'hitByPitch': 'NuHitByPitch', 'atBats': 'NuAtBats', 'caughtStealing': 'NuCaughtStealing', 'stolenBases': 'NuStolenBases', 'groundIntoDoublePlay': 'NuGroundIntoDoublePlay', 'groundIntoTriplePlay': 'NuGroundIntoTriplePlay', 'plateAppearances': 'NuPlateAppearances', 'totalBases': 'NuTotalBases', 'rbi': 'NuRbi', 'leftOnBase': 'NuLeftOnBase', 'sacBunts': 'NuSacBunts', 'sacFlies': 'NuSacFlies', 'catchersInterference': 'NuCatchersInterference', 'pickoffs': 'NuPickoffs', 'inningsPitched': 'NuInningsPitched', 'saveOpportunities': 'NuSaveOpportunities', 'earnedRuns': 'NuEarnedRuns', 'battersFaced': 'NuBattersFaced', 'pitchesThrown': 'NuPitchesThrown', 'balls': 'NuBalls', 'strikes': 'NuStrikes', 'hitBatsmen': 'NuHitBatsmen', 'balks': 'NuBalks', 'wildPitches': 'NuWildPitches', 'inheritedRunners': 'NuInheritedRunners', 'inheritedRunnersScored': 'NuInheritedRunnersScored', 'saves': 'NuSaves', 'holds': 'NuHolds', 'blownSaves': 'NuBlownSaves', 'assists': 'NuAssists', 'putOuts': 'NuPutOuts', 'errors': 'NuErrors', 'chances': 'NuChances'}\n"
          ]
        }
      ],
      "source": [
        "cols = {\n",
        "    # columns related to other dimensions\n",
        "    'gamePk': 'IdGame',\n",
        "    'gameDate': 'DtGame',\n",
        "    'gameTimeUTC': 'DtGameUTC',\n",
        "    'playerId': 'IdPlayer',\n",
        "    'teamId': 'IdTeam',\n",
        "    'jerseyNum': 'NuJersey',\n",
        "    'positionCode': 'CdPosition',\n",
        "    # suggested column\n",
        "    'strikeOutsPitching': 'NuStrikeOutsPitching',\n",
        "}  \n",
        "# numeric columns\n",
        "for numeric_col in list(df_playerBoxScores.columns[12:]):\n",
        "    # skip the columns that contains data about pitching due the amount of Nan values\n",
        "    if 'Pitching' not in numeric_col:\n",
        "        cols[numeric_col] = 'Nu' + numeric_col[0].upper() + numeric_col[1:]\n",
        "print(cols)"
      ]
    },
    {
      "cell_type": "code",
      "execution_count": 34,
      "metadata": {},
      "outputs": [],
      "source": [
        "df_playerBoxScores = df_playerBoxScores[list(cols)]\n",
        "df_playerBoxScores.columns = list(cols.values())"
      ]
    },
    {
      "cell_type": "code",
      "execution_count": 35,
      "metadata": {},
      "outputs": [],
      "source": [
        "pd.to_pickle(df_playerBoxScores, processed_data_path + 'playerBoxScores.pkl')\n",
        "del df_playerBoxScores"
      ]
    },
    {
      "attachments": {},
      "cell_type": "markdown",
      "metadata": {},
      "source": [
        "### Games"
      ]
    },
    {
      "cell_type": "code",
      "execution_count": 36,
      "metadata": {},
      "outputs": [
        {
          "name": "stdout",
          "output_type": "stream",
          "text": [
            "CPU times: user 2.52 s, sys: 20.7 ms, total: 2.54 s\n",
            "Wall time: 4.65 s\n"
          ]
        }
      ],
      "source": [
        "%%time\n",
        "df_games = unpack_data(df_train, dfs = ['games'])['games']"
      ]
    },
    {
      "cell_type": "code",
      "execution_count": 37,
      "metadata": {},
      "outputs": [
        {
          "data": {
            "text/html": [
              "<div>\n",
              "<style scoped>\n",
              "    .dataframe tbody tr th:only-of-type {\n",
              "        vertical-align: middle;\n",
              "    }\n",
              "\n",
              "    .dataframe tbody tr th {\n",
              "        vertical-align: top;\n",
              "    }\n",
              "\n",
              "    .dataframe thead th {\n",
              "        text-align: right;\n",
              "    }\n",
              "</style>\n",
              "<table border=\"1\" class=\"dataframe\">\n",
              "  <thead>\n",
              "    <tr style=\"text-align: right;\">\n",
              "      <th></th>\n",
              "      <th>gamePk</th>\n",
              "      <th>gameType</th>\n",
              "      <th>season</th>\n",
              "      <th>gameDate</th>\n",
              "      <th>gameTimeUTC</th>\n",
              "      <th>resumeDate</th>\n",
              "      <th>resumedFrom</th>\n",
              "      <th>codedGameState</th>\n",
              "      <th>detailedGameState</th>\n",
              "      <th>isTie</th>\n",
              "      <th>...</th>\n",
              "      <th>homeWinner</th>\n",
              "      <th>homeScore</th>\n",
              "      <th>awayId</th>\n",
              "      <th>awayName</th>\n",
              "      <th>awayAbbrev</th>\n",
              "      <th>awayWins</th>\n",
              "      <th>awayLosses</th>\n",
              "      <th>awayWinPct</th>\n",
              "      <th>awayWinner</th>\n",
              "      <th>awayScore</th>\n",
              "    </tr>\n",
              "  </thead>\n",
              "  <tbody>\n",
              "    <tr>\n",
              "      <th>0</th>\n",
              "      <td>533782</td>\n",
              "      <td>E</td>\n",
              "      <td>2018</td>\n",
              "      <td>2018-02-21</td>\n",
              "      <td>2018-02-21T20:10:00Z</td>\n",
              "      <td>NaN</td>\n",
              "      <td>NaN</td>\n",
              "      <td>F</td>\n",
              "      <td>Final</td>\n",
              "      <td>False</td>\n",
              "      <td>...</td>\n",
              "      <td>True</td>\n",
              "      <td>7.0</td>\n",
              "      <td>5035</td>\n",
              "      <td>Arizona State Sun Devils</td>\n",
              "      <td>ASU</td>\n",
              "      <td>0.0</td>\n",
              "      <td>1.0</td>\n",
              "      <td>0.0</td>\n",
              "      <td>False</td>\n",
              "      <td>2.0</td>\n",
              "    </tr>\n",
              "    <tr>\n",
              "      <th>0</th>\n",
              "      <td>534461</td>\n",
              "      <td>E</td>\n",
              "      <td>2018</td>\n",
              "      <td>2018-02-22</td>\n",
              "      <td>2018-02-22T18:05:00Z</td>\n",
              "      <td>NaN</td>\n",
              "      <td>NaN</td>\n",
              "      <td>F</td>\n",
              "      <td>Final</td>\n",
              "      <td>False</td>\n",
              "      <td>...</td>\n",
              "      <td>True</td>\n",
              "      <td>6.0</td>\n",
              "      <td>228</td>\n",
              "      <td>Florida Southern College Mocs</td>\n",
              "      <td>FSC</td>\n",
              "      <td>0.0</td>\n",
              "      <td>1.0</td>\n",
              "      <td>0.0</td>\n",
              "      <td>False</td>\n",
              "      <td>1.0</td>\n",
              "    </tr>\n",
              "    <tr>\n",
              "      <th>1</th>\n",
              "      <td>545334</td>\n",
              "      <td>E</td>\n",
              "      <td>2018</td>\n",
              "      <td>2018-02-22</td>\n",
              "      <td>2018-02-22T18:05:00Z</td>\n",
              "      <td>NaN</td>\n",
              "      <td>NaN</td>\n",
              "      <td>F</td>\n",
              "      <td>Final</td>\n",
              "      <td>False</td>\n",
              "      <td>...</td>\n",
              "      <td>True</td>\n",
              "      <td>6.0</td>\n",
              "      <td>231</td>\n",
              "      <td>University of Tampa Spartans</td>\n",
              "      <td>UT</td>\n",
              "      <td>0.0</td>\n",
              "      <td>1.0</td>\n",
              "      <td>0.0</td>\n",
              "      <td>False</td>\n",
              "      <td>0.0</td>\n",
              "    </tr>\n",
              "    <tr>\n",
              "      <th>2</th>\n",
              "      <td>547295</td>\n",
              "      <td>E</td>\n",
              "      <td>2018</td>\n",
              "      <td>2018-02-22</td>\n",
              "      <td>2018-02-22T03:33:00Z</td>\n",
              "      <td>NaN</td>\n",
              "      <td>NaN</td>\n",
              "      <td>F</td>\n",
              "      <td>Final</td>\n",
              "      <td>False</td>\n",
              "      <td>...</td>\n",
              "      <td>True</td>\n",
              "      <td>4.0</td>\n",
              "      <td>227</td>\n",
              "      <td>Boston College Eagles</td>\n",
              "      <td>BC</td>\n",
              "      <td>0.0</td>\n",
              "      <td>1.0</td>\n",
              "      <td>0.0</td>\n",
              "      <td>False</td>\n",
              "      <td>2.0</td>\n",
              "    </tr>\n",
              "    <tr>\n",
              "      <th>3</th>\n",
              "      <td>533784</td>\n",
              "      <td>E</td>\n",
              "      <td>2018</td>\n",
              "      <td>2018-02-22</td>\n",
              "      <td>2018-02-22T23:05:00Z</td>\n",
              "      <td>NaN</td>\n",
              "      <td>NaN</td>\n",
              "      <td>F</td>\n",
              "      <td>Final</td>\n",
              "      <td>False</td>\n",
              "      <td>...</td>\n",
              "      <td>True</td>\n",
              "      <td>2.0</td>\n",
              "      <td>4864</td>\n",
              "      <td>Minnesota Gophers</td>\n",
              "      <td>UM</td>\n",
              "      <td>0.0</td>\n",
              "      <td>1.0</td>\n",
              "      <td>0.0</td>\n",
              "      <td>False</td>\n",
              "      <td>1.0</td>\n",
              "    </tr>\n",
              "  </tbody>\n",
              "</table>\n",
              "<p>5 rows × 32 columns</p>\n",
              "</div>"
            ],
            "text/plain": [
              "   gamePk gameType  season    gameDate           gameTimeUTC resumeDate  \\\n",
              "0  533782        E    2018  2018-02-21  2018-02-21T20:10:00Z        NaN   \n",
              "0  534461        E    2018  2018-02-22  2018-02-22T18:05:00Z        NaN   \n",
              "1  545334        E    2018  2018-02-22  2018-02-22T18:05:00Z        NaN   \n",
              "2  547295        E    2018  2018-02-22  2018-02-22T03:33:00Z        NaN   \n",
              "3  533784        E    2018  2018-02-22  2018-02-22T23:05:00Z        NaN   \n",
              "\n",
              "  resumedFrom codedGameState detailedGameState  isTie  ...  homeWinner  \\\n",
              "0         NaN              F             Final  False  ...        True   \n",
              "0         NaN              F             Final  False  ...        True   \n",
              "1         NaN              F             Final  False  ...        True   \n",
              "2         NaN              F             Final  False  ...        True   \n",
              "3         NaN              F             Final  False  ...        True   \n",
              "\n",
              "  homeScore awayId                       awayName  awayAbbrev awayWins  \\\n",
              "0       7.0   5035       Arizona State Sun Devils         ASU      0.0   \n",
              "0       6.0    228  Florida Southern College Mocs         FSC      0.0   \n",
              "1       6.0    231   University of Tampa Spartans          UT      0.0   \n",
              "2       4.0    227          Boston College Eagles          BC      0.0   \n",
              "3       2.0   4864              Minnesota Gophers          UM      0.0   \n",
              "\n",
              "   awayLosses awayWinPct awayWinner  awayScore  \n",
              "0         1.0        0.0      False        2.0  \n",
              "0         1.0        0.0      False        1.0  \n",
              "1         1.0        0.0      False        0.0  \n",
              "2         1.0        0.0      False        2.0  \n",
              "3         1.0        0.0      False        1.0  \n",
              "\n",
              "[5 rows x 32 columns]"
            ]
          },
          "execution_count": 37,
          "metadata": {},
          "output_type": "execute_result"
        }
      ],
      "source": [
        "df_games.head()"
      ]
    },
    {
      "cell_type": "code",
      "execution_count": 38,
      "metadata": {},
      "outputs": [
        {
          "name": "stdout",
          "output_type": "stream",
          "text": [
            "<class 'pandas.core.frame.DataFrame'>\n",
            "Int64Index: 9055 entries, 0 to 14\n",
            "Data columns (total 32 columns):\n",
            " #   Column             Non-Null Count  Dtype  \n",
            "---  ------             --------------  -----  \n",
            " 0   gamePk             9055 non-null   int64  \n",
            " 1   gameType           9055 non-null   object \n",
            " 2   season             9055 non-null   int64  \n",
            " 3   gameDate           9055 non-null   object \n",
            " 4   gameTimeUTC        9055 non-null   object \n",
            " 5   resumeDate         14 non-null     object \n",
            " 6   resumedFrom        18 non-null     object \n",
            " 7   codedGameState     9055 non-null   object \n",
            " 8   detailedGameState  9055 non-null   object \n",
            " 9   isTie              8672 non-null   object \n",
            " 10  gameNumber         9055 non-null   int64  \n",
            " 11  doubleHeader       9055 non-null   object \n",
            " 12  dayNight           9055 non-null   object \n",
            " 13  scheduledInnings   9055 non-null   int64  \n",
            " 14  gamesInSeries      9052 non-null   float64\n",
            " 15  seriesDescription  9055 non-null   object \n",
            " 16  homeId             9055 non-null   int64  \n",
            " 17  homeName           9055 non-null   object \n",
            " 18  homeAbbrev         9055 non-null   object \n",
            " 19  homeWins           9055 non-null   int64  \n",
            " 20  homeLosses         9055 non-null   int64  \n",
            " 21  homeWinPct         9055 non-null   float64\n",
            " 22  homeWinner         9055 non-null   bool   \n",
            " 23  homeScore          8842 non-null   float64\n",
            " 24  awayId             9055 non-null   int64  \n",
            " 25  awayName           9055 non-null   object \n",
            " 26  awayAbbrev         9055 non-null   object \n",
            " 27  awayWins           9054 non-null   float64\n",
            " 28  awayLosses         9054 non-null   float64\n",
            " 29  awayWinPct         9054 non-null   float64\n",
            " 30  awayWinner         9055 non-null   bool   \n",
            " 31  awayScore          8842 non-null   float64\n",
            "dtypes: bool(2), float64(7), int64(8), object(15)\n",
            "memory usage: 2.2+ MB\n"
          ]
        }
      ],
      "source": [
        "df_games.info()"
      ]
    },
    {
      "cell_type": "code",
      "execution_count": 39,
      "metadata": {},
      "outputs": [
        {
          "name": "stdout",
          "output_type": "stream",
          "text": [
            "<class 'pandas.core.frame.DataFrame'>\n",
            "Int64Index: 9055 entries, 0 to 14\n",
            "Data columns (total 23 columns):\n",
            " #   Column               Non-Null Count  Dtype  \n",
            "---  ------               --------------  -----  \n",
            " 0   IdGame               9055 non-null   int64  \n",
            " 1   CdGameType           9055 non-null   object \n",
            " 2   IdSeason             9055 non-null   int64  \n",
            " 3   DtGame               9055 non-null   object \n",
            " 4   NmGameState          9055 non-null   object \n",
            " 5   FlgIsTie             8672 non-null   object \n",
            " 6   NuGameNumber         9055 non-null   int64  \n",
            " 7   CdDoubleHeader       9055 non-null   object \n",
            " 8   NmDayNight           9055 non-null   object \n",
            " 9   NuScheduledInnings   9055 non-null   int64  \n",
            " 10  NuGamesInSeries      9052 non-null   float64\n",
            " 11  NmSeriesDescription  9055 non-null   object \n",
            " 12  IdHomeTeam           9055 non-null   int64  \n",
            " 13  NuHomeWins           9055 non-null   int64  \n",
            " 14  NuHomeLosses         9055 non-null   int64  \n",
            " 15  NuPctHomeWin         9055 non-null   float64\n",
            " 16  NuHomeScore          8842 non-null   float64\n",
            " 17  IdAwayTeam           9055 non-null   int64  \n",
            " 18  NuAwayWins           9054 non-null   float64\n",
            " 19  NuAwayLosses         9054 non-null   float64\n",
            " 20  NuPctAwayWin         9054 non-null   float64\n",
            " 21  NuAwayScore          8842 non-null   float64\n",
            " 22  FlgHomeWinner        9055 non-null   bool   \n",
            "dtypes: bool(1), float64(7), int64(8), object(7)\n",
            "memory usage: 1.6+ MB\n"
          ]
        }
      ],
      "source": [
        "cols = {\n",
        "    'gamePk': 'IdGame',\n",
        "    'gameType': 'CdGameType',\n",
        "    'season': 'IdSeason',\n",
        "    'gameDate': 'DtGame',\n",
        "    'detailedGameState': 'NmGameState',\n",
        "    'isTie': 'FlgIsTie',\n",
        "    'gameNumber': 'NuGameNumber',\n",
        "    'doubleHeader': 'CdDoubleHeader',\n",
        "    'dayNight': 'NmDayNight',\n",
        "    'scheduledInnings': 'NuScheduledInnings',\n",
        "    'gamesInSeries': 'NuGamesInSeries',\n",
        "    'seriesDescription': 'NmSeriesDescription',\n",
        "    'homeId': 'IdHomeTeam',\n",
        "    'homeWins': 'NuHomeWins',\n",
        "    'homeLosses': 'NuHomeLosses',\n",
        "    'homeWinPct': 'NuPctHomeWin',\n",
        "    'homeScore': 'NuHomeScore',\n",
        "    'awayId': 'IdAwayTeam',\n",
        "    'awayWins': 'NuAwayWins',\n",
        "    'awayLosses': 'NuAwayLosses',\n",
        "    'awayWinPct': 'NuPctAwayWin',\n",
        "    'awayScore': 'NuAwayScore',\n",
        "    'homeWinner': 'FlgHomeWinner',\n",
        "}\n",
        "df_games = df_games[list(cols.keys())]\n",
        "df_games.columns = list(cols.values())\n",
        "df_games.info()"
      ]
    },
    {
      "cell_type": "code",
      "execution_count": 40,
      "metadata": {},
      "outputs": [],
      "source": [
        "pd.to_pickle(df_games, processed_data_path + 'games.pkl')\n",
        "del df_games"
      ]
    },
    {
      "attachments": {},
      "cell_type": "markdown",
      "metadata": {},
      "source": [
        "### Rosters"
      ]
    },
    {
      "cell_type": "code",
      "execution_count": 41,
      "metadata": {},
      "outputs": [
        {
          "name": "stdout",
          "output_type": "stream",
          "text": [
            "CPU times: user 3 s, sys: 297 ms, total: 3.29 s\n",
            "Wall time: 5.29 s\n"
          ]
        }
      ],
      "source": [
        "%%time\n",
        "df_rosters = unpack_data(df_train, dfs = ['rosters'])['rosters']"
      ]
    },
    {
      "cell_type": "code",
      "execution_count": 42,
      "metadata": {},
      "outputs": [
        {
          "data": {
            "text/html": [
              "<div>\n",
              "<style scoped>\n",
              "    .dataframe tbody tr th:only-of-type {\n",
              "        vertical-align: middle;\n",
              "    }\n",
              "\n",
              "    .dataframe tbody tr th {\n",
              "        vertical-align: top;\n",
              "    }\n",
              "\n",
              "    .dataframe thead th {\n",
              "        text-align: right;\n",
              "    }\n",
              "</style>\n",
              "<table border=\"1\" class=\"dataframe\">\n",
              "  <thead>\n",
              "    <tr style=\"text-align: right;\">\n",
              "      <th></th>\n",
              "      <th>playerId</th>\n",
              "      <th>gameDate</th>\n",
              "      <th>teamId</th>\n",
              "      <th>statusCode</th>\n",
              "      <th>status</th>\n",
              "    </tr>\n",
              "  </thead>\n",
              "  <tbody>\n",
              "    <tr>\n",
              "      <th>0</th>\n",
              "      <td>400121</td>\n",
              "      <td>2018-01-01</td>\n",
              "      <td>116</td>\n",
              "      <td>A</td>\n",
              "      <td>Active</td>\n",
              "    </tr>\n",
              "    <tr>\n",
              "      <th>1</th>\n",
              "      <td>408045</td>\n",
              "      <td>2018-01-01</td>\n",
              "      <td>142</td>\n",
              "      <td>A</td>\n",
              "      <td>Active</td>\n",
              "    </tr>\n",
              "    <tr>\n",
              "      <th>2</th>\n",
              "      <td>425492</td>\n",
              "      <td>2018-01-01</td>\n",
              "      <td>120</td>\n",
              "      <td>A</td>\n",
              "      <td>Active</td>\n",
              "    </tr>\n",
              "    <tr>\n",
              "      <th>3</th>\n",
              "      <td>429664</td>\n",
              "      <td>2018-01-01</td>\n",
              "      <td>136</td>\n",
              "      <td>A</td>\n",
              "      <td>Active</td>\n",
              "    </tr>\n",
              "    <tr>\n",
              "      <th>4</th>\n",
              "      <td>431151</td>\n",
              "      <td>2018-01-01</td>\n",
              "      <td>121</td>\n",
              "      <td>A</td>\n",
              "      <td>Active</td>\n",
              "    </tr>\n",
              "  </tbody>\n",
              "</table>\n",
              "</div>"
            ],
            "text/plain": [
              "   playerId    gameDate  teamId statusCode  status\n",
              "0    400121  2018-01-01     116          A  Active\n",
              "1    408045  2018-01-01     142          A  Active\n",
              "2    425492  2018-01-01     120          A  Active\n",
              "3    429664  2018-01-01     136          A  Active\n",
              "4    431151  2018-01-01     121          A  Active"
            ]
          },
          "execution_count": 42,
          "metadata": {},
          "output_type": "execute_result"
        }
      ],
      "source": [
        "df_rosters.head()"
      ]
    },
    {
      "cell_type": "code",
      "execution_count": 43,
      "metadata": {},
      "outputs": [
        {
          "name": "stdout",
          "output_type": "stream",
          "text": [
            "<class 'pandas.core.frame.DataFrame'>\n",
            "Int64Index: 1610288 entries, 0 to 1347\n",
            "Data columns (total 5 columns):\n",
            " #   Column      Non-Null Count    Dtype \n",
            "---  ------      --------------    ----- \n",
            " 0   playerId    1610288 non-null  int64 \n",
            " 1   gameDate    1610288 non-null  object\n",
            " 2   teamId      1610288 non-null  int64 \n",
            " 3   statusCode  1610288 non-null  object\n",
            " 4   status      1610288 non-null  object\n",
            "dtypes: int64(2), object(3)\n",
            "memory usage: 73.7+ MB\n"
          ]
        }
      ],
      "source": [
        "df_rosters.info()"
      ]
    },
    {
      "cell_type": "code",
      "execution_count": 44,
      "metadata": {},
      "outputs": [
        {
          "name": "stdout",
          "output_type": "stream",
          "text": [
            "<class 'pandas.core.frame.DataFrame'>\n",
            "Int64Index: 1610288 entries, 0 to 1347\n",
            "Data columns (total 5 columns):\n",
            " #   Column    Non-Null Count    Dtype \n",
            "---  ------    --------------    ----- \n",
            " 0   DtGame    1610288 non-null  object\n",
            " 1   IdPlayer  1610288 non-null  int64 \n",
            " 2   IdTeam    1610288 non-null  int64 \n",
            " 3   NmStatus  1610288 non-null  object\n",
            " 4   CdStatus  1610288 non-null  object\n",
            "dtypes: int64(2), object(3)\n",
            "memory usage: 73.7+ MB\n"
          ]
        }
      ],
      "source": [
        "cols = {\n",
        "    'gameDate': 'DtGame',\n",
        "    'playerId': 'IdPlayer',\n",
        "    'teamId': 'IdTeam',\n",
        "    'status': 'NmStatus',\n",
        "    'statusCode': 'CdStatus'\n",
        "}\n",
        "df_rosters = df_rosters[list(cols.keys())]\n",
        "df_rosters.columns = list(cols.values())\n",
        "df_rosters.info()"
      ]
    },
    {
      "cell_type": "code",
      "execution_count": 45,
      "metadata": {},
      "outputs": [],
      "source": [
        "pd.to_pickle(df_rosters, processed_data_path + 'rosters.pkl')\n",
        "del df_rosters"
      ]
    },
    {
      "attachments": {},
      "cell_type": "markdown",
      "metadata": {},
      "source": [
        "### Team Box Scores"
      ]
    },
    {
      "cell_type": "code",
      "execution_count": 46,
      "metadata": {},
      "outputs": [
        {
          "name": "stdout",
          "output_type": "stream",
          "text": [
            "CPU times: user 1.3 s, sys: 21.6 ms, total: 1.32 s\n",
            "Wall time: 3.5 s\n"
          ]
        }
      ],
      "source": [
        "%%time\n",
        "df_teamBoxScores = unpack_data(df_train, dfs = ['teamBoxScores'])['teamBoxScores']"
      ]
    },
    {
      "cell_type": "code",
      "execution_count": 47,
      "metadata": {},
      "outputs": [
        {
          "data": {
            "text/html": [
              "<div>\n",
              "<style scoped>\n",
              "    .dataframe tbody tr th:only-of-type {\n",
              "        vertical-align: middle;\n",
              "    }\n",
              "\n",
              "    .dataframe tbody tr th {\n",
              "        vertical-align: top;\n",
              "    }\n",
              "\n",
              "    .dataframe thead th {\n",
              "        text-align: right;\n",
              "    }\n",
              "</style>\n",
              "<table border=\"1\" class=\"dataframe\">\n",
              "  <thead>\n",
              "    <tr style=\"text-align: right;\">\n",
              "      <th></th>\n",
              "      <th>home</th>\n",
              "      <th>teamId</th>\n",
              "      <th>gamePk</th>\n",
              "      <th>gameDate</th>\n",
              "      <th>gameTimeUTC</th>\n",
              "      <th>flyOuts</th>\n",
              "      <th>groundOuts</th>\n",
              "      <th>runsScored</th>\n",
              "      <th>doubles</th>\n",
              "      <th>triples</th>\n",
              "      <th>...</th>\n",
              "      <th>hitBatsmen</th>\n",
              "      <th>balks</th>\n",
              "      <th>wildPitches</th>\n",
              "      <th>pickoffsPitching</th>\n",
              "      <th>rbiPitching</th>\n",
              "      <th>inheritedRunners</th>\n",
              "      <th>inheritedRunnersScored</th>\n",
              "      <th>catchersInterferencePitching</th>\n",
              "      <th>sacBuntsPitching</th>\n",
              "      <th>sacFliesPitching</th>\n",
              "    </tr>\n",
              "  </thead>\n",
              "  <tbody>\n",
              "    <tr>\n",
              "      <th>0</th>\n",
              "      <td>1</td>\n",
              "      <td>109</td>\n",
              "      <td>529410</td>\n",
              "      <td>2018-03-29</td>\n",
              "      <td>2018-03-30T02:10:00Z</td>\n",
              "      <td>4</td>\n",
              "      <td>9</td>\n",
              "      <td>8</td>\n",
              "      <td>2</td>\n",
              "      <td>1</td>\n",
              "      <td>...</td>\n",
              "      <td>0</td>\n",
              "      <td>0</td>\n",
              "      <td>0</td>\n",
              "      <td>0</td>\n",
              "      <td>2</td>\n",
              "      <td>0</td>\n",
              "      <td>0</td>\n",
              "      <td>0</td>\n",
              "      <td>1</td>\n",
              "      <td>0</td>\n",
              "    </tr>\n",
              "    <tr>\n",
              "      <th>1</th>\n",
              "      <td>0</td>\n",
              "      <td>114</td>\n",
              "      <td>529409</td>\n",
              "      <td>2018-03-29</td>\n",
              "      <td>2018-03-30T02:10:00Z</td>\n",
              "      <td>4</td>\n",
              "      <td>9</td>\n",
              "      <td>1</td>\n",
              "      <td>1</td>\n",
              "      <td>0</td>\n",
              "      <td>...</td>\n",
              "      <td>0</td>\n",
              "      <td>0</td>\n",
              "      <td>0</td>\n",
              "      <td>0</td>\n",
              "      <td>2</td>\n",
              "      <td>0</td>\n",
              "      <td>0</td>\n",
              "      <td>0</td>\n",
              "      <td>0</td>\n",
              "      <td>0</td>\n",
              "    </tr>\n",
              "    <tr>\n",
              "      <th>2</th>\n",
              "      <td>1</td>\n",
              "      <td>121</td>\n",
              "      <td>529419</td>\n",
              "      <td>2018-03-29</td>\n",
              "      <td>2018-03-29T17:10:00Z</td>\n",
              "      <td>2</td>\n",
              "      <td>10</td>\n",
              "      <td>9</td>\n",
              "      <td>2</td>\n",
              "      <td>0</td>\n",
              "      <td>...</td>\n",
              "      <td>0</td>\n",
              "      <td>0</td>\n",
              "      <td>0</td>\n",
              "      <td>0</td>\n",
              "      <td>4</td>\n",
              "      <td>0</td>\n",
              "      <td>0</td>\n",
              "      <td>0</td>\n",
              "      <td>0</td>\n",
              "      <td>0</td>\n",
              "    </tr>\n",
              "    <tr>\n",
              "      <th>3</th>\n",
              "      <td>1</td>\n",
              "      <td>139</td>\n",
              "      <td>529406</td>\n",
              "      <td>2018-03-29</td>\n",
              "      <td>2018-03-29T20:00:00Z</td>\n",
              "      <td>2</td>\n",
              "      <td>6</td>\n",
              "      <td>6</td>\n",
              "      <td>1</td>\n",
              "      <td>1</td>\n",
              "      <td>...</td>\n",
              "      <td>0</td>\n",
              "      <td>0</td>\n",
              "      <td>0</td>\n",
              "      <td>0</td>\n",
              "      <td>4</td>\n",
              "      <td>0</td>\n",
              "      <td>0</td>\n",
              "      <td>0</td>\n",
              "      <td>0</td>\n",
              "      <td>0</td>\n",
              "    </tr>\n",
              "    <tr>\n",
              "      <th>4</th>\n",
              "      <td>1</td>\n",
              "      <td>140</td>\n",
              "      <td>529411</td>\n",
              "      <td>2018-03-29</td>\n",
              "      <td>2018-03-29T19:35:00Z</td>\n",
              "      <td>9</td>\n",
              "      <td>4</td>\n",
              "      <td>1</td>\n",
              "      <td>1</td>\n",
              "      <td>0</td>\n",
              "      <td>...</td>\n",
              "      <td>0</td>\n",
              "      <td>0</td>\n",
              "      <td>0</td>\n",
              "      <td>0</td>\n",
              "      <td>4</td>\n",
              "      <td>0</td>\n",
              "      <td>0</td>\n",
              "      <td>0</td>\n",
              "      <td>0</td>\n",
              "      <td>1</td>\n",
              "    </tr>\n",
              "  </tbody>\n",
              "</table>\n",
              "<p>5 rows × 57 columns</p>\n",
              "</div>"
            ],
            "text/plain": [
              "   home  teamId  gamePk    gameDate           gameTimeUTC  flyOuts  \\\n",
              "0     1     109  529410  2018-03-29  2018-03-30T02:10:00Z        4   \n",
              "1     0     114  529409  2018-03-29  2018-03-30T02:10:00Z        4   \n",
              "2     1     121  529419  2018-03-29  2018-03-29T17:10:00Z        2   \n",
              "3     1     139  529406  2018-03-29  2018-03-29T20:00:00Z        2   \n",
              "4     1     140  529411  2018-03-29  2018-03-29T19:35:00Z        9   \n",
              "\n",
              "   groundOuts  runsScored  doubles  triples  ...  hitBatsmen  balks  \\\n",
              "0           9           8        2        1  ...           0      0   \n",
              "1           9           1        1        0  ...           0      0   \n",
              "2          10           9        2        0  ...           0      0   \n",
              "3           6           6        1        1  ...           0      0   \n",
              "4           4           1        1        0  ...           0      0   \n",
              "\n",
              "   wildPitches  pickoffsPitching  rbiPitching  inheritedRunners  \\\n",
              "0            0                 0            2                 0   \n",
              "1            0                 0            2                 0   \n",
              "2            0                 0            4                 0   \n",
              "3            0                 0            4                 0   \n",
              "4            0                 0            4                 0   \n",
              "\n",
              "   inheritedRunnersScored  catchersInterferencePitching  sacBuntsPitching  \\\n",
              "0                       0                             0                 1   \n",
              "1                       0                             0                 0   \n",
              "2                       0                             0                 0   \n",
              "3                       0                             0                 0   \n",
              "4                       0                             0                 0   \n",
              "\n",
              "   sacFliesPitching  \n",
              "0                 0  \n",
              "1                 0  \n",
              "2                 0  \n",
              "3                 0  \n",
              "4                 1  \n",
              "\n",
              "[5 rows x 57 columns]"
            ]
          },
          "execution_count": 47,
          "metadata": {},
          "output_type": "execute_result"
        }
      ],
      "source": [
        "df_teamBoxScores.head()"
      ]
    },
    {
      "cell_type": "code",
      "execution_count": 48,
      "metadata": {},
      "outputs": [
        {
          "name": "stdout",
          "output_type": "stream",
          "text": [
            "<class 'pandas.core.frame.DataFrame'>\n",
            "Int64Index: 14892 entries, 0 to 29\n",
            "Data columns (total 57 columns):\n",
            " #   Column                        Non-Null Count  Dtype  \n",
            "---  ------                        --------------  -----  \n",
            " 0   home                          14892 non-null  int64  \n",
            " 1   teamId                        14892 non-null  int64  \n",
            " 2   gamePk                        14892 non-null  int64  \n",
            " 3   gameDate                      14892 non-null  object \n",
            " 4   gameTimeUTC                   14892 non-null  object \n",
            " 5   flyOuts                       14892 non-null  int64  \n",
            " 6   groundOuts                    14892 non-null  int64  \n",
            " 7   runsScored                    14892 non-null  int64  \n",
            " 8   doubles                       14892 non-null  int64  \n",
            " 9   triples                       14892 non-null  int64  \n",
            " 10  homeRuns                      14892 non-null  int64  \n",
            " 11  strikeOuts                    14892 non-null  int64  \n",
            " 12  baseOnBalls                   14892 non-null  int64  \n",
            " 13  intentionalWalks              14892 non-null  int64  \n",
            " 14  hits                          14892 non-null  int64  \n",
            " 15  hitByPitch                    14892 non-null  int64  \n",
            " 16  atBats                        14892 non-null  int64  \n",
            " 17  caughtStealing                14892 non-null  int64  \n",
            " 18  stolenBases                   14892 non-null  int64  \n",
            " 19  groundIntoDoublePlay          14892 non-null  int64  \n",
            " 20  groundIntoTriplePlay          14892 non-null  int64  \n",
            " 21  plateAppearances              14892 non-null  int64  \n",
            " 22  totalBases                    14892 non-null  int64  \n",
            " 23  rbi                           14892 non-null  int64  \n",
            " 24  leftOnBase                    14892 non-null  int64  \n",
            " 25  sacBunts                      14892 non-null  int64  \n",
            " 26  sacFlies                      14892 non-null  int64  \n",
            " 27  catchersInterference          14892 non-null  int64  \n",
            " 28  pickoffs                      14892 non-null  int64  \n",
            " 29  airOutsPitching               14892 non-null  int64  \n",
            " 30  groundOutsPitching            14892 non-null  int64  \n",
            " 31  runsPitching                  14892 non-null  int64  \n",
            " 32  doublesPitching               14892 non-null  int64  \n",
            " 33  triplesPitching               14892 non-null  int64  \n",
            " 34  homeRunsPitching              14892 non-null  int64  \n",
            " 35  strikeOutsPitching            14892 non-null  int64  \n",
            " 36  baseOnBallsPitching           14892 non-null  int64  \n",
            " 37  intentionalWalksPitching      14892 non-null  int64  \n",
            " 38  hitsPitching                  14892 non-null  int64  \n",
            " 39  hitByPitchPitching            14892 non-null  int64  \n",
            " 40  atBatsPitching                14892 non-null  int64  \n",
            " 41  caughtStealingPitching        14892 non-null  int64  \n",
            " 42  stolenBasesPitching           14892 non-null  int64  \n",
            " 43  inningsPitched                14892 non-null  float64\n",
            " 44  earnedRuns                    14892 non-null  int64  \n",
            " 45  battersFaced                  14892 non-null  int64  \n",
            " 46  outsPitching                  14892 non-null  int64  \n",
            " 47  hitBatsmen                    14892 non-null  int64  \n",
            " 48  balks                         14892 non-null  int64  \n",
            " 49  wildPitches                   14892 non-null  int64  \n",
            " 50  pickoffsPitching              14892 non-null  int64  \n",
            " 51  rbiPitching                   14892 non-null  int64  \n",
            " 52  inheritedRunners              14892 non-null  int64  \n",
            " 53  inheritedRunnersScored        14892 non-null  int64  \n",
            " 54  catchersInterferencePitching  14892 non-null  int64  \n",
            " 55  sacBuntsPitching              14892 non-null  int64  \n",
            " 56  sacFliesPitching              14892 non-null  int64  \n",
            "dtypes: float64(1), int64(54), object(2)\n",
            "memory usage: 6.6+ MB\n"
          ]
        }
      ],
      "source": [
        "df_teamBoxScores.info()"
      ]
    },
    {
      "cell_type": "code",
      "execution_count": 49,
      "metadata": {},
      "outputs": [],
      "source": [
        "# cols = {\n",
        "\n",
        "# }\n",
        "# df_teamBoxScores = df_teamBoxScores[list(cols.keys())]\n",
        "# df_teamBoxScores.columns = list(cols.values())\n",
        "# df_teamBoxScores.info()"
      ]
    },
    {
      "cell_type": "code",
      "execution_count": 50,
      "metadata": {},
      "outputs": [],
      "source": [
        "pd.to_pickle(df_teamBoxScores, processed_data_path + 'teamBoxScores.pkl')\n",
        "del df_teamBoxScores"
      ]
    },
    {
      "attachments": {},
      "cell_type": "markdown",
      "metadata": {},
      "source": [
        "### Transactions"
      ]
    },
    {
      "cell_type": "code",
      "execution_count": 51,
      "metadata": {},
      "outputs": [
        {
          "name": "stdout",
          "output_type": "stream",
          "text": [
            "CPU times: user 2.37 s, sys: 70.3 ms, total: 2.44 s\n",
            "Wall time: 4.93 s\n"
          ]
        }
      ],
      "source": [
        "%%time\n",
        "df_transactions = unpack_data(df_train, dfs = ['transactions'])['transactions']"
      ]
    },
    {
      "cell_type": "code",
      "execution_count": 52,
      "metadata": {},
      "outputs": [
        {
          "data": {
            "text/html": [
              "<div>\n",
              "<style scoped>\n",
              "    .dataframe tbody tr th:only-of-type {\n",
              "        vertical-align: middle;\n",
              "    }\n",
              "\n",
              "    .dataframe tbody tr th {\n",
              "        vertical-align: top;\n",
              "    }\n",
              "\n",
              "    .dataframe thead th {\n",
              "        text-align: right;\n",
              "    }\n",
              "</style>\n",
              "<table border=\"1\" class=\"dataframe\">\n",
              "  <thead>\n",
              "    <tr style=\"text-align: right;\">\n",
              "      <th></th>\n",
              "      <th>transactionId</th>\n",
              "      <th>playerId</th>\n",
              "      <th>playerName</th>\n",
              "      <th>date</th>\n",
              "      <th>fromTeamId</th>\n",
              "      <th>fromTeamName</th>\n",
              "      <th>toTeamId</th>\n",
              "      <th>toTeamName</th>\n",
              "      <th>effectiveDate</th>\n",
              "      <th>resolutionDate</th>\n",
              "      <th>typeCode</th>\n",
              "      <th>typeDesc</th>\n",
              "      <th>description</th>\n",
              "    </tr>\n",
              "  </thead>\n",
              "  <tbody>\n",
              "    <tr>\n",
              "      <th>0</th>\n",
              "      <td>340732</td>\n",
              "      <td>547348.0</td>\n",
              "      <td>C.C. Lee</td>\n",
              "      <td>2018-01-01</td>\n",
              "      <td>NaN</td>\n",
              "      <td>NaN</td>\n",
              "      <td>119</td>\n",
              "      <td>Los Angeles Dodgers</td>\n",
              "      <td>2018-01-01</td>\n",
              "      <td>2018-01-01</td>\n",
              "      <td>SFA</td>\n",
              "      <td>Signed as Free Agent</td>\n",
              "      <td>Los Angeles Dodgers signed free agent RHP C.C....</td>\n",
              "    </tr>\n",
              "    <tr>\n",
              "      <th>0</th>\n",
              "      <td>339458</td>\n",
              "      <td>621173.0</td>\n",
              "      <td>Dylan Baker</td>\n",
              "      <td>2018-01-02</td>\n",
              "      <td>158.0</td>\n",
              "      <td>Milwaukee Brewers</td>\n",
              "      <td>119</td>\n",
              "      <td>Los Angeles Dodgers</td>\n",
              "      <td>2018-03-20</td>\n",
              "      <td>None</td>\n",
              "      <td>TR</td>\n",
              "      <td>Trade</td>\n",
              "      <td>Milwaukee Brewers traded RHP Dylan Baker to Lo...</td>\n",
              "    </tr>\n",
              "    <tr>\n",
              "      <th>1</th>\n",
              "      <td>357292</td>\n",
              "      <td>678876.0</td>\n",
              "      <td>Angel Rojas</td>\n",
              "      <td>2018-01-02</td>\n",
              "      <td>NaN</td>\n",
              "      <td>None</td>\n",
              "      <td>147</td>\n",
              "      <td>New York Yankees</td>\n",
              "      <td>2018-01-02</td>\n",
              "      <td>2018-01-02</td>\n",
              "      <td>SFA</td>\n",
              "      <td>Signed as Free Agent</td>\n",
              "      <td>New York Yankees signed free agent SS Angel Ro...</td>\n",
              "    </tr>\n",
              "    <tr>\n",
              "      <th>2</th>\n",
              "      <td>341123</td>\n",
              "      <td>607054.0</td>\n",
              "      <td>Jace Peterson</td>\n",
              "      <td>2018-01-02</td>\n",
              "      <td>NaN</td>\n",
              "      <td>None</td>\n",
              "      <td>147</td>\n",
              "      <td>New York Yankees</td>\n",
              "      <td>2018-01-02</td>\n",
              "      <td>2018-01-02</td>\n",
              "      <td>SFA</td>\n",
              "      <td>Signed as Free Agent</td>\n",
              "      <td>New York Yankees signed free agent 2B Jace Pet...</td>\n",
              "    </tr>\n",
              "    <tr>\n",
              "      <th>3</th>\n",
              "      <td>339458</td>\n",
              "      <td>NaN</td>\n",
              "      <td>None</td>\n",
              "      <td>2018-01-02</td>\n",
              "      <td>119.0</td>\n",
              "      <td>Los Angeles Dodgers</td>\n",
              "      <td>158</td>\n",
              "      <td>Milwaukee Brewers</td>\n",
              "      <td>2018-01-02</td>\n",
              "      <td>None</td>\n",
              "      <td>TR</td>\n",
              "      <td>Trade</td>\n",
              "      <td>Milwaukee Brewers traded RHP Dylan Baker to Lo...</td>\n",
              "    </tr>\n",
              "  </tbody>\n",
              "</table>\n",
              "</div>"
            ],
            "text/plain": [
              "   transactionId  playerId     playerName       date  fromTeamId  \\\n",
              "0         340732  547348.0       C.C. Lee 2018-01-01         NaN   \n",
              "0         339458  621173.0    Dylan Baker 2018-01-02       158.0   \n",
              "1         357292  678876.0    Angel Rojas 2018-01-02         NaN   \n",
              "2         341123  607054.0  Jace Peterson 2018-01-02         NaN   \n",
              "3         339458       NaN           None 2018-01-02       119.0   \n",
              "\n",
              "          fromTeamName  toTeamId           toTeamName effectiveDate  \\\n",
              "0                  NaN       119  Los Angeles Dodgers    2018-01-01   \n",
              "0    Milwaukee Brewers       119  Los Angeles Dodgers    2018-03-20   \n",
              "1                 None       147     New York Yankees    2018-01-02   \n",
              "2                 None       147     New York Yankees    2018-01-02   \n",
              "3  Los Angeles Dodgers       158    Milwaukee Brewers    2018-01-02   \n",
              "\n",
              "  resolutionDate typeCode              typeDesc  \\\n",
              "0     2018-01-01      SFA  Signed as Free Agent   \n",
              "0           None       TR                 Trade   \n",
              "1     2018-01-02      SFA  Signed as Free Agent   \n",
              "2     2018-01-02      SFA  Signed as Free Agent   \n",
              "3           None       TR                 Trade   \n",
              "\n",
              "                                         description  \n",
              "0  Los Angeles Dodgers signed free agent RHP C.C....  \n",
              "0  Milwaukee Brewers traded RHP Dylan Baker to Lo...  \n",
              "1  New York Yankees signed free agent SS Angel Ro...  \n",
              "2  New York Yankees signed free agent 2B Jace Pet...  \n",
              "3  Milwaukee Brewers traded RHP Dylan Baker to Lo...  "
            ]
          },
          "execution_count": 52,
          "metadata": {},
          "output_type": "execute_result"
        }
      ],
      "source": [
        "df_transactions.head()"
      ]
    },
    {
      "cell_type": "code",
      "execution_count": 53,
      "metadata": {},
      "outputs": [
        {
          "name": "stdout",
          "output_type": "stream",
          "text": [
            "<class 'pandas.core.frame.DataFrame'>\n",
            "Int64Index: 45420 entries, 0 to 81\n",
            "Data columns (total 13 columns):\n",
            " #   Column          Non-Null Count  Dtype         \n",
            "---  ------          --------------  -----         \n",
            " 0   transactionId   45420 non-null  int64         \n",
            " 1   playerId        44997 non-null  float64       \n",
            " 2   playerName      44995 non-null  object        \n",
            " 3   date            45420 non-null  datetime64[ns]\n",
            " 4   fromTeamId      16618 non-null  float64       \n",
            " 5   fromTeamName    16618 non-null  object        \n",
            " 6   toTeamId        45420 non-null  int64         \n",
            " 7   toTeamName      45420 non-null  object        \n",
            " 8   effectiveDate   45420 non-null  object        \n",
            " 9   resolutionDate  30328 non-null  object        \n",
            " 10  typeCode        45420 non-null  object        \n",
            " 11  typeDesc        45420 non-null  object        \n",
            " 12  description     45401 non-null  object        \n",
            "dtypes: datetime64[ns](1), float64(2), int64(2), object(8)\n",
            "memory usage: 4.9+ MB\n"
          ]
        }
      ],
      "source": [
        "df_transactions.info()"
      ]
    },
    {
      "cell_type": "code",
      "execution_count": 54,
      "metadata": {},
      "outputs": [
        {
          "name": "stdout",
          "output_type": "stream",
          "text": [
            "<class 'pandas.core.frame.DataFrame'>\n",
            "Int64Index: 45420 entries, 0 to 81\n",
            "Data columns (total 6 columns):\n",
            " #   Column         Non-Null Count  Dtype         \n",
            "---  ------         --------------  -----         \n",
            " 0   IdTransaction  45420 non-null  int64         \n",
            " 1   IdPlayer       44997 non-null  float64       \n",
            " 2   DtTransaction  45420 non-null  datetime64[ns]\n",
            " 3   IdFromTeam     16618 non-null  float64       \n",
            " 4   IdToTeam       45420 non-null  int64         \n",
            " 5   NmType         45420 non-null  object        \n",
            "dtypes: datetime64[ns](1), float64(2), int64(2), object(1)\n",
            "memory usage: 2.4+ MB\n"
          ]
        }
      ],
      "source": [
        "cols = {\n",
        "    'transactionId': 'IdTransaction',\n",
        "    'playerId': 'IdPlayer',\n",
        "    'date': 'DtTransaction',\n",
        "    'fromTeamId': 'IdFromTeam',\n",
        "    'toTeamId': 'IdToTeam',\n",
        "    'typeDesc': 'NmType'\n",
        "}\n",
        "df_transactions = df_transactions[list(cols.keys())]\n",
        "df_transactions.columns = list(cols.values())\n",
        "df_transactions.info()"
      ]
    },
    {
      "cell_type": "code",
      "execution_count": 55,
      "metadata": {},
      "outputs": [],
      "source": [
        "pd.to_pickle(df_transactions, processed_data_path + 'transactions.pkl')\n",
        "del df_transactions"
      ]
    },
    {
      "attachments": {},
      "cell_type": "markdown",
      "metadata": {},
      "source": [
        "### Standings"
      ]
    },
    {
      "cell_type": "code",
      "execution_count": 56,
      "metadata": {},
      "outputs": [
        {
          "name": "stdout",
          "output_type": "stream",
          "text": [
            "CPU times: user 1.81 s, sys: 55.4 ms, total: 1.86 s\n",
            "Wall time: 3.97 s\n"
          ]
        }
      ],
      "source": [
        "%%time\n",
        "df_standings = unpack_data(df_train, dfs = ['standings'])['standings']"
      ]
    },
    {
      "cell_type": "code",
      "execution_count": 57,
      "metadata": {},
      "outputs": [
        {
          "data": {
            "text/html": [
              "<div>\n",
              "<style scoped>\n",
              "    .dataframe tbody tr th:only-of-type {\n",
              "        vertical-align: middle;\n",
              "    }\n",
              "\n",
              "    .dataframe tbody tr th {\n",
              "        vertical-align: top;\n",
              "    }\n",
              "\n",
              "    .dataframe thead th {\n",
              "        text-align: right;\n",
              "    }\n",
              "</style>\n",
              "<table border=\"1\" class=\"dataframe\">\n",
              "  <thead>\n",
              "    <tr style=\"text-align: right;\">\n",
              "      <th></th>\n",
              "      <th>season</th>\n",
              "      <th>gameDate</th>\n",
              "      <th>divisionId</th>\n",
              "      <th>teamId</th>\n",
              "      <th>teamName</th>\n",
              "      <th>streakCode</th>\n",
              "      <th>divisionRank</th>\n",
              "      <th>leagueRank</th>\n",
              "      <th>wildCardRank</th>\n",
              "      <th>leagueGamesBack</th>\n",
              "      <th>...</th>\n",
              "      <th>grassLosses</th>\n",
              "      <th>turfWins</th>\n",
              "      <th>turfLosses</th>\n",
              "      <th>divWins</th>\n",
              "      <th>divLosses</th>\n",
              "      <th>alWins</th>\n",
              "      <th>alLosses</th>\n",
              "      <th>nlWins</th>\n",
              "      <th>nlLosses</th>\n",
              "      <th>xWinLossPct</th>\n",
              "    </tr>\n",
              "  </thead>\n",
              "  <tbody>\n",
              "    <tr>\n",
              "      <th>0</th>\n",
              "      <td>2018</td>\n",
              "      <td>2018-03-29</td>\n",
              "      <td>205</td>\n",
              "      <td>112</td>\n",
              "      <td>Chicago Cubs</td>\n",
              "      <td>W1</td>\n",
              "      <td>1</td>\n",
              "      <td>3</td>\n",
              "      <td>3.0</td>\n",
              "      <td>-</td>\n",
              "      <td>...</td>\n",
              "      <td>0</td>\n",
              "      <td>0</td>\n",
              "      <td>0</td>\n",
              "      <td>0</td>\n",
              "      <td>0</td>\n",
              "      <td>0.0</td>\n",
              "      <td>0.0</td>\n",
              "      <td>0.0</td>\n",
              "      <td>0.0</td>\n",
              "      <td>0.0</td>\n",
              "    </tr>\n",
              "    <tr>\n",
              "      <th>1</th>\n",
              "      <td>2018</td>\n",
              "      <td>2018-03-29</td>\n",
              "      <td>204</td>\n",
              "      <td>146</td>\n",
              "      <td>Miami Marlins</td>\n",
              "      <td>L1</td>\n",
              "      <td>4</td>\n",
              "      <td>12</td>\n",
              "      <td>12.0</td>\n",
              "      <td>1.0</td>\n",
              "      <td>...</td>\n",
              "      <td>1</td>\n",
              "      <td>0</td>\n",
              "      <td>0</td>\n",
              "      <td>0</td>\n",
              "      <td>0</td>\n",
              "      <td>0.0</td>\n",
              "      <td>1.0</td>\n",
              "      <td>0.0</td>\n",
              "      <td>1.0</td>\n",
              "      <td>0.0</td>\n",
              "    </tr>\n",
              "    <tr>\n",
              "      <th>2</th>\n",
              "      <td>2018</td>\n",
              "      <td>2018-03-29</td>\n",
              "      <td>204</td>\n",
              "      <td>121</td>\n",
              "      <td>New York Mets</td>\n",
              "      <td>W1</td>\n",
              "      <td>2</td>\n",
              "      <td>5</td>\n",
              "      <td>5.0</td>\n",
              "      <td>-</td>\n",
              "      <td>...</td>\n",
              "      <td>0</td>\n",
              "      <td>0</td>\n",
              "      <td>0</td>\n",
              "      <td>0</td>\n",
              "      <td>0</td>\n",
              "      <td>1.0</td>\n",
              "      <td>0.0</td>\n",
              "      <td>1.0</td>\n",
              "      <td>0.0</td>\n",
              "      <td>1.0</td>\n",
              "    </tr>\n",
              "    <tr>\n",
              "      <th>3</th>\n",
              "      <td>2018</td>\n",
              "      <td>2018-03-29</td>\n",
              "      <td>200</td>\n",
              "      <td>140</td>\n",
              "      <td>Texas Rangers</td>\n",
              "      <td>L1</td>\n",
              "      <td>5</td>\n",
              "      <td>14</td>\n",
              "      <td>13.0</td>\n",
              "      <td>1.0</td>\n",
              "      <td>...</td>\n",
              "      <td>1</td>\n",
              "      <td>0</td>\n",
              "      <td>0</td>\n",
              "      <td>0</td>\n",
              "      <td>1</td>\n",
              "      <td>0.0</td>\n",
              "      <td>0.0</td>\n",
              "      <td>0.0</td>\n",
              "      <td>0.0</td>\n",
              "      <td>0.0</td>\n",
              "    </tr>\n",
              "    <tr>\n",
              "      <th>4</th>\n",
              "      <td>2018</td>\n",
              "      <td>2018-03-29</td>\n",
              "      <td>204</td>\n",
              "      <td>144</td>\n",
              "      <td>Atlanta Braves</td>\n",
              "      <td>W1</td>\n",
              "      <td>1</td>\n",
              "      <td>2</td>\n",
              "      <td>2.0</td>\n",
              "      <td>-</td>\n",
              "      <td>...</td>\n",
              "      <td>0</td>\n",
              "      <td>0</td>\n",
              "      <td>0</td>\n",
              "      <td>1</td>\n",
              "      <td>0</td>\n",
              "      <td>0.0</td>\n",
              "      <td>0.0</td>\n",
              "      <td>0.0</td>\n",
              "      <td>0.0</td>\n",
              "      <td>0.0</td>\n",
              "    </tr>\n",
              "  </tbody>\n",
              "</table>\n",
              "<p>5 rows × 47 columns</p>\n",
              "</div>"
            ],
            "text/plain": [
              "   season    gameDate  divisionId  teamId        teamName streakCode  \\\n",
              "0    2018  2018-03-29         205     112    Chicago Cubs         W1   \n",
              "1    2018  2018-03-29         204     146   Miami Marlins         L1   \n",
              "2    2018  2018-03-29         204     121   New York Mets         W1   \n",
              "3    2018  2018-03-29         200     140   Texas Rangers         L1   \n",
              "4    2018  2018-03-29         204     144  Atlanta Braves         W1   \n",
              "\n",
              "   divisionRank  leagueRank  wildCardRank leagueGamesBack  ... grassLosses  \\\n",
              "0             1           3           3.0               -  ...           0   \n",
              "1             4          12          12.0             1.0  ...           1   \n",
              "2             2           5           5.0               -  ...           0   \n",
              "3             5          14          13.0             1.0  ...           1   \n",
              "4             1           2           2.0               -  ...           0   \n",
              "\n",
              "  turfWins  turfLosses  divWins  divLosses  alWins  alLosses  nlWins  \\\n",
              "0        0           0        0          0     0.0       0.0     0.0   \n",
              "1        0           0        0          0     0.0       1.0     0.0   \n",
              "2        0           0        0          0     1.0       0.0     1.0   \n",
              "3        0           0        0          1     0.0       0.0     0.0   \n",
              "4        0           0        1          0     0.0       0.0     0.0   \n",
              "\n",
              "   nlLosses xWinLossPct  \n",
              "0       0.0         0.0  \n",
              "1       1.0         0.0  \n",
              "2       0.0         1.0  \n",
              "3       0.0         0.0  \n",
              "4       0.0         0.0  \n",
              "\n",
              "[5 rows x 47 columns]"
            ]
          },
          "execution_count": 57,
          "metadata": {},
          "output_type": "execute_result"
        }
      ],
      "source": [
        "df_standings.head()"
      ]
    },
    {
      "cell_type": "code",
      "execution_count": 58,
      "metadata": {},
      "outputs": [
        {
          "name": "stdout",
          "output_type": "stream",
          "text": [
            "<class 'pandas.core.frame.DataFrame'>\n",
            "Int64Index: 18690 entries, 0 to 29\n",
            "Data columns (total 47 columns):\n",
            " #   Column                     Non-Null Count  Dtype  \n",
            "---  ------                     --------------  -----  \n",
            " 0   season                     18690 non-null  int64  \n",
            " 1   gameDate                   18690 non-null  object \n",
            " 2   divisionId                 18690 non-null  int64  \n",
            " 3   teamId                     18690 non-null  int64  \n",
            " 4   teamName                   18690 non-null  object \n",
            " 5   streakCode                 18593 non-null  object \n",
            " 6   divisionRank               18690 non-null  int64  \n",
            " 7   leagueRank                 18690 non-null  int64  \n",
            " 8   wildCardRank               14744 non-null  float64\n",
            " 9   leagueGamesBack            18690 non-null  object \n",
            " 10  sportGamesBack             18690 non-null  object \n",
            " 11  divisionGamesBack          18690 non-null  object \n",
            " 12  wins                       18690 non-null  int64  \n",
            " 13  losses                     18690 non-null  int64  \n",
            " 14  pct                        18690 non-null  float64\n",
            " 15  runsAllowed                18690 non-null  int64  \n",
            " 16  runsScored                 18690 non-null  int64  \n",
            " 17  divisionChamp              18690 non-null  bool   \n",
            " 18  divisionLeader             18690 non-null  bool   \n",
            " 19  wildCardLeader             2820 non-null   object \n",
            " 20  eliminationNumber          18690 non-null  object \n",
            " 21  wildCardEliminationNumber  16638 non-null  object \n",
            " 22  homeWins                   18690 non-null  int64  \n",
            " 23  homeLosses                 18690 non-null  int64  \n",
            " 24  awayWins                   18690 non-null  int64  \n",
            " 25  awayLosses                 18690 non-null  int64  \n",
            " 26  lastTenWins                18690 non-null  int64  \n",
            " 27  lastTenLosses              18690 non-null  int64  \n",
            " 28  extraInningWins            18690 non-null  int64  \n",
            " 29  extraInningLosses          18690 non-null  int64  \n",
            " 30  oneRunWins                 18690 non-null  int64  \n",
            " 31  oneRunLosses               18690 non-null  int64  \n",
            " 32  dayWins                    18690 non-null  int64  \n",
            " 33  dayLosses                  18690 non-null  int64  \n",
            " 34  nightWins                  18690 non-null  int64  \n",
            " 35  nightLosses                18690 non-null  int64  \n",
            " 36  grassWins                  18690 non-null  int64  \n",
            " 37  grassLosses                18690 non-null  int64  \n",
            " 38  turfWins                   18690 non-null  int64  \n",
            " 39  turfLosses                 18690 non-null  int64  \n",
            " 40  divWins                    18690 non-null  int64  \n",
            " 41  divLosses                  18690 non-null  int64  \n",
            " 42  alWins                     18244 non-null  float64\n",
            " 43  alLosses                   18244 non-null  float64\n",
            " 44  nlWins                     18273 non-null  float64\n",
            " 45  nlLosses                   18273 non-null  float64\n",
            " 46  xWinLossPct                18593 non-null  float64\n",
            "dtypes: bool(2), float64(7), int64(29), object(9)\n",
            "memory usage: 6.6+ MB\n"
          ]
        }
      ],
      "source": [
        "df_standings.info()"
      ]
    },
    {
      "cell_type": "code",
      "execution_count": 59,
      "metadata": {},
      "outputs": [],
      "source": [
        "# cols = {\n",
        "\n",
        "# }\n",
        "# df_standings = df_standings[list(cols.keys())]\n",
        "# df_standings.columns = list(cols.values())\n",
        "# df_standings.info()"
      ]
    },
    {
      "cell_type": "code",
      "execution_count": 60,
      "metadata": {},
      "outputs": [],
      "source": [
        "pd.to_pickle(df_standings, processed_data_path + 'standings.pkl')\n",
        "del df_standings"
      ]
    },
    {
      "attachments": {},
      "cell_type": "markdown",
      "metadata": {},
      "source": [
        "### Events"
      ]
    },
    {
      "cell_type": "code",
      "execution_count": 61,
      "metadata": {},
      "outputs": [],
      "source": [
        "# %%time\n",
        "# df_events = unpack_data(df_train, dfs = ['events'])['events']"
      ]
    },
    {
      "cell_type": "code",
      "execution_count": 62,
      "metadata": {},
      "outputs": [],
      "source": [
        "# df_events.head() "
      ]
    },
    {
      "cell_type": "code",
      "execution_count": 63,
      "metadata": {},
      "outputs": [],
      "source": [
        "# df_events.info()"
      ]
    },
    {
      "attachments": {},
      "cell_type": "markdown",
      "metadata": {},
      "source": [
        "### Player Twitter Followers"
      ]
    },
    {
      "cell_type": "code",
      "execution_count": 64,
      "metadata": {},
      "outputs": [
        {
          "name": "stdout",
          "output_type": "stream",
          "text": [
            "CPU times: user 789 ms, sys: 13.2 ms, total: 802 ms\n",
            "Wall time: 790 ms\n"
          ]
        }
      ],
      "source": [
        "%%time\n",
        "df_ttPlayer = unpack_data(df_train, dfs = ['playerTwitterFollowers'])['playerTwitterFollowers']"
      ]
    },
    {
      "cell_type": "code",
      "execution_count": 65,
      "metadata": {},
      "outputs": [
        {
          "data": {
            "text/html": [
              "<div>\n",
              "<style scoped>\n",
              "    .dataframe tbody tr th:only-of-type {\n",
              "        vertical-align: middle;\n",
              "    }\n",
              "\n",
              "    .dataframe tbody tr th {\n",
              "        vertical-align: top;\n",
              "    }\n",
              "\n",
              "    .dataframe thead th {\n",
              "        text-align: right;\n",
              "    }\n",
              "</style>\n",
              "<table border=\"1\" class=\"dataframe\">\n",
              "  <thead>\n",
              "    <tr style=\"text-align: right;\">\n",
              "      <th></th>\n",
              "      <th>date</th>\n",
              "      <th>playerId</th>\n",
              "      <th>playerName</th>\n",
              "      <th>accountName</th>\n",
              "      <th>twitterHandle</th>\n",
              "      <th>numberOfFollowers</th>\n",
              "    </tr>\n",
              "  </thead>\n",
              "  <tbody>\n",
              "    <tr>\n",
              "      <th>0</th>\n",
              "      <td>2018-01-01</td>\n",
              "      <td>545361</td>\n",
              "      <td>Mike Trout</td>\n",
              "      <td>Mike Trout</td>\n",
              "      <td>@miketrout</td>\n",
              "      <td>2452409</td>\n",
              "    </tr>\n",
              "    <tr>\n",
              "      <th>1</th>\n",
              "      <td>2018-01-01</td>\n",
              "      <td>506433</td>\n",
              "      <td>Yu Darvish</td>\n",
              "      <td>Yu Darvish</td>\n",
              "      <td>@faridyu</td>\n",
              "      <td>1945081</td>\n",
              "    </tr>\n",
              "    <tr>\n",
              "      <th>2</th>\n",
              "      <td>2018-01-01</td>\n",
              "      <td>434378</td>\n",
              "      <td>Justin Verlander</td>\n",
              "      <td>Justin Verlander</td>\n",
              "      <td>@justinverlander</td>\n",
              "      <td>1795985</td>\n",
              "    </tr>\n",
              "    <tr>\n",
              "      <th>3</th>\n",
              "      <td>2018-01-01</td>\n",
              "      <td>430897</td>\n",
              "      <td>Nick Swisher</td>\n",
              "      <td>Nick Swisher</td>\n",
              "      <td>@nickswisher</td>\n",
              "      <td>1711807</td>\n",
              "    </tr>\n",
              "    <tr>\n",
              "      <th>4</th>\n",
              "      <td>2018-01-01</td>\n",
              "      <td>120074</td>\n",
              "      <td>David Ortiz</td>\n",
              "      <td>David Ortiz</td>\n",
              "      <td>@davidortiz</td>\n",
              "      <td>1515463</td>\n",
              "    </tr>\n",
              "  </tbody>\n",
              "</table>\n",
              "</div>"
            ],
            "text/plain": [
              "        date  playerId        playerName       accountName     twitterHandle  \\\n",
              "0 2018-01-01    545361        Mike Trout        Mike Trout        @miketrout   \n",
              "1 2018-01-01    506433        Yu Darvish        Yu Darvish          @faridyu   \n",
              "2 2018-01-01    434378  Justin Verlander  Justin Verlander  @justinverlander   \n",
              "3 2018-01-01    430897      Nick Swisher      Nick Swisher      @nickswisher   \n",
              "4 2018-01-01    120074       David Ortiz       David Ortiz       @davidortiz   \n",
              "\n",
              "   numberOfFollowers  \n",
              "0            2452409  \n",
              "1            1945081  \n",
              "2            1795985  \n",
              "3            1711807  \n",
              "4            1515463  "
            ]
          },
          "execution_count": 65,
          "metadata": {},
          "output_type": "execute_result"
        }
      ],
      "source": [
        "df_ttPlayer.head()"
      ]
    },
    {
      "cell_type": "code",
      "execution_count": 66,
      "metadata": {},
      "outputs": [
        {
          "name": "stdout",
          "output_type": "stream",
          "text": [
            "<class 'pandas.core.frame.DataFrame'>\n",
            "Int64Index: 43600 entries, 0 to 1335\n",
            "Data columns (total 6 columns):\n",
            " #   Column             Non-Null Count  Dtype         \n",
            "---  ------             --------------  -----         \n",
            " 0   date               43600 non-null  datetime64[ns]\n",
            " 1   playerId           43600 non-null  int64         \n",
            " 2   playerName         43600 non-null  object        \n",
            " 3   accountName        43600 non-null  object        \n",
            " 4   twitterHandle      43600 non-null  object        \n",
            " 5   numberOfFollowers  43600 non-null  int64         \n",
            "dtypes: datetime64[ns](1), int64(2), object(3)\n",
            "memory usage: 2.3+ MB\n"
          ]
        }
      ],
      "source": [
        "df_ttPlayer.info()"
      ]
    },
    {
      "cell_type": "code",
      "execution_count": 67,
      "metadata": {},
      "outputs": [
        {
          "name": "stdout",
          "output_type": "stream",
          "text": [
            "<class 'pandas.core.frame.DataFrame'>\n",
            "Int64Index: 43600 entries, 0 to 1335\n",
            "Data columns (total 3 columns):\n",
            " #   Column       Non-Null Count  Dtype         \n",
            "---  ------       --------------  -----         \n",
            " 0   IdPlayer     43600 non-null  int64         \n",
            " 1   DtTwitter    43600 non-null  datetime64[ns]\n",
            " 2   NuFollowers  43600 non-null  int64         \n",
            "dtypes: datetime64[ns](1), int64(2)\n",
            "memory usage: 1.3 MB\n"
          ]
        }
      ],
      "source": [
        "cols = {\n",
        "    'playerId': 'IdPlayer',\n",
        "    'date': 'DtTwitter',\n",
        "    'numberOfFollowers': 'NuFollowers'\n",
        "}\n",
        "df_ttPlayer = df_ttPlayer[list(cols.keys())]\n",
        "df_ttPlayer.columns = list(cols.values())\n",
        "df_ttPlayer.info()"
      ]
    },
    {
      "cell_type": "code",
      "execution_count": 68,
      "metadata": {},
      "outputs": [],
      "source": [
        "pd.to_pickle(df_ttPlayer, processed_data_path + 'playerTwitterFollowers.pkl')\n",
        "del df_ttPlayer"
      ]
    },
    {
      "attachments": {},
      "cell_type": "markdown",
      "metadata": {},
      "source": [
        "### Team Twitter Followers"
      ]
    },
    {
      "cell_type": "code",
      "execution_count": 69,
      "metadata": {},
      "outputs": [
        {
          "name": "stdout",
          "output_type": "stream",
          "text": [
            "CPU times: user 671 ms, sys: 15.7 ms, total: 687 ms\n",
            "Wall time: 677 ms\n"
          ]
        }
      ],
      "source": [
        "%%time\n",
        "df_ttTeam = unpack_data(df_train, dfs = ['teamTwitterFollowers'])['teamTwitterFollowers']"
      ]
    },
    {
      "cell_type": "code",
      "execution_count": 70,
      "metadata": {},
      "outputs": [
        {
          "data": {
            "text/html": [
              "<div>\n",
              "<style scoped>\n",
              "    .dataframe tbody tr th:only-of-type {\n",
              "        vertical-align: middle;\n",
              "    }\n",
              "\n",
              "    .dataframe tbody tr th {\n",
              "        vertical-align: top;\n",
              "    }\n",
              "\n",
              "    .dataframe thead th {\n",
              "        text-align: right;\n",
              "    }\n",
              "</style>\n",
              "<table border=\"1\" class=\"dataframe\">\n",
              "  <thead>\n",
              "    <tr style=\"text-align: right;\">\n",
              "      <th></th>\n",
              "      <th>date</th>\n",
              "      <th>teamId</th>\n",
              "      <th>teamName</th>\n",
              "      <th>accountName</th>\n",
              "      <th>twitterHandle</th>\n",
              "      <th>numberOfFollowers</th>\n",
              "    </tr>\n",
              "  </thead>\n",
              "  <tbody>\n",
              "    <tr>\n",
              "      <th>0</th>\n",
              "      <td>2018-01-01</td>\n",
              "      <td>147</td>\n",
              "      <td>New York Yankees</td>\n",
              "      <td>New York Yankees</td>\n",
              "      <td>@Yankees</td>\n",
              "      <td>3130482</td>\n",
              "    </tr>\n",
              "    <tr>\n",
              "      <th>1</th>\n",
              "      <td>2018-01-01</td>\n",
              "      <td>112</td>\n",
              "      <td>Chicago Cubs</td>\n",
              "      <td>Chicago Cubs</td>\n",
              "      <td>@Cubs</td>\n",
              "      <td>2373710</td>\n",
              "    </tr>\n",
              "    <tr>\n",
              "      <th>2</th>\n",
              "      <td>2018-01-01</td>\n",
              "      <td>141</td>\n",
              "      <td>Toronto Blue Jays</td>\n",
              "      <td>Toronto Blue Jays</td>\n",
              "      <td>@BlueJays</td>\n",
              "      <td>2196352</td>\n",
              "    </tr>\n",
              "    <tr>\n",
              "      <th>3</th>\n",
              "      <td>2018-01-01</td>\n",
              "      <td>111</td>\n",
              "      <td>Boston Red Sox</td>\n",
              "      <td>Boston Red Sox</td>\n",
              "      <td>@RedSox</td>\n",
              "      <td>1950737</td>\n",
              "    </tr>\n",
              "    <tr>\n",
              "      <th>4</th>\n",
              "      <td>2018-01-01</td>\n",
              "      <td>119</td>\n",
              "      <td>Los Angeles Dodgers</td>\n",
              "      <td>Los Angeles Dodgers</td>\n",
              "      <td>@Dodgers</td>\n",
              "      <td>1949542</td>\n",
              "    </tr>\n",
              "  </tbody>\n",
              "</table>\n",
              "</div>"
            ],
            "text/plain": [
              "        date  teamId             teamName          accountName twitterHandle  \\\n",
              "0 2018-01-01     147     New York Yankees     New York Yankees      @Yankees   \n",
              "1 2018-01-01     112         Chicago Cubs         Chicago Cubs         @Cubs   \n",
              "2 2018-01-01     141    Toronto Blue Jays    Toronto Blue Jays     @BlueJays   \n",
              "3 2018-01-01     111       Boston Red Sox       Boston Red Sox       @RedSox   \n",
              "4 2018-01-01     119  Los Angeles Dodgers  Los Angeles Dodgers      @Dodgers   \n",
              "\n",
              "   numberOfFollowers  \n",
              "0            3130482  \n",
              "1            2373710  \n",
              "2            2196352  \n",
              "3            1950737  \n",
              "4            1949542  "
            ]
          },
          "execution_count": 70,
          "metadata": {},
          "output_type": "execute_result"
        }
      ],
      "source": [
        "df_ttTeam.head()"
      ]
    },
    {
      "cell_type": "code",
      "execution_count": 71,
      "metadata": {},
      "outputs": [
        {
          "name": "stdout",
          "output_type": "stream",
          "text": [
            "<class 'pandas.core.frame.DataFrame'>\n",
            "Int64Index: 1290 entries, 0 to 29\n",
            "Data columns (total 6 columns):\n",
            " #   Column             Non-Null Count  Dtype         \n",
            "---  ------             --------------  -----         \n",
            " 0   date               1290 non-null   datetime64[ns]\n",
            " 1   teamId             1290 non-null   int64         \n",
            " 2   teamName           1290 non-null   object        \n",
            " 3   accountName        1290 non-null   object        \n",
            " 4   twitterHandle      1290 non-null   object        \n",
            " 5   numberOfFollowers  1290 non-null   int64         \n",
            "dtypes: datetime64[ns](1), int64(2), object(3)\n",
            "memory usage: 70.5+ KB\n"
          ]
        }
      ],
      "source": [
        "df_ttTeam.info()"
      ]
    },
    {
      "cell_type": "code",
      "execution_count": 72,
      "metadata": {},
      "outputs": [
        {
          "name": "stdout",
          "output_type": "stream",
          "text": [
            "<class 'pandas.core.frame.DataFrame'>\n",
            "Int64Index: 1290 entries, 0 to 29\n",
            "Data columns (total 3 columns):\n",
            " #   Column       Non-Null Count  Dtype         \n",
            "---  ------       --------------  -----         \n",
            " 0   IdTeam       1290 non-null   int64         \n",
            " 1   DtTwitter    1290 non-null   datetime64[ns]\n",
            " 2   NuFollowers  1290 non-null   int64         \n",
            "dtypes: datetime64[ns](1), int64(2)\n",
            "memory usage: 40.3 KB\n"
          ]
        }
      ],
      "source": [
        "cols = {\n",
        "    'teamId': 'IdTeam',\n",
        "    'date': 'DtTwitter',\n",
        "    'numberOfFollowers': 'NuFollowers'\n",
        "}\n",
        "df_ttTeam = df_ttTeam[list(cols.keys())]\n",
        "df_ttTeam.columns = list(cols.values())\n",
        "df_ttTeam.info()"
      ]
    },
    {
      "cell_type": "code",
      "execution_count": 73,
      "metadata": {},
      "outputs": [],
      "source": [
        "pd.to_pickle(df_ttTeam, processed_data_path + 'teamTwitterFollowers.pkl')\n",
        "del df_ttTeam"
      ]
    },
    {
      "cell_type": "code",
      "execution_count": null,
      "metadata": {},
      "outputs": [],
      "source": []
    }
  ],
  "metadata": {
    "colab": {
      "provenance": []
    },
    "kernelspec": {
      "display_name": "Python 3",
      "language": "python",
      "name": "python3"
    },
    "language_info": {
      "codemirror_mode": {
        "name": "ipython",
        "version": 3
      },
      "file_extension": ".py",
      "mimetype": "text/x-python",
      "name": "python",
      "nbconvert_exporter": "python",
      "pygments_lexer": "ipython3",
      "version": "3.10.6"
    },
    "orig_nbformat": 4,
    "vscode": {
      "interpreter": {
        "hash": "916dbcbb3f70747c44a77c7bcd40155683ae19c65e1c03b4aa3499c5328201f1"
      }
    }
  },
  "nbformat": 4,
  "nbformat_minor": 0
}

{
  "cells": [
    {
      "cell_type": "markdown",
      "metadata": {
        "id": "QPHk08vLQQYI"
      },
      "source": [
        "# Data Preparation\n",
        "\n",
        "Notebook que irá conter o código utilizado para a preparação dos dados do projeto.\n",
        "\n",
        "os dados \"crus\" estão localizados em **/src/data/raw-data** e os dados tratados devem ser salvos em **/src/data/processed-data** "
      ]
    },
    {
      "cell_type": "markdown",
      "metadata": {
        "id": "xMsbLNTmSI0Z"
      },
      "source": [
        "## Initial Setup"
      ]
    },
    {
      "cell_type": "code",
      "execution_count": 1,
      "metadata": {
        "id": "QaqApYYISMmT"
      },
      "outputs": [],
      "source": [
        "import pandas as pd\n",
        "import numpy as np\n",
        "\n",
        "import pickle as pkl\n",
        "\n",
        "from joblib import Parallel, delayed"
      ]
    },
    {
      "cell_type": "code",
      "execution_count": 2,
      "metadata": {
        "id": "lH30P2cEQQYN"
      },
      "outputs": [],
      "source": [
        "# File paths for working locally\n",
        "raw_data_path = '../data/raw-data/'\n",
        "processed_data_path = '../data/processed-data/'"
      ]
    },
    {
      "cell_type": "code",
      "execution_count": 3,
      "metadata": {
        "colab": {
          "base_uri": "https://localhost:8080/"
        },
        "id": "PKSBphoiQwOW",
        "outputId": "37c502e2-9d66-441a-9b20-10ae9011d8db"
      },
      "outputs": [],
      "source": [
        "# # Uncomment this cell if running on Google Colab\n",
        "# from google.colab import drive\n",
        "# drive.mount('/content/drive/')\n",
        "# raw_data_path = '/content/drive/MyDrive/datasets/mlb-player-digital-engagement-forecasting/'"
      ]
    },
    {
      "attachments": {},
      "cell_type": "markdown",
      "metadata": {
        "id": "boMpsEe2RXRp"
      },
      "source": [
        "## Loading the auxiliary Datasets"
      ]
    },
    {
      "cell_type": "code",
      "execution_count": 4,
      "metadata": {
        "colab": {
          "base_uri": "https://localhost:8080/"
        },
        "id": "kVogCpTNRdUG",
        "outputId": "7e730b1e-1ad4-49cc-be84-1e8019547505"
      },
      "outputs": [
        {
          "data": {
            "text/plain": [
              "{'Awards': '../data/raw-data/awards.csv',\n",
              " 'Example': '../data/raw-data/example_test.csv',\n",
              " 'Players': '../data/raw-data/players.csv',\n",
              " 'Seasons': '../data/raw-data/seasons.csv',\n",
              " 'Teams': '../data/raw-data/teams.csv',\n",
              " 'Train': '../data/raw-data/train_updated.csv'}"
            ]
          },
          "execution_count": 4,
          "metadata": {},
          "output_type": "execute_result"
        }
      ],
      "source": [
        "dataset_names = {\n",
        "    'Awards': 'awards.csv', \n",
        "    'Example': 'example_test.csv', \n",
        "    'Players': 'players.csv',\n",
        "    'Seasons': 'seasons.csv', \n",
        "    'Teams': 'teams.csv', \n",
        "    'Train': 'train_updated.csv'\n",
        "}\n",
        "for key in dataset_names:\n",
        "  dataset_names[key] = raw_data_path + dataset_names[key]\n",
        "dataset_names"
      ]
    },
    {
      "cell_type": "markdown",
      "metadata": {
        "id": "kMGJu3hUOQLA"
      },
      "source": [
        "### Players"
      ]
    },
    {
      "cell_type": "code",
      "execution_count": 5,
      "metadata": {
        "colab": {
          "base_uri": "https://localhost:8080/",
          "height": 374
        },
        "id": "y0Dlhng8QQYP",
        "outputId": "b14b3e22-49d8-4d4f-d5db-c20769a94e96"
      },
      "outputs": [
        {
          "data": {
            "text/html": [
              "<div>\n",
              "<style scoped>\n",
              "    .dataframe tbody tr th:only-of-type {\n",
              "        vertical-align: middle;\n",
              "    }\n",
              "\n",
              "    .dataframe tbody tr th {\n",
              "        vertical-align: top;\n",
              "    }\n",
              "\n",
              "    .dataframe thead th {\n",
              "        text-align: right;\n",
              "    }\n",
              "</style>\n",
              "<table border=\"1\" class=\"dataframe\">\n",
              "  <thead>\n",
              "    <tr style=\"text-align: right;\">\n",
              "      <th></th>\n",
              "      <th>playerId</th>\n",
              "      <th>playerName</th>\n",
              "      <th>DOB</th>\n",
              "      <th>mlbDebutDate</th>\n",
              "      <th>birthCity</th>\n",
              "      <th>birthStateProvince</th>\n",
              "      <th>birthCountry</th>\n",
              "      <th>heightInches</th>\n",
              "      <th>weight</th>\n",
              "      <th>primaryPositionCode</th>\n",
              "      <th>primaryPositionName</th>\n",
              "      <th>playerForTestSetAndFuturePreds</th>\n",
              "    </tr>\n",
              "  </thead>\n",
              "  <tbody>\n",
              "    <tr>\n",
              "      <th>0</th>\n",
              "      <td>665482</td>\n",
              "      <td>Gilberto Celestino</td>\n",
              "      <td>1999-02-13</td>\n",
              "      <td>2021-06-02</td>\n",
              "      <td>Santo Domingo</td>\n",
              "      <td>NaN</td>\n",
              "      <td>Dominican Republic</td>\n",
              "      <td>72</td>\n",
              "      <td>170</td>\n",
              "      <td>8</td>\n",
              "      <td>Outfielder</td>\n",
              "      <td>False</td>\n",
              "    </tr>\n",
              "    <tr>\n",
              "      <th>1</th>\n",
              "      <td>593590</td>\n",
              "      <td>Webster Rivas</td>\n",
              "      <td>1990-08-08</td>\n",
              "      <td>2021-05-28</td>\n",
              "      <td>Nagua</td>\n",
              "      <td>NaN</td>\n",
              "      <td>Dominican Republic</td>\n",
              "      <td>73</td>\n",
              "      <td>219</td>\n",
              "      <td>3</td>\n",
              "      <td>First Base</td>\n",
              "      <td>True</td>\n",
              "    </tr>\n",
              "    <tr>\n",
              "      <th>2</th>\n",
              "      <td>661269</td>\n",
              "      <td>Vladimir Gutierrez</td>\n",
              "      <td>1995-09-18</td>\n",
              "      <td>2021-05-28</td>\n",
              "      <td>Havana</td>\n",
              "      <td>NaN</td>\n",
              "      <td>Cuba</td>\n",
              "      <td>73</td>\n",
              "      <td>190</td>\n",
              "      <td>1</td>\n",
              "      <td>Pitcher</td>\n",
              "      <td>True</td>\n",
              "    </tr>\n",
              "    <tr>\n",
              "      <th>3</th>\n",
              "      <td>669212</td>\n",
              "      <td>Eli Morgan</td>\n",
              "      <td>1996-05-13</td>\n",
              "      <td>2021-05-28</td>\n",
              "      <td>Rancho Palos Verdes</td>\n",
              "      <td>CA</td>\n",
              "      <td>USA</td>\n",
              "      <td>70</td>\n",
              "      <td>190</td>\n",
              "      <td>1</td>\n",
              "      <td>Pitcher</td>\n",
              "      <td>True</td>\n",
              "    </tr>\n",
              "    <tr>\n",
              "      <th>4</th>\n",
              "      <td>666201</td>\n",
              "      <td>Alek Manoah</td>\n",
              "      <td>1998-01-09</td>\n",
              "      <td>2021-05-27</td>\n",
              "      <td>Homestead</td>\n",
              "      <td>FL</td>\n",
              "      <td>USA</td>\n",
              "      <td>78</td>\n",
              "      <td>260</td>\n",
              "      <td>1</td>\n",
              "      <td>Pitcher</td>\n",
              "      <td>True</td>\n",
              "    </tr>\n",
              "  </tbody>\n",
              "</table>\n",
              "</div>"
            ],
            "text/plain": [
              "   playerId          playerName         DOB mlbDebutDate            birthCity  \\\n",
              "0    665482  Gilberto Celestino  1999-02-13   2021-06-02        Santo Domingo   \n",
              "1    593590       Webster Rivas  1990-08-08   2021-05-28                Nagua   \n",
              "2    661269  Vladimir Gutierrez  1995-09-18   2021-05-28               Havana   \n",
              "3    669212          Eli Morgan  1996-05-13   2021-05-28  Rancho Palos Verdes   \n",
              "4    666201         Alek Manoah  1998-01-09   2021-05-27            Homestead   \n",
              "\n",
              "  birthStateProvince        birthCountry  heightInches  weight  \\\n",
              "0                NaN  Dominican Republic            72     170   \n",
              "1                NaN  Dominican Republic            73     219   \n",
              "2                NaN                Cuba            73     190   \n",
              "3                 CA                 USA            70     190   \n",
              "4                 FL                 USA            78     260   \n",
              "\n",
              "  primaryPositionCode primaryPositionName playerForTestSetAndFuturePreds  \n",
              "0                   8          Outfielder                          False  \n",
              "1                   3          First Base                           True  \n",
              "2                   1             Pitcher                           True  \n",
              "3                   1             Pitcher                           True  \n",
              "4                   1             Pitcher                           True  "
            ]
          },
          "execution_count": 5,
          "metadata": {},
          "output_type": "execute_result"
        }
      ],
      "source": [
        "df_players = pd.read_csv(dataset_names['Players'])\n",
        "df_players.head()"
      ]
    },
    {
      "cell_type": "code",
      "execution_count": 6,
      "metadata": {
        "colab": {
          "base_uri": "https://localhost:8080/"
        },
        "id": "d3if6t7IK6v3",
        "outputId": "d2551612-b352-4fbe-8afc-2ea818eab6e0"
      },
      "outputs": [
        {
          "name": "stdout",
          "output_type": "stream",
          "text": [
            "<class 'pandas.core.frame.DataFrame'>\n",
            "RangeIndex: 2061 entries, 0 to 2060\n",
            "Data columns (total 12 columns):\n",
            " #   Column                          Non-Null Count  Dtype \n",
            "---  ------                          --------------  ----- \n",
            " 0   playerId                        2061 non-null   int64 \n",
            " 1   playerName                      2061 non-null   object\n",
            " 2   DOB                             2061 non-null   object\n",
            " 3   mlbDebutDate                    2025 non-null   object\n",
            " 4   birthCity                       2061 non-null   object\n",
            " 5   birthStateProvince              1516 non-null   object\n",
            " 6   birthCountry                    2061 non-null   object\n",
            " 7   heightInches                    2061 non-null   int64 \n",
            " 8   weight                          2061 non-null   int64 \n",
            " 9   primaryPositionCode             2061 non-null   object\n",
            " 10  primaryPositionName             2061 non-null   object\n",
            " 11  playerForTestSetAndFuturePreds  2057 non-null   object\n",
            "dtypes: int64(3), object(9)\n",
            "memory usage: 193.3+ KB\n"
          ]
        }
      ],
      "source": [
        "df_players.info()"
      ]
    },
    {
      "cell_type": "markdown",
      "metadata": {
        "id": "XIh_mOU7WdCi"
      },
      "source": [
        "Analisando o dataset, foram removidas a coluna `playerName`, por ela já estar representada pela coluna `playerId` e a coluna `birthStateProvince` pela quantidade de valores nulos que a mesma possui."
      ]
    },
    {
      "cell_type": "code",
      "execution_count": 7,
      "metadata": {
        "colab": {
          "base_uri": "https://localhost:8080/"
        },
        "id": "l7p1c58VOF98",
        "outputId": "55e84a67-00f9-4a7a-9517-e188e6d6d018"
      },
      "outputs": [
        {
          "name": "stdout",
          "output_type": "stream",
          "text": [
            "<class 'pandas.core.frame.DataFrame'>\n",
            "RangeIndex: 2061 entries, 0 to 2060\n",
            "Data columns (total 10 columns):\n",
            " #   Column             Non-Null Count  Dtype \n",
            "---  ------             --------------  ----- \n",
            " 0   IdPlayer           2061 non-null   int64 \n",
            " 1   DtBirth            2061 non-null   object\n",
            " 2   DtMlbDebut         2025 non-null   object\n",
            " 3   NmCity             2061 non-null   object\n",
            " 4   NmCountry          2061 non-null   object\n",
            " 5   NuHeight           2061 non-null   int64 \n",
            " 6   NuWeight           2061 non-null   int64 \n",
            " 7   CdPrimaryPosition  2061 non-null   object\n",
            " 8   NmPrimaryPosition  2061 non-null   object\n",
            " 9   FlgForTestAndPred  2057 non-null   object\n",
            "dtypes: int64(3), object(7)\n",
            "memory usage: 161.1+ KB\n"
          ]
        }
      ],
      "source": [
        "# Select the columns that will be used on the df and renames them according to the pattern\n",
        "cols = {\n",
        "    'playerId': 'IdPlayer',\n",
        "    'DOB': 'DtBirth',\n",
        "    'mlbDebutDate': 'DtMlbDebut',\n",
        "    'birthCity': 'NmCity',\n",
        "    #'birthStateProvince': 'NmState',\n",
        "    'birthCountry': 'NmCountry',\n",
        "    'heightInches': 'NuHeight',\n",
        "    'weight': 'NuWeight',\n",
        "    'primaryPositionCode': 'CdPrimaryPosition',\n",
        "    'primaryPositionName': 'NmPrimaryPosition',\n",
        "    'playerForTestSetAndFuturePreds': 'FlgForTestAndPred'\n",
        "}\n",
        "df_players = df_players[list(cols)]\n",
        "df_players.columns = list(cols.values())\n",
        "df_players.info()"
      ]
    },
    {
      "cell_type": "code",
      "execution_count": 8,
      "metadata": {
        "id": "X_2Mp-0ZVsnS"
      },
      "outputs": [],
      "source": [
        "# pd.to_pickle(df_players, processed_data_path + 'players.pkl')\n",
        "del df_players"
      ]
    },
    {
      "cell_type": "markdown",
      "metadata": {
        "id": "z4-WvYHlYXeb"
      },
      "source": [
        "### Teams"
      ]
    },
    {
      "cell_type": "code",
      "execution_count": 9,
      "metadata": {
        "colab": {
          "base_uri": "https://localhost:8080/",
          "height": 392
        },
        "id": "FfWW8HIBYWsp",
        "outputId": "c47c3896-0d66-49dc-e94b-1fd9a0827e42"
      },
      "outputs": [
        {
          "data": {
            "text/html": [
              "<div>\n",
              "<style scoped>\n",
              "    .dataframe tbody tr th:only-of-type {\n",
              "        vertical-align: middle;\n",
              "    }\n",
              "\n",
              "    .dataframe tbody tr th {\n",
              "        vertical-align: top;\n",
              "    }\n",
              "\n",
              "    .dataframe thead th {\n",
              "        text-align: right;\n",
              "    }\n",
              "</style>\n",
              "<table border=\"1\" class=\"dataframe\">\n",
              "  <thead>\n",
              "    <tr style=\"text-align: right;\">\n",
              "      <th></th>\n",
              "      <th>id</th>\n",
              "      <th>name</th>\n",
              "      <th>teamName</th>\n",
              "      <th>teamCode</th>\n",
              "      <th>shortName</th>\n",
              "      <th>abbreviation</th>\n",
              "      <th>locationName</th>\n",
              "      <th>leagueId</th>\n",
              "      <th>leagueName</th>\n",
              "      <th>divisionId</th>\n",
              "      <th>divisionName</th>\n",
              "      <th>venueId</th>\n",
              "      <th>venueName</th>\n",
              "    </tr>\n",
              "  </thead>\n",
              "  <tbody>\n",
              "    <tr>\n",
              "      <th>0</th>\n",
              "      <td>108</td>\n",
              "      <td>Los Angeles Angels</td>\n",
              "      <td>Angels</td>\n",
              "      <td>ana</td>\n",
              "      <td>LA Angels</td>\n",
              "      <td>LAA</td>\n",
              "      <td>Anaheim</td>\n",
              "      <td>103</td>\n",
              "      <td>American League</td>\n",
              "      <td>200</td>\n",
              "      <td>American League West</td>\n",
              "      <td>1</td>\n",
              "      <td>Angel Stadium</td>\n",
              "    </tr>\n",
              "    <tr>\n",
              "      <th>1</th>\n",
              "      <td>109</td>\n",
              "      <td>Arizona Diamondbacks</td>\n",
              "      <td>D-backs</td>\n",
              "      <td>ari</td>\n",
              "      <td>Arizona</td>\n",
              "      <td>ARI</td>\n",
              "      <td>Phoenix</td>\n",
              "      <td>104</td>\n",
              "      <td>National League</td>\n",
              "      <td>203</td>\n",
              "      <td>National League West</td>\n",
              "      <td>15</td>\n",
              "      <td>Chase Field</td>\n",
              "    </tr>\n",
              "    <tr>\n",
              "      <th>2</th>\n",
              "      <td>110</td>\n",
              "      <td>Baltimore Orioles</td>\n",
              "      <td>Orioles</td>\n",
              "      <td>bal</td>\n",
              "      <td>Baltimore</td>\n",
              "      <td>BAL</td>\n",
              "      <td>Baltimore</td>\n",
              "      <td>103</td>\n",
              "      <td>American League</td>\n",
              "      <td>201</td>\n",
              "      <td>American League East</td>\n",
              "      <td>2</td>\n",
              "      <td>Oriole Park at Camden Yards</td>\n",
              "    </tr>\n",
              "    <tr>\n",
              "      <th>3</th>\n",
              "      <td>111</td>\n",
              "      <td>Boston Red Sox</td>\n",
              "      <td>Red Sox</td>\n",
              "      <td>bos</td>\n",
              "      <td>Boston</td>\n",
              "      <td>BOS</td>\n",
              "      <td>Boston</td>\n",
              "      <td>103</td>\n",
              "      <td>American League</td>\n",
              "      <td>201</td>\n",
              "      <td>American League East</td>\n",
              "      <td>3</td>\n",
              "      <td>Fenway Park</td>\n",
              "    </tr>\n",
              "    <tr>\n",
              "      <th>4</th>\n",
              "      <td>112</td>\n",
              "      <td>Chicago Cubs</td>\n",
              "      <td>Cubs</td>\n",
              "      <td>chn</td>\n",
              "      <td>Chi Cubs</td>\n",
              "      <td>CHC</td>\n",
              "      <td>Chicago</td>\n",
              "      <td>104</td>\n",
              "      <td>National League</td>\n",
              "      <td>205</td>\n",
              "      <td>National League Central</td>\n",
              "      <td>17</td>\n",
              "      <td>Wrigley Field</td>\n",
              "    </tr>\n",
              "  </tbody>\n",
              "</table>\n",
              "</div>"
            ],
            "text/plain": [
              "    id                  name teamName teamCode  shortName abbreviation  \\\n",
              "0  108    Los Angeles Angels   Angels      ana  LA Angels          LAA   \n",
              "1  109  Arizona Diamondbacks  D-backs      ari    Arizona          ARI   \n",
              "2  110     Baltimore Orioles  Orioles      bal  Baltimore          BAL   \n",
              "3  111        Boston Red Sox  Red Sox      bos     Boston          BOS   \n",
              "4  112          Chicago Cubs     Cubs      chn   Chi Cubs          CHC   \n",
              "\n",
              "  locationName  leagueId       leagueName  divisionId  \\\n",
              "0      Anaheim       103  American League         200   \n",
              "1      Phoenix       104  National League         203   \n",
              "2    Baltimore       103  American League         201   \n",
              "3       Boston       103  American League         201   \n",
              "4      Chicago       104  National League         205   \n",
              "\n",
              "              divisionName  venueId                    venueName  \n",
              "0     American League West        1                Angel Stadium  \n",
              "1     National League West       15                  Chase Field  \n",
              "2     American League East        2  Oriole Park at Camden Yards  \n",
              "3     American League East        3                  Fenway Park  \n",
              "4  National League Central       17                Wrigley Field  "
            ]
          },
          "execution_count": 9,
          "metadata": {},
          "output_type": "execute_result"
        }
      ],
      "source": [
        "df_teams = pd.read_csv(dataset_names['Teams'])\n",
        "df_teams.head()"
      ]
    },
    {
      "cell_type": "code",
      "execution_count": 10,
      "metadata": {
        "colab": {
          "base_uri": "https://localhost:8080/"
        },
        "id": "TeGqbT3eZSZY",
        "outputId": "d0b210df-b26e-4451-8fe2-0e7512c27cbc"
      },
      "outputs": [
        {
          "name": "stdout",
          "output_type": "stream",
          "text": [
            "<class 'pandas.core.frame.DataFrame'>\n",
            "RangeIndex: 30 entries, 0 to 29\n",
            "Data columns (total 13 columns):\n",
            " #   Column        Non-Null Count  Dtype \n",
            "---  ------        --------------  ----- \n",
            " 0   id            30 non-null     int64 \n",
            " 1   name          30 non-null     object\n",
            " 2   teamName      30 non-null     object\n",
            " 3   teamCode      30 non-null     object\n",
            " 4   shortName     30 non-null     object\n",
            " 5   abbreviation  30 non-null     object\n",
            " 6   locationName  30 non-null     object\n",
            " 7   leagueId      30 non-null     int64 \n",
            " 8   leagueName    30 non-null     object\n",
            " 9   divisionId    30 non-null     int64 \n",
            " 10  divisionName  30 non-null     object\n",
            " 11  venueId       30 non-null     int64 \n",
            " 12  venueName     30 non-null     object\n",
            "dtypes: int64(4), object(9)\n",
            "memory usage: 3.2+ KB\n"
          ]
        }
      ],
      "source": [
        "df_teams.info()"
      ]
    },
    {
      "cell_type": "code",
      "execution_count": 11,
      "metadata": {
        "colab": {
          "base_uri": "https://localhost:8080/"
        },
        "id": "A_hfCfuKYy7K",
        "outputId": "b6dc4c35-ab38-441f-ff7e-ccd3da4c8022"
      },
      "outputs": [
        {
          "name": "stdout",
          "output_type": "stream",
          "text": [
            "<class 'pandas.core.frame.DataFrame'>\n",
            "RangeIndex: 30 entries, 0 to 29\n",
            "Data columns (total 5 columns):\n",
            " #   Column      Non-Null Count  Dtype \n",
            "---  ------      --------------  ----- \n",
            " 0   IdTeam      30 non-null     int64 \n",
            " 1   NmLocation  30 non-null     object\n",
            " 2   IdLeague    30 non-null     int64 \n",
            " 3   IdDivision  30 non-null     int64 \n",
            " 4   IdVenue     30 non-null     int64 \n",
            "dtypes: int64(4), object(1)\n",
            "memory usage: 1.3+ KB\n"
          ]
        }
      ],
      "source": [
        "cols = {\n",
        "     'id': 'IdTeam'\n",
        "    ,'locationName': 'NmLocation'\n",
        "    ,'leagueId': 'IdLeague'\n",
        "    ,'divisionId': 'IdDivision'\n",
        "    ,'venueId': 'IdVenue'\n",
        "}\n",
        "df_teams = df_teams[list(cols.keys())]\n",
        "df_teams.columns = list(cols.values())\n",
        "df_teams.info()"
      ]
    },
    {
      "cell_type": "code",
      "execution_count": 12,
      "metadata": {
        "id": "f_hyAcX1aLuD"
      },
      "outputs": [],
      "source": [
        "# pd.to_pickle(df_teams, processed_data_path + 'teams.pkl')\n",
        "del df_teams"
      ]
    },
    {
      "cell_type": "markdown",
      "metadata": {
        "id": "vsLwU3E6f6CQ"
      },
      "source": [
        "### Awards"
      ]
    },
    {
      "cell_type": "code",
      "execution_count": 13,
      "metadata": {
        "id": "TglrCH9Uf9ys"
      },
      "outputs": [
        {
          "data": {
            "text/html": [
              "<div>\n",
              "<style scoped>\n",
              "    .dataframe tbody tr th:only-of-type {\n",
              "        vertical-align: middle;\n",
              "    }\n",
              "\n",
              "    .dataframe tbody tr th {\n",
              "        vertical-align: top;\n",
              "    }\n",
              "\n",
              "    .dataframe thead th {\n",
              "        text-align: right;\n",
              "    }\n",
              "</style>\n",
              "<table border=\"1\" class=\"dataframe\">\n",
              "  <thead>\n",
              "    <tr style=\"text-align: right;\">\n",
              "      <th></th>\n",
              "      <th>awardDate</th>\n",
              "      <th>awardSeason</th>\n",
              "      <th>awardId</th>\n",
              "      <th>awardName</th>\n",
              "      <th>playerId</th>\n",
              "      <th>playerName</th>\n",
              "      <th>awardPlayerTeamId</th>\n",
              "    </tr>\n",
              "  </thead>\n",
              "  <tbody>\n",
              "    <tr>\n",
              "      <th>0</th>\n",
              "      <td>2017-12-21</td>\n",
              "      <td>2017</td>\n",
              "      <td>WARRENSPAHN</td>\n",
              "      <td>Warren Spahn Award</td>\n",
              "      <td>477132</td>\n",
              "      <td>Clayton Kershaw</td>\n",
              "      <td>119.0</td>\n",
              "    </tr>\n",
              "    <tr>\n",
              "      <th>1</th>\n",
              "      <td>2017-12-20</td>\n",
              "      <td>2017</td>\n",
              "      <td>MILBORGAS</td>\n",
              "      <td>MiLB.com Organization All-Star</td>\n",
              "      <td>474319</td>\n",
              "      <td>Brandon Snyder</td>\n",
              "      <td>120.0</td>\n",
              "    </tr>\n",
              "    <tr>\n",
              "      <th>2</th>\n",
              "      <td>2017-12-20</td>\n",
              "      <td>2017</td>\n",
              "      <td>MILBORGAS</td>\n",
              "      <td>MiLB.com Organization All-Star</td>\n",
              "      <td>592530</td>\n",
              "      <td>Jose Marmolejos</td>\n",
              "      <td>120.0</td>\n",
              "    </tr>\n",
              "    <tr>\n",
              "      <th>3</th>\n",
              "      <td>2017-12-20</td>\n",
              "      <td>2017</td>\n",
              "      <td>MILBORGAS</td>\n",
              "      <td>MiLB.com Organization All-Star</td>\n",
              "      <td>593833</td>\n",
              "      <td>Wander Suero</td>\n",
              "      <td>120.0</td>\n",
              "    </tr>\n",
              "    <tr>\n",
              "      <th>4</th>\n",
              "      <td>2017-12-20</td>\n",
              "      <td>2017</td>\n",
              "      <td>MILBORGAS</td>\n",
              "      <td>MiLB.com Organization All-Star</td>\n",
              "      <td>600466</td>\n",
              "      <td>Raudy Read</td>\n",
              "      <td>120.0</td>\n",
              "    </tr>\n",
              "  </tbody>\n",
              "</table>\n",
              "</div>"
            ],
            "text/plain": [
              "    awardDate  awardSeason      awardId                       awardName  \\\n",
              "0  2017-12-21         2017  WARRENSPAHN              Warren Spahn Award   \n",
              "1  2017-12-20         2017    MILBORGAS  MiLB.com Organization All-Star   \n",
              "2  2017-12-20         2017    MILBORGAS  MiLB.com Organization All-Star   \n",
              "3  2017-12-20         2017    MILBORGAS  MiLB.com Organization All-Star   \n",
              "4  2017-12-20         2017    MILBORGAS  MiLB.com Organization All-Star   \n",
              "\n",
              "   playerId       playerName  awardPlayerTeamId  \n",
              "0    477132  Clayton Kershaw              119.0  \n",
              "1    474319   Brandon Snyder              120.0  \n",
              "2    592530  Jose Marmolejos              120.0  \n",
              "3    593833     Wander Suero              120.0  \n",
              "4    600466       Raudy Read              120.0  "
            ]
          },
          "execution_count": 13,
          "metadata": {},
          "output_type": "execute_result"
        }
      ],
      "source": [
        "df_awards = pd.read_csv(dataset_names['Awards'])\n",
        "df_awards.head()"
      ]
    },
    {
      "cell_type": "code",
      "execution_count": 14,
      "metadata": {},
      "outputs": [
        {
          "name": "stdout",
          "output_type": "stream",
          "text": [
            "<class 'pandas.core.frame.DataFrame'>\n",
            "RangeIndex: 11256 entries, 0 to 11255\n",
            "Data columns (total 7 columns):\n",
            " #   Column             Non-Null Count  Dtype  \n",
            "---  ------             --------------  -----  \n",
            " 0   awardDate          11256 non-null  object \n",
            " 1   awardSeason        11256 non-null  int64  \n",
            " 2   awardId            11256 non-null  object \n",
            " 3   awardName          11256 non-null  object \n",
            " 4   playerId           11256 non-null  int64  \n",
            " 5   playerName         11256 non-null  object \n",
            " 6   awardPlayerTeamId  11243 non-null  float64\n",
            "dtypes: float64(1), int64(2), object(4)\n",
            "memory usage: 615.7+ KB\n"
          ]
        }
      ],
      "source": [
        "df_awards.info()"
      ]
    },
    {
      "cell_type": "code",
      "execution_count": 15,
      "metadata": {
        "id": "GgZB-j3zgwj8"
      },
      "outputs": [
        {
          "name": "stdout",
          "output_type": "stream",
          "text": [
            "<class 'pandas.core.frame.DataFrame'>\n",
            "RangeIndex: 11256 entries, 0 to 11255\n",
            "Data columns (total 5 columns):\n",
            " #   Column         Non-Null Count  Dtype  \n",
            "---  ------         --------------  -----  \n",
            " 0   IdAward        11256 non-null  object \n",
            " 1   DtAward        11256 non-null  object \n",
            " 2   DtAwardSeason  11256 non-null  int64  \n",
            " 3   IdPlayer       11256 non-null  int64  \n",
            " 4   IdTeam         11243 non-null  float64\n",
            "dtypes: float64(1), int64(2), object(2)\n",
            "memory usage: 439.8+ KB\n"
          ]
        }
      ],
      "source": [
        "cols = {\n",
        "    'awardId': 'IdAward',\n",
        "    'awardDate': 'DtAward',\n",
        "    'awardSeason': 'DtAwardSeason',\n",
        "    'playerId': 'IdPlayer',\n",
        "    'awardPlayerTeamId': 'IdTeam'\n",
        "}\n",
        "df_awards = df_awards[list(cols)]\n",
        "df_awards.columns = list(cols.values())\n",
        "df_awards.info()"
      ]
    },
    {
      "cell_type": "code",
      "execution_count": 16,
      "metadata": {},
      "outputs": [],
      "source": [
        "# pd.to_pickle(df_awards, processed_data_path + 'awards.pkl')\n",
        "del df_awards"
      ]
    },
    {
      "attachments": {},
      "cell_type": "markdown",
      "metadata": {},
      "source": [
        "### Seasons"
      ]
    },
    {
      "cell_type": "code",
      "execution_count": 17,
      "metadata": {},
      "outputs": [
        {
          "data": {
            "text/html": [
              "<div>\n",
              "<style scoped>\n",
              "    .dataframe tbody tr th:only-of-type {\n",
              "        vertical-align: middle;\n",
              "    }\n",
              "\n",
              "    .dataframe tbody tr th {\n",
              "        vertical-align: top;\n",
              "    }\n",
              "\n",
              "    .dataframe thead th {\n",
              "        text-align: right;\n",
              "    }\n",
              "</style>\n",
              "<table border=\"1\" class=\"dataframe\">\n",
              "  <thead>\n",
              "    <tr style=\"text-align: right;\">\n",
              "      <th></th>\n",
              "      <th>seasonId</th>\n",
              "      <th>seasonStartDate</th>\n",
              "      <th>seasonEndDate</th>\n",
              "      <th>preSeasonStartDate</th>\n",
              "      <th>preSeasonEndDate</th>\n",
              "      <th>regularSeasonStartDate</th>\n",
              "      <th>regularSeasonEndDate</th>\n",
              "      <th>lastDate1stHalf</th>\n",
              "      <th>allStarDate</th>\n",
              "      <th>firstDate2ndHalf</th>\n",
              "      <th>postSeasonStartDate</th>\n",
              "      <th>postSeasonEndDate</th>\n",
              "    </tr>\n",
              "  </thead>\n",
              "  <tbody>\n",
              "    <tr>\n",
              "      <th>0</th>\n",
              "      <td>2017</td>\n",
              "      <td>2017-04-02</td>\n",
              "      <td>2017-11-01</td>\n",
              "      <td>2017-02-22</td>\n",
              "      <td>2017-04-01</td>\n",
              "      <td>2017-04-02</td>\n",
              "      <td>2017-10-01</td>\n",
              "      <td>2017-07-09</td>\n",
              "      <td>2017-07-11</td>\n",
              "      <td>2017-07-14</td>\n",
              "      <td>2017-10-03</td>\n",
              "      <td>2017-11-01</td>\n",
              "    </tr>\n",
              "    <tr>\n",
              "      <th>1</th>\n",
              "      <td>2018</td>\n",
              "      <td>2018-03-29</td>\n",
              "      <td>2018-10-28</td>\n",
              "      <td>2018-02-21</td>\n",
              "      <td>2018-03-27</td>\n",
              "      <td>2018-03-29</td>\n",
              "      <td>2018-10-01</td>\n",
              "      <td>2018-07-15</td>\n",
              "      <td>2018-07-17</td>\n",
              "      <td>2018-07-19</td>\n",
              "      <td>2018-10-02</td>\n",
              "      <td>2018-10-28</td>\n",
              "    </tr>\n",
              "    <tr>\n",
              "      <th>2</th>\n",
              "      <td>2019</td>\n",
              "      <td>2019-03-20</td>\n",
              "      <td>2019-10-30</td>\n",
              "      <td>2019-02-21</td>\n",
              "      <td>2019-03-26</td>\n",
              "      <td>2019-03-20</td>\n",
              "      <td>2019-09-29</td>\n",
              "      <td>2019-07-07</td>\n",
              "      <td>2019-07-09</td>\n",
              "      <td>2019-07-11</td>\n",
              "      <td>2019-10-01</td>\n",
              "      <td>2019-10-30</td>\n",
              "    </tr>\n",
              "    <tr>\n",
              "      <th>3</th>\n",
              "      <td>2020</td>\n",
              "      <td>2020-07-23</td>\n",
              "      <td>2020-10-28</td>\n",
              "      <td>2020-02-21</td>\n",
              "      <td>2020-07-22</td>\n",
              "      <td>2020-07-23</td>\n",
              "      <td>2020-09-27</td>\n",
              "      <td>2020-08-25</td>\n",
              "      <td>NaN</td>\n",
              "      <td>2020-08-26</td>\n",
              "      <td>2020-09-29</td>\n",
              "      <td>2020-10-28</td>\n",
              "    </tr>\n",
              "    <tr>\n",
              "      <th>4</th>\n",
              "      <td>2021</td>\n",
              "      <td>2021-02-28</td>\n",
              "      <td>2021-10-31</td>\n",
              "      <td>2021-02-28</td>\n",
              "      <td>2021-03-30</td>\n",
              "      <td>2021-04-01</td>\n",
              "      <td>2021-10-03</td>\n",
              "      <td>2021-07-11</td>\n",
              "      <td>2021-07-13</td>\n",
              "      <td>2021-07-15</td>\n",
              "      <td>2021-10-04</td>\n",
              "      <td>2021-10-31</td>\n",
              "    </tr>\n",
              "  </tbody>\n",
              "</table>\n",
              "</div>"
            ],
            "text/plain": [
              "   seasonId seasonStartDate seasonEndDate preSeasonStartDate preSeasonEndDate  \\\n",
              "0      2017      2017-04-02    2017-11-01         2017-02-22       2017-04-01   \n",
              "1      2018      2018-03-29    2018-10-28         2018-02-21       2018-03-27   \n",
              "2      2019      2019-03-20    2019-10-30         2019-02-21       2019-03-26   \n",
              "3      2020      2020-07-23    2020-10-28         2020-02-21       2020-07-22   \n",
              "4      2021      2021-02-28    2021-10-31         2021-02-28       2021-03-30   \n",
              "\n",
              "  regularSeasonStartDate regularSeasonEndDate lastDate1stHalf allStarDate  \\\n",
              "0             2017-04-02           2017-10-01      2017-07-09  2017-07-11   \n",
              "1             2018-03-29           2018-10-01      2018-07-15  2018-07-17   \n",
              "2             2019-03-20           2019-09-29      2019-07-07  2019-07-09   \n",
              "3             2020-07-23           2020-09-27      2020-08-25         NaN   \n",
              "4             2021-04-01           2021-10-03      2021-07-11  2021-07-13   \n",
              "\n",
              "  firstDate2ndHalf postSeasonStartDate postSeasonEndDate  \n",
              "0       2017-07-14          2017-10-03        2017-11-01  \n",
              "1       2018-07-19          2018-10-02        2018-10-28  \n",
              "2       2019-07-11          2019-10-01        2019-10-30  \n",
              "3       2020-08-26          2020-09-29        2020-10-28  \n",
              "4       2021-07-15          2021-10-04        2021-10-31  "
            ]
          },
          "execution_count": 17,
          "metadata": {},
          "output_type": "execute_result"
        }
      ],
      "source": [
        "df_seasons = pd.read_csv(dataset_names['Seasons'])\n",
        "df_seasons.head()"
      ]
    },
    {
      "cell_type": "code",
      "execution_count": 18,
      "metadata": {},
      "outputs": [
        {
          "name": "stdout",
          "output_type": "stream",
          "text": [
            "<class 'pandas.core.frame.DataFrame'>\n",
            "RangeIndex: 5 entries, 0 to 4\n",
            "Data columns (total 12 columns):\n",
            " #   Column                  Non-Null Count  Dtype \n",
            "---  ------                  --------------  ----- \n",
            " 0   seasonId                5 non-null      int64 \n",
            " 1   seasonStartDate         5 non-null      object\n",
            " 2   seasonEndDate           5 non-null      object\n",
            " 3   preSeasonStartDate      5 non-null      object\n",
            " 4   preSeasonEndDate        5 non-null      object\n",
            " 5   regularSeasonStartDate  5 non-null      object\n",
            " 6   regularSeasonEndDate    5 non-null      object\n",
            " 7   lastDate1stHalf         5 non-null      object\n",
            " 8   allStarDate             4 non-null      object\n",
            " 9   firstDate2ndHalf        5 non-null      object\n",
            " 10  postSeasonStartDate     5 non-null      object\n",
            " 11  postSeasonEndDate       5 non-null      object\n",
            "dtypes: int64(1), object(11)\n",
            "memory usage: 608.0+ bytes\n"
          ]
        }
      ],
      "source": [
        "df_seasons.info()"
      ]
    },
    {
      "attachments": {},
      "cell_type": "markdown",
      "metadata": {},
      "source": [
        "optamos por não utilizar o dataframe de Seasons, já que ele apenas adicionaria complexidade ao modelo e como se tratam de apenas datas, provavelmente a contribuição das features que ele adiciona não seriam relevantes já que são datas de início e fim de eventos pré definidos na temporada"
      ]
    },
    {
      "cell_type": "code",
      "execution_count": 19,
      "metadata": {},
      "outputs": [],
      "source": [
        "del df_seasons"
      ]
    },
    {
      "attachments": {},
      "cell_type": "markdown",
      "metadata": {},
      "source": [
        "## Loading the Train dataset"
      ]
    },
    {
      "cell_type": "code",
      "execution_count": 20,
      "metadata": {},
      "outputs": [],
      "source": [
        "# %%time\n",
        "# df_train = pd.read_csv(dataset_names['Train'])"
      ]
    },
    {
      "cell_type": "code",
      "execution_count": 22,
      "metadata": {},
      "outputs": [
        {
          "name": "stdout",
          "output_type": "stream",
          "text": [
            "CPU times: user 1.46 s, sys: 3.86 s, total: 5.32 s\n",
            "Wall time: 9.26 s\n"
          ]
        }
      ],
      "source": [
        "%%time\n",
        "df_train = pd.read_pickle(raw_data_path + 'train.pkl')"
      ]
    },
    {
      "attachments": {},
      "cell_type": "markdown",
      "metadata": {},
      "source": [
        "### Dataset info"
      ]
    },
    {
      "cell_type": "code",
      "execution_count": 23,
      "metadata": {},
      "outputs": [
        {
          "data": {
            "text/html": [
              "<div>\n",
              "<style scoped>\n",
              "    .dataframe tbody tr th:only-of-type {\n",
              "        vertical-align: middle;\n",
              "    }\n",
              "\n",
              "    .dataframe tbody tr th {\n",
              "        vertical-align: top;\n",
              "    }\n",
              "\n",
              "    .dataframe thead th {\n",
              "        text-align: right;\n",
              "    }\n",
              "</style>\n",
              "<table border=\"1\" class=\"dataframe\">\n",
              "  <thead>\n",
              "    <tr style=\"text-align: right;\">\n",
              "      <th></th>\n",
              "      <th>date</th>\n",
              "      <th>nextDayPlayerEngagement</th>\n",
              "      <th>games</th>\n",
              "      <th>rosters</th>\n",
              "      <th>playerBoxScores</th>\n",
              "      <th>teamBoxScores</th>\n",
              "      <th>transactions</th>\n",
              "      <th>standings</th>\n",
              "      <th>awards</th>\n",
              "      <th>events</th>\n",
              "      <th>playerTwitterFollowers</th>\n",
              "      <th>teamTwitterFollowers</th>\n",
              "    </tr>\n",
              "  </thead>\n",
              "  <tbody>\n",
              "    <tr>\n",
              "      <th>0</th>\n",
              "      <td>20180101</td>\n",
              "      <td>[{\"engagementMetricsDate\":\"2018-01-02\",\"player...</td>\n",
              "      <td>NaN</td>\n",
              "      <td>[{\"playerId\":400121,\"gameDate\":\"2018-01-01\",\"t...</td>\n",
              "      <td>NaN</td>\n",
              "      <td>NaN</td>\n",
              "      <td>[{\"transactionId\":340732,\"playerId\":547348,\"pl...</td>\n",
              "      <td>NaN</td>\n",
              "      <td>NaN</td>\n",
              "      <td>NaN</td>\n",
              "      <td>[{\"date\":\"2018-01-01\",\"playerId\":545361,\"playe...</td>\n",
              "      <td>[{\"date\":\"2018-01-01\",\"teamId\":147,\"teamName\":...</td>\n",
              "    </tr>\n",
              "    <tr>\n",
              "      <th>1</th>\n",
              "      <td>20180102</td>\n",
              "      <td>[{\"engagementMetricsDate\":\"2018-01-03\",\"player...</td>\n",
              "      <td>NaN</td>\n",
              "      <td>[{\"playerId\":134181,\"gameDate\":\"2018-01-02\",\"t...</td>\n",
              "      <td>NaN</td>\n",
              "      <td>NaN</td>\n",
              "      <td>[{\"transactionId\":339458,\"playerId\":621173,\"pl...</td>\n",
              "      <td>NaN</td>\n",
              "      <td>NaN</td>\n",
              "      <td>NaN</td>\n",
              "      <td>NaN</td>\n",
              "      <td>NaN</td>\n",
              "    </tr>\n",
              "    <tr>\n",
              "      <th>2</th>\n",
              "      <td>20180103</td>\n",
              "      <td>[{\"engagementMetricsDate\":\"2018-01-04\",\"player...</td>\n",
              "      <td>NaN</td>\n",
              "      <td>[{\"playerId\":425492,\"gameDate\":\"2018-01-03\",\"t...</td>\n",
              "      <td>NaN</td>\n",
              "      <td>NaN</td>\n",
              "      <td>[{\"transactionId\":347527,\"playerId\":572389,\"pl...</td>\n",
              "      <td>NaN</td>\n",
              "      <td>NaN</td>\n",
              "      <td>NaN</td>\n",
              "      <td>NaN</td>\n",
              "      <td>NaN</td>\n",
              "    </tr>\n",
              "    <tr>\n",
              "      <th>3</th>\n",
              "      <td>20180104</td>\n",
              "      <td>[{\"engagementMetricsDate\":\"2018-01-05\",\"player...</td>\n",
              "      <td>NaN</td>\n",
              "      <td>[{\"playerId\":282332,\"gameDate\":\"2018-01-04\",\"t...</td>\n",
              "      <td>NaN</td>\n",
              "      <td>NaN</td>\n",
              "      <td>[{\"transactionId\":339549,\"playerId\":545343,\"pl...</td>\n",
              "      <td>NaN</td>\n",
              "      <td>NaN</td>\n",
              "      <td>NaN</td>\n",
              "      <td>NaN</td>\n",
              "      <td>NaN</td>\n",
              "    </tr>\n",
              "    <tr>\n",
              "      <th>4</th>\n",
              "      <td>20180105</td>\n",
              "      <td>[{\"engagementMetricsDate\":\"2018-01-06\",\"player...</td>\n",
              "      <td>NaN</td>\n",
              "      <td>[{\"playerId\":282332,\"gameDate\":\"2018-01-05\",\"t...</td>\n",
              "      <td>NaN</td>\n",
              "      <td>NaN</td>\n",
              "      <td>[{\"transactionId\":341195,\"playerId\":628336,\"pl...</td>\n",
              "      <td>NaN</td>\n",
              "      <td>NaN</td>\n",
              "      <td>NaN</td>\n",
              "      <td>NaN</td>\n",
              "      <td>NaN</td>\n",
              "    </tr>\n",
              "  </tbody>\n",
              "</table>\n",
              "</div>"
            ],
            "text/plain": [
              "       date                            nextDayPlayerEngagement games  \\\n",
              "0  20180101  [{\"engagementMetricsDate\":\"2018-01-02\",\"player...   NaN   \n",
              "1  20180102  [{\"engagementMetricsDate\":\"2018-01-03\",\"player...   NaN   \n",
              "2  20180103  [{\"engagementMetricsDate\":\"2018-01-04\",\"player...   NaN   \n",
              "3  20180104  [{\"engagementMetricsDate\":\"2018-01-05\",\"player...   NaN   \n",
              "4  20180105  [{\"engagementMetricsDate\":\"2018-01-06\",\"player...   NaN   \n",
              "\n",
              "                                             rosters playerBoxScores  \\\n",
              "0  [{\"playerId\":400121,\"gameDate\":\"2018-01-01\",\"t...             NaN   \n",
              "1  [{\"playerId\":134181,\"gameDate\":\"2018-01-02\",\"t...             NaN   \n",
              "2  [{\"playerId\":425492,\"gameDate\":\"2018-01-03\",\"t...             NaN   \n",
              "3  [{\"playerId\":282332,\"gameDate\":\"2018-01-04\",\"t...             NaN   \n",
              "4  [{\"playerId\":282332,\"gameDate\":\"2018-01-05\",\"t...             NaN   \n",
              "\n",
              "  teamBoxScores                                       transactions standings  \\\n",
              "0           NaN  [{\"transactionId\":340732,\"playerId\":547348,\"pl...       NaN   \n",
              "1           NaN  [{\"transactionId\":339458,\"playerId\":621173,\"pl...       NaN   \n",
              "2           NaN  [{\"transactionId\":347527,\"playerId\":572389,\"pl...       NaN   \n",
              "3           NaN  [{\"transactionId\":339549,\"playerId\":545343,\"pl...       NaN   \n",
              "4           NaN  [{\"transactionId\":341195,\"playerId\":628336,\"pl...       NaN   \n",
              "\n",
              "  awards events                             playerTwitterFollowers  \\\n",
              "0    NaN    NaN  [{\"date\":\"2018-01-01\",\"playerId\":545361,\"playe...   \n",
              "1    NaN    NaN                                                NaN   \n",
              "2    NaN    NaN                                                NaN   \n",
              "3    NaN    NaN                                                NaN   \n",
              "4    NaN    NaN                                                NaN   \n",
              "\n",
              "                                teamTwitterFollowers  \n",
              "0  [{\"date\":\"2018-01-01\",\"teamId\":147,\"teamName\":...  \n",
              "1                                                NaN  \n",
              "2                                                NaN  \n",
              "3                                                NaN  \n",
              "4                                                NaN  "
            ]
          },
          "execution_count": 23,
          "metadata": {},
          "output_type": "execute_result"
        }
      ],
      "source": [
        "df_train.head()"
      ]
    },
    {
      "cell_type": "code",
      "execution_count": 24,
      "metadata": {},
      "outputs": [
        {
          "name": "stdout",
          "output_type": "stream",
          "text": [
            "<class 'pandas.core.frame.DataFrame'>\n",
            "RangeIndex: 1216 entries, 0 to 1215\n",
            "Data columns (total 12 columns):\n",
            " #   Column                   Non-Null Count  Dtype \n",
            "---  ------                   --------------  ----- \n",
            " 0   date                     1216 non-null   int64 \n",
            " 1   nextDayPlayerEngagement  1216 non-null   object\n",
            " 2   games                    639 non-null    object\n",
            " 3   rosters                  1216 non-null   object\n",
            " 4   playerBoxScores          538 non-null    object\n",
            " 5   teamBoxScores            538 non-null    object\n",
            " 6   transactions             1103 non-null   object\n",
            " 7   standings                531 non-null    object\n",
            " 8   awards                   294 non-null    object\n",
            " 9   events                   536 non-null    object\n",
            " 10  playerTwitterFollowers   40 non-null     object\n",
            " 11  teamTwitterFollowers     40 non-null     object\n",
            "dtypes: int64(1), object(11)\n",
            "memory usage: 114.1+ KB\n"
          ]
        }
      ],
      "source": [
        "df_train.info()"
      ]
    },
    {
      "cell_type": "code",
      "execution_count": 25,
      "metadata": {},
      "outputs": [
        {
          "data": {
            "text/plain": [
              "'[{\"engagementMetricsDate\":\"2018-01-02\",\"playerId\":628317,\"target1\":0.011167070542384616,\"target2\":4.4747081712062258,\"target3\":0.0051677297424994094,\"target4\":5.7352941176470589},{\"engagementMetricsDate\":\"2018-01-02\",\"playerId\":547989,\"target1\":0.042993221588180773,\"target2\":5.5933852140077827,\"target3\":0.045033073470351993,\"target4\":2.7941176470588238},{\"engagementMetricsDate\":\"2018-01-02\",\"playerId\":519317,\"target1\":0.97432690482305784,\"target2\":56.177042801556418,\"target3\":13.693745570517363,\"target4\":64.166666666666671},{\"engagementMetricsDate\":\"2018-01-02\",\"playerId\":607625,\"target1\":0.0067002423254307695,\"target2\":2.6750972762645913,\"target3\":0.0051677297424994094,\"target4\":1.8627450980392157},{\"engagementMetricsDate\":\"2018-01-02\",\"playerId\":592547,\"target1\":0.0011167070542384616,\"target2\":0.632295719844358,\"target3\":0.0029529884242853769,\"target4\":0.93137254901960786},{\"engagementMetricsDate\":\"2018-01-02\",\"playerId\":641553,\"target1\":0.011725424069503847,\"target2\":3.8424124513618'"
            ]
          },
          "execution_count": 25,
          "metadata": {},
          "output_type": "execute_result"
        }
      ],
      "source": [
        "df_train['nextDayPlayerEngagement'][0][:1000]"
      ]
    },
    {
      "attachments": {},
      "cell_type": "markdown",
      "metadata": {},
      "source": [
        "### Auxiliary functions"
      ]
    },
    {
      "cell_type": "code",
      "execution_count": 26,
      "metadata": {},
      "outputs": [],
      "source": [
        "def unpack_json(json_str):\n",
        "    return pd.DataFrame() if pd.isna(json_str) else pd.read_json(json_str)\n",
        "\n",
        "def unpack_data(data, dfs=None, n_jobs=-1):\n",
        "    if dfs is not None:\n",
        "        data = data.loc[:, dfs]\n",
        "    unnested_dfs = {}\n",
        "    for name, column in data.iteritems():\n",
        "        daily_dfs = Parallel(n_jobs=n_jobs)(\n",
        "            delayed(unpack_json)(item) for date, item in column.iteritems())\n",
        "        df = pd.concat(daily_dfs)\n",
        "        unnested_dfs[name] = df\n",
        "    return unnested_dfs"
      ]
    },
    {
      "attachments": {},
      "cell_type": "markdown",
      "metadata": {},
      "source": [
        "### Making the targets df"
      ]
    },
    {
      "cell_type": "code",
      "execution_count": 27,
      "metadata": {},
      "outputs": [
        {
          "name": "stdout",
          "output_type": "stream",
          "text": [
            "CPU times: user 4.04 s, sys: 1.83 s, total: 5.87 s\n",
            "Wall time: 10.6 s\n"
          ]
        }
      ],
      "source": [
        "%%time\n",
        "\n",
        "Y = unpack_data(df_train, dfs = ['nextDayPlayerEngagement'])['nextDayPlayerEngagement']\n",
        "Y = Y.astype({name: np.float32 for name in [\"target1\", \"target2\", \"target3\", \"target4\"]})\n",
        "# Match target dates to feature dates and create date index\n",
        "Y = Y.rename(columns={'engagementMetricsDate': 'date'})\n",
        "Y['date'] = pd.to_datetime(Y['date'])\n",
        "Y = Y.set_index('date').to_period('D')\n",
        "Y.index = Y.index - 1\n",
        "Y = Y.reset_index()\n"
      ]
    },
    {
      "cell_type": "code",
      "execution_count": 28,
      "metadata": {},
      "outputs": [
        {
          "data": {
            "text/html": [
              "<div>\n",
              "<style scoped>\n",
              "    .dataframe tbody tr th:only-of-type {\n",
              "        vertical-align: middle;\n",
              "    }\n",
              "\n",
              "    .dataframe tbody tr th {\n",
              "        vertical-align: top;\n",
              "    }\n",
              "\n",
              "    .dataframe thead th {\n",
              "        text-align: right;\n",
              "    }\n",
              "</style>\n",
              "<table border=\"1\" class=\"dataframe\">\n",
              "  <thead>\n",
              "    <tr style=\"text-align: right;\">\n",
              "      <th></th>\n",
              "      <th>date</th>\n",
              "      <th>playerId</th>\n",
              "      <th>target1</th>\n",
              "      <th>target2</th>\n",
              "      <th>target3</th>\n",
              "      <th>target4</th>\n",
              "    </tr>\n",
              "  </thead>\n",
              "  <tbody>\n",
              "    <tr>\n",
              "      <th>0</th>\n",
              "      <td>2018-01-01</td>\n",
              "      <td>628317</td>\n",
              "      <td>0.011167</td>\n",
              "      <td>4.474708</td>\n",
              "      <td>0.005168</td>\n",
              "      <td>5.735294</td>\n",
              "    </tr>\n",
              "    <tr>\n",
              "      <th>1</th>\n",
              "      <td>2018-01-01</td>\n",
              "      <td>547989</td>\n",
              "      <td>0.042993</td>\n",
              "      <td>5.593385</td>\n",
              "      <td>0.045033</td>\n",
              "      <td>2.794118</td>\n",
              "    </tr>\n",
              "    <tr>\n",
              "      <th>2</th>\n",
              "      <td>2018-01-01</td>\n",
              "      <td>519317</td>\n",
              "      <td>0.974327</td>\n",
              "      <td>56.177044</td>\n",
              "      <td>13.693746</td>\n",
              "      <td>64.166664</td>\n",
              "    </tr>\n",
              "    <tr>\n",
              "      <th>3</th>\n",
              "      <td>2018-01-01</td>\n",
              "      <td>607625</td>\n",
              "      <td>0.006700</td>\n",
              "      <td>2.675097</td>\n",
              "      <td>0.005168</td>\n",
              "      <td>1.862745</td>\n",
              "    </tr>\n",
              "    <tr>\n",
              "      <th>4</th>\n",
              "      <td>2018-01-01</td>\n",
              "      <td>592547</td>\n",
              "      <td>0.001117</td>\n",
              "      <td>0.632296</td>\n",
              "      <td>0.002953</td>\n",
              "      <td>0.931373</td>\n",
              "    </tr>\n",
              "  </tbody>\n",
              "</table>\n",
              "</div>"
            ],
            "text/plain": [
              "         date  playerId   target1    target2    target3    target4\n",
              "0  2018-01-01    628317  0.011167   4.474708   0.005168   5.735294\n",
              "1  2018-01-01    547989  0.042993   5.593385   0.045033   2.794118\n",
              "2  2018-01-01    519317  0.974327  56.177044  13.693746  64.166664\n",
              "3  2018-01-01    607625  0.006700   2.675097   0.005168   1.862745\n",
              "4  2018-01-01    592547  0.001117   0.632296   0.002953   0.931373"
            ]
          },
          "execution_count": 28,
          "metadata": {},
          "output_type": "execute_result"
        }
      ],
      "source": [
        "Y.head()"
      ]
    },
    {
      "cell_type": "code",
      "execution_count": 29,
      "metadata": {},
      "outputs": [
        {
          "name": "stdout",
          "output_type": "stream",
          "text": [
            "<class 'pandas.core.frame.DataFrame'>\n",
            "RangeIndex: 2506176 entries, 0 to 2506175\n",
            "Data columns (total 6 columns):\n",
            " #   Column    Dtype    \n",
            "---  ------    -----    \n",
            " 0   date      period[D]\n",
            " 1   playerId  int64    \n",
            " 2   target1   float32  \n",
            " 3   target2   float32  \n",
            " 4   target3   float32  \n",
            " 5   target4   float32  \n",
            "dtypes: float32(4), int64(1), period[D](1)\n",
            "memory usage: 76.5 MB\n"
          ]
        }
      ],
      "source": [
        "Y.info()"
      ]
    },
    {
      "cell_type": "code",
      "execution_count": 37,
      "metadata": {},
      "outputs": [],
      "source": [
        "# pd.to_pickle(Y, processed_data_path + 'targets.pkl')\n",
        "del Y"
      ]
    },
    {
      "attachments": {},
      "cell_type": "markdown",
      "metadata": {},
      "source": [
        "### Player Box Scores"
      ]
    },
    {
      "cell_type": "code",
      "execution_count": 50,
      "metadata": {},
      "outputs": [
        {
          "name": "stdout",
          "output_type": "stream",
          "text": [
            "CPU times: user 2.21 s, sys: 1.25 s, total: 3.46 s\n",
            "Wall time: 9.23 s\n"
          ]
        }
      ],
      "source": [
        "%%time\n",
        "df_playerBoxScores = unpack_data(df_train, dfs = ['playerBoxScores'])['playerBoxScores']"
      ]
    },
    {
      "cell_type": "code",
      "execution_count": 51,
      "metadata": {},
      "outputs": [
        {
          "data": {
            "text/html": [
              "<div>\n",
              "<style scoped>\n",
              "    .dataframe tbody tr th:only-of-type {\n",
              "        vertical-align: middle;\n",
              "    }\n",
              "\n",
              "    .dataframe tbody tr th {\n",
              "        vertical-align: top;\n",
              "    }\n",
              "\n",
              "    .dataframe thead th {\n",
              "        text-align: right;\n",
              "    }\n",
              "</style>\n",
              "<table border=\"1\" class=\"dataframe\">\n",
              "  <thead>\n",
              "    <tr style=\"text-align: right;\">\n",
              "      <th></th>\n",
              "      <th>home</th>\n",
              "      <th>gamePk</th>\n",
              "      <th>gameDate</th>\n",
              "      <th>gameTimeUTC</th>\n",
              "      <th>teamId</th>\n",
              "      <th>teamName</th>\n",
              "      <th>playerId</th>\n",
              "      <th>playerName</th>\n",
              "      <th>jerseyNum</th>\n",
              "      <th>positionCode</th>\n",
              "      <th>...</th>\n",
              "      <th>catchersInterferencePitching</th>\n",
              "      <th>sacBuntsPitching</th>\n",
              "      <th>sacFliesPitching</th>\n",
              "      <th>saves</th>\n",
              "      <th>holds</th>\n",
              "      <th>blownSaves</th>\n",
              "      <th>assists</th>\n",
              "      <th>putOuts</th>\n",
              "      <th>errors</th>\n",
              "      <th>chances</th>\n",
              "    </tr>\n",
              "  </thead>\n",
              "  <tbody>\n",
              "    <tr>\n",
              "      <th>0</th>\n",
              "      <td>1</td>\n",
              "      <td>529418</td>\n",
              "      <td>2018-03-29</td>\n",
              "      <td>2018-03-29T23:08:00Z</td>\n",
              "      <td>119</td>\n",
              "      <td>Los Angeles Dodgers</td>\n",
              "      <td>605131</td>\n",
              "      <td>Austin Barnes</td>\n",
              "      <td>15</td>\n",
              "      <td>12</td>\n",
              "      <td>...</td>\n",
              "      <td>NaN</td>\n",
              "      <td>NaN</td>\n",
              "      <td>NaN</td>\n",
              "      <td>NaN</td>\n",
              "      <td>NaN</td>\n",
              "      <td>NaN</td>\n",
              "      <td>NaN</td>\n",
              "      <td>NaN</td>\n",
              "      <td>NaN</td>\n",
              "      <td>NaN</td>\n",
              "    </tr>\n",
              "    <tr>\n",
              "      <th>1</th>\n",
              "      <td>1</td>\n",
              "      <td>529406</td>\n",
              "      <td>2018-03-29</td>\n",
              "      <td>2018-03-29T20:00:00Z</td>\n",
              "      <td>139</td>\n",
              "      <td>Tampa Bay Rays</td>\n",
              "      <td>605480</td>\n",
              "      <td>Mallex Smith</td>\n",
              "      <td>0</td>\n",
              "      <td>7</td>\n",
              "      <td>...</td>\n",
              "      <td>NaN</td>\n",
              "      <td>NaN</td>\n",
              "      <td>NaN</td>\n",
              "      <td>NaN</td>\n",
              "      <td>NaN</td>\n",
              "      <td>NaN</td>\n",
              "      <td>0.0</td>\n",
              "      <td>0.0</td>\n",
              "      <td>0.0</td>\n",
              "      <td>0.0</td>\n",
              "    </tr>\n",
              "    <tr>\n",
              "      <th>2</th>\n",
              "      <td>0</td>\n",
              "      <td>529416</td>\n",
              "      <td>2018-03-29</td>\n",
              "      <td>2018-03-29T20:10:00Z</td>\n",
              "      <td>143</td>\n",
              "      <td>Philadelphia Phillies</td>\n",
              "      <td>546318</td>\n",
              "      <td>Odubel Herrera</td>\n",
              "      <td>37</td>\n",
              "      <td>8</td>\n",
              "      <td>...</td>\n",
              "      <td>NaN</td>\n",
              "      <td>NaN</td>\n",
              "      <td>NaN</td>\n",
              "      <td>NaN</td>\n",
              "      <td>NaN</td>\n",
              "      <td>NaN</td>\n",
              "      <td>0.0</td>\n",
              "      <td>0.0</td>\n",
              "      <td>0.0</td>\n",
              "      <td>0.0</td>\n",
              "    </tr>\n",
              "    <tr>\n",
              "      <th>3</th>\n",
              "      <td>0</td>\n",
              "      <td>529412</td>\n",
              "      <td>2018-03-29</td>\n",
              "      <td>2018-03-29T20:05:00Z</td>\n",
              "      <td>108</td>\n",
              "      <td>Los Angeles Angels</td>\n",
              "      <td>527043</td>\n",
              "      <td>Jefry Marte</td>\n",
              "      <td>19</td>\n",
              "      <td>3</td>\n",
              "      <td>...</td>\n",
              "      <td>NaN</td>\n",
              "      <td>NaN</td>\n",
              "      <td>NaN</td>\n",
              "      <td>NaN</td>\n",
              "      <td>NaN</td>\n",
              "      <td>NaN</td>\n",
              "      <td>0.0</td>\n",
              "      <td>1.0</td>\n",
              "      <td>0.0</td>\n",
              "      <td>1.0</td>\n",
              "    </tr>\n",
              "    <tr>\n",
              "      <th>4</th>\n",
              "      <td>1</td>\n",
              "      <td>529408</td>\n",
              "      <td>2018-03-29</td>\n",
              "      <td>2018-03-29T20:15:00Z</td>\n",
              "      <td>118</td>\n",
              "      <td>Kansas City Royals</td>\n",
              "      <td>449181</td>\n",
              "      <td>Paulo Orlando</td>\n",
              "      <td>16</td>\n",
              "      <td>8</td>\n",
              "      <td>...</td>\n",
              "      <td>NaN</td>\n",
              "      <td>NaN</td>\n",
              "      <td>NaN</td>\n",
              "      <td>NaN</td>\n",
              "      <td>NaN</td>\n",
              "      <td>NaN</td>\n",
              "      <td>0.0</td>\n",
              "      <td>2.0</td>\n",
              "      <td>0.0</td>\n",
              "      <td>2.0</td>\n",
              "    </tr>\n",
              "  </tbody>\n",
              "</table>\n",
              "<p>5 rows × 85 columns</p>\n",
              "</div>"
            ],
            "text/plain": [
              "   home  gamePk    gameDate           gameTimeUTC  teamId  \\\n",
              "0     1  529418  2018-03-29  2018-03-29T23:08:00Z     119   \n",
              "1     1  529406  2018-03-29  2018-03-29T20:00:00Z     139   \n",
              "2     0  529416  2018-03-29  2018-03-29T20:10:00Z     143   \n",
              "3     0  529412  2018-03-29  2018-03-29T20:05:00Z     108   \n",
              "4     1  529408  2018-03-29  2018-03-29T20:15:00Z     118   \n",
              "\n",
              "                teamName  playerId      playerName jerseyNum  positionCode  \\\n",
              "0    Los Angeles Dodgers    605131   Austin Barnes        15            12   \n",
              "1         Tampa Bay Rays    605480    Mallex Smith         0             7   \n",
              "2  Philadelphia Phillies    546318  Odubel Herrera        37             8   \n",
              "3     Los Angeles Angels    527043     Jefry Marte        19             3   \n",
              "4     Kansas City Royals    449181   Paulo Orlando        16             8   \n",
              "\n",
              "   ... catchersInterferencePitching sacBuntsPitching  sacFliesPitching  saves  \\\n",
              "0  ...                          NaN              NaN               NaN    NaN   \n",
              "1  ...                          NaN              NaN               NaN    NaN   \n",
              "2  ...                          NaN              NaN               NaN    NaN   \n",
              "3  ...                          NaN              NaN               NaN    NaN   \n",
              "4  ...                          NaN              NaN               NaN    NaN   \n",
              "\n",
              "   holds  blownSaves  assists  putOuts  errors  chances  \n",
              "0    NaN         NaN      NaN      NaN     NaN      NaN  \n",
              "1    NaN         NaN      0.0      0.0     0.0      0.0  \n",
              "2    NaN         NaN      0.0      0.0     0.0      0.0  \n",
              "3    NaN         NaN      0.0      1.0     0.0      1.0  \n",
              "4    NaN         NaN      0.0      2.0     0.0      2.0  \n",
              "\n",
              "[5 rows x 85 columns]"
            ]
          },
          "execution_count": 51,
          "metadata": {},
          "output_type": "execute_result"
        }
      ],
      "source": [
        "df_playerBoxScores.head()"
      ]
    },
    {
      "cell_type": "code",
      "execution_count": 52,
      "metadata": {},
      "outputs": [
        {
          "name": "stdout",
          "output_type": "stream",
          "text": [
            "<class 'pandas.core.frame.DataFrame'>\n",
            "Int64Index: 185144 entries, 0 to 430\n",
            "Data columns (total 85 columns):\n",
            " #   Column                        Non-Null Count   Dtype  \n",
            "---  ------                        --------------   -----  \n",
            " 0   home                          185144 non-null  int64  \n",
            " 1   gamePk                        185144 non-null  int64  \n",
            " 2   gameDate                      185144 non-null  object \n",
            " 3   gameTimeUTC                   185144 non-null  object \n",
            " 4   teamId                        185144 non-null  int64  \n",
            " 5   teamName                      185144 non-null  object \n",
            " 6   playerId                      185144 non-null  int64  \n",
            " 7   playerName                    185144 non-null  object \n",
            " 8   jerseyNum                     185112 non-null  object \n",
            " 9   positionCode                  185144 non-null  int64  \n",
            " 10  positionName                  185144 non-null  object \n",
            " 11  positionType                  185144 non-null  object \n",
            " 12  battingOrder                  153749 non-null  float64\n",
            " 13  gamesPlayedBatting            153753 non-null  float64\n",
            " 14  flyOuts                       153753 non-null  float64\n",
            " 15  groundOuts                    153753 non-null  float64\n",
            " 16  runsScored                    153753 non-null  float64\n",
            " 17  doubles                       153753 non-null  float64\n",
            " 18  triples                       153753 non-null  float64\n",
            " 19  homeRuns                      153753 non-null  float64\n",
            " 20  strikeOuts                    153753 non-null  float64\n",
            " 21  baseOnBalls                   153753 non-null  float64\n",
            " 22  intentionalWalks              153753 non-null  float64\n",
            " 23  hits                          153753 non-null  float64\n",
            " 24  hitByPitch                    153753 non-null  float64\n",
            " 25  atBats                        153753 non-null  float64\n",
            " 26  caughtStealing                153753 non-null  float64\n",
            " 27  stolenBases                   153753 non-null  float64\n",
            " 28  groundIntoDoublePlay          153753 non-null  float64\n",
            " 29  groundIntoTriplePlay          153753 non-null  float64\n",
            " 30  plateAppearances              153753 non-null  float64\n",
            " 31  totalBases                    153753 non-null  float64\n",
            " 32  rbi                           153753 non-null  float64\n",
            " 33  leftOnBase                    153753 non-null  float64\n",
            " 34  sacBunts                      153753 non-null  float64\n",
            " 35  sacFlies                      153753 non-null  float64\n",
            " 36  catchersInterference          153753 non-null  float64\n",
            " 37  pickoffs                      153753 non-null  float64\n",
            " 38  gamesPlayedPitching           55179 non-null   float64\n",
            " 39  gamesStartedPitching          55179 non-null   float64\n",
            " 40  completeGamesPitching         55179 non-null   float64\n",
            " 41  shutoutsPitching              55179 non-null   float64\n",
            " 42  winsPitching                  48340 non-null   float64\n",
            " 43  lossesPitching                48593 non-null   float64\n",
            " 44  flyOutsPitching               28124 non-null   float64\n",
            " 45  airOutsPitching               55179 non-null   float64\n",
            " 46  groundOutsPitching            55179 non-null   float64\n",
            " 47  runsPitching                  55179 non-null   float64\n",
            " 48  doublesPitching               55179 non-null   float64\n",
            " 49  triplesPitching               55179 non-null   float64\n",
            " 50  homeRunsPitching              55179 non-null   float64\n",
            " 51  strikeOutsPitching            55179 non-null   float64\n",
            " 52  baseOnBallsPitching           55179 non-null   float64\n",
            " 53  intentionalWalksPitching      55179 non-null   float64\n",
            " 54  hitsPitching                  55179 non-null   float64\n",
            " 55  hitByPitchPitching            55179 non-null   float64\n",
            " 56  atBatsPitching                55179 non-null   float64\n",
            " 57  caughtStealingPitching        55179 non-null   float64\n",
            " 58  stolenBasesPitching           55179 non-null   float64\n",
            " 59  inningsPitched                55179 non-null   float64\n",
            " 60  saveOpportunities             55179 non-null   float64\n",
            " 61  earnedRuns                    55179 non-null   float64\n",
            " 62  battersFaced                  55179 non-null   float64\n",
            " 63  outsPitching                  55179 non-null   float64\n",
            " 64  pitchesThrown                 55179 non-null   float64\n",
            " 65  balls                         55179 non-null   float64\n",
            " 66  strikes                       55179 non-null   float64\n",
            " 67  hitBatsmen                    55179 non-null   float64\n",
            " 68  balks                         55179 non-null   float64\n",
            " 69  wildPitches                   55179 non-null   float64\n",
            " 70  pickoffsPitching              55179 non-null   float64\n",
            " 71  rbiPitching                   55179 non-null   float64\n",
            " 72  gamesFinishedPitching         55179 non-null   float64\n",
            " 73  inheritedRunners              55179 non-null   float64\n",
            " 74  inheritedRunnersScored        55179 non-null   float64\n",
            " 75  catchersInterferencePitching  55179 non-null   float64\n",
            " 76  sacBuntsPitching              55179 non-null   float64\n",
            " 77  sacFliesPitching              55179 non-null   float64\n",
            " 78  saves                         45351 non-null   float64\n",
            " 79  holds                         45351 non-null   float64\n",
            " 80  blownSaves                    45351 non-null   float64\n",
            " 81  assists                       150803 non-null  float64\n",
            " 82  putOuts                       150803 non-null  float64\n",
            " 83  errors                        150803 non-null  float64\n",
            " 84  chances                       150803 non-null  float64\n",
            "dtypes: float64(73), int64(5), object(7)\n",
            "memory usage: 121.5+ MB\n"
          ]
        }
      ],
      "source": [
        "df_playerBoxScores.info()"
      ]
    },
    {
      "cell_type": "code",
      "execution_count": 53,
      "metadata": {},
      "outputs": [
        {
          "name": "stdout",
          "output_type": "stream",
          "text": [
            "{'gamePk': 'IdGame', 'gameDate': 'DtGame', 'gameTimeUTC': 'DtGameUTC', 'playerId': 'IdPlayer', 'teamId': 'IdTeam', 'jerseyNum': 'NuJersey', 'positionCode': 'CdPosition', 'battingOrder': 'NuBattingOrder', 'gamesPlayedBatting': 'NuGamesPlayedBatting', 'flyOuts': 'NuFlyOuts', 'groundOuts': 'NuGroundOuts', 'runsScored': 'NuRunsScored', 'doubles': 'NuDoubles', 'triples': 'NuTriples', 'homeRuns': 'NuHomeRuns', 'strikeOuts': 'NuStrikeOuts', 'baseOnBalls': 'NuBaseOnBalls', 'intentionalWalks': 'NuIntentionalWalks', 'hits': 'NuHits', 'hitByPitch': 'NuHitByPitch', 'atBats': 'NuAtBats', 'caughtStealing': 'NuCaughtStealing', 'stolenBases': 'NuStolenBases', 'groundIntoDoublePlay': 'NuGroundIntoDoublePlay', 'groundIntoTriplePlay': 'NuGroundIntoTriplePlay', 'plateAppearances': 'NuPlateAppearances', 'totalBases': 'NuTotalBases', 'rbi': 'NuRbi', 'leftOnBase': 'NuLeftOnBase', 'sacBunts': 'NuSacBunts', 'sacFlies': 'NuSacFlies', 'catchersInterference': 'NuCatchersInterference', 'pickoffs': 'NuPickoffs', 'gamesPlayedPitching': 'NuGamesPlayedPitching', 'gamesStartedPitching': 'NuGamesStartedPitching', 'completeGamesPitching': 'NuCompleteGamesPitching', 'shutoutsPitching': 'NuShutoutsPitching', 'winsPitching': 'NuWinsPitching', 'lossesPitching': 'NuLossesPitching', 'flyOutsPitching': 'NuFlyOutsPitching', 'airOutsPitching': 'NuAirOutsPitching', 'groundOutsPitching': 'NuGroundOutsPitching', 'runsPitching': 'NuRunsPitching', 'doublesPitching': 'NuDoublesPitching', 'triplesPitching': 'NuTriplesPitching', 'homeRunsPitching': 'NuHomeRunsPitching', 'strikeOutsPitching': 'NuStrikeOutsPitching', 'baseOnBallsPitching': 'NuBaseOnBallsPitching', 'intentionalWalksPitching': 'NuIntentionalWalksPitching', 'hitsPitching': 'NuHitsPitching', 'hitByPitchPitching': 'NuHitByPitchPitching', 'atBatsPitching': 'NuAtBatsPitching', 'caughtStealingPitching': 'NuCaughtStealingPitching', 'stolenBasesPitching': 'NuStolenBasesPitching', 'inningsPitched': 'NuInningsPitched', 'saveOpportunities': 'NuSaveOpportunities', 'earnedRuns': 'NuEarnedRuns', 'battersFaced': 'NuBattersFaced', 'outsPitching': 'NuOutsPitching', 'pitchesThrown': 'NuPitchesThrown', 'balls': 'NuBalls', 'strikes': 'NuStrikes', 'hitBatsmen': 'NuHitBatsmen', 'balks': 'NuBalks', 'wildPitches': 'NuWildPitches', 'pickoffsPitching': 'NuPickoffsPitching', 'rbiPitching': 'NuRbiPitching', 'gamesFinishedPitching': 'NuGamesFinishedPitching', 'inheritedRunners': 'NuInheritedRunners', 'inheritedRunnersScored': 'NuInheritedRunnersScored', 'catchersInterferencePitching': 'NuCatchersInterferencePitching', 'sacBuntsPitching': 'NuSacBuntsPitching', 'sacFliesPitching': 'NuSacFliesPitching', 'saves': 'NuSaves', 'holds': 'NuHolds', 'blownSaves': 'NuBlownSaves', 'assists': 'NuAssists', 'putOuts': 'NuPutOuts', 'errors': 'NuErrors', 'chances': 'NuChances'}\n"
          ]
        }
      ],
      "source": [
        "cols = {\n",
        "    # columns related to other dimensions\n",
        "    'gamePk': 'IdGame',\n",
        "    'gameDate': 'DtGame',\n",
        "    'gameTimeUTC': 'DtGameUTC',\n",
        "    'playerId': 'IdPlayer',\n",
        "    'teamId': 'IdTeam',\n",
        "    'jerseyNum': 'NuJersey',\n",
        "    'positionCode': 'CdPosition',\n",
        "}  \n",
        "# numeric columns\n",
        "for numeric_col in list(df_playerBoxScores.columns[12:]):\n",
        "    cols[numeric_col] = 'Nu' + numeric_col[0].upper() + numeric_col[1:]\n",
        "print(cols)"
      ]
    },
    {
      "cell_type": "code",
      "execution_count": 54,
      "metadata": {},
      "outputs": [],
      "source": [
        "df_playerBoxScores = df_playerBoxScores[list(cols)]\n",
        "df_playerBoxScores.columns = list(cols.values())"
      ]
    },
    {
      "cell_type": "code",
      "execution_count": 55,
      "metadata": {},
      "outputs": [],
      "source": [
        "# pd.to_pickle(df_playerBoxScores, processed_data_path + 'playerBoxScores.pkl')\n",
        "del df_playerBoxScores"
      ]
    },
    {
      "cell_type": "code",
      "execution_count": null,
      "metadata": {},
      "outputs": [],
      "source": []
    }
  ],
  "metadata": {
    "colab": {
      "provenance": []
    },
    "kernelspec": {
      "display_name": "Python 3",
      "language": "python",
      "name": "python3"
    },
    "language_info": {
      "codemirror_mode": {
        "name": "ipython",
        "version": 3
      },
      "file_extension": ".py",
      "mimetype": "text/x-python",
      "name": "python",
      "nbconvert_exporter": "python",
      "pygments_lexer": "ipython3",
      "version": "3.10.6"
    },
    "orig_nbformat": 4,
    "vscode": {
      "interpreter": {
        "hash": "916dbcbb3f70747c44a77c7bcd40155683ae19c65e1c03b4aa3499c5328201f1"
      }
    }
  },
  "nbformat": 4,
  "nbformat_minor": 0
}

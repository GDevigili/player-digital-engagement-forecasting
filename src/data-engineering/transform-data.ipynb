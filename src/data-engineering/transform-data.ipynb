{
 "cells": [
  {
   "cell_type": "markdown",
   "metadata": {},
   "source": [
    "# Data Preparation"
   ]
  },
  {
   "cell_type": "markdown",
   "metadata": {},
   "source": [
    "## Transform Data\n",
    "\n",
    "Notebook que irá conter o código para o processamento e transformações de dados. Este notebook deve ser rodado após o notebook `pre-process-data.ipynb`.\n",
    "\n",
    "os dados \"crus\" estão localizados em `/src/data/raw-data` e os dados tratados estão salvos em `/src/data/processed-data`."
   ]
  },
  {
   "cell_type": "markdown",
   "metadata": {},
   "source": [
    "## Initial Setup"
   ]
  },
  {
   "cell_type": "code",
   "execution_count": 1,
   "metadata": {},
   "outputs": [],
   "source": [
    "# Imports\n",
    "import pandas as pd\n",
    "import numpy as np\n",
    "\n",
    "import pickle as pkl\n",
    "\n",
    "from joblib import Parallel, delayed\n",
    "\n",
    "# disable warnings\n",
    "import warnings\n",
    "warnings.filterwarnings(\"ignore\", category=DeprecationWarning)\n",
    "warnings.filterwarnings(\"ignore\", category=FutureWarning)\n",
    "pd.options.mode.chained_assignment = None  # default='warn'"
   ]
  },
  {
   "cell_type": "code",
   "execution_count": 2,
   "metadata": {},
   "outputs": [],
   "source": [
    "# Global Variables\n",
    "# file paths\n",
    "raw_data_path = '../data/raw-data/'\n",
    "processed_data_path = '../data/processed-data/'\n",
    "\n",
    "\n",
    "TARGET_COLS = ['target1', 'target2', 'target3', 'target4']\n",
    "\n",
    "RANDOM_SEED = 42\n",
    "\n",
    "TEST_SPLIT_DATE = '2021-04-30'"
   ]
  },
  {
   "cell_type": "code",
   "execution_count": 3,
   "metadata": {},
   "outputs": [],
   "source": [
    "# Loading data\n",
    "df_targets = pd.read_pickle(processed_data_path + 'targets.pkl')\n",
    "df_pbs = pd.read_pickle(processed_data_path + 'playerBoxScores.pkl')\n",
    "df_tbs = pd.read_pickle(processed_data_path + 'teamBoxScores.pkl')\n",
    "df_g = pd.read_pickle(processed_data_path + 'games.pkl')"
   ]
  },
  {
   "cell_type": "markdown",
   "metadata": {},
   "source": [
    "## Data Transformations"
   ]
  },
  {
   "cell_type": "markdown",
   "metadata": {},
   "source": [
    "### Reduce Memory Usage"
   ]
  },
  {
   "cell_type": "code",
   "execution_count": 4,
   "metadata": {},
   "outputs": [],
   "source": [
    "from pandas.api.types import is_datetime64_any_dtype as is_datetime\n",
    "\n",
    "def reduce_mem_usage(df):\n",
    "    \"\"\" iterate through all the columns of a dataframe and modify the data type\n",
    "        to reduce memory usage.        \n",
    "    \"\"\"\n",
    "    start_mem = df.memory_usage().sum() / 1024**2\n",
    "    print('Memory usage of dataframe is {:.2f} MB'.format(start_mem))\n",
    "    \n",
    "    for col in df.columns:\n",
    "        col_type = df[col].dtype\n",
    "        \n",
    "        if col_type != object and is_datetime(df[col]) == False and col_type != 'category':\n",
    "            c_min = df[col].min()\n",
    "            c_max = df[col].max()\n",
    "            if str(col_type)[:3] == 'int':\n",
    "                if c_min > np.iinfo(np.int8).min and c_max < np.iinfo(np.int8).max:\n",
    "                    df[col] = df[col].astype(np.int8)\n",
    "                elif c_min > np.iinfo(np.int16).min and c_max < np.iinfo(np.int16).max:\n",
    "                    df[col] = df[col].astype(np.int16)\n",
    "                elif c_min > np.iinfo(np.int32).min and c_max < np.iinfo(np.int32).max:\n",
    "                    df[col] = df[col].astype(np.int32)\n",
    "                elif c_min > np.iinfo(np.int64).min and c_max < np.iinfo(np.int64).max:\n",
    "                    df[col] = df[col].astype(np.int64)  \n",
    "            else:\n",
    "                if c_min > np.finfo(np.float16).min and c_max < np.finfo(np.float16).max:\n",
    "                    df[col] = df[col].astype(np.float16)\n",
    "                elif c_min > np.finfo(np.float32).min and c_max < np.finfo(np.float32).max:\n",
    "                    df[col] = df[col].astype(np.float32)\n",
    "                else:\n",
    "                    df[col] = df[col].astype(np.float64)\n",
    "        elif is_datetime(df[col]) == True:\n",
    "            df[col] = df[col].astype('datetime64[ns]')\n",
    "\n",
    "    end_mem = df.memory_usage().sum() / 1024**2\n",
    "    print('Memory usage after optimization is: {:.2f} MB'.format(end_mem))\n",
    "    print('Decreased by {:.1f}%'.format(100 * (start_mem - end_mem) / start_mem))\n",
    "    \n",
    "    return df"
   ]
  },
  {
   "cell_type": "markdown",
   "metadata": {},
   "source": [
    "#### Df Targets"
   ]
  },
  {
   "cell_type": "code",
   "execution_count": 5,
   "metadata": {},
   "outputs": [
    {
     "name": "stdout",
     "output_type": "stream",
     "text": [
      "Memory usage of dataframe is 71.99 MB\n",
      "Memory usage after optimization is: 71.99 MB\n",
      "Decreased by 0.0%\n"
     ]
    }
   ],
   "source": [
    "df_targets = reduce_mem_usage(df_targets);"
   ]
  },
  {
   "cell_type": "markdown",
   "metadata": {},
   "source": [
    "#### Player Box Scores"
   ]
  },
  {
   "cell_type": "code",
   "execution_count": 6,
   "metadata": {},
   "outputs": [
    {
     "name": "stdout",
     "output_type": "stream",
     "text": [
      "Memory usage of dataframe is 36.67 MB\n",
      "Memory usage after optimization is: 33.74 MB\n",
      "Decreased by 8.0%\n"
     ]
    }
   ],
   "source": [
    "df_pbs = reduce_mem_usage(df_pbs);"
   ]
  },
  {
   "cell_type": "markdown",
   "metadata": {},
   "source": [
    "#### Team Box Scores"
   ]
  },
  {
   "cell_type": "code",
   "execution_count": 7,
   "metadata": {},
   "outputs": [
    {
     "name": "stdout",
     "output_type": "stream",
     "text": [
      "Memory usage of dataframe is 1.43 MB\n",
      "Memory usage after optimization is: 1.43 MB\n",
      "Decreased by 0.0%\n"
     ]
    }
   ],
   "source": [
    "df_tbs = reduce_mem_usage(df_tbs);"
   ]
  },
  {
   "cell_type": "markdown",
   "metadata": {},
   "source": [
    "#### Games"
   ]
  },
  {
   "cell_type": "code",
   "execution_count": 8,
   "metadata": {},
   "outputs": [],
   "source": [
    "#df_g = reduce_mem_usage(df_g);"
   ]
  },
  {
   "cell_type": "markdown",
   "metadata": {},
   "source": [
    "### Sorting and Shifting"
   ]
  },
  {
   "cell_type": "code",
   "execution_count": 9,
   "metadata": {},
   "outputs": [],
   "source": [
    "# Funções auxiliares para o pré-processamento dos dados\n",
    "def sort_df(df: pd.DataFrame, columns: list = ['IdPlayer', 'Dt']) -> None:\n",
    "    \"\"\"Sort the dataframe by the columns passed as argument.\n",
    "    \n",
    "    Args:\n",
    "        df (pd.DataFrame): Dataframe to be sorted.\n",
    "        columns (list, optional): Columns to sort the dataframe. Defaults to ['IdPlayer', 'Dt'].\n",
    "        \n",
    "        Returns:\n",
    "            None\n",
    "    \"\"\"\n",
    "    df.sort_values(by=columns, inplace=True)\n",
    "    # reset index\n",
    "    df.reset_index(drop=True, inplace=True)\n",
    "\n",
    "\n",
    "def shift_targets(df, shift_vals: list = [1, 2, 3, 4, 5, 6, 7, 14, 30]):\n",
    "    \"\"\"Shift the targets by the values passed as argument.\n",
    "\n",
    "    Args:\n",
    "        df (pd.DataFrame): Dataframe to be shifted.\n",
    "        shift_vals (list, optional): Values to shift the targets. Defaults to [1, 2, 3, 4, 5, 6, 7, 14, 30].\n",
    "\n",
    "    Returns:\n",
    "        pd.DataFrame: Dataframe with the shifted targets.\n",
    "    \"\"\"\n",
    "    df_aux = pd.DataFrame()\n",
    "    # Iterate over players to make the shift only using the player data\n",
    "    for player in df['IdPlayer'].unique():\n",
    "        df_player = df[df['IdPlayer'] == player]\n",
    "        # Iterate over the pre-defined shift values\n",
    "        for shift_val in shift_vals:\n",
    "            # Iterate over the targets\n",
    "            for target in TARGET_COLS:\n",
    "                # Make the shift\n",
    "                df_player[f'{target}_shift_{shift_val}'] = df_player[target].shift(shift_val)\n",
    "        # Concatenate the player data with the rest of the data\n",
    "        df_aux = pd.concat([df_aux, df_player], axis=0)\n",
    "        # Remove the player data from memory\n",
    "        del df_player\n",
    "    # df.dropna(inplace=True)\n",
    "    return df_aux\n",
    "\n",
    "\n",
    "def train_test_split(\n",
    "    df: pd.DataFrame\n",
    "    ,test_split_date: str = TEST_SPLIT_DATE\n",
    "    ):\n",
    "    \"\"\"Split the dataframe into train and test sets.\n",
    "\n",
    "    Args:\n",
    "        df (pd.DataFrame): Dataframe to be split.\n",
    "        test_split_date (str, optional): Date to split the dataframe. Defaults to TEST_SPLIT_DATE.\n",
    "    \"\"\"\n",
    "\n",
    "    train = df[(df.Dt <= \"2021-01-31\") & (df.Dt >= \"2018-01-01\")] \n",
    "    val = df[(df.Dt <= \"2021-04-30\") & (df.Dt >= \"2021-02-01\")] \n",
    "    test = df[(df.Dt <= \"2021-07-31\") & (df.Dt >= \"2021-05-01\")]\n",
    "    # train.to_csv('train.csv', index=None)\n",
    "    # val.to_csv('validation.csv', index=None) \n",
    "    # test.to_csv('test.csv', index=None) \n",
    "\n",
    "    return train, test, val\n",
    "\n",
    "\n",
    "def x_y_split(df: pd.DataFrame, target_cols: list = TARGET_COLS):\n",
    "    \"\"\"Split the dataframe into x and y sets.\n",
    "\n",
    "    Args:\n",
    "        df (pd.DataFrame): Dataframe to be split.\n",
    "    \"\"\"\n",
    "    y = df[target_cols]\n",
    "    x = df.drop(target_cols, axis=1)\n",
    "    return x, y"
   ]
  },
  {
   "cell_type": "code",
   "execution_count": 10,
   "metadata": {},
   "outputs": [
    {
     "name": "stdout",
     "output_type": "stream",
     "text": [
      "Wall time: 2min 49s\n"
     ]
    }
   ],
   "source": [
    "%%time\n",
    "sort_df(df_targets)\n",
    "df_train = shift_targets(df_targets, shift_vals=[1, 2, 3, 4, 5, 6, 7])"
   ]
  },
  {
   "cell_type": "markdown",
   "metadata": {},
   "source": [
    "## Feature Engineering"
   ]
  },
  {
   "cell_type": "markdown",
   "metadata": {},
   "source": [
    "### Datetime"
   ]
  },
  {
   "cell_type": "code",
   "execution_count": 11,
   "metadata": {},
   "outputs": [],
   "source": [
    "# Transform the datetime col into new features\n",
    "df_train['DtYear'] = df_train['Dt'].dt.year\n",
    "df_train['DtMonth'] = df_train['Dt'].dt.month\n",
    "df_train['DtDay'] = df_train['Dt'].dt.day\n",
    "df_train['DtDayOfWeek'] = df_train['Dt'].dt.dayofweek\n",
    "df_train['DtDayOfYear'] = df_train['Dt'].dt.dayofyear\n",
    "df_train['DtQuarter'] = df_train['Dt'].dt.quarter\n",
    "# get the hour and minute from the PBS\n",
    "df_pbs['DtHour'] = df_pbs['DtGameUTC'].dt.hour\n",
    "df_pbs['DtMinute'] = df_pbs['DtGameUTC'].dt.minute\n",
    "df_pbs['DtHour'][df_pbs['DtHour'] == 0] = 24"
   ]
  },
  {
   "cell_type": "code",
   "execution_count": 12,
   "metadata": {},
   "outputs": [],
   "source": [
    "media_por_jogador = df_train.groupby('IdPlayer')[TARGET_COLS].mean()\n",
    "mediana_por_jogador = df_train.groupby('IdPlayer')[TARGET_COLS].median()"
   ]
  },
  {
   "cell_type": "code",
   "execution_count": 13,
   "metadata": {},
   "outputs": [],
   "source": [
    "media_por_jogador = media_por_jogador.rename(columns={\n",
    "    'target1': 'target1_pmean',\n",
    "    'target2': 'target2_pmean',\n",
    "    'target3': 'target3_pmean',\n",
    "    'target4': 'target4_pmean'\n",
    "})\n",
    "\n",
    "mediana_por_jogador = mediana_por_jogador.rename(columns={\n",
    "    'target1': 'target1_pmedian',\n",
    "    'target2': 'target2_pmedian',\n",
    "    'target3': 'target3_pmedian',\n",
    "    'target4': 'target4_pmedian'\n",
    "})"
   ]
  },
  {
   "cell_type": "markdown",
   "metadata": {},
   "source": [
    "## Joining Datasets"
   ]
  },
  {
   "cell_type": "markdown",
   "metadata": {},
   "source": [
    "### Média e mediana por jogador"
   ]
  },
  {
   "cell_type": "code",
   "execution_count": 14,
   "metadata": {},
   "outputs": [],
   "source": [
    "df_train = pd.merge(df_train, media_por_jogador, on=['IdPlayer'], how='left')\n",
    "df_train = pd.merge(df_train, mediana_por_jogador, on=['IdPlayer'], how='left')"
   ]
  },
  {
   "cell_type": "code",
   "execution_count": 15,
   "metadata": {},
   "outputs": [
    {
     "data": {
      "text/html": [
       "<div>\n",
       "<style scoped>\n",
       "    .dataframe tbody tr th:only-of-type {\n",
       "        vertical-align: middle;\n",
       "    }\n",
       "\n",
       "    .dataframe tbody tr th {\n",
       "        vertical-align: top;\n",
       "    }\n",
       "\n",
       "    .dataframe thead th {\n",
       "        text-align: right;\n",
       "    }\n",
       "</style>\n",
       "<table border=\"1\" class=\"dataframe\">\n",
       "  <thead>\n",
       "    <tr style=\"text-align: right;\">\n",
       "      <th></th>\n",
       "      <th>Dt</th>\n",
       "      <th>IdPlayer</th>\n",
       "      <th>target1</th>\n",
       "      <th>target2</th>\n",
       "      <th>target3</th>\n",
       "      <th>target4</th>\n",
       "      <th>IdDtPlayer</th>\n",
       "      <th>target1_shift_1</th>\n",
       "      <th>target2_shift_1</th>\n",
       "      <th>target3_shift_1</th>\n",
       "      <th>...</th>\n",
       "      <th>DtDayOfYear</th>\n",
       "      <th>DtQuarter</th>\n",
       "      <th>target1_pmean</th>\n",
       "      <th>target2_pmean</th>\n",
       "      <th>target3_pmean</th>\n",
       "      <th>target4_pmean</th>\n",
       "      <th>target1_pmedian</th>\n",
       "      <th>target2_pmedian</th>\n",
       "      <th>target3_pmedian</th>\n",
       "      <th>target4_pmedian</th>\n",
       "    </tr>\n",
       "  </thead>\n",
       "  <tbody>\n",
       "    <tr>\n",
       "      <th>0</th>\n",
       "      <td>2018-01-01</td>\n",
       "      <td>112526</td>\n",
       "      <td>0.055267</td>\n",
       "      <td>5.496094</td>\n",
       "      <td>0.025833</td>\n",
       "      <td>16.171875</td>\n",
       "      <td>2018-01-01 00:00:00_112526</td>\n",
       "      <td>NaN</td>\n",
       "      <td>NaN</td>\n",
       "      <td>NaN</td>\n",
       "      <td>...</td>\n",
       "      <td>1</td>\n",
       "      <td>1</td>\n",
       "      <td>0.890625</td>\n",
       "      <td>4.632812</td>\n",
       "      <td>2.095703</td>\n",
       "      <td>15.132812</td>\n",
       "      <td>0.035126</td>\n",
       "      <td>1.479492</td>\n",
       "      <td>0.1073</td>\n",
       "      <td>10.265625</td>\n",
       "    </tr>\n",
       "    <tr>\n",
       "      <th>1</th>\n",
       "      <td>2018-01-02</td>\n",
       "      <td>112526</td>\n",
       "      <td>0.060638</td>\n",
       "      <td>3.251953</td>\n",
       "      <td>0.030487</td>\n",
       "      <td>8.539062</td>\n",
       "      <td>2018-01-02 00:00:00_112526</td>\n",
       "      <td>0.055267</td>\n",
       "      <td>5.496094</td>\n",
       "      <td>0.025833</td>\n",
       "      <td>...</td>\n",
       "      <td>2</td>\n",
       "      <td>1</td>\n",
       "      <td>0.890625</td>\n",
       "      <td>4.632812</td>\n",
       "      <td>2.095703</td>\n",
       "      <td>15.132812</td>\n",
       "      <td>0.035126</td>\n",
       "      <td>1.479492</td>\n",
       "      <td>0.1073</td>\n",
       "      <td>10.265625</td>\n",
       "    </tr>\n",
       "    <tr>\n",
       "      <th>2</th>\n",
       "      <td>2018-01-03</td>\n",
       "      <td>112526</td>\n",
       "      <td>0.029343</td>\n",
       "      <td>1.648438</td>\n",
       "      <td>0.032623</td>\n",
       "      <td>10.492188</td>\n",
       "      <td>2018-01-03 00:00:00_112526</td>\n",
       "      <td>0.060638</td>\n",
       "      <td>3.251953</td>\n",
       "      <td>0.030487</td>\n",
       "      <td>...</td>\n",
       "      <td>3</td>\n",
       "      <td>1</td>\n",
       "      <td>0.890625</td>\n",
       "      <td>4.632812</td>\n",
       "      <td>2.095703</td>\n",
       "      <td>15.132812</td>\n",
       "      <td>0.035126</td>\n",
       "      <td>1.479492</td>\n",
       "      <td>0.1073</td>\n",
       "      <td>10.265625</td>\n",
       "    </tr>\n",
       "    <tr>\n",
       "      <th>3</th>\n",
       "      <td>2018-01-04</td>\n",
       "      <td>112526</td>\n",
       "      <td>0.014801</td>\n",
       "      <td>2.666016</td>\n",
       "      <td>0.087402</td>\n",
       "      <td>19.093750</td>\n",
       "      <td>2018-01-04 00:00:00_112526</td>\n",
       "      <td>0.029343</td>\n",
       "      <td>1.648438</td>\n",
       "      <td>0.032623</td>\n",
       "      <td>...</td>\n",
       "      <td>4</td>\n",
       "      <td>1</td>\n",
       "      <td>0.890625</td>\n",
       "      <td>4.632812</td>\n",
       "      <td>2.095703</td>\n",
       "      <td>15.132812</td>\n",
       "      <td>0.035126</td>\n",
       "      <td>1.479492</td>\n",
       "      <td>0.1073</td>\n",
       "      <td>10.265625</td>\n",
       "    </tr>\n",
       "    <tr>\n",
       "      <th>4</th>\n",
       "      <td>2018-01-05</td>\n",
       "      <td>112526</td>\n",
       "      <td>0.083923</td>\n",
       "      <td>1.161133</td>\n",
       "      <td>0.024765</td>\n",
       "      <td>6.644531</td>\n",
       "      <td>2018-01-05 00:00:00_112526</td>\n",
       "      <td>0.014801</td>\n",
       "      <td>2.666016</td>\n",
       "      <td>0.087402</td>\n",
       "      <td>...</td>\n",
       "      <td>5</td>\n",
       "      <td>1</td>\n",
       "      <td>0.890625</td>\n",
       "      <td>4.632812</td>\n",
       "      <td>2.095703</td>\n",
       "      <td>15.132812</td>\n",
       "      <td>0.035126</td>\n",
       "      <td>1.479492</td>\n",
       "      <td>0.1073</td>\n",
       "      <td>10.265625</td>\n",
       "    </tr>\n",
       "    <tr>\n",
       "      <th>...</th>\n",
       "      <td>...</td>\n",
       "      <td>...</td>\n",
       "      <td>...</td>\n",
       "      <td>...</td>\n",
       "      <td>...</td>\n",
       "      <td>...</td>\n",
       "      <td>...</td>\n",
       "      <td>...</td>\n",
       "      <td>...</td>\n",
       "      <td>...</td>\n",
       "      <td>...</td>\n",
       "      <td>...</td>\n",
       "      <td>...</td>\n",
       "      <td>...</td>\n",
       "      <td>...</td>\n",
       "      <td>...</td>\n",
       "      <td>...</td>\n",
       "      <td>...</td>\n",
       "      <td>...</td>\n",
       "      <td>...</td>\n",
       "      <td>...</td>\n",
       "    </tr>\n",
       "    <tr>\n",
       "      <th>2695783</th>\n",
       "      <td>2021-07-27</td>\n",
       "      <td>685503</td>\n",
       "      <td>0.000642</td>\n",
       "      <td>0.182739</td>\n",
       "      <td>0.000482</td>\n",
       "      <td>0.574707</td>\n",
       "      <td>2021-07-27 00:00:00_685503</td>\n",
       "      <td>0.000661</td>\n",
       "      <td>0.109497</td>\n",
       "      <td>0.000882</td>\n",
       "      <td>...</td>\n",
       "      <td>208</td>\n",
       "      <td>3</td>\n",
       "      <td>0.036285</td>\n",
       "      <td>0.730469</td>\n",
       "      <td>0.048645</td>\n",
       "      <td>0.269043</td>\n",
       "      <td>0.000000</td>\n",
       "      <td>0.000000</td>\n",
       "      <td>0.0000</td>\n",
       "      <td>0.027344</td>\n",
       "    </tr>\n",
       "    <tr>\n",
       "      <th>2695784</th>\n",
       "      <td>2021-07-28</td>\n",
       "      <td>685503</td>\n",
       "      <td>0.000515</td>\n",
       "      <td>0.145020</td>\n",
       "      <td>0.000681</td>\n",
       "      <td>0.068176</td>\n",
       "      <td>2021-07-28 00:00:00_685503</td>\n",
       "      <td>0.000642</td>\n",
       "      <td>0.182739</td>\n",
       "      <td>0.000482</td>\n",
       "      <td>...</td>\n",
       "      <td>209</td>\n",
       "      <td>3</td>\n",
       "      <td>0.036285</td>\n",
       "      <td>0.730469</td>\n",
       "      <td>0.048645</td>\n",
       "      <td>0.269043</td>\n",
       "      <td>0.000000</td>\n",
       "      <td>0.000000</td>\n",
       "      <td>0.0000</td>\n",
       "      <td>0.027344</td>\n",
       "    </tr>\n",
       "    <tr>\n",
       "      <th>2695785</th>\n",
       "      <td>2021-07-29</td>\n",
       "      <td>685503</td>\n",
       "      <td>0.000535</td>\n",
       "      <td>0.139160</td>\n",
       "      <td>0.000389</td>\n",
       "      <td>0.079956</td>\n",
       "      <td>2021-07-29 00:00:00_685503</td>\n",
       "      <td>0.000515</td>\n",
       "      <td>0.145020</td>\n",
       "      <td>0.000681</td>\n",
       "      <td>...</td>\n",
       "      <td>210</td>\n",
       "      <td>3</td>\n",
       "      <td>0.036285</td>\n",
       "      <td>0.730469</td>\n",
       "      <td>0.048645</td>\n",
       "      <td>0.269043</td>\n",
       "      <td>0.000000</td>\n",
       "      <td>0.000000</td>\n",
       "      <td>0.0000</td>\n",
       "      <td>0.027344</td>\n",
       "    </tr>\n",
       "    <tr>\n",
       "      <th>2695786</th>\n",
       "      <td>2021-07-30</td>\n",
       "      <td>685503</td>\n",
       "      <td>0.000452</td>\n",
       "      <td>0.193604</td>\n",
       "      <td>0.002073</td>\n",
       "      <td>0.217041</td>\n",
       "      <td>2021-07-30 00:00:00_685503</td>\n",
       "      <td>0.000535</td>\n",
       "      <td>0.139160</td>\n",
       "      <td>0.000389</td>\n",
       "      <td>...</td>\n",
       "      <td>211</td>\n",
       "      <td>3</td>\n",
       "      <td>0.036285</td>\n",
       "      <td>0.730469</td>\n",
       "      <td>0.048645</td>\n",
       "      <td>0.269043</td>\n",
       "      <td>0.000000</td>\n",
       "      <td>0.000000</td>\n",
       "      <td>0.0000</td>\n",
       "      <td>0.027344</td>\n",
       "    </tr>\n",
       "    <tr>\n",
       "      <th>2695787</th>\n",
       "      <td>2021-07-31</td>\n",
       "      <td>685503</td>\n",
       "      <td>0.000596</td>\n",
       "      <td>0.243530</td>\n",
       "      <td>0.001622</td>\n",
       "      <td>0.223999</td>\n",
       "      <td>2021-07-31 00:00:00_685503</td>\n",
       "      <td>0.000452</td>\n",
       "      <td>0.193604</td>\n",
       "      <td>0.002073</td>\n",
       "      <td>...</td>\n",
       "      <td>212</td>\n",
       "      <td>3</td>\n",
       "      <td>0.036285</td>\n",
       "      <td>0.730469</td>\n",
       "      <td>0.048645</td>\n",
       "      <td>0.269043</td>\n",
       "      <td>0.000000</td>\n",
       "      <td>0.000000</td>\n",
       "      <td>0.0000</td>\n",
       "      <td>0.027344</td>\n",
       "    </tr>\n",
       "  </tbody>\n",
       "</table>\n",
       "<p>2695788 rows × 49 columns</p>\n",
       "</div>"
      ],
      "text/plain": [
       "                Dt  IdPlayer   target1   target2   target3    target4  \\\n",
       "0       2018-01-01    112526  0.055267  5.496094  0.025833  16.171875   \n",
       "1       2018-01-02    112526  0.060638  3.251953  0.030487   8.539062   \n",
       "2       2018-01-03    112526  0.029343  1.648438  0.032623  10.492188   \n",
       "3       2018-01-04    112526  0.014801  2.666016  0.087402  19.093750   \n",
       "4       2018-01-05    112526  0.083923  1.161133  0.024765   6.644531   \n",
       "...            ...       ...       ...       ...       ...        ...   \n",
       "2695783 2021-07-27    685503  0.000642  0.182739  0.000482   0.574707   \n",
       "2695784 2021-07-28    685503  0.000515  0.145020  0.000681   0.068176   \n",
       "2695785 2021-07-29    685503  0.000535  0.139160  0.000389   0.079956   \n",
       "2695786 2021-07-30    685503  0.000452  0.193604  0.002073   0.217041   \n",
       "2695787 2021-07-31    685503  0.000596  0.243530  0.001622   0.223999   \n",
       "\n",
       "                         IdDtPlayer  target1_shift_1  target2_shift_1  \\\n",
       "0        2018-01-01 00:00:00_112526              NaN              NaN   \n",
       "1        2018-01-02 00:00:00_112526         0.055267         5.496094   \n",
       "2        2018-01-03 00:00:00_112526         0.060638         3.251953   \n",
       "3        2018-01-04 00:00:00_112526         0.029343         1.648438   \n",
       "4        2018-01-05 00:00:00_112526         0.014801         2.666016   \n",
       "...                             ...              ...              ...   \n",
       "2695783  2021-07-27 00:00:00_685503         0.000661         0.109497   \n",
       "2695784  2021-07-28 00:00:00_685503         0.000642         0.182739   \n",
       "2695785  2021-07-29 00:00:00_685503         0.000515         0.145020   \n",
       "2695786  2021-07-30 00:00:00_685503         0.000535         0.139160   \n",
       "2695787  2021-07-31 00:00:00_685503         0.000452         0.193604   \n",
       "\n",
       "         target3_shift_1  ...  DtDayOfYear  DtQuarter  target1_pmean  \\\n",
       "0                    NaN  ...            1          1       0.890625   \n",
       "1               0.025833  ...            2          1       0.890625   \n",
       "2               0.030487  ...            3          1       0.890625   \n",
       "3               0.032623  ...            4          1       0.890625   \n",
       "4               0.087402  ...            5          1       0.890625   \n",
       "...                  ...  ...          ...        ...            ...   \n",
       "2695783         0.000882  ...          208          3       0.036285   \n",
       "2695784         0.000482  ...          209          3       0.036285   \n",
       "2695785         0.000681  ...          210          3       0.036285   \n",
       "2695786         0.000389  ...          211          3       0.036285   \n",
       "2695787         0.002073  ...          212          3       0.036285   \n",
       "\n",
       "         target2_pmean  target3_pmean  target4_pmean  target1_pmedian  \\\n",
       "0             4.632812       2.095703      15.132812         0.035126   \n",
       "1             4.632812       2.095703      15.132812         0.035126   \n",
       "2             4.632812       2.095703      15.132812         0.035126   \n",
       "3             4.632812       2.095703      15.132812         0.035126   \n",
       "4             4.632812       2.095703      15.132812         0.035126   \n",
       "...                ...            ...            ...              ...   \n",
       "2695783       0.730469       0.048645       0.269043         0.000000   \n",
       "2695784       0.730469       0.048645       0.269043         0.000000   \n",
       "2695785       0.730469       0.048645       0.269043         0.000000   \n",
       "2695786       0.730469       0.048645       0.269043         0.000000   \n",
       "2695787       0.730469       0.048645       0.269043         0.000000   \n",
       "\n",
       "         target2_pmedian  target3_pmedian  target4_pmedian  \n",
       "0               1.479492           0.1073        10.265625  \n",
       "1               1.479492           0.1073        10.265625  \n",
       "2               1.479492           0.1073        10.265625  \n",
       "3               1.479492           0.1073        10.265625  \n",
       "4               1.479492           0.1073        10.265625  \n",
       "...                  ...              ...              ...  \n",
       "2695783         0.000000           0.0000         0.027344  \n",
       "2695784         0.000000           0.0000         0.027344  \n",
       "2695785         0.000000           0.0000         0.027344  \n",
       "2695786         0.000000           0.0000         0.027344  \n",
       "2695787         0.000000           0.0000         0.027344  \n",
       "\n",
       "[2695788 rows x 49 columns]"
      ]
     },
     "execution_count": 15,
     "metadata": {},
     "output_type": "execute_result"
    }
   ],
   "source": [
    "df_train"
   ]
  },
  {
   "cell_type": "markdown",
   "metadata": {},
   "source": [
    "### Player Box Scores"
   ]
  },
  {
   "cell_type": "code",
   "execution_count": 16,
   "metadata": {
    "scrolled": true
   },
   "outputs": [
    {
     "name": "stdout",
     "output_type": "stream",
     "text": [
      "<class 'pandas.core.frame.DataFrame'>\n",
      "Int64Index: 2684030 entries, 7 to 2698456\n",
      "Columns: 106 entries, Dt to DtMinute\n",
      "dtypes: datetime64[ns](3), float16(86), float64(6), int32(1), int64(6), object(4)\n",
      "memory usage: 860.1+ MB\n"
     ]
    }
   ],
   "source": [
    "df_train = pd.merge(df_train, df_pbs, on=['IdDtPlayer'], how='left')\n",
    "\n",
    "# Substitui os valores Nan das seguintes colunas por 0\n",
    "f = [c for c in df_train.columns if c not in ['IdGame', 'DtGame', 'DtGameUTC',\n",
    "'IdPlayer_y','IdTeam','NuJersey','CdPosition', 'target1_shift_1', 'target2_shift_1',\n",
    "'target3_shift_1','target1_shift_2', 'target3_shift_2', 'target4_shift_2',\n",
    "'target1_shift_3','target2_shift_3','target3_shift_3','target4_shift_3',\n",
    "'target1_shift_4','target2_shift_4','target3_shift_4','target4_shift_4',\n",
    "'target1_shift_5','target2_shift_5','target3_shift_5','target4_shift_5',\n",
    "'target1_shift_6','target2_shift_6','target3_shift_6','target4_shift_6',\n",
    "'target1_shift_7','target2_shift_7','target3_shift_7','target4_shift_7']]\n",
    "\n",
    "df_train[f] = df_train[f].fillna(0)        \n",
    "\n",
    "# Remove os na das seguintes colunas\n",
    "df_train = df_train.dropna(subset=[             \n",
    "    'target1_shift_1', 'target2_shift_1', 'target3_shift_1', 'target1_shift_2',\n",
    "    'target3_shift_2', 'target4_shift_2', 'target1_shift_3', 'target2_shift_3',\n",
    "    'target3_shift_3', 'target4_shift_3', 'target1_shift_4', 'target2_shift_4',\n",
    "    'target3_shift_4', 'target4_shift_4', 'target1_shift_5', 'target3_shift_5',\n",
    "    'target4_shift_5', 'target1_shift_6', 'target2_shift_6', 'target3_shift_6',\n",
    "    'target4_shift_6', 'target1_shift_7', 'target2_shift_7', 'target3_shift_7',\n",
    "    'target4_shift_7'])\n",
    "\n",
    "df_train.rename(columns={'IdPlayer_x': 'IdPlayer'}, inplace=True)\n",
    "df_train.info(null_counts=True)"
   ]
  },
  {
   "cell_type": "markdown",
   "metadata": {},
   "source": [
    "### Team Box Scores"
   ]
  },
  {
   "cell_type": "code",
   "execution_count": 17,
   "metadata": {},
   "outputs": [],
   "source": [
    "df_train = pd.merge(df_train, df_tbs, on = ['IdDtTeam'], how = 'left')"
   ]
  },
  {
   "cell_type": "code",
   "execution_count": 18,
   "metadata": {},
   "outputs": [
    {
     "name": "stdout",
     "output_type": "stream",
     "text": [
      "<class 'pandas.core.frame.DataFrame'>\n",
      "Int64Index: 2693260 entries, 0 to 2693259\n",
      "Columns: 164 entries, Dt to IdDtGame_y\n",
      "dtypes: datetime64[ns](4), float16(88), float64(59), int32(1), int64(6), object(6)\n",
      "memory usage: 2.0+ GB\n"
     ]
    }
   ],
   "source": [
    "df_train.info()"
   ]
  },
  {
   "cell_type": "code",
   "execution_count": 19,
   "metadata": {},
   "outputs": [],
   "source": [
    "# Substitui os valores Nan das seguintes colunas por 0\n",
    "f = [\n",
    "    'FlgHome','NuFlyOuts_Team', 'NuGroundOuts_Team', 'NuRunsScored_Team',\n",
    "    'NuDoubles_Team', 'NuTriples_Team', 'NuHomeRuns_Team', 'NuStrikeOuts_Team',\n",
    "    'NuBaseOnBalls_Team', 'NuIntentionalWalks_Team', 'NuHits_Team', 'NuHitByPitch_Team',\n",
    "    'NuAtBats_Team', 'NuCaughtStealing_Team', 'NuStolenBases_Team', 'NuGroundIntoDoublePlay_Team',\n",
    "    'NuGroundIntoTriplePlay_Team', 'NuPlateAppearances_Team', 'NuTotalBases_Team', 'NuRbi_Team',\n",
    "    'NuLeftOnBase_Team', 'NuSacBunts_Team', 'NuSacFlies_Team', 'NuCatchersInterference_Team',\n",
    "    'NuPickoffs_Team', 'NuAirOutsPitching_Team', 'NuGroundOutsPitching_Team', 'NuRunsPitching_Team',\n",
    "    'NuDoublesPitching_Team', 'NuTriplesPitching_Team', 'NuHomeRunsPitching_Team',\n",
    "    'NuStrikeOutsPitching_Team', 'NuBaseOnBallsPitching_Team', 'NuIntentionalWalksPitching_Team',\n",
    "    'NuHitsPitching_Team', 'NuHitByPitchPitching_Team', 'NuAtBatsPitching_Team',\n",
    "    'NuCaughtStealingPitching_Team', 'NuStolenBasesPitching_Team', 'NuInningsPitched_Team',\n",
    "    'NuEarnedRuns_Team', 'NuBattersFaced_Team', 'NuOutsPitching_Team', 'NuHitBatsmen_Team',\n",
    "    'NuBalks_Team', 'NuWildPitches_Team', 'NuPickoffsPitching_Team', 'NuRbiPitching_Team',\n",
    "    'NuInheritedRunners_Team', 'NuInheritedRunnersScored_Team', 'NuCatchersInterferencePitching_Team',\n",
    "    'NuSacBuntsPitching_Team', 'NuSacFliesPitching_Team'\n",
    "]\n",
    "\n",
    "df_train[f] = df_train[f].fillna(0)        "
   ]
  },
  {
   "cell_type": "code",
   "execution_count": 20,
   "metadata": {},
   "outputs": [],
   "source": [
    "df_train = df_train.rename(columns={'IdDtGame_y': 'IdDtGame'})"
   ]
  },
  {
   "cell_type": "markdown",
   "metadata": {},
   "source": [
    "#### Games"
   ]
  },
  {
   "cell_type": "code",
   "execution_count": 21,
   "metadata": {},
   "outputs": [],
   "source": [
    "df_train = pd.merge(df_train, df_g, on = ['IdDtGame'], how = 'left')"
   ]
  },
  {
   "cell_type": "code",
   "execution_count": 22,
   "metadata": {},
   "outputs": [],
   "source": [
    "f = [\n",
    "    'NuSeason', 'NuGame',\n",
    "    'NuScheduledInnings', 'NuGamesInSeries', 'NuWinsHomeTeam',\n",
    "    'NuLossesHomeTeam', 'NuWinPctHomeTeam', 'NuScoreHomeTeam',\n",
    "    'NuWinsAwayTeam', 'NuLossesAwayTeam', 'NuWinPctAwayTeam', 'NuScoreAwayTeam'\n",
    "]\n",
    "df_train[f] = df_train[f].fillna(0)        "
   ]
  },
  {
   "cell_type": "code",
   "execution_count": 23,
   "metadata": {},
   "outputs": [
    {
     "name": "stdout",
     "output_type": "stream",
     "text": [
      "<class 'pandas.core.frame.DataFrame'>\n",
      "Int64Index: 2693260 entries, 0 to 2693259\n",
      "Columns: 188 entries, Dt to NuScoreAwayTeam\n",
      "dtypes: datetime64[ns](5), float16(88), float64(75), int32(1), int64(6), object(13)\n",
      "memory usage: 2.5+ GB\n"
     ]
    }
   ],
   "source": [
    "df_train.info(null_counts=True, max_cols = 150)"
   ]
  },
  {
   "cell_type": "code",
   "execution_count": 24,
   "metadata": {},
   "outputs": [],
   "source": [
    "df_train = pd.get_dummies(df_train, columns = ['CdPosition', \"CdGameType\", \"CdGameState\", \"CdDoubleHeader\", \n",
    "                                    \"CdDayNight\", \"FlgWinnerHomeTeam\", \"FlgWinnerAwayTeam\",'FlgTie'])"
   ]
  },
  {
   "cell_type": "code",
   "execution_count": 25,
   "metadata": {},
   "outputs": [],
   "source": [
    "# Dropa colunas com vários valores Nan\n",
    "df_train.drop([\n",
    "    'IdGame_x', 'DtGame_x', 'DtGameUTC', 'IdPlayer_y',\n",
    "    'IdTeam_x', 'IdTeam_y', \"NuGameTimeUTC_Team\", \"IdDtGame\", \"DtGame\", \"IdGame\",\n",
    "    'IdGame_y', 'NuJersey', \"DtGame_y\", \"IdHomeTeam\", \"IdAwayTeam\"], axis = 1, inplace = True)"
   ]
  },
  {
   "cell_type": "markdown",
   "metadata": {},
   "source": [
    "### Reduce memory usage"
   ]
  },
  {
   "cell_type": "code",
   "execution_count": 26,
   "metadata": {},
   "outputs": [
    {
     "name": "stdout",
     "output_type": "stream",
     "text": [
      "Memory usage of dataframe is 2103.60 MB\n",
      "Memory usage after optimization is: 1078.77 MB\n",
      "Decreased by 48.7%\n"
     ]
    }
   ],
   "source": [
    "df_train = reduce_mem_usage(df_train);"
   ]
  },
  {
   "cell_type": "markdown",
   "metadata": {},
   "source": [
    "## Save Prepared Datasets"
   ]
  },
  {
   "cell_type": "code",
   "execution_count": 27,
   "metadata": {},
   "outputs": [],
   "source": [
    "df_targets.to_pickle(processed_data_path + 'targets.pkl')\n",
    "df_pbs.to_pickle(processed_data_path + 'playerBoxScores.pkl')\n",
    "df_tbs.to_pickle(processed_data_path + 'teamBoxScores.pkl')\n",
    "df_g.to_pickle(processed_data_path + 'games.pkl')\n",
    "\n",
    "df_train.to_pickle(processed_data_path + 'train.pkl')"
   ]
  },
  {
   "cell_type": "code",
   "execution_count": 28,
   "metadata": {},
   "outputs": [
    {
     "name": "stdout",
     "output_type": "stream",
     "text": [
      "<class 'pandas.core.frame.DataFrame'>\n",
      "Int64Index: 2693260 entries, 0 to 2693259\n",
      "Columns: 195 entries, Dt to FlgTie_0.0\n",
      "dtypes: datetime64[ns](1), float16(184), int16(2), int32(1), int8(4), object(3)\n",
      "memory usage: 1.1+ GB\n"
     ]
    }
   ],
   "source": [
    "pd.read_pickle(processed_data_path + 'train.pkl').info(null_counts=True)"
   ]
  }
 ],
 "metadata": {
  "kernelspec": {
   "display_name": "Python 3 (ipykernel)",
   "language": "python",
   "name": "python3"
  },
  "language_info": {
   "codemirror_mode": {
    "name": "ipython",
    "version": 3
   },
   "file_extension": ".py",
   "mimetype": "text/x-python",
   "name": "python",
   "nbconvert_exporter": "python",
   "pygments_lexer": "ipython3",
   "version": "3.9.7"
  }
 },
 "nbformat": 4,
 "nbformat_minor": 2
}

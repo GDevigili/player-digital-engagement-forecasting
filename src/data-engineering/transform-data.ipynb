{
 "cells": [
  {
   "cell_type": "markdown",
   "metadata": {},
   "source": [
    "# Data Preparation"
   ]
  },
  {
   "cell_type": "markdown",
   "metadata": {},
   "source": [
    "## Transform Data\n",
    "\n",
    "Notebook que irá conter o código para o processamento e transformações de dados. Este notebook deve ser rodado após o notebook `pre-process-data.ipynb`.\n",
    "\n",
    "os dados \"crus\" estão localizados em `/src/data/raw-data` e os dados tratados estão salvos em `/src/data/processed-data`."
   ]
  },
  {
   "cell_type": "markdown",
   "metadata": {},
   "source": [
    "## Initial Setup"
   ]
  },
  {
   "cell_type": "code",
   "execution_count": 33,
   "metadata": {},
   "outputs": [],
   "source": [
    "# Imports\n",
    "import pandas as pd\n",
    "import numpy as np\n",
    "\n",
    "import pickle as pkl\n",
    "\n",
    "from joblib import Parallel, delayed\n",
    "\n",
    "# disable warnings\n",
    "import warnings\n",
    "warnings.filterwarnings(\"ignore\", category=DeprecationWarning)\n",
    "warnings.filterwarnings(\"ignore\", category=FutureWarning)\n",
    "pd.options.mode.chained_assignment = None  # default='warn'"
   ]
  },
  {
   "cell_type": "code",
   "execution_count": 34,
   "metadata": {},
   "outputs": [],
   "source": [
    "# Global Variables\n",
    "# file paths\n",
    "raw_data_path = '../data/raw-data/'\n",
    "processed_data_path = '../data/processed-data/'\n",
    "\n",
    "\n",
    "TARGET_COLS = ['target1', 'target2', 'target3', 'target4']\n",
    "\n",
    "RANDOM_SEED = 42\n",
    "\n",
    "TEST_SPLIT_DATE = '2021-04-30'"
   ]
  },
  {
   "cell_type": "code",
   "execution_count": 35,
   "metadata": {},
   "outputs": [],
   "source": [
    "# Loading data\n",
    "df_targets = pd.read_pickle(processed_data_path + 'targets.pkl')\n",
    "df_pbs = pd.read_pickle(processed_data_path + 'playerBoxScores.pkl')\n",
    "df_tbs = pd.read_pickle(processed_data_path + 'teamBoxScores.pkl')\n",
    "df_g = pd.read_pickle(processed_data_path + 'games.pkl')"
   ]
  },
  {
   "cell_type": "markdown",
   "metadata": {},
   "source": [
    "## Data Transformations"
   ]
  },
  {
   "cell_type": "markdown",
   "metadata": {},
   "source": [
    "### Reduce Memory Usage"
   ]
  },
  {
   "cell_type": "code",
   "execution_count": 36,
   "metadata": {},
   "outputs": [],
   "source": [
    "from pandas.api.types import is_datetime64_any_dtype as is_datetime\n",
    "\n",
    "def reduce_mem_usage(df):\n",
    "    \"\"\" iterate through all the columns of a dataframe and modify the data type\n",
    "        to reduce memory usage.        \n",
    "    \"\"\"\n",
    "    start_mem = df.memory_usage().sum() / 1024**2\n",
    "    print('Memory usage of dataframe is {:.2f} MB'.format(start_mem))\n",
    "    \n",
    "    for col in df.columns:\n",
    "        col_type = df[col].dtype\n",
    "        \n",
    "        if col_type != object and is_datetime(df[col]) == False and col_type != 'category':\n",
    "            c_min = df[col].min()\n",
    "            c_max = df[col].max()\n",
    "            if str(col_type)[:3] == 'int':\n",
    "                if c_min > np.iinfo(np.int8).min and c_max < np.iinfo(np.int8).max:\n",
    "                    df[col] = df[col].astype(np.int8)\n",
    "                elif c_min > np.iinfo(np.int16).min and c_max < np.iinfo(np.int16).max:\n",
    "                    df[col] = df[col].astype(np.int16)\n",
    "                elif c_min > np.iinfo(np.int32).min and c_max < np.iinfo(np.int32).max:\n",
    "                    df[col] = df[col].astype(np.int32)\n",
    "                elif c_min > np.iinfo(np.int64).min and c_max < np.iinfo(np.int64).max:\n",
    "                    df[col] = df[col].astype(np.int64)  \n",
    "            else:\n",
    "                if c_min > np.finfo(np.float16).min and c_max < np.finfo(np.float16).max:\n",
    "                    df[col] = df[col].astype(np.float16)\n",
    "                elif c_min > np.finfo(np.float32).min and c_max < np.finfo(np.float32).max:\n",
    "                    df[col] = df[col].astype(np.float32)\n",
    "                else:\n",
    "                    df[col] = df[col].astype(np.float64)\n",
    "        elif is_datetime(df[col]) == True:\n",
    "            df[col] = df[col].astype('datetime64[ns]')\n",
    "\n",
    "    end_mem = df.memory_usage().sum() / 1024**2\n",
    "    print('Memory usage after optimization is: {:.2f} MB'.format(end_mem))\n",
    "    print('Decreased by {:.1f}%'.format(100 * (start_mem - end_mem) / start_mem))\n",
    "    \n",
    "    return df"
   ]
  },
  {
   "cell_type": "markdown",
   "metadata": {},
   "source": [
    "#### Df Targets"
   ]
  },
  {
   "cell_type": "code",
   "execution_count": 37,
   "metadata": {},
   "outputs": [
    {
     "name": "stdout",
     "output_type": "stream",
     "text": [
      "Memory usage of dataframe is 71.99 MB\n",
      "Memory usage after optimization is: 71.99 MB\n",
      "Decreased by 0.0%\n"
     ]
    }
   ],
   "source": [
    "df_targets = reduce_mem_usage(df_targets);"
   ]
  },
  {
   "cell_type": "markdown",
   "metadata": {},
   "source": [
    "#### Player Box Scores"
   ]
  },
  {
   "cell_type": "code",
   "execution_count": 38,
   "metadata": {},
   "outputs": [
    {
     "name": "stdout",
     "output_type": "stream",
     "text": [
      "Memory usage of dataframe is 36.67 MB\n",
      "Memory usage after optimization is: 33.74 MB\n",
      "Decreased by 8.0%\n"
     ]
    }
   ],
   "source": [
    "df_pbs = reduce_mem_usage(df_pbs);"
   ]
  },
  {
   "cell_type": "markdown",
   "metadata": {},
   "source": [
    "#### Team Box Scores"
   ]
  },
  {
   "cell_type": "code",
   "execution_count": 39,
   "metadata": {},
   "outputs": [
    {
     "name": "stdout",
     "output_type": "stream",
     "text": [
      "Memory usage of dataframe is 6.72 MB\n",
      "Memory usage after optimization is: 1.43 MB\n",
      "Decreased by 78.6%\n"
     ]
    }
   ],
   "source": [
    "df_tbs = reduce_mem_usage(df_tbs);"
   ]
  },
  {
   "cell_type": "markdown",
   "metadata": {},
   "source": [
    "#### Games"
   ]
  },
  {
   "cell_type": "code",
   "execution_count": 40,
   "metadata": {},
   "outputs": [
    {
     "name": "stdout",
     "output_type": "stream",
     "text": [
      "Memory usage of dataframe is 1.68 MB\n"
     ]
    },
    {
     "ename": "AttributeError",
     "evalue": "'DataFrame' object has no attribute 'dtype'",
     "output_type": "error",
     "traceback": [
      "\u001b[1;31m---------------------------------------------------------------------------\u001b[0m",
      "\u001b[1;31mAttributeError\u001b[0m                            Traceback (most recent call last)",
      "\u001b[1;32m~\\AppData\\Local\\Temp\\ipykernel_13196\\164703882.py\u001b[0m in \u001b[0;36m<cell line: 1>\u001b[1;34m()\u001b[0m\n\u001b[1;32m----> 1\u001b[1;33m \u001b[0mdf_g\u001b[0m \u001b[1;33m=\u001b[0m \u001b[0mreduce_mem_usage\u001b[0m\u001b[1;33m(\u001b[0m\u001b[0mdf_g\u001b[0m\u001b[1;33m)\u001b[0m\u001b[1;33m;\u001b[0m\u001b[1;33m\u001b[0m\u001b[1;33m\u001b[0m\u001b[0m\n\u001b[0m",
      "\u001b[1;32m~\\AppData\\Local\\Temp\\ipykernel_13196\\1629198551.py\u001b[0m in \u001b[0;36mreduce_mem_usage\u001b[1;34m(df)\u001b[0m\n\u001b[0;32m      9\u001b[0m \u001b[1;33m\u001b[0m\u001b[0m\n\u001b[0;32m     10\u001b[0m     \u001b[1;32mfor\u001b[0m \u001b[0mcol\u001b[0m \u001b[1;32min\u001b[0m \u001b[0mdf\u001b[0m\u001b[1;33m.\u001b[0m\u001b[0mcolumns\u001b[0m\u001b[1;33m:\u001b[0m\u001b[1;33m\u001b[0m\u001b[1;33m\u001b[0m\u001b[0m\n\u001b[1;32m---> 11\u001b[1;33m         \u001b[0mcol_type\u001b[0m \u001b[1;33m=\u001b[0m \u001b[0mdf\u001b[0m\u001b[1;33m[\u001b[0m\u001b[0mcol\u001b[0m\u001b[1;33m]\u001b[0m\u001b[1;33m.\u001b[0m\u001b[0mdtype\u001b[0m\u001b[1;33m\u001b[0m\u001b[1;33m\u001b[0m\u001b[0m\n\u001b[0m\u001b[0;32m     12\u001b[0m \u001b[1;33m\u001b[0m\u001b[0m\n\u001b[0;32m     13\u001b[0m         \u001b[1;32mif\u001b[0m \u001b[0mcol_type\u001b[0m \u001b[1;33m!=\u001b[0m \u001b[0mobject\u001b[0m \u001b[1;32mand\u001b[0m \u001b[0mis_datetime\u001b[0m\u001b[1;33m(\u001b[0m\u001b[0mdf\u001b[0m\u001b[1;33m[\u001b[0m\u001b[0mcol\u001b[0m\u001b[1;33m]\u001b[0m\u001b[1;33m)\u001b[0m \u001b[1;33m==\u001b[0m \u001b[1;32mFalse\u001b[0m \u001b[1;32mand\u001b[0m \u001b[0mcol_type\u001b[0m \u001b[1;33m!=\u001b[0m \u001b[1;34m'category'\u001b[0m\u001b[1;33m:\u001b[0m\u001b[1;33m\u001b[0m\u001b[1;33m\u001b[0m\u001b[0m\n",
      "\u001b[1;32m~\\anaconda3\\lib\\site-packages\\pandas\\core\\generic.py\u001b[0m in \u001b[0;36m__getattr__\u001b[1;34m(self, name)\u001b[0m\n\u001b[0;32m   5573\u001b[0m         ):\n\u001b[0;32m   5574\u001b[0m             \u001b[1;32mreturn\u001b[0m \u001b[0mself\u001b[0m\u001b[1;33m[\u001b[0m\u001b[0mname\u001b[0m\u001b[1;33m]\u001b[0m\u001b[1;33m\u001b[0m\u001b[1;33m\u001b[0m\u001b[0m\n\u001b[1;32m-> 5575\u001b[1;33m         \u001b[1;32mreturn\u001b[0m \u001b[0mobject\u001b[0m\u001b[1;33m.\u001b[0m\u001b[0m__getattribute__\u001b[0m\u001b[1;33m(\u001b[0m\u001b[0mself\u001b[0m\u001b[1;33m,\u001b[0m \u001b[0mname\u001b[0m\u001b[1;33m)\u001b[0m\u001b[1;33m\u001b[0m\u001b[1;33m\u001b[0m\u001b[0m\n\u001b[0m\u001b[0;32m   5576\u001b[0m \u001b[1;33m\u001b[0m\u001b[0m\n\u001b[0;32m   5577\u001b[0m     \u001b[1;32mdef\u001b[0m \u001b[0m__setattr__\u001b[0m\u001b[1;33m(\u001b[0m\u001b[0mself\u001b[0m\u001b[1;33m,\u001b[0m \u001b[0mname\u001b[0m\u001b[1;33m:\u001b[0m \u001b[0mstr\u001b[0m\u001b[1;33m,\u001b[0m \u001b[0mvalue\u001b[0m\u001b[1;33m)\u001b[0m \u001b[1;33m->\u001b[0m \u001b[1;32mNone\u001b[0m\u001b[1;33m:\u001b[0m\u001b[1;33m\u001b[0m\u001b[1;33m\u001b[0m\u001b[0m\n",
      "\u001b[1;31mAttributeError\u001b[0m: 'DataFrame' object has no attribute 'dtype'"
     ]
    }
   ],
   "source": [
    "df_g = reduce_mem_usage(df_g);"
   ]
  },
  {
   "cell_type": "markdown",
   "metadata": {},
   "source": [
    "### Sorting and Shifting"
   ]
  },
  {
   "cell_type": "code",
   "execution_count": 41,
   "metadata": {},
   "outputs": [],
   "source": [
    "# Funções auxiliares para o pré-processamento dos dados\n",
    "def sort_df(df: pd.DataFrame, columns: list = ['IdPlayer', 'Dt']) -> None:\n",
    "    \"\"\"Sort the dataframe by the columns passed as argument.\n",
    "    \n",
    "    Args:\n",
    "        df (pd.DataFrame): Dataframe to be sorted.\n",
    "        columns (list, optional): Columns to sort the dataframe. Defaults to ['IdPlayer', 'Dt'].\n",
    "        \n",
    "        Returns:\n",
    "            None\n",
    "    \"\"\"\n",
    "    df.sort_values(by=columns, inplace=True)\n",
    "    # reset index\n",
    "    df.reset_index(drop=True, inplace=True)\n",
    "\n",
    "\n",
    "def shift_targets(df, shift_vals: list = [1, 2, 3, 4, 5, 6, 7, 14, 30]):\n",
    "    \"\"\"Shift the targets by the values passed as argument.\n",
    "\n",
    "    Args:\n",
    "        df (pd.DataFrame): Dataframe to be shifted.\n",
    "        shift_vals (list, optional): Values to shift the targets. Defaults to [1, 2, 3, 4, 5, 6, 7, 14, 30].\n",
    "\n",
    "    Returns:\n",
    "        pd.DataFrame: Dataframe with the shifted targets.\n",
    "    \"\"\"\n",
    "    df_aux = pd.DataFrame()\n",
    "    # Iterate over players to make the shift only using the player data\n",
    "    for player in df['IdPlayer'].unique():\n",
    "        df_player = df[df['IdPlayer'] == player]\n",
    "        # Iterate over the pre-defined shift values\n",
    "        for shift_val in shift_vals:\n",
    "            # Iterate over the targets\n",
    "            for target in TARGET_COLS:\n",
    "                # Make the shift\n",
    "                df_player[f'{target}_shift_{shift_val}'] = df_player[target].shift(shift_val)\n",
    "        # Concatenate the player data with the rest of the data\n",
    "        df_aux = pd.concat([df_aux, df_player], axis=0)\n",
    "        # Remove the player data from memory\n",
    "        del df_player\n",
    "    # df.dropna(inplace=True)\n",
    "    return df_aux\n",
    "\n",
    "\n",
    "def train_test_split(\n",
    "    df: pd.DataFrame\n",
    "    ,test_split_date: str = TEST_SPLIT_DATE\n",
    "    ):\n",
    "    \"\"\"Split the dataframe into train and test sets.\n",
    "\n",
    "    Args:\n",
    "        df (pd.DataFrame): Dataframe to be split.\n",
    "        test_split_date (str, optional): Date to split the dataframe. Defaults to TEST_SPLIT_DATE.\n",
    "    \"\"\"\n",
    "\n",
    "    train = df[(df.Dt <= \"2021-01-31\") & (df.Dt >= \"2018-01-01\")] \n",
    "    val = df[(df.Dt <= \"2021-04-30\") & (df.Dt >= \"2021-02-01\")] \n",
    "    test = df[(df.Dt <= \"2021-07-31\") & (df.Dt >= \"2021-05-01\")]\n",
    "    # train.to_csv('train.csv', index=None)\n",
    "    # val.to_csv('validation.csv', index=None) \n",
    "    # test.to_csv('test.csv', index=None) \n",
    "\n",
    "    return train, test, val\n",
    "\n",
    "\n",
    "def x_y_split(df: pd.DataFrame, target_cols: list = TARGET_COLS):\n",
    "    \"\"\"Split the dataframe into x and y sets.\n",
    "\n",
    "    Args:\n",
    "        df (pd.DataFrame): Dataframe to be split.\n",
    "    \"\"\"\n",
    "    y = df[target_cols]\n",
    "    x = df.drop(target_cols, axis=1)\n",
    "    return x, y"
   ]
  },
  {
   "cell_type": "code",
   "execution_count": 42,
   "metadata": {},
   "outputs": [
    {
     "name": "stdout",
     "output_type": "stream",
     "text": [
      "Wall time: 2min 33s\n"
     ]
    }
   ],
   "source": [
    "%%time\n",
    "sort_df(df_targets)\n",
    "df_train = shift_targets(df_targets, shift_vals=[1, 2, 3, 4, 5, 6, 7])"
   ]
  },
  {
   "cell_type": "markdown",
   "metadata": {},
   "source": [
    "## Feature Engineering"
   ]
  },
  {
   "cell_type": "markdown",
   "metadata": {},
   "source": [
    "### Datetime"
   ]
  },
  {
   "cell_type": "code",
   "execution_count": 43,
   "metadata": {},
   "outputs": [],
   "source": [
    "# Transform the datetime col into new features\n",
    "df_train['DtYear'] = df_train['Dt'].dt.year\n",
    "df_train['DtMonth'] = df_train['Dt'].dt.month\n",
    "df_train['DtDay'] = df_train['Dt'].dt.day\n",
    "df_train['DtDayOfWeek'] = df_train['Dt'].dt.dayofweek\n",
    "df_train['DtDayOfYear'] = df_train['Dt'].dt.dayofyear\n",
    "df_train['DtQuarter'] = df_train['Dt'].dt.quarter\n",
    "# get the hour and minute from the PBS\n",
    "df_pbs['DtHour'] = df_pbs['DtGameUTC'].dt.hour\n",
    "df_pbs['DtMinute'] = df_pbs['DtGameUTC'].dt.minute\n",
    "df_pbs['DtHour'][df_pbs['DtHour'] == 0] = 24"
   ]
  },
  {
   "cell_type": "markdown",
   "metadata": {},
   "source": [
    "## Joining Datasets"
   ]
  },
  {
   "cell_type": "markdown",
   "metadata": {},
   "source": [
    "### Player Box Scores"
   ]
  },
  {
   "cell_type": "code",
   "execution_count": 44,
   "metadata": {
    "scrolled": true
   },
   "outputs": [
    {
     "name": "stdout",
     "output_type": "stream",
     "text": [
      "<class 'pandas.core.frame.DataFrame'>\n",
      "Int64Index: 2684030 entries, 7 to 2698456\n",
      "Data columns (total 98 columns):\n",
      " #   Column                           Non-Null Count    Dtype         \n",
      "---  ------                           --------------    -----         \n",
      " 0   Dt                               2684030 non-null  datetime64[ns]\n",
      " 1   IdPlayer                         2684030 non-null  int32         \n",
      " 2   target1                          2684030 non-null  float16       \n",
      " 3   target2                          2684030 non-null  float16       \n",
      " 4   target3                          2684030 non-null  float16       \n",
      " 5   target4                          2684030 non-null  float16       \n",
      " 6   IdDtPlayer                       2684030 non-null  object        \n",
      " 7   target1_shift_1                  2684030 non-null  float16       \n",
      " 8   target2_shift_1                  2684030 non-null  float16       \n",
      " 9   target3_shift_1                  2684030 non-null  float16       \n",
      " 10  target4_shift_1                  2684030 non-null  float16       \n",
      " 11  target1_shift_2                  2684030 non-null  float16       \n",
      " 12  target2_shift_2                  2684030 non-null  float16       \n",
      " 13  target3_shift_2                  2684030 non-null  float16       \n",
      " 14  target4_shift_2                  2684030 non-null  float16       \n",
      " 15  target1_shift_3                  2684030 non-null  float16       \n",
      " 16  target2_shift_3                  2684030 non-null  float16       \n",
      " 17  target3_shift_3                  2684030 non-null  float16       \n",
      " 18  target4_shift_3                  2684030 non-null  float16       \n",
      " 19  target1_shift_4                  2684030 non-null  float16       \n",
      " 20  target2_shift_4                  2684030 non-null  float16       \n",
      " 21  target3_shift_4                  2684030 non-null  float16       \n",
      " 22  target4_shift_4                  2684030 non-null  float16       \n",
      " 23  target1_shift_5                  2684030 non-null  float16       \n",
      " 24  target2_shift_5                  2684030 non-null  float16       \n",
      " 25  target3_shift_5                  2684030 non-null  float16       \n",
      " 26  target4_shift_5                  2684030 non-null  float16       \n",
      " 27  target1_shift_6                  2684030 non-null  float16       \n",
      " 28  target2_shift_6                  2684030 non-null  float16       \n",
      " 29  target3_shift_6                  2684030 non-null  float16       \n",
      " 30  target4_shift_6                  2684030 non-null  float16       \n",
      " 31  target1_shift_7                  2684030 non-null  float16       \n",
      " 32  target2_shift_7                  2684030 non-null  float16       \n",
      " 33  target3_shift_7                  2684030 non-null  float16       \n",
      " 34  target4_shift_7                  2684030 non-null  float16       \n",
      " 35  DtYear                           2684030 non-null  int64         \n",
      " 36  DtMonth                          2684030 non-null  int64         \n",
      " 37  DtDay                            2684030 non-null  int64         \n",
      " 38  DtDayOfWeek                      2684030 non-null  int64         \n",
      " 39  DtDayOfYear                      2684030 non-null  int64         \n",
      " 40  DtQuarter                        2684030 non-null  int64         \n",
      " 41  IdGame                           218800 non-null   float64       \n",
      " 42  DtGame                           218800 non-null   datetime64[ns]\n",
      " 43  DtGameUTC                        218800 non-null   datetime64[ns]\n",
      " 44  IdPlayer_y                       218800 non-null   float64       \n",
      " 45  IdTeam                           218800 non-null   float64       \n",
      " 46  NuJersey                         218763 non-null   object        \n",
      " 47  CdPosition                       218800 non-null   float64       \n",
      " 48  NuStrikeOutsPitching             2684030 non-null  float16       \n",
      " 49  NuBattingOrder_Player            2684030 non-null  float16       \n",
      " 50  NuGamesPlayedBatting_Player      2684030 non-null  float16       \n",
      " 51  NuFlyOuts_Player                 2684030 non-null  float16       \n",
      " 52  NuGroundOuts_Player              2684030 non-null  float16       \n",
      " 53  NuRunsScored_Player              2684030 non-null  float16       \n",
      " 54  NuDoubles_Player                 2684030 non-null  float16       \n",
      " 55  NuTriples_Player                 2684030 non-null  float16       \n",
      " 56  NuHomeRuns_Player                2684030 non-null  float16       \n",
      " 57  NuStrikeOuts_Player              2684030 non-null  float16       \n",
      " 58  NuBaseOnBalls_Player             2684030 non-null  float16       \n",
      " 59  NuIntentionalWalks_Player        2684030 non-null  float16       \n",
      " 60  NuHits_Player                    2684030 non-null  float16       \n",
      " 61  NuHitByPitch_Player              2684030 non-null  float16       \n",
      " 62  NuAtBats_Player                  2684030 non-null  float16       \n",
      " 63  NuCaughtStealing_Player          2684030 non-null  float16       \n",
      " 64  NuStolenBases_Player             2684030 non-null  float16       \n",
      " 65  NuGroundIntoDoublePlay_Player    2684030 non-null  float16       \n",
      " 66  NuGroundIntoTriplePlay_Player    2684030 non-null  float16       \n",
      " 67  NuPlateAppearances_Player        2684030 non-null  float16       \n",
      " 68  NuTotalBases_Player              2684030 non-null  float16       \n",
      " 69  NuRbi_Player                     2684030 non-null  float16       \n",
      " 70  NuLeftOnBase_Player              2684030 non-null  float16       \n",
      " 71  NuSacBunts_Player                2684030 non-null  float16       \n",
      " 72  NuSacFlies_Player                2684030 non-null  float16       \n",
      " 73  NuCatchersInterference_Player    2684030 non-null  float16       \n",
      " 74  NuPickoffs_Player                2684030 non-null  float16       \n",
      " 75  NuInningsPitched_Player          2684030 non-null  float16       \n",
      " 76  NuSaveOpportunities_Player       2684030 non-null  float16       \n",
      " 77  NuEarnedRuns_Player              2684030 non-null  float16       \n",
      " 78  NuBattersFaced_Player            2684030 non-null  float16       \n",
      " 79  NuPitchesThrown_Player           2684030 non-null  float16       \n",
      " 80  NuBalls_Player                   2684030 non-null  float16       \n",
      " 81  NuStrikes_Player                 2684030 non-null  float16       \n",
      " 82  NuHitBatsmen_Player              2684030 non-null  float16       \n",
      " 83  NuBalks_Player                   2684030 non-null  float16       \n",
      " 84  NuWildPitches_Player             2684030 non-null  float16       \n",
      " 85  NuInheritedRunners_Player        2684030 non-null  float16       \n",
      " 86  NuInheritedRunnersScored_Player  2684030 non-null  float16       \n",
      " 87  NuSaves_Player                   2684030 non-null  float16       \n",
      " 88  NuHolds_Player                   2684030 non-null  float16       \n",
      " 89  NuBlownSaves_Player              2684030 non-null  float16       \n",
      " 90  NuAssists_Player                 2684030 non-null  float16       \n",
      " 91  NuPutOuts_Player                 2684030 non-null  float16       \n",
      " 92  NuErrors_Player                  2684030 non-null  float16       \n",
      " 93  NuChances_Player                 2684030 non-null  float16       \n",
      " 94  IdDtTeam                         2684030 non-null  object        \n",
      " 95  IdDtGame                         2684030 non-null  object        \n",
      " 96  DtHour                           2684030 non-null  float64       \n",
      " 97  DtMinute                         2684030 non-null  float64       \n",
      "dtypes: datetime64[ns](3), float16(78), float64(6), int32(1), int64(6), object(4)\n",
      "memory usage: 819.1+ MB\n"
     ]
    }
   ],
   "source": [
    "df_train = pd.merge(df_train, df_pbs, on=['IdDtPlayer'], how='left')\n",
    "\n",
    "# Substitui os valores Nan das seguintes colunas por 0\n",
    "f = [c for c in df_train.columns if c not in ['IdGame', 'DtGame', 'DtGameUTC',\n",
    "'IdPlayer_y','IdTeam','NuJersey','CdPosition', 'target1_shift_1', 'target2_shift_1',\n",
    "'target3_shift_1','target1_shift_2', 'target3_shift_2', 'target4_shift_2',\n",
    "'target1_shift_3','target2_shift_3','target3_shift_3','target4_shift_3',\n",
    "'target1_shift_4','target2_shift_4','target3_shift_4','target4_shift_4',\n",
    "'target1_shift_5','target2_shift_5','target3_shift_5','target4_shift_5',\n",
    "'target1_shift_6','target2_shift_6','target3_shift_6','target4_shift_6',\n",
    "'target1_shift_7','target2_shift_7','target3_shift_7','target4_shift_7']]\n",
    "\n",
    "df_train[f] = df_train[f].fillna(0)        \n",
    "\n",
    "# Remove os na das seguintes colunas\n",
    "df_train = df_train.dropna(subset=[             \n",
    "    'target1_shift_1', 'target2_shift_1', 'target3_shift_1', 'target1_shift_2',\n",
    "    'target3_shift_2', 'target4_shift_2', 'target1_shift_3', 'target2_shift_3',\n",
    "    'target3_shift_3', 'target4_shift_3', 'target1_shift_4', 'target2_shift_4',\n",
    "    'target3_shift_4', 'target4_shift_4', 'target1_shift_5', 'target3_shift_5',\n",
    "    'target4_shift_5', 'target1_shift_6', 'target2_shift_6', 'target3_shift_6',\n",
    "    'target4_shift_6', 'target1_shift_7', 'target2_shift_7', 'target3_shift_7',\n",
    "    'target4_shift_7'])\n",
    "\n",
    "df_train.rename(columns={'IdPlayer_x': 'IdPlayer'}, inplace=True)\n",
    "df_train.info(null_counts=True)"
   ]
  },
  {
   "cell_type": "markdown",
   "metadata": {},
   "source": [
    "### Team Box Scores"
   ]
  },
  {
   "cell_type": "code",
   "execution_count": 25,
   "metadata": {},
   "outputs": [],
   "source": [
    "df_train = pd.merge(df_train, df_tbs, on = ['IdDtTeam'], how = 'left')"
   ]
  },
  {
   "cell_type": "code",
   "execution_count": 29,
   "metadata": {},
   "outputs": [
    {
     "name": "stdout",
     "output_type": "stream",
     "text": [
      "<class 'pandas.core.frame.DataFrame'>\n",
      "Int64Index: 2693260 entries, 0 to 2693259\n",
      "Columns: 156 entries, Dt to IdDtGame_y\n",
      "dtypes: datetime64[ns](4), float16(80), float64(59), int32(1), int64(6), object(6)\n",
      "memory usage: 1.9+ GB\n"
     ]
    }
   ],
   "source": [
    "df_train.info()"
   ]
  },
  {
   "cell_type": "code",
   "execution_count": 34,
   "metadata": {},
   "outputs": [],
   "source": [
    "# Substitui os valores Nan das seguintes colunas por 0\n",
    "f = [\n",
    "    'FlgHome','NuFlyOuts_Team', 'NuGroundOuts_Team', 'NuRunsScored_Team',\n",
    "    'NuDoubles_Team', 'NuTriples_Team', 'NuHomeRuns_Team', 'NuStrikeOuts_Team',\n",
    "    'NuBaseOnBalls_Team', 'NuIntentionalWalks_Team', 'NuHits_Team', 'NuHitByPitch_Team',\n",
    "    'NuAtBats_Team', 'NuCaughtStealing_Team', 'NuStolenBases_Team', 'NuGroundIntoDoublePlay_Team',\n",
    "    'NuGroundIntoTriplePlay_Team', 'NuPlateAppearances_Team', 'NuTotalBases_Team', 'NuRbi_Team',\n",
    "    'NuLeftOnBase_Team', 'NuSacBunts_Team', 'NuSacFlies_Team', 'NuCatchersInterference_Team',\n",
    "    'NuPickoffs_Team', 'NuAirOutsPitching_Team', 'NuGroundOutsPitching_Team', 'NuRunsPitching_Team',\n",
    "    'NuDoublesPitching_Team', 'NuTriplesPitching_Team', 'NuHomeRunsPitching_Team',\n",
    "    'NuStrikeOutsPitching_Team', 'NuBaseOnBallsPitching_Team', 'NuIntentionalWalksPitching_Team',\n",
    "    'NuHitsPitching_Team', 'NuHitByPitchPitching_Team', 'NuAtBatsPitching_Team',\n",
    "    'NuCaughtStealingPitching_Team', 'NuStolenBasesPitching_Team', 'NuInningsPitched_Team',\n",
    "    'NuEarnedRuns_Team', 'NuBattersFaced_Team', 'NuOutsPitching_Team', 'NuHitBatsmen_Team',\n",
    "    'NuBalks_Team', 'NuWildPitches_Team', 'NuPickoffsPitching_Team', 'NuRbiPitching_Team',\n",
    "    'NuInheritedRunners_Team', 'NuInheritedRunnersScored_Team', 'NuCatchersInterferencePitching_Team',\n",
    "    'NuSacBuntsPitching_Team', 'NuSacFliesPitching_Team'\n",
    "]\n",
    "\n",
    "df_train[f] = df_train[f].fillna(0)        "
   ]
  },
  {
   "cell_type": "markdown",
   "metadata": {},
   "source": [
    "#### Games"
   ]
  },
  {
   "cell_type": "code",
   "execution_count": 45,
   "metadata": {},
   "outputs": [],
   "source": [
    "df_train = pd.merge(df_train, df_g, on = ['IdDtGame'], how = 'left')"
   ]
  },
  {
   "cell_type": "code",
   "execution_count": 49,
   "metadata": {},
   "outputs": [],
   "source": [
    "f = [\n",
    "    'NuSeason', 'FlgTie', 'NuGame',\n",
    "    'NuScheduledInnings', 'NuGamesInSeries', 'NuWinsHomeTeam',\n",
    "    'NuLossesHomeTeam', 'NuWinPctHomeTeam', 'NuScoreHomeTeam',\n",
    "    'NuWinsAwayTeam', 'NuLossesAwayTeam', 'NuWinPctAwayTeam', 'NuScoreAwayTeam'\n",
    "]\n",
    "df_train[f] = df_train[f].fillna(0)        "
   ]
  },
  {
   "cell_type": "code",
   "execution_count": 50,
   "metadata": {},
   "outputs": [
    {
     "name": "stdout",
     "output_type": "stream",
     "text": [
      "<class 'pandas.core.frame.DataFrame'>\n",
      "Int64Index: 2684030 entries, 0 to 2684029\n",
      "Data columns (total 122 columns):\n",
      " #    Column                           Non-Null Count    Dtype         \n",
      "---   ------                           --------------    -----         \n",
      " 0    Dt                               2684030 non-null  datetime64[ns]\n",
      " 1    IdPlayer                         2684030 non-null  int32         \n",
      " 2    target1                          2684030 non-null  float16       \n",
      " 3    target2                          2684030 non-null  float16       \n",
      " 4    target3                          2684030 non-null  float16       \n",
      " 5    target4                          2684030 non-null  float16       \n",
      " 6    IdDtPlayer                       2684030 non-null  object        \n",
      " 7    target1_shift_1                  2684030 non-null  float16       \n",
      " 8    target2_shift_1                  2684030 non-null  float16       \n",
      " 9    target3_shift_1                  2684030 non-null  float16       \n",
      " 10   target4_shift_1                  2684030 non-null  float16       \n",
      " 11   target1_shift_2                  2684030 non-null  float16       \n",
      " 12   target2_shift_2                  2684030 non-null  float16       \n",
      " 13   target3_shift_2                  2684030 non-null  float16       \n",
      " 14   target4_shift_2                  2684030 non-null  float16       \n",
      " 15   target1_shift_3                  2684030 non-null  float16       \n",
      " 16   target2_shift_3                  2684030 non-null  float16       \n",
      " 17   target3_shift_3                  2684030 non-null  float16       \n",
      " 18   target4_shift_3                  2684030 non-null  float16       \n",
      " 19   target1_shift_4                  2684030 non-null  float16       \n",
      " 20   target2_shift_4                  2684030 non-null  float16       \n",
      " 21   target3_shift_4                  2684030 non-null  float16       \n",
      " 22   target4_shift_4                  2684030 non-null  float16       \n",
      " 23   target1_shift_5                  2684030 non-null  float16       \n",
      " 24   target2_shift_5                  2684030 non-null  float16       \n",
      " 25   target3_shift_5                  2684030 non-null  float16       \n",
      " 26   target4_shift_5                  2684030 non-null  float16       \n",
      " 27   target1_shift_6                  2684030 non-null  float16       \n",
      " 28   target2_shift_6                  2684030 non-null  float16       \n",
      " 29   target3_shift_6                  2684030 non-null  float16       \n",
      " 30   target4_shift_6                  2684030 non-null  float16       \n",
      " 31   target1_shift_7                  2684030 non-null  float16       \n",
      " 32   target2_shift_7                  2684030 non-null  float16       \n",
      " 33   target3_shift_7                  2684030 non-null  float16       \n",
      " 34   target4_shift_7                  2684030 non-null  float16       \n",
      " 35   DtYear                           2684030 non-null  int64         \n",
      " 36   DtMonth                          2684030 non-null  int64         \n",
      " 37   DtDay                            2684030 non-null  int64         \n",
      " 38   DtDayOfWeek                      2684030 non-null  int64         \n",
      " 39   DtDayOfYear                      2684030 non-null  int64         \n",
      " 40   DtQuarter                        2684030 non-null  int64         \n",
      " 41   IdGame_x                         218800 non-null   float64       \n",
      " 42   DtGame_x                         218800 non-null   datetime64[ns]\n",
      " 43   DtGameUTC                        218800 non-null   datetime64[ns]\n",
      " 44   IdPlayer_y                       218800 non-null   float64       \n",
      " 45   IdTeam                           218800 non-null   float64       \n",
      " 46   NuJersey                         218763 non-null   object        \n",
      " 47   CdPosition                       218800 non-null   float64       \n",
      " 48   NuStrikeOutsPitching             2684030 non-null  float16       \n",
      " 49   NuBattingOrder_Player            2684030 non-null  float16       \n",
      " 50   NuGamesPlayedBatting_Player      2684030 non-null  float16       \n",
      " 51   NuFlyOuts_Player                 2684030 non-null  float16       \n",
      " 52   NuGroundOuts_Player              2684030 non-null  float16       \n",
      " 53   NuRunsScored_Player              2684030 non-null  float16       \n",
      " 54   NuDoubles_Player                 2684030 non-null  float16       \n",
      " 55   NuTriples_Player                 2684030 non-null  float16       \n",
      " 56   NuHomeRuns_Player                2684030 non-null  float16       \n",
      " 57   NuStrikeOuts_Player              2684030 non-null  float16       \n",
      " 58   NuBaseOnBalls_Player             2684030 non-null  float16       \n",
      " 59   NuIntentionalWalks_Player        2684030 non-null  float16       \n",
      " 60   NuHits_Player                    2684030 non-null  float16       \n",
      " 61   NuHitByPitch_Player              2684030 non-null  float16       \n",
      " 62   NuAtBats_Player                  2684030 non-null  float16       \n",
      " 63   NuCaughtStealing_Player          2684030 non-null  float16       \n",
      " 64   NuStolenBases_Player             2684030 non-null  float16       \n",
      " 65   NuGroundIntoDoublePlay_Player    2684030 non-null  float16       \n",
      " 66   NuGroundIntoTriplePlay_Player    2684030 non-null  float16       \n",
      " 67   NuPlateAppearances_Player        2684030 non-null  float16       \n",
      " 68   NuTotalBases_Player              2684030 non-null  float16       \n",
      " 69   NuRbi_Player                     2684030 non-null  float16       \n",
      " 70   NuLeftOnBase_Player              2684030 non-null  float16       \n",
      " 71   NuSacBunts_Player                2684030 non-null  float16       \n",
      " 72   NuSacFlies_Player                2684030 non-null  float16       \n",
      " 73   NuCatchersInterference_Player    2684030 non-null  float16       \n",
      " 74   NuPickoffs_Player                2684030 non-null  float16       \n",
      " 75   NuInningsPitched_Player          2684030 non-null  float16       \n",
      " 76   NuSaveOpportunities_Player       2684030 non-null  float16       \n",
      " 77   NuEarnedRuns_Player              2684030 non-null  float16       \n",
      " 78   NuBattersFaced_Player            2684030 non-null  float16       \n",
      " 79   NuPitchesThrown_Player           2684030 non-null  float16       \n",
      " 80   NuBalls_Player                   2684030 non-null  float16       \n",
      " 81   NuStrikes_Player                 2684030 non-null  float16       \n",
      " 82   NuHitBatsmen_Player              2684030 non-null  float16       \n",
      " 83   NuBalks_Player                   2684030 non-null  float16       \n",
      " 84   NuWildPitches_Player             2684030 non-null  float16       \n",
      " 85   NuInheritedRunners_Player        2684030 non-null  float16       \n",
      " 86   NuInheritedRunnersScored_Player  2684030 non-null  float16       \n",
      " 87   NuSaves_Player                   2684030 non-null  float16       \n",
      " 88   NuHolds_Player                   2684030 non-null  float16       \n",
      " 89   NuBlownSaves_Player              2684030 non-null  float16       \n",
      " 90   NuAssists_Player                 2684030 non-null  float16       \n",
      " 91   NuPutOuts_Player                 2684030 non-null  float16       \n",
      " 92   NuErrors_Player                  2684030 non-null  float16       \n",
      " 93   NuChances_Player                 2684030 non-null  float16       \n",
      " 94   IdDtTeam                         2684030 non-null  object        \n",
      " 95   IdDtGame                         2684030 non-null  object        \n",
      " 96   DtHour                           2684030 non-null  float64       \n",
      " 97   DtMinute                         2684030 non-null  float64       \n",
      " 98   IdGame_y                         218800 non-null   float64       \n",
      " 99   CdGameType                       218800 non-null   object        \n",
      " 100  NuSeason                         2684030 non-null  float64       \n",
      " 101  DtGame_y                         218800 non-null   datetime64[ns]\n",
      " 102  CdGameState                      218800 non-null   object        \n",
      " 103  CdGameState                      218800 non-null   object        \n",
      " 104  FlgTie                           2684030 non-null  float64       \n",
      " 105  NuGame                           2684030 non-null  float64       \n",
      " 106  CdDoubleHeader                   218800 non-null   object        \n",
      " 107  CdDayNight                       218800 non-null   object        \n",
      " 108  NuScheduledInnings               2684030 non-null  float64       \n",
      " 109  NuGamesInSeries                  2684030 non-null  float64       \n",
      " 110  IdHomeTeam                       218800 non-null   float64       \n",
      " 111  NuWinsHomeTeam                   2684030 non-null  float64       \n",
      " 112  NuLossesHomeTeam                 2684030 non-null  float64       \n",
      " 113  NuWinPctHomeTeam                 2684030 non-null  float64       \n",
      " 114  FlgWinnerHomeTeam                218800 non-null   object        \n",
      " 115  NuScoreHomeTeam                  2684030 non-null  float64       \n",
      " 116  IdAwayTeam                       218800 non-null   float64       \n",
      " 117  NuWinsAwayTeam                   2684030 non-null  float64       \n",
      " 118  NuLossesAwayTeam                 2684030 non-null  float64       \n",
      " 119  NuWinPctAwayTeam                 2684030 non-null  float64       \n",
      " 120  FlgWinnerAwayTeam                218800 non-null   object        \n",
      " 121  NuScoreAwayTeam                  2684030 non-null  float64       \n",
      "dtypes: datetime64[ns](4), float16(78), float64(22), int32(1), int64(6), object(11)\n",
      "memory usage: 1.3+ GB\n"
     ]
    }
   ],
   "source": [
    "df_train.info(null_counts=True, max_cols = 150)"
   ]
  },
  {
   "cell_type": "code",
   "execution_count": 53,
   "metadata": {},
   "outputs": [],
   "source": [
    "df_train = pd.get_dummies(df_train, columns = ['CdPosition', \"CdGameType\", \"CdGameState\", \"CdDoubleHeader\", \n",
    "                                    \"CdDayNight\", \"FlgWinnerHomeTeam\", \"FlgWinnerAwayTeam\"])"
   ]
  },
  {
   "cell_type": "code",
   "execution_count": 61,
   "metadata": {},
   "outputs": [],
   "source": [
    "# Dropa colunas com vários valores Nan\n",
    "df_train.drop([\n",
    "    'IdGame_x', 'DtGame_x', 'DtGameUTC', 'IdPlayer_y',\n",
    "    'IdTeam', 'IdGame_y', 'NuJersey', \"DtGame_y\", \"IdHomeTeam\", \"IdAwayTeam\"], axis = 1, inplace = True)"
   ]
  },
  {
   "cell_type": "code",
   "execution_count": 62,
   "metadata": {},
   "outputs": [
    {
     "name": "stdout",
     "output_type": "stream",
     "text": [
      "<class 'pandas.core.frame.DataFrame'>\n",
      "Int64Index: 2684030 entries, 0 to 2684029\n",
      "Data columns (total 134 columns):\n",
      " #    Column                           Non-Null Count    Dtype         \n",
      "---   ------                           --------------    -----         \n",
      " 0    Dt                               2684030 non-null  datetime64[ns]\n",
      " 1    IdPlayer                         2684030 non-null  int32         \n",
      " 2    target1                          2684030 non-null  float16       \n",
      " 3    target2                          2684030 non-null  float16       \n",
      " 4    target3                          2684030 non-null  float16       \n",
      " 5    target4                          2684030 non-null  float16       \n",
      " 6    IdDtPlayer                       2684030 non-null  object        \n",
      " 7    target1_shift_1                  2684030 non-null  float16       \n",
      " 8    target2_shift_1                  2684030 non-null  float16       \n",
      " 9    target3_shift_1                  2684030 non-null  float16       \n",
      " 10   target4_shift_1                  2684030 non-null  float16       \n",
      " 11   target1_shift_2                  2684030 non-null  float16       \n",
      " 12   target2_shift_2                  2684030 non-null  float16       \n",
      " 13   target3_shift_2                  2684030 non-null  float16       \n",
      " 14   target4_shift_2                  2684030 non-null  float16       \n",
      " 15   target1_shift_3                  2684030 non-null  float16       \n",
      " 16   target2_shift_3                  2684030 non-null  float16       \n",
      " 17   target3_shift_3                  2684030 non-null  float16       \n",
      " 18   target4_shift_3                  2684030 non-null  float16       \n",
      " 19   target1_shift_4                  2684030 non-null  float16       \n",
      " 20   target2_shift_4                  2684030 non-null  float16       \n",
      " 21   target3_shift_4                  2684030 non-null  float16       \n",
      " 22   target4_shift_4                  2684030 non-null  float16       \n",
      " 23   target1_shift_5                  2684030 non-null  float16       \n",
      " 24   target2_shift_5                  2684030 non-null  float16       \n",
      " 25   target3_shift_5                  2684030 non-null  float16       \n",
      " 26   target4_shift_5                  2684030 non-null  float16       \n",
      " 27   target1_shift_6                  2684030 non-null  float16       \n",
      " 28   target2_shift_6                  2684030 non-null  float16       \n",
      " 29   target3_shift_6                  2684030 non-null  float16       \n",
      " 30   target4_shift_6                  2684030 non-null  float16       \n",
      " 31   target1_shift_7                  2684030 non-null  float16       \n",
      " 32   target2_shift_7                  2684030 non-null  float16       \n",
      " 33   target3_shift_7                  2684030 non-null  float16       \n",
      " 34   target4_shift_7                  2684030 non-null  float16       \n",
      " 35   DtYear                           2684030 non-null  int64         \n",
      " 36   DtMonth                          2684030 non-null  int64         \n",
      " 37   DtDay                            2684030 non-null  int64         \n",
      " 38   DtDayOfWeek                      2684030 non-null  int64         \n",
      " 39   DtDayOfYear                      2684030 non-null  int64         \n",
      " 40   DtQuarter                        2684030 non-null  int64         \n",
      " 41   NuStrikeOutsPitching             2684030 non-null  float16       \n",
      " 42   NuBattingOrder_Player            2684030 non-null  float16       \n",
      " 43   NuGamesPlayedBatting_Player      2684030 non-null  float16       \n",
      " 44   NuFlyOuts_Player                 2684030 non-null  float16       \n",
      " 45   NuGroundOuts_Player              2684030 non-null  float16       \n",
      " 46   NuRunsScored_Player              2684030 non-null  float16       \n",
      " 47   NuDoubles_Player                 2684030 non-null  float16       \n",
      " 48   NuTriples_Player                 2684030 non-null  float16       \n",
      " 49   NuHomeRuns_Player                2684030 non-null  float16       \n",
      " 50   NuStrikeOuts_Player              2684030 non-null  float16       \n",
      " 51   NuBaseOnBalls_Player             2684030 non-null  float16       \n",
      " 52   NuIntentionalWalks_Player        2684030 non-null  float16       \n",
      " 53   NuHits_Player                    2684030 non-null  float16       \n",
      " 54   NuHitByPitch_Player              2684030 non-null  float16       \n",
      " 55   NuAtBats_Player                  2684030 non-null  float16       \n",
      " 56   NuCaughtStealing_Player          2684030 non-null  float16       \n",
      " 57   NuStolenBases_Player             2684030 non-null  float16       \n",
      " 58   NuGroundIntoDoublePlay_Player    2684030 non-null  float16       \n",
      " 59   NuGroundIntoTriplePlay_Player    2684030 non-null  float16       \n",
      " 60   NuPlateAppearances_Player        2684030 non-null  float16       \n",
      " 61   NuTotalBases_Player              2684030 non-null  float16       \n",
      " 62   NuRbi_Player                     2684030 non-null  float16       \n",
      " 63   NuLeftOnBase_Player              2684030 non-null  float16       \n",
      " 64   NuSacBunts_Player                2684030 non-null  float16       \n",
      " 65   NuSacFlies_Player                2684030 non-null  float16       \n",
      " 66   NuCatchersInterference_Player    2684030 non-null  float16       \n",
      " 67   NuPickoffs_Player                2684030 non-null  float16       \n",
      " 68   NuInningsPitched_Player          2684030 non-null  float16       \n",
      " 69   NuSaveOpportunities_Player       2684030 non-null  float16       \n",
      " 70   NuEarnedRuns_Player              2684030 non-null  float16       \n",
      " 71   NuBattersFaced_Player            2684030 non-null  float16       \n",
      " 72   NuPitchesThrown_Player           2684030 non-null  float16       \n",
      " 73   NuBalls_Player                   2684030 non-null  float16       \n",
      " 74   NuStrikes_Player                 2684030 non-null  float16       \n",
      " 75   NuHitBatsmen_Player              2684030 non-null  float16       \n",
      " 76   NuBalks_Player                   2684030 non-null  float16       \n",
      " 77   NuWildPitches_Player             2684030 non-null  float16       \n",
      " 78   NuInheritedRunners_Player        2684030 non-null  float16       \n",
      " 79   NuInheritedRunnersScored_Player  2684030 non-null  float16       \n",
      " 80   NuSaves_Player                   2684030 non-null  float16       \n",
      " 81   NuHolds_Player                   2684030 non-null  float16       \n",
      " 82   NuBlownSaves_Player              2684030 non-null  float16       \n",
      " 83   NuAssists_Player                 2684030 non-null  float16       \n",
      " 84   NuPutOuts_Player                 2684030 non-null  float16       \n",
      " 85   NuErrors_Player                  2684030 non-null  float16       \n",
      " 86   NuChances_Player                 2684030 non-null  float16       \n",
      " 87   IdDtTeam                         2684030 non-null  object        \n",
      " 88   IdDtGame                         2684030 non-null  object        \n",
      " 89   DtHour                           2684030 non-null  float64       \n",
      " 90   DtMinute                         2684030 non-null  float64       \n",
      " 91   NuSeason                         2684030 non-null  float64       \n",
      " 92   FlgTie                           2684030 non-null  float64       \n",
      " 93   NuGame                           2684030 non-null  float64       \n",
      " 94   NuScheduledInnings               2684030 non-null  float64       \n",
      " 95   NuGamesInSeries                  2684030 non-null  float64       \n",
      " 96   NuWinsHomeTeam                   2684030 non-null  float64       \n",
      " 97   NuLossesHomeTeam                 2684030 non-null  float64       \n",
      " 98   NuWinPctHomeTeam                 2684030 non-null  float64       \n",
      " 99   NuScoreHomeTeam                  2684030 non-null  float64       \n",
      " 100  NuWinsAwayTeam                   2684030 non-null  float64       \n",
      " 101  NuLossesAwayTeam                 2684030 non-null  float64       \n",
      " 102  NuWinPctAwayTeam                 2684030 non-null  float64       \n",
      " 103  NuScoreAwayTeam                  2684030 non-null  float64       \n",
      " 104  CdPosition_1.0                   2684030 non-null  uint8         \n",
      " 105  CdPosition_2.0                   2684030 non-null  uint8         \n",
      " 106  CdPosition_3.0                   2684030 non-null  uint8         \n",
      " 107  CdPosition_4.0                   2684030 non-null  uint8         \n",
      " 108  CdPosition_5.0                   2684030 non-null  uint8         \n",
      " 109  CdPosition_6.0                   2684030 non-null  uint8         \n",
      " 110  CdPosition_7.0                   2684030 non-null  uint8         \n",
      " 111  CdPosition_8.0                   2684030 non-null  uint8         \n",
      " 112  CdPosition_9.0                   2684030 non-null  uint8         \n",
      " 113  CdPosition_10.0                  2684030 non-null  uint8         \n",
      " 114  CdPosition_11.0                  2684030 non-null  uint8         \n",
      " 115  CdPosition_12.0                  2684030 non-null  uint8         \n",
      " 116  CdGameType_A                     2684030 non-null  uint8         \n",
      " 117  CdGameType_D                     2684030 non-null  uint8         \n",
      " 118  CdGameType_F                     2684030 non-null  uint8         \n",
      " 119  CdGameType_L                     2684030 non-null  uint8         \n",
      " 120  CdGameType_R                     2684030 non-null  uint8         \n",
      " 121  CdGameType_W                     2684030 non-null  uint8         \n",
      " 122  CdGameState_F                    2684030 non-null  uint8         \n",
      " 123  CdGameState_Completed Early      2684030 non-null  uint8         \n",
      " 124  CdGameState_Final                2684030 non-null  uint8         \n",
      " 125  CdDoubleHeader_N                 2684030 non-null  uint8         \n",
      " 126  CdDoubleHeader_S                 2684030 non-null  uint8         \n",
      " 127  CdDoubleHeader_Y                 2684030 non-null  uint8         \n",
      " 128  CdDayNight_day                   2684030 non-null  uint8         \n",
      " 129  CdDayNight_night                 2684030 non-null  uint8         \n",
      " 130  FlgWinnerHomeTeam_False          2684030 non-null  uint8         \n",
      " 131  FlgWinnerHomeTeam_True           2684030 non-null  uint8         \n",
      " 132  FlgWinnerAwayTeam_False          2684030 non-null  uint8         \n",
      " 133  FlgWinnerAwayTeam_True           2684030 non-null  uint8         \n",
      "dtypes: datetime64[ns](1), float16(78), float64(15), int32(1), int64(6), object(3), uint8(30)\n",
      "memory usage: 1018.8+ MB\n"
     ]
    }
   ],
   "source": [
    "df_train.info(max_cols = 150, show_counts = True)"
   ]
  },
  {
   "cell_type": "markdown",
   "metadata": {},
   "source": [
    "### Reduce memory usage"
   ]
  },
  {
   "cell_type": "code",
   "execution_count": 38,
   "metadata": {},
   "outputs": [
    {
     "name": "stdout",
     "output_type": "stream",
     "text": [
      "Memory usage of dataframe is 1756.85 MB\n",
      "Memory usage after optimization is: 837.33 MB\n",
      "Decreased by 52.3%\n"
     ]
    }
   ],
   "source": [
    "df_train = reduce_mem_usage(df_train);"
   ]
  },
  {
   "cell_type": "markdown",
   "metadata": {},
   "source": [
    "## Save Prepared Datasets"
   ]
  },
  {
   "cell_type": "code",
   "execution_count": 63,
   "metadata": {},
   "outputs": [],
   "source": [
    "df_targets.to_pickle(processed_data_path + 'targets.pkl')\n",
    "df_pbs.to_pickle(processed_data_path + 'playerBoxScores.pkl')\n",
    "\n",
    "df_train.to_pickle(processed_data_path + 'train.pkl')"
   ]
  },
  {
   "cell_type": "code",
   "execution_count": 64,
   "metadata": {},
   "outputs": [
    {
     "name": "stdout",
     "output_type": "stream",
     "text": [
      "<class 'pandas.core.frame.DataFrame'>\n",
      "Int64Index: 2684030 entries, 0 to 2684029\n",
      "Columns: 134 entries, Dt to FlgWinnerAwayTeam_True\n",
      "dtypes: datetime64[ns](1), float16(78), float64(15), int32(1), int64(6), object(3), uint8(30)\n",
      "memory usage: 1018.8+ MB\n"
     ]
    }
   ],
   "source": [
    "pd.read_pickle(processed_data_path + 'train.pkl').info(null_counts=True)"
   ]
  }
 ],
 "metadata": {
  "kernelspec": {
   "display_name": "Python 3 (ipykernel)",
   "language": "python",
   "name": "python3"
  },
  "language_info": {
   "codemirror_mode": {
    "name": "ipython",
    "version": 3
   },
   "file_extension": ".py",
   "mimetype": "text/x-python",
   "name": "python",
   "nbconvert_exporter": "python",
   "pygments_lexer": "ipython3",
   "version": "3.9.7"
  }
 },
 "nbformat": 4,
 "nbformat_minor": 2
}

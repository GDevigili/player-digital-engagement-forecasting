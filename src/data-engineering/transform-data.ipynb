{
 "cells": [
  {
   "cell_type": "markdown",
   "metadata": {},
   "source": [
    "# Data Preparation"
   ]
  },
  {
   "cell_type": "markdown",
   "metadata": {},
   "source": [
    "## Transform Data\n",
    "\n",
    "Notebook que irá conter o código para o processamento e transformações de dados. Este notebook deve ser rodado após o notebook `pre-process-data.ipynb`.\n",
    "\n",
    "os dados \"crus\" estão localizados em `/src/data/raw-data` e os dados tratados estão salvos em `/src/data/processed-data`."
   ]
  },
  {
   "cell_type": "markdown",
   "metadata": {},
   "source": [
    "## Initial Setup"
   ]
  },
  {
   "cell_type": "code",
   "execution_count": 1,
   "metadata": {},
   "outputs": [],
   "source": [
    "# Imports\n",
    "import pandas as pd\n",
    "import numpy as np\n",
    "\n",
    "import pickle as pkl\n",
    "\n",
    "from joblib import Parallel, delayed\n",
    "\n",
    "# disable warnings\n",
    "import warnings\n",
    "warnings.filterwarnings(\"ignore\", category=DeprecationWarning)\n",
    "warnings.filterwarnings(\"ignore\", category=FutureWarning)\n",
    "pd.options.mode.chained_assignment = None  # default='warn'"
   ]
  },
  {
   "cell_type": "code",
   "execution_count": 2,
   "metadata": {},
   "outputs": [],
   "source": [
    "# Global Variables\n",
    "# file paths\n",
    "raw_data_path = '../data/raw-data/'\n",
    "processed_data_path = '../data/processed-data/'\n",
    "\n",
    "\n",
    "TARGET_COLS = ['target1', 'target2', 'target3', 'target4']\n",
    "\n",
    "RANDOM_SEED = 42\n",
    "\n",
    "TEST_SPLIT_DATE = '2021-04-30'"
   ]
  },
  {
   "cell_type": "code",
   "execution_count": 54,
   "metadata": {},
   "outputs": [],
   "source": [
    "# Loading data\n",
    "df_targets = pd.read_pickle(processed_data_path + 'targets.pkl')\n",
    "df_pbs = pd.read_pickle(processed_data_path + 'playerBoxScores.pkl')\n",
    "df_tbs = pd.read_pickle(processed_data_path + 'teamBoxScores.pkl')\n",
    "df_g = pd.read_pickle(processed_data_path + 'games.pkl')"
   ]
  },
  {
   "cell_type": "markdown",
   "metadata": {},
   "source": [
    "## Data Transformations"
   ]
  },
  {
   "cell_type": "markdown",
   "metadata": {},
   "source": [
    "### Reduce Memory Usage"
   ]
  },
  {
   "cell_type": "code",
   "execution_count": 55,
   "metadata": {},
   "outputs": [],
   "source": [
    "from pandas.api.types import is_datetime64_any_dtype as is_datetime\n",
    "\n",
    "def reduce_mem_usage(df):\n",
    "    \"\"\" iterate through all the columns of a dataframe and modify the data type\n",
    "        to reduce memory usage.        \n",
    "    \"\"\"\n",
    "    start_mem = df.memory_usage().sum() / 1024**2\n",
    "    print('Memory usage of dataframe is {:.2f} MB'.format(start_mem))\n",
    "    \n",
    "    for col in df.columns:\n",
    "        col_type = df[col].dtype\n",
    "        \n",
    "        if col_type != object and is_datetime(df[col]) == False and col_type != 'category':\n",
    "            c_min = df[col].min()\n",
    "            c_max = df[col].max()\n",
    "            if str(col_type)[:3] == 'int':\n",
    "                if c_min > np.iinfo(np.int8).min and c_max < np.iinfo(np.int8).max:\n",
    "                    df[col] = df[col].astype(np.int8)\n",
    "                elif c_min > np.iinfo(np.int16).min and c_max < np.iinfo(np.int16).max:\n",
    "                    df[col] = df[col].astype(np.int16)\n",
    "                elif c_min > np.iinfo(np.int32).min and c_max < np.iinfo(np.int32).max:\n",
    "                    df[col] = df[col].astype(np.int32)\n",
    "                elif c_min > np.iinfo(np.int64).min and c_max < np.iinfo(np.int64).max:\n",
    "                    df[col] = df[col].astype(np.int64)  \n",
    "            else:\n",
    "                if c_min > np.finfo(np.float16).min and c_max < np.finfo(np.float16).max:\n",
    "                    df[col] = df[col].astype(np.float16)\n",
    "                elif c_min > np.finfo(np.float32).min and c_max < np.finfo(np.float32).max:\n",
    "                    df[col] = df[col].astype(np.float32)\n",
    "                else:\n",
    "                    df[col] = df[col].astype(np.float64)\n",
    "        elif is_datetime(df[col]) == True:\n",
    "            df[col] = df[col].astype('datetime64[ns]')\n",
    "\n",
    "    end_mem = df.memory_usage().sum() / 1024**2\n",
    "    print('Memory usage after optimization is: {:.2f} MB'.format(end_mem))\n",
    "    print('Decreased by {:.1f}%'.format(100 * (start_mem - end_mem) / start_mem))\n",
    "    \n",
    "    return df"
   ]
  },
  {
   "cell_type": "markdown",
   "metadata": {},
   "source": [
    "#### Df Targets"
   ]
  },
  {
   "cell_type": "code",
   "execution_count": 56,
   "metadata": {},
   "outputs": [],
   "source": [
    "#df_targets = reduce_mem_usage(df_targets);"
   ]
  },
  {
   "cell_type": "markdown",
   "metadata": {},
   "source": [
    "#### Player Box Scores"
   ]
  },
  {
   "cell_type": "code",
   "execution_count": 57,
   "metadata": {},
   "outputs": [
    {
     "name": "stdout",
     "output_type": "stream",
     "text": [
      "Memory usage of dataframe is 36.67 MB\n",
      "Memory usage after optimization is: 33.74 MB\n",
      "Decreased by 8.0%\n"
     ]
    }
   ],
   "source": [
    "df_pbs = reduce_mem_usage(df_pbs);"
   ]
  },
  {
   "cell_type": "markdown",
   "metadata": {},
   "source": [
    "#### Team Box Scores"
   ]
  },
  {
   "cell_type": "code",
   "execution_count": 58,
   "metadata": {},
   "outputs": [
    {
     "name": "stdout",
     "output_type": "stream",
     "text": [
      "Memory usage of dataframe is 6.72 MB\n",
      "Memory usage after optimization is: 1.43 MB\n",
      "Decreased by 78.6%\n"
     ]
    }
   ],
   "source": [
    "df_tbs = reduce_mem_usage(df_tbs);"
   ]
  },
  {
   "cell_type": "markdown",
   "metadata": {},
   "source": [
    "#### Games"
   ]
  },
  {
   "cell_type": "code",
   "execution_count": 8,
   "metadata": {},
   "outputs": [],
   "source": [
    "#df_g = reduce_mem_usage(df_g);"
   ]
  },
  {
   "cell_type": "markdown",
   "metadata": {},
   "source": [
    "### Sorting and Shifting"
   ]
  },
  {
   "cell_type": "code",
   "execution_count": 59,
   "metadata": {},
   "outputs": [],
   "source": [
    "# Funções auxiliares para o pré-processamento dos dados\n",
    "def sort_df(df: pd.DataFrame, columns: list = ['IdPlayer', 'Dt']) -> None:\n",
    "    \"\"\"Sort the dataframe by the columns passed as argument.\n",
    "    \n",
    "    Args:\n",
    "        df (pd.DataFrame): Dataframe to be sorted.\n",
    "        columns (list, optional): Columns to sort the dataframe. Defaults to ['IdPlayer', 'Dt'].\n",
    "        \n",
    "        Returns:\n",
    "            None\n",
    "    \"\"\"\n",
    "    df.sort_values(by=columns, inplace=True)\n",
    "    # reset index\n",
    "    df.reset_index(drop=True, inplace=True)\n",
    "\n",
    "\n",
    "def shift_targets(df, shift_vals: list = [1, 2, 3, 4, 5, 6, 7, 14, 30]):\n",
    "    \"\"\"Shift the targets by the values passed as argument.\n",
    "\n",
    "    Args:\n",
    "        df (pd.DataFrame): Dataframe to be shifted.\n",
    "        shift_vals (list, optional): Values to shift the targets. Defaults to [1, 2, 3, 4, 5, 6, 7, 14, 30].\n",
    "\n",
    "    Returns:\n",
    "        pd.DataFrame: Dataframe with the shifted targets.\n",
    "    \"\"\"\n",
    "    df_aux = pd.DataFrame()\n",
    "    # Iterate over players to make the shift only using the player data\n",
    "    for player in df['IdPlayer'].unique():\n",
    "        df_player = df[df['IdPlayer'] == player]\n",
    "        # Iterate over the pre-defined shift values\n",
    "        for shift_val in shift_vals:\n",
    "            # Iterate over the targets\n",
    "            for target in TARGET_COLS:\n",
    "                # Make the shift\n",
    "                df_player[f'{target}_shift_{shift_val}'] = df_player[target].shift(shift_val)\n",
    "        # Concatenate the player data with the rest of the data\n",
    "        df_aux = pd.concat([df_aux, df_player], axis=0)\n",
    "        # Remove the player data from memory\n",
    "        del df_player\n",
    "    # df.dropna(inplace=True)\n",
    "    return df_aux\n",
    "\n",
    "\n",
    "def train_test_split(\n",
    "    df: pd.DataFrame\n",
    "    ,test_split_date: str = TEST_SPLIT_DATE\n",
    "    ):\n",
    "    \"\"\"Split the dataframe into train and test sets.\n",
    "\n",
    "    Args:\n",
    "        df (pd.DataFrame): Dataframe to be split.\n",
    "        test_split_date (str, optional): Date to split the dataframe. Defaults to TEST_SPLIT_DATE.\n",
    "    \"\"\"\n",
    "\n",
    "    train = df[(df.Dt <= \"2021-01-31\") & (df.Dt >= \"2018-01-01\")] \n",
    "    val = df[(df.Dt <= \"2021-04-30\") & (df.Dt >= \"2021-02-01\")] \n",
    "    test = df[(df.Dt <= \"2021-07-31\") & (df.Dt >= \"2021-05-01\")]\n",
    "    # train.to_csv('train.csv', index=None)\n",
    "    # val.to_csv('validation.csv', index=None) \n",
    "    # test.to_csv('test.csv', index=None) \n",
    "\n",
    "    return train, test, val\n",
    "\n",
    "\n",
    "def x_y_split(df: pd.DataFrame, target_cols: list = TARGET_COLS):\n",
    "    \"\"\"Split the dataframe into x and y sets.\n",
    "\n",
    "    Args:\n",
    "        df (pd.DataFrame): Dataframe to be split.\n",
    "    \"\"\"\n",
    "    y = df[target_cols]\n",
    "    x = df.drop(target_cols, axis=1)\n",
    "    return x, y"
   ]
  },
  {
   "cell_type": "code",
   "execution_count": 60,
   "metadata": {},
   "outputs": [
    {
     "name": "stdout",
     "output_type": "stream",
     "text": [
      "Wall time: 3min 29s\n"
     ]
    }
   ],
   "source": [
    "%%time\n",
    "sort_df(df_targets)\n",
    "df_train = shift_targets(df_targets, shift_vals=[1, 2, 3, 4, 5, 6, 7])"
   ]
  },
  {
   "cell_type": "markdown",
   "metadata": {},
   "source": [
    "## Feature Engineering"
   ]
  },
  {
   "cell_type": "markdown",
   "metadata": {},
   "source": [
    "### Datetime"
   ]
  },
  {
   "cell_type": "code",
   "execution_count": 61,
   "metadata": {},
   "outputs": [],
   "source": [
    "# Transform the datetime col into new features\n",
    "df_train['DtYear'] = df_train['Dt'].dt.year\n",
    "df_train['DtMonth'] = df_train['Dt'].dt.month\n",
    "df_train['DtDay'] = df_train['Dt'].dt.day\n",
    "df_train['DtDayOfWeek'] = df_train['Dt'].dt.dayofweek\n",
    "df_train['DtDayOfYear'] = df_train['Dt'].dt.dayofyear\n",
    "df_train['DtQuarter'] = df_train['Dt'].dt.quarter\n",
    "# get the hour and minute from the PBS\n",
    "df_pbs['DtHour'] = df_pbs['DtGameUTC'].dt.hour\n",
    "df_pbs['DtMinute'] = df_pbs['DtGameUTC'].dt.minute\n",
    "df_pbs['DtHour'][df_pbs['DtHour'] == 0] = 24"
   ]
  },
  {
   "cell_type": "code",
   "execution_count": 62,
   "metadata": {},
   "outputs": [],
   "source": [
    "media_por_jogador = df_train.groupby('IdPlayer')[TARGET_COLS].mean()\n",
    "mediana_por_jogador = df_train.groupby('IdPlayer')[TARGET_COLS].median()"
   ]
  },
  {
   "cell_type": "code",
   "execution_count": 63,
   "metadata": {},
   "outputs": [],
   "source": [
    "media_por_jogador = media_por_jogador.rename(columns={\n",
    "    'target1': 'target1_pmean',\n",
    "    'target2': 'target2_pmean',\n",
    "    'target3': 'target3_pmean',\n",
    "    'target4': 'target4_pmean'\n",
    "})\n",
    "\n",
    "mediana_por_jogador = mediana_por_jogador.rename(columns={\n",
    "    'target1': 'target1_pmedian',\n",
    "    'target2': 'target2_pmedian',\n",
    "    'target3': 'target3_pmedian',\n",
    "    'target4': 'target4_pmedian'\n",
    "})"
   ]
  },
  {
   "cell_type": "markdown",
   "metadata": {},
   "source": [
    "## Joining Datasets"
   ]
  },
  {
   "cell_type": "markdown",
   "metadata": {},
   "source": [
    "### Média e mediana por jogador"
   ]
  },
  {
   "cell_type": "code",
   "execution_count": 64,
   "metadata": {},
   "outputs": [],
   "source": [
    "df_train = pd.merge(df_train, media_por_jogador, on=['IdPlayer'], how='left')\n",
    "df_train = pd.merge(df_train, mediana_por_jogador, on=['IdPlayer'], how='left')"
   ]
  },
  {
   "cell_type": "code",
   "execution_count": 65,
   "metadata": {},
   "outputs": [
    {
     "data": {
      "text/html": [
       "<div>\n",
       "<style scoped>\n",
       "    .dataframe tbody tr th:only-of-type {\n",
       "        vertical-align: middle;\n",
       "    }\n",
       "\n",
       "    .dataframe tbody tr th {\n",
       "        vertical-align: top;\n",
       "    }\n",
       "\n",
       "    .dataframe thead th {\n",
       "        text-align: right;\n",
       "    }\n",
       "</style>\n",
       "<table border=\"1\" class=\"dataframe\">\n",
       "  <thead>\n",
       "    <tr style=\"text-align: right;\">\n",
       "      <th></th>\n",
       "      <th>Dt</th>\n",
       "      <th>IdPlayer</th>\n",
       "      <th>target1</th>\n",
       "      <th>target2</th>\n",
       "      <th>target3</th>\n",
       "      <th>target4</th>\n",
       "      <th>IdDtPlayer</th>\n",
       "      <th>target1_shift_1</th>\n",
       "      <th>target2_shift_1</th>\n",
       "      <th>target3_shift_1</th>\n",
       "      <th>...</th>\n",
       "      <th>DtDayOfYear</th>\n",
       "      <th>DtQuarter</th>\n",
       "      <th>target1_pmean</th>\n",
       "      <th>target2_pmean</th>\n",
       "      <th>target3_pmean</th>\n",
       "      <th>target4_pmean</th>\n",
       "      <th>target1_pmedian</th>\n",
       "      <th>target2_pmedian</th>\n",
       "      <th>target3_pmedian</th>\n",
       "      <th>target4_pmedian</th>\n",
       "    </tr>\n",
       "  </thead>\n",
       "  <tbody>\n",
       "    <tr>\n",
       "      <th>0</th>\n",
       "      <td>2018-01-01</td>\n",
       "      <td>112526</td>\n",
       "      <td>0.055277</td>\n",
       "      <td>5.496109</td>\n",
       "      <td>0.025839</td>\n",
       "      <td>16.176470</td>\n",
       "      <td>2018-01-01 00:00:00_112526</td>\n",
       "      <td>NaN</td>\n",
       "      <td>NaN</td>\n",
       "      <td>NaN</td>\n",
       "      <td>...</td>\n",
       "      <td>1</td>\n",
       "      <td>1</td>\n",
       "      <td>0.890797</td>\n",
       "      <td>4.631284</td>\n",
       "      <td>2.095763</td>\n",
       "      <td>15.132475</td>\n",
       "      <td>0.035116</td>\n",
       "      <td>1.479535</td>\n",
       "      <td>0.107288</td>\n",
       "      <td>10.270016</td>\n",
       "    </tr>\n",
       "    <tr>\n",
       "      <th>1</th>\n",
       "      <td>2018-01-02</td>\n",
       "      <td>112526</td>\n",
       "      <td>0.060625</td>\n",
       "      <td>3.252914</td>\n",
       "      <td>0.030486</td>\n",
       "      <td>8.541353</td>\n",
       "      <td>2018-01-02 00:00:00_112526</td>\n",
       "      <td>0.055277</td>\n",
       "      <td>5.496109</td>\n",
       "      <td>0.025839</td>\n",
       "      <td>...</td>\n",
       "      <td>2</td>\n",
       "      <td>1</td>\n",
       "      <td>0.890797</td>\n",
       "      <td>4.631284</td>\n",
       "      <td>2.095763</td>\n",
       "      <td>15.132475</td>\n",
       "      <td>0.035116</td>\n",
       "      <td>1.479535</td>\n",
       "      <td>0.107288</td>\n",
       "      <td>10.270016</td>\n",
       "    </tr>\n",
       "    <tr>\n",
       "      <th>2</th>\n",
       "      <td>2018-01-03</td>\n",
       "      <td>112526</td>\n",
       "      <td>0.029341</td>\n",
       "      <td>1.648352</td>\n",
       "      <td>0.032613</td>\n",
       "      <td>10.490111</td>\n",
       "      <td>2018-01-03 00:00:00_112526</td>\n",
       "      <td>0.060625</td>\n",
       "      <td>3.252914</td>\n",
       "      <td>0.030486</td>\n",
       "      <td>...</td>\n",
       "      <td>3</td>\n",
       "      <td>1</td>\n",
       "      <td>0.890797</td>\n",
       "      <td>4.631284</td>\n",
       "      <td>2.095763</td>\n",
       "      <td>15.132475</td>\n",
       "      <td>0.035116</td>\n",
       "      <td>1.479535</td>\n",
       "      <td>0.107288</td>\n",
       "      <td>10.270016</td>\n",
       "    </tr>\n",
       "    <tr>\n",
       "      <th>3</th>\n",
       "      <td>2018-01-04</td>\n",
       "      <td>112526</td>\n",
       "      <td>0.014799</td>\n",
       "      <td>2.665894</td>\n",
       "      <td>0.087422</td>\n",
       "      <td>19.091467</td>\n",
       "      <td>2018-01-04 00:00:00_112526</td>\n",
       "      <td>0.029341</td>\n",
       "      <td>1.648352</td>\n",
       "      <td>0.032613</td>\n",
       "      <td>...</td>\n",
       "      <td>4</td>\n",
       "      <td>1</td>\n",
       "      <td>0.890797</td>\n",
       "      <td>4.631284</td>\n",
       "      <td>2.095763</td>\n",
       "      <td>15.132475</td>\n",
       "      <td>0.035116</td>\n",
       "      <td>1.479535</td>\n",
       "      <td>0.107288</td>\n",
       "      <td>10.270016</td>\n",
       "    </tr>\n",
       "    <tr>\n",
       "      <th>4</th>\n",
       "      <td>2018-01-05</td>\n",
       "      <td>112526</td>\n",
       "      <td>0.083916</td>\n",
       "      <td>1.161002</td>\n",
       "      <td>0.024759</td>\n",
       "      <td>6.643879</td>\n",
       "      <td>2018-01-05 00:00:00_112526</td>\n",
       "      <td>0.014799</td>\n",
       "      <td>2.665894</td>\n",
       "      <td>0.087422</td>\n",
       "      <td>...</td>\n",
       "      <td>5</td>\n",
       "      <td>1</td>\n",
       "      <td>0.890797</td>\n",
       "      <td>4.631284</td>\n",
       "      <td>2.095763</td>\n",
       "      <td>15.132475</td>\n",
       "      <td>0.035116</td>\n",
       "      <td>1.479535</td>\n",
       "      <td>0.107288</td>\n",
       "      <td>10.270016</td>\n",
       "    </tr>\n",
       "    <tr>\n",
       "      <th>...</th>\n",
       "      <td>...</td>\n",
       "      <td>...</td>\n",
       "      <td>...</td>\n",
       "      <td>...</td>\n",
       "      <td>...</td>\n",
       "      <td>...</td>\n",
       "      <td>...</td>\n",
       "      <td>...</td>\n",
       "      <td>...</td>\n",
       "      <td>...</td>\n",
       "      <td>...</td>\n",
       "      <td>...</td>\n",
       "      <td>...</td>\n",
       "      <td>...</td>\n",
       "      <td>...</td>\n",
       "      <td>...</td>\n",
       "      <td>...</td>\n",
       "      <td>...</td>\n",
       "      <td>...</td>\n",
       "      <td>...</td>\n",
       "      <td>...</td>\n",
       "    </tr>\n",
       "    <tr>\n",
       "      <th>2695783</th>\n",
       "      <td>2021-07-27</td>\n",
       "      <td>685503</td>\n",
       "      <td>0.000642</td>\n",
       "      <td>0.182785</td>\n",
       "      <td>0.000482</td>\n",
       "      <td>0.574713</td>\n",
       "      <td>2021-07-27 00:00:00_685503</td>\n",
       "      <td>0.000661</td>\n",
       "      <td>0.109511</td>\n",
       "      <td>0.000882</td>\n",
       "      <td>...</td>\n",
       "      <td>208</td>\n",
       "      <td>3</td>\n",
       "      <td>0.036275</td>\n",
       "      <td>0.730502</td>\n",
       "      <td>0.048631</td>\n",
       "      <td>0.268987</td>\n",
       "      <td>0.000000</td>\n",
       "      <td>0.000000</td>\n",
       "      <td>0.000000</td>\n",
       "      <td>0.027349</td>\n",
       "    </tr>\n",
       "    <tr>\n",
       "      <th>2695784</th>\n",
       "      <td>2021-07-28</td>\n",
       "      <td>685503</td>\n",
       "      <td>0.000515</td>\n",
       "      <td>0.144995</td>\n",
       "      <td>0.000681</td>\n",
       "      <td>0.068164</td>\n",
       "      <td>2021-07-28 00:00:00_685503</td>\n",
       "      <td>0.000642</td>\n",
       "      <td>0.182785</td>\n",
       "      <td>0.000482</td>\n",
       "      <td>...</td>\n",
       "      <td>209</td>\n",
       "      <td>3</td>\n",
       "      <td>0.036275</td>\n",
       "      <td>0.730502</td>\n",
       "      <td>0.048631</td>\n",
       "      <td>0.268987</td>\n",
       "      <td>0.000000</td>\n",
       "      <td>0.000000</td>\n",
       "      <td>0.000000</td>\n",
       "      <td>0.027349</td>\n",
       "    </tr>\n",
       "    <tr>\n",
       "      <th>2695785</th>\n",
       "      <td>2021-07-29</td>\n",
       "      <td>685503</td>\n",
       "      <td>0.000536</td>\n",
       "      <td>0.139173</td>\n",
       "      <td>0.000389</td>\n",
       "      <td>0.079939</td>\n",
       "      <td>2021-07-29 00:00:00_685503</td>\n",
       "      <td>0.000515</td>\n",
       "      <td>0.144995</td>\n",
       "      <td>0.000681</td>\n",
       "      <td>...</td>\n",
       "      <td>210</td>\n",
       "      <td>3</td>\n",
       "      <td>0.036275</td>\n",
       "      <td>0.730502</td>\n",
       "      <td>0.048631</td>\n",
       "      <td>0.268987</td>\n",
       "      <td>0.000000</td>\n",
       "      <td>0.000000</td>\n",
       "      <td>0.000000</td>\n",
       "      <td>0.027349</td>\n",
       "    </tr>\n",
       "    <tr>\n",
       "      <th>2695786</th>\n",
       "      <td>2021-07-30</td>\n",
       "      <td>685503</td>\n",
       "      <td>0.000452</td>\n",
       "      <td>0.193631</td>\n",
       "      <td>0.002074</td>\n",
       "      <td>0.217098</td>\n",
       "      <td>2021-07-30 00:00:00_685503</td>\n",
       "      <td>0.000536</td>\n",
       "      <td>0.139173</td>\n",
       "      <td>0.000389</td>\n",
       "      <td>...</td>\n",
       "      <td>211</td>\n",
       "      <td>3</td>\n",
       "      <td>0.036275</td>\n",
       "      <td>0.730502</td>\n",
       "      <td>0.048631</td>\n",
       "      <td>0.268987</td>\n",
       "      <td>0.000000</td>\n",
       "      <td>0.000000</td>\n",
       "      <td>0.000000</td>\n",
       "      <td>0.027349</td>\n",
       "    </tr>\n",
       "    <tr>\n",
       "      <th>2695787</th>\n",
       "      <td>2021-07-31</td>\n",
       "      <td>685503</td>\n",
       "      <td>0.000596</td>\n",
       "      <td>0.243551</td>\n",
       "      <td>0.001622</td>\n",
       "      <td>0.224034</td>\n",
       "      <td>2021-07-31 00:00:00_685503</td>\n",
       "      <td>0.000452</td>\n",
       "      <td>0.193631</td>\n",
       "      <td>0.002074</td>\n",
       "      <td>...</td>\n",
       "      <td>212</td>\n",
       "      <td>3</td>\n",
       "      <td>0.036275</td>\n",
       "      <td>0.730502</td>\n",
       "      <td>0.048631</td>\n",
       "      <td>0.268987</td>\n",
       "      <td>0.000000</td>\n",
       "      <td>0.000000</td>\n",
       "      <td>0.000000</td>\n",
       "      <td>0.027349</td>\n",
       "    </tr>\n",
       "  </tbody>\n",
       "</table>\n",
       "<p>2695788 rows × 49 columns</p>\n",
       "</div>"
      ],
      "text/plain": [
       "                Dt  IdPlayer   target1   target2   target3    target4  \\\n",
       "0       2018-01-01    112526  0.055277  5.496109  0.025839  16.176470   \n",
       "1       2018-01-02    112526  0.060625  3.252914  0.030486   8.541353   \n",
       "2       2018-01-03    112526  0.029341  1.648352  0.032613  10.490111   \n",
       "3       2018-01-04    112526  0.014799  2.665894  0.087422  19.091467   \n",
       "4       2018-01-05    112526  0.083916  1.161002  0.024759   6.643879   \n",
       "...            ...       ...       ...       ...       ...        ...   \n",
       "2695783 2021-07-27    685503  0.000642  0.182785  0.000482   0.574713   \n",
       "2695784 2021-07-28    685503  0.000515  0.144995  0.000681   0.068164   \n",
       "2695785 2021-07-29    685503  0.000536  0.139173  0.000389   0.079939   \n",
       "2695786 2021-07-30    685503  0.000452  0.193631  0.002074   0.217098   \n",
       "2695787 2021-07-31    685503  0.000596  0.243551  0.001622   0.224034   \n",
       "\n",
       "                         IdDtPlayer  target1_shift_1  target2_shift_1  \\\n",
       "0        2018-01-01 00:00:00_112526              NaN              NaN   \n",
       "1        2018-01-02 00:00:00_112526         0.055277         5.496109   \n",
       "2        2018-01-03 00:00:00_112526         0.060625         3.252914   \n",
       "3        2018-01-04 00:00:00_112526         0.029341         1.648352   \n",
       "4        2018-01-05 00:00:00_112526         0.014799         2.665894   \n",
       "...                             ...              ...              ...   \n",
       "2695783  2021-07-27 00:00:00_685503         0.000661         0.109511   \n",
       "2695784  2021-07-28 00:00:00_685503         0.000642         0.182785   \n",
       "2695785  2021-07-29 00:00:00_685503         0.000515         0.144995   \n",
       "2695786  2021-07-30 00:00:00_685503         0.000536         0.139173   \n",
       "2695787  2021-07-31 00:00:00_685503         0.000452         0.193631   \n",
       "\n",
       "         target3_shift_1  ...  DtDayOfYear  DtQuarter  target1_pmean  \\\n",
       "0                    NaN  ...            1          1       0.890797   \n",
       "1               0.025839  ...            2          1       0.890797   \n",
       "2               0.030486  ...            3          1       0.890797   \n",
       "3               0.032613  ...            4          1       0.890797   \n",
       "4               0.087422  ...            5          1       0.890797   \n",
       "...                  ...  ...          ...        ...            ...   \n",
       "2695783         0.000882  ...          208          3       0.036275   \n",
       "2695784         0.000482  ...          209          3       0.036275   \n",
       "2695785         0.000681  ...          210          3       0.036275   \n",
       "2695786         0.000389  ...          211          3       0.036275   \n",
       "2695787         0.002074  ...          212          3       0.036275   \n",
       "\n",
       "         target2_pmean  target3_pmean  target4_pmean  target1_pmedian  \\\n",
       "0             4.631284       2.095763      15.132475         0.035116   \n",
       "1             4.631284       2.095763      15.132475         0.035116   \n",
       "2             4.631284       2.095763      15.132475         0.035116   \n",
       "3             4.631284       2.095763      15.132475         0.035116   \n",
       "4             4.631284       2.095763      15.132475         0.035116   \n",
       "...                ...            ...            ...              ...   \n",
       "2695783       0.730502       0.048631       0.268987         0.000000   \n",
       "2695784       0.730502       0.048631       0.268987         0.000000   \n",
       "2695785       0.730502       0.048631       0.268987         0.000000   \n",
       "2695786       0.730502       0.048631       0.268987         0.000000   \n",
       "2695787       0.730502       0.048631       0.268987         0.000000   \n",
       "\n",
       "         target2_pmedian  target3_pmedian  target4_pmedian  \n",
       "0               1.479535         0.107288        10.270016  \n",
       "1               1.479535         0.107288        10.270016  \n",
       "2               1.479535         0.107288        10.270016  \n",
       "3               1.479535         0.107288        10.270016  \n",
       "4               1.479535         0.107288        10.270016  \n",
       "...                  ...              ...              ...  \n",
       "2695783         0.000000         0.000000         0.027349  \n",
       "2695784         0.000000         0.000000         0.027349  \n",
       "2695785         0.000000         0.000000         0.027349  \n",
       "2695786         0.000000         0.000000         0.027349  \n",
       "2695787         0.000000         0.000000         0.027349  \n",
       "\n",
       "[2695788 rows x 49 columns]"
      ]
     },
     "execution_count": 65,
     "metadata": {},
     "output_type": "execute_result"
    }
   ],
   "source": [
    "df_train"
   ]
  },
  {
   "cell_type": "markdown",
   "metadata": {},
   "source": [
    "### Player Box Scores"
   ]
  },
  {
   "cell_type": "code",
   "execution_count": 66,
   "metadata": {
    "scrolled": true
   },
   "outputs": [
    {
     "name": "stdout",
     "output_type": "stream",
     "text": [
      "<class 'pandas.core.frame.DataFrame'>\n",
      "Int64Index: 2684030 entries, 7 to 2698456\n",
      "Columns: 106 entries, Dt to DtMinute\n",
      "dtypes: datetime64[ns](3), float16(46), float32(40), float64(6), int64(7), object(4)\n",
      "memory usage: 1.0+ GB\n"
     ]
    }
   ],
   "source": [
    "df_train = pd.merge(df_train, df_pbs, on=['IdDtPlayer'], how='left')\n",
    "\n",
    "# Substitui os valores Nan das seguintes colunas por 0\n",
    "f = [c for c in df_train.columns if c not in ['IdGame', 'DtGame', 'DtGameUTC',\n",
    "'IdPlayer_y','IdTeam','NuJersey','CdPosition', 'target1_shift_1', 'target2_shift_1',\n",
    "'target3_shift_1','target1_shift_2', 'target3_shift_2', 'target4_shift_2',\n",
    "'target1_shift_3','target2_shift_3','target3_shift_3','target4_shift_3',\n",
    "'target1_shift_4','target2_shift_4','target3_shift_4','target4_shift_4',\n",
    "'target1_shift_5','target2_shift_5','target3_shift_5','target4_shift_5',\n",
    "'target1_shift_6','target2_shift_6','target3_shift_6','target4_shift_6',\n",
    "'target1_shift_7','target2_shift_7','target3_shift_7','target4_shift_7']]\n",
    "\n",
    "df_train[f] = df_train[f].fillna(0)        \n",
    "\n",
    "# Remove os na das seguintes colunas\n",
    "df_train = df_train.dropna(subset=[             \n",
    "    'target1_shift_1', 'target2_shift_1', 'target3_shift_1', 'target1_shift_2',\n",
    "    'target3_shift_2', 'target4_shift_2', 'target1_shift_3', 'target2_shift_3',\n",
    "    'target3_shift_3', 'target4_shift_3', 'target1_shift_4', 'target2_shift_4',\n",
    "    'target3_shift_4', 'target4_shift_4', 'target1_shift_5', 'target3_shift_5',\n",
    "    'target4_shift_5', 'target1_shift_6', 'target2_shift_6', 'target3_shift_6',\n",
    "    'target4_shift_6', 'target1_shift_7', 'target2_shift_7', 'target3_shift_7',\n",
    "    'target4_shift_7'])\n",
    "\n",
    "df_train.rename(columns={'IdPlayer_x': 'IdPlayer'}, inplace=True)\n",
    "df_train.info(null_counts=True)"
   ]
  },
  {
   "cell_type": "markdown",
   "metadata": {},
   "source": [
    "### Team Box Scores"
   ]
  },
  {
   "cell_type": "code",
   "execution_count": 67,
   "metadata": {},
   "outputs": [],
   "source": [
    "df_train = pd.merge(df_train, df_tbs, on = ['IdDtTeam'], how = 'left')"
   ]
  },
  {
   "cell_type": "code",
   "execution_count": 68,
   "metadata": {},
   "outputs": [],
   "source": [
    "# Substitui os valores Nan das seguintes colunas por 0\n",
    "f = [\n",
    "    'FlgHome','NuFlyOuts_Team', 'NuGroundOuts_Team', 'NuRunsScored_Team',\n",
    "    'NuDoubles_Team', 'NuTriples_Team', 'NuHomeRuns_Team', 'NuStrikeOuts_Team',\n",
    "    'NuBaseOnBalls_Team', 'NuIntentionalWalks_Team', 'NuHits_Team', 'NuHitByPitch_Team',\n",
    "    'NuAtBats_Team', 'NuCaughtStealing_Team', 'NuStolenBases_Team', 'NuGroundIntoDoublePlay_Team',\n",
    "    'NuGroundIntoTriplePlay_Team', 'NuPlateAppearances_Team', 'NuTotalBases_Team', 'NuRbi_Team',\n",
    "    'NuLeftOnBase_Team', 'NuSacBunts_Team', 'NuSacFlies_Team', 'NuCatchersInterference_Team',\n",
    "    'NuPickoffs_Team', 'NuAirOutsPitching_Team', 'NuGroundOutsPitching_Team', 'NuRunsPitching_Team',\n",
    "    'NuDoublesPitching_Team', 'NuTriplesPitching_Team', 'NuHomeRunsPitching_Team',\n",
    "    'NuStrikeOutsPitching_Team', 'NuBaseOnBallsPitching_Team', 'NuIntentionalWalksPitching_Team',\n",
    "    'NuHitsPitching_Team', 'NuHitByPitchPitching_Team', 'NuAtBatsPitching_Team',\n",
    "    'NuCaughtStealingPitching_Team', 'NuStolenBasesPitching_Team', 'NuInningsPitched_Team',\n",
    "    'NuEarnedRuns_Team', 'NuBattersFaced_Team', 'NuOutsPitching_Team', 'NuHitBatsmen_Team',\n",
    "    'NuBalks_Team', 'NuWildPitches_Team', 'NuPickoffsPitching_Team', 'NuRbiPitching_Team',\n",
    "    'NuInheritedRunners_Team', 'NuInheritedRunnersScored_Team', 'NuCatchersInterferencePitching_Team',\n",
    "    'NuSacBuntsPitching_Team', 'NuSacFliesPitching_Team'\n",
    "]\n",
    "\n",
    "df_train[f] = df_train[f].fillna(0)        "
   ]
  },
  {
   "cell_type": "code",
   "execution_count": 69,
   "metadata": {},
   "outputs": [],
   "source": [
    "df_train = df_train.rename(columns={'IdDtGame_y': 'IdDtGame'})"
   ]
  },
  {
   "cell_type": "markdown",
   "metadata": {},
   "source": [
    "#### Games"
   ]
  },
  {
   "cell_type": "code",
   "execution_count": 70,
   "metadata": {},
   "outputs": [],
   "source": [
    "df_train = pd.merge(df_train, df_g, on = ['IdDtGame'], how = 'left')"
   ]
  },
  {
   "cell_type": "code",
   "execution_count": 71,
   "metadata": {},
   "outputs": [],
   "source": [
    "f = [\n",
    "    'NuSeason', 'NuGame',\n",
    "    'NuScheduledInnings', 'NuGamesInSeries', 'NuWinsHomeTeam',\n",
    "    'NuLossesHomeTeam', 'NuWinPctHomeTeam', 'NuScoreHomeTeam',\n",
    "    'NuWinsAwayTeam', 'NuLossesAwayTeam', 'NuWinPctAwayTeam', 'NuScoreAwayTeam'\n",
    "]\n",
    "df_train[f] = df_train[f].fillna(0)        "
   ]
  },
  {
   "cell_type": "code",
   "execution_count": 72,
   "metadata": {},
   "outputs": [
    {
     "name": "stdout",
     "output_type": "stream",
     "text": [
      "<class 'pandas.core.frame.DataFrame'>\n",
      "Int64Index: 2693260 entries, 0 to 2693259\n",
      "Columns: 188 entries, Dt to NuScoreAwayTeam\n",
      "dtypes: datetime64[ns](5), float16(48), float32(40), float64(75), int64(7), object(13)\n",
      "memory usage: 2.7+ GB\n"
     ]
    }
   ],
   "source": [
    "df_train.info(null_counts=True, max_cols = 150)"
   ]
  },
  {
   "cell_type": "code",
   "execution_count": 73,
   "metadata": {},
   "outputs": [],
   "source": [
    "df_train = pd.get_dummies(df_train, columns = ['CdPosition', \"CdGameType\", \"CdGameState\", \"CdDoubleHeader\", \n",
    "                                    \"CdDayNight\", \"FlgWinnerHomeTeam\", \"FlgWinnerAwayTeam\",'FlgTie'])"
   ]
  },
  {
   "cell_type": "code",
   "execution_count": 74,
   "metadata": {},
   "outputs": [],
   "source": [
    "# Dropa colunas com vários valores Nan\n",
    "df_train.drop([\n",
    "    'IdGame_x', 'DtGame_x', 'DtGameUTC', 'IdPlayer_y',\n",
    "    'IdTeam_x', 'IdTeam_y', \"NuGameTimeUTC_Team\", \"IdDtGame\", \"DtGame\", \"IdGame\",\n",
    "    'IdGame_y', 'NuJersey', \"DtGame_y\", \"IdHomeTeam\", \"IdAwayTeam\"], axis = 1, inplace = True)"
   ]
  },
  {
   "cell_type": "markdown",
   "metadata": {},
   "source": [
    "### Reduce memory usage"
   ]
  },
  {
   "cell_type": "code",
   "execution_count": 80,
   "metadata": {},
   "outputs": [
    {
     "name": "stdout",
     "output_type": "stream",
     "text": [
      "Memory usage of dataframe is 2278.25 MB\n",
      "Memory usage after optimization is: 1058.22 MB\n",
      "Decreased by 53.6%\n"
     ]
    },
    {
     "name": "stderr",
     "output_type": "stream",
     "text": [
      "C:\\Users\\maisa\\AppData\\Local\\Temp\\ipykernel_6068\\4108362334.py:2: PerformanceWarning: DataFrame is highly fragmented.  This is usually the result of calling `frame.insert` many times, which has poor performance.  Consider joining all columns at once using pd.concat(axis=1) instead. To get a de-fragmented frame, use `newframe = frame.copy()`\n",
      "  df_train_reduced[TARGET_COLS] = df_train[TARGET_COLS]\n",
      "C:\\Users\\maisa\\AppData\\Local\\Temp\\ipykernel_6068\\4108362334.py:2: PerformanceWarning: DataFrame is highly fragmented.  This is usually the result of calling `frame.insert` many times, which has poor performance.  Consider joining all columns at once using pd.concat(axis=1) instead. To get a de-fragmented frame, use `newframe = frame.copy()`\n",
      "  df_train_reduced[TARGET_COLS] = df_train[TARGET_COLS]\n",
      "C:\\Users\\maisa\\AppData\\Local\\Temp\\ipykernel_6068\\4108362334.py:2: PerformanceWarning: DataFrame is highly fragmented.  This is usually the result of calling `frame.insert` many times, which has poor performance.  Consider joining all columns at once using pd.concat(axis=1) instead. To get a de-fragmented frame, use `newframe = frame.copy()`\n",
      "  df_train_reduced[TARGET_COLS] = df_train[TARGET_COLS]\n",
      "C:\\Users\\maisa\\AppData\\Local\\Temp\\ipykernel_6068\\4108362334.py:2: PerformanceWarning: DataFrame is highly fragmented.  This is usually the result of calling `frame.insert` many times, which has poor performance.  Consider joining all columns at once using pd.concat(axis=1) instead. To get a de-fragmented frame, use `newframe = frame.copy()`\n",
      "  df_train_reduced[TARGET_COLS] = df_train[TARGET_COLS]\n"
     ]
    }
   ],
   "source": [
    "df_train_reduced = reduce_mem_usage(df_train[df_train.columns.difference(TARGET_COLS)]);\n",
    "df_train_reduced[TARGET_COLS] = df_train[TARGET_COLS]\n",
    "df_train = df_train_reduced.copy()\n",
    "del df_train_reduced"
   ]
  },
  {
   "cell_type": "code",
   "execution_count": 81,
   "metadata": {},
   "outputs": [
    {
     "name": "stdout",
     "output_type": "stream",
     "text": [
      "<class 'pandas.core.frame.DataFrame'>\n",
      "Int64Index: 2693260 entries, 0 to 2693259\n",
      "Data columns (total 195 columns):\n",
      " #    Column                               Dtype         \n",
      "---   ------                               -----         \n",
      " 0    CdDayNight_day                       float16       \n",
      " 1    CdDayNight_night                     float16       \n",
      " 2    CdDoubleHeader_N                     float16       \n",
      " 3    CdDoubleHeader_S                     float16       \n",
      " 4    CdDoubleHeader_Y                     float16       \n",
      " 5    CdGameState_Completed Early          float16       \n",
      " 6    CdGameState_F                        float16       \n",
      " 7    CdGameState_Final                    float16       \n",
      " 8    CdGameType_A                         float16       \n",
      " 9    CdGameType_D                         float16       \n",
      " 10   CdGameType_F                         float16       \n",
      " 11   CdGameType_L                         float16       \n",
      " 12   CdGameType_R                         float16       \n",
      " 13   CdGameType_W                         float16       \n",
      " 14   CdPosition_1.0                       float16       \n",
      " 15   CdPosition_10.0                      float16       \n",
      " 16   CdPosition_11.0                      float16       \n",
      " 17   CdPosition_12.0                      float16       \n",
      " 18   CdPosition_2.0                       float16       \n",
      " 19   CdPosition_3.0                       float16       \n",
      " 20   CdPosition_4.0                       float16       \n",
      " 21   CdPosition_5.0                       float16       \n",
      " 22   CdPosition_6.0                       float16       \n",
      " 23   CdPosition_7.0                       float16       \n",
      " 24   CdPosition_8.0                       float16       \n",
      " 25   CdPosition_9.0                       float16       \n",
      " 26   Dt                                   datetime64[ns]\n",
      " 27   DtDay                                int8          \n",
      " 28   DtDayOfWeek                          int8          \n",
      " 29   DtDayOfYear                          int16         \n",
      " 30   DtHour                               float16       \n",
      " 31   DtMinute                             float16       \n",
      " 32   DtMonth                              int8          \n",
      " 33   DtQuarter                            int8          \n",
      " 34   DtYear                               int16         \n",
      " 35   FlgHome                              float16       \n",
      " 36   FlgTie_0.0                           float16       \n",
      " 37   FlgWinnerAwayTeam_False              float16       \n",
      " 38   FlgWinnerAwayTeam_True               float16       \n",
      " 39   FlgWinnerHomeTeam_False              float16       \n",
      " 40   FlgWinnerHomeTeam_True               float16       \n",
      " 41   IdDtGame_x                           object        \n",
      " 42   IdDtPlayer                           object        \n",
      " 43   IdDtTeam                             object        \n",
      " 44   IdPlayer                             int32         \n",
      " 45   NuAirOutsPitching_Team               float16       \n",
      " 46   NuAssists_Player                     float16       \n",
      " 47   NuAtBatsPitching_Team                float16       \n",
      " 48   NuAtBats_Player                      float16       \n",
      " 49   NuAtBats_Team                        float16       \n",
      " 50   NuBalks_Player                       float16       \n",
      " 51   NuBalks_Team                         float16       \n",
      " 52   NuBalls_Player                       float16       \n",
      " 53   NuBaseOnBallsPitching_Team           float16       \n",
      " 54   NuBaseOnBalls_Player                 float16       \n",
      " 55   NuBaseOnBalls_Team                   float16       \n",
      " 56   NuBattersFaced_Player                float16       \n",
      " 57   NuBattersFaced_Team                  float16       \n",
      " 58   NuBattingOrder_Player                float16       \n",
      " 59   NuBlownSaves_Player                  float16       \n",
      " 60   NuCatchersInterferencePitching_Team  float16       \n",
      " 61   NuCatchersInterference_Player        float16       \n",
      " 62   NuCatchersInterference_Team          float16       \n",
      " 63   NuCaughtStealingPitching_Team        float16       \n",
      " 64   NuCaughtStealing_Player              float16       \n",
      " 65   NuCaughtStealing_Team                float16       \n",
      " 66   NuChances_Player                     float16       \n",
      " 67   NuDoublesPitching_Team               float16       \n",
      " 68   NuDoubles_Player                     float16       \n",
      " 69   NuDoubles_Team                       float16       \n",
      " 70   NuEarnedRuns_Player                  float16       \n",
      " 71   NuEarnedRuns_Team                    float16       \n",
      " 72   NuErrors_Player                      float16       \n",
      " 73   NuFlyOuts_Player                     float16       \n",
      " 74   NuFlyOuts_Team                       float16       \n",
      " 75   NuGame                               float16       \n",
      " 76   NuGamesInSeries                      float16       \n",
      " 77   NuGamesPlayedBatting_Player          float16       \n",
      " 78   NuGroundIntoDoublePlay_Player        float16       \n",
      " 79   NuGroundIntoDoublePlay_Team          float16       \n",
      " 80   NuGroundIntoTriplePlay_Player        float16       \n",
      " 81   NuGroundIntoTriplePlay_Team          float16       \n",
      " 82   NuGroundOutsPitching_Team            float16       \n",
      " 83   NuGroundOuts_Player                  float16       \n",
      " 84   NuGroundOuts_Team                    float16       \n",
      " 85   NuHitBatsmen_Player                  float16       \n",
      " 86   NuHitBatsmen_Team                    float16       \n",
      " 87   NuHitByPitchPitching_Team            float16       \n",
      " 88   NuHitByPitch_Player                  float16       \n",
      " 89   NuHitByPitch_Team                    float16       \n",
      " 90   NuHitsPitching_Team                  float16       \n",
      " 91   NuHits_Player                        float16       \n",
      " 92   NuHits_Team                          float16       \n",
      " 93   NuHolds_Player                       float16       \n",
      " 94   NuHomeRunsPitching_Team              float16       \n",
      " 95   NuHomeRuns_Player                    float16       \n",
      " 96   NuHomeRuns_Team                      float16       \n",
      " 97   NuInheritedRunnersScored_Player      float16       \n",
      " 98   NuInheritedRunnersScored_Team        float16       \n",
      " 99   NuInheritedRunners_Player            float16       \n",
      " 100  NuInheritedRunners_Team              float16       \n",
      " 101  NuInningsPitched_Player              float16       \n",
      " 102  NuInningsPitched_Team                float16       \n",
      " 103  NuIntentionalWalksPitching_Team      float16       \n",
      " 104  NuIntentionalWalks_Player            float16       \n",
      " 105  NuIntentionalWalks_Team              float16       \n",
      " 106  NuLeftOnBase_Player                  float16       \n",
      " 107  NuLeftOnBase_Team                    float16       \n",
      " 108  NuLossesAwayTeam                     float16       \n",
      " 109  NuLossesHomeTeam                     float16       \n",
      " 110  NuOutsPitching_Team                  float16       \n",
      " 111  NuPickoffsPitching_Team              float16       \n",
      " 112  NuPickoffs_Player                    float16       \n",
      " 113  NuPickoffs_Team                      float16       \n",
      " 114  NuPitchesThrown_Player               float16       \n",
      " 115  NuPlateAppearances_Player            float16       \n",
      " 116  NuPlateAppearances_Team              float16       \n",
      " 117  NuPutOuts_Player                     float16       \n",
      " 118  NuRbiPitching_Team                   float16       \n",
      " 119  NuRbi_Player                         float16       \n",
      " 120  NuRbi_Team                           float16       \n",
      " 121  NuRunsPitching_Team                  float16       \n",
      " 122  NuRunsScored_Player                  float16       \n",
      " 123  NuRunsScored_Team                    float16       \n",
      " 124  NuSacBuntsPitching_Team              float16       \n",
      " 125  NuSacBunts_Player                    float16       \n",
      " 126  NuSacBunts_Team                      float16       \n",
      " 127  NuSacFliesPitching_Team              float16       \n",
      " 128  NuSacFlies_Player                    float16       \n",
      " 129  NuSacFlies_Team                      float16       \n",
      " 130  NuSaveOpportunities_Player           float16       \n",
      " 131  NuSaves_Player                       float16       \n",
      " 132  NuScheduledInnings                   float16       \n",
      " 133  NuScoreAwayTeam                      float16       \n",
      " 134  NuScoreHomeTeam                      float16       \n",
      " 135  NuSeason                             float16       \n",
      " 136  NuStolenBasesPitching_Team           float16       \n",
      " 137  NuStolenBases_Player                 float16       \n",
      " 138  NuStolenBases_Team                   float16       \n",
      " 139  NuStrikeOutsPitching                 float16       \n",
      " 140  NuStrikeOutsPitching_Team            float16       \n",
      " 141  NuStrikeOuts_Player                  float16       \n",
      " 142  NuStrikeOuts_Team                    float16       \n",
      " 143  NuStrikes_Player                     float16       \n",
      " 144  NuTotalBases_Player                  float16       \n",
      " 145  NuTotalBases_Team                    float16       \n",
      " 146  NuTriplesPitching_Team               float16       \n",
      " 147  NuTriples_Player                     float16       \n",
      " 148  NuTriples_Team                       float16       \n",
      " 149  NuWildPitches_Player                 float16       \n",
      " 150  NuWildPitches_Team                   float16       \n",
      " 151  NuWinPctAwayTeam                     float16       \n",
      " 152  NuWinPctHomeTeam                     float16       \n",
      " 153  NuWinsAwayTeam                       float16       \n",
      " 154  NuWinsHomeTeam                       float16       \n",
      " 155  target1_pmean                        float16       \n",
      " 156  target1_pmedian                      float16       \n",
      " 157  target1_shift_1                      float16       \n",
      " 158  target1_shift_2                      float16       \n",
      " 159  target1_shift_3                      float16       \n",
      " 160  target1_shift_4                      float16       \n",
      " 161  target1_shift_5                      float16       \n",
      " 162  target1_shift_6                      float16       \n",
      " 163  target1_shift_7                      float16       \n",
      " 164  target2_pmean                        float16       \n",
      " 165  target2_pmedian                      float16       \n",
      " 166  target2_shift_1                      float16       \n",
      " 167  target2_shift_2                      float16       \n",
      " 168  target2_shift_3                      float16       \n",
      " 169  target2_shift_4                      float16       \n",
      " 170  target2_shift_5                      float16       \n",
      " 171  target2_shift_6                      float16       \n",
      " 172  target2_shift_7                      float16       \n",
      " 173  target3_pmean                        float16       \n",
      " 174  target3_pmedian                      float16       \n",
      " 175  target3_shift_1                      float16       \n",
      " 176  target3_shift_2                      float16       \n",
      " 177  target3_shift_3                      float16       \n",
      " 178  target3_shift_4                      float16       \n",
      " 179  target3_shift_5                      float16       \n",
      " 180  target3_shift_6                      float16       \n",
      " 181  target3_shift_7                      float16       \n",
      " 182  target4_pmean                        float16       \n",
      " 183  target4_pmedian                      float16       \n",
      " 184  target4_shift_1                      float16       \n",
      " 185  target4_shift_2                      float16       \n",
      " 186  target4_shift_3                      float16       \n",
      " 187  target4_shift_4                      float16       \n",
      " 188  target4_shift_5                      float16       \n",
      " 189  target4_shift_6                      float16       \n",
      " 190  target4_shift_7                      float16       \n",
      " 191  target1                              float32       \n",
      " 192  target2                              float32       \n",
      " 193  target3                              float32       \n",
      " 194  target4                              float32       \n",
      "dtypes: datetime64[ns](1), float16(180), float32(4), int16(2), int32(1), int8(4), object(3)\n",
      "memory usage: 1.1+ GB\n"
     ]
    }
   ],
   "source": [
    "df_train.info(max_cols = 200)"
   ]
  },
  {
   "cell_type": "markdown",
   "metadata": {},
   "source": [
    "## Save Prepared Datasets"
   ]
  },
  {
   "cell_type": "code",
   "execution_count": 82,
   "metadata": {},
   "outputs": [],
   "source": [
    "df_targets.to_pickle(processed_data_path + 'targets.pkl')\n",
    "df_pbs.to_pickle(processed_data_path + 'playerBoxScores.pkl')\n",
    "df_tbs.to_pickle(processed_data_path + 'teamBoxScores.pkl')\n",
    "df_g.to_pickle(processed_data_path + 'games.pkl')\n",
    "\n",
    "df_train.to_pickle(processed_data_path + 'train.pkl')"
   ]
  },
  {
   "cell_type": "code",
   "execution_count": 83,
   "metadata": {},
   "outputs": [
    {
     "name": "stdout",
     "output_type": "stream",
     "text": [
      "<class 'pandas.core.frame.DataFrame'>\n",
      "Int64Index: 2693260 entries, 0 to 2693259\n",
      "Columns: 195 entries, CdDayNight_day to target4\n",
      "dtypes: datetime64[ns](1), float16(180), float32(4), int16(2), int32(1), int8(4), object(3)\n",
      "memory usage: 1.1+ GB\n"
     ]
    }
   ],
   "source": [
    "pd.read_pickle(processed_data_path + 'train.pkl').info(null_counts=True)"
   ]
  }
 ],
 "metadata": {
  "kernelspec": {
   "display_name": "Python 3 (ipykernel)",
   "language": "python",
   "name": "python3"
  },
  "language_info": {
   "codemirror_mode": {
    "name": "ipython",
    "version": 3
   },
   "file_extension": ".py",
   "mimetype": "text/x-python",
   "name": "python",
   "nbconvert_exporter": "python",
   "pygments_lexer": "ipython3",
   "version": "3.9.7"
  }
 },
 "nbformat": 4,
 "nbformat_minor": 2
}

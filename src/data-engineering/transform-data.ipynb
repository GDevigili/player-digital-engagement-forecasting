{
 "cells": [
  {
   "attachments": {},
   "cell_type": "markdown",
   "metadata": {},
   "source": [
    "# Data Preparation"
   ]
  },
  {
   "attachments": {},
   "cell_type": "markdown",
   "metadata": {},
   "source": [
    "## Transform Data\n",
    "\n",
    "Notebook que irá conter o código para o processamento e transformações de dados. Este notebook deve ser rodado após o notebook `pre-process-data.ipynb`.\n",
    "\n",
    "os dados \"crus\" estão localizados em `/src/data/raw-data` e os dados tratados estão salvos em `/src/data/processed-data`."
   ]
  },
  {
   "attachments": {},
   "cell_type": "markdown",
   "metadata": {},
   "source": [
    "## Initial Setup"
   ]
  },
  {
   "cell_type": "code",
   "execution_count": 1,
   "metadata": {},
   "outputs": [],
   "source": [
    "# Imports\n",
    "import pandas as pd\n",
    "import numpy as np\n",
    "\n",
    "import pickle as pkl\n",
    "\n",
    "from joblib import Parallel, delayed"
   ]
  },
  {
   "cell_type": "code",
   "execution_count": 2,
   "metadata": {},
   "outputs": [],
   "source": [
    "# Global Variables\n",
    "# file paths\n",
    "raw_data_path = '../data/raw-data/'\n",
    "processed_data_path = '../data/processed-data/'"
   ]
  },
  {
   "cell_type": "code",
   "execution_count": 3,
   "metadata": {},
   "outputs": [],
   "source": [
    "# Loading data\n",
    "df_targets = pd.read_pickle(processed_data_path + 'targets.pkl')\n",
    "df_pbs = pd.read_pickle(processed_data_path + 'playerBoxScores.pkl')"
   ]
  },
  {
   "attachments": {},
   "cell_type": "markdown",
   "metadata": {},
   "source": [
    "## Data Transformations"
   ]
  },
  {
   "attachments": {},
   "cell_type": "markdown",
   "metadata": {},
   "source": [
    "### Reduce Memory Usage"
   ]
  },
  {
   "cell_type": "code",
   "execution_count": 4,
   "metadata": {},
   "outputs": [],
   "source": [
    "from pandas.api.types import is_datetime64_any_dtype as is_datetime\n",
    "\n",
    "def reduce_mem_usage(df):\n",
    "    \"\"\" iterate through all the columns of a dataframe and modify the data type\n",
    "        to reduce memory usage.        \n",
    "    \"\"\"\n",
    "    start_mem = df.memory_usage().sum() / 1024**2\n",
    "    print('Memory usage of dataframe is {:.2f} MB'.format(start_mem))\n",
    "    \n",
    "    for col in df.columns:\n",
    "        col_type = df[col].dtype\n",
    "        \n",
    "        if col_type != object and is_datetime(df[col]) == False and col_type != 'category':\n",
    "            c_min = df[col].min()\n",
    "            c_max = df[col].max()\n",
    "            if str(col_type)[:3] == 'int':\n",
    "                if c_min > np.iinfo(np.int8).min and c_max < np.iinfo(np.int8).max:\n",
    "                    df[col] = df[col].astype(np.int8)\n",
    "                elif c_min > np.iinfo(np.int16).min and c_max < np.iinfo(np.int16).max:\n",
    "                    df[col] = df[col].astype(np.int16)\n",
    "                elif c_min > np.iinfo(np.int32).min and c_max < np.iinfo(np.int32).max:\n",
    "                    df[col] = df[col].astype(np.int32)\n",
    "                elif c_min > np.iinfo(np.int64).min and c_max < np.iinfo(np.int64).max:\n",
    "                    df[col] = df[col].astype(np.int64)  \n",
    "            else:\n",
    "                if c_min > np.finfo(np.float16).min and c_max < np.finfo(np.float16).max:\n",
    "                    df[col] = df[col].astype(np.float16)\n",
    "                elif c_min > np.finfo(np.float32).min and c_max < np.finfo(np.float32).max:\n",
    "                    df[col] = df[col].astype(np.float32)\n",
    "                else:\n",
    "                    df[col] = df[col].astype(np.float64)\n",
    "        elif is_datetime(df[col]) == True:\n",
    "            df[col] = df[col].astype('datetime64[ns]')\n",
    "\n",
    "    end_mem = df.memory_usage().sum() / 1024**2\n",
    "    print('Memory usage after optimization is: {:.2f} MB'.format(end_mem))\n",
    "    print('Decreased by {:.1f}%'.format(100 * (start_mem - end_mem) / start_mem))\n",
    "    \n",
    "    return df"
   ]
  },
  {
   "attachments": {},
   "cell_type": "markdown",
   "metadata": {},
   "source": [
    "#### Df Targets"
   ]
  },
  {
   "cell_type": "code",
   "execution_count": 5,
   "metadata": {},
   "outputs": [
    {
     "name": "stdout",
     "output_type": "stream",
     "text": [
      "Memory usage of dataframe is 71.99 MB\n",
      "Memory usage after optimization is: 71.99 MB\n",
      "Decreased by 0.0%\n"
     ]
    }
   ],
   "source": [
    "df_targets = reduce_mem_usage(df_targets);"
   ]
  },
  {
   "cell_type": "code",
   "execution_count": 6,
   "metadata": {},
   "outputs": [
    {
     "name": "stdout",
     "output_type": "stream",
     "text": [
      "<class 'pandas.core.frame.DataFrame'>\n",
      "RangeIndex: 2695788 entries, 0 to 2695787\n",
      "Data columns (total 7 columns):\n",
      " #   Column      Dtype         \n",
      "---  ------      -----         \n",
      " 0   Dt          datetime64[ns]\n",
      " 1   IdPlayer    int32         \n",
      " 2   target1     float16       \n",
      " 3   target2     float16       \n",
      " 4   target3     float16       \n",
      " 5   target4     float16       \n",
      " 6   IdDtPlayer  object        \n",
      "dtypes: datetime64[ns](1), float16(4), int32(1), object(1)\n",
      "memory usage: 72.0+ MB\n"
     ]
    }
   ],
   "source": [
    "df_targets.info(show_counts=False)"
   ]
  },
  {
   "attachments": {},
   "cell_type": "markdown",
   "metadata": {},
   "source": [
    "#### Player Box Scores"
   ]
  },
  {
   "cell_type": "code",
   "execution_count": 7,
   "metadata": {},
   "outputs": [
    {
     "name": "stdout",
     "output_type": "stream",
     "text": [
      "Memory usage of dataframe is 29.97 MB\n",
      "Memory usage after optimization is: 29.97 MB\n",
      "Decreased by 0.0%\n"
     ]
    }
   ],
   "source": [
    "df_pbs = reduce_mem_usage(df_pbs);"
   ]
  },
  {
   "cell_type": "code",
   "execution_count": 8,
   "metadata": {},
   "outputs": [
    {
     "name": "stdout",
     "output_type": "stream",
     "text": [
      "<class 'pandas.core.frame.DataFrame'>\n",
      "Int64Index: 219727 entries, 0 to 451\n",
      "Data columns (total 54 columns):\n",
      " #   Column                    Non-Null Count   Dtype         \n",
      "---  ------                    --------------   -----         \n",
      " 0   IdGame                    219727 non-null  int32         \n",
      " 1   DtGame                    219727 non-null  datetime64[ns]\n",
      " 2   DtGameUTC                 219727 non-null  object        \n",
      " 3   IdPlayer                  219727 non-null  int32         \n",
      " 4   IdTeam                    219727 non-null  int16         \n",
      " 5   NuJersey                  219690 non-null  object        \n",
      " 6   CdPosition                219727 non-null  int8          \n",
      " 7   NuStrikeOutsPitching      65466 non-null   float16       \n",
      " 8   NuBattingOrder            183390 non-null  float16       \n",
      " 9   NuGamesPlayedBatting      183395 non-null  float16       \n",
      " 10  NuFlyOuts                 183395 non-null  float16       \n",
      " 11  NuGroundOuts              183395 non-null  float16       \n",
      " 12  NuRunsScored              183395 non-null  float16       \n",
      " 13  NuDoubles                 183395 non-null  float16       \n",
      " 14  NuTriples                 183395 non-null  float16       \n",
      " 15  NuHomeRuns                183395 non-null  float16       \n",
      " 16  NuStrikeOuts              183395 non-null  float16       \n",
      " 17  NuBaseOnBalls             183395 non-null  float16       \n",
      " 18  NuIntentionalWalks        183395 non-null  float16       \n",
      " 19  NuHits                    183395 non-null  float16       \n",
      " 20  NuHitByPitch              183395 non-null  float16       \n",
      " 21  NuAtBats                  183395 non-null  float16       \n",
      " 22  NuCaughtStealing          183395 non-null  float16       \n",
      " 23  NuStolenBases             183395 non-null  float16       \n",
      " 24  NuGroundIntoDoublePlay    183395 non-null  float16       \n",
      " 25  NuGroundIntoTriplePlay    183395 non-null  float16       \n",
      " 26  NuPlateAppearances        183395 non-null  float16       \n",
      " 27  NuTotalBases              183395 non-null  float16       \n",
      " 28  NuRbi                     183395 non-null  float16       \n",
      " 29  NuLeftOnBase              183395 non-null  float16       \n",
      " 30  NuSacBunts                183395 non-null  float16       \n",
      " 31  NuSacFlies                183395 non-null  float16       \n",
      " 32  NuCatchersInterference    183395 non-null  float16       \n",
      " 33  NuPickoffs                183395 non-null  float16       \n",
      " 34  NuInningsPitched          65466 non-null   float16       \n",
      " 35  NuSaveOpportunities       65466 non-null   float16       \n",
      " 36  NuEarnedRuns              65466 non-null   float16       \n",
      " 37  NuBattersFaced            65466 non-null   float16       \n",
      " 38  NuPitchesThrown           65466 non-null   float16       \n",
      " 39  NuBalls                   65466 non-null   float16       \n",
      " 40  NuStrikes                 65466 non-null   float16       \n",
      " 41  NuHitBatsmen              65466 non-null   float16       \n",
      " 42  NuBalks                   65466 non-null   float16       \n",
      " 43  NuWildPitches             65466 non-null   float16       \n",
      " 44  NuInheritedRunners        65466 non-null   float16       \n",
      " 45  NuInheritedRunnersScored  65466 non-null   float16       \n",
      " 46  NuSaves                   55638 non-null   float16       \n",
      " 47  NuHolds                   55638 non-null   float16       \n",
      " 48  NuBlownSaves              55638 non-null   float16       \n",
      " 49  NuAssists                 185386 non-null  float16       \n",
      " 50  NuPutOuts                 185386 non-null  float16       \n",
      " 51  NuErrors                  185386 non-null  float16       \n",
      " 52  NuChances                 185386 non-null  float16       \n",
      " 53  IdDtPlayer                219727 non-null  object        \n",
      "dtypes: datetime64[ns](1), float16(46), int16(1), int32(2), int8(1), object(3)\n",
      "memory usage: 30.0+ MB\n"
     ]
    }
   ],
   "source": [
    "df_pbs.info()"
   ]
  },
  {
   "attachments": {},
   "cell_type": "markdown",
   "metadata": {},
   "source": [
    "## Save Prepared Datasets"
   ]
  },
  {
   "cell_type": "code",
   "execution_count": 9,
   "metadata": {},
   "outputs": [],
   "source": [
    "df_targets.to_pickle(processed_data_path + 'targets.pkl')\n",
    "df_pbs.to_pickle(processed_data_path + 'playerBoxScores.pkl')"
   ]
  },
  {
   "cell_type": "code",
   "execution_count": null,
   "metadata": {},
   "outputs": [],
   "source": []
  }
 ],
 "metadata": {
  "kernelspec": {
   "display_name": "Python 3",
   "language": "python",
   "name": "python3"
  },
  "language_info": {
   "codemirror_mode": {
    "name": "ipython",
    "version": 3
   },
   "file_extension": ".py",
   "mimetype": "text/x-python",
   "name": "python",
   "nbconvert_exporter": "python",
   "pygments_lexer": "ipython3",
   "version": "3.11.3"
  },
  "orig_nbformat": 4
 },
 "nbformat": 4,
 "nbformat_minor": 2
}

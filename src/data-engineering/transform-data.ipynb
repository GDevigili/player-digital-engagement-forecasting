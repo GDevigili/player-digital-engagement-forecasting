{
 "cells": [
  {
   "cell_type": "markdown",
   "metadata": {},
   "source": [
    "# Data Preparation"
   ]
  },
  {
   "cell_type": "markdown",
   "metadata": {},
   "source": [
    "## Transform Data\n",
    "\n",
    "Notebook que irá conter o código para o processamento e transformações de dados. Este notebook deve ser rodado após o notebook `pre-process-data.ipynb`.\n",
    "\n",
    "os dados \"crus\" estão localizados em `/src/data/raw-data` e os dados tratados estão salvos em `/src/data/processed-data`."
   ]
  },
  {
   "cell_type": "markdown",
   "metadata": {},
   "source": [
    "## Initial Setup"
   ]
  },
  {
   "cell_type": "code",
   "execution_count": 53,
   "metadata": {},
   "outputs": [],
   "source": [
    "# Imports\n",
    "import pandas as pd\n",
    "import numpy as np\n",
    "\n",
    "import pickle as pkl\n",
    "\n",
    "from joblib import Parallel, delayed\n",
    "\n",
    "# disable warnings\n",
    "import warnings\n",
    "warnings.filterwarnings(\"ignore\", category=DeprecationWarning)\n",
    "warnings.filterwarnings(\"ignore\", category=FutureWarning)\n",
    "pd.options.mode.chained_assignment = None  # default='warn'"
   ]
  },
  {
   "cell_type": "code",
   "execution_count": 54,
   "metadata": {},
   "outputs": [],
   "source": [
    "# Global Variables\n",
    "# file paths\n",
    "raw_data_path = '../data/raw-data/'\n",
    "processed_data_path = '../data/processed-data/'\n",
    "\n",
    "\n",
    "TARGET_COLS = ['target1', 'target2', 'target3', 'target4']\n",
    "\n",
    "RANDOM_SEED = 42\n",
    "\n",
    "TEST_SPLIT_DATE = '2021-04-30'"
   ]
  },
  {
   "cell_type": "code",
   "execution_count": 55,
   "metadata": {},
   "outputs": [],
   "source": [
    "# Loading data\n",
    "df_targets = pd.read_pickle(processed_data_path + 'targets.pkl')\n",
    "df_pbs = pd.read_pickle(processed_data_path + 'playerBoxScores.pkl')\n",
    "df_tbs = pd.read_pickle(processed_data_path + 'teamBoxScores.pkl')\n",
    "df_g = pd.read_pickle(processed_data_path + 'games.pkl')"
   ]
  },
  {
   "cell_type": "markdown",
   "metadata": {},
   "source": [
    "## Data Transformations"
   ]
  },
  {
   "cell_type": "markdown",
   "metadata": {},
   "source": [
    "### Reduce Memory Usage"
   ]
  },
  {
   "cell_type": "code",
   "execution_count": 56,
   "metadata": {},
   "outputs": [],
   "source": [
    "from pandas.api.types import is_datetime64_any_dtype as is_datetime\n",
    "\n",
    "def reduce_mem_usage(df):\n",
    "    \"\"\" iterate through all the columns of a dataframe and modify the data type\n",
    "        to reduce memory usage.        \n",
    "    \"\"\"\n",
    "    start_mem = df.memory_usage().sum() / 1024**2\n",
    "    print('Memory usage of dataframe is {:.2f} MB'.format(start_mem))\n",
    "    \n",
    "    for col in df.columns:\n",
    "        col_type = df[col].dtype\n",
    "        \n",
    "        if col_type != object and is_datetime(df[col]) == False and col_type != 'category':\n",
    "            c_min = df[col].min()\n",
    "            c_max = df[col].max()\n",
    "            if str(col_type)[:3] == 'int':\n",
    "                if c_min > np.iinfo(np.int8).min and c_max < np.iinfo(np.int8).max:\n",
    "                    df[col] = df[col].astype(np.int8)\n",
    "                elif c_min > np.iinfo(np.int16).min and c_max < np.iinfo(np.int16).max:\n",
    "                    df[col] = df[col].astype(np.int16)\n",
    "                elif c_min > np.iinfo(np.int32).min and c_max < np.iinfo(np.int32).max:\n",
    "                    df[col] = df[col].astype(np.int32)\n",
    "                elif c_min > np.iinfo(np.int64).min and c_max < np.iinfo(np.int64).max:\n",
    "                    df[col] = df[col].astype(np.int64)  \n",
    "            else:\n",
    "                if c_min > np.finfo(np.float16).min and c_max < np.finfo(np.float16).max:\n",
    "                    df[col] = df[col].astype(np.float16)\n",
    "                elif c_min > np.finfo(np.float32).min and c_max < np.finfo(np.float32).max:\n",
    "                    df[col] = df[col].astype(np.float32)\n",
    "                else:\n",
    "                    df[col] = df[col].astype(np.float64)\n",
    "        elif is_datetime(df[col]) == True:\n",
    "            df[col] = df[col].astype('datetime64[ns]')\n",
    "\n",
    "    end_mem = df.memory_usage().sum() / 1024**2\n",
    "    print('Memory usage after optimization is: {:.2f} MB'.format(end_mem))\n",
    "    print('Decreased by {:.1f}%'.format(100 * (start_mem - end_mem) / start_mem))\n",
    "    \n",
    "    return df"
   ]
  },
  {
   "cell_type": "markdown",
   "metadata": {},
   "source": [
    "#### Df Targets"
   ]
  },
  {
   "cell_type": "code",
   "execution_count": 57,
   "metadata": {},
   "outputs": [
    {
     "name": "stdout",
     "output_type": "stream",
     "text": [
      "Memory usage of dataframe is 71.99 MB\n",
      "Memory usage after optimization is: 71.99 MB\n",
      "Decreased by 0.0%\n"
     ]
    }
   ],
   "source": [
    "df_targets = reduce_mem_usage(df_targets);"
   ]
  },
  {
   "cell_type": "markdown",
   "metadata": {},
   "source": [
    "#### Player Box Scores"
   ]
  },
  {
   "cell_type": "code",
   "execution_count": 58,
   "metadata": {},
   "outputs": [
    {
     "name": "stdout",
     "output_type": "stream",
     "text": [
      "Memory usage of dataframe is 36.67 MB\n",
      "Memory usage after optimization is: 33.74 MB\n",
      "Decreased by 8.0%\n"
     ]
    }
   ],
   "source": [
    "df_pbs = reduce_mem_usage(df_pbs);"
   ]
  },
  {
   "cell_type": "markdown",
   "metadata": {},
   "source": [
    "#### Team Box Scores"
   ]
  },
  {
   "cell_type": "code",
   "execution_count": 59,
   "metadata": {},
   "outputs": [
    {
     "name": "stdout",
     "output_type": "stream",
     "text": [
      "Memory usage of dataframe is 1.43 MB\n",
      "Memory usage after optimization is: 1.43 MB\n",
      "Decreased by 0.0%\n"
     ]
    }
   ],
   "source": [
    "df_tbs = reduce_mem_usage(df_tbs);"
   ]
  },
  {
   "cell_type": "markdown",
   "metadata": {},
   "source": [
    "#### Games"
   ]
  },
  {
   "cell_type": "code",
   "execution_count": 60,
   "metadata": {},
   "outputs": [],
   "source": [
    "# df_g = reduce_mem_usage(df_g);"
   ]
  },
  {
   "cell_type": "markdown",
   "metadata": {},
   "source": [
    "### Sorting and Shifting"
   ]
  },
  {
   "cell_type": "code",
   "execution_count": 61,
   "metadata": {},
   "outputs": [],
   "source": [
    "# Funções auxiliares para o pré-processamento dos dados\n",
    "def sort_df(df: pd.DataFrame, columns: list = ['IdPlayer', 'Dt']) -> None:\n",
    "    \"\"\"Sort the dataframe by the columns passed as argument.\n",
    "    \n",
    "    Args:\n",
    "        df (pd.DataFrame): Dataframe to be sorted.\n",
    "        columns (list, optional): Columns to sort the dataframe. Defaults to ['IdPlayer', 'Dt'].\n",
    "        \n",
    "        Returns:\n",
    "            None\n",
    "    \"\"\"\n",
    "    df.sort_values(by=columns, inplace=True)\n",
    "    # reset index\n",
    "    df.reset_index(drop=True, inplace=True)\n",
    "\n",
    "\n",
    "def shift_targets(df, shift_vals: list = [1, 2, 3, 4, 5, 6, 7, 14, 30]):\n",
    "    \"\"\"Shift the targets by the values passed as argument.\n",
    "\n",
    "    Args:\n",
    "        df (pd.DataFrame): Dataframe to be shifted.\n",
    "        shift_vals (list, optional): Values to shift the targets. Defaults to [1, 2, 3, 4, 5, 6, 7, 14, 30].\n",
    "\n",
    "    Returns:\n",
    "        pd.DataFrame: Dataframe with the shifted targets.\n",
    "    \"\"\"\n",
    "    df_aux = pd.DataFrame()\n",
    "    # Iterate over players to make the shift only using the player data\n",
    "    for player in df['IdPlayer'].unique():\n",
    "        df_player = df[df['IdPlayer'] == player]\n",
    "        # Iterate over the pre-defined shift values\n",
    "        for shift_val in shift_vals:\n",
    "            # Iterate over the targets\n",
    "            for target in TARGET_COLS:\n",
    "                # Make the shift\n",
    "                df_player[f'{target}_shift_{shift_val}'] = df_player[target].shift(shift_val)\n",
    "        # Concatenate the player data with the rest of the data\n",
    "        df_aux = pd.concat([df_aux, df_player], axis=0)\n",
    "        # Remove the player data from memory\n",
    "        del df_player\n",
    "    # df.dropna(inplace=True)\n",
    "    return df_aux\n",
    "\n",
    "\n",
    "def train_test_split(\n",
    "    df: pd.DataFrame\n",
    "    ,test_split_date: str = TEST_SPLIT_DATE\n",
    "    ):\n",
    "    \"\"\"Split the dataframe into train and test sets.\n",
    "\n",
    "    Args:\n",
    "        df (pd.DataFrame): Dataframe to be split.\n",
    "        test_split_date (str, optional): Date to split the dataframe. Defaults to TEST_SPLIT_DATE.\n",
    "    \"\"\"\n",
    "\n",
    "    train = df[(df.Dt <= \"2021-01-31\") & (df.Dt >= \"2018-01-01\")] \n",
    "    val = df[(df.Dt <= \"2021-04-30\") & (df.Dt >= \"2021-02-01\")] \n",
    "    test = df[(df.Dt <= \"2021-07-31\") & (df.Dt >= \"2021-05-01\")]\n",
    "    # train.to_csv('train.csv', index=None)\n",
    "    # val.to_csv('validation.csv', index=None) \n",
    "    # test.to_csv('test.csv', index=None) \n",
    "\n",
    "    return train, test, val\n",
    "\n",
    "\n",
    "def x_y_split(df: pd.DataFrame, target_cols: list = TARGET_COLS):\n",
    "    \"\"\"Split the dataframe into x and y sets.\n",
    "\n",
    "    Args:\n",
    "        df (pd.DataFrame): Dataframe to be split.\n",
    "    \"\"\"\n",
    "    y = df[target_cols]\n",
    "    x = df.drop(target_cols, axis=1)\n",
    "    return x, y"
   ]
  },
  {
   "cell_type": "code",
   "execution_count": 62,
   "metadata": {},
   "outputs": [
    {
     "name": "stdout",
     "output_type": "stream",
     "text": [
      "Wall time: 3min 41s\n"
     ]
    }
   ],
   "source": [
    "%%time\n",
    "sort_df(df_targets)\n",
    "df_train = shift_targets(df_targets, shift_vals=[1, 2, 3, 4, 5, 6, 7])"
   ]
  },
  {
   "cell_type": "markdown",
   "metadata": {},
   "source": [
    "## Feature Engineering"
   ]
  },
  {
   "cell_type": "markdown",
   "metadata": {},
   "source": [
    "### Datetime"
   ]
  },
  {
   "cell_type": "code",
   "execution_count": 63,
   "metadata": {},
   "outputs": [],
   "source": [
    "# Transform the datetime col into new features\n",
    "df_train['DtYear'] = df_train['Dt'].dt.year\n",
    "df_train['DtMonth'] = df_train['Dt'].dt.month\n",
    "df_train['DtDay'] = df_train['Dt'].dt.day\n",
    "df_train['DtDayOfWeek'] = df_train['Dt'].dt.dayofweek\n",
    "df_train['DtDayOfYear'] = df_train['Dt'].dt.dayofyear\n",
    "df_train['DtQuarter'] = df_train['Dt'].dt.quarter\n",
    "# get the hour and minute from the PBS\n",
    "df_pbs['DtHour'] = df_pbs['DtGameUTC'].dt.hour\n",
    "df_pbs['DtMinute'] = df_pbs['DtGameUTC'].dt.minute\n",
    "df_pbs['DtHour'][df_pbs['DtHour'] == 0] = 24"
   ]
  },
  {
   "cell_type": "markdown",
   "metadata": {},
   "source": [
    "## Joining Datasets"
   ]
  },
  {
   "cell_type": "markdown",
   "metadata": {},
   "source": [
    "### Player Box Scores"
   ]
  },
  {
   "cell_type": "code",
   "execution_count": 64,
   "metadata": {
    "scrolled": true
   },
   "outputs": [
    {
     "name": "stdout",
     "output_type": "stream",
     "text": [
      "<class 'pandas.core.frame.DataFrame'>\n",
      "Int64Index: 2684030 entries, 7 to 2698456\n",
      "Data columns (total 98 columns):\n",
      " #   Column                           Non-Null Count    Dtype         \n",
      "---  ------                           --------------    -----         \n",
      " 0   Dt                               2684030 non-null  datetime64[ns]\n",
      " 1   IdPlayer                         2684030 non-null  int32         \n",
      " 2   target1                          2684030 non-null  float16       \n",
      " 3   target2                          2684030 non-null  float16       \n",
      " 4   target3                          2684030 non-null  float16       \n",
      " 5   target4                          2684030 non-null  float16       \n",
      " 6   IdDtPlayer                       2684030 non-null  object        \n",
      " 7   target1_shift_1                  2684030 non-null  float16       \n",
      " 8   target2_shift_1                  2684030 non-null  float16       \n",
      " 9   target3_shift_1                  2684030 non-null  float16       \n",
      " 10  target4_shift_1                  2684030 non-null  float16       \n",
      " 11  target1_shift_2                  2684030 non-null  float16       \n",
      " 12  target2_shift_2                  2684030 non-null  float16       \n",
      " 13  target3_shift_2                  2684030 non-null  float16       \n",
      " 14  target4_shift_2                  2684030 non-null  float16       \n",
      " 15  target1_shift_3                  2684030 non-null  float16       \n",
      " 16  target2_shift_3                  2684030 non-null  float16       \n",
      " 17  target3_shift_3                  2684030 non-null  float16       \n",
      " 18  target4_shift_3                  2684030 non-null  float16       \n",
      " 19  target1_shift_4                  2684030 non-null  float16       \n",
      " 20  target2_shift_4                  2684030 non-null  float16       \n",
      " 21  target3_shift_4                  2684030 non-null  float16       \n",
      " 22  target4_shift_4                  2684030 non-null  float16       \n",
      " 23  target1_shift_5                  2684030 non-null  float16       \n",
      " 24  target2_shift_5                  2684030 non-null  float16       \n",
      " 25  target3_shift_5                  2684030 non-null  float16       \n",
      " 26  target4_shift_5                  2684030 non-null  float16       \n",
      " 27  target1_shift_6                  2684030 non-null  float16       \n",
      " 28  target2_shift_6                  2684030 non-null  float16       \n",
      " 29  target3_shift_6                  2684030 non-null  float16       \n",
      " 30  target4_shift_6                  2684030 non-null  float16       \n",
      " 31  target1_shift_7                  2684030 non-null  float16       \n",
      " 32  target2_shift_7                  2684030 non-null  float16       \n",
      " 33  target3_shift_7                  2684030 non-null  float16       \n",
      " 34  target4_shift_7                  2684030 non-null  float16       \n",
      " 35  DtYear                           2684030 non-null  int64         \n",
      " 36  DtMonth                          2684030 non-null  int64         \n",
      " 37  DtDay                            2684030 non-null  int64         \n",
      " 38  DtDayOfWeek                      2684030 non-null  int64         \n",
      " 39  DtDayOfYear                      2684030 non-null  int64         \n",
      " 40  DtQuarter                        2684030 non-null  int64         \n",
      " 41  IdGame                           218800 non-null   float64       \n",
      " 42  DtGame                           218800 non-null   datetime64[ns]\n",
      " 43  DtGameUTC                        218800 non-null   datetime64[ns]\n",
      " 44  IdPlayer_y                       218800 non-null   float64       \n",
      " 45  IdTeam                           218800 non-null   float64       \n",
      " 46  NuJersey                         218763 non-null   object        \n",
      " 47  CdPosition                       218800 non-null   float64       \n",
      " 48  NuStrikeOutsPitching             2684030 non-null  float16       \n",
      " 49  NuBattingOrder_Player            2684030 non-null  float16       \n",
      " 50  NuGamesPlayedBatting_Player      2684030 non-null  float16       \n",
      " 51  NuFlyOuts_Player                 2684030 non-null  float16       \n",
      " 52  NuGroundOuts_Player              2684030 non-null  float16       \n",
      " 53  NuRunsScored_Player              2684030 non-null  float16       \n",
      " 54  NuDoubles_Player                 2684030 non-null  float16       \n",
      " 55  NuTriples_Player                 2684030 non-null  float16       \n",
      " 56  NuHomeRuns_Player                2684030 non-null  float16       \n",
      " 57  NuStrikeOuts_Player              2684030 non-null  float16       \n",
      " 58  NuBaseOnBalls_Player             2684030 non-null  float16       \n",
      " 59  NuIntentionalWalks_Player        2684030 non-null  float16       \n",
      " 60  NuHits_Player                    2684030 non-null  float16       \n",
      " 61  NuHitByPitch_Player              2684030 non-null  float16       \n",
      " 62  NuAtBats_Player                  2684030 non-null  float16       \n",
      " 63  NuCaughtStealing_Player          2684030 non-null  float16       \n",
      " 64  NuStolenBases_Player             2684030 non-null  float16       \n",
      " 65  NuGroundIntoDoublePlay_Player    2684030 non-null  float16       \n",
      " 66  NuGroundIntoTriplePlay_Player    2684030 non-null  float16       \n",
      " 67  NuPlateAppearances_Player        2684030 non-null  float16       \n",
      " 68  NuTotalBases_Player              2684030 non-null  float16       \n",
      " 69  NuRbi_Player                     2684030 non-null  float16       \n",
      " 70  NuLeftOnBase_Player              2684030 non-null  float16       \n",
      " 71  NuSacBunts_Player                2684030 non-null  float16       \n",
      " 72  NuSacFlies_Player                2684030 non-null  float16       \n",
      " 73  NuCatchersInterference_Player    2684030 non-null  float16       \n",
      " 74  NuPickoffs_Player                2684030 non-null  float16       \n",
      " 75  NuInningsPitched_Player          2684030 non-null  float16       \n",
      " 76  NuSaveOpportunities_Player       2684030 non-null  float16       \n",
      " 77  NuEarnedRuns_Player              2684030 non-null  float16       \n",
      " 78  NuBattersFaced_Player            2684030 non-null  float16       \n",
      " 79  NuPitchesThrown_Player           2684030 non-null  float16       \n",
      " 80  NuBalls_Player                   2684030 non-null  float16       \n",
      " 81  NuStrikes_Player                 2684030 non-null  float16       \n",
      " 82  NuHitBatsmen_Player              2684030 non-null  float16       \n",
      " 83  NuBalks_Player                   2684030 non-null  float16       \n",
      " 84  NuWildPitches_Player             2684030 non-null  float16       \n",
      " 85  NuInheritedRunners_Player        2684030 non-null  float16       \n",
      " 86  NuInheritedRunnersScored_Player  2684030 non-null  float16       \n",
      " 87  NuSaves_Player                   2684030 non-null  float16       \n",
      " 88  NuHolds_Player                   2684030 non-null  float16       \n",
      " 89  NuBlownSaves_Player              2684030 non-null  float16       \n",
      " 90  NuAssists_Player                 2684030 non-null  float16       \n",
      " 91  NuPutOuts_Player                 2684030 non-null  float16       \n",
      " 92  NuErrors_Player                  2684030 non-null  float16       \n",
      " 93  NuChances_Player                 2684030 non-null  float16       \n",
      " 94  IdDtTeam                         2684030 non-null  object        \n",
      " 95  IdDtGame                         2684030 non-null  object        \n",
      " 96  DtHour                           2684030 non-null  float64       \n",
      " 97  DtMinute                         2684030 non-null  float64       \n",
      "dtypes: datetime64[ns](3), float16(78), float64(6), int32(1), int64(6), object(4)\n",
      "memory usage: 819.1+ MB\n"
     ]
    }
   ],
   "source": [
    "df_train = pd.merge(df_train, df_pbs, on=['IdDtPlayer'], how='left')\n",
    "\n",
    "# Substitui os valores Nan das seguintes colunas por 0\n",
    "f = [c for c in df_train.columns if c not in ['IdGame', 'DtGame', 'DtGameUTC',\n",
    "'IdPlayer_y','IdTeam','NuJersey','CdPosition', 'target1_shift_1', 'target2_shift_1',\n",
    "'target3_shift_1','target1_shift_2', 'target3_shift_2', 'target4_shift_2',\n",
    "'target1_shift_3','target2_shift_3','target3_shift_3','target4_shift_3',\n",
    "'target1_shift_4','target2_shift_4','target3_shift_4','target4_shift_4',\n",
    "'target1_shift_5','target2_shift_5','target3_shift_5','target4_shift_5',\n",
    "'target1_shift_6','target2_shift_6','target3_shift_6','target4_shift_6',\n",
    "'target1_shift_7','target2_shift_7','target3_shift_7','target4_shift_7']]\n",
    "\n",
    "df_train[f] = df_train[f].fillna(0)        \n",
    "\n",
    "# Remove os na das seguintes colunas\n",
    "df_train = df_train.dropna(subset=[             \n",
    "    'target1_shift_1', 'target2_shift_1', 'target3_shift_1', 'target1_shift_2',\n",
    "    'target3_shift_2', 'target4_shift_2', 'target1_shift_3', 'target2_shift_3',\n",
    "    'target3_shift_3', 'target4_shift_3', 'target1_shift_4', 'target2_shift_4',\n",
    "    'target3_shift_4', 'target4_shift_4', 'target1_shift_5', 'target3_shift_5',\n",
    "    'target4_shift_5', 'target1_shift_6', 'target2_shift_6', 'target3_shift_6',\n",
    "    'target4_shift_6', 'target1_shift_7', 'target2_shift_7', 'target3_shift_7',\n",
    "    'target4_shift_7'])\n",
    "\n",
    "df_train.rename(columns={'IdPlayer_x': 'IdPlayer'}, inplace=True)\n",
    "df_train.info(null_counts=True)"
   ]
  },
  {
   "cell_type": "markdown",
   "metadata": {},
   "source": [
    "### Team Box Scores"
   ]
  },
  {
   "cell_type": "code",
   "execution_count": 65,
   "metadata": {},
   "outputs": [],
   "source": [
    "df_train = pd.merge(df_train, df_tbs, on = ['IdDtTeam'], how = 'left')"
   ]
  },
  {
   "cell_type": "code",
   "execution_count": 66,
   "metadata": {},
   "outputs": [
    {
     "name": "stdout",
     "output_type": "stream",
     "text": [
      "<class 'pandas.core.frame.DataFrame'>\n",
      "Int64Index: 2693260 entries, 0 to 2693259\n",
      "Columns: 156 entries, Dt to IdDtGame_y\n",
      "dtypes: datetime64[ns](4), float16(80), float64(59), int32(1), int64(6), object(6)\n",
      "memory usage: 1.9+ GB\n"
     ]
    }
   ],
   "source": [
    "df_train.info()"
   ]
  },
  {
   "cell_type": "code",
   "execution_count": 67,
   "metadata": {},
   "outputs": [],
   "source": [
    "# Substitui os valores Nan das seguintes colunas por 0\n",
    "f = [\n",
    "    'FlgHome','NuFlyOuts_Team', 'NuGroundOuts_Team', 'NuRunsScored_Team',\n",
    "    'NuDoubles_Team', 'NuTriples_Team', 'NuHomeRuns_Team', 'NuStrikeOuts_Team',\n",
    "    'NuBaseOnBalls_Team', 'NuIntentionalWalks_Team', 'NuHits_Team', 'NuHitByPitch_Team',\n",
    "    'NuAtBats_Team', 'NuCaughtStealing_Team', 'NuStolenBases_Team', 'NuGroundIntoDoublePlay_Team',\n",
    "    'NuGroundIntoTriplePlay_Team', 'NuPlateAppearances_Team', 'NuTotalBases_Team', 'NuRbi_Team',\n",
    "    'NuLeftOnBase_Team', 'NuSacBunts_Team', 'NuSacFlies_Team', 'NuCatchersInterference_Team',\n",
    "    'NuPickoffs_Team', 'NuAirOutsPitching_Team', 'NuGroundOutsPitching_Team', 'NuRunsPitching_Team',\n",
    "    'NuDoublesPitching_Team', 'NuTriplesPitching_Team', 'NuHomeRunsPitching_Team',\n",
    "    'NuStrikeOutsPitching_Team', 'NuBaseOnBallsPitching_Team', 'NuIntentionalWalksPitching_Team',\n",
    "    'NuHitsPitching_Team', 'NuHitByPitchPitching_Team', 'NuAtBatsPitching_Team',\n",
    "    'NuCaughtStealingPitching_Team', 'NuStolenBasesPitching_Team', 'NuInningsPitched_Team',\n",
    "    'NuEarnedRuns_Team', 'NuBattersFaced_Team', 'NuOutsPitching_Team', 'NuHitBatsmen_Team',\n",
    "    'NuBalks_Team', 'NuWildPitches_Team', 'NuPickoffsPitching_Team', 'NuRbiPitching_Team',\n",
    "    'NuInheritedRunners_Team', 'NuInheritedRunnersScored_Team', 'NuCatchersInterferencePitching_Team',\n",
    "    'NuSacBuntsPitching_Team', 'NuSacFliesPitching_Team'\n",
    "]\n",
    "\n",
    "df_train[f] = df_train[f].fillna(0)        "
   ]
  },
  {
   "cell_type": "code",
   "execution_count": 68,
   "metadata": {},
   "outputs": [],
   "source": [
    "df_train = df_train.rename(columns={'IdDtGame_y': 'IdDtGame'})"
   ]
  },
  {
   "cell_type": "markdown",
   "metadata": {},
   "source": [
    "#### Games"
   ]
  },
  {
   "cell_type": "code",
   "execution_count": 69,
   "metadata": {},
   "outputs": [],
   "source": [
    "df_train = pd.merge(df_train, df_g, on = ['IdDtGame'], how = 'left')"
   ]
  },
  {
   "cell_type": "code",
   "execution_count": 70,
   "metadata": {},
   "outputs": [],
   "source": [
    "f = [\n",
    "    'NuSeason', 'NuGame',\n",
    "    'NuScheduledInnings', 'NuGamesInSeries', 'NuWinsHomeTeam',\n",
    "    'NuLossesHomeTeam', 'NuWinPctHomeTeam', 'NuScoreHomeTeam',\n",
    "    'NuWinsAwayTeam', 'NuLossesAwayTeam', 'NuWinPctAwayTeam', 'NuScoreAwayTeam'\n",
    "]\n",
    "df_train[f] = df_train[f].fillna(0)        "
   ]
  },
  {
   "cell_type": "code",
   "execution_count": 71,
   "metadata": {},
   "outputs": [
    {
     "name": "stdout",
     "output_type": "stream",
     "text": [
      "<class 'pandas.core.frame.DataFrame'>\n",
      "Int64Index: 2693260 entries, 0 to 2693259\n",
      "Columns: 180 entries, Dt to NuScoreAwayTeam\n",
      "dtypes: datetime64[ns](5), float16(80), float64(75), int32(1), int64(6), object(13)\n",
      "memory usage: 2.4+ GB\n"
     ]
    }
   ],
   "source": [
    "df_train.info(null_counts=True, max_cols = 150)"
   ]
  },
  {
   "cell_type": "code",
   "execution_count": 72,
   "metadata": {},
   "outputs": [],
   "source": [
    "df_train = pd.get_dummies(df_train, columns = ['CdPosition', \"CdGameType\", \"CdGameState\", \"CdDoubleHeader\", \n",
    "                                    \"CdDayNight\", \"FlgWinnerHomeTeam\", \"FlgWinnerAwayTeam\",'FlgTie'])"
   ]
  },
  {
   "cell_type": "code",
   "execution_count": 73,
   "metadata": {},
   "outputs": [],
   "source": [
    "# Dropa colunas com vários valores Nan\n",
    "df_train.drop([\n",
    "    'IdGame_x', 'DtGame_x', 'DtGameUTC', 'IdPlayer_y',\n",
    "    'IdTeam_x', 'IdTeam_y', \"NuGameTimeUTC_Team\", \"IdDtGame\", \"DtGame\", \"IdGame\",\n",
    "    'IdGame_y', 'NuJersey', \"DtGame_y\", \"IdHomeTeam\", \"IdAwayTeam\"], axis = 1, inplace = True)"
   ]
  },
  {
   "cell_type": "markdown",
   "metadata": {},
   "source": [
    "### Reduce memory usage"
   ]
  },
  {
   "cell_type": "code",
   "execution_count": 75,
   "metadata": {},
   "outputs": [
    {
     "name": "stdout",
     "output_type": "stream",
     "text": [
      "Memory usage of dataframe is 2062.50 MB\n",
      "Memory usage after optimization is: 1037.67 MB\n",
      "Decreased by 49.7%\n"
     ]
    }
   ],
   "source": [
    "df_train = reduce_mem_usage(df_train);"
   ]
  },
  {
   "cell_type": "markdown",
   "metadata": {},
   "source": [
    "## Save Prepared Datasets"
   ]
  },
  {
   "cell_type": "code",
   "execution_count": 76,
   "metadata": {},
   "outputs": [],
   "source": [
    "df_targets.to_pickle(processed_data_path + 'targets.pkl')\n",
    "df_pbs.to_pickle(processed_data_path + 'playerBoxScores.pkl')\n",
    "df_tbs.to_pickle(processed_data_path + 'teamBoxScores.pkl')\n",
    "df_g.to_pickle(processed_data_path + 'games.pkl')\n",
    "\n",
    "df_train.to_pickle(processed_data_path + 'train.pkl')"
   ]
  },
  {
   "cell_type": "code",
   "execution_count": 77,
   "metadata": {},
   "outputs": [
    {
     "name": "stdout",
     "output_type": "stream",
     "text": [
      "<class 'pandas.core.frame.DataFrame'>\n",
      "Int64Index: 2693260 entries, 0 to 2693259\n",
      "Columns: 187 entries, Dt to FlgTie_0.0\n",
      "dtypes: datetime64[ns](1), float16(176), int16(2), int32(1), int8(4), object(3)\n",
      "memory usage: 1.0+ GB\n"
     ]
    }
   ],
   "source": [
    "pd.read_pickle(processed_data_path + 'train.pkl').info(null_counts=True)"
   ]
  },
  {
   "cell_type": "code",
   "execution_count": 79,
   "metadata": {},
   "outputs": [
    {
     "name": "stdout",
     "output_type": "stream",
     "text": [
      "<class 'pandas.core.frame.DataFrame'>\n",
      "Int64Index: 2693260 entries, 0 to 2693259\n",
      "Data columns (total 187 columns):\n",
      " #    Column                               Non-Null Count    Dtype         \n",
      "---   ------                               --------------    -----         \n",
      " 0    Dt                                   2693260 non-null  datetime64[ns]\n",
      " 1    IdPlayer                             2693260 non-null  int32         \n",
      " 2    target1                              2693260 non-null  float16       \n",
      " 3    target2                              2693260 non-null  float16       \n",
      " 4    target3                              2693260 non-null  float16       \n",
      " 5    target4                              2693260 non-null  float16       \n",
      " 6    IdDtPlayer                           2693260 non-null  object        \n",
      " 7    target1_shift_1                      2693260 non-null  float16       \n",
      " 8    target2_shift_1                      2693260 non-null  float16       \n",
      " 9    target3_shift_1                      2693260 non-null  float16       \n",
      " 10   target4_shift_1                      2693260 non-null  float16       \n",
      " 11   target1_shift_2                      2693260 non-null  float16       \n",
      " 12   target2_shift_2                      2693260 non-null  float16       \n",
      " 13   target3_shift_2                      2693260 non-null  float16       \n",
      " 14   target4_shift_2                      2693260 non-null  float16       \n",
      " 15   target1_shift_3                      2693260 non-null  float16       \n",
      " 16   target2_shift_3                      2693260 non-null  float16       \n",
      " 17   target3_shift_3                      2693260 non-null  float16       \n",
      " 18   target4_shift_3                      2693260 non-null  float16       \n",
      " 19   target1_shift_4                      2693260 non-null  float16       \n",
      " 20   target2_shift_4                      2693260 non-null  float16       \n",
      " 21   target3_shift_4                      2693260 non-null  float16       \n",
      " 22   target4_shift_4                      2693260 non-null  float16       \n",
      " 23   target1_shift_5                      2693260 non-null  float16       \n",
      " 24   target2_shift_5                      2693260 non-null  float16       \n",
      " 25   target3_shift_5                      2693260 non-null  float16       \n",
      " 26   target4_shift_5                      2693260 non-null  float16       \n",
      " 27   target1_shift_6                      2693260 non-null  float16       \n",
      " 28   target2_shift_6                      2693260 non-null  float16       \n",
      " 29   target3_shift_6                      2693260 non-null  float16       \n",
      " 30   target4_shift_6                      2693260 non-null  float16       \n",
      " 31   target1_shift_7                      2693260 non-null  float16       \n",
      " 32   target2_shift_7                      2693260 non-null  float16       \n",
      " 33   target3_shift_7                      2693260 non-null  float16       \n",
      " 34   target4_shift_7                      2693260 non-null  float16       \n",
      " 35   DtYear                               2693260 non-null  int16         \n",
      " 36   DtMonth                              2693260 non-null  int8          \n",
      " 37   DtDay                                2693260 non-null  int8          \n",
      " 38   DtDayOfWeek                          2693260 non-null  int8          \n",
      " 39   DtDayOfYear                          2693260 non-null  int16         \n",
      " 40   DtQuarter                            2693260 non-null  int8          \n",
      " 41   NuStrikeOutsPitching                 2693260 non-null  float16       \n",
      " 42   NuBattingOrder_Player                2693260 non-null  float16       \n",
      " 43   NuGamesPlayedBatting_Player          2693260 non-null  float16       \n",
      " 44   NuFlyOuts_Player                     2693260 non-null  float16       \n",
      " 45   NuGroundOuts_Player                  2693260 non-null  float16       \n",
      " 46   NuRunsScored_Player                  2693260 non-null  float16       \n",
      " 47   NuDoubles_Player                     2693260 non-null  float16       \n",
      " 48   NuTriples_Player                     2693260 non-null  float16       \n",
      " 49   NuHomeRuns_Player                    2693260 non-null  float16       \n",
      " 50   NuStrikeOuts_Player                  2693260 non-null  float16       \n",
      " 51   NuBaseOnBalls_Player                 2693260 non-null  float16       \n",
      " 52   NuIntentionalWalks_Player            2693260 non-null  float16       \n",
      " 53   NuHits_Player                        2693260 non-null  float16       \n",
      " 54   NuHitByPitch_Player                  2693260 non-null  float16       \n",
      " 55   NuAtBats_Player                      2693260 non-null  float16       \n",
      " 56   NuCaughtStealing_Player              2693260 non-null  float16       \n",
      " 57   NuStolenBases_Player                 2693260 non-null  float16       \n",
      " 58   NuGroundIntoDoublePlay_Player        2693260 non-null  float16       \n",
      " 59   NuGroundIntoTriplePlay_Player        2693260 non-null  float16       \n",
      " 60   NuPlateAppearances_Player            2693260 non-null  float16       \n",
      " 61   NuTotalBases_Player                  2693260 non-null  float16       \n",
      " 62   NuRbi_Player                         2693260 non-null  float16       \n",
      " 63   NuLeftOnBase_Player                  2693260 non-null  float16       \n",
      " 64   NuSacBunts_Player                    2693260 non-null  float16       \n",
      " 65   NuSacFlies_Player                    2693260 non-null  float16       \n",
      " 66   NuCatchersInterference_Player        2693260 non-null  float16       \n",
      " 67   NuPickoffs_Player                    2693260 non-null  float16       \n",
      " 68   NuInningsPitched_Player              2693260 non-null  float16       \n",
      " 69   NuSaveOpportunities_Player           2693260 non-null  float16       \n",
      " 70   NuEarnedRuns_Player                  2693260 non-null  float16       \n",
      " 71   NuBattersFaced_Player                2693260 non-null  float16       \n",
      " 72   NuPitchesThrown_Player               2693260 non-null  float16       \n",
      " 73   NuBalls_Player                       2693260 non-null  float16       \n",
      " 74   NuStrikes_Player                     2693260 non-null  float16       \n",
      " 75   NuHitBatsmen_Player                  2693260 non-null  float16       \n",
      " 76   NuBalks_Player                       2693260 non-null  float16       \n",
      " 77   NuWildPitches_Player                 2693260 non-null  float16       \n",
      " 78   NuInheritedRunners_Player            2693260 non-null  float16       \n",
      " 79   NuInheritedRunnersScored_Player      2693260 non-null  float16       \n",
      " 80   NuSaves_Player                       2693260 non-null  float16       \n",
      " 81   NuHolds_Player                       2693260 non-null  float16       \n",
      " 82   NuBlownSaves_Player                  2693260 non-null  float16       \n",
      " 83   NuAssists_Player                     2693260 non-null  float16       \n",
      " 84   NuPutOuts_Player                     2693260 non-null  float16       \n",
      " 85   NuErrors_Player                      2693260 non-null  float16       \n",
      " 86   NuChances_Player                     2693260 non-null  float16       \n",
      " 87   IdDtTeam                             2693260 non-null  object        \n",
      " 88   IdDtGame_x                           2693260 non-null  object        \n",
      " 89   DtHour                               2693260 non-null  float16       \n",
      " 90   DtMinute                             2693260 non-null  float16       \n",
      " 91   FlgHome                              2693260 non-null  float16       \n",
      " 92   NuFlyOuts_Team                       2693260 non-null  float16       \n",
      " 93   NuGroundOuts_Team                    2693260 non-null  float16       \n",
      " 94   NuRunsScored_Team                    2693260 non-null  float16       \n",
      " 95   NuDoubles_Team                       2693260 non-null  float16       \n",
      " 96   NuTriples_Team                       2693260 non-null  float16       \n",
      " 97   NuHomeRuns_Team                      2693260 non-null  float16       \n",
      " 98   NuStrikeOuts_Team                    2693260 non-null  float16       \n",
      " 99   NuBaseOnBalls_Team                   2693260 non-null  float16       \n",
      " 100  NuIntentionalWalks_Team              2693260 non-null  float16       \n",
      " 101  NuHits_Team                          2693260 non-null  float16       \n",
      " 102  NuHitByPitch_Team                    2693260 non-null  float16       \n",
      " 103  NuAtBats_Team                        2693260 non-null  float16       \n",
      " 104  NuCaughtStealing_Team                2693260 non-null  float16       \n",
      " 105  NuStolenBases_Team                   2693260 non-null  float16       \n",
      " 106  NuGroundIntoDoublePlay_Team          2693260 non-null  float16       \n",
      " 107  NuGroundIntoTriplePlay_Team          2693260 non-null  float16       \n",
      " 108  NuPlateAppearances_Team              2693260 non-null  float16       \n",
      " 109  NuTotalBases_Team                    2693260 non-null  float16       \n",
      " 110  NuRbi_Team                           2693260 non-null  float16       \n",
      " 111  NuLeftOnBase_Team                    2693260 non-null  float16       \n",
      " 112  NuSacBunts_Team                      2693260 non-null  float16       \n",
      " 113  NuSacFlies_Team                      2693260 non-null  float16       \n",
      " 114  NuCatchersInterference_Team          2693260 non-null  float16       \n",
      " 115  NuPickoffs_Team                      2693260 non-null  float16       \n",
      " 116  NuAirOutsPitching_Team               2693260 non-null  float16       \n",
      " 117  NuGroundOutsPitching_Team            2693260 non-null  float16       \n",
      " 118  NuRunsPitching_Team                  2693260 non-null  float16       \n",
      " 119  NuDoublesPitching_Team               2693260 non-null  float16       \n",
      " 120  NuTriplesPitching_Team               2693260 non-null  float16       \n",
      " 121  NuHomeRunsPitching_Team              2693260 non-null  float16       \n",
      " 122  NuStrikeOutsPitching_Team            2693260 non-null  float16       \n",
      " 123  NuBaseOnBallsPitching_Team           2693260 non-null  float16       \n",
      " 124  NuIntentionalWalksPitching_Team      2693260 non-null  float16       \n",
      " 125  NuHitsPitching_Team                  2693260 non-null  float16       \n",
      " 126  NuHitByPitchPitching_Team            2693260 non-null  float16       \n",
      " 127  NuAtBatsPitching_Team                2693260 non-null  float16       \n",
      " 128  NuCaughtStealingPitching_Team        2693260 non-null  float16       \n",
      " 129  NuStolenBasesPitching_Team           2693260 non-null  float16       \n",
      " 130  NuInningsPitched_Team                2693260 non-null  float16       \n",
      " 131  NuEarnedRuns_Team                    2693260 non-null  float16       \n",
      " 132  NuBattersFaced_Team                  2693260 non-null  float16       \n",
      " 133  NuOutsPitching_Team                  2693260 non-null  float16       \n",
      " 134  NuHitBatsmen_Team                    2693260 non-null  float16       \n",
      " 135  NuBalks_Team                         2693260 non-null  float16       \n",
      " 136  NuWildPitches_Team                   2693260 non-null  float16       \n",
      " 137  NuPickoffsPitching_Team              2693260 non-null  float16       \n",
      " 138  NuRbiPitching_Team                   2693260 non-null  float16       \n",
      " 139  NuInheritedRunners_Team              2693260 non-null  float16       \n",
      " 140  NuInheritedRunnersScored_Team        2693260 non-null  float16       \n",
      " 141  NuCatchersInterferencePitching_Team  2693260 non-null  float16       \n",
      " 142  NuSacBuntsPitching_Team              2693260 non-null  float16       \n",
      " 143  NuSacFliesPitching_Team              2693260 non-null  float16       \n",
      " 144  NuSeason                             2693260 non-null  float16       \n",
      " 145  NuGame                               2693260 non-null  float16       \n",
      " 146  NuScheduledInnings                   2693260 non-null  float16       \n",
      " 147  NuGamesInSeries                      2693260 non-null  float16       \n",
      " 148  NuWinsHomeTeam                       2693260 non-null  float16       \n",
      " 149  NuLossesHomeTeam                     2693260 non-null  float16       \n",
      " 150  NuWinPctHomeTeam                     2693260 non-null  float16       \n",
      " 151  NuScoreHomeTeam                      2693260 non-null  float16       \n",
      " 152  NuWinsAwayTeam                       2693260 non-null  float16       \n",
      " 153  NuLossesAwayTeam                     2693260 non-null  float16       \n",
      " 154  NuWinPctAwayTeam                     2693260 non-null  float16       \n",
      " 155  NuScoreAwayTeam                      2693260 non-null  float16       \n",
      " 156  CdPosition_1.0                       2693260 non-null  float16       \n",
      " 157  CdPosition_2.0                       2693260 non-null  float16       \n",
      " 158  CdPosition_3.0                       2693260 non-null  float16       \n",
      " 159  CdPosition_4.0                       2693260 non-null  float16       \n",
      " 160  CdPosition_5.0                       2693260 non-null  float16       \n",
      " 161  CdPosition_6.0                       2693260 non-null  float16       \n",
      " 162  CdPosition_7.0                       2693260 non-null  float16       \n",
      " 163  CdPosition_8.0                       2693260 non-null  float16       \n",
      " 164  CdPosition_9.0                       2693260 non-null  float16       \n",
      " 165  CdPosition_10.0                      2693260 non-null  float16       \n",
      " 166  CdPosition_11.0                      2693260 non-null  float16       \n",
      " 167  CdPosition_12.0                      2693260 non-null  float16       \n",
      " 168  CdGameType_A                         2693260 non-null  float16       \n",
      " 169  CdGameType_D                         2693260 non-null  float16       \n",
      " 170  CdGameType_F                         2693260 non-null  float16       \n",
      " 171  CdGameType_L                         2693260 non-null  float16       \n",
      " 172  CdGameType_R                         2693260 non-null  float16       \n",
      " 173  CdGameType_W                         2693260 non-null  float16       \n",
      " 174  CdGameState_F                        2693260 non-null  float16       \n",
      " 175  CdGameState_Completed Early          2693260 non-null  float16       \n",
      " 176  CdGameState_Final                    2693260 non-null  float16       \n",
      " 177  CdDoubleHeader_N                     2693260 non-null  float16       \n",
      " 178  CdDoubleHeader_S                     2693260 non-null  float16       \n",
      " 179  CdDoubleHeader_Y                     2693260 non-null  float16       \n",
      " 180  CdDayNight_day                       2693260 non-null  float16       \n",
      " 181  CdDayNight_night                     2693260 non-null  float16       \n",
      " 182  FlgWinnerHomeTeam_False              2693260 non-null  float16       \n",
      " 183  FlgWinnerHomeTeam_True               2693260 non-null  float16       \n",
      " 184  FlgWinnerAwayTeam_False              2693260 non-null  float16       \n",
      " 185  FlgWinnerAwayTeam_True               2693260 non-null  float16       \n",
      " 186  FlgTie_0.0                           2693260 non-null  float16       \n",
      "dtypes: datetime64[ns](1), float16(176), int16(2), int32(1), int8(4), object(3)\n",
      "memory usage: 1.0+ GB\n"
     ]
    }
   ],
   "source": [
    "df_train.info(max_cols = 190, show_counts = True)"
   ]
  }
 ],
 "metadata": {
  "kernelspec": {
   "display_name": "Python 3 (ipykernel)",
   "language": "python",
   "name": "python3"
  },
  "language_info": {
   "codemirror_mode": {
    "name": "ipython",
    "version": 3
   },
   "file_extension": ".py",
   "mimetype": "text/x-python",
   "name": "python",
   "nbconvert_exporter": "python",
   "pygments_lexer": "ipython3",
   "version": "3.9.7"
  }
 },
 "nbformat": 4,
 "nbformat_minor": 2
}
